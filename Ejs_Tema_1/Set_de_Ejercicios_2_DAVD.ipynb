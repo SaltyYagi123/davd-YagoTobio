{
 "cells": [
  {
   "cell_type": "markdown",
   "metadata": {},
   "source": [
    "# Ejercicio 1: Lectura y escritura de CSV\n",
    "\n",
    "A. Lee el fichero de airport.csv a partir de una ruta relativa o absoluta.\n",
    "\n",
    "B. Exporta ese fichero en diferentes formatos (json, excel).\n",
    "\n",
    "C. Crea una función que pueda leer cualquiera de los tres formatos indicándole, al menos, la ruta del fichero"
   ]
  },
  {
   "cell_type": "code",
   "execution_count": 7,
   "metadata": {},
   "outputs": [],
   "source": [
    "import csv\n",
    "import os\n",
    "import json\n",
    "import pandas as pd\n",
    "\n",
    "def open_csv(file_path):\n",
    "    return pd.read_csv(file_path)\n",
    "\n",
    "def export_json(file):\n",
    "    root, _ = os.path.splitext(file)\n",
    "    json_file_path = f\"{root}.json\"\n",
    "    with open(file, encoding='utf-8') as csv_file_handler:\n",
    "        csv_reader = csv.DictReader(csv_file_handler)\n",
    "        data = [row for row in csv_reader]\n",
    "\n",
    "    with open(json_file_path, 'w') as json_file: \n",
    "        json.dump(data, json_file, indent=4)\n",
    "\n",
    "def csv_to_excel(csv_file_path):\n",
    "    root, _ = os.path.splitext(csv_file_path)\n",
    "    excel_file_path = f\"{root}.xlsx\"\n",
    "    df = pd.read_csv(csv_file_path)\n",
    "    df.to_excel(excel_file_path, sheet_name='Sheet1', index=False)\n",
    "\n",
    "# C. Función para leer cualquiera de los tres formatos\n",
    "\n",
    "def read_file(file_path, sheet_name='Sheet1'):\n",
    "    root, ext = os.path.splitext(file_path)\n",
    "    \n",
    "    if ext == '.csv':\n",
    "        return pd.read_csv(file_path)\n",
    "    elif ext == '.json':\n",
    "        return pd.read_json(file_path)\n",
    "    elif ext == '.xlsx':\n",
    "        return pd.read_excel(file_path, sheet_name=sheet_name)\n",
    "    else:\n",
    "        return \"Unsupported file format\"\n",
    "\n",
    "\n",
    "file_path = 'airports.csv'\n",
    "df = open_csv(file_path)\n",
    "export_json(file_path)\n",
    "csv_to_excel(file_path)\n",
    "\n",
    "# Uso\n",
    "df_csv = read_file('airports.csv')\n",
    "df_json = read_file('airports.json')\n",
    "df_excel = read_file('airports.xlsx')"
   ]
  },
  {
   "cell_type": "markdown",
   "metadata": {},
   "source": [
    "# E2: Carga de fichero con variable categórica y crear modelo de clasificación\n",
    "\n",
    "A. Descarga de la librería sklearn el fichero de datos de load_breast_cancer.\n",
    "\n",
    "B. Pasa ese fichero a formato dataframe incluyendo el target\n",
    "\n",
    "C. Crea un modelo de clasificación usando la técnica que prefieras dentro de Sklearn.\n",
    "\n",
    "D. Evalúa el modelo."
   ]
  },
  {
   "cell_type": "code",
   "execution_count": 19,
   "metadata": {},
   "outputs": [
    {
     "ename": "KeyError",
     "evalue": "-1",
     "output_type": "error",
     "traceback": [
      "\u001b[0;31m---------------------------------------------------------------------------\u001b[0m",
      "\u001b[0;31mKeyError\u001b[0m                                  Traceback (most recent call last)",
      "File \u001b[0;32m/Library/Frameworks/Python.framework/Versions/3.11/lib/python3.11/site-packages/pandas/core/indexes/base.py:3790\u001b[0m, in \u001b[0;36mIndex.get_loc\u001b[0;34m(self, key)\u001b[0m\n\u001b[1;32m   3789\u001b[0m \u001b[39mtry\u001b[39;00m:\n\u001b[0;32m-> 3790\u001b[0m     \u001b[39mreturn\u001b[39;00m \u001b[39mself\u001b[39;49m\u001b[39m.\u001b[39;49m_engine\u001b[39m.\u001b[39;49mget_loc(casted_key)\n\u001b[1;32m   3791\u001b[0m \u001b[39mexcept\u001b[39;00m \u001b[39mKeyError\u001b[39;00m \u001b[39mas\u001b[39;00m err:\n",
      "File \u001b[0;32mindex.pyx:152\u001b[0m, in \u001b[0;36mpandas._libs.index.IndexEngine.get_loc\u001b[0;34m()\u001b[0m\n",
      "File \u001b[0;32mindex.pyx:181\u001b[0m, in \u001b[0;36mpandas._libs.index.IndexEngine.get_loc\u001b[0;34m()\u001b[0m\n",
      "File \u001b[0;32mpandas/_libs/hashtable_class_helper.pxi:7080\u001b[0m, in \u001b[0;36mpandas._libs.hashtable.PyObjectHashTable.get_item\u001b[0;34m()\u001b[0m\n",
      "File \u001b[0;32mpandas/_libs/hashtable_class_helper.pxi:7088\u001b[0m, in \u001b[0;36mpandas._libs.hashtable.PyObjectHashTable.get_item\u001b[0;34m()\u001b[0m\n",
      "\u001b[0;31mKeyError\u001b[0m: -1",
      "\nThe above exception was the direct cause of the following exception:\n",
      "\u001b[0;31mKeyError\u001b[0m                                  Traceback (most recent call last)",
      "\u001b[1;32m/Users/ytobio/Desktop/My stuff/ICAI/Desarrollo de Aplicaciones Visuales/Temario + Ejercicios/davd-YagoTobio/Ejs_Tema_1/Set_de_Ejercicios_2_DAVD.ipynb Cell 4\u001b[0m line \u001b[0;36m1\n\u001b[1;32m     <a href='vscode-notebook-cell:/Users/ytobio/Desktop/My%20stuff/ICAI/Desarrollo%20de%20Aplicaciones%20Visuales/Temario%20%2B%20Ejercicios/davd-YagoTobio/Ejs_Tema_1/Set_de_Ejercicios_2_DAVD.ipynb#W3sZmlsZQ%3D%3D?line=9'>10</a>\u001b[0m df[\u001b[39m'\u001b[39m\u001b[39mtarget\u001b[39m\u001b[39m'\u001b[39m]\u001b[39m=\u001b[39m dataset\u001b[39m.\u001b[39mtarget\n\u001b[1;32m     <a href='vscode-notebook-cell:/Users/ytobio/Desktop/My%20stuff/ICAI/Desarrollo%20de%20Aplicaciones%20Visuales/Temario%20%2B%20Ejercicios/davd-YagoTobio/Ejs_Tema_1/Set_de_Ejercicios_2_DAVD.ipynb#W3sZmlsZQ%3D%3D?line=11'>12</a>\u001b[0m \u001b[39m#print(df.head())\u001b[39;00m\n\u001b[1;32m     <a href='vscode-notebook-cell:/Users/ytobio/Desktop/My%20stuff/ICAI/Desarrollo%20de%20Aplicaciones%20Visuales/Temario%20%2B%20Ejercicios/davd-YagoTobio/Ejs_Tema_1/Set_de_Ejercicios_2_DAVD.ipynb#W3sZmlsZQ%3D%3D?line=12'>13</a>\u001b[0m \u001b[39m#print(df.columns)\u001b[39;00m\n\u001b[1;32m     <a href='vscode-notebook-cell:/Users/ytobio/Desktop/My%20stuff/ICAI/Desarrollo%20de%20Aplicaciones%20Visuales/Temario%20%2B%20Ejercicios/davd-YagoTobio/Ejs_Tema_1/Set_de_Ejercicios_2_DAVD.ipynb#W3sZmlsZQ%3D%3D?line=13'>14</a>\u001b[0m \n\u001b[1;32m     <a href='vscode-notebook-cell:/Users/ytobio/Desktop/My%20stuff/ICAI/Desarrollo%20de%20Aplicaciones%20Visuales/Temario%20%2B%20Ejercicios/davd-YagoTobio/Ejs_Tema_1/Set_de_Ejercicios_2_DAVD.ipynb#W3sZmlsZQ%3D%3D?line=14'>15</a>\u001b[0m \u001b[39m# Modelo de clasificación usando la técnica que prefieras\u001b[39;00m\n\u001b[0;32m---> <a href='vscode-notebook-cell:/Users/ytobio/Desktop/My%20stuff/ICAI/Desarrollo%20de%20Aplicaciones%20Visuales/Temario%20%2B%20Ejercicios/davd-YagoTobio/Ejs_Tema_1/Set_de_Ejercicios_2_DAVD.ipynb#W3sZmlsZQ%3D%3D?line=15'>16</a>\u001b[0m x, y \u001b[39m=\u001b[39m df[:\u001b[39m1\u001b[39m], df[\u001b[39m-\u001b[39;49m\u001b[39m1\u001b[39;49m]\n\u001b[1;32m     <a href='vscode-notebook-cell:/Users/ytobio/Desktop/My%20stuff/ICAI/Desarrollo%20de%20Aplicaciones%20Visuales/Temario%20%2B%20Ejercicios/davd-YagoTobio/Ejs_Tema_1/Set_de_Ejercicios_2_DAVD.ipynb#W3sZmlsZQ%3D%3D?line=16'>17</a>\u001b[0m \u001b[39mprint\u001b[39m(x\u001b[39m.\u001b[39mcolumns, y\u001b[39m.\u001b[39mcolumns)\n",
      "File \u001b[0;32m/Library/Frameworks/Python.framework/Versions/3.11/lib/python3.11/site-packages/pandas/core/frame.py:3896\u001b[0m, in \u001b[0;36mDataFrame.__getitem__\u001b[0;34m(self, key)\u001b[0m\n\u001b[1;32m   3894\u001b[0m \u001b[39mif\u001b[39;00m \u001b[39mself\u001b[39m\u001b[39m.\u001b[39mcolumns\u001b[39m.\u001b[39mnlevels \u001b[39m>\u001b[39m \u001b[39m1\u001b[39m:\n\u001b[1;32m   3895\u001b[0m     \u001b[39mreturn\u001b[39;00m \u001b[39mself\u001b[39m\u001b[39m.\u001b[39m_getitem_multilevel(key)\n\u001b[0;32m-> 3896\u001b[0m indexer \u001b[39m=\u001b[39m \u001b[39mself\u001b[39;49m\u001b[39m.\u001b[39;49mcolumns\u001b[39m.\u001b[39;49mget_loc(key)\n\u001b[1;32m   3897\u001b[0m \u001b[39mif\u001b[39;00m is_integer(indexer):\n\u001b[1;32m   3898\u001b[0m     indexer \u001b[39m=\u001b[39m [indexer]\n",
      "File \u001b[0;32m/Library/Frameworks/Python.framework/Versions/3.11/lib/python3.11/site-packages/pandas/core/indexes/base.py:3797\u001b[0m, in \u001b[0;36mIndex.get_loc\u001b[0;34m(self, key)\u001b[0m\n\u001b[1;32m   3792\u001b[0m     \u001b[39mif\u001b[39;00m \u001b[39misinstance\u001b[39m(casted_key, \u001b[39mslice\u001b[39m) \u001b[39mor\u001b[39;00m (\n\u001b[1;32m   3793\u001b[0m         \u001b[39misinstance\u001b[39m(casted_key, abc\u001b[39m.\u001b[39mIterable)\n\u001b[1;32m   3794\u001b[0m         \u001b[39mand\u001b[39;00m \u001b[39many\u001b[39m(\u001b[39misinstance\u001b[39m(x, \u001b[39mslice\u001b[39m) \u001b[39mfor\u001b[39;00m x \u001b[39min\u001b[39;00m casted_key)\n\u001b[1;32m   3795\u001b[0m     ):\n\u001b[1;32m   3796\u001b[0m         \u001b[39mraise\u001b[39;00m InvalidIndexError(key)\n\u001b[0;32m-> 3797\u001b[0m     \u001b[39mraise\u001b[39;00m \u001b[39mKeyError\u001b[39;00m(key) \u001b[39mfrom\u001b[39;00m \u001b[39merr\u001b[39;00m\n\u001b[1;32m   3798\u001b[0m \u001b[39mexcept\u001b[39;00m \u001b[39mTypeError\u001b[39;00m:\n\u001b[1;32m   3799\u001b[0m     \u001b[39m# If we have a listlike key, _check_indexing_error will raise\u001b[39;00m\n\u001b[1;32m   3800\u001b[0m     \u001b[39m#  InvalidIndexError. Otherwise we fall through and re-raise\u001b[39;00m\n\u001b[1;32m   3801\u001b[0m     \u001b[39m#  the TypeError.\u001b[39;00m\n\u001b[1;32m   3802\u001b[0m     \u001b[39mself\u001b[39m\u001b[39m.\u001b[39m_check_indexing_error(key)\n",
      "\u001b[0;31mKeyError\u001b[0m: -1"
     ]
    }
   ],
   "source": [
    "from sklearn.datasets import load_breast_cancer\n",
    "from sklearn.model_selection import train_test_split\n",
    "from sklearn.linear_model import LogisticRegression\n",
    "from sklearn.metrics import accuracy_score, confusion_matrix\n",
    "import pandas as pd \n",
    "\n",
    "dataset = load_breast_cancer()\n",
    "\n",
    "df = pd.DataFrame(dataset['data'], columns=dataset['feature_names'])\n",
    "df['target']= dataset.target\n",
    "\n",
    "#print(df.head())\n",
    "#print(df.columns)\n",
    "\n",
    "# Modelo de clasificación usando la técnica que prefieras\n",
    "t, y = df.iloc[: , :-1], df.iloc[-1]\n",
    "print(x.columns, y.columns)\n",
    "\n",
    "# Partimos los datos entre test y train \n",
    "\n"
   ]
  }
 ],
 "metadata": {
  "kernelspec": {
   "display_name": "Python 3",
   "language": "python",
   "name": "python3"
  },
  "language_info": {
   "codemirror_mode": {
    "name": "ipython",
    "version": 3
   },
   "file_extension": ".py",
   "mimetype": "text/x-python",
   "name": "python",
   "nbconvert_exporter": "python",
   "pygments_lexer": "ipython3",
   "version": "3.11.5"
  },
  "orig_nbformat": 4
 },
 "nbformat": 4,
 "nbformat_minor": 2
}
