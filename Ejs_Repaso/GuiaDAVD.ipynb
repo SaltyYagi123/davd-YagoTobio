{
 "cells": [
  {
   "cell_type": "markdown",
   "metadata": {},
   "source": [
    "# Guía preparación DAVD"
   ]
  },
  {
   "cell_type": "markdown",
   "metadata": {},
   "source": [
    "## Manipulación de Datos"
   ]
  },
  {
   "cell_type": "markdown",
   "metadata": {},
   "source": [
    "### Función"
   ]
  },
  {
   "cell_type": "code",
   "execution_count": null,
   "metadata": {},
   "outputs": [],
   "source": [
    "def add(a,b):\n",
    "    return a+b"
   ]
  },
  {
   "cell_type": "markdown",
   "metadata": {},
   "source": [
    "### Clases"
   ]
  },
  {
   "cell_type": "code",
   "execution_count": 6,
   "metadata": {},
   "outputs": [
    {
     "name": "stdout",
     "output_type": "stream",
     "text": [
      "Guau! Me llamo Milu\n"
     ]
    }
   ],
   "source": [
    "# Definimos una clase con el inicializador y un metodo. \n",
    "class Dog: \n",
    "    def __init__(self, nombre):\n",
    "        self.nombre = nombre\n",
    "    def ladrar(self):\n",
    "        print(f\"Guau! Me llamo {self.nombre}\")\n",
    "\n",
    "# Se crea una instancia con el valor del atributo\n",
    "perro  = Dog(\"Milu\")\n",
    "\n",
    "# Llamamos al metodo de ladrar\n",
    "perro.ladrar()"
   ]
  },
  {
   "cell_type": "markdown",
   "metadata": {},
   "source": [
    "### Pandas"
   ]
  },
  {
   "cell_type": "code",
   "execution_count": 7,
   "metadata": {},
   "outputs": [],
   "source": [
    "# Import pandas\n",
    "import pandas as pd\n",
    "\n",
    "# Create a DataFrame\n",
    "df = pd.DataFrame({\n",
    "    'ID': [1, 2, 3, 4, 5, 6],\n",
    "    'Category': ['A', 'B', 'A', 'A', 'B', 'C'],\n",
    "    'Value1': [10, 20, 30, 40, 50, 60],\n",
    "    'Value2': [100, 200, 100, 100, 200, 300]\n",
    "})\n"
   ]
  },
  {
   "cell_type": "markdown",
   "metadata": {},
   "source": [
    "#### Group By (Agrupar)"
   ]
  },
  {
   "cell_type": "code",
   "execution_count": 8,
   "metadata": {},
   "outputs": [
    {
     "name": "stdout",
     "output_type": "stream",
     "text": [
      "Grouped Data:\n",
      "          ID  Value1  Value2\n",
      "Category                    \n",
      "A          8      80     300\n",
      "B          7      70     400\n",
      "C          6      60     300\n"
     ]
    }
   ],
   "source": [
    "# Agrupamos los datos por la columna de Categoría y añadimos la columna 'Value1' y 'Value2'\n",
    "grouped = df.groupby('Category').sum()\n",
    "print(\"Grouped Data:\")\n",
    "print(grouped)"
   ]
  },
  {
   "cell_type": "markdown",
   "metadata": {},
   "source": [
    "#### Filtrado"
   ]
  },
  {
   "cell_type": "code",
   "execution_count": 9,
   "metadata": {},
   "outputs": [
    {
     "name": "stdout",
     "output_type": "stream",
     "text": [
      "Filtered Data:\n",
      "   ID Category  Value1  Value2\n",
      "2   3        A      30     100\n",
      "3   4        A      40     100\n",
      "4   5        B      50     200\n",
      "5   6        C      60     300\n"
     ]
    }
   ],
   "source": [
    "# Filtramos las filas donde 'Value1' es mayor a 20\n",
    "filtered = df[df['Value1']>20]\n",
    "print(\"Filtered Data:\")\n",
    "print(filtered)"
   ]
  },
  {
   "cell_type": "markdown",
   "metadata": {},
   "source": [
    "#### Wide to Long - la transformación de \"wide\" a \"long\" en un DataFrame reorganiza los datos de modo que cada fila representa una sola medición para un sujeto, haciendo la tabla más \"larga\" en lugar de \"ancha\"."
   ]
  },
  {
   "cell_type": "code",
   "execution_count": 10,
   "metadata": {},
   "outputs": [
    {
     "name": "stdout",
     "output_type": "stream",
     "text": [
      "Melted Data:\n",
      "    ID Category variable  value\n",
      "0    1        A   Value1     10\n",
      "1    2        B   Value1     20\n",
      "2    3        A   Value1     30\n",
      "3    4        A   Value1     40\n",
      "4    5        B   Value1     50\n",
      "5    6        C   Value1     60\n",
      "6    1        A   Value2    100\n",
      "7    2        B   Value2    200\n",
      "8    3        A   Value2    100\n",
      "9    4        A   Value2    100\n",
      "10   5        B   Value2    200\n",
      "11   6        C   Value2    300\n"
     ]
    }
   ],
   "source": [
    "# Convertimos el DataFrame de Wide a long. \n",
    "melted = pd.melt(df, id_vars=['ID', 'Category'], value_vars=['Value1', 'Value2'])\n",
    "print(\"Melted Data:\")\n",
    "print(melted)"
   ]
  },
  {
   "cell_type": "markdown",
   "metadata": {},
   "source": [
    "## Modelado"
   ]
  },
  {
   "cell_type": "markdown",
   "metadata": {},
   "source": [
    "### Leer un DataFrame"
   ]
  },
  {
   "cell_type": "code",
   "execution_count": null,
   "metadata": {},
   "outputs": [],
   "source": [
    "# Import pandas y leer un csv para meterlo en un df \n",
    "import pandas as pd \n",
    "df = pd.read_csv('data.csv')"
   ]
  },
  {
   "cell_type": "markdown",
   "metadata": {},
   "source": [
    "### Modelo"
   ]
  },
  {
   "cell_type": "markdown",
   "metadata": {},
   "source": [
    "#### Regresión"
   ]
  },
  {
   "cell_type": "code",
   "execution_count": null,
   "metadata": {},
   "outputs": [],
   "source": [
    "# Import LinearRegression y encajar un modelo \n",
    "from sklearn.linear_model import LinearRegression\n",
    "model = LinearRegression().fit(X,y)"
   ]
  },
  {
   "cell_type": "markdown",
   "metadata": {},
   "source": [
    "#### Categorico"
   ]
  },
  {
   "cell_type": "code",
   "execution_count": null,
   "metadata": {},
   "outputs": [],
   "source": [
    "# Import RandomForestClassifier y encajar el modelo \n",
    "from sklearn.ensemble import RandomForestClassifier\n",
    "model = RandomForestClassifier().fit(X,y)"
   ]
  },
  {
   "cell_type": "markdown",
   "metadata": {},
   "source": [
    "#### Coeficientes"
   ]
  },
  {
   "cell_type": "code",
   "execution_count": null,
   "metadata": {},
   "outputs": [],
   "source": [
    "# Obtener los coeficientes del modelo entrenado \n",
    "model.coef_"
   ]
  },
  {
   "cell_type": "markdown",
   "metadata": {},
   "source": [
    "#### Minimización "
   ]
  },
  {
   "cell_type": "code",
   "execution_count": 11,
   "metadata": {},
   "outputs": [
    {
     "name": "stdout",
     "output_type": "stream",
     "text": [
      "The minimum value is at x = -2.00000001888464, and the function value at this point is 0.0.\n"
     ]
    }
   ],
   "source": [
    "# Import the minimize function from scipy.optimize\n",
    "from scipy.optimize import minimize\n",
    "\n",
    "# Define the function to minimize\n",
    "def fun(x):\n",
    "    return x ** 2 + 4 * x + 4\n",
    "\n",
    "# Initial guess for x\n",
    "x0 = [0]\n",
    "\n",
    "# Perform minimization\n",
    "result = minimize(fun, x0)\n",
    "\n",
    "# Print the result\n",
    "print(f\"The minimum value is at x = {result.x[0]}, and the function value at this point is {result.fun}.\")"
   ]
  },
  {
   "cell_type": "markdown",
   "metadata": {},
   "source": [
    "Múltiples gráficas en una sola (subplots) seguro lo pide"
   ]
  }
 ],
 "metadata": {
  "kernelspec": {
   "display_name": "Python 3",
   "language": "python",
   "name": "python3"
  },
  "language_info": {
   "codemirror_mode": {
    "name": "ipython",
    "version": 3
   },
   "file_extension": ".py",
   "mimetype": "text/x-python",
   "name": "python",
   "nbconvert_exporter": "python",
   "pygments_lexer": "ipython3",
   "version": "3.11.5"
  },
  "orig_nbformat": 4
 },
 "nbformat": 4,
 "nbformat_minor": 2
}
