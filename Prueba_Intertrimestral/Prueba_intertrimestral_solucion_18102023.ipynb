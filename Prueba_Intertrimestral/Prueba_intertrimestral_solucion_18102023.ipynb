{
  "cells": [
    {
      "cell_type": "markdown",
      "metadata": {
        "id": "z-TqRFiHp6tP"
      },
      "source": [
        "# Prueba Intertrimestral\n",
        "\n",
        "**Nombre:**\n",
        "\n",
        "**Apellidos:**\n",
        "\n",
        "**Tiempo de la prueba: 2 Horas**\n",
        "\n",
        "**Asignatura:** Desarrollo de Aplicaciones para la Visualización de Datos\n",
        "\n",
        "**Fecha:** 18 de octubre de 2023\n",
        "\n",
        "**Instrucciones:**\n",
        "\n",
        "- Escribe código limpio y autoexplicativo.\n",
        "\n",
        "- Se eliminará 0.5 puntos por usar Seaborn o Matplotlib.\n",
        "\n",
        "- Se pueden utilizar los materiales de clase.\n",
        "\n",
        "- Se puede utilizar internet para búsqueda de dudas y documentación.\n",
        "\n",
        "- No se puede utilizar ningún tipo de LLM.\n",
        "\n",
        "- No se puede utilizar mensajería instantánea.\n",
        "\n",
        "- Imprime una versión en PDF del notebook y envialo a dmartincorral@icai.comillas.edu\n",
        "\n",
        "\n",
        "## Librerías"
      ]
    },
    {
      "cell_type": "code",
      "execution_count": 2,
      "metadata": {
        "id": "QzMuL5s8p_Gz"
      },
      "outputs": [],
      "source": [
        "import pandas as pd\n",
        "import numpy as np\n",
        "import sklearn.datasets\n",
        "\n",
        "import plotly.express as px\n",
        "import plotly.graph_objects as go\n",
        "\n",
        "from sklearn.model_selection import train_test_split\n",
        "from sklearn.linear_model import LinearRegression\n",
        "from sklearn.ensemble import RandomForestRegressor\n",
        "from sklearn.metrics import (\n",
        "    r2_score,\n",
        "    mean_absolute_error,\n",
        "    mean_squared_error,\n",
        "    classification_report,\n",
        "    confusion_matrix\n",
        ")\n",
        "from sklearn.pipeline import Pipeline\n",
        "from sklearn.preprocessing import StandardScaler\n",
        "from sklearn.linear_model import SGDClassifier, LogisticRegression"
      ]
    },
    {
      "cell_type": "markdown",
      "metadata": {
        "id": "9S08KFXap_lQ"
      },
      "source": [
        "## Ejercicio 1 (2 puntos):\n",
        "\n",
        "a) Crea una función que calcule y devuelva el factorial de un número entero. **(0.6 puntos)**\n",
        "\n",
        "b) Crea una función que verifique si un número es primo o no. **(0.6 puntos)**\n",
        "\n",
        "c) Muestra en un dataframe los 50 primeros números positivos, si es primo y su factorial utilizando las funciones anteriores. **(0.6 puntos)**\n",
        "\n",
        "d) ¿Cómo se podría programar en una clase las tres operaciones anteriores? **(0.2 puntos)**"
      ]
    },
    {
      "cell_type": "markdown",
      "metadata": {
        "id": "Ois_rGQHqHOb"
      },
      "source": [
        "a) Crea una función que calcule y devuelva el factorial de un número entero. **(0.6 puntos)**"
      ]
    },
    {
      "cell_type": "code",
      "execution_count": 3,
      "metadata": {
        "colab": {
          "base_uri": "https://localhost:8080/"
        },
        "id": "aYF0eJtkqKUd",
        "outputId": "340563bf-da2b-4909-fa78-8b3774dcb9ef"
      },
      "outputs": [
        {
          "name": "stdout",
          "output_type": "stream",
          "text": [
            "None\n",
            "None\n",
            "1\n",
            "6\n"
          ]
        }
      ],
      "source": [
        "def fact(n):\n",
        "  fac = None\n",
        "  if isinstance(n, int) and n >= 0:\n",
        "    fac = 1\n",
        "    if n > 0:\n",
        "      for i in range(1, n + 1):\n",
        "        fac = fac*i\n",
        "  return fac\n",
        "\n",
        "print(fact(-1))\n",
        "print(fact(1.2))\n",
        "print(fact(0))\n",
        "print(fact(3))"
      ]
    },
    {
      "cell_type": "markdown",
      "metadata": {
        "id": "B1xB6Luxr7M3"
      },
      "source": [
        "b) Crea una función que verifique si un número es primo o no. **(0.6 puntos)**\n"
      ]
    },
    {
      "cell_type": "code",
      "execution_count": 4,
      "metadata": {
        "colab": {
          "base_uri": "https://localhost:8080/"
        },
        "id": "Wj3CRLg1r9X3",
        "outputId": "1c144f2d-d013-47cd-a885-ae3bd5c1065c"
      },
      "outputs": [
        {
          "name": "stdout",
          "output_type": "stream",
          "text": [
            "True\n",
            "False\n"
          ]
        }
      ],
      "source": [
        "def even(n):\n",
        "  return True if (n % 2) == 0 else False\n",
        "\n",
        "print(even(10))\n",
        "print(even(3))"
      ]
    },
    {
      "cell_type": "markdown",
      "metadata": {
        "id": "G_UKqniasaic"
      },
      "source": [
        "c) Muestra en un dataframe los 50 primeros números positivos, si es primo y su factorial utilizando las funciones anteriores. **(0.6 puntos)**"
      ]
    },
    {
      "cell_type": "code",
      "execution_count": 5,
      "metadata": {
        "colab": {
          "base_uri": "https://localhost:8080/",
          "height": 224
        },
        "id": "e91kJEpisZSy",
        "outputId": "6beb0279-b4f4-44f4-a122-b0ce20e5787a"
      },
      "outputs": [
        {
          "name": "stdout",
          "output_type": "stream",
          "text": [
            "(50, 3)\n"
          ]
        },
        {
          "data": {
            "text/html": [
              "<div>\n",
              "<style scoped>\n",
              "    .dataframe tbody tr th:only-of-type {\n",
              "        vertical-align: middle;\n",
              "    }\n",
              "\n",
              "    .dataframe tbody tr th {\n",
              "        vertical-align: top;\n",
              "    }\n",
              "\n",
              "    .dataframe thead th {\n",
              "        text-align: right;\n",
              "    }\n",
              "</style>\n",
              "<table border=\"1\" class=\"dataframe\">\n",
              "  <thead>\n",
              "    <tr style=\"text-align: right;\">\n",
              "      <th></th>\n",
              "      <th>n</th>\n",
              "      <th>even</th>\n",
              "      <th>fact</th>\n",
              "    </tr>\n",
              "  </thead>\n",
              "  <tbody>\n",
              "    <tr>\n",
              "      <th>1</th>\n",
              "      <td>1</td>\n",
              "      <td>False</td>\n",
              "      <td>1</td>\n",
              "    </tr>\n",
              "    <tr>\n",
              "      <th>2</th>\n",
              "      <td>2</td>\n",
              "      <td>True</td>\n",
              "      <td>2</td>\n",
              "    </tr>\n",
              "    <tr>\n",
              "      <th>3</th>\n",
              "      <td>3</td>\n",
              "      <td>False</td>\n",
              "      <td>6</td>\n",
              "    </tr>\n",
              "    <tr>\n",
              "      <th>4</th>\n",
              "      <td>4</td>\n",
              "      <td>True</td>\n",
              "      <td>24</td>\n",
              "    </tr>\n",
              "    <tr>\n",
              "      <th>5</th>\n",
              "      <td>5</td>\n",
              "      <td>False</td>\n",
              "      <td>120</td>\n",
              "    </tr>\n",
              "  </tbody>\n",
              "</table>\n",
              "</div>"
            ],
            "text/plain": [
              "   n   even fact\n",
              "1  1  False    1\n",
              "2  2   True    2\n",
              "3  3  False    6\n",
              "4  4   True   24\n",
              "5  5  False  120"
            ]
          },
          "execution_count": 5,
          "metadata": {},
          "output_type": "execute_result"
        }
      ],
      "source": [
        "df = pd.DataFrame(columns=['n', 'even', 'fact'])\n",
        "\n",
        "for i in range(1, 51):\n",
        "  df.loc[i] = [i, even(i), fact(i)]\n",
        "\n",
        "print(df.shape)\n",
        "df.head()"
      ]
    },
    {
      "cell_type": "markdown",
      "metadata": {
        "id": "MBO9N7Tmt9OC"
      },
      "source": [
        "d) ¿Cómo se podría programar en una clase las tres operaciones anteriores? **(0.2 puntos)**"
      ]
    },
    {
      "cell_type": "code",
      "execution_count": 6,
      "metadata": {
        "colab": {
          "base_uri": "https://localhost:8080/",
          "height": 380
        },
        "id": "DT-qfbIZt_jC",
        "outputId": "4299fe5c-cbca-437f-911d-8283968d52b7"
      },
      "outputs": [
        {
          "name": "stdout",
          "output_type": "stream",
          "text": [
            "(10, 3)\n"
          ]
        },
        {
          "data": {
            "text/html": [
              "<div>\n",
              "<style scoped>\n",
              "    .dataframe tbody tr th:only-of-type {\n",
              "        vertical-align: middle;\n",
              "    }\n",
              "\n",
              "    .dataframe tbody tr th {\n",
              "        vertical-align: top;\n",
              "    }\n",
              "\n",
              "    .dataframe thead th {\n",
              "        text-align: right;\n",
              "    }\n",
              "</style>\n",
              "<table border=\"1\" class=\"dataframe\">\n",
              "  <thead>\n",
              "    <tr style=\"text-align: right;\">\n",
              "      <th></th>\n",
              "      <th>n</th>\n",
              "      <th>even</th>\n",
              "      <th>fact</th>\n",
              "    </tr>\n",
              "  </thead>\n",
              "  <tbody>\n",
              "    <tr>\n",
              "      <th>-5</th>\n",
              "      <td>-5</td>\n",
              "      <td>False</td>\n",
              "      <td>None</td>\n",
              "    </tr>\n",
              "    <tr>\n",
              "      <th>-4</th>\n",
              "      <td>-4</td>\n",
              "      <td>True</td>\n",
              "      <td>None</td>\n",
              "    </tr>\n",
              "    <tr>\n",
              "      <th>-3</th>\n",
              "      <td>-3</td>\n",
              "      <td>False</td>\n",
              "      <td>None</td>\n",
              "    </tr>\n",
              "    <tr>\n",
              "      <th>-2</th>\n",
              "      <td>-2</td>\n",
              "      <td>True</td>\n",
              "      <td>None</td>\n",
              "    </tr>\n",
              "    <tr>\n",
              "      <th>-1</th>\n",
              "      <td>-1</td>\n",
              "      <td>False</td>\n",
              "      <td>None</td>\n",
              "    </tr>\n",
              "    <tr>\n",
              "      <th>0</th>\n",
              "      <td>0</td>\n",
              "      <td>True</td>\n",
              "      <td>1</td>\n",
              "    </tr>\n",
              "    <tr>\n",
              "      <th>1</th>\n",
              "      <td>1</td>\n",
              "      <td>False</td>\n",
              "      <td>1</td>\n",
              "    </tr>\n",
              "    <tr>\n",
              "      <th>2</th>\n",
              "      <td>2</td>\n",
              "      <td>True</td>\n",
              "      <td>2</td>\n",
              "    </tr>\n",
              "    <tr>\n",
              "      <th>3</th>\n",
              "      <td>3</td>\n",
              "      <td>False</td>\n",
              "      <td>6</td>\n",
              "    </tr>\n",
              "    <tr>\n",
              "      <th>4</th>\n",
              "      <td>4</td>\n",
              "      <td>True</td>\n",
              "      <td>24</td>\n",
              "    </tr>\n",
              "  </tbody>\n",
              "</table>\n",
              "</div>"
            ],
            "text/plain": [
              "    n   even  fact\n",
              "-5 -5  False  None\n",
              "-4 -4   True  None\n",
              "-3 -3  False  None\n",
              "-2 -2   True  None\n",
              "-1 -1  False  None\n",
              " 0  0   True     1\n",
              " 1  1  False     1\n",
              " 2  2   True     2\n",
              " 3  3  False     6\n",
              " 4  4   True    24"
            ]
          },
          "execution_count": 6,
          "metadata": {},
          "output_type": "execute_result"
        }
      ],
      "source": [
        "class data():\n",
        "\n",
        "  def __init__(self):\n",
        "    df = pd.DataFrame(columns=['n', 'even', 'fact'])\n",
        "    self.df = df\n",
        "    self.fac = None\n",
        "\n",
        "  def fact(self, n):\n",
        "    fac = self.fac\n",
        "    if isinstance(n, int) and n >= 0:\n",
        "      fac = 1\n",
        "      if n > 0:\n",
        "        for i in range(1, n + 1):\n",
        "          fac = fac*i\n",
        "    return fac\n",
        "\n",
        "  def even(self, n):\n",
        "    return True if (n % 2) == 0 else False\n",
        "\n",
        "  def run(self, start, end):\n",
        "    for i in range(start, end):\n",
        "      self.df.loc[i] = [i, self.even(i), self.fact(i)]\n",
        "    return self.df\n",
        "\n",
        "\n",
        "d = data()\n",
        "df = d.run(-5, 5)\n",
        "print(df.shape)\n",
        "df.head(10)"
      ]
    },
    {
      "cell_type": "markdown",
      "metadata": {
        "id": "MQnmK9rVvl34"
      },
      "source": [
        "## Ejercicio 2 (4 puntos):\n",
        "\n",
        "a) Extrae de sklearn el conjunto de datos __California Housing dataset__\n",
        " y transfórmalo a dataframe de pandas **(0.25 puntos)**\n",
        "\n",
        "b) Construye una función que muestra la estructura del dataset, el número de NAs, tipos de variables y estadísticas básicas de cada una de las variables. **(0.5 puntos)**\n",
        "\n",
        "c) Construye una __Regresión lineal__ y un __Random forest__ que predigan el __Median house value__ según los datos disponibles. **(0.75 puntos)**\n",
        "\n",
        "d) Visualiza cuales son las variables (coeficientes) más importantes en cada uno de los modelos. **(1.25 puntos)**\n",
        "\n",
        "e) Decide a través de las métricas que consideres oportunas, cuál de los dos modelos es mejor, por qué y explica el proceso que has realizado para responder en los puntos anteriores. **(1.25 puntos)**"
      ]
    },
    {
      "cell_type": "markdown",
      "metadata": {
        "id": "vRocs8oMvmw-"
      },
      "source": [
        "a) Extrae de sklearn el conjunto de datos __California Housing dataset__\n",
        " y transfórmalo a dataframe de pandas **(0.25 puntos)**"
      ]
    },
    {
      "cell_type": "code",
      "execution_count": 7,
      "metadata": {
        "colab": {
          "base_uri": "https://localhost:8080/"
        },
        "id": "MAoe2-y5vptr",
        "outputId": "57628564-61e6-42d9-da53-df54e4779287"
      },
      "outputs": [
        {
          "name": "stdout",
          "output_type": "stream",
          "text": [
            "   Unnamed: 0.5  Unnamed: 0.4  Unnamed: 0.3  Unnamed: 0.2  Unnamed: 0.1  \\\n",
            "0             0             0             0             0             0   \n",
            "1             1             1             1             1             1   \n",
            "2             2             2             2             2             2   \n",
            "3             3             3             3             3             3   \n",
            "4             4             4             4             4             4   \n",
            "\n",
            "   Unnamed: 0  MedInc  HouseAge  AveRooms  AveBedrms  Population  AveOccup  \\\n",
            "0           0  8.3252      41.0  6.984127   1.023810       322.0  2.555556   \n",
            "1           1  8.3014      21.0  6.238137   0.971880      2401.0  2.109842   \n",
            "2           2  7.2574      52.0  8.288136   1.073446       496.0  2.802260   \n",
            "3           3  5.6431      52.0  5.817352   1.073059       558.0  2.547945   \n",
            "4           4  3.8462      52.0  6.281853   1.081081       565.0  2.181467   \n",
            "\n",
            "   Latitude  Longitude  target  \n",
            "0     37.88    -122.23   4.526  \n",
            "1     37.86    -122.22   3.585  \n",
            "2     37.85    -122.24   3.521  \n",
            "3     37.85    -122.25   3.413  \n",
            "4     37.85    -122.25   3.422  \n"
          ]
        }
      ],
      "source": [
        "\n",
        "df = pd.read_csv(\"fetch_california_housing.csv\")\n",
        "\n",
        "df.to_csv(\"fetch_california_housing.csv\")\n",
        "\n",
        "print(df.head())"
      ]
    },
    {
      "cell_type": "markdown",
      "metadata": {
        "id": "nuRY28EWwKR-"
      },
      "source": [
        "b) Construye una función que muestra la estructura del dataset, el número de NAs, tipos de variables y estadísticas básicas de cada una de las variables. **(0.5 puntos)**\n"
      ]
    },
    {
      "cell_type": "code",
      "execution_count": 8,
      "metadata": {
        "colab": {
          "base_uri": "https://localhost:8080/"
        },
        "id": "3w1ITzNwwSDW",
        "outputId": "5117d628-4f04-474a-b930-d1995c52f0fa"
      },
      "outputs": [
        {
          "name": "stdout",
          "output_type": "stream",
          "text": [
            "(20640, 15)\n",
            "Unnamed: 0.5    0\n",
            "Unnamed: 0.4    0\n",
            "Unnamed: 0.3    0\n",
            "Unnamed: 0.2    0\n",
            "Unnamed: 0.1    0\n",
            "Unnamed: 0      0\n",
            "MedInc          0\n",
            "HouseAge        0\n",
            "AveRooms        0\n",
            "AveBedrms       0\n",
            "Population      0\n",
            "AveOccup        0\n",
            "Latitude        0\n",
            "Longitude       0\n",
            "target          0\n",
            "dtype: int64\n",
            "Unnamed: 0.5      int64\n",
            "Unnamed: 0.4      int64\n",
            "Unnamed: 0.3      int64\n",
            "Unnamed: 0.2      int64\n",
            "Unnamed: 0.1      int64\n",
            "Unnamed: 0        int64\n",
            "MedInc          float64\n",
            "HouseAge        float64\n",
            "AveRooms        float64\n",
            "AveBedrms       float64\n",
            "Population      float64\n",
            "AveOccup        float64\n",
            "Latitude        float64\n",
            "Longitude       float64\n",
            "target          float64\n",
            "dtype: object\n",
            "       Unnamed: 0.5  Unnamed: 0.4  Unnamed: 0.3  Unnamed: 0.2  Unnamed: 0.1  \\\n",
            "count  20640.000000  20640.000000  20640.000000  20640.000000  20640.000000   \n",
            "mean   10319.500000  10319.500000  10319.500000  10319.500000  10319.500000   \n",
            "std     5958.399114   5958.399114   5958.399114   5958.399114   5958.399114   \n",
            "min        0.000000      0.000000      0.000000      0.000000      0.000000   \n",
            "25%     5159.750000   5159.750000   5159.750000   5159.750000   5159.750000   \n",
            "50%    10319.500000  10319.500000  10319.500000  10319.500000  10319.500000   \n",
            "75%    15479.250000  15479.250000  15479.250000  15479.250000  15479.250000   \n",
            "max    20639.000000  20639.000000  20639.000000  20639.000000  20639.000000   \n",
            "\n",
            "         Unnamed: 0        MedInc      HouseAge      AveRooms     AveBedrms  \\\n",
            "count  20640.000000  20640.000000  20640.000000  20640.000000  20640.000000   \n",
            "mean   10319.500000      3.870671     28.639486      5.429000      1.096675   \n",
            "std     5958.399114      1.899822     12.585558      2.474173      0.473911   \n",
            "min        0.000000      0.499900      1.000000      0.846154      0.333333   \n",
            "25%     5159.750000      2.563400     18.000000      4.440716      1.006079   \n",
            "50%    10319.500000      3.534800     29.000000      5.229129      1.048780   \n",
            "75%    15479.250000      4.743250     37.000000      6.052381      1.099526   \n",
            "max    20639.000000     15.000100     52.000000    141.909091     34.066667   \n",
            "\n",
            "         Population      AveOccup      Latitude     Longitude        target  \n",
            "count  20640.000000  20640.000000  20640.000000  20640.000000  20640.000000  \n",
            "mean    1425.476744      3.070655     35.631861   -119.569704      2.068558  \n",
            "std     1132.462122     10.386050      2.135952      2.003532      1.153956  \n",
            "min        3.000000      0.692308     32.540000   -124.350000      0.149990  \n",
            "25%      787.000000      2.429741     33.930000   -121.800000      1.196000  \n",
            "50%     1166.000000      2.818116     34.260000   -118.490000      1.797000  \n",
            "75%     1725.000000      3.282261     37.710000   -118.010000      2.647250  \n",
            "max    35682.000000   1243.333333     41.950000   -114.310000      5.000010  \n"
          ]
        }
      ],
      "source": [
        "def basicStats(df):\n",
        "  print(df.shape)\n",
        "  print(df.isna().sum())\n",
        "  print(df.dtypes)\n",
        "  print(df.describe(include='all'))\n",
        "\n",
        "basicStats(df)"
      ]
    },
    {
      "cell_type": "markdown",
      "metadata": {
        "id": "tBcrvETMwMxl"
      },
      "source": [
        "\n",
        "c) Construye una __Regresión lineal__ y un __Random forest__ que predigan el __Median house value__ según los datos disponibles. **(0.75 puntos)**\n"
      ]
    },
    {
      "cell_type": "code",
      "execution_count": 9,
      "metadata": {
        "colab": {
          "base_uri": "https://localhost:8080/"
        },
        "id": "wfldBBlKxPCx",
        "outputId": "a4b33e44-fd18-403b-f6f4-3ffaa3f2361f"
      },
      "outputs": [
        {
          "name": "stdout",
          "output_type": "stream",
          "text": [
            "Variance explanation R^2 = 0.61\n"
          ]
        },
        {
          "name": "stdout",
          "output_type": "stream",
          "text": [
            "Variance explanation R^2 = 0.95\n"
          ]
        }
      ],
      "source": [
        "X = df.loc[:, df.columns!= 'target']\n",
        "y = df['target']\n",
        "\n",
        "X_train, X_test, y_train, y_test = train_test_split(X, y, test_size = 0.2, random_state = 123)\n",
        "\n",
        "lm = Pipeline(steps=[\n",
        "  ('scaler', StandardScaler()),\n",
        "  (\"lm\", LinearRegression()),\n",
        "])\n",
        "\n",
        "lm = lm.fit(X_train, y_train)\n",
        "\n",
        "print(\"Variance explanation R^2 = {}\".format(round(lm.score(X, y),2)))\n",
        "\n",
        "rf = RandomForestRegressor().fit(X_train, y_train)\n",
        "\n",
        "rf = Pipeline(steps=[\n",
        "  ('scaler', StandardScaler()),\n",
        "  (\"rf\", RandomForestRegressor()),\n",
        "])\n",
        "\n",
        "rf = rf.fit(X_train, y_train)\n",
        "\n",
        "print(\"Variance explanation R^2 = {}\".format(round(rf.score(X, y),2)))\n"
      ]
    },
    {
      "cell_type": "markdown",
      "metadata": {
        "id": "vC1mW0qryaps"
      },
      "source": [
        "d) Visualiza cuales son las variables (coeficientes) más importantes en cada uno de los modelos. **(1.25 puntos)**\n"
      ]
    },
    {
      "cell_type": "code",
      "execution_count": 10,
      "metadata": {
        "colab": {
          "base_uri": "https://localhost:8080/",
          "height": 1000
        },
        "id": "bxncZWCYyj5M",
        "outputId": "a088340e-228d-4665-8474-3d47ae9159ca"
      },
      "outputs": [
        {
          "name": "stdout",
          "output_type": "stream",
          "text": [
            "[-3.23554379e+12  6.81514868e+11  4.98222524e+11  6.20856687e+11\n",
            "  6.25713144e+11  8.09236561e+11  8.38728248e-01  1.23825852e-01\n",
            " -2.89462798e-01  3.24876614e-01 -6.00741496e-03 -4.23922616e-02\n",
            " -8.76666148e-01 -8.38404771e-01]\n"
          ]
        },
        {
          "data": {
            "application/vnd.plotly.v1+json": {
              "config": {
                "plotlyServerURL": "https://plot.ly"
              },
              "data": [
                {
                  "name": "Coeficientes",
                  "orientation": "h",
                  "type": "bar",
                  "x": [
                    -3235543785177.266,
                    681514868081.9075,
                    498222524450.6568,
                    620856686774.5344,
                    625713144392.979,
                    809236561477.229,
                    0.8387282475474649,
                    0.12382585197916823,
                    -0.28946279785964624,
                    0.32487661448265587,
                    -0.0060074149639904465,
                    -0.04239226164520867,
                    -0.8766661481449365,
                    -0.8384047706609655
                  ],
                  "y": [
                    "Unnamed: 0.5",
                    "Unnamed: 0.4",
                    "Unnamed: 0.3",
                    "Unnamed: 0.2",
                    "Unnamed: 0.1",
                    "Unnamed: 0",
                    "MedInc",
                    "HouseAge",
                    "AveRooms",
                    "AveBedrms",
                    "Population",
                    "AveOccup",
                    "Latitude",
                    "Longitude"
                  ]
                }
              ],
              "layout": {
                "template": {
                  "data": {
                    "bar": [
                      {
                        "error_x": {
                          "color": "#2a3f5f"
                        },
                        "error_y": {
                          "color": "#2a3f5f"
                        },
                        "marker": {
                          "line": {
                            "color": "#E5ECF6",
                            "width": 0.5
                          },
                          "pattern": {
                            "fillmode": "overlay",
                            "size": 10,
                            "solidity": 0.2
                          }
                        },
                        "type": "bar"
                      }
                    ],
                    "barpolar": [
                      {
                        "marker": {
                          "line": {
                            "color": "#E5ECF6",
                            "width": 0.5
                          },
                          "pattern": {
                            "fillmode": "overlay",
                            "size": 10,
                            "solidity": 0.2
                          }
                        },
                        "type": "barpolar"
                      }
                    ],
                    "carpet": [
                      {
                        "aaxis": {
                          "endlinecolor": "#2a3f5f",
                          "gridcolor": "white",
                          "linecolor": "white",
                          "minorgridcolor": "white",
                          "startlinecolor": "#2a3f5f"
                        },
                        "baxis": {
                          "endlinecolor": "#2a3f5f",
                          "gridcolor": "white",
                          "linecolor": "white",
                          "minorgridcolor": "white",
                          "startlinecolor": "#2a3f5f"
                        },
                        "type": "carpet"
                      }
                    ],
                    "choropleth": [
                      {
                        "colorbar": {
                          "outlinewidth": 0,
                          "ticks": ""
                        },
                        "type": "choropleth"
                      }
                    ],
                    "contour": [
                      {
                        "colorbar": {
                          "outlinewidth": 0,
                          "ticks": ""
                        },
                        "colorscale": [
                          [
                            0,
                            "#0d0887"
                          ],
                          [
                            0.1111111111111111,
                            "#46039f"
                          ],
                          [
                            0.2222222222222222,
                            "#7201a8"
                          ],
                          [
                            0.3333333333333333,
                            "#9c179e"
                          ],
                          [
                            0.4444444444444444,
                            "#bd3786"
                          ],
                          [
                            0.5555555555555556,
                            "#d8576b"
                          ],
                          [
                            0.6666666666666666,
                            "#ed7953"
                          ],
                          [
                            0.7777777777777778,
                            "#fb9f3a"
                          ],
                          [
                            0.8888888888888888,
                            "#fdca26"
                          ],
                          [
                            1,
                            "#f0f921"
                          ]
                        ],
                        "type": "contour"
                      }
                    ],
                    "contourcarpet": [
                      {
                        "colorbar": {
                          "outlinewidth": 0,
                          "ticks": ""
                        },
                        "type": "contourcarpet"
                      }
                    ],
                    "heatmap": [
                      {
                        "colorbar": {
                          "outlinewidth": 0,
                          "ticks": ""
                        },
                        "colorscale": [
                          [
                            0,
                            "#0d0887"
                          ],
                          [
                            0.1111111111111111,
                            "#46039f"
                          ],
                          [
                            0.2222222222222222,
                            "#7201a8"
                          ],
                          [
                            0.3333333333333333,
                            "#9c179e"
                          ],
                          [
                            0.4444444444444444,
                            "#bd3786"
                          ],
                          [
                            0.5555555555555556,
                            "#d8576b"
                          ],
                          [
                            0.6666666666666666,
                            "#ed7953"
                          ],
                          [
                            0.7777777777777778,
                            "#fb9f3a"
                          ],
                          [
                            0.8888888888888888,
                            "#fdca26"
                          ],
                          [
                            1,
                            "#f0f921"
                          ]
                        ],
                        "type": "heatmap"
                      }
                    ],
                    "heatmapgl": [
                      {
                        "colorbar": {
                          "outlinewidth": 0,
                          "ticks": ""
                        },
                        "colorscale": [
                          [
                            0,
                            "#0d0887"
                          ],
                          [
                            0.1111111111111111,
                            "#46039f"
                          ],
                          [
                            0.2222222222222222,
                            "#7201a8"
                          ],
                          [
                            0.3333333333333333,
                            "#9c179e"
                          ],
                          [
                            0.4444444444444444,
                            "#bd3786"
                          ],
                          [
                            0.5555555555555556,
                            "#d8576b"
                          ],
                          [
                            0.6666666666666666,
                            "#ed7953"
                          ],
                          [
                            0.7777777777777778,
                            "#fb9f3a"
                          ],
                          [
                            0.8888888888888888,
                            "#fdca26"
                          ],
                          [
                            1,
                            "#f0f921"
                          ]
                        ],
                        "type": "heatmapgl"
                      }
                    ],
                    "histogram": [
                      {
                        "marker": {
                          "pattern": {
                            "fillmode": "overlay",
                            "size": 10,
                            "solidity": 0.2
                          }
                        },
                        "type": "histogram"
                      }
                    ],
                    "histogram2d": [
                      {
                        "colorbar": {
                          "outlinewidth": 0,
                          "ticks": ""
                        },
                        "colorscale": [
                          [
                            0,
                            "#0d0887"
                          ],
                          [
                            0.1111111111111111,
                            "#46039f"
                          ],
                          [
                            0.2222222222222222,
                            "#7201a8"
                          ],
                          [
                            0.3333333333333333,
                            "#9c179e"
                          ],
                          [
                            0.4444444444444444,
                            "#bd3786"
                          ],
                          [
                            0.5555555555555556,
                            "#d8576b"
                          ],
                          [
                            0.6666666666666666,
                            "#ed7953"
                          ],
                          [
                            0.7777777777777778,
                            "#fb9f3a"
                          ],
                          [
                            0.8888888888888888,
                            "#fdca26"
                          ],
                          [
                            1,
                            "#f0f921"
                          ]
                        ],
                        "type": "histogram2d"
                      }
                    ],
                    "histogram2dcontour": [
                      {
                        "colorbar": {
                          "outlinewidth": 0,
                          "ticks": ""
                        },
                        "colorscale": [
                          [
                            0,
                            "#0d0887"
                          ],
                          [
                            0.1111111111111111,
                            "#46039f"
                          ],
                          [
                            0.2222222222222222,
                            "#7201a8"
                          ],
                          [
                            0.3333333333333333,
                            "#9c179e"
                          ],
                          [
                            0.4444444444444444,
                            "#bd3786"
                          ],
                          [
                            0.5555555555555556,
                            "#d8576b"
                          ],
                          [
                            0.6666666666666666,
                            "#ed7953"
                          ],
                          [
                            0.7777777777777778,
                            "#fb9f3a"
                          ],
                          [
                            0.8888888888888888,
                            "#fdca26"
                          ],
                          [
                            1,
                            "#f0f921"
                          ]
                        ],
                        "type": "histogram2dcontour"
                      }
                    ],
                    "mesh3d": [
                      {
                        "colorbar": {
                          "outlinewidth": 0,
                          "ticks": ""
                        },
                        "type": "mesh3d"
                      }
                    ],
                    "parcoords": [
                      {
                        "line": {
                          "colorbar": {
                            "outlinewidth": 0,
                            "ticks": ""
                          }
                        },
                        "type": "parcoords"
                      }
                    ],
                    "pie": [
                      {
                        "automargin": true,
                        "type": "pie"
                      }
                    ],
                    "scatter": [
                      {
                        "fillpattern": {
                          "fillmode": "overlay",
                          "size": 10,
                          "solidity": 0.2
                        },
                        "type": "scatter"
                      }
                    ],
                    "scatter3d": [
                      {
                        "line": {
                          "colorbar": {
                            "outlinewidth": 0,
                            "ticks": ""
                          }
                        },
                        "marker": {
                          "colorbar": {
                            "outlinewidth": 0,
                            "ticks": ""
                          }
                        },
                        "type": "scatter3d"
                      }
                    ],
                    "scattercarpet": [
                      {
                        "marker": {
                          "colorbar": {
                            "outlinewidth": 0,
                            "ticks": ""
                          }
                        },
                        "type": "scattercarpet"
                      }
                    ],
                    "scattergeo": [
                      {
                        "marker": {
                          "colorbar": {
                            "outlinewidth": 0,
                            "ticks": ""
                          }
                        },
                        "type": "scattergeo"
                      }
                    ],
                    "scattergl": [
                      {
                        "marker": {
                          "colorbar": {
                            "outlinewidth": 0,
                            "ticks": ""
                          }
                        },
                        "type": "scattergl"
                      }
                    ],
                    "scattermapbox": [
                      {
                        "marker": {
                          "colorbar": {
                            "outlinewidth": 0,
                            "ticks": ""
                          }
                        },
                        "type": "scattermapbox"
                      }
                    ],
                    "scatterpolar": [
                      {
                        "marker": {
                          "colorbar": {
                            "outlinewidth": 0,
                            "ticks": ""
                          }
                        },
                        "type": "scatterpolar"
                      }
                    ],
                    "scatterpolargl": [
                      {
                        "marker": {
                          "colorbar": {
                            "outlinewidth": 0,
                            "ticks": ""
                          }
                        },
                        "type": "scatterpolargl"
                      }
                    ],
                    "scatterternary": [
                      {
                        "marker": {
                          "colorbar": {
                            "outlinewidth": 0,
                            "ticks": ""
                          }
                        },
                        "type": "scatterternary"
                      }
                    ],
                    "surface": [
                      {
                        "colorbar": {
                          "outlinewidth": 0,
                          "ticks": ""
                        },
                        "colorscale": [
                          [
                            0,
                            "#0d0887"
                          ],
                          [
                            0.1111111111111111,
                            "#46039f"
                          ],
                          [
                            0.2222222222222222,
                            "#7201a8"
                          ],
                          [
                            0.3333333333333333,
                            "#9c179e"
                          ],
                          [
                            0.4444444444444444,
                            "#bd3786"
                          ],
                          [
                            0.5555555555555556,
                            "#d8576b"
                          ],
                          [
                            0.6666666666666666,
                            "#ed7953"
                          ],
                          [
                            0.7777777777777778,
                            "#fb9f3a"
                          ],
                          [
                            0.8888888888888888,
                            "#fdca26"
                          ],
                          [
                            1,
                            "#f0f921"
                          ]
                        ],
                        "type": "surface"
                      }
                    ],
                    "table": [
                      {
                        "cells": {
                          "fill": {
                            "color": "#EBF0F8"
                          },
                          "line": {
                            "color": "white"
                          }
                        },
                        "header": {
                          "fill": {
                            "color": "#C8D4E3"
                          },
                          "line": {
                            "color": "white"
                          }
                        },
                        "type": "table"
                      }
                    ]
                  },
                  "layout": {
                    "annotationdefaults": {
                      "arrowcolor": "#2a3f5f",
                      "arrowhead": 0,
                      "arrowwidth": 1
                    },
                    "autotypenumbers": "strict",
                    "coloraxis": {
                      "colorbar": {
                        "outlinewidth": 0,
                        "ticks": ""
                      }
                    },
                    "colorscale": {
                      "diverging": [
                        [
                          0,
                          "#8e0152"
                        ],
                        [
                          0.1,
                          "#c51b7d"
                        ],
                        [
                          0.2,
                          "#de77ae"
                        ],
                        [
                          0.3,
                          "#f1b6da"
                        ],
                        [
                          0.4,
                          "#fde0ef"
                        ],
                        [
                          0.5,
                          "#f7f7f7"
                        ],
                        [
                          0.6,
                          "#e6f5d0"
                        ],
                        [
                          0.7,
                          "#b8e186"
                        ],
                        [
                          0.8,
                          "#7fbc41"
                        ],
                        [
                          0.9,
                          "#4d9221"
                        ],
                        [
                          1,
                          "#276419"
                        ]
                      ],
                      "sequential": [
                        [
                          0,
                          "#0d0887"
                        ],
                        [
                          0.1111111111111111,
                          "#46039f"
                        ],
                        [
                          0.2222222222222222,
                          "#7201a8"
                        ],
                        [
                          0.3333333333333333,
                          "#9c179e"
                        ],
                        [
                          0.4444444444444444,
                          "#bd3786"
                        ],
                        [
                          0.5555555555555556,
                          "#d8576b"
                        ],
                        [
                          0.6666666666666666,
                          "#ed7953"
                        ],
                        [
                          0.7777777777777778,
                          "#fb9f3a"
                        ],
                        [
                          0.8888888888888888,
                          "#fdca26"
                        ],
                        [
                          1,
                          "#f0f921"
                        ]
                      ],
                      "sequentialminus": [
                        [
                          0,
                          "#0d0887"
                        ],
                        [
                          0.1111111111111111,
                          "#46039f"
                        ],
                        [
                          0.2222222222222222,
                          "#7201a8"
                        ],
                        [
                          0.3333333333333333,
                          "#9c179e"
                        ],
                        [
                          0.4444444444444444,
                          "#bd3786"
                        ],
                        [
                          0.5555555555555556,
                          "#d8576b"
                        ],
                        [
                          0.6666666666666666,
                          "#ed7953"
                        ],
                        [
                          0.7777777777777778,
                          "#fb9f3a"
                        ],
                        [
                          0.8888888888888888,
                          "#fdca26"
                        ],
                        [
                          1,
                          "#f0f921"
                        ]
                      ]
                    },
                    "colorway": [
                      "#636efa",
                      "#EF553B",
                      "#00cc96",
                      "#ab63fa",
                      "#FFA15A",
                      "#19d3f3",
                      "#FF6692",
                      "#B6E880",
                      "#FF97FF",
                      "#FECB52"
                    ],
                    "font": {
                      "color": "#2a3f5f"
                    },
                    "geo": {
                      "bgcolor": "white",
                      "lakecolor": "white",
                      "landcolor": "#E5ECF6",
                      "showlakes": true,
                      "showland": true,
                      "subunitcolor": "white"
                    },
                    "hoverlabel": {
                      "align": "left"
                    },
                    "hovermode": "closest",
                    "mapbox": {
                      "style": "light"
                    },
                    "paper_bgcolor": "white",
                    "plot_bgcolor": "#E5ECF6",
                    "polar": {
                      "angularaxis": {
                        "gridcolor": "white",
                        "linecolor": "white",
                        "ticks": ""
                      },
                      "bgcolor": "#E5ECF6",
                      "radialaxis": {
                        "gridcolor": "white",
                        "linecolor": "white",
                        "ticks": ""
                      }
                    },
                    "scene": {
                      "xaxis": {
                        "backgroundcolor": "#E5ECF6",
                        "gridcolor": "white",
                        "gridwidth": 2,
                        "linecolor": "white",
                        "showbackground": true,
                        "ticks": "",
                        "zerolinecolor": "white"
                      },
                      "yaxis": {
                        "backgroundcolor": "#E5ECF6",
                        "gridcolor": "white",
                        "gridwidth": 2,
                        "linecolor": "white",
                        "showbackground": true,
                        "ticks": "",
                        "zerolinecolor": "white"
                      },
                      "zaxis": {
                        "backgroundcolor": "#E5ECF6",
                        "gridcolor": "white",
                        "gridwidth": 2,
                        "linecolor": "white",
                        "showbackground": true,
                        "ticks": "",
                        "zerolinecolor": "white"
                      }
                    },
                    "shapedefaults": {
                      "line": {
                        "color": "#2a3f5f"
                      }
                    },
                    "ternary": {
                      "aaxis": {
                        "gridcolor": "white",
                        "linecolor": "white",
                        "ticks": ""
                      },
                      "baxis": {
                        "gridcolor": "white",
                        "linecolor": "white",
                        "ticks": ""
                      },
                      "bgcolor": "#E5ECF6",
                      "caxis": {
                        "gridcolor": "white",
                        "linecolor": "white",
                        "ticks": ""
                      }
                    },
                    "title": {
                      "x": 0.05
                    },
                    "xaxis": {
                      "automargin": true,
                      "gridcolor": "white",
                      "linecolor": "white",
                      "ticks": "",
                      "title": {
                        "standoff": 15
                      },
                      "zerolinecolor": "white",
                      "zerolinewidth": 2
                    },
                    "yaxis": {
                      "automargin": true,
                      "gridcolor": "white",
                      "linecolor": "white",
                      "ticks": "",
                      "title": {
                        "standoff": 15
                      },
                      "zerolinecolor": "white",
                      "zerolinewidth": 2
                    }
                  }
                },
                "title": {
                  "text": "LM coefficients importance"
                },
                "xaxis": {
                  "title": {
                    "text": "Coeficientes"
                  }
                },
                "yaxis": {
                  "title": {
                    "text": "Variables"
                  }
                }
              }
            }
          },
          "metadata": {},
          "output_type": "display_data"
        },
        {
          "name": "stdout",
          "output_type": "stream",
          "text": [
            "[0.00963818 0.01010545 0.01026251 0.01014394 0.00982223 0.00985342\n",
            " 0.5171464  0.04834001 0.04298392 0.02497091 0.02704362 0.12822208\n",
            " 0.07653034 0.07493699]\n"
          ]
        },
        {
          "data": {
            "application/vnd.plotly.v1+json": {
              "config": {
                "plotlyServerURL": "https://plot.ly"
              },
              "data": [
                {
                  "name": "Coeficientes",
                  "orientation": "h",
                  "type": "bar",
                  "x": [
                    0.00963818085426135,
                    0.010105447067581005,
                    0.010262506493936304,
                    0.010143943049490314,
                    0.00982223055144389,
                    0.0098534200972207,
                    0.517146400003767,
                    0.04834001350004465,
                    0.042983918584174656,
                    0.02497091368374706,
                    0.027043615079736034,
                    0.12822208219974218,
                    0.07653034194938114,
                    0.0749369868854737
                  ],
                  "y": [
                    "Unnamed: 0.5",
                    "Unnamed: 0.4",
                    "Unnamed: 0.3",
                    "Unnamed: 0.2",
                    "Unnamed: 0.1",
                    "Unnamed: 0",
                    "MedInc",
                    "HouseAge",
                    "AveRooms",
                    "AveBedrms",
                    "Population",
                    "AveOccup",
                    "Latitude",
                    "Longitude"
                  ]
                }
              ],
              "layout": {
                "template": {
                  "data": {
                    "bar": [
                      {
                        "error_x": {
                          "color": "#2a3f5f"
                        },
                        "error_y": {
                          "color": "#2a3f5f"
                        },
                        "marker": {
                          "line": {
                            "color": "#E5ECF6",
                            "width": 0.5
                          },
                          "pattern": {
                            "fillmode": "overlay",
                            "size": 10,
                            "solidity": 0.2
                          }
                        },
                        "type": "bar"
                      }
                    ],
                    "barpolar": [
                      {
                        "marker": {
                          "line": {
                            "color": "#E5ECF6",
                            "width": 0.5
                          },
                          "pattern": {
                            "fillmode": "overlay",
                            "size": 10,
                            "solidity": 0.2
                          }
                        },
                        "type": "barpolar"
                      }
                    ],
                    "carpet": [
                      {
                        "aaxis": {
                          "endlinecolor": "#2a3f5f",
                          "gridcolor": "white",
                          "linecolor": "white",
                          "minorgridcolor": "white",
                          "startlinecolor": "#2a3f5f"
                        },
                        "baxis": {
                          "endlinecolor": "#2a3f5f",
                          "gridcolor": "white",
                          "linecolor": "white",
                          "minorgridcolor": "white",
                          "startlinecolor": "#2a3f5f"
                        },
                        "type": "carpet"
                      }
                    ],
                    "choropleth": [
                      {
                        "colorbar": {
                          "outlinewidth": 0,
                          "ticks": ""
                        },
                        "type": "choropleth"
                      }
                    ],
                    "contour": [
                      {
                        "colorbar": {
                          "outlinewidth": 0,
                          "ticks": ""
                        },
                        "colorscale": [
                          [
                            0,
                            "#0d0887"
                          ],
                          [
                            0.1111111111111111,
                            "#46039f"
                          ],
                          [
                            0.2222222222222222,
                            "#7201a8"
                          ],
                          [
                            0.3333333333333333,
                            "#9c179e"
                          ],
                          [
                            0.4444444444444444,
                            "#bd3786"
                          ],
                          [
                            0.5555555555555556,
                            "#d8576b"
                          ],
                          [
                            0.6666666666666666,
                            "#ed7953"
                          ],
                          [
                            0.7777777777777778,
                            "#fb9f3a"
                          ],
                          [
                            0.8888888888888888,
                            "#fdca26"
                          ],
                          [
                            1,
                            "#f0f921"
                          ]
                        ],
                        "type": "contour"
                      }
                    ],
                    "contourcarpet": [
                      {
                        "colorbar": {
                          "outlinewidth": 0,
                          "ticks": ""
                        },
                        "type": "contourcarpet"
                      }
                    ],
                    "heatmap": [
                      {
                        "colorbar": {
                          "outlinewidth": 0,
                          "ticks": ""
                        },
                        "colorscale": [
                          [
                            0,
                            "#0d0887"
                          ],
                          [
                            0.1111111111111111,
                            "#46039f"
                          ],
                          [
                            0.2222222222222222,
                            "#7201a8"
                          ],
                          [
                            0.3333333333333333,
                            "#9c179e"
                          ],
                          [
                            0.4444444444444444,
                            "#bd3786"
                          ],
                          [
                            0.5555555555555556,
                            "#d8576b"
                          ],
                          [
                            0.6666666666666666,
                            "#ed7953"
                          ],
                          [
                            0.7777777777777778,
                            "#fb9f3a"
                          ],
                          [
                            0.8888888888888888,
                            "#fdca26"
                          ],
                          [
                            1,
                            "#f0f921"
                          ]
                        ],
                        "type": "heatmap"
                      }
                    ],
                    "heatmapgl": [
                      {
                        "colorbar": {
                          "outlinewidth": 0,
                          "ticks": ""
                        },
                        "colorscale": [
                          [
                            0,
                            "#0d0887"
                          ],
                          [
                            0.1111111111111111,
                            "#46039f"
                          ],
                          [
                            0.2222222222222222,
                            "#7201a8"
                          ],
                          [
                            0.3333333333333333,
                            "#9c179e"
                          ],
                          [
                            0.4444444444444444,
                            "#bd3786"
                          ],
                          [
                            0.5555555555555556,
                            "#d8576b"
                          ],
                          [
                            0.6666666666666666,
                            "#ed7953"
                          ],
                          [
                            0.7777777777777778,
                            "#fb9f3a"
                          ],
                          [
                            0.8888888888888888,
                            "#fdca26"
                          ],
                          [
                            1,
                            "#f0f921"
                          ]
                        ],
                        "type": "heatmapgl"
                      }
                    ],
                    "histogram": [
                      {
                        "marker": {
                          "pattern": {
                            "fillmode": "overlay",
                            "size": 10,
                            "solidity": 0.2
                          }
                        },
                        "type": "histogram"
                      }
                    ],
                    "histogram2d": [
                      {
                        "colorbar": {
                          "outlinewidth": 0,
                          "ticks": ""
                        },
                        "colorscale": [
                          [
                            0,
                            "#0d0887"
                          ],
                          [
                            0.1111111111111111,
                            "#46039f"
                          ],
                          [
                            0.2222222222222222,
                            "#7201a8"
                          ],
                          [
                            0.3333333333333333,
                            "#9c179e"
                          ],
                          [
                            0.4444444444444444,
                            "#bd3786"
                          ],
                          [
                            0.5555555555555556,
                            "#d8576b"
                          ],
                          [
                            0.6666666666666666,
                            "#ed7953"
                          ],
                          [
                            0.7777777777777778,
                            "#fb9f3a"
                          ],
                          [
                            0.8888888888888888,
                            "#fdca26"
                          ],
                          [
                            1,
                            "#f0f921"
                          ]
                        ],
                        "type": "histogram2d"
                      }
                    ],
                    "histogram2dcontour": [
                      {
                        "colorbar": {
                          "outlinewidth": 0,
                          "ticks": ""
                        },
                        "colorscale": [
                          [
                            0,
                            "#0d0887"
                          ],
                          [
                            0.1111111111111111,
                            "#46039f"
                          ],
                          [
                            0.2222222222222222,
                            "#7201a8"
                          ],
                          [
                            0.3333333333333333,
                            "#9c179e"
                          ],
                          [
                            0.4444444444444444,
                            "#bd3786"
                          ],
                          [
                            0.5555555555555556,
                            "#d8576b"
                          ],
                          [
                            0.6666666666666666,
                            "#ed7953"
                          ],
                          [
                            0.7777777777777778,
                            "#fb9f3a"
                          ],
                          [
                            0.8888888888888888,
                            "#fdca26"
                          ],
                          [
                            1,
                            "#f0f921"
                          ]
                        ],
                        "type": "histogram2dcontour"
                      }
                    ],
                    "mesh3d": [
                      {
                        "colorbar": {
                          "outlinewidth": 0,
                          "ticks": ""
                        },
                        "type": "mesh3d"
                      }
                    ],
                    "parcoords": [
                      {
                        "line": {
                          "colorbar": {
                            "outlinewidth": 0,
                            "ticks": ""
                          }
                        },
                        "type": "parcoords"
                      }
                    ],
                    "pie": [
                      {
                        "automargin": true,
                        "type": "pie"
                      }
                    ],
                    "scatter": [
                      {
                        "fillpattern": {
                          "fillmode": "overlay",
                          "size": 10,
                          "solidity": 0.2
                        },
                        "type": "scatter"
                      }
                    ],
                    "scatter3d": [
                      {
                        "line": {
                          "colorbar": {
                            "outlinewidth": 0,
                            "ticks": ""
                          }
                        },
                        "marker": {
                          "colorbar": {
                            "outlinewidth": 0,
                            "ticks": ""
                          }
                        },
                        "type": "scatter3d"
                      }
                    ],
                    "scattercarpet": [
                      {
                        "marker": {
                          "colorbar": {
                            "outlinewidth": 0,
                            "ticks": ""
                          }
                        },
                        "type": "scattercarpet"
                      }
                    ],
                    "scattergeo": [
                      {
                        "marker": {
                          "colorbar": {
                            "outlinewidth": 0,
                            "ticks": ""
                          }
                        },
                        "type": "scattergeo"
                      }
                    ],
                    "scattergl": [
                      {
                        "marker": {
                          "colorbar": {
                            "outlinewidth": 0,
                            "ticks": ""
                          }
                        },
                        "type": "scattergl"
                      }
                    ],
                    "scattermapbox": [
                      {
                        "marker": {
                          "colorbar": {
                            "outlinewidth": 0,
                            "ticks": ""
                          }
                        },
                        "type": "scattermapbox"
                      }
                    ],
                    "scatterpolar": [
                      {
                        "marker": {
                          "colorbar": {
                            "outlinewidth": 0,
                            "ticks": ""
                          }
                        },
                        "type": "scatterpolar"
                      }
                    ],
                    "scatterpolargl": [
                      {
                        "marker": {
                          "colorbar": {
                            "outlinewidth": 0,
                            "ticks": ""
                          }
                        },
                        "type": "scatterpolargl"
                      }
                    ],
                    "scatterternary": [
                      {
                        "marker": {
                          "colorbar": {
                            "outlinewidth": 0,
                            "ticks": ""
                          }
                        },
                        "type": "scatterternary"
                      }
                    ],
                    "surface": [
                      {
                        "colorbar": {
                          "outlinewidth": 0,
                          "ticks": ""
                        },
                        "colorscale": [
                          [
                            0,
                            "#0d0887"
                          ],
                          [
                            0.1111111111111111,
                            "#46039f"
                          ],
                          [
                            0.2222222222222222,
                            "#7201a8"
                          ],
                          [
                            0.3333333333333333,
                            "#9c179e"
                          ],
                          [
                            0.4444444444444444,
                            "#bd3786"
                          ],
                          [
                            0.5555555555555556,
                            "#d8576b"
                          ],
                          [
                            0.6666666666666666,
                            "#ed7953"
                          ],
                          [
                            0.7777777777777778,
                            "#fb9f3a"
                          ],
                          [
                            0.8888888888888888,
                            "#fdca26"
                          ],
                          [
                            1,
                            "#f0f921"
                          ]
                        ],
                        "type": "surface"
                      }
                    ],
                    "table": [
                      {
                        "cells": {
                          "fill": {
                            "color": "#EBF0F8"
                          },
                          "line": {
                            "color": "white"
                          }
                        },
                        "header": {
                          "fill": {
                            "color": "#C8D4E3"
                          },
                          "line": {
                            "color": "white"
                          }
                        },
                        "type": "table"
                      }
                    ]
                  },
                  "layout": {
                    "annotationdefaults": {
                      "arrowcolor": "#2a3f5f",
                      "arrowhead": 0,
                      "arrowwidth": 1
                    },
                    "autotypenumbers": "strict",
                    "coloraxis": {
                      "colorbar": {
                        "outlinewidth": 0,
                        "ticks": ""
                      }
                    },
                    "colorscale": {
                      "diverging": [
                        [
                          0,
                          "#8e0152"
                        ],
                        [
                          0.1,
                          "#c51b7d"
                        ],
                        [
                          0.2,
                          "#de77ae"
                        ],
                        [
                          0.3,
                          "#f1b6da"
                        ],
                        [
                          0.4,
                          "#fde0ef"
                        ],
                        [
                          0.5,
                          "#f7f7f7"
                        ],
                        [
                          0.6,
                          "#e6f5d0"
                        ],
                        [
                          0.7,
                          "#b8e186"
                        ],
                        [
                          0.8,
                          "#7fbc41"
                        ],
                        [
                          0.9,
                          "#4d9221"
                        ],
                        [
                          1,
                          "#276419"
                        ]
                      ],
                      "sequential": [
                        [
                          0,
                          "#0d0887"
                        ],
                        [
                          0.1111111111111111,
                          "#46039f"
                        ],
                        [
                          0.2222222222222222,
                          "#7201a8"
                        ],
                        [
                          0.3333333333333333,
                          "#9c179e"
                        ],
                        [
                          0.4444444444444444,
                          "#bd3786"
                        ],
                        [
                          0.5555555555555556,
                          "#d8576b"
                        ],
                        [
                          0.6666666666666666,
                          "#ed7953"
                        ],
                        [
                          0.7777777777777778,
                          "#fb9f3a"
                        ],
                        [
                          0.8888888888888888,
                          "#fdca26"
                        ],
                        [
                          1,
                          "#f0f921"
                        ]
                      ],
                      "sequentialminus": [
                        [
                          0,
                          "#0d0887"
                        ],
                        [
                          0.1111111111111111,
                          "#46039f"
                        ],
                        [
                          0.2222222222222222,
                          "#7201a8"
                        ],
                        [
                          0.3333333333333333,
                          "#9c179e"
                        ],
                        [
                          0.4444444444444444,
                          "#bd3786"
                        ],
                        [
                          0.5555555555555556,
                          "#d8576b"
                        ],
                        [
                          0.6666666666666666,
                          "#ed7953"
                        ],
                        [
                          0.7777777777777778,
                          "#fb9f3a"
                        ],
                        [
                          0.8888888888888888,
                          "#fdca26"
                        ],
                        [
                          1,
                          "#f0f921"
                        ]
                      ]
                    },
                    "colorway": [
                      "#636efa",
                      "#EF553B",
                      "#00cc96",
                      "#ab63fa",
                      "#FFA15A",
                      "#19d3f3",
                      "#FF6692",
                      "#B6E880",
                      "#FF97FF",
                      "#FECB52"
                    ],
                    "font": {
                      "color": "#2a3f5f"
                    },
                    "geo": {
                      "bgcolor": "white",
                      "lakecolor": "white",
                      "landcolor": "#E5ECF6",
                      "showlakes": true,
                      "showland": true,
                      "subunitcolor": "white"
                    },
                    "hoverlabel": {
                      "align": "left"
                    },
                    "hovermode": "closest",
                    "mapbox": {
                      "style": "light"
                    },
                    "paper_bgcolor": "white",
                    "plot_bgcolor": "#E5ECF6",
                    "polar": {
                      "angularaxis": {
                        "gridcolor": "white",
                        "linecolor": "white",
                        "ticks": ""
                      },
                      "bgcolor": "#E5ECF6",
                      "radialaxis": {
                        "gridcolor": "white",
                        "linecolor": "white",
                        "ticks": ""
                      }
                    },
                    "scene": {
                      "xaxis": {
                        "backgroundcolor": "#E5ECF6",
                        "gridcolor": "white",
                        "gridwidth": 2,
                        "linecolor": "white",
                        "showbackground": true,
                        "ticks": "",
                        "zerolinecolor": "white"
                      },
                      "yaxis": {
                        "backgroundcolor": "#E5ECF6",
                        "gridcolor": "white",
                        "gridwidth": 2,
                        "linecolor": "white",
                        "showbackground": true,
                        "ticks": "",
                        "zerolinecolor": "white"
                      },
                      "zaxis": {
                        "backgroundcolor": "#E5ECF6",
                        "gridcolor": "white",
                        "gridwidth": 2,
                        "linecolor": "white",
                        "showbackground": true,
                        "ticks": "",
                        "zerolinecolor": "white"
                      }
                    },
                    "shapedefaults": {
                      "line": {
                        "color": "#2a3f5f"
                      }
                    },
                    "ternary": {
                      "aaxis": {
                        "gridcolor": "white",
                        "linecolor": "white",
                        "ticks": ""
                      },
                      "baxis": {
                        "gridcolor": "white",
                        "linecolor": "white",
                        "ticks": ""
                      },
                      "bgcolor": "#E5ECF6",
                      "caxis": {
                        "gridcolor": "white",
                        "linecolor": "white",
                        "ticks": ""
                      }
                    },
                    "title": {
                      "x": 0.05
                    },
                    "xaxis": {
                      "automargin": true,
                      "gridcolor": "white",
                      "linecolor": "white",
                      "ticks": "",
                      "title": {
                        "standoff": 15
                      },
                      "zerolinecolor": "white",
                      "zerolinewidth": 2
                    },
                    "yaxis": {
                      "automargin": true,
                      "gridcolor": "white",
                      "linecolor": "white",
                      "ticks": "",
                      "title": {
                        "standoff": 15
                      },
                      "zerolinecolor": "white",
                      "zerolinewidth": 2
                    }
                  }
                },
                "title": {
                  "text": "RF coefficients importance"
                },
                "xaxis": {
                  "title": {
                    "text": "Coeficientes"
                  }
                },
                "yaxis": {
                  "title": {
                    "text": "Variables"
                  }
                }
              }
            }
          },
          "metadata": {},
          "output_type": "display_data"
        }
      ],
      "source": [
        "lmc = lm.named_steps['lm'].coef_\n",
        "rfc = rf.named_steps['rf'].feature_importances_\n",
        "\n",
        "print(lmc)\n",
        "\n",
        "# Plot for LM\n",
        "objects = X.columns\n",
        "y_pos = np.arange(len(objects))\n",
        "coefficients = lmc\n",
        "\n",
        "fig = go.Figure()\n",
        "\n",
        "# Agrego las trazas necesarias\n",
        "fig.add_trace(\n",
        "    go.Bar(\n",
        "        x = coefficients,\n",
        "        y = objects,\n",
        "        name = \"Coeficientes\",\n",
        "        orientation='h'\n",
        "    )\n",
        ")\n",
        "\n",
        "# Actualizo el diseño\n",
        "fig.update_layout(title = \"LM coefficients importance\", xaxis_title = \"Coeficientes\", yaxis_title = \"Variables\")\n",
        "\n",
        "# Muestro la figura\n",
        "fig.show()\n",
        "\n",
        "\n",
        "print(rfc)\n",
        "\n",
        "# Plot for RF\n",
        "objects = X.columns\n",
        "y_pos = np.arange(len(objects))\n",
        "coefficients = rfc\n",
        "\n",
        "fig = go.Figure()\n",
        "\n",
        "# Agrego las trazas necesarias\n",
        "fig.add_trace(\n",
        "    go.Bar(\n",
        "        x = coefficients,\n",
        "        y = objects,\n",
        "        name = \"Coeficientes\",\n",
        "        orientation='h'\n",
        "    )\n",
        ")\n",
        "\n",
        "# Actualizo el diseño\n",
        "fig.update_layout(title = \"RF coefficients importance\", xaxis_title = \"Coeficientes\", yaxis_title = \"Variables\")\n",
        "\n",
        "# Muestro la figura\n",
        "fig.show()\n"
      ]
    },
    {
      "cell_type": "markdown",
      "metadata": {
        "id": "2X8yWO3J3XpN"
      },
      "source": [
        "e) Decide a través de las métricas que consideres oportunas, cuál de los dos modelos es mejor, por qué y explica el proceso que has realizado para responder en los puntos anteriores. **(1.25 puntos)**"
      ]
    },
    {
      "cell_type": "code",
      "execution_count": 11,
      "metadata": {
        "colab": {
          "base_uri": "https://localhost:8080/"
        },
        "id": "KP61JNDL3ni0",
        "outputId": "1fb1b38d-5992-4869-f5fc-4ee586473e48"
      },
      "outputs": [
        {
          "name": "stdout",
          "output_type": "stream",
          "text": [
            "Mean squared error: 0.52\n",
            "Mean absolute error: 0.53\n",
            "Coefficient of determination: 0.61\n"
          ]
        },
        {
          "name": "stdout",
          "output_type": "stream",
          "text": [
            "Mean squared error: 0.23\n",
            "Mean absolute error: 0.31\n",
            "Coefficient of determination: 0.83\n"
          ]
        }
      ],
      "source": [
        "y_pred = lm.predict(X_test)\n",
        "\n",
        "print(\"Mean squared error: %.2f\" % mean_squared_error(y_test, y_pred))\n",
        "print(\"Mean absolute error: %.2f\" % mean_absolute_error(y_test, y_pred))\n",
        "print(\"Coefficient of determination: %.2f\" % r2_score(y_test, y_pred))\n",
        "\n",
        "y_pred = rf.predict(X_test)\n",
        "\n",
        "print(\"Mean squared error: %.2f\" % mean_squared_error(y_test, y_pred))\n",
        "print(\"Mean absolute error: %.2f\" % mean_absolute_error(y_test, y_pred))\n",
        "print(\"Coefficient of determination: %.2f\" % r2_score(y_test, y_pred))"
      ]
    },
    {
      "cell_type": "markdown",
      "metadata": {
        "id": "jpk2TdDS4Tl6"
      },
      "source": [
        "*Consideremos* el dataset que contiene __The Most Streamed Spotify Songs 2023__ que se encuentra en el respositorio.\n",
        "\n",
        "Información de las variables:\n",
        "\n",
        "- track_name: Name of the song\n",
        "- artist(s)_name: Name of the artist(s) of the song\n",
        "- vartist_count: Number of artists contributing to the song\n",
        "- released_year: Year when the song was released\n",
        "- released_month: Month when the song was released\n",
        "- release_day: Day of the month when the song was released\n",
        "- in_spotify_playlists: Number of Spotify playlists the song is included in\n",
        "- in_spotify_charts: Presence and rank of the song on Spotify charts\n",
        "- streams: Total number of streams on Spotify\n",
        "- in_apple_playlists: Number of Apple Music playlists the song is included in\n",
        "- in_apple_charts: Presence and rank of the song on Apple Music charts\n",
        "- in_deezer_playlists: Number of Deezer playlists the song is included in\n",
        "- in_deezer_charts: Presence and rank of the song on Deezer charts\n",
        "- in_shazam_charts: Presence and rank of the song on Shazam charts\n",
        "- bpm: Beats per minute, a measure of song tempo\n",
        "- key: Key of the song\n",
        "- mode: Mode of the song (major or minor)\n",
        "- danceability_%: Percentage indicating how suitable the song is for dancing\n",
        "- valence_%: Positivity of the song's musical content\n",
        "- energy_%: Perceived energy level of the song\n",
        "- acousticness_%: Amount of acoustic sound in the song\n",
        "- instrumentalness_%: Amount of instrumental content in the song\n",
        "- liveness_%: Presence of live performance elements\n",
        "- speechiness_%: Amount of spoken words in the song\n",
        "\n",
        "Para las respuestas b, c, d, e, f y g es imperativo acompañarlas respuestas con una visualización.\n",
        "\n",
        "a) Lee el fichero en formato dataframe, aplica la función del ejercicio 2.b, elimina NAs y convierte a integer si fuera necesario. **(0.25 puntos)**\n",
        "\n",
        "b) ¿Cuántos artistas únicos hay? **(0.25 puntos)**\n",
        "\n",
        "c) ¿Cuál es la distribución de reproducciones? **(0.5 puntos)**\n",
        "\n",
        "d) ¿Existe una diferencia signitificativa en las reproducciones entre las canciones de un solo artista y las de más de uno? **(0.5 puntos)**\n",
        "\n",
        "e) ¿Cuáles son las propiedades de una canción que mejor correlan con el número de reproducciones de una canción? **(0.5 puntos)**\n",
        "\n",
        "f) ¿Cuáles son las variables que mejor predicen un hit? **(1 puntos)**\n",
        "\n",
        "*Nota: Crea una variable binaria (Hit/No Hit) en base a 3.c, crea una regresión logística y visualiza sus coeficientes.*\n",
        "\n",
        "e) Agrupa los 4 gráficos realizados en uno solo y haz una recomendación a un sello discográfico para producir un nuevo hit. **(1 puntos)**\n"
      ]
    },
    {
      "cell_type": "markdown",
      "metadata": {
        "id": "BzSxH3UU5wM8"
      },
      "source": [
        "a) Lee el fichero en formato dataframe, aplica la función del ejercicio 2.b, elimina NAs y convierte a integer si fuera necesario. **(0.25 puntos)**\n"
      ]
    },
    {
      "cell_type": "code",
      "execution_count": 12,
      "metadata": {
        "colab": {
          "base_uri": "https://localhost:8080/"
        },
        "id": "Uu-efIds50aV",
        "outputId": "b778fa32-719d-480a-f808-22622178c029"
      },
      "outputs": [
        {
          "name": "stdout",
          "output_type": "stream",
          "text": [
            "                            track_name    artist(s)_name  artist_count  \\\n",
            "0  Seven (feat. Latto) (Explicit Ver.)  Latto, Jung Kook             2   \n",
            "1                                 LALA       Myke Towers             1   \n",
            "2                              vampire    Olivia Rodrigo             1   \n",
            "3                         Cruel Summer      Taylor Swift             1   \n",
            "4                       WHERE SHE GOES         Bad Bunny             1   \n",
            "\n",
            "   released_year  released_month  released_day  in_spotify_playlists  \\\n",
            "0           2023               7            14                   553   \n",
            "1           2023               3            23                  1474   \n",
            "2           2023               6            30                  1397   \n",
            "3           2019               8            23                  7858   \n",
            "4           2023               5            18                  3133   \n",
            "\n",
            "   in_spotify_charts    streams  in_apple_playlists  ...  bpm key   mode  \\\n",
            "0                147  141381703                  43  ...  125   B  Major   \n",
            "1                 48  133716286                  48  ...   92  C#  Major   \n",
            "2                113  140003974                  94  ...  138   F  Major   \n",
            "3                100  800840817                 116  ...  170   A  Major   \n",
            "4                 50  303236322                  84  ...  144   A  Minor   \n",
            "\n",
            "  danceability_%  valence_% energy_% acousticness_%  instrumentalness_%  \\\n",
            "0             80         89       83             31                   0   \n",
            "1             71         61       74              7                   0   \n",
            "2             51         32       53             17                   0   \n",
            "3             55         58       72             11                   0   \n",
            "4             65         23       80             14                  63   \n",
            "\n",
            "   liveness_%  speechiness_%  \n",
            "0           8              4  \n",
            "1          10              4  \n",
            "2          31              6  \n",
            "3          11             15  \n",
            "4          11              6  \n",
            "\n",
            "[5 rows x 24 columns]\n",
            "(953, 24)\n",
            "track_name               0\n",
            "artist(s)_name           0\n",
            "artist_count             0\n",
            "released_year            0\n",
            "released_month           0\n",
            "released_day             0\n",
            "in_spotify_playlists     0\n",
            "in_spotify_charts        0\n",
            "streams                  0\n",
            "in_apple_playlists       0\n",
            "in_apple_charts          0\n",
            "in_deezer_playlists      0\n",
            "in_deezer_charts         0\n",
            "in_shazam_charts        50\n",
            "bpm                      0\n",
            "key                     95\n",
            "mode                     0\n",
            "danceability_%           0\n",
            "valence_%                0\n",
            "energy_%                 0\n",
            "acousticness_%           0\n",
            "instrumentalness_%       0\n",
            "liveness_%               0\n",
            "speechiness_%            0\n",
            "dtype: int64\n",
            "track_name              object\n",
            "artist(s)_name          object\n",
            "artist_count             int64\n",
            "released_year            int64\n",
            "released_month           int64\n",
            "released_day             int64\n",
            "in_spotify_playlists     int64\n",
            "in_spotify_charts        int64\n",
            "streams                 object\n",
            "in_apple_playlists       int64\n",
            "in_apple_charts          int64\n",
            "in_deezer_playlists     object\n",
            "in_deezer_charts         int64\n",
            "in_shazam_charts        object\n",
            "bpm                      int64\n",
            "key                     object\n",
            "mode                    object\n",
            "danceability_%           int64\n",
            "valence_%                int64\n",
            "energy_%                 int64\n",
            "acousticness_%           int64\n",
            "instrumentalness_%       int64\n",
            "liveness_%               int64\n",
            "speechiness_%            int64\n",
            "dtype: object\n",
            "       track_name artist(s)_name  artist_count  released_year  released_month  \\\n",
            "count         953            953    953.000000     953.000000      953.000000   \n",
            "unique        943            645           NaN            NaN             NaN   \n",
            "top      Daylight   Taylor Swift           NaN            NaN             NaN   \n",
            "freq            2             34           NaN            NaN             NaN   \n",
            "mean          NaN            NaN      1.556139    2018.238195        6.033578   \n",
            "std           NaN            NaN      0.893044      11.116218        3.566435   \n",
            "min           NaN            NaN      1.000000    1930.000000        1.000000   \n",
            "25%           NaN            NaN      1.000000    2020.000000        3.000000   \n",
            "50%           NaN            NaN      1.000000    2022.000000        6.000000   \n",
            "75%           NaN            NaN      2.000000    2022.000000        9.000000   \n",
            "max           NaN            NaN      8.000000    2023.000000       12.000000   \n",
            "\n",
            "        released_day  in_spotify_playlists  in_spotify_charts    streams  \\\n",
            "count     953.000000            953.000000         953.000000        953   \n",
            "unique           NaN                   NaN                NaN        949   \n",
            "top              NaN                   NaN                NaN  723894473   \n",
            "freq             NaN                   NaN                NaN          2   \n",
            "mean       13.930745           5200.124869          12.009444        NaN   \n",
            "std         9.201949           7897.608990          19.575992        NaN   \n",
            "min         1.000000             31.000000           0.000000        NaN   \n",
            "25%         6.000000            875.000000           0.000000        NaN   \n",
            "50%        13.000000           2224.000000           3.000000        NaN   \n",
            "75%        22.000000           5542.000000          16.000000        NaN   \n",
            "max        31.000000          52898.000000         147.000000        NaN   \n",
            "\n",
            "        in_apple_playlists  ...         bpm  key   mode danceability_%  \\\n",
            "count           953.000000  ...  953.000000  858    953      953.00000   \n",
            "unique                 NaN  ...         NaN   11      2            NaN   \n",
            "top                    NaN  ...         NaN   C#  Major            NaN   \n",
            "freq                   NaN  ...         NaN  120    550            NaN   \n",
            "mean             67.812172  ...  122.540399  NaN    NaN       66.96957   \n",
            "std              86.441493  ...   28.057802  NaN    NaN       14.63061   \n",
            "min               0.000000  ...   65.000000  NaN    NaN       23.00000   \n",
            "25%              13.000000  ...  100.000000  NaN    NaN       57.00000   \n",
            "50%              34.000000  ...  121.000000  NaN    NaN       69.00000   \n",
            "75%              88.000000  ...  140.000000  NaN    NaN       78.00000   \n",
            "max             672.000000  ...  206.000000  NaN    NaN       96.00000   \n",
            "\n",
            "         valence_%    energy_% acousticness_%  instrumentalness_%  liveness_%  \\\n",
            "count   953.000000  953.000000     953.000000          953.000000  953.000000   \n",
            "unique         NaN         NaN            NaN                 NaN         NaN   \n",
            "top            NaN         NaN            NaN                 NaN         NaN   \n",
            "freq           NaN         NaN            NaN                 NaN         NaN   \n",
            "mean     51.431270   64.279119      27.057712            1.581322   18.213012   \n",
            "std      23.480632   16.550526      25.996077            8.409800   13.711223   \n",
            "min       4.000000    9.000000       0.000000            0.000000    3.000000   \n",
            "25%      32.000000   53.000000       6.000000            0.000000   10.000000   \n",
            "50%      51.000000   66.000000      18.000000            0.000000   12.000000   \n",
            "75%      70.000000   77.000000      43.000000            0.000000   24.000000   \n",
            "max      97.000000   97.000000      97.000000           91.000000   97.000000   \n",
            "\n",
            "        speechiness_%  \n",
            "count      953.000000  \n",
            "unique            NaN  \n",
            "top               NaN  \n",
            "freq              NaN  \n",
            "mean        10.131165  \n",
            "std          9.912888  \n",
            "min          2.000000  \n",
            "25%          4.000000  \n",
            "50%          6.000000  \n",
            "75%         11.000000  \n",
            "max         64.000000  \n",
            "\n",
            "[11 rows x 24 columns]\n"
          ]
        }
      ],
      "source": [
        "df = pd.read_csv(\"spotify-2023.csv\", encoding='ISO-8859-1')\n",
        "print(df.head())\n",
        "basicStats(df)"
      ]
    },
    {
      "cell_type": "code",
      "execution_count": 13,
      "metadata": {
        "colab": {
          "base_uri": "https://localhost:8080/"
        },
        "id": "wmdYiCEO6hqE",
        "outputId": "d02d9c60-c0b3-4c73-d92b-2a4c370b8d53"
      },
      "outputs": [
        {
          "name": "stdout",
          "output_type": "stream",
          "text": [
            "(817, 24)\n",
            "track_name              0\n",
            "artist(s)_name          0\n",
            "artist_count            0\n",
            "released_year           0\n",
            "released_month          0\n",
            "released_day            0\n",
            "in_spotify_playlists    0\n",
            "in_spotify_charts       0\n",
            "streams                 1\n",
            "in_apple_playlists      0\n",
            "in_apple_charts         0\n",
            "in_deezer_playlists     0\n",
            "in_deezer_charts        0\n",
            "in_shazam_charts        0\n",
            "bpm                     0\n",
            "key                     0\n",
            "mode                    0\n",
            "danceability_%          0\n",
            "valence_%               0\n",
            "energy_%                0\n",
            "acousticness_%          0\n",
            "instrumentalness_%      0\n",
            "liveness_%              0\n",
            "speechiness_%           0\n",
            "dtype: int64\n",
            "track_name               object\n",
            "artist(s)_name           object\n",
            "artist_count              int64\n",
            "released_year             int64\n",
            "released_month            int64\n",
            "released_day              int64\n",
            "in_spotify_playlists      int64\n",
            "in_spotify_charts         int64\n",
            "streams                 float64\n",
            "in_apple_playlists        int64\n",
            "in_apple_charts           int64\n",
            "in_deezer_playlists      object\n",
            "in_deezer_charts          int64\n",
            "in_shazam_charts         object\n",
            "bpm                       int64\n",
            "key                      object\n",
            "mode                     object\n",
            "danceability_%            int64\n",
            "valence_%                 int64\n",
            "energy_%                  int64\n",
            "acousticness_%            int64\n",
            "instrumentalness_%        int64\n",
            "liveness_%                int64\n",
            "speechiness_%             int64\n",
            "dtype: object\n",
            "       track_name artist(s)_name  artist_count  released_year  released_month  \\\n",
            "count         817            817    817.000000     817.000000      817.000000   \n",
            "unique        811            571           NaN            NaN             NaN   \n",
            "top      Miss You   Taylor Swift           NaN            NaN             NaN   \n",
            "freq            2             29           NaN            NaN             NaN   \n",
            "mean          NaN            NaN      1.567931    2018.457772        6.018360   \n",
            "std           NaN            NaN      0.876211      10.829267        3.572554   \n",
            "min           NaN            NaN      1.000000    1930.000000        1.000000   \n",
            "25%           NaN            NaN      1.000000    2021.000000        3.000000   \n",
            "50%           NaN            NaN      1.000000    2022.000000        5.000000   \n",
            "75%           NaN            NaN      2.000000    2022.000000        9.000000   \n",
            "max           NaN            NaN      8.000000    2023.000000       12.000000   \n",
            "\n",
            "        released_day  in_spotify_playlists  in_spotify_charts       streams  \\\n",
            "count     817.000000            817.000000         817.000000  8.160000e+02   \n",
            "unique           NaN                   NaN                NaN           NaN   \n",
            "top              NaN                   NaN                NaN           NaN   \n",
            "freq             NaN                   NaN                NaN           NaN   \n",
            "mean       13.696450           4849.898409          11.722154  4.689858e+08   \n",
            "std         9.299663           7741.126455          18.617668  5.231267e+08   \n",
            "min         1.000000             31.000000           0.000000  2.762000e+03   \n",
            "25%         5.000000            829.000000           0.000000  1.342848e+08   \n",
            "50%        13.000000           2040.000000           3.000000  2.638368e+08   \n",
            "75%        22.000000           4890.000000          16.000000  6.011986e+08   \n",
            "max        31.000000          52898.000000         147.000000  3.562544e+09   \n",
            "\n",
            "        in_apple_playlists  ...         bpm  key   mode danceability_%  \\\n",
            "count           817.000000  ...  817.000000  817    817     817.000000   \n",
            "unique                 NaN  ...         NaN   11      2            NaN   \n",
            "top                    NaN  ...         NaN   C#  Major            NaN   \n",
            "freq                   NaN  ...         NaN  115    452            NaN   \n",
            "mean             60.161567  ...  122.565483  NaN    NaN      67.391677   \n",
            "std              74.923594  ...   28.174803  NaN    NaN      14.688458   \n",
            "min               0.000000  ...   65.000000  NaN    NaN      23.000000   \n",
            "25%              12.000000  ...   99.000000  NaN    NaN      57.000000   \n",
            "50%              32.000000  ...  120.000000  NaN    NaN      70.000000   \n",
            "75%              78.000000  ...  141.000000  NaN    NaN      79.000000   \n",
            "max             532.000000  ...  206.000000  NaN    NaN      96.000000   \n",
            "\n",
            "         valence_%    energy_% acousticness_%  instrumentalness_%  liveness_%  \\\n",
            "count   817.000000  817.000000     817.000000          817.000000  817.000000   \n",
            "unique         NaN         NaN            NaN                 NaN         NaN   \n",
            "top            NaN         NaN            NaN                 NaN         NaN   \n",
            "freq           NaN         NaN            NaN                 NaN         NaN   \n",
            "mean     51.201958   64.362301      26.309670            1.676867   18.168911   \n",
            "std      23.620978   16.107587      25.470972            8.767328   13.541996   \n",
            "min       4.000000   14.000000       0.000000            0.000000    3.000000   \n",
            "25%      32.000000   53.000000       5.000000            0.000000   10.000000   \n",
            "50%      51.000000   66.000000      17.000000            0.000000   12.000000   \n",
            "75%      70.000000   76.000000      41.000000            0.000000   24.000000   \n",
            "max      97.000000   97.000000      97.000000           91.000000   97.000000   \n",
            "\n",
            "        speechiness_%  \n",
            "count      817.000000  \n",
            "unique            NaN  \n",
            "top               NaN  \n",
            "freq              NaN  \n",
            "mean        10.526316  \n",
            "std         10.219987  \n",
            "min          2.000000  \n",
            "25%          4.000000  \n",
            "50%          6.000000  \n",
            "75%         12.000000  \n",
            "max         64.000000  \n",
            "\n",
            "[11 rows x 24 columns]\n"
          ]
        }
      ],
      "source": [
        "df = df.dropna()\n",
        "df['streams'] = pd.to_numeric(df['streams'], errors='coerce')\n",
        "basicStats(df)"
      ]
    },
    {
      "cell_type": "markdown",
      "metadata": {
        "id": "kQ-qdJuF7Fre"
      },
      "source": [
        "b) ¿Cuántos artistas únicos hay? **(0.25 puntos)**\n"
      ]
    },
    {
      "cell_type": "code",
      "execution_count": 14,
      "metadata": {
        "colab": {
          "base_uri": "https://localhost:8080/"
        },
        "id": "LuCVV59z7GUl",
        "outputId": "d10d5364-ed45-45da-8352-7d74621b3d62"
      },
      "outputs": [
        {
          "name": "stdout",
          "output_type": "stream",
          "text": [
            "{'', 'mahalini', 'armani white', 'arcangel', 'mora', 'kendrick lamar', 'freddie dredd', 'pnau', 'giant rooks', 'josh levi', 'snoop dogg', 'juseph', 'ali sethi', 'pailita', 'cartel de santa', 'mc pedrinho', 'maluma', 'residente', 'dua lipa', 'jessica darrow', 'bad b', 'tchakabum', 'kenshi yonezu', \"finneas o'connell\", 'chris brown', 'amanda reifer', 'justin quiles', 'twisted', 'feid', 'sped up 8282', 'luude', 'ryan castro', 'suga', 'carin leon', 'veigh', 'la adictiva', 'trueno', 'fred again..', 'jessi', 'jnr choi', 'keane', 'duki', 'marï¿½ï¿½lia mendonï¿½ï¿½a', 'nessa barrett', 'masked wolf', 'amitabh bhattacharya', 'chuck berry', 'p!nk', 'emmy meli', 'jasiel nuï¿½ï¿½ez', 'gurinder gill', 'manuel turizo', 'encanto - cast', 'pharrell williams', 'pablito pesadilla', 'dave', 'byor', 'fuerza regida', 'kaliii', 'dj luian', 'melanie martinez', 'xxxtentacion', 'josï¿½ï¿½ felic', 'nio garcia', 'twice', 'calvin harris', 'anne-marie', 'stars music chile', 'halsey', '070 shake', 'troye sivan', 'bing crosby', 'tears for fears', 'ray dalton', 'becky hill', 'yoko ono', 'cris mj', 'future', 'styrx', 'yung gravy', 'lenny tavï¿½ï¿½rez', 'ghostface killah', 'adele', 'de la ghetto', 'john scott trotter & his orchestra', 'mac demarco', 'michael bublï¿', 'mabel matiz', 'shawn mendes', 'juice wrld', 'lewis capaldi', 'kali uchis', 'quevedo', 'cardi b', 'lit killah', 'roisee', 'david guetta', 'dj matt d', 'mc menor sg', 'tyler cole', 'fireboy dml', 'alec benjamin', 'jisoo', 'intense', 'luis r conriquez', 'godzz__-', 'taiu', 'dj lk da escï¿½ï¿½cia', 'daddy yankee', 'lizzo', 'sam smith', 'oliver tree', 'sebastian yatra', 'standly', 'peggy gou', 'dean martin', 'matuï¿', 'matuï¿½ï¿½', 'stromae', 'rihanna', 'mufasa & hypeman', 'young thug', 'raye', 'amaarae', 'morgan wallen', 'avicii', 'post malone', 'lil baby', 'coi leray', 'la joaqui', 'ayparia', 'zendaya', 'yng lvcas', 'tulus', 'peso p', 'lil durk', 'fujii kaze', 'kodak black', 'gesaffelstein', 'sean paul', '2pac', 'justin timberlake', 'tory lanez', 'seventeen', 'james arthur', 'la pantera', 'kanii', 'rï¿½ï¿½ma', 'kyla', 'nile rodgers', 'latto', 'the goo goo dolls', 'perry como', 'kar', 'ovy on the drums', 'tesla jnr', 'tainy', 'altamash faridi', 'mc kevin o chris', 'chino pacas', \"shakin' stevens\", 'dimelo flow', 'playboi carti', 'jin', 'fran c', 'gwen stefani', 'eric church', 'cherish', 'dababy', 'sam dew', 'surf curse', 'mc jhenny', 'the fontane sisters', 'imanbek', 'doja cat', 'jhayco', 'zion & lennox', 'robi', 'shilpa rao', 'andy williams', 'pnb rock', 'rich music', 'saweetie', 'bï¿½ï¿½jo', 'prod malax', 'rauw alejandro', 'tv girl', 'elley duhï¿', 'hotel ugly', 'darlene love', 'stephanie beatriz', 'kalush', 'taylour paige', 'ella henderson', 'nate dogg', 'chase atlantic', 'mert demir', 'jason derulo', 'karol g', 'sped up nightcore', 'mahmood', 'conan gray', 'niki', 'king', 'edison lighthouse', 'a$ap rocky', 'lisa', 'niall horan', 'radiohead', 'd4vd', 'diane guerrero', 'sampha', 'meghan trainor', 'abhir hathi', 'love funk', 'chris molitor', 'l-gante', 'kevin kaarl', 'shadab faridi', 'beyoncï¿', 'swae lee', 'nightcrawlers', 'young miko', 'interworld', 'riton', 'el chachito', 'sofia carson', 'lizzy mcalpine', 'mc vitin da igrejinha', 'kelly clarkson', 'phoebe bridgers', 'league of legends', 'angela aguilar', 'aventura', 'chris rea', 'justin bieber', 'stephen sanchez', 'sachin-jigar', 'ava', 'becky g', 'j-hope', 'teto', 'ha sung woon', 'nico valdi', 'mc ryan sp', 'fifty fifty', 'mari fernandez', 'tyga', 'arcane', 'kanye west', 'rm', 'rels b', 'junior h', 'maroon 5', 'leo santana', 'dido', 'ariana grande', 'omar apollo', 'pr1isvx', 'gustah', 'nickoog clk', 'the creator', 'baby keem', 'jordan fisher', 'wiu', 'peso pluma', 'dj 900', 'the harlem community choir', 'frank sinatra', 'bruno mars', 'iu', 'sidhu moose wala', 'blackpink', 'dj gabriel do borel', 'jung kook', 'danny ocean', 'aitana', 'dj win', 'newjeans', 'bizarrap', 'mambo kingz', 'black eyed peas', 'utku inc', 'imagine dragons', 'jaymes young', 'vance joy', 'paul mccartney', 'calum scott', 'khalid', 'lil cake', 'big one', 'harry styles', 'davi k', 'fivio foreign', 'demi lovato', 'shekhar ravjiani', 'tiï¿½ï¿', 'kenia os', 'lasso', 'shakira', 'miguel', 'nicky jam', 'eden muï¿½ï', 'myke towers', 'rex orange county', 'dj chris no beat', 'la kelly', 'bl', 'cigarettes after sex', 'boywithuke', 'zakaria', 'brray', 'selena g', 'travis scott', 'm', 'rich the kid', 'joji', 'madonna', 'lil tjay', 'leah kate', 'yung lean', 'kate bush', 'girl in red', 'zï¿½ï¿½ fe', 'lil nas x', 'selena gomez', 'don toliver', 'lord huron', 'mc livinho', 'jid', 'blake shelton', 'wizkid', 'jack black', 'james hype', 'kayblack', 'sleepy hallow', 'zach bryan', 'tiï¿½ï¿½sto', 'thezth', 'milo j', 'blanco', 'silk sonic', 'anggi marito', 'lf system', 'jonas brothers', 'ke personajes', 'vishal-shekhar', 'mc caverinha', 'mc tairon', 'mae stephens', '50 cent', 'billie eilish', 'southstar', 'riar saab', 'semicenk', 'burna boy', 'j. cole', 'nicki minaj', 'xamï¿½ï¿½', 'mc frog', 'shae gill', 'offset', 'unxbected', 'the killers', 'polima westcoast', 'ludwig goransson', 'aitch', 'v', 'psy', 'kim petras', 'tyler', 'loreen', 'bellakath', 'lana del rey', 'coldplay', 'bvga beatz', 'flowdan', 'lyanno', 'schï¿½ï¿½rze', 'le sserafim', 'sam ryder', 'beam', 'pedro sampaio', 'agust d', 'victor cibrian', 'chanel', 'arijit singh', 'melody', 'vishal dadlani', 'fmk', 'ive', 'blxst', 'metallica', 'eslabon armado', 'the kid laroi', 'lil wayne', 'acraze', 'olga merediz', 'paulo londra', 'lum!x', 'macklemore', 'abhijay sharma', 'ugly dray', 'mï¿½ï¿½ne', 'c. tangana', 'colde', 'tems', 'j balvin', 'blackbear', 'lost frequencies', 'olivia rodrigo', 'jimin', 'the neighbourhood', 'maiara &', 'dj biel do furduncinho', 'nicki nicole', 'willow', 'maria becerra', 'elton john', 'shubh', 'dazy', 'toian', 'tate mcrae', 'bï¿½', 'sabrina carpenter', 'caralisa monteiro', 'varun jain', 'the plastic ono band', 'christian nodal', 'mc menor hr', 'migrantes', 'foudeqush', 'steve aoki', 'neo b', 'annenmaykantereit', 'dalex', 'jay rock', 'dennis', 'bradley cooper', 'paloma faith', 'nle choppa', 'project pat', 'sales', 'megan thee stallion', 'musical youth', 'new west', 'mainstreet', 'moliy', 'grupo marca registrada', 'baby tate', 'buscabulla', 'yuridia', 'george henrique &', 'ellie goulding', 'benson boone', 'hozier', 'kumaar', 'mr.kitty', 'luke combs', 'natanael cano', 'marï¿½ï¿½lia mendo', 'em beihold', 'chefin', 'john lennon', 'wisin & yandel', 'mc xenon', 'the weeknd', 'joel corry', 'dopamine', 'sukriti kakar', '4*town (from disney and pixarï¿½ï¿½ï¿½s turning red)', 'suki waterhouse', 'grupo frontera', 'tate m', 'israel & rodolffo', 'mitchell ayres & his orchestra', 'doechii', 'john legend', 'jhay cortez', 'taylor swift', 'libianca', 'supernova ent', 'villano antillano', 'stray kids', 'yoasobi', 'the police', 'simone mendes', 'jain', 'alejo', 'arizonatears', 'bomba estï¿½ï¿½reo', 'os gemeos da putaria', 'tanna leone', 'jack harlow', 'nicky youre', 'dean lewis', 'nirvana', 'the chainsmokers', 'roger', 'anuel aa', 'tini', 'robin schulz', 'mnek', 'bianca', 'cruz cafunï¿½ï¿½', 'beï¿½ï', 'camila cabello', 'dj r', 'lil yachty', 'alicia keys', 'dr. dre', 'saiko', 'nengo flow', 'rvssian', 'james blake', 'daft punk', 'nat king cole', 'gunna', 'beth gibbons', \"guns n' roses\", 'vundabar', 'yandel', 'ken darby singers', 'ghost', 'tony dize', 'david kushner', 'frank ocean', 'raim laode', 'charlie puth', 'lauren spencer smith', 'gabito ballesteros', 'the walters', 'gabry ponte', 'aerosmith', 'maldy', 'ozuna', 'skrillex', 'kaifi khalil', 'summer walker', 'alvaro diaz', 'labrinth', 'childish gambino', 'treyce', 'eminem', '21 savage', 'dina rae', 'nf', 'anderson .paak', 'b. swanson quartet', 'bebe rexha', 'onerepublic', 'taeyang', 'thxsomch', '(g)i-dle', 'steve lacy', '347aidan', 'miley cyrus', 'jvke', 'sech', 'jax jones', 'zï¿½ï¿½ neto & crist', 'ed sheeran', 'panic! at the disco', 'sky rompiendo', 'a-ha', 'charli xcx', 'dj khaled', 'romeo santos', 'tiago pzk', 'miggy dela rosa', 'blessd', 'tomorrow x together', 'doï¿½ï¿½u ', 'linkin park', 'oxlade', 'seafret', 'julieta venegas', 'muni long', 'bad bunny', 'lil uzi vert', 'amitabha bhattacharya', 'polo g', 'rosalï¿½', 'yahritza y su esencia', 'grayson vill', 'metro boomin', 'mc paiva zs', 'bts', 'chris jedi', 'pinkpantheress', 'beach weather', 'yeat', 'bigbang', 'ana castela', 'lady gaga', 'plan b', 'anitta', 'arctic monkeys', 'ap dhillon', 'colin hay', 'luciano', 'paloma mami', 'marshmello', 'kordhell', 'agroplay', 'dj escobar', 'the ronettes', 'sim', 'topher ngo', 'sza', 'luï¿½ï¿½sa sonza', 'central cee', 'enhypen', 'chencho corleone', 'the rare occasions', 'nmixx', 'dove cameron', 'ryan lewis', 'ruth b.', 'eladio carrion', 'drake', 'l7nnon', 'nayeon', 'the marï¿½ï', 'zzoilo', 'prezioso', 'ice spice', 'the anxiety'}\n",
            "628\n"
          ]
        }
      ],
      "source": [
        "results = set()\n",
        "df['artist(s)_name'].str.lower().str.split(', ').apply(results.update)\n",
        "print(results)\n",
        "print(len(results))"
      ]
    },
    {
      "cell_type": "markdown",
      "metadata": {
        "id": "AOi3qas783C0"
      },
      "source": [
        "c) ¿Cuál es la distribución de reproducciones? **(0.5 puntos)**\n"
      ]
    },
    {
      "cell_type": "code",
      "execution_count": 15,
      "metadata": {
        "colab": {
          "base_uri": "https://localhost:8080/",
          "height": 698
        },
        "id": "bmd7dWUS89E3",
        "outputId": "d7323b11-e1ed-49f3-ee31-03ab55a6cbd5"
      },
      "outputs": [
        {
          "name": "stdout",
          "output_type": "stream",
          "text": [
            "count    8.160000e+02\n",
            "mean     4.689858e+08\n",
            "std      5.231267e+08\n",
            "min      2.762000e+03\n",
            "25%      1.342848e+08\n",
            "50%      2.638368e+08\n",
            "75%      6.011986e+08\n",
            "max      3.562544e+09\n",
            "Name: streams, dtype: float64\n"
          ]
        },
        {
          "data": {
            "application/vnd.plotly.v1+json": {
              "config": {
                "plotlyServerURL": "https://plot.ly"
              },
              "data": [
                {
                  "alignmentgroup": "True",
                  "bingroup": "x",
                  "histnorm": "probability density",
                  "hovertemplate": "Reproducciones=%{x}<br>probability density=%{y}<extra></extra>",
                  "legendgroup": "",
                  "marker": {
                    "color": "darkorange",
                    "opacity": 0.6,
                    "pattern": {
                      "shape": ""
                    }
                  },
                  "name": "",
                  "nbinsx": 100,
                  "offsetgroup": "",
                  "orientation": "v",
                  "showlegend": false,
                  "type": "histogram",
                  "x": [
                    141381703,
                    133716286,
                    140003974,
                    800840817,
                    303236322,
                    183706234,
                    725980112,
                    58149378,
                    95217315,
                    553634067,
                    505671438,
                    58255150,
                    387570742,
                    1163093654,
                    496795686,
                    335222234,
                    363369738,
                    86444842,
                    52135248,
                    200647221,
                    115364561,
                    78300654,
                    899183384,
                    61245289,
                    429829812,
                    127408954,
                    22581161,
                    52294266,
                    843957510,
                    999748277,
                    618990393,
                    188933502,
                    1355959075,
                    786181836,
                    176553476,
                    354495408,
                    2808096550,
                    1109433169,
                    1047101291,
                    570515054,
                    1647990401,
                    2565529693,
                    518745108,
                    107753850,
                    177740666,
                    153372011,
                    57876440,
                    256483385,
                    1214083358,
                    111947664,
                    156338624,
                    720434240,
                    357925728,
                    674072710,
                    1755214421,
                    404562836,
                    373199958,
                    14780425,
                    39578178,
                    54266102,
                    751134527,
                    1356565093,
                    1592909789,
                    635412045,
                    1230675890,
                    585695368,
                    43857627,
                    2009094673,
                    600976848,
                    39709092,
                    39228929,
                    2665343922,
                    223633238,
                    1440757818,
                    165484133,
                    58054811,
                    157058870,
                    95131998,
                    250305248,
                    685032533,
                    38411956,
                    144565150,
                    127567540,
                    399686758,
                    983637508,
                    118482347,
                    882831184,
                    286400165,
                    172825906,
                    1241559043,
                    29562220,
                    77309611,
                    1605224506,
                    1116995633,
                    838079900,
                    1163620694,
                    1093605526,
                    179659294,
                    39058561,
                    36912123,
                    1205951614,
                    1791000570,
                    201660859,
                    248088961,
                    90839753,
                    607123776,
                    55842345,
                    211050784,
                    342897938,
                    2762,
                    601863821,
                    1953533826,
                    2355719893,
                    66902503,
                    96273746,
                    430977451,
                    284819874,
                    721975598,
                    276259178,
                    54225632,
                    2559529074,
                    681583126,
                    2594040133,
                    81102253,
                    11956641,
                    1687664027,
                    611700552,
                    1133865788,
                    1089402494,
                    411747614,
                    255932395,
                    31873544,
                    233801632,
                    1481349984,
                    142095275,
                    2011464183,
                    436027885,
                    2713922350,
                    621660989,
                    950906471,
                    1593270737,
                    1410088830,
                    1235005533,
                    1374581173,
                    94186466,
                    1788326445,
                    1840364617,
                    143573775,
                    684675814,
                    1113838873,
                    1267333350,
                    3562543890,
                    1271293243,
                    265882712,
                    841749534,
                    47956378,
                    806397070,
                    1641426668,
                    2135158446,
                    367316268,
                    350381515,
                    1264310836,
                    30343206,
                    405136812,
                    540654286,
                    57312735,
                    397582059,
                    1479115056,
                    86773632,
                    133753727,
                    123124076,
                    463564958,
                    64533040,
                    65496046,
                    68616963,
                    161460990,
                    70106975,
                    113509496,
                    89933133,
                    71007139,
                    43522589,
                    232896922,
                    37126685,
                    195576623,
                    532336353,
                    538115192,
                    46142772,
                    401036314,
                    127026613,
                    345031710,
                    288101651,
                    60350538,
                    335074782,
                    76767396,
                    46065667,
                    459276435,
                    39666245,
                    138517666,
                    822633917,
                    595900742,
                    51985779,
                    57945987,
                    115010040,
                    175097833,
                    57089066,
                    488386797,
                    32761689,
                    1047480053,
                    153454328,
                    217672943,
                    457184829,
                    726434358,
                    573633020,
                    1406111294,
                    71573339,
                    24975653,
                    145458418,
                    1424589568,
                    231332117,
                    415932686,
                    988515741,
                    50847624,
                    39893489,
                    92035115,
                    118810253,
                    77233241,
                    117747907,
                    266624541,
                    293186992,
                    139681964,
                    123132751,
                    103762518,
                    162887075,
                    91221625,
                    190490915,
                    96180277,
                    185240616,
                    885093467,
                    104992946,
                    147290338,
                    158950978,
                    76910644,
                    137123880,
                    782369383,
                    502574952,
                    207033255,
                    381161027,
                    466231982,
                    357580552,
                    61105704,
                    198275403,
                    705469769,
                    34502215,
                    304118600,
                    1449799467,
                    173627354,
                    90025258,
                    652704649,
                    1829992958,
                    655466831,
                    146409671,
                    95816024,
                    117206995,
                    100409613,
                    80758350,
                    325592432,
                    58473276,
                    52722996,
                    191945597,
                    77377503,
                    743693613,
                    267789608,
                    449701773,
                    67070410,
                    116334601,
                    165584767,
                    367814306,
                    477033549,
                    156214700,
                    448843705,
                    294352144,
                    972164968,
                    920045682,
                    2420461338,
                    244658767,
                    68216992,
                    223582566,
                    471819764,
                    1361425037,
                    116599790,
                    148469433,
                    497225336,
                    88791109,
                    125917280,
                    105062254,
                    95623148,
                    144584800,
                    298063749,
                    166570053,
                    83021468,
                    139836056,
                    303216294,
                    221409663,
                    58890931,
                    81419389,
                    156777415,
                    284908316,
                    93438910,
                    363472647,
                    372476382,
                    56533272,
                    175399345,
                    203221468,
                    1624165576,
                    134294498,
                    70069745,
                    609293408,
                    671365962,
                    93587665,
                    1223481149,
                    1022258230,
                    263453310,
                    1435127549,
                    236857112,
                    147538971,
                    698086140,
                    723894473,
                    403097450,
                    309483971,
                    319566866,
                    909001996,
                    1061966512,
                    124988687,
                    134255790,
                    301051721,
                    156338624,
                    309653982,
                    297328960,
                    332506354,
                    480507035,
                    1065580332,
                    122763672,
                    1365184,
                    184308753,
                    606361689,
                    120972253,
                    338564981,
                    1606986953,
                    1301799902,
                    140187018,
                    107642809,
                    556585270,
                    2303033973,
                    646886885,
                    872137015,
                    571386359,
                    174006928,
                    284785823,
                    163284000,
                    246390068,
                    482257456,
                    168684524,
                    78489819,
                    195516622,
                    1260594497,
                    428685680,
                    1024858327,
                    838586769,
                    199386237,
                    972509632,
                    213438580,
                    210038833,
                    227918678,
                    826623384,
                    1802514301,
                    181831132,
                    462791599,
                    348647203,
                    90598517,
                    807561936,
                    663832097,
                    446390129,
                    485285717,
                    520034544,
                    476244795,
                    629173063,
                    404664135,
                    98709329,
                    110849052,
                    460492795,
                    94005786,
                    389771964,
                    403939487,
                    110073250,
                    351636786,
                    473248298,
                    73981293,
                    155653938,
                    395591396,
                    429504768,
                    242767149,
                    65362788,
                    67540165,
                    62019074,
                    295998468,
                    136689549,
                    135611421,
                    356709897,
                    110649992,
                    301869854,
                    127027715,
                    57144458,
                    56870689,
                    323437194,
                    317726339,
                    116144341,
                    328207708,
                    608228647,
                    180577478,
                    809306935,
                    49262961,
                    614555082,
                    245350949,
                    178660459,
                    51641685,
                    78139948,
                    322336177,
                    391251368,
                    349585590,
                    674772936,
                    119238316,
                    116903579,
                    888046992,
                    130655803,
                    88103848,
                    101114984,
                    1575467011,
                    91656026,
                    53933526,
                    267758538,
                    74601456,
                    920797189,
                    539595276,
                    1367810478,
                    578207856,
                    775542072,
                    656013912,
                    240684449,
                    63803529,
                    466214729,
                    236940480,
                    41924466,
                    225259194,
                    393230256,
                    287201015,
                    599770206,
                    342779426,
                    673801126,
                    1168642797,
                    383550148,
                    530511203,
                    510876816,
                    1763363713,
                    374191487,
                    108809090,
                    436695353,
                    354065229,
                    1143647827,
                    311395144,
                    672656250,
                    1256880657,
                    245095641,
                    686734357,
                    261414174,
                    610045621,
                    1115880852,
                    594482982,
                    566954746,
                    null,
                    184937148,
                    31959571,
                    824420218,
                    363467642,
                    1127468248,
                    60680939,
                    247737946,
                    154797871,
                    124407432,
                    850608354,
                    376333030,
                    516784627,
                    1608045237,
                    506778838,
                    1472799873,
                    513643924,
                    261286503,
                    783706581,
                    422691058,
                    1062345656,
                    851070493,
                    263894529,
                    345903614,
                    956865266,
                    427486004,
                    156658366,
                    624515457,
                    777765388,
                    1138474110,
                    355219175,
                    290228626,
                    1062956628,
                    1180094974,
                    1456081449,
                    432702334,
                    489945871,
                    465959382,
                    1223481149,
                    2288695111,
                    720825549,
                    2086124197,
                    1690192927,
                    593917618,
                    200972675,
                    71014967,
                    560222750,
                    1806617704,
                    77337771,
                    528544703,
                    865640097,
                    2159346687,
                    211372494,
                    651732901,
                    608334048,
                    863756573,
                    797402345,
                    1695712020,
                    1759567999,
                    223319934,
                    54937991,
                    258316038,
                    596152090,
                    177129919,
                    716591492,
                    1210599487,
                    246376690,
                    496311364,
                    843309044,
                    500340342,
                    107255472,
                    135079152,
                    822239726,
                    1202722675,
                    343197054,
                    240769997,
                    426204830,
                    421135627,
                    554875730,
                    327498031,
                    185408548,
                    245400167,
                    579395142,
                    675039469,
                    252871192,
                    231996128,
                    1929770265,
                    918915401,
                    1180896317,
                    498960285,
                    258714692,
                    143139338,
                    209768491,
                    64714573,
                    50746620,
                    154119539,
                    181328253,
                    370068639,
                    2280566092,
                    563902868,
                    317622165,
                    203680270,
                    81350745,
                    282883169,
                    64787943,
                    2484812918,
                    461437791,
                    1439191367,
                    759208783,
                    368646862,
                    299634472,
                    756907987,
                    682475162,
                    546191065,
                    229473310,
                    202677468,
                    208166039,
                    527033089,
                    94616487,
                    394030335,
                    193443895,
                    299648208,
                    319757142,
                    153240879,
                    346127840,
                    312622938,
                    1200808494,
                    797196073,
                    1970673297,
                    665765558,
                    263779030,
                    339473453,
                    2204080728,
                    2591224264,
                    135444283,
                    236872197,
                    694525298,
                    421365166,
                    349746291,
                    255120451,
                    190981339,
                    924193303,
                    305771063,
                    273005485,
                    89566512,
                    677389855,
                    75476209,
                    408843328,
                    187772591,
                    178512385,
                    101780047,
                    146363130,
                    126443991,
                    157990698,
                    176290831,
                    1023187129,
                    106933107,
                    139193812,
                    212234990,
                    1714490998,
                    197643795,
                    807015863,
                    933815613,
                    499710590,
                    120847157,
                    53909146,
                    2236667932,
                    2123309722,
                    301242089,
                    723894473,
                    237351106,
                    461558540,
                    156898322,
                    127309180,
                    173702135,
                    305650299,
                    123216717,
                    479655659,
                    126191104,
                    344055883,
                    338422004,
                    68895644,
                    86176890,
                    403231558,
                    319546754,
                    61739839,
                    283359161,
                    76831876,
                    283332261,
                    307752576,
                    279737940,
                    212351890,
                    1304313953,
                    150500965,
                    246127838,
                    582863434,
                    58687425,
                    212109195,
                    382199619,
                    41210087,
                    231657891,
                    53729194,
                    244741137,
                    42485571,
                    37778188,
                    254218729,
                    53603447,
                    160035717,
                    37091576,
                    284249832,
                    33381454,
                    184622518,
                    300983101,
                    121077868,
                    106919680,
                    136996305,
                    65719930,
                    229497852,
                    185550869,
                    54682594,
                    240580042,
                    1284942608,
                    71423324,
                    244891912,
                    132171975,
                    184706613,
                    184826429,
                    302006641,
                    330881149,
                    334733572,
                    366214458,
                    114546317,
                    448500832,
                    136676504,
                    190625045,
                    79095270,
                    273194684,
                    333146475,
                    194902696,
                    195918494,
                    248511839,
                    233671263,
                    199587884,
                    91781263,
                    383835984,
                    236060709,
                    189236868,
                    160845341,
                    588955257,
                    238350348,
                    187703102,
                    138334433,
                    445590495,
                    286739476,
                    1122364376,
                    157136970,
                    183273246,
                    164856284,
                    704171068,
                    354614964,
                    279717388,
                    195628667,
                    221752937,
                    263280370,
                    213505179,
                    130419412,
                    155795783,
                    1553497987,
                    293466523,
                    191448892,
                    85924992,
                    176103902,
                    121189256,
                    131746175,
                    244790012,
                    129314708,
                    331511413,
                    170732845,
                    179061440,
                    185236961,
                    171788484,
                    387080183,
                    264717480,
                    244928911,
                    97610446,
                    287278853,
                    887906111,
                    123473120,
                    323455692,
                    240918092,
                    191873381,
                    239411309,
                    703301727,
                    189476119,
                    277132266,
                    278920007,
                    222410722,
                    185392587,
                    202452860,
                    1608164312,
                    624101957,
                    148461629,
                    47093942,
                    380319238,
                    209106362,
                    53987404,
                    115331792,
                    225093344,
                    84697729,
                    159240673,
                    170709584,
                    154356956,
                    723043854,
                    247689123,
                    176474912,
                    235549288,
                    85559365,
                    146223492,
                    187701588,
                    154863153,
                    191333656,
                    253650850,
                    223064273,
                    170413877,
                    218320587,
                    141720999,
                    198365537,
                    177503916,
                    71095708,
                    112436403,
                    203436468,
                    93367537,
                    106249219,
                    181382590,
                    91473363,
                    121871870,
                    73513683,
                    133895612,
                    96007391
                  ],
                  "xaxis": "x",
                  "yaxis": "y"
                }
              ],
              "layout": {
                "barmode": "relative",
                "legend": {
                  "tracegroupgap": 0
                },
                "margin": {
                  "t": 60
                },
                "template": {
                  "data": {
                    "bar": [
                      {
                        "error_x": {
                          "color": "#2a3f5f"
                        },
                        "error_y": {
                          "color": "#2a3f5f"
                        },
                        "marker": {
                          "line": {
                            "color": "#E5ECF6",
                            "width": 0.5
                          },
                          "pattern": {
                            "fillmode": "overlay",
                            "size": 10,
                            "solidity": 0.2
                          }
                        },
                        "type": "bar"
                      }
                    ],
                    "barpolar": [
                      {
                        "marker": {
                          "line": {
                            "color": "#E5ECF6",
                            "width": 0.5
                          },
                          "pattern": {
                            "fillmode": "overlay",
                            "size": 10,
                            "solidity": 0.2
                          }
                        },
                        "type": "barpolar"
                      }
                    ],
                    "carpet": [
                      {
                        "aaxis": {
                          "endlinecolor": "#2a3f5f",
                          "gridcolor": "white",
                          "linecolor": "white",
                          "minorgridcolor": "white",
                          "startlinecolor": "#2a3f5f"
                        },
                        "baxis": {
                          "endlinecolor": "#2a3f5f",
                          "gridcolor": "white",
                          "linecolor": "white",
                          "minorgridcolor": "white",
                          "startlinecolor": "#2a3f5f"
                        },
                        "type": "carpet"
                      }
                    ],
                    "choropleth": [
                      {
                        "colorbar": {
                          "outlinewidth": 0,
                          "ticks": ""
                        },
                        "type": "choropleth"
                      }
                    ],
                    "contour": [
                      {
                        "colorbar": {
                          "outlinewidth": 0,
                          "ticks": ""
                        },
                        "colorscale": [
                          [
                            0,
                            "#0d0887"
                          ],
                          [
                            0.1111111111111111,
                            "#46039f"
                          ],
                          [
                            0.2222222222222222,
                            "#7201a8"
                          ],
                          [
                            0.3333333333333333,
                            "#9c179e"
                          ],
                          [
                            0.4444444444444444,
                            "#bd3786"
                          ],
                          [
                            0.5555555555555556,
                            "#d8576b"
                          ],
                          [
                            0.6666666666666666,
                            "#ed7953"
                          ],
                          [
                            0.7777777777777778,
                            "#fb9f3a"
                          ],
                          [
                            0.8888888888888888,
                            "#fdca26"
                          ],
                          [
                            1,
                            "#f0f921"
                          ]
                        ],
                        "type": "contour"
                      }
                    ],
                    "contourcarpet": [
                      {
                        "colorbar": {
                          "outlinewidth": 0,
                          "ticks": ""
                        },
                        "type": "contourcarpet"
                      }
                    ],
                    "heatmap": [
                      {
                        "colorbar": {
                          "outlinewidth": 0,
                          "ticks": ""
                        },
                        "colorscale": [
                          [
                            0,
                            "#0d0887"
                          ],
                          [
                            0.1111111111111111,
                            "#46039f"
                          ],
                          [
                            0.2222222222222222,
                            "#7201a8"
                          ],
                          [
                            0.3333333333333333,
                            "#9c179e"
                          ],
                          [
                            0.4444444444444444,
                            "#bd3786"
                          ],
                          [
                            0.5555555555555556,
                            "#d8576b"
                          ],
                          [
                            0.6666666666666666,
                            "#ed7953"
                          ],
                          [
                            0.7777777777777778,
                            "#fb9f3a"
                          ],
                          [
                            0.8888888888888888,
                            "#fdca26"
                          ],
                          [
                            1,
                            "#f0f921"
                          ]
                        ],
                        "type": "heatmap"
                      }
                    ],
                    "heatmapgl": [
                      {
                        "colorbar": {
                          "outlinewidth": 0,
                          "ticks": ""
                        },
                        "colorscale": [
                          [
                            0,
                            "#0d0887"
                          ],
                          [
                            0.1111111111111111,
                            "#46039f"
                          ],
                          [
                            0.2222222222222222,
                            "#7201a8"
                          ],
                          [
                            0.3333333333333333,
                            "#9c179e"
                          ],
                          [
                            0.4444444444444444,
                            "#bd3786"
                          ],
                          [
                            0.5555555555555556,
                            "#d8576b"
                          ],
                          [
                            0.6666666666666666,
                            "#ed7953"
                          ],
                          [
                            0.7777777777777778,
                            "#fb9f3a"
                          ],
                          [
                            0.8888888888888888,
                            "#fdca26"
                          ],
                          [
                            1,
                            "#f0f921"
                          ]
                        ],
                        "type": "heatmapgl"
                      }
                    ],
                    "histogram": [
                      {
                        "marker": {
                          "pattern": {
                            "fillmode": "overlay",
                            "size": 10,
                            "solidity": 0.2
                          }
                        },
                        "type": "histogram"
                      }
                    ],
                    "histogram2d": [
                      {
                        "colorbar": {
                          "outlinewidth": 0,
                          "ticks": ""
                        },
                        "colorscale": [
                          [
                            0,
                            "#0d0887"
                          ],
                          [
                            0.1111111111111111,
                            "#46039f"
                          ],
                          [
                            0.2222222222222222,
                            "#7201a8"
                          ],
                          [
                            0.3333333333333333,
                            "#9c179e"
                          ],
                          [
                            0.4444444444444444,
                            "#bd3786"
                          ],
                          [
                            0.5555555555555556,
                            "#d8576b"
                          ],
                          [
                            0.6666666666666666,
                            "#ed7953"
                          ],
                          [
                            0.7777777777777778,
                            "#fb9f3a"
                          ],
                          [
                            0.8888888888888888,
                            "#fdca26"
                          ],
                          [
                            1,
                            "#f0f921"
                          ]
                        ],
                        "type": "histogram2d"
                      }
                    ],
                    "histogram2dcontour": [
                      {
                        "colorbar": {
                          "outlinewidth": 0,
                          "ticks": ""
                        },
                        "colorscale": [
                          [
                            0,
                            "#0d0887"
                          ],
                          [
                            0.1111111111111111,
                            "#46039f"
                          ],
                          [
                            0.2222222222222222,
                            "#7201a8"
                          ],
                          [
                            0.3333333333333333,
                            "#9c179e"
                          ],
                          [
                            0.4444444444444444,
                            "#bd3786"
                          ],
                          [
                            0.5555555555555556,
                            "#d8576b"
                          ],
                          [
                            0.6666666666666666,
                            "#ed7953"
                          ],
                          [
                            0.7777777777777778,
                            "#fb9f3a"
                          ],
                          [
                            0.8888888888888888,
                            "#fdca26"
                          ],
                          [
                            1,
                            "#f0f921"
                          ]
                        ],
                        "type": "histogram2dcontour"
                      }
                    ],
                    "mesh3d": [
                      {
                        "colorbar": {
                          "outlinewidth": 0,
                          "ticks": ""
                        },
                        "type": "mesh3d"
                      }
                    ],
                    "parcoords": [
                      {
                        "line": {
                          "colorbar": {
                            "outlinewidth": 0,
                            "ticks": ""
                          }
                        },
                        "type": "parcoords"
                      }
                    ],
                    "pie": [
                      {
                        "automargin": true,
                        "type": "pie"
                      }
                    ],
                    "scatter": [
                      {
                        "fillpattern": {
                          "fillmode": "overlay",
                          "size": 10,
                          "solidity": 0.2
                        },
                        "type": "scatter"
                      }
                    ],
                    "scatter3d": [
                      {
                        "line": {
                          "colorbar": {
                            "outlinewidth": 0,
                            "ticks": ""
                          }
                        },
                        "marker": {
                          "colorbar": {
                            "outlinewidth": 0,
                            "ticks": ""
                          }
                        },
                        "type": "scatter3d"
                      }
                    ],
                    "scattercarpet": [
                      {
                        "marker": {
                          "colorbar": {
                            "outlinewidth": 0,
                            "ticks": ""
                          }
                        },
                        "type": "scattercarpet"
                      }
                    ],
                    "scattergeo": [
                      {
                        "marker": {
                          "colorbar": {
                            "outlinewidth": 0,
                            "ticks": ""
                          }
                        },
                        "type": "scattergeo"
                      }
                    ],
                    "scattergl": [
                      {
                        "marker": {
                          "colorbar": {
                            "outlinewidth": 0,
                            "ticks": ""
                          }
                        },
                        "type": "scattergl"
                      }
                    ],
                    "scattermapbox": [
                      {
                        "marker": {
                          "colorbar": {
                            "outlinewidth": 0,
                            "ticks": ""
                          }
                        },
                        "type": "scattermapbox"
                      }
                    ],
                    "scatterpolar": [
                      {
                        "marker": {
                          "colorbar": {
                            "outlinewidth": 0,
                            "ticks": ""
                          }
                        },
                        "type": "scatterpolar"
                      }
                    ],
                    "scatterpolargl": [
                      {
                        "marker": {
                          "colorbar": {
                            "outlinewidth": 0,
                            "ticks": ""
                          }
                        },
                        "type": "scatterpolargl"
                      }
                    ],
                    "scatterternary": [
                      {
                        "marker": {
                          "colorbar": {
                            "outlinewidth": 0,
                            "ticks": ""
                          }
                        },
                        "type": "scatterternary"
                      }
                    ],
                    "surface": [
                      {
                        "colorbar": {
                          "outlinewidth": 0,
                          "ticks": ""
                        },
                        "colorscale": [
                          [
                            0,
                            "#0d0887"
                          ],
                          [
                            0.1111111111111111,
                            "#46039f"
                          ],
                          [
                            0.2222222222222222,
                            "#7201a8"
                          ],
                          [
                            0.3333333333333333,
                            "#9c179e"
                          ],
                          [
                            0.4444444444444444,
                            "#bd3786"
                          ],
                          [
                            0.5555555555555556,
                            "#d8576b"
                          ],
                          [
                            0.6666666666666666,
                            "#ed7953"
                          ],
                          [
                            0.7777777777777778,
                            "#fb9f3a"
                          ],
                          [
                            0.8888888888888888,
                            "#fdca26"
                          ],
                          [
                            1,
                            "#f0f921"
                          ]
                        ],
                        "type": "surface"
                      }
                    ],
                    "table": [
                      {
                        "cells": {
                          "fill": {
                            "color": "#EBF0F8"
                          },
                          "line": {
                            "color": "white"
                          }
                        },
                        "header": {
                          "fill": {
                            "color": "#C8D4E3"
                          },
                          "line": {
                            "color": "white"
                          }
                        },
                        "type": "table"
                      }
                    ]
                  },
                  "layout": {
                    "annotationdefaults": {
                      "arrowcolor": "#2a3f5f",
                      "arrowhead": 0,
                      "arrowwidth": 1
                    },
                    "autotypenumbers": "strict",
                    "coloraxis": {
                      "colorbar": {
                        "outlinewidth": 0,
                        "ticks": ""
                      }
                    },
                    "colorscale": {
                      "diverging": [
                        [
                          0,
                          "#8e0152"
                        ],
                        [
                          0.1,
                          "#c51b7d"
                        ],
                        [
                          0.2,
                          "#de77ae"
                        ],
                        [
                          0.3,
                          "#f1b6da"
                        ],
                        [
                          0.4,
                          "#fde0ef"
                        ],
                        [
                          0.5,
                          "#f7f7f7"
                        ],
                        [
                          0.6,
                          "#e6f5d0"
                        ],
                        [
                          0.7,
                          "#b8e186"
                        ],
                        [
                          0.8,
                          "#7fbc41"
                        ],
                        [
                          0.9,
                          "#4d9221"
                        ],
                        [
                          1,
                          "#276419"
                        ]
                      ],
                      "sequential": [
                        [
                          0,
                          "#0d0887"
                        ],
                        [
                          0.1111111111111111,
                          "#46039f"
                        ],
                        [
                          0.2222222222222222,
                          "#7201a8"
                        ],
                        [
                          0.3333333333333333,
                          "#9c179e"
                        ],
                        [
                          0.4444444444444444,
                          "#bd3786"
                        ],
                        [
                          0.5555555555555556,
                          "#d8576b"
                        ],
                        [
                          0.6666666666666666,
                          "#ed7953"
                        ],
                        [
                          0.7777777777777778,
                          "#fb9f3a"
                        ],
                        [
                          0.8888888888888888,
                          "#fdca26"
                        ],
                        [
                          1,
                          "#f0f921"
                        ]
                      ],
                      "sequentialminus": [
                        [
                          0,
                          "#0d0887"
                        ],
                        [
                          0.1111111111111111,
                          "#46039f"
                        ],
                        [
                          0.2222222222222222,
                          "#7201a8"
                        ],
                        [
                          0.3333333333333333,
                          "#9c179e"
                        ],
                        [
                          0.4444444444444444,
                          "#bd3786"
                        ],
                        [
                          0.5555555555555556,
                          "#d8576b"
                        ],
                        [
                          0.6666666666666666,
                          "#ed7953"
                        ],
                        [
                          0.7777777777777778,
                          "#fb9f3a"
                        ],
                        [
                          0.8888888888888888,
                          "#fdca26"
                        ],
                        [
                          1,
                          "#f0f921"
                        ]
                      ]
                    },
                    "colorway": [
                      "#636efa",
                      "#EF553B",
                      "#00cc96",
                      "#ab63fa",
                      "#FFA15A",
                      "#19d3f3",
                      "#FF6692",
                      "#B6E880",
                      "#FF97FF",
                      "#FECB52"
                    ],
                    "font": {
                      "color": "#2a3f5f"
                    },
                    "geo": {
                      "bgcolor": "white",
                      "lakecolor": "white",
                      "landcolor": "#E5ECF6",
                      "showlakes": true,
                      "showland": true,
                      "subunitcolor": "white"
                    },
                    "hoverlabel": {
                      "align": "left"
                    },
                    "hovermode": "closest",
                    "mapbox": {
                      "style": "light"
                    },
                    "paper_bgcolor": "white",
                    "plot_bgcolor": "#E5ECF6",
                    "polar": {
                      "angularaxis": {
                        "gridcolor": "white",
                        "linecolor": "white",
                        "ticks": ""
                      },
                      "bgcolor": "#E5ECF6",
                      "radialaxis": {
                        "gridcolor": "white",
                        "linecolor": "white",
                        "ticks": ""
                      }
                    },
                    "scene": {
                      "xaxis": {
                        "backgroundcolor": "#E5ECF6",
                        "gridcolor": "white",
                        "gridwidth": 2,
                        "linecolor": "white",
                        "showbackground": true,
                        "ticks": "",
                        "zerolinecolor": "white"
                      },
                      "yaxis": {
                        "backgroundcolor": "#E5ECF6",
                        "gridcolor": "white",
                        "gridwidth": 2,
                        "linecolor": "white",
                        "showbackground": true,
                        "ticks": "",
                        "zerolinecolor": "white"
                      },
                      "zaxis": {
                        "backgroundcolor": "#E5ECF6",
                        "gridcolor": "white",
                        "gridwidth": 2,
                        "linecolor": "white",
                        "showbackground": true,
                        "ticks": "",
                        "zerolinecolor": "white"
                      }
                    },
                    "shapedefaults": {
                      "line": {
                        "color": "#2a3f5f"
                      }
                    },
                    "ternary": {
                      "aaxis": {
                        "gridcolor": "white",
                        "linecolor": "white",
                        "ticks": ""
                      },
                      "baxis": {
                        "gridcolor": "white",
                        "linecolor": "white",
                        "ticks": ""
                      },
                      "bgcolor": "#E5ECF6",
                      "caxis": {
                        "gridcolor": "white",
                        "linecolor": "white",
                        "ticks": ""
                      }
                    },
                    "title": {
                      "x": 0.05
                    },
                    "xaxis": {
                      "automargin": true,
                      "gridcolor": "white",
                      "linecolor": "white",
                      "ticks": "",
                      "title": {
                        "standoff": 15
                      },
                      "zerolinecolor": "white",
                      "zerolinewidth": 2
                    },
                    "yaxis": {
                      "automargin": true,
                      "gridcolor": "white",
                      "linecolor": "white",
                      "ticks": "",
                      "title": {
                        "standoff": 15
                      },
                      "zerolinecolor": "white",
                      "zerolinewidth": 2
                    }
                  }
                },
                "xaxis": {
                  "anchor": "y",
                  "domain": [
                    0,
                    1
                  ],
                  "title": {
                    "text": "Reproducciones"
                  }
                },
                "yaxis": {
                  "anchor": "x",
                  "domain": [
                    0,
                    1
                  ],
                  "title": {
                    "text": "probability density"
                  }
                }
              }
            }
          },
          "metadata": {},
          "output_type": "display_data"
        }
      ],
      "source": [
        "print(df.streams.describe())\n",
        "\n",
        "fig = px.histogram(df, x=\"streams\",\n",
        "                   labels = {\"streams\": \"Reproducciones\"},\n",
        "                   histnorm='probability density',\n",
        "                   nbins = 100,\n",
        "                   opacity=0.6)\n",
        "\n",
        "fig.update_traces(marker_color = \"darkorange\")\n",
        "fig.show()"
      ]
    },
    {
      "cell_type": "markdown",
      "metadata": {
        "id": "0hHockBe9gjR"
      },
      "source": [
        "d) ¿Existe una diferencia signitificativa en las reproducciones entre las canciones de un solo artista y las de más de uno? **(0.5 puntos)**"
      ]
    },
    {
      "cell_type": "code",
      "execution_count": 16,
      "metadata": {
        "colab": {
          "base_uri": "https://localhost:8080/",
          "height": 872
        },
        "id": "PO2_akFK9mNE",
        "outputId": "2ae22cfc-0d71-4021-ec43-27978106a5d7"
      },
      "outputs": [
        {
          "name": "stdout",
          "output_type": "stream",
          "text": [
            "count    3.230000e+02\n",
            "mean     4.118884e+08\n",
            "std      5.029107e+08\n",
            "min      2.762000e+03\n",
            "25%      1.103616e+08\n",
            "50%      2.233199e+08\n",
            "75%      5.352258e+08\n",
            "max      2.808097e+09\n",
            "Name: streams, dtype: float64\n",
            "count    4.930000e+02\n",
            "mean     5.063944e+08\n",
            "std      5.331516e+08\n",
            "min      1.478042e+07\n",
            "25%      1.562147e+08\n",
            "50%      2.996482e+08\n",
            "75%      6.815831e+08\n",
            "max      3.562544e+09\n",
            "Name: streams, dtype: float64\n"
          ]
        },
        {
          "data": {
            "application/vnd.plotly.v1+json": {
              "config": {
                "plotlyServerURL": "https://plot.ly"
              },
              "data": [
                {
                  "boxmean": true,
                  "boxpoints": "all",
                  "marker": {
                    "color": "gold"
                  },
                  "name": "Más de dos",
                  "type": "box",
                  "x": [
                    141381703,
                    183706234,
                    725980112,
                    553634067,
                    505671438,
                    335222234,
                    86444842,
                    200647221,
                    115364561,
                    899183384,
                    61245289,
                    52294266,
                    843957510,
                    618990393,
                    188933502,
                    354495408,
                    2808096550,
                    1109433169,
                    1047101291,
                    2565529693,
                    518745108,
                    107753850,
                    177740666,
                    111947664,
                    156338624,
                    720434240,
                    357925728,
                    674072710,
                    54266102,
                    1356565093,
                    1230675890,
                    585695368,
                    600976848,
                    39709092,
                    2665343922,
                    223633238,
                    1440757818,
                    58054811,
                    250305248,
                    144565150,
                    286400165,
                    1605224506,
                    1093605526,
                    39058561,
                    248088961,
                    90839753,
                    55842345,
                    211050784,
                    2762,
                    1953533826,
                    2355719893,
                    66902503,
                    721975598,
                    276259178,
                    54225632,
                    81102253,
                    11956641,
                    611700552,
                    1133865788,
                    233801632,
                    142095275,
                    436027885,
                    2713922350,
                    1235005533,
                    94186466,
                    367316268,
                    57312735,
                    86773632,
                    133753727,
                    463564958,
                    64533040,
                    161460990,
                    70106975,
                    113509496,
                    89933133,
                    71007139,
                    43522589,
                    37126685,
                    532336353,
                    538115192,
                    46142772,
                    401036314,
                    127026613,
                    288101651,
                    60350538,
                    46065667,
                    39666245,
                    138517666,
                    51985779,
                    57945987,
                    115010040,
                    57089066,
                    32761689,
                    573633020,
                    71573339,
                    24975653,
                    231332117,
                    50847624,
                    92035115,
                    77233241,
                    266624541,
                    162887075,
                    96180277,
                    104992946,
                    147290338,
                    158950978,
                    76910644,
                    207033255,
                    61105704,
                    198275403,
                    705469769,
                    34502215,
                    304118600,
                    90025258,
                    652704649,
                    655466831,
                    146409671,
                    95816024,
                    100409613,
                    80758350,
                    325592432,
                    58473276,
                    77377503,
                    116334601,
                    477033549,
                    294352144,
                    223582566,
                    471819764,
                    116599790,
                    497225336,
                    105062254,
                    139836056,
                    221409663,
                    58890931,
                    93438910,
                    609293408,
                    93587665,
                    1223481149,
                    263453310,
                    1435127549,
                    236857112,
                    309483971,
                    1061966512,
                    1065580332,
                    1365184,
                    184308753,
                    606361689,
                    120972253,
                    140187018,
                    556585270,
                    174006928,
                    78489819,
                    195516622,
                    972509632,
                    213438580,
                    1802514301,
                    462791599,
                    90598517,
                    460492795,
                    94005786,
                    110073250,
                    473248298,
                    155653938,
                    395591396,
                    295998468,
                    136689549,
                    110649992,
                    323437194,
                    116144341,
                    608228647,
                    180577478,
                    809306935,
                    614555082,
                    78139948,
                    322336177,
                    349585590,
                    674772936,
                    88103848,
                    1575467011,
                    91656026,
                    539595276,
                    578207856,
                    775542072,
                    656013912,
                    240684449,
                    236940480,
                    393230256,
                    673801126,
                    383550148,
                    530511203,
                    1763363713,
                    374191487,
                    436695353,
                    354065229,
                    311395144,
                    672656250,
                    686734357,
                    261414174,
                    610045621,
                    1115880852,
                    594482982,
                    566954746,
                    184937148,
                    60680939,
                    154797871,
                    261286503,
                    422691058,
                    263894529,
                    956865266,
                    427486004,
                    355219175,
                    489945871,
                    1223481149,
                    720825549,
                    593917618,
                    200972675,
                    560222750,
                    528544703,
                    2159346687,
                    651732901,
                    863756573,
                    1695712020,
                    223319934,
                    54937991,
                    258316038,
                    596152090,
                    177129919,
                    716591492,
                    1210599487,
                    843309044,
                    107255472,
                    135079152,
                    426204830,
                    327498031,
                    245400167,
                    579395142,
                    675039469,
                    252871192,
                    918915401,
                    1180896317,
                    143139338,
                    209768491,
                    64714573,
                    81350745,
                    64787943,
                    2484812918,
                    461437791,
                    759208783,
                    299634472,
                    756907987,
                    208166039,
                    94616487,
                    153240879,
                    2204080728,
                    2591224264,
                    236872197,
                    349746291,
                    273005485,
                    75476209,
                    187772591,
                    178512385,
                    176290831,
                    106933107,
                    197643795,
                    933815613,
                    120847157,
                    237351106,
                    127309180,
                    123216717,
                    479655659,
                    344055883,
                    68895644,
                    86176890,
                    319546754,
                    76831876,
                    307752576,
                    1304313953,
                    58687425,
                    212109195,
                    284249832,
                    33381454,
                    184622518,
                    300983101,
                    121077868,
                    106919680,
                    240580042,
                    136676504,
                    190625045,
                    333146475,
                    194902696,
                    248511839,
                    383835984,
                    160845341,
                    138334433,
                    286739476,
                    279717388,
                    130419412,
                    85924992,
                    176103902,
                    121189256,
                    129314708,
                    170732845,
                    287278853,
                    123473120,
                    323455692,
                    240918092,
                    191873381,
                    47093942,
                    209106362,
                    84697729,
                    159240673,
                    146223492,
                    187701588,
                    154863153,
                    191333656,
                    170413877,
                    141720999,
                    198365537,
                    71095708,
                    112436403,
                    106249219,
                    73513683,
                    133895612
                  ]
                },
                {
                  "boxmean": true,
                  "boxpoints": "all",
                  "marker": {
                    "color": "mediumseagreen"
                  },
                  "name": "Un solo artista",
                  "type": "box",
                  "x": [
                    133716286,
                    140003974,
                    800840817,
                    303236322,
                    58149378,
                    95217315,
                    58255150,
                    387570742,
                    1163093654,
                    496795686,
                    363369738,
                    52135248,
                    78300654,
                    429829812,
                    127408954,
                    22581161,
                    999748277,
                    1355959075,
                    786181836,
                    176553476,
                    570515054,
                    1647990401,
                    153372011,
                    57876440,
                    256483385,
                    1214083358,
                    1755214421,
                    404562836,
                    373199958,
                    14780425,
                    39578178,
                    751134527,
                    1592909789,
                    635412045,
                    43857627,
                    2009094673,
                    39228929,
                    165484133,
                    157058870,
                    95131998,
                    685032533,
                    38411956,
                    127567540,
                    399686758,
                    983637508,
                    118482347,
                    882831184,
                    172825906,
                    1241559043,
                    29562220,
                    77309611,
                    1116995633,
                    838079900,
                    1163620694,
                    179659294,
                    36912123,
                    1205951614,
                    1791000570,
                    201660859,
                    607123776,
                    342897938,
                    601863821,
                    96273746,
                    430977451,
                    284819874,
                    2559529074,
                    681583126,
                    2594040133,
                    1687664027,
                    1089402494,
                    411747614,
                    255932395,
                    31873544,
                    1481349984,
                    2011464183,
                    621660989,
                    950906471,
                    1593270737,
                    1410088830,
                    1374581173,
                    1788326445,
                    1840364617,
                    143573775,
                    684675814,
                    1113838873,
                    1267333350,
                    3562543890,
                    1271293243,
                    265882712,
                    841749534,
                    47956378,
                    806397070,
                    1641426668,
                    2135158446,
                    350381515,
                    1264310836,
                    30343206,
                    405136812,
                    540654286,
                    397582059,
                    1479115056,
                    123124076,
                    65496046,
                    68616963,
                    232896922,
                    195576623,
                    345031710,
                    335074782,
                    76767396,
                    459276435,
                    822633917,
                    595900742,
                    175097833,
                    488386797,
                    1047480053,
                    153454328,
                    217672943,
                    457184829,
                    726434358,
                    1406111294,
                    145458418,
                    1424589568,
                    415932686,
                    988515741,
                    39893489,
                    118810253,
                    117747907,
                    293186992,
                    139681964,
                    123132751,
                    103762518,
                    91221625,
                    190490915,
                    185240616,
                    885093467,
                    137123880,
                    782369383,
                    502574952,
                    381161027,
                    466231982,
                    357580552,
                    1449799467,
                    173627354,
                    1829992958,
                    117206995,
                    52722996,
                    191945597,
                    743693613,
                    267789608,
                    449701773,
                    67070410,
                    165584767,
                    367814306,
                    156214700,
                    448843705,
                    972164968,
                    920045682,
                    2420461338,
                    244658767,
                    68216992,
                    1361425037,
                    148469433,
                    88791109,
                    125917280,
                    95623148,
                    144584800,
                    298063749,
                    166570053,
                    83021468,
                    303216294,
                    81419389,
                    156777415,
                    284908316,
                    363472647,
                    372476382,
                    56533272,
                    175399345,
                    203221468,
                    1624165576,
                    134294498,
                    70069745,
                    671365962,
                    1022258230,
                    147538971,
                    698086140,
                    723894473,
                    403097450,
                    319566866,
                    909001996,
                    124988687,
                    134255790,
                    301051721,
                    156338624,
                    309653982,
                    297328960,
                    332506354,
                    480507035,
                    122763672,
                    338564981,
                    1606986953,
                    1301799902,
                    107642809,
                    2303033973,
                    646886885,
                    872137015,
                    571386359,
                    284785823,
                    163284000,
                    246390068,
                    482257456,
                    168684524,
                    1260594497,
                    428685680,
                    1024858327,
                    838586769,
                    199386237,
                    210038833,
                    227918678,
                    826623384,
                    181831132,
                    348647203,
                    807561936,
                    663832097,
                    446390129,
                    485285717,
                    520034544,
                    476244795,
                    629173063,
                    404664135,
                    98709329,
                    110849052,
                    389771964,
                    403939487,
                    351636786,
                    73981293,
                    429504768,
                    242767149,
                    65362788,
                    67540165,
                    62019074,
                    135611421,
                    356709897,
                    301869854,
                    127027715,
                    57144458,
                    56870689,
                    317726339,
                    328207708,
                    49262961,
                    245350949,
                    178660459,
                    51641685,
                    391251368,
                    119238316,
                    116903579,
                    888046992,
                    130655803,
                    101114984,
                    53933526,
                    267758538,
                    74601456,
                    920797189,
                    1367810478,
                    63803529,
                    466214729,
                    41924466,
                    225259194,
                    287201015,
                    599770206,
                    342779426,
                    1168642797,
                    510876816,
                    108809090,
                    1143647827,
                    1256880657,
                    245095641,
                    null,
                    31959571,
                    824420218,
                    363467642,
                    1127468248,
                    247737946,
                    124407432,
                    850608354,
                    376333030,
                    516784627,
                    1608045237,
                    506778838,
                    1472799873,
                    513643924,
                    783706581,
                    1062345656,
                    851070493,
                    345903614,
                    156658366,
                    624515457,
                    777765388,
                    1138474110,
                    290228626,
                    1062956628,
                    1180094974,
                    1456081449,
                    432702334,
                    465959382,
                    2288695111,
                    2086124197,
                    1690192927,
                    71014967,
                    1806617704,
                    77337771,
                    865640097,
                    211372494,
                    608334048,
                    797402345,
                    1759567999,
                    246376690,
                    496311364,
                    500340342,
                    822239726,
                    1202722675,
                    343197054,
                    240769997,
                    421135627,
                    554875730,
                    185408548,
                    231996128,
                    1929770265,
                    498960285,
                    258714692,
                    50746620,
                    154119539,
                    181328253,
                    370068639,
                    2280566092,
                    563902868,
                    317622165,
                    203680270,
                    282883169,
                    1439191367,
                    368646862,
                    682475162,
                    546191065,
                    229473310,
                    202677468,
                    527033089,
                    394030335,
                    193443895,
                    299648208,
                    319757142,
                    346127840,
                    312622938,
                    1200808494,
                    797196073,
                    1970673297,
                    665765558,
                    263779030,
                    339473453,
                    135444283,
                    694525298,
                    421365166,
                    255120451,
                    190981339,
                    924193303,
                    305771063,
                    89566512,
                    677389855,
                    408843328,
                    101780047,
                    146363130,
                    126443991,
                    157990698,
                    1023187129,
                    139193812,
                    212234990,
                    1714490998,
                    807015863,
                    499710590,
                    53909146,
                    2236667932,
                    2123309722,
                    301242089,
                    723894473,
                    461558540,
                    156898322,
                    173702135,
                    305650299,
                    126191104,
                    338422004,
                    403231558,
                    61739839,
                    283359161,
                    283332261,
                    279737940,
                    212351890,
                    150500965,
                    246127838,
                    582863434,
                    382199619,
                    41210087,
                    231657891,
                    53729194,
                    244741137,
                    42485571,
                    37778188,
                    254218729,
                    53603447,
                    160035717,
                    37091576,
                    136996305,
                    65719930,
                    229497852,
                    185550869,
                    54682594,
                    1284942608,
                    71423324,
                    244891912,
                    132171975,
                    184706613,
                    184826429,
                    302006641,
                    330881149,
                    334733572,
                    366214458,
                    114546317,
                    448500832,
                    79095270,
                    273194684,
                    195918494,
                    233671263,
                    199587884,
                    91781263,
                    236060709,
                    189236868,
                    588955257,
                    238350348,
                    187703102,
                    445590495,
                    1122364376,
                    157136970,
                    183273246,
                    164856284,
                    704171068,
                    354614964,
                    195628667,
                    221752937,
                    263280370,
                    213505179,
                    155795783,
                    1553497987,
                    293466523,
                    191448892,
                    131746175,
                    244790012,
                    331511413,
                    179061440,
                    185236961,
                    171788484,
                    387080183,
                    264717480,
                    244928911,
                    97610446,
                    887906111,
                    239411309,
                    703301727,
                    189476119,
                    277132266,
                    278920007,
                    222410722,
                    185392587,
                    202452860,
                    1608164312,
                    624101957,
                    148461629,
                    380319238,
                    53987404,
                    115331792,
                    225093344,
                    170709584,
                    154356956,
                    723043854,
                    247689123,
                    176474912,
                    235549288,
                    85559365,
                    253650850,
                    223064273,
                    218320587,
                    177503916,
                    203436468,
                    93367537,
                    181382590,
                    91473363,
                    121871870,
                    96007391
                  ]
                }
              ],
              "layout": {
                "template": {
                  "data": {
                    "bar": [
                      {
                        "error_x": {
                          "color": "#2a3f5f"
                        },
                        "error_y": {
                          "color": "#2a3f5f"
                        },
                        "marker": {
                          "line": {
                            "color": "#E5ECF6",
                            "width": 0.5
                          },
                          "pattern": {
                            "fillmode": "overlay",
                            "size": 10,
                            "solidity": 0.2
                          }
                        },
                        "type": "bar"
                      }
                    ],
                    "barpolar": [
                      {
                        "marker": {
                          "line": {
                            "color": "#E5ECF6",
                            "width": 0.5
                          },
                          "pattern": {
                            "fillmode": "overlay",
                            "size": 10,
                            "solidity": 0.2
                          }
                        },
                        "type": "barpolar"
                      }
                    ],
                    "carpet": [
                      {
                        "aaxis": {
                          "endlinecolor": "#2a3f5f",
                          "gridcolor": "white",
                          "linecolor": "white",
                          "minorgridcolor": "white",
                          "startlinecolor": "#2a3f5f"
                        },
                        "baxis": {
                          "endlinecolor": "#2a3f5f",
                          "gridcolor": "white",
                          "linecolor": "white",
                          "minorgridcolor": "white",
                          "startlinecolor": "#2a3f5f"
                        },
                        "type": "carpet"
                      }
                    ],
                    "choropleth": [
                      {
                        "colorbar": {
                          "outlinewidth": 0,
                          "ticks": ""
                        },
                        "type": "choropleth"
                      }
                    ],
                    "contour": [
                      {
                        "colorbar": {
                          "outlinewidth": 0,
                          "ticks": ""
                        },
                        "colorscale": [
                          [
                            0,
                            "#0d0887"
                          ],
                          [
                            0.1111111111111111,
                            "#46039f"
                          ],
                          [
                            0.2222222222222222,
                            "#7201a8"
                          ],
                          [
                            0.3333333333333333,
                            "#9c179e"
                          ],
                          [
                            0.4444444444444444,
                            "#bd3786"
                          ],
                          [
                            0.5555555555555556,
                            "#d8576b"
                          ],
                          [
                            0.6666666666666666,
                            "#ed7953"
                          ],
                          [
                            0.7777777777777778,
                            "#fb9f3a"
                          ],
                          [
                            0.8888888888888888,
                            "#fdca26"
                          ],
                          [
                            1,
                            "#f0f921"
                          ]
                        ],
                        "type": "contour"
                      }
                    ],
                    "contourcarpet": [
                      {
                        "colorbar": {
                          "outlinewidth": 0,
                          "ticks": ""
                        },
                        "type": "contourcarpet"
                      }
                    ],
                    "heatmap": [
                      {
                        "colorbar": {
                          "outlinewidth": 0,
                          "ticks": ""
                        },
                        "colorscale": [
                          [
                            0,
                            "#0d0887"
                          ],
                          [
                            0.1111111111111111,
                            "#46039f"
                          ],
                          [
                            0.2222222222222222,
                            "#7201a8"
                          ],
                          [
                            0.3333333333333333,
                            "#9c179e"
                          ],
                          [
                            0.4444444444444444,
                            "#bd3786"
                          ],
                          [
                            0.5555555555555556,
                            "#d8576b"
                          ],
                          [
                            0.6666666666666666,
                            "#ed7953"
                          ],
                          [
                            0.7777777777777778,
                            "#fb9f3a"
                          ],
                          [
                            0.8888888888888888,
                            "#fdca26"
                          ],
                          [
                            1,
                            "#f0f921"
                          ]
                        ],
                        "type": "heatmap"
                      }
                    ],
                    "heatmapgl": [
                      {
                        "colorbar": {
                          "outlinewidth": 0,
                          "ticks": ""
                        },
                        "colorscale": [
                          [
                            0,
                            "#0d0887"
                          ],
                          [
                            0.1111111111111111,
                            "#46039f"
                          ],
                          [
                            0.2222222222222222,
                            "#7201a8"
                          ],
                          [
                            0.3333333333333333,
                            "#9c179e"
                          ],
                          [
                            0.4444444444444444,
                            "#bd3786"
                          ],
                          [
                            0.5555555555555556,
                            "#d8576b"
                          ],
                          [
                            0.6666666666666666,
                            "#ed7953"
                          ],
                          [
                            0.7777777777777778,
                            "#fb9f3a"
                          ],
                          [
                            0.8888888888888888,
                            "#fdca26"
                          ],
                          [
                            1,
                            "#f0f921"
                          ]
                        ],
                        "type": "heatmapgl"
                      }
                    ],
                    "histogram": [
                      {
                        "marker": {
                          "pattern": {
                            "fillmode": "overlay",
                            "size": 10,
                            "solidity": 0.2
                          }
                        },
                        "type": "histogram"
                      }
                    ],
                    "histogram2d": [
                      {
                        "colorbar": {
                          "outlinewidth": 0,
                          "ticks": ""
                        },
                        "colorscale": [
                          [
                            0,
                            "#0d0887"
                          ],
                          [
                            0.1111111111111111,
                            "#46039f"
                          ],
                          [
                            0.2222222222222222,
                            "#7201a8"
                          ],
                          [
                            0.3333333333333333,
                            "#9c179e"
                          ],
                          [
                            0.4444444444444444,
                            "#bd3786"
                          ],
                          [
                            0.5555555555555556,
                            "#d8576b"
                          ],
                          [
                            0.6666666666666666,
                            "#ed7953"
                          ],
                          [
                            0.7777777777777778,
                            "#fb9f3a"
                          ],
                          [
                            0.8888888888888888,
                            "#fdca26"
                          ],
                          [
                            1,
                            "#f0f921"
                          ]
                        ],
                        "type": "histogram2d"
                      }
                    ],
                    "histogram2dcontour": [
                      {
                        "colorbar": {
                          "outlinewidth": 0,
                          "ticks": ""
                        },
                        "colorscale": [
                          [
                            0,
                            "#0d0887"
                          ],
                          [
                            0.1111111111111111,
                            "#46039f"
                          ],
                          [
                            0.2222222222222222,
                            "#7201a8"
                          ],
                          [
                            0.3333333333333333,
                            "#9c179e"
                          ],
                          [
                            0.4444444444444444,
                            "#bd3786"
                          ],
                          [
                            0.5555555555555556,
                            "#d8576b"
                          ],
                          [
                            0.6666666666666666,
                            "#ed7953"
                          ],
                          [
                            0.7777777777777778,
                            "#fb9f3a"
                          ],
                          [
                            0.8888888888888888,
                            "#fdca26"
                          ],
                          [
                            1,
                            "#f0f921"
                          ]
                        ],
                        "type": "histogram2dcontour"
                      }
                    ],
                    "mesh3d": [
                      {
                        "colorbar": {
                          "outlinewidth": 0,
                          "ticks": ""
                        },
                        "type": "mesh3d"
                      }
                    ],
                    "parcoords": [
                      {
                        "line": {
                          "colorbar": {
                            "outlinewidth": 0,
                            "ticks": ""
                          }
                        },
                        "type": "parcoords"
                      }
                    ],
                    "pie": [
                      {
                        "automargin": true,
                        "type": "pie"
                      }
                    ],
                    "scatter": [
                      {
                        "fillpattern": {
                          "fillmode": "overlay",
                          "size": 10,
                          "solidity": 0.2
                        },
                        "type": "scatter"
                      }
                    ],
                    "scatter3d": [
                      {
                        "line": {
                          "colorbar": {
                            "outlinewidth": 0,
                            "ticks": ""
                          }
                        },
                        "marker": {
                          "colorbar": {
                            "outlinewidth": 0,
                            "ticks": ""
                          }
                        },
                        "type": "scatter3d"
                      }
                    ],
                    "scattercarpet": [
                      {
                        "marker": {
                          "colorbar": {
                            "outlinewidth": 0,
                            "ticks": ""
                          }
                        },
                        "type": "scattercarpet"
                      }
                    ],
                    "scattergeo": [
                      {
                        "marker": {
                          "colorbar": {
                            "outlinewidth": 0,
                            "ticks": ""
                          }
                        },
                        "type": "scattergeo"
                      }
                    ],
                    "scattergl": [
                      {
                        "marker": {
                          "colorbar": {
                            "outlinewidth": 0,
                            "ticks": ""
                          }
                        },
                        "type": "scattergl"
                      }
                    ],
                    "scattermapbox": [
                      {
                        "marker": {
                          "colorbar": {
                            "outlinewidth": 0,
                            "ticks": ""
                          }
                        },
                        "type": "scattermapbox"
                      }
                    ],
                    "scatterpolar": [
                      {
                        "marker": {
                          "colorbar": {
                            "outlinewidth": 0,
                            "ticks": ""
                          }
                        },
                        "type": "scatterpolar"
                      }
                    ],
                    "scatterpolargl": [
                      {
                        "marker": {
                          "colorbar": {
                            "outlinewidth": 0,
                            "ticks": ""
                          }
                        },
                        "type": "scatterpolargl"
                      }
                    ],
                    "scatterternary": [
                      {
                        "marker": {
                          "colorbar": {
                            "outlinewidth": 0,
                            "ticks": ""
                          }
                        },
                        "type": "scatterternary"
                      }
                    ],
                    "surface": [
                      {
                        "colorbar": {
                          "outlinewidth": 0,
                          "ticks": ""
                        },
                        "colorscale": [
                          [
                            0,
                            "#0d0887"
                          ],
                          [
                            0.1111111111111111,
                            "#46039f"
                          ],
                          [
                            0.2222222222222222,
                            "#7201a8"
                          ],
                          [
                            0.3333333333333333,
                            "#9c179e"
                          ],
                          [
                            0.4444444444444444,
                            "#bd3786"
                          ],
                          [
                            0.5555555555555556,
                            "#d8576b"
                          ],
                          [
                            0.6666666666666666,
                            "#ed7953"
                          ],
                          [
                            0.7777777777777778,
                            "#fb9f3a"
                          ],
                          [
                            0.8888888888888888,
                            "#fdca26"
                          ],
                          [
                            1,
                            "#f0f921"
                          ]
                        ],
                        "type": "surface"
                      }
                    ],
                    "table": [
                      {
                        "cells": {
                          "fill": {
                            "color": "#EBF0F8"
                          },
                          "line": {
                            "color": "white"
                          }
                        },
                        "header": {
                          "fill": {
                            "color": "#C8D4E3"
                          },
                          "line": {
                            "color": "white"
                          }
                        },
                        "type": "table"
                      }
                    ]
                  },
                  "layout": {
                    "annotationdefaults": {
                      "arrowcolor": "#2a3f5f",
                      "arrowhead": 0,
                      "arrowwidth": 1
                    },
                    "autotypenumbers": "strict",
                    "coloraxis": {
                      "colorbar": {
                        "outlinewidth": 0,
                        "ticks": ""
                      }
                    },
                    "colorscale": {
                      "diverging": [
                        [
                          0,
                          "#8e0152"
                        ],
                        [
                          0.1,
                          "#c51b7d"
                        ],
                        [
                          0.2,
                          "#de77ae"
                        ],
                        [
                          0.3,
                          "#f1b6da"
                        ],
                        [
                          0.4,
                          "#fde0ef"
                        ],
                        [
                          0.5,
                          "#f7f7f7"
                        ],
                        [
                          0.6,
                          "#e6f5d0"
                        ],
                        [
                          0.7,
                          "#b8e186"
                        ],
                        [
                          0.8,
                          "#7fbc41"
                        ],
                        [
                          0.9,
                          "#4d9221"
                        ],
                        [
                          1,
                          "#276419"
                        ]
                      ],
                      "sequential": [
                        [
                          0,
                          "#0d0887"
                        ],
                        [
                          0.1111111111111111,
                          "#46039f"
                        ],
                        [
                          0.2222222222222222,
                          "#7201a8"
                        ],
                        [
                          0.3333333333333333,
                          "#9c179e"
                        ],
                        [
                          0.4444444444444444,
                          "#bd3786"
                        ],
                        [
                          0.5555555555555556,
                          "#d8576b"
                        ],
                        [
                          0.6666666666666666,
                          "#ed7953"
                        ],
                        [
                          0.7777777777777778,
                          "#fb9f3a"
                        ],
                        [
                          0.8888888888888888,
                          "#fdca26"
                        ],
                        [
                          1,
                          "#f0f921"
                        ]
                      ],
                      "sequentialminus": [
                        [
                          0,
                          "#0d0887"
                        ],
                        [
                          0.1111111111111111,
                          "#46039f"
                        ],
                        [
                          0.2222222222222222,
                          "#7201a8"
                        ],
                        [
                          0.3333333333333333,
                          "#9c179e"
                        ],
                        [
                          0.4444444444444444,
                          "#bd3786"
                        ],
                        [
                          0.5555555555555556,
                          "#d8576b"
                        ],
                        [
                          0.6666666666666666,
                          "#ed7953"
                        ],
                        [
                          0.7777777777777778,
                          "#fb9f3a"
                        ],
                        [
                          0.8888888888888888,
                          "#fdca26"
                        ],
                        [
                          1,
                          "#f0f921"
                        ]
                      ]
                    },
                    "colorway": [
                      "#636efa",
                      "#EF553B",
                      "#00cc96",
                      "#ab63fa",
                      "#FFA15A",
                      "#19d3f3",
                      "#FF6692",
                      "#B6E880",
                      "#FF97FF",
                      "#FECB52"
                    ],
                    "font": {
                      "color": "#2a3f5f"
                    },
                    "geo": {
                      "bgcolor": "white",
                      "lakecolor": "white",
                      "landcolor": "#E5ECF6",
                      "showlakes": true,
                      "showland": true,
                      "subunitcolor": "white"
                    },
                    "hoverlabel": {
                      "align": "left"
                    },
                    "hovermode": "closest",
                    "mapbox": {
                      "style": "light"
                    },
                    "paper_bgcolor": "white",
                    "plot_bgcolor": "#E5ECF6",
                    "polar": {
                      "angularaxis": {
                        "gridcolor": "white",
                        "linecolor": "white",
                        "ticks": ""
                      },
                      "bgcolor": "#E5ECF6",
                      "radialaxis": {
                        "gridcolor": "white",
                        "linecolor": "white",
                        "ticks": ""
                      }
                    },
                    "scene": {
                      "xaxis": {
                        "backgroundcolor": "#E5ECF6",
                        "gridcolor": "white",
                        "gridwidth": 2,
                        "linecolor": "white",
                        "showbackground": true,
                        "ticks": "",
                        "zerolinecolor": "white"
                      },
                      "yaxis": {
                        "backgroundcolor": "#E5ECF6",
                        "gridcolor": "white",
                        "gridwidth": 2,
                        "linecolor": "white",
                        "showbackground": true,
                        "ticks": "",
                        "zerolinecolor": "white"
                      },
                      "zaxis": {
                        "backgroundcolor": "#E5ECF6",
                        "gridcolor": "white",
                        "gridwidth": 2,
                        "linecolor": "white",
                        "showbackground": true,
                        "ticks": "",
                        "zerolinecolor": "white"
                      }
                    },
                    "shapedefaults": {
                      "line": {
                        "color": "#2a3f5f"
                      }
                    },
                    "ternary": {
                      "aaxis": {
                        "gridcolor": "white",
                        "linecolor": "white",
                        "ticks": ""
                      },
                      "baxis": {
                        "gridcolor": "white",
                        "linecolor": "white",
                        "ticks": ""
                      },
                      "bgcolor": "#E5ECF6",
                      "caxis": {
                        "gridcolor": "white",
                        "linecolor": "white",
                        "ticks": ""
                      }
                    },
                    "title": {
                      "x": 0.05
                    },
                    "xaxis": {
                      "automargin": true,
                      "gridcolor": "white",
                      "linecolor": "white",
                      "ticks": "",
                      "title": {
                        "standoff": 15
                      },
                      "zerolinecolor": "white",
                      "zerolinewidth": 2
                    },
                    "yaxis": {
                      "automargin": true,
                      "gridcolor": "white",
                      "linecolor": "white",
                      "ticks": "",
                      "title": {
                        "standoff": 15
                      },
                      "zerolinecolor": "white",
                      "zerolinewidth": 2
                    }
                  }
                },
                "title": {
                  "text": "Distribución de reproducciones"
                },
                "yaxis": {
                  "title": {
                    "text": ""
                  }
                }
              }
            }
          },
          "metadata": {},
          "output_type": "display_data"
        },
        {
          "data": {
            "text/plain": [
              "TtestResult(statistic=-2.824056811668969, pvalue=0.004935201415216841, df=490.0)"
            ]
          },
          "execution_count": 16,
          "metadata": {},
          "output_type": "execute_result"
        }
      ],
      "source": [
        "df['more_two_artists'] = df[\"artist_count\"] > 1\n",
        "df.head()\n",
        "\n",
        "# Distributions for each group\n",
        "print(df[df['more_two_artists'] == True]['streams'].describe())\n",
        "print(df[df['more_two_artists'] == False]['streams'].describe())\n",
        "\n",
        "# Boxplot\n",
        "fig = go.Figure()\n",
        "\n",
        "fig.add_trace(\n",
        "    go.Box(\n",
        "        x = df[df['more_two_artists'] == True][\"streams\"],\n",
        "        marker_color = \"gold\",\n",
        "        name = \"Más de dos\",\n",
        "        boxpoints='all',\n",
        "        boxmean=True\n",
        "    )\n",
        ")\n",
        "\n",
        "fig.add_trace(\n",
        "    go.Box(\n",
        "        x = df[df['more_two_artists'] == False][\"streams\"],\n",
        "        marker_color = \"mediumseagreen\",\n",
        "        name = \"Un solo artista\",\n",
        "        boxpoints='all',\n",
        "        boxmean=True\n",
        "    )\n",
        ")\n",
        "\n",
        "fig.update_layout(title = \"Distribución de reproducciones\", yaxis_title = \"\")\n",
        "\n",
        "fig.show()\n",
        "\n",
        "# T-test\n",
        "from scipy.stats import ttest_ind\n",
        "\n",
        "group1 = df[df['more_two_artists'] == True]['streams']\n",
        "group2 = df[df['more_two_artists'] == False]['streams']\n",
        "\n",
        "ttest_ind(group1.dropna(), group2.dropna(), trim=.2)\n"
      ]
    },
    {
      "cell_type": "markdown",
      "metadata": {
        "id": "7Gxx2up6-wI4"
      },
      "source": [
        "e) ¿Cuáles son las propiedades de una canción que mejor correlan con el número de reproducciones de una canción? **(0.5 puntos)**\n"
      ]
    },
    {
      "cell_type": "code",
      "execution_count": 17,
      "metadata": {
        "colab": {
          "base_uri": "https://localhost:8080/",
          "height": 1000
        },
        "id": "Myi69BEt-25C",
        "outputId": "4b81169c-c18c-46df-834a-b98e2017dc9d"
      },
      "outputs": [
        {
          "name": "stdout",
          "output_type": "stream",
          "text": [
            "                      artist_count  released_year  released_month  \\\n",
            "artist_count              1.000000       0.070900        0.032788   \n",
            "released_year             0.070900       1.000000        0.069671   \n",
            "released_month            0.032788       0.069671        1.000000   \n",
            "released_day             -0.015870       0.161053        0.055562   \n",
            "in_spotify_playlists     -0.085454      -0.397052       -0.123000   \n",
            "in_spotify_charts        -0.009075       0.066054       -0.051346   \n",
            "streams                  -0.109760      -0.242726       -0.046041   \n",
            "in_apple_playlists       -0.017501      -0.207317       -0.035094   \n",
            "in_apple_charts          -0.076131      -0.002027       -0.019569   \n",
            "in_deezer_charts          0.020231       0.094426        0.006168   \n",
            "bpm                      -0.059221      -0.014195       -0.050236   \n",
            "danceability_%            0.213480       0.212401       -0.056599   \n",
            "valence_%                 0.124561      -0.042665       -0.108818   \n",
            "energy_%                  0.137801       0.081478       -0.086510   \n",
            "acousticness_%           -0.095365      -0.139154        0.053824   \n",
            "instrumentalness_%       -0.061438      -0.025322        0.035195   \n",
            "liveness_%                0.034294       0.008115        0.001182   \n",
            "speechiness_%             0.130978       0.127461        0.040921   \n",
            "\n",
            "                      released_day  in_spotify_playlists  in_spotify_charts  \\\n",
            "artist_count             -0.015870             -0.085454          -0.009075   \n",
            "released_year             0.161053             -0.397052           0.066054   \n",
            "released_month            0.055562             -0.123000          -0.051346   \n",
            "released_day              1.000000             -0.108171           0.015034   \n",
            "in_spotify_playlists     -0.108171              1.000000           0.141186   \n",
            "in_spotify_charts         0.015034              0.141186           1.000000   \n",
            "streams                  -0.025116              0.780404           0.214034   \n",
            "in_apple_playlists       -0.012921              0.688306           0.207841   \n",
            "in_apple_charts           0.006065              0.215504           0.556509   \n",
            "in_deezer_charts          0.054735              0.101158           0.566020   \n",
            "bpm                      -0.034184             -0.034628           0.028496   \n",
            "danceability_%            0.082746             -0.097348           0.050623   \n",
            "valence_%                 0.064553             -0.029527           0.050862   \n",
            "energy_%                  0.047858              0.035968           0.105217   \n",
            "acousticness_%           -0.000485             -0.064896          -0.073482   \n",
            "instrumentalness_%        0.022746             -0.024631          -0.005963   \n",
            "liveness_%               -0.011252             -0.052002          -0.026655   \n",
            "speechiness_%            -0.015859             -0.077870          -0.094726   \n",
            "\n",
            "                       streams  in_apple_playlists  in_apple_charts  \\\n",
            "artist_count         -0.109760           -0.017501        -0.076131   \n",
            "released_year        -0.242726           -0.207317        -0.002027   \n",
            "released_month       -0.046041           -0.035094        -0.019569   \n",
            "released_day         -0.025116           -0.012921         0.006065   \n",
            "in_spotify_playlists  0.780404            0.688306         0.215504   \n",
            "in_spotify_charts     0.214034            0.207841         0.556509   \n",
            "streams               1.000000            0.735321         0.269137   \n",
            "in_apple_playlists    0.735321            1.000000         0.364339   \n",
            "in_apple_charts       0.269137            0.364339         1.000000   \n",
            "in_deezer_charts      0.184329            0.326598         0.366295   \n",
            "bpm                  -0.025694            0.005237         0.026531   \n",
            "danceability_%       -0.093268           -0.013306        -0.027371   \n",
            "valence_%            -0.051014            0.042017         0.044229   \n",
            "energy_%             -0.036499            0.040211         0.129793   \n",
            "acousticness_%       -0.005751           -0.071554        -0.097803   \n",
            "instrumentalness_%   -0.033039           -0.054524        -0.000615   \n",
            "liveness_%           -0.056664           -0.065062        -0.007271   \n",
            "speechiness_%        -0.099968           -0.098233        -0.147513   \n",
            "\n",
            "                      in_deezer_charts       bpm  danceability_%  valence_%  \\\n",
            "artist_count                  0.020231 -0.059221        0.213480   0.124561   \n",
            "released_year                 0.094426 -0.014195        0.212401  -0.042665   \n",
            "released_month                0.006168 -0.050236       -0.056599  -0.108818   \n",
            "released_day                  0.054735 -0.034184        0.082746   0.064553   \n",
            "in_spotify_playlists          0.101158 -0.034628       -0.097348  -0.029527   \n",
            "in_spotify_charts             0.566020  0.028496        0.050623   0.050862   \n",
            "streams                       0.184329 -0.025694       -0.093268  -0.051014   \n",
            "in_apple_playlists            0.326598  0.005237       -0.013306   0.042017   \n",
            "in_apple_charts               0.366295  0.026531       -0.027371   0.044229   \n",
            "in_deezer_charts              1.000000  0.021487        0.080926   0.073786   \n",
            "bpm                           0.021487  1.000000       -0.148816   0.029743   \n",
            "danceability_%                0.080926 -0.148816        1.000000   0.391414   \n",
            "valence_%                     0.073786  0.029743        0.391414   1.000000   \n",
            "energy_%                      0.104529  0.013523        0.158418   0.349616   \n",
            "acousticness_%               -0.035575 -0.011187       -0.241593  -0.063197   \n",
            "instrumentalness_%            0.003396 -0.003512       -0.102436  -0.146891   \n",
            "liveness_%                    0.003602 -0.005865       -0.100742   0.000249   \n",
            "speechiness_%                -0.081971  0.037862        0.200489   0.036649   \n",
            "\n",
            "                      energy_%  acousticness_%  instrumentalness_%  \\\n",
            "artist_count          0.137801       -0.095365           -0.061438   \n",
            "released_year         0.081478       -0.139154           -0.025322   \n",
            "released_month       -0.086510        0.053824            0.035195   \n",
            "released_day          0.047858       -0.000485            0.022746   \n",
            "in_spotify_playlists  0.035968       -0.064896           -0.024631   \n",
            "in_spotify_charts     0.105217       -0.073482           -0.005963   \n",
            "streams              -0.036499       -0.005751           -0.033039   \n",
            "in_apple_playlists    0.040211       -0.071554           -0.054524   \n",
            "in_apple_charts       0.129793       -0.097803           -0.000615   \n",
            "in_deezer_charts      0.104529       -0.035575            0.003396   \n",
            "bpm                   0.013523       -0.011187           -0.003512   \n",
            "danceability_%        0.158418       -0.241593           -0.102436   \n",
            "valence_%             0.349616       -0.063197           -0.146891   \n",
            "energy_%              1.000000       -0.552592           -0.051599   \n",
            "acousticness_%       -0.552592        1.000000            0.046539   \n",
            "instrumentalness_%   -0.051599        0.046539            1.000000   \n",
            "liveness_%            0.111277       -0.046209           -0.044647   \n",
            "speechiness_%        -0.026630       -0.018517           -0.091199   \n",
            "\n",
            "                      liveness_%  speechiness_%  \n",
            "artist_count            0.034294       0.130978  \n",
            "released_year           0.008115       0.127461  \n",
            "released_month          0.001182       0.040921  \n",
            "released_day           -0.011252      -0.015859  \n",
            "in_spotify_playlists   -0.052002      -0.077870  \n",
            "in_spotify_charts      -0.026655      -0.094726  \n",
            "streams                -0.056664      -0.099968  \n",
            "in_apple_playlists     -0.065062      -0.098233  \n",
            "in_apple_charts        -0.007271      -0.147513  \n",
            "in_deezer_charts        0.003602      -0.081971  \n",
            "bpm                    -0.005865       0.037862  \n",
            "danceability_%         -0.100742       0.200489  \n",
            "valence_%               0.000249       0.036649  \n",
            "energy_%                0.111277      -0.026630  \n",
            "acousticness_%         -0.046209      -0.018517  \n",
            "instrumentalness_%     -0.044647      -0.091199  \n",
            "liveness_%              1.000000      -0.022892  \n",
            "speechiness_%          -0.022892       1.000000  \n"
          ]
        }
      ],
      "source": [
        "numeric_df = df.select_dtypes(include=['float64', 'int64'])\n",
        "numeric_df = numeric_df.dropna()  # Remove rows with missing values\n",
        "print(numeric_df.corr())\n"
      ]
    },
    {
      "cell_type": "markdown",
      "metadata": {
        "id": "xCSqL29HAClc"
      },
      "source": [
        "f) ¿Cuáles son las variables que mejor predicen un hit? **(1 puntos)**"
      ]
    },
    {
      "cell_type": "code",
      "execution_count": 18,
      "metadata": {
        "colab": {
          "base_uri": "https://localhost:8080/",
          "height": 1000
        },
        "id": "aqkwgxRpAFM0",
        "outputId": "ad0957df-463e-4256-e94b-ccca983bb6ef"
      },
      "outputs": [
        {
          "name": "stdout",
          "output_type": "stream",
          "text": [
            "count       817\n",
            "unique        2\n",
            "top       False\n",
            "freq        409\n",
            "Name: hit, dtype: object\n",
            "   bpm  danceability_%  valence_%  energy_%  acousticness_%  \\\n",
            "0  125              80         89        83              31   \n",
            "1   92              71         61        74               7   \n",
            "2  138              51         32        53              17   \n",
            "3  170              55         58        72              11   \n",
            "4  144              65         23        80              14   \n",
            "\n",
            "   instrumentalness_%  liveness_%  speechiness_%  more_two_artists  \\\n",
            "0                   0           8              4              True   \n",
            "1                   0          10              4             False   \n",
            "2                   0          31              6             False   \n",
            "3                   0          11             15             False   \n",
            "4                  63          11              6             False   \n",
            "\n",
            "   artist_count  \n",
            "0             2  \n",
            "1             1  \n",
            "2             1  \n",
            "3             1  \n",
            "4             1  \n",
            "Classification report\n",
            "              precision    recall  f1-score   support\n",
            "\n",
            "       False       0.56      0.46      0.50        85\n",
            "        True       0.51      0.61      0.55        79\n",
            "\n",
            "    accuracy                           0.53       164\n",
            "   macro avg       0.53      0.53      0.53       164\n",
            "weighted avg       0.53      0.53      0.53       164\n",
            "\n",
            "Confusion matrix\n",
            "[[39 46]\n",
            " [31 48]]\n"
          ]
        },
        {
          "data": {
            "application/vnd.plotly.v1+json": {
              "config": {
                "plotlyServerURL": "https://plot.ly"
              },
              "data": [
                {
                  "name": "Coeficientes",
                  "orientation": "h",
                  "type": "bar",
                  "x": [
                    0.013904148510895267,
                    -0.18509228412689308,
                    -0.04039989398311612,
                    -0.09707081346156683,
                    -0.10060661363510975,
                    -0.0354966206131804,
                    -0.18672997787498874,
                    -0.2004596622563696,
                    0.09809419182712122,
                    -0.25040300829873036
                  ],
                  "y": [
                    "bpm",
                    "danceability_%",
                    "valence_%",
                    "energy_%",
                    "acousticness_%",
                    "instrumentalness_%",
                    "liveness_%",
                    "speechiness_%",
                    "more_two_artists",
                    "artist_count"
                  ]
                }
              ],
              "layout": {
                "template": {
                  "data": {
                    "bar": [
                      {
                        "error_x": {
                          "color": "#2a3f5f"
                        },
                        "error_y": {
                          "color": "#2a3f5f"
                        },
                        "marker": {
                          "line": {
                            "color": "#E5ECF6",
                            "width": 0.5
                          },
                          "pattern": {
                            "fillmode": "overlay",
                            "size": 10,
                            "solidity": 0.2
                          }
                        },
                        "type": "bar"
                      }
                    ],
                    "barpolar": [
                      {
                        "marker": {
                          "line": {
                            "color": "#E5ECF6",
                            "width": 0.5
                          },
                          "pattern": {
                            "fillmode": "overlay",
                            "size": 10,
                            "solidity": 0.2
                          }
                        },
                        "type": "barpolar"
                      }
                    ],
                    "carpet": [
                      {
                        "aaxis": {
                          "endlinecolor": "#2a3f5f",
                          "gridcolor": "white",
                          "linecolor": "white",
                          "minorgridcolor": "white",
                          "startlinecolor": "#2a3f5f"
                        },
                        "baxis": {
                          "endlinecolor": "#2a3f5f",
                          "gridcolor": "white",
                          "linecolor": "white",
                          "minorgridcolor": "white",
                          "startlinecolor": "#2a3f5f"
                        },
                        "type": "carpet"
                      }
                    ],
                    "choropleth": [
                      {
                        "colorbar": {
                          "outlinewidth": 0,
                          "ticks": ""
                        },
                        "type": "choropleth"
                      }
                    ],
                    "contour": [
                      {
                        "colorbar": {
                          "outlinewidth": 0,
                          "ticks": ""
                        },
                        "colorscale": [
                          [
                            0,
                            "#0d0887"
                          ],
                          [
                            0.1111111111111111,
                            "#46039f"
                          ],
                          [
                            0.2222222222222222,
                            "#7201a8"
                          ],
                          [
                            0.3333333333333333,
                            "#9c179e"
                          ],
                          [
                            0.4444444444444444,
                            "#bd3786"
                          ],
                          [
                            0.5555555555555556,
                            "#d8576b"
                          ],
                          [
                            0.6666666666666666,
                            "#ed7953"
                          ],
                          [
                            0.7777777777777778,
                            "#fb9f3a"
                          ],
                          [
                            0.8888888888888888,
                            "#fdca26"
                          ],
                          [
                            1,
                            "#f0f921"
                          ]
                        ],
                        "type": "contour"
                      }
                    ],
                    "contourcarpet": [
                      {
                        "colorbar": {
                          "outlinewidth": 0,
                          "ticks": ""
                        },
                        "type": "contourcarpet"
                      }
                    ],
                    "heatmap": [
                      {
                        "colorbar": {
                          "outlinewidth": 0,
                          "ticks": ""
                        },
                        "colorscale": [
                          [
                            0,
                            "#0d0887"
                          ],
                          [
                            0.1111111111111111,
                            "#46039f"
                          ],
                          [
                            0.2222222222222222,
                            "#7201a8"
                          ],
                          [
                            0.3333333333333333,
                            "#9c179e"
                          ],
                          [
                            0.4444444444444444,
                            "#bd3786"
                          ],
                          [
                            0.5555555555555556,
                            "#d8576b"
                          ],
                          [
                            0.6666666666666666,
                            "#ed7953"
                          ],
                          [
                            0.7777777777777778,
                            "#fb9f3a"
                          ],
                          [
                            0.8888888888888888,
                            "#fdca26"
                          ],
                          [
                            1,
                            "#f0f921"
                          ]
                        ],
                        "type": "heatmap"
                      }
                    ],
                    "heatmapgl": [
                      {
                        "colorbar": {
                          "outlinewidth": 0,
                          "ticks": ""
                        },
                        "colorscale": [
                          [
                            0,
                            "#0d0887"
                          ],
                          [
                            0.1111111111111111,
                            "#46039f"
                          ],
                          [
                            0.2222222222222222,
                            "#7201a8"
                          ],
                          [
                            0.3333333333333333,
                            "#9c179e"
                          ],
                          [
                            0.4444444444444444,
                            "#bd3786"
                          ],
                          [
                            0.5555555555555556,
                            "#d8576b"
                          ],
                          [
                            0.6666666666666666,
                            "#ed7953"
                          ],
                          [
                            0.7777777777777778,
                            "#fb9f3a"
                          ],
                          [
                            0.8888888888888888,
                            "#fdca26"
                          ],
                          [
                            1,
                            "#f0f921"
                          ]
                        ],
                        "type": "heatmapgl"
                      }
                    ],
                    "histogram": [
                      {
                        "marker": {
                          "pattern": {
                            "fillmode": "overlay",
                            "size": 10,
                            "solidity": 0.2
                          }
                        },
                        "type": "histogram"
                      }
                    ],
                    "histogram2d": [
                      {
                        "colorbar": {
                          "outlinewidth": 0,
                          "ticks": ""
                        },
                        "colorscale": [
                          [
                            0,
                            "#0d0887"
                          ],
                          [
                            0.1111111111111111,
                            "#46039f"
                          ],
                          [
                            0.2222222222222222,
                            "#7201a8"
                          ],
                          [
                            0.3333333333333333,
                            "#9c179e"
                          ],
                          [
                            0.4444444444444444,
                            "#bd3786"
                          ],
                          [
                            0.5555555555555556,
                            "#d8576b"
                          ],
                          [
                            0.6666666666666666,
                            "#ed7953"
                          ],
                          [
                            0.7777777777777778,
                            "#fb9f3a"
                          ],
                          [
                            0.8888888888888888,
                            "#fdca26"
                          ],
                          [
                            1,
                            "#f0f921"
                          ]
                        ],
                        "type": "histogram2d"
                      }
                    ],
                    "histogram2dcontour": [
                      {
                        "colorbar": {
                          "outlinewidth": 0,
                          "ticks": ""
                        },
                        "colorscale": [
                          [
                            0,
                            "#0d0887"
                          ],
                          [
                            0.1111111111111111,
                            "#46039f"
                          ],
                          [
                            0.2222222222222222,
                            "#7201a8"
                          ],
                          [
                            0.3333333333333333,
                            "#9c179e"
                          ],
                          [
                            0.4444444444444444,
                            "#bd3786"
                          ],
                          [
                            0.5555555555555556,
                            "#d8576b"
                          ],
                          [
                            0.6666666666666666,
                            "#ed7953"
                          ],
                          [
                            0.7777777777777778,
                            "#fb9f3a"
                          ],
                          [
                            0.8888888888888888,
                            "#fdca26"
                          ],
                          [
                            1,
                            "#f0f921"
                          ]
                        ],
                        "type": "histogram2dcontour"
                      }
                    ],
                    "mesh3d": [
                      {
                        "colorbar": {
                          "outlinewidth": 0,
                          "ticks": ""
                        },
                        "type": "mesh3d"
                      }
                    ],
                    "parcoords": [
                      {
                        "line": {
                          "colorbar": {
                            "outlinewidth": 0,
                            "ticks": ""
                          }
                        },
                        "type": "parcoords"
                      }
                    ],
                    "pie": [
                      {
                        "automargin": true,
                        "type": "pie"
                      }
                    ],
                    "scatter": [
                      {
                        "fillpattern": {
                          "fillmode": "overlay",
                          "size": 10,
                          "solidity": 0.2
                        },
                        "type": "scatter"
                      }
                    ],
                    "scatter3d": [
                      {
                        "line": {
                          "colorbar": {
                            "outlinewidth": 0,
                            "ticks": ""
                          }
                        },
                        "marker": {
                          "colorbar": {
                            "outlinewidth": 0,
                            "ticks": ""
                          }
                        },
                        "type": "scatter3d"
                      }
                    ],
                    "scattercarpet": [
                      {
                        "marker": {
                          "colorbar": {
                            "outlinewidth": 0,
                            "ticks": ""
                          }
                        },
                        "type": "scattercarpet"
                      }
                    ],
                    "scattergeo": [
                      {
                        "marker": {
                          "colorbar": {
                            "outlinewidth": 0,
                            "ticks": ""
                          }
                        },
                        "type": "scattergeo"
                      }
                    ],
                    "scattergl": [
                      {
                        "marker": {
                          "colorbar": {
                            "outlinewidth": 0,
                            "ticks": ""
                          }
                        },
                        "type": "scattergl"
                      }
                    ],
                    "scattermapbox": [
                      {
                        "marker": {
                          "colorbar": {
                            "outlinewidth": 0,
                            "ticks": ""
                          }
                        },
                        "type": "scattermapbox"
                      }
                    ],
                    "scatterpolar": [
                      {
                        "marker": {
                          "colorbar": {
                            "outlinewidth": 0,
                            "ticks": ""
                          }
                        },
                        "type": "scatterpolar"
                      }
                    ],
                    "scatterpolargl": [
                      {
                        "marker": {
                          "colorbar": {
                            "outlinewidth": 0,
                            "ticks": ""
                          }
                        },
                        "type": "scatterpolargl"
                      }
                    ],
                    "scatterternary": [
                      {
                        "marker": {
                          "colorbar": {
                            "outlinewidth": 0,
                            "ticks": ""
                          }
                        },
                        "type": "scatterternary"
                      }
                    ],
                    "surface": [
                      {
                        "colorbar": {
                          "outlinewidth": 0,
                          "ticks": ""
                        },
                        "colorscale": [
                          [
                            0,
                            "#0d0887"
                          ],
                          [
                            0.1111111111111111,
                            "#46039f"
                          ],
                          [
                            0.2222222222222222,
                            "#7201a8"
                          ],
                          [
                            0.3333333333333333,
                            "#9c179e"
                          ],
                          [
                            0.4444444444444444,
                            "#bd3786"
                          ],
                          [
                            0.5555555555555556,
                            "#d8576b"
                          ],
                          [
                            0.6666666666666666,
                            "#ed7953"
                          ],
                          [
                            0.7777777777777778,
                            "#fb9f3a"
                          ],
                          [
                            0.8888888888888888,
                            "#fdca26"
                          ],
                          [
                            1,
                            "#f0f921"
                          ]
                        ],
                        "type": "surface"
                      }
                    ],
                    "table": [
                      {
                        "cells": {
                          "fill": {
                            "color": "#EBF0F8"
                          },
                          "line": {
                            "color": "white"
                          }
                        },
                        "header": {
                          "fill": {
                            "color": "#C8D4E3"
                          },
                          "line": {
                            "color": "white"
                          }
                        },
                        "type": "table"
                      }
                    ]
                  },
                  "layout": {
                    "annotationdefaults": {
                      "arrowcolor": "#2a3f5f",
                      "arrowhead": 0,
                      "arrowwidth": 1
                    },
                    "autotypenumbers": "strict",
                    "coloraxis": {
                      "colorbar": {
                        "outlinewidth": 0,
                        "ticks": ""
                      }
                    },
                    "colorscale": {
                      "diverging": [
                        [
                          0,
                          "#8e0152"
                        ],
                        [
                          0.1,
                          "#c51b7d"
                        ],
                        [
                          0.2,
                          "#de77ae"
                        ],
                        [
                          0.3,
                          "#f1b6da"
                        ],
                        [
                          0.4,
                          "#fde0ef"
                        ],
                        [
                          0.5,
                          "#f7f7f7"
                        ],
                        [
                          0.6,
                          "#e6f5d0"
                        ],
                        [
                          0.7,
                          "#b8e186"
                        ],
                        [
                          0.8,
                          "#7fbc41"
                        ],
                        [
                          0.9,
                          "#4d9221"
                        ],
                        [
                          1,
                          "#276419"
                        ]
                      ],
                      "sequential": [
                        [
                          0,
                          "#0d0887"
                        ],
                        [
                          0.1111111111111111,
                          "#46039f"
                        ],
                        [
                          0.2222222222222222,
                          "#7201a8"
                        ],
                        [
                          0.3333333333333333,
                          "#9c179e"
                        ],
                        [
                          0.4444444444444444,
                          "#bd3786"
                        ],
                        [
                          0.5555555555555556,
                          "#d8576b"
                        ],
                        [
                          0.6666666666666666,
                          "#ed7953"
                        ],
                        [
                          0.7777777777777778,
                          "#fb9f3a"
                        ],
                        [
                          0.8888888888888888,
                          "#fdca26"
                        ],
                        [
                          1,
                          "#f0f921"
                        ]
                      ],
                      "sequentialminus": [
                        [
                          0,
                          "#0d0887"
                        ],
                        [
                          0.1111111111111111,
                          "#46039f"
                        ],
                        [
                          0.2222222222222222,
                          "#7201a8"
                        ],
                        [
                          0.3333333333333333,
                          "#9c179e"
                        ],
                        [
                          0.4444444444444444,
                          "#bd3786"
                        ],
                        [
                          0.5555555555555556,
                          "#d8576b"
                        ],
                        [
                          0.6666666666666666,
                          "#ed7953"
                        ],
                        [
                          0.7777777777777778,
                          "#fb9f3a"
                        ],
                        [
                          0.8888888888888888,
                          "#fdca26"
                        ],
                        [
                          1,
                          "#f0f921"
                        ]
                      ]
                    },
                    "colorway": [
                      "#636efa",
                      "#EF553B",
                      "#00cc96",
                      "#ab63fa",
                      "#FFA15A",
                      "#19d3f3",
                      "#FF6692",
                      "#B6E880",
                      "#FF97FF",
                      "#FECB52"
                    ],
                    "font": {
                      "color": "#2a3f5f"
                    },
                    "geo": {
                      "bgcolor": "white",
                      "lakecolor": "white",
                      "landcolor": "#E5ECF6",
                      "showlakes": true,
                      "showland": true,
                      "subunitcolor": "white"
                    },
                    "hoverlabel": {
                      "align": "left"
                    },
                    "hovermode": "closest",
                    "mapbox": {
                      "style": "light"
                    },
                    "paper_bgcolor": "white",
                    "plot_bgcolor": "#E5ECF6",
                    "polar": {
                      "angularaxis": {
                        "gridcolor": "white",
                        "linecolor": "white",
                        "ticks": ""
                      },
                      "bgcolor": "#E5ECF6",
                      "radialaxis": {
                        "gridcolor": "white",
                        "linecolor": "white",
                        "ticks": ""
                      }
                    },
                    "scene": {
                      "xaxis": {
                        "backgroundcolor": "#E5ECF6",
                        "gridcolor": "white",
                        "gridwidth": 2,
                        "linecolor": "white",
                        "showbackground": true,
                        "ticks": "",
                        "zerolinecolor": "white"
                      },
                      "yaxis": {
                        "backgroundcolor": "#E5ECF6",
                        "gridcolor": "white",
                        "gridwidth": 2,
                        "linecolor": "white",
                        "showbackground": true,
                        "ticks": "",
                        "zerolinecolor": "white"
                      },
                      "zaxis": {
                        "backgroundcolor": "#E5ECF6",
                        "gridcolor": "white",
                        "gridwidth": 2,
                        "linecolor": "white",
                        "showbackground": true,
                        "ticks": "",
                        "zerolinecolor": "white"
                      }
                    },
                    "shapedefaults": {
                      "line": {
                        "color": "#2a3f5f"
                      }
                    },
                    "ternary": {
                      "aaxis": {
                        "gridcolor": "white",
                        "linecolor": "white",
                        "ticks": ""
                      },
                      "baxis": {
                        "gridcolor": "white",
                        "linecolor": "white",
                        "ticks": ""
                      },
                      "bgcolor": "#E5ECF6",
                      "caxis": {
                        "gridcolor": "white",
                        "linecolor": "white",
                        "ticks": ""
                      }
                    },
                    "title": {
                      "x": 0.05
                    },
                    "xaxis": {
                      "automargin": true,
                      "gridcolor": "white",
                      "linecolor": "white",
                      "ticks": "",
                      "title": {
                        "standoff": 15
                      },
                      "zerolinecolor": "white",
                      "zerolinewidth": 2
                    },
                    "yaxis": {
                      "automargin": true,
                      "gridcolor": "white",
                      "linecolor": "white",
                      "ticks": "",
                      "title": {
                        "standoff": 15
                      },
                      "zerolinecolor": "white",
                      "zerolinewidth": 2
                    }
                  }
                },
                "title": {
                  "text": "GLM coefficients importance"
                },
                "xaxis": {
                  "title": {
                    "text": "Coeficientes normalizados"
                  }
                },
                "yaxis": {
                  "title": {
                    "text": "Variables"
                  }
                }
              }
            }
          },
          "metadata": {},
          "output_type": "display_data"
        }
      ],
      "source": [
        "df['hit'] = df[\"streams\"] > df[\"streams\"].quantile(0.5)\n",
        "print(df.hit.describe())\n",
        "\n",
        "\n",
        "df['key'] = df['key'].astype('category')\n",
        "df['mode'] = df['mode'].astype('category')\n",
        "\n",
        "X = df[['bpm',\n",
        "        'danceability_%','valence_%','energy_%',\n",
        "        'acousticness_%','instrumentalness_%','liveness_%',\n",
        "        'speechiness_%', 'more_two_artists', 'artist_count']]\n",
        "\n",
        "y = df['hit']\n",
        "\n",
        "print(X.head())\n",
        "\n",
        "X_train, X_test, y_train, y_test = train_test_split(X, y, test_size = 0.2, random_state = 123)\n",
        "\n",
        "clf_log = Pipeline(steps=[\n",
        "    ('scaler', StandardScaler()),\n",
        "    (\"glm\", LogisticRegression(max_iter=10000, tol=0.1)),\n",
        "])\n",
        "\n",
        "\n",
        "# clf_log = LogisticRegression(max_iter=10000, tol=0.1)\n",
        "clf_log.fit(X_train, y_train)\n",
        "\n",
        "predictions = clf_log.predict(X_test)\n",
        "\n",
        "print(\"Classification report\")\n",
        "print(classification_report(y_test, predictions))\n",
        "\n",
        "print(\"Confusion matrix\")\n",
        "print(confusion_matrix(y_test, predictions))\n",
        "\n",
        "lmc = clf_log.named_steps['glm'].coef_\n",
        "\n",
        "# Plot for LM\n",
        "objects = X.columns\n",
        "y_pos = np.arange(len(objects))\n",
        "coefficients = lmc[0]\n",
        "\n",
        "\n",
        "fig = go.Figure()\n",
        "\n",
        "# Agrego las trazas necesarias\n",
        "fig.add_trace(\n",
        "    go.Bar(\n",
        "        x = coefficients,\n",
        "        y = objects,\n",
        "        name = \"Coeficientes\",\n",
        "        orientation='h'\n",
        "    )\n",
        ")\n",
        "\n",
        "# Actualizo el diseño\n",
        "fig.update_layout(title = \"GLM coefficients importance\", xaxis_title = \"Coeficientes normalizados\", yaxis_title = \"Variables\")\n",
        "\n",
        "# Muestro la figura\n",
        "fig.show()"
      ]
    },
    {
      "cell_type": "markdown",
      "metadata": {
        "id": "trrbR54x_RzN"
      },
      "source": [
        "g) Agrupa los 4 gráficos realizados en uno solo y haz una recomendación a un sello discográfico para producir un nuevo hit. **(1 puntos)**"
      ]
    },
    {
      "cell_type": "code",
      "execution_count": 20,
      "metadata": {
        "colab": {
          "base_uri": "https://localhost:8080/",
          "height": 1000
        },
        "id": "P-18pfLx_g2Z",
        "outputId": "c434a142-70bc-4408-b15b-286e5fdbbff7"
      },
      "outputs": [
        {
          "data": {
            "application/vnd.plotly.v1+json": {
              "config": {
                "plotlyServerURL": "https://plot.ly"
              },
              "data": [
                {
                  "histnorm": "probability",
                  "type": "histogram",
                  "x": [
                    141381703,
                    133716286,
                    140003974,
                    800840817,
                    303236322,
                    183706234,
                    725980112,
                    58149378,
                    95217315,
                    553634067,
                    505671438,
                    58255150,
                    387570742,
                    1163093654,
                    496795686,
                    335222234,
                    363369738,
                    86444842,
                    52135248,
                    200647221,
                    115364561,
                    78300654,
                    899183384,
                    61245289,
                    429829812,
                    127408954,
                    22581161,
                    52294266,
                    843957510,
                    999748277,
                    618990393,
                    188933502,
                    1355959075,
                    786181836,
                    176553476,
                    354495408,
                    2808096550,
                    1109433169,
                    1047101291,
                    570515054,
                    1647990401,
                    2565529693,
                    518745108,
                    107753850,
                    177740666,
                    153372011,
                    57876440,
                    256483385,
                    1214083358,
                    111947664,
                    156338624,
                    720434240,
                    357925728,
                    674072710,
                    1755214421,
                    404562836,
                    373199958,
                    14780425,
                    39578178,
                    54266102,
                    751134527,
                    1356565093,
                    1592909789,
                    635412045,
                    1230675890,
                    585695368,
                    43857627,
                    2009094673,
                    600976848,
                    39709092,
                    39228929,
                    2665343922,
                    223633238,
                    1440757818,
                    165484133,
                    58054811,
                    157058870,
                    95131998,
                    250305248,
                    685032533,
                    38411956,
                    144565150,
                    127567540,
                    399686758,
                    983637508,
                    118482347,
                    882831184,
                    286400165,
                    172825906,
                    1241559043,
                    29562220,
                    77309611,
                    1605224506,
                    1116995633,
                    838079900,
                    1163620694,
                    1093605526,
                    179659294,
                    39058561,
                    36912123,
                    1205951614,
                    1791000570,
                    201660859,
                    248088961,
                    90839753,
                    607123776,
                    55842345,
                    211050784,
                    342897938,
                    2762,
                    601863821,
                    1953533826,
                    2355719893,
                    66902503,
                    96273746,
                    430977451,
                    284819874,
                    721975598,
                    276259178,
                    54225632,
                    2559529074,
                    681583126,
                    2594040133,
                    81102253,
                    11956641,
                    1687664027,
                    611700552,
                    1133865788,
                    1089402494,
                    411747614,
                    255932395,
                    31873544,
                    233801632,
                    1481349984,
                    142095275,
                    2011464183,
                    436027885,
                    2713922350,
                    621660989,
                    950906471,
                    1593270737,
                    1410088830,
                    1235005533,
                    1374581173,
                    94186466,
                    1788326445,
                    1840364617,
                    143573775,
                    684675814,
                    1113838873,
                    1267333350,
                    3562543890,
                    1271293243,
                    265882712,
                    841749534,
                    47956378,
                    806397070,
                    1641426668,
                    2135158446,
                    367316268,
                    350381515,
                    1264310836,
                    30343206,
                    405136812,
                    540654286,
                    57312735,
                    397582059,
                    1479115056,
                    86773632,
                    133753727,
                    123124076,
                    463564958,
                    64533040,
                    65496046,
                    68616963,
                    161460990,
                    70106975,
                    113509496,
                    89933133,
                    71007139,
                    43522589,
                    232896922,
                    37126685,
                    195576623,
                    532336353,
                    538115192,
                    46142772,
                    401036314,
                    127026613,
                    345031710,
                    288101651,
                    60350538,
                    335074782,
                    76767396,
                    46065667,
                    459276435,
                    39666245,
                    138517666,
                    822633917,
                    595900742,
                    51985779,
                    57945987,
                    115010040,
                    175097833,
                    57089066,
                    488386797,
                    32761689,
                    1047480053,
                    153454328,
                    217672943,
                    457184829,
                    726434358,
                    573633020,
                    1406111294,
                    71573339,
                    24975653,
                    145458418,
                    1424589568,
                    231332117,
                    415932686,
                    988515741,
                    50847624,
                    39893489,
                    92035115,
                    118810253,
                    77233241,
                    117747907,
                    266624541,
                    293186992,
                    139681964,
                    123132751,
                    103762518,
                    162887075,
                    91221625,
                    190490915,
                    96180277,
                    185240616,
                    885093467,
                    104992946,
                    147290338,
                    158950978,
                    76910644,
                    137123880,
                    782369383,
                    502574952,
                    207033255,
                    381161027,
                    466231982,
                    357580552,
                    61105704,
                    198275403,
                    705469769,
                    34502215,
                    304118600,
                    1449799467,
                    173627354,
                    90025258,
                    652704649,
                    1829992958,
                    655466831,
                    146409671,
                    95816024,
                    117206995,
                    100409613,
                    80758350,
                    325592432,
                    58473276,
                    52722996,
                    191945597,
                    77377503,
                    743693613,
                    267789608,
                    449701773,
                    67070410,
                    116334601,
                    165584767,
                    367814306,
                    477033549,
                    156214700,
                    448843705,
                    294352144,
                    972164968,
                    920045682,
                    2420461338,
                    244658767,
                    68216992,
                    223582566,
                    471819764,
                    1361425037,
                    116599790,
                    148469433,
                    497225336,
                    88791109,
                    125917280,
                    105062254,
                    95623148,
                    144584800,
                    298063749,
                    166570053,
                    83021468,
                    139836056,
                    303216294,
                    221409663,
                    58890931,
                    81419389,
                    156777415,
                    284908316,
                    93438910,
                    363472647,
                    372476382,
                    56533272,
                    175399345,
                    203221468,
                    1624165576,
                    134294498,
                    70069745,
                    609293408,
                    671365962,
                    93587665,
                    1223481149,
                    1022258230,
                    263453310,
                    1435127549,
                    236857112,
                    147538971,
                    698086140,
                    723894473,
                    403097450,
                    309483971,
                    319566866,
                    909001996,
                    1061966512,
                    124988687,
                    134255790,
                    301051721,
                    156338624,
                    309653982,
                    297328960,
                    332506354,
                    480507035,
                    1065580332,
                    122763672,
                    1365184,
                    184308753,
                    606361689,
                    120972253,
                    338564981,
                    1606986953,
                    1301799902,
                    140187018,
                    107642809,
                    556585270,
                    2303033973,
                    646886885,
                    872137015,
                    571386359,
                    174006928,
                    284785823,
                    163284000,
                    246390068,
                    482257456,
                    168684524,
                    78489819,
                    195516622,
                    1260594497,
                    428685680,
                    1024858327,
                    838586769,
                    199386237,
                    972509632,
                    213438580,
                    210038833,
                    227918678,
                    826623384,
                    1802514301,
                    181831132,
                    462791599,
                    348647203,
                    90598517,
                    807561936,
                    663832097,
                    446390129,
                    485285717,
                    520034544,
                    476244795,
                    629173063,
                    404664135,
                    98709329,
                    110849052,
                    460492795,
                    94005786,
                    389771964,
                    403939487,
                    110073250,
                    351636786,
                    473248298,
                    73981293,
                    155653938,
                    395591396,
                    429504768,
                    242767149,
                    65362788,
                    67540165,
                    62019074,
                    295998468,
                    136689549,
                    135611421,
                    356709897,
                    110649992,
                    301869854,
                    127027715,
                    57144458,
                    56870689,
                    323437194,
                    317726339,
                    116144341,
                    328207708,
                    608228647,
                    180577478,
                    809306935,
                    49262961,
                    614555082,
                    245350949,
                    178660459,
                    51641685,
                    78139948,
                    322336177,
                    391251368,
                    349585590,
                    674772936,
                    119238316,
                    116903579,
                    888046992,
                    130655803,
                    88103848,
                    101114984,
                    1575467011,
                    91656026,
                    53933526,
                    267758538,
                    74601456,
                    920797189,
                    539595276,
                    1367810478,
                    578207856,
                    775542072,
                    656013912,
                    240684449,
                    63803529,
                    466214729,
                    236940480,
                    41924466,
                    225259194,
                    393230256,
                    287201015,
                    599770206,
                    342779426,
                    673801126,
                    1168642797,
                    383550148,
                    530511203,
                    510876816,
                    1763363713,
                    374191487,
                    108809090,
                    436695353,
                    354065229,
                    1143647827,
                    311395144,
                    672656250,
                    1256880657,
                    245095641,
                    686734357,
                    261414174,
                    610045621,
                    1115880852,
                    594482982,
                    566954746,
                    null,
                    184937148,
                    31959571,
                    824420218,
                    363467642,
                    1127468248,
                    60680939,
                    247737946,
                    154797871,
                    124407432,
                    850608354,
                    376333030,
                    516784627,
                    1608045237,
                    506778838,
                    1472799873,
                    513643924,
                    261286503,
                    783706581,
                    422691058,
                    1062345656,
                    851070493,
                    263894529,
                    345903614,
                    956865266,
                    427486004,
                    156658366,
                    624515457,
                    777765388,
                    1138474110,
                    355219175,
                    290228626,
                    1062956628,
                    1180094974,
                    1456081449,
                    432702334,
                    489945871,
                    465959382,
                    1223481149,
                    2288695111,
                    720825549,
                    2086124197,
                    1690192927,
                    593917618,
                    200972675,
                    71014967,
                    560222750,
                    1806617704,
                    77337771,
                    528544703,
                    865640097,
                    2159346687,
                    211372494,
                    651732901,
                    608334048,
                    863756573,
                    797402345,
                    1695712020,
                    1759567999,
                    223319934,
                    54937991,
                    258316038,
                    596152090,
                    177129919,
                    716591492,
                    1210599487,
                    246376690,
                    496311364,
                    843309044,
                    500340342,
                    107255472,
                    135079152,
                    822239726,
                    1202722675,
                    343197054,
                    240769997,
                    426204830,
                    421135627,
                    554875730,
                    327498031,
                    185408548,
                    245400167,
                    579395142,
                    675039469,
                    252871192,
                    231996128,
                    1929770265,
                    918915401,
                    1180896317,
                    498960285,
                    258714692,
                    143139338,
                    209768491,
                    64714573,
                    50746620,
                    154119539,
                    181328253,
                    370068639,
                    2280566092,
                    563902868,
                    317622165,
                    203680270,
                    81350745,
                    282883169,
                    64787943,
                    2484812918,
                    461437791,
                    1439191367,
                    759208783,
                    368646862,
                    299634472,
                    756907987,
                    682475162,
                    546191065,
                    229473310,
                    202677468,
                    208166039,
                    527033089,
                    94616487,
                    394030335,
                    193443895,
                    299648208,
                    319757142,
                    153240879,
                    346127840,
                    312622938,
                    1200808494,
                    797196073,
                    1970673297,
                    665765558,
                    263779030,
                    339473453,
                    2204080728,
                    2591224264,
                    135444283,
                    236872197,
                    694525298,
                    421365166,
                    349746291,
                    255120451,
                    190981339,
                    924193303,
                    305771063,
                    273005485,
                    89566512,
                    677389855,
                    75476209,
                    408843328,
                    187772591,
                    178512385,
                    101780047,
                    146363130,
                    126443991,
                    157990698,
                    176290831,
                    1023187129,
                    106933107,
                    139193812,
                    212234990,
                    1714490998,
                    197643795,
                    807015863,
                    933815613,
                    499710590,
                    120847157,
                    53909146,
                    2236667932,
                    2123309722,
                    301242089,
                    723894473,
                    237351106,
                    461558540,
                    156898322,
                    127309180,
                    173702135,
                    305650299,
                    123216717,
                    479655659,
                    126191104,
                    344055883,
                    338422004,
                    68895644,
                    86176890,
                    403231558,
                    319546754,
                    61739839,
                    283359161,
                    76831876,
                    283332261,
                    307752576,
                    279737940,
                    212351890,
                    1304313953,
                    150500965,
                    246127838,
                    582863434,
                    58687425,
                    212109195,
                    382199619,
                    41210087,
                    231657891,
                    53729194,
                    244741137,
                    42485571,
                    37778188,
                    254218729,
                    53603447,
                    160035717,
                    37091576,
                    284249832,
                    33381454,
                    184622518,
                    300983101,
                    121077868,
                    106919680,
                    136996305,
                    65719930,
                    229497852,
                    185550869,
                    54682594,
                    240580042,
                    1284942608,
                    71423324,
                    244891912,
                    132171975,
                    184706613,
                    184826429,
                    302006641,
                    330881149,
                    334733572,
                    366214458,
                    114546317,
                    448500832,
                    136676504,
                    190625045,
                    79095270,
                    273194684,
                    333146475,
                    194902696,
                    195918494,
                    248511839,
                    233671263,
                    199587884,
                    91781263,
                    383835984,
                    236060709,
                    189236868,
                    160845341,
                    588955257,
                    238350348,
                    187703102,
                    138334433,
                    445590495,
                    286739476,
                    1122364376,
                    157136970,
                    183273246,
                    164856284,
                    704171068,
                    354614964,
                    279717388,
                    195628667,
                    221752937,
                    263280370,
                    213505179,
                    130419412,
                    155795783,
                    1553497987,
                    293466523,
                    191448892,
                    85924992,
                    176103902,
                    121189256,
                    131746175,
                    244790012,
                    129314708,
                    331511413,
                    170732845,
                    179061440,
                    185236961,
                    171788484,
                    387080183,
                    264717480,
                    244928911,
                    97610446,
                    287278853,
                    887906111,
                    123473120,
                    323455692,
                    240918092,
                    191873381,
                    239411309,
                    703301727,
                    189476119,
                    277132266,
                    278920007,
                    222410722,
                    185392587,
                    202452860,
                    1608164312,
                    624101957,
                    148461629,
                    47093942,
                    380319238,
                    209106362,
                    53987404,
                    115331792,
                    225093344,
                    84697729,
                    159240673,
                    170709584,
                    154356956,
                    723043854,
                    247689123,
                    176474912,
                    235549288,
                    85559365,
                    146223492,
                    187701588,
                    154863153,
                    191333656,
                    253650850,
                    223064273,
                    170413877,
                    218320587,
                    141720999,
                    198365537,
                    177503916,
                    71095708,
                    112436403,
                    203436468,
                    93367537,
                    106249219,
                    181382590,
                    91473363,
                    121871870,
                    73513683,
                    133895612,
                    96007391
                  ],
                  "xaxis": "x",
                  "yaxis": "y"
                },
                {
                  "boxmean": true,
                  "boxpoints": "all",
                  "marker": {
                    "color": "gold"
                  },
                  "name": "Más de dos",
                  "type": "box",
                  "x": [
                    141381703,
                    183706234,
                    725980112,
                    553634067,
                    505671438,
                    335222234,
                    86444842,
                    200647221,
                    115364561,
                    899183384,
                    61245289,
                    52294266,
                    843957510,
                    618990393,
                    188933502,
                    354495408,
                    2808096550,
                    1109433169,
                    1047101291,
                    2565529693,
                    518745108,
                    107753850,
                    177740666,
                    111947664,
                    156338624,
                    720434240,
                    357925728,
                    674072710,
                    54266102,
                    1356565093,
                    1230675890,
                    585695368,
                    600976848,
                    39709092,
                    2665343922,
                    223633238,
                    1440757818,
                    58054811,
                    250305248,
                    144565150,
                    286400165,
                    1605224506,
                    1093605526,
                    39058561,
                    248088961,
                    90839753,
                    55842345,
                    211050784,
                    2762,
                    1953533826,
                    2355719893,
                    66902503,
                    721975598,
                    276259178,
                    54225632,
                    81102253,
                    11956641,
                    611700552,
                    1133865788,
                    233801632,
                    142095275,
                    436027885,
                    2713922350,
                    1235005533,
                    94186466,
                    367316268,
                    57312735,
                    86773632,
                    133753727,
                    463564958,
                    64533040,
                    161460990,
                    70106975,
                    113509496,
                    89933133,
                    71007139,
                    43522589,
                    37126685,
                    532336353,
                    538115192,
                    46142772,
                    401036314,
                    127026613,
                    288101651,
                    60350538,
                    46065667,
                    39666245,
                    138517666,
                    51985779,
                    57945987,
                    115010040,
                    57089066,
                    32761689,
                    573633020,
                    71573339,
                    24975653,
                    231332117,
                    50847624,
                    92035115,
                    77233241,
                    266624541,
                    162887075,
                    96180277,
                    104992946,
                    147290338,
                    158950978,
                    76910644,
                    207033255,
                    61105704,
                    198275403,
                    705469769,
                    34502215,
                    304118600,
                    90025258,
                    652704649,
                    655466831,
                    146409671,
                    95816024,
                    100409613,
                    80758350,
                    325592432,
                    58473276,
                    77377503,
                    116334601,
                    477033549,
                    294352144,
                    223582566,
                    471819764,
                    116599790,
                    497225336,
                    105062254,
                    139836056,
                    221409663,
                    58890931,
                    93438910,
                    609293408,
                    93587665,
                    1223481149,
                    263453310,
                    1435127549,
                    236857112,
                    309483971,
                    1061966512,
                    1065580332,
                    1365184,
                    184308753,
                    606361689,
                    120972253,
                    140187018,
                    556585270,
                    174006928,
                    78489819,
                    195516622,
                    972509632,
                    213438580,
                    1802514301,
                    462791599,
                    90598517,
                    460492795,
                    94005786,
                    110073250,
                    473248298,
                    155653938,
                    395591396,
                    295998468,
                    136689549,
                    110649992,
                    323437194,
                    116144341,
                    608228647,
                    180577478,
                    809306935,
                    614555082,
                    78139948,
                    322336177,
                    349585590,
                    674772936,
                    88103848,
                    1575467011,
                    91656026,
                    539595276,
                    578207856,
                    775542072,
                    656013912,
                    240684449,
                    236940480,
                    393230256,
                    673801126,
                    383550148,
                    530511203,
                    1763363713,
                    374191487,
                    436695353,
                    354065229,
                    311395144,
                    672656250,
                    686734357,
                    261414174,
                    610045621,
                    1115880852,
                    594482982,
                    566954746,
                    184937148,
                    60680939,
                    154797871,
                    261286503,
                    422691058,
                    263894529,
                    956865266,
                    427486004,
                    355219175,
                    489945871,
                    1223481149,
                    720825549,
                    593917618,
                    200972675,
                    560222750,
                    528544703,
                    2159346687,
                    651732901,
                    863756573,
                    1695712020,
                    223319934,
                    54937991,
                    258316038,
                    596152090,
                    177129919,
                    716591492,
                    1210599487,
                    843309044,
                    107255472,
                    135079152,
                    426204830,
                    327498031,
                    245400167,
                    579395142,
                    675039469,
                    252871192,
                    918915401,
                    1180896317,
                    143139338,
                    209768491,
                    64714573,
                    81350745,
                    64787943,
                    2484812918,
                    461437791,
                    759208783,
                    299634472,
                    756907987,
                    208166039,
                    94616487,
                    153240879,
                    2204080728,
                    2591224264,
                    236872197,
                    349746291,
                    273005485,
                    75476209,
                    187772591,
                    178512385,
                    176290831,
                    106933107,
                    197643795,
                    933815613,
                    120847157,
                    237351106,
                    127309180,
                    123216717,
                    479655659,
                    344055883,
                    68895644,
                    86176890,
                    319546754,
                    76831876,
                    307752576,
                    1304313953,
                    58687425,
                    212109195,
                    284249832,
                    33381454,
                    184622518,
                    300983101,
                    121077868,
                    106919680,
                    240580042,
                    136676504,
                    190625045,
                    333146475,
                    194902696,
                    248511839,
                    383835984,
                    160845341,
                    138334433,
                    286739476,
                    279717388,
                    130419412,
                    85924992,
                    176103902,
                    121189256,
                    129314708,
                    170732845,
                    287278853,
                    123473120,
                    323455692,
                    240918092,
                    191873381,
                    47093942,
                    209106362,
                    84697729,
                    159240673,
                    146223492,
                    187701588,
                    154863153,
                    191333656,
                    170413877,
                    141720999,
                    198365537,
                    71095708,
                    112436403,
                    106249219,
                    73513683,
                    133895612
                  ],
                  "xaxis": "x2",
                  "yaxis": "y2"
                },
                {
                  "boxmean": true,
                  "boxpoints": "all",
                  "marker": {
                    "color": "mediumseagreen"
                  },
                  "name": "Un solo artista",
                  "type": "box",
                  "x": [
                    133716286,
                    140003974,
                    800840817,
                    303236322,
                    58149378,
                    95217315,
                    58255150,
                    387570742,
                    1163093654,
                    496795686,
                    363369738,
                    52135248,
                    78300654,
                    429829812,
                    127408954,
                    22581161,
                    999748277,
                    1355959075,
                    786181836,
                    176553476,
                    570515054,
                    1647990401,
                    153372011,
                    57876440,
                    256483385,
                    1214083358,
                    1755214421,
                    404562836,
                    373199958,
                    14780425,
                    39578178,
                    751134527,
                    1592909789,
                    635412045,
                    43857627,
                    2009094673,
                    39228929,
                    165484133,
                    157058870,
                    95131998,
                    685032533,
                    38411956,
                    127567540,
                    399686758,
                    983637508,
                    118482347,
                    882831184,
                    172825906,
                    1241559043,
                    29562220,
                    77309611,
                    1116995633,
                    838079900,
                    1163620694,
                    179659294,
                    36912123,
                    1205951614,
                    1791000570,
                    201660859,
                    607123776,
                    342897938,
                    601863821,
                    96273746,
                    430977451,
                    284819874,
                    2559529074,
                    681583126,
                    2594040133,
                    1687664027,
                    1089402494,
                    411747614,
                    255932395,
                    31873544,
                    1481349984,
                    2011464183,
                    621660989,
                    950906471,
                    1593270737,
                    1410088830,
                    1374581173,
                    1788326445,
                    1840364617,
                    143573775,
                    684675814,
                    1113838873,
                    1267333350,
                    3562543890,
                    1271293243,
                    265882712,
                    841749534,
                    47956378,
                    806397070,
                    1641426668,
                    2135158446,
                    350381515,
                    1264310836,
                    30343206,
                    405136812,
                    540654286,
                    397582059,
                    1479115056,
                    123124076,
                    65496046,
                    68616963,
                    232896922,
                    195576623,
                    345031710,
                    335074782,
                    76767396,
                    459276435,
                    822633917,
                    595900742,
                    175097833,
                    488386797,
                    1047480053,
                    153454328,
                    217672943,
                    457184829,
                    726434358,
                    1406111294,
                    145458418,
                    1424589568,
                    415932686,
                    988515741,
                    39893489,
                    118810253,
                    117747907,
                    293186992,
                    139681964,
                    123132751,
                    103762518,
                    91221625,
                    190490915,
                    185240616,
                    885093467,
                    137123880,
                    782369383,
                    502574952,
                    381161027,
                    466231982,
                    357580552,
                    1449799467,
                    173627354,
                    1829992958,
                    117206995,
                    52722996,
                    191945597,
                    743693613,
                    267789608,
                    449701773,
                    67070410,
                    165584767,
                    367814306,
                    156214700,
                    448843705,
                    972164968,
                    920045682,
                    2420461338,
                    244658767,
                    68216992,
                    1361425037,
                    148469433,
                    88791109,
                    125917280,
                    95623148,
                    144584800,
                    298063749,
                    166570053,
                    83021468,
                    303216294,
                    81419389,
                    156777415,
                    284908316,
                    363472647,
                    372476382,
                    56533272,
                    175399345,
                    203221468,
                    1624165576,
                    134294498,
                    70069745,
                    671365962,
                    1022258230,
                    147538971,
                    698086140,
                    723894473,
                    403097450,
                    319566866,
                    909001996,
                    124988687,
                    134255790,
                    301051721,
                    156338624,
                    309653982,
                    297328960,
                    332506354,
                    480507035,
                    122763672,
                    338564981,
                    1606986953,
                    1301799902,
                    107642809,
                    2303033973,
                    646886885,
                    872137015,
                    571386359,
                    284785823,
                    163284000,
                    246390068,
                    482257456,
                    168684524,
                    1260594497,
                    428685680,
                    1024858327,
                    838586769,
                    199386237,
                    210038833,
                    227918678,
                    826623384,
                    181831132,
                    348647203,
                    807561936,
                    663832097,
                    446390129,
                    485285717,
                    520034544,
                    476244795,
                    629173063,
                    404664135,
                    98709329,
                    110849052,
                    389771964,
                    403939487,
                    351636786,
                    73981293,
                    429504768,
                    242767149,
                    65362788,
                    67540165,
                    62019074,
                    135611421,
                    356709897,
                    301869854,
                    127027715,
                    57144458,
                    56870689,
                    317726339,
                    328207708,
                    49262961,
                    245350949,
                    178660459,
                    51641685,
                    391251368,
                    119238316,
                    116903579,
                    888046992,
                    130655803,
                    101114984,
                    53933526,
                    267758538,
                    74601456,
                    920797189,
                    1367810478,
                    63803529,
                    466214729,
                    41924466,
                    225259194,
                    287201015,
                    599770206,
                    342779426,
                    1168642797,
                    510876816,
                    108809090,
                    1143647827,
                    1256880657,
                    245095641,
                    null,
                    31959571,
                    824420218,
                    363467642,
                    1127468248,
                    247737946,
                    124407432,
                    850608354,
                    376333030,
                    516784627,
                    1608045237,
                    506778838,
                    1472799873,
                    513643924,
                    783706581,
                    1062345656,
                    851070493,
                    345903614,
                    156658366,
                    624515457,
                    777765388,
                    1138474110,
                    290228626,
                    1062956628,
                    1180094974,
                    1456081449,
                    432702334,
                    465959382,
                    2288695111,
                    2086124197,
                    1690192927,
                    71014967,
                    1806617704,
                    77337771,
                    865640097,
                    211372494,
                    608334048,
                    797402345,
                    1759567999,
                    246376690,
                    496311364,
                    500340342,
                    822239726,
                    1202722675,
                    343197054,
                    240769997,
                    421135627,
                    554875730,
                    185408548,
                    231996128,
                    1929770265,
                    498960285,
                    258714692,
                    50746620,
                    154119539,
                    181328253,
                    370068639,
                    2280566092,
                    563902868,
                    317622165,
                    203680270,
                    282883169,
                    1439191367,
                    368646862,
                    682475162,
                    546191065,
                    229473310,
                    202677468,
                    527033089,
                    394030335,
                    193443895,
                    299648208,
                    319757142,
                    346127840,
                    312622938,
                    1200808494,
                    797196073,
                    1970673297,
                    665765558,
                    263779030,
                    339473453,
                    135444283,
                    694525298,
                    421365166,
                    255120451,
                    190981339,
                    924193303,
                    305771063,
                    89566512,
                    677389855,
                    408843328,
                    101780047,
                    146363130,
                    126443991,
                    157990698,
                    1023187129,
                    139193812,
                    212234990,
                    1714490998,
                    807015863,
                    499710590,
                    53909146,
                    2236667932,
                    2123309722,
                    301242089,
                    723894473,
                    461558540,
                    156898322,
                    173702135,
                    305650299,
                    126191104,
                    338422004,
                    403231558,
                    61739839,
                    283359161,
                    283332261,
                    279737940,
                    212351890,
                    150500965,
                    246127838,
                    582863434,
                    382199619,
                    41210087,
                    231657891,
                    53729194,
                    244741137,
                    42485571,
                    37778188,
                    254218729,
                    53603447,
                    160035717,
                    37091576,
                    136996305,
                    65719930,
                    229497852,
                    185550869,
                    54682594,
                    1284942608,
                    71423324,
                    244891912,
                    132171975,
                    184706613,
                    184826429,
                    302006641,
                    330881149,
                    334733572,
                    366214458,
                    114546317,
                    448500832,
                    79095270,
                    273194684,
                    195918494,
                    233671263,
                    199587884,
                    91781263,
                    236060709,
                    189236868,
                    588955257,
                    238350348,
                    187703102,
                    445590495,
                    1122364376,
                    157136970,
                    183273246,
                    164856284,
                    704171068,
                    354614964,
                    195628667,
                    221752937,
                    263280370,
                    213505179,
                    155795783,
                    1553497987,
                    293466523,
                    191448892,
                    131746175,
                    244790012,
                    331511413,
                    179061440,
                    185236961,
                    171788484,
                    387080183,
                    264717480,
                    244928911,
                    97610446,
                    887906111,
                    239411309,
                    703301727,
                    189476119,
                    277132266,
                    278920007,
                    222410722,
                    185392587,
                    202452860,
                    1608164312,
                    624101957,
                    148461629,
                    380319238,
                    53987404,
                    115331792,
                    225093344,
                    170709584,
                    154356956,
                    723043854,
                    247689123,
                    176474912,
                    235549288,
                    85559365,
                    253650850,
                    223064273,
                    218320587,
                    177503916,
                    203436468,
                    93367537,
                    181382590,
                    91473363,
                    121871870,
                    96007391
                  ],
                  "xaxis": "x2",
                  "yaxis": "y2"
                },
                {
                  "type": "heatmap",
                  "x": [
                    "artist_count",
                    "released_year",
                    "released_month",
                    "released_day",
                    "in_spotify_playlists",
                    "in_spotify_charts",
                    "streams",
                    "in_apple_playlists",
                    "in_apple_charts",
                    "in_deezer_charts",
                    "bpm",
                    "danceability_%",
                    "valence_%",
                    "energy_%",
                    "acousticness_%",
                    "instrumentalness_%",
                    "liveness_%",
                    "speechiness_%"
                  ],
                  "xaxis": "x3",
                  "y": [
                    "artist_count",
                    "released_year",
                    "released_month",
                    "released_day",
                    "in_spotify_playlists",
                    "in_spotify_charts",
                    "streams",
                    "in_apple_playlists",
                    "in_apple_charts",
                    "in_deezer_charts",
                    "bpm",
                    "danceability_%",
                    "valence_%",
                    "energy_%",
                    "acousticness_%",
                    "instrumentalness_%",
                    "liveness_%",
                    "speechiness_%"
                  ],
                  "yaxis": "y3",
                  "z": [
                    [
                      1,
                      0.07090004173380302,
                      0.03278760982894667,
                      -0.015869777267265423,
                      -0.0854544966813266,
                      -0.009075346706073415,
                      -0.1097599524043898,
                      -0.017501016450324366,
                      -0.07613130206748128,
                      0.02023144405653201,
                      -0.059220838914568544,
                      0.21347955206059324,
                      0.12456107431158912,
                      0.13780122439820078,
                      -0.0953646318857772,
                      -0.06143822701775729,
                      0.03429410245503954,
                      0.13097757918193353
                    ],
                    [
                      0.07090004173380302,
                      1,
                      0.06967081338813279,
                      0.16105347721434085,
                      -0.3970519493265245,
                      0.06605413427449203,
                      -0.24272579089008642,
                      -0.2073168384289099,
                      -0.0020272025163861227,
                      0.09442635121163458,
                      -0.014195355733057458,
                      0.2124010948296214,
                      -0.04266481845972196,
                      0.0814783780645049,
                      -0.13915437984648737,
                      -0.025321974345794408,
                      0.008115258503517412,
                      0.127460610609959
                    ],
                    [
                      0.03278760982894667,
                      0.06967081338813279,
                      1,
                      0.055561883463581874,
                      -0.12300046106380708,
                      -0.051346269036809604,
                      -0.04604125957096039,
                      -0.035094384786825535,
                      -0.019568730831748378,
                      0.006167548370916162,
                      -0.05023562596498403,
                      -0.05659869425543103,
                      -0.10881785085329791,
                      -0.08651036974250396,
                      0.05382378483373092,
                      0.03519492470509011,
                      0.001181676657181715,
                      0.04092091648074129
                    ],
                    [
                      -0.015869777267265423,
                      0.16105347721434085,
                      0.055561883463581874,
                      1,
                      -0.10817088327110297,
                      0.015034108763182105,
                      -0.025116479922823516,
                      -0.012920868793625825,
                      0.006065310406673482,
                      0.05473490651499772,
                      -0.03418413713141129,
                      0.08274592095301941,
                      0.06455314106168629,
                      0.04785781232226975,
                      -0.00048532489500451617,
                      0.022745937897075817,
                      -0.011251997147247032,
                      -0.015859329769244257
                    ],
                    [
                      -0.0854544966813266,
                      -0.3970519493265245,
                      -0.12300046106380708,
                      -0.10817088327110297,
                      1,
                      0.14118603489360998,
                      0.7804038503763728,
                      0.6883060231524872,
                      0.21550426380479776,
                      0.10115824768310151,
                      -0.03462757258364471,
                      -0.09734839585137875,
                      -0.029527308453673785,
                      0.0359681368589882,
                      -0.06489557327799775,
                      -0.024631058213096548,
                      -0.05200216475889463,
                      -0.07786964657501229
                    ],
                    [
                      -0.009075346706073415,
                      0.06605413427449203,
                      -0.051346269036809604,
                      0.015034108763182105,
                      0.14118603489360998,
                      1,
                      0.21403395317007556,
                      0.20784124994907952,
                      0.5565087561030881,
                      0.5660197890003783,
                      0.028496332091187137,
                      0.050623077046313636,
                      0.05086231589061236,
                      0.10521673774955306,
                      -0.07348203872475352,
                      -0.005963079767105264,
                      -0.02665497970894307,
                      -0.09472574316848516
                    ],
                    [
                      -0.1097599524043898,
                      -0.24272579089008642,
                      -0.04604125957096039,
                      -0.025116479922823516,
                      0.7804038503763728,
                      0.21403395317007556,
                      1,
                      0.7353207638877904,
                      0.2691374652573007,
                      0.18432853415873934,
                      -0.02569384650556196,
                      -0.09326818058629731,
                      -0.051013689528639834,
                      -0.036499273297597605,
                      -0.0057509692186726155,
                      -0.03303871464204409,
                      -0.05666398078034252,
                      -0.09996806352926553
                    ],
                    [
                      -0.017501016450324366,
                      -0.2073168384289099,
                      -0.035094384786825535,
                      -0.012920868793625825,
                      0.6883060231524872,
                      0.20784124994907952,
                      0.7353207638877904,
                      1,
                      0.36433920975329354,
                      0.32659759363685664,
                      0.0052374873718523925,
                      -0.013305552506022153,
                      0.04201717640723098,
                      0.040210693898185955,
                      -0.07155418038380304,
                      -0.0545235436184444,
                      -0.06506223936184263,
                      -0.09823335679331736
                    ],
                    [
                      -0.07613130206748128,
                      -0.0020272025163861227,
                      -0.019568730831748378,
                      0.006065310406673482,
                      0.21550426380479776,
                      0.5565087561030881,
                      0.2691374652573007,
                      0.36433920975329354,
                      1,
                      0.36629523939782727,
                      0.02653071933976471,
                      -0.027370582138256914,
                      0.044228911257292634,
                      0.12979253227198215,
                      -0.09780319476698723,
                      -0.0006151357963077564,
                      -0.007270835158137846,
                      -0.14751340672088045
                    ],
                    [
                      0.02023144405653201,
                      0.09442635121163458,
                      0.006167548370916162,
                      0.05473490651499772,
                      0.10115824768310151,
                      0.5660197890003783,
                      0.18432853415873934,
                      0.32659759363685664,
                      0.36629523939782727,
                      1,
                      0.021487212379386198,
                      0.08092578398315108,
                      0.07378575984439611,
                      0.10452899782815851,
                      -0.0355750802851018,
                      0.003396426522728017,
                      0.0036022140713566192,
                      -0.08197067046566238
                    ],
                    [
                      -0.059220838914568544,
                      -0.014195355733057458,
                      -0.05023562596498403,
                      -0.03418413713141129,
                      -0.03462757258364471,
                      0.028496332091187137,
                      -0.02569384650556196,
                      0.0052374873718523925,
                      0.02653071933976471,
                      0.021487212379386198,
                      1,
                      -0.1488160754249973,
                      0.029742727988723745,
                      0.013522841333081521,
                      -0.011187119716298884,
                      -0.0035120476562447833,
                      -0.00586490281983666,
                      0.037861963299208254
                    ],
                    [
                      0.21347955206059324,
                      0.2124010948296214,
                      -0.05659869425543103,
                      0.08274592095301941,
                      -0.09734839585137875,
                      0.050623077046313636,
                      -0.09326818058629731,
                      -0.013305552506022153,
                      -0.027370582138256914,
                      0.08092578398315108,
                      -0.1488160754249973,
                      1,
                      0.39141412904737954,
                      0.1584178026180468,
                      -0.2415928980015893,
                      -0.10243629768299911,
                      -0.10074216215427026,
                      0.20048865345895828
                    ],
                    [
                      0.12456107431158912,
                      -0.04266481845972196,
                      -0.10881785085329791,
                      0.06455314106168629,
                      -0.029527308453673785,
                      0.05086231589061236,
                      -0.051013689528639834,
                      0.04201717640723098,
                      0.044228911257292634,
                      0.07378575984439611,
                      0.029742727988723745,
                      0.39141412904737954,
                      1,
                      0.3496155201713675,
                      -0.06319691909281103,
                      -0.14689078484770193,
                      0.0002491107205881238,
                      0.036648983717236766
                    ],
                    [
                      0.13780122439820078,
                      0.0814783780645049,
                      -0.08651036974250396,
                      0.04785781232226975,
                      0.0359681368589882,
                      0.10521673774955306,
                      -0.036499273297597605,
                      0.040210693898185955,
                      0.12979253227198215,
                      0.10452899782815851,
                      0.013522841333081521,
                      0.1584178026180468,
                      0.3496155201713675,
                      1,
                      -0.5525921800320963,
                      -0.051598507291110006,
                      0.11127690341609411,
                      -0.02663016991224413
                    ],
                    [
                      -0.0953646318857772,
                      -0.13915437984648737,
                      0.05382378483373092,
                      -0.00048532489500451617,
                      -0.06489557327799775,
                      -0.07348203872475352,
                      -0.0057509692186726155,
                      -0.07155418038380304,
                      -0.09780319476698723,
                      -0.0355750802851018,
                      -0.011187119716298884,
                      -0.2415928980015893,
                      -0.06319691909281103,
                      -0.5525921800320963,
                      1,
                      0.04653923560299526,
                      -0.04620880214916555,
                      -0.018517310455363756
                    ],
                    [
                      -0.06143822701775729,
                      -0.025321974345794408,
                      0.03519492470509011,
                      0.022745937897075817,
                      -0.024631058213096548,
                      -0.005963079767105264,
                      -0.03303871464204409,
                      -0.0545235436184444,
                      -0.0006151357963077564,
                      0.003396426522728017,
                      -0.0035120476562447833,
                      -0.10243629768299911,
                      -0.14689078484770193,
                      -0.051598507291110006,
                      0.04653923560299526,
                      1,
                      -0.04464726956241134,
                      -0.09119930620190991
                    ],
                    [
                      0.03429410245503954,
                      0.008115258503517412,
                      0.001181676657181715,
                      -0.011251997147247032,
                      -0.05200216475889463,
                      -0.02665497970894307,
                      -0.05666398078034252,
                      -0.06506223936184263,
                      -0.007270835158137846,
                      0.0036022140713566192,
                      -0.00586490281983666,
                      -0.10074216215427026,
                      0.0002491107205881238,
                      0.11127690341609411,
                      -0.04620880214916555,
                      -0.04464726956241134,
                      1,
                      -0.022892318688114338
                    ],
                    [
                      0.13097757918193353,
                      0.127460610609959,
                      0.04092091648074129,
                      -0.015859329769244257,
                      -0.07786964657501229,
                      -0.09472574316848516,
                      -0.09996806352926553,
                      -0.09823335679331736,
                      -0.14751340672088045,
                      -0.08197067046566238,
                      0.037861963299208254,
                      0.20048865345895828,
                      0.036648983717236766,
                      -0.02663016991224413,
                      -0.018517310455363756,
                      -0.09119930620190991,
                      -0.022892318688114338,
                      1
                    ]
                  ]
                },
                {
                  "orientation": "h",
                  "type": "bar",
                  "x": [
                    0.013904148510895267,
                    -0.18509228412689308,
                    -0.04039989398311612,
                    -0.09707081346156683,
                    -0.10060661363510975,
                    -0.0354966206131804,
                    -0.18672997787498874,
                    -0.2004596622563696,
                    0.09809419182712122,
                    -0.25040300829873036
                  ],
                  "xaxis": "x4",
                  "y": [
                    "bpm",
                    "danceability_%",
                    "valence_%",
                    "energy_%",
                    "acousticness_%",
                    "instrumentalness_%",
                    "liveness_%",
                    "speechiness_%",
                    "more_two_artists",
                    "artist_count"
                  ],
                  "yaxis": "y4"
                }
              ],
              "layout": {
                "annotations": [
                  {
                    "font": {
                      "size": 16
                    },
                    "showarrow": false,
                    "text": "Distribución reproducciones",
                    "x": 0.225,
                    "xanchor": "center",
                    "xref": "paper",
                    "y": 1,
                    "yanchor": "bottom",
                    "yref": "paper"
                  },
                  {
                    "font": {
                      "size": 16
                    },
                    "showarrow": false,
                    "text": "Diferencia #artistas",
                    "x": 0.775,
                    "xanchor": "center",
                    "xref": "paper",
                    "y": 1,
                    "yanchor": "bottom",
                    "yref": "paper"
                  },
                  {
                    "font": {
                      "size": 16
                    },
                    "showarrow": false,
                    "text": "Correlaciones",
                    "x": 0.225,
                    "xanchor": "center",
                    "xref": "paper",
                    "y": 0.375,
                    "yanchor": "bottom",
                    "yref": "paper"
                  },
                  {
                    "font": {
                      "size": 16
                    },
                    "showarrow": false,
                    "text": "Coeficientes",
                    "x": 0.775,
                    "xanchor": "center",
                    "xref": "paper",
                    "y": 0.375,
                    "yanchor": "bottom",
                    "yref": "paper"
                  }
                ],
                "bargap": 0.1,
                "height": 950,
                "template": {
                  "data": {
                    "bar": [
                      {
                        "error_x": {
                          "color": "#2a3f5f"
                        },
                        "error_y": {
                          "color": "#2a3f5f"
                        },
                        "marker": {
                          "line": {
                            "color": "#E5ECF6",
                            "width": 0.5
                          },
                          "pattern": {
                            "fillmode": "overlay",
                            "size": 10,
                            "solidity": 0.2
                          }
                        },
                        "type": "bar"
                      }
                    ],
                    "barpolar": [
                      {
                        "marker": {
                          "line": {
                            "color": "#E5ECF6",
                            "width": 0.5
                          },
                          "pattern": {
                            "fillmode": "overlay",
                            "size": 10,
                            "solidity": 0.2
                          }
                        },
                        "type": "barpolar"
                      }
                    ],
                    "carpet": [
                      {
                        "aaxis": {
                          "endlinecolor": "#2a3f5f",
                          "gridcolor": "white",
                          "linecolor": "white",
                          "minorgridcolor": "white",
                          "startlinecolor": "#2a3f5f"
                        },
                        "baxis": {
                          "endlinecolor": "#2a3f5f",
                          "gridcolor": "white",
                          "linecolor": "white",
                          "minorgridcolor": "white",
                          "startlinecolor": "#2a3f5f"
                        },
                        "type": "carpet"
                      }
                    ],
                    "choropleth": [
                      {
                        "colorbar": {
                          "outlinewidth": 0,
                          "ticks": ""
                        },
                        "type": "choropleth"
                      }
                    ],
                    "contour": [
                      {
                        "colorbar": {
                          "outlinewidth": 0,
                          "ticks": ""
                        },
                        "colorscale": [
                          [
                            0,
                            "#0d0887"
                          ],
                          [
                            0.1111111111111111,
                            "#46039f"
                          ],
                          [
                            0.2222222222222222,
                            "#7201a8"
                          ],
                          [
                            0.3333333333333333,
                            "#9c179e"
                          ],
                          [
                            0.4444444444444444,
                            "#bd3786"
                          ],
                          [
                            0.5555555555555556,
                            "#d8576b"
                          ],
                          [
                            0.6666666666666666,
                            "#ed7953"
                          ],
                          [
                            0.7777777777777778,
                            "#fb9f3a"
                          ],
                          [
                            0.8888888888888888,
                            "#fdca26"
                          ],
                          [
                            1,
                            "#f0f921"
                          ]
                        ],
                        "type": "contour"
                      }
                    ],
                    "contourcarpet": [
                      {
                        "colorbar": {
                          "outlinewidth": 0,
                          "ticks": ""
                        },
                        "type": "contourcarpet"
                      }
                    ],
                    "heatmap": [
                      {
                        "colorbar": {
                          "outlinewidth": 0,
                          "ticks": ""
                        },
                        "colorscale": [
                          [
                            0,
                            "#0d0887"
                          ],
                          [
                            0.1111111111111111,
                            "#46039f"
                          ],
                          [
                            0.2222222222222222,
                            "#7201a8"
                          ],
                          [
                            0.3333333333333333,
                            "#9c179e"
                          ],
                          [
                            0.4444444444444444,
                            "#bd3786"
                          ],
                          [
                            0.5555555555555556,
                            "#d8576b"
                          ],
                          [
                            0.6666666666666666,
                            "#ed7953"
                          ],
                          [
                            0.7777777777777778,
                            "#fb9f3a"
                          ],
                          [
                            0.8888888888888888,
                            "#fdca26"
                          ],
                          [
                            1,
                            "#f0f921"
                          ]
                        ],
                        "type": "heatmap"
                      }
                    ],
                    "heatmapgl": [
                      {
                        "colorbar": {
                          "outlinewidth": 0,
                          "ticks": ""
                        },
                        "colorscale": [
                          [
                            0,
                            "#0d0887"
                          ],
                          [
                            0.1111111111111111,
                            "#46039f"
                          ],
                          [
                            0.2222222222222222,
                            "#7201a8"
                          ],
                          [
                            0.3333333333333333,
                            "#9c179e"
                          ],
                          [
                            0.4444444444444444,
                            "#bd3786"
                          ],
                          [
                            0.5555555555555556,
                            "#d8576b"
                          ],
                          [
                            0.6666666666666666,
                            "#ed7953"
                          ],
                          [
                            0.7777777777777778,
                            "#fb9f3a"
                          ],
                          [
                            0.8888888888888888,
                            "#fdca26"
                          ],
                          [
                            1,
                            "#f0f921"
                          ]
                        ],
                        "type": "heatmapgl"
                      }
                    ],
                    "histogram": [
                      {
                        "marker": {
                          "pattern": {
                            "fillmode": "overlay",
                            "size": 10,
                            "solidity": 0.2
                          }
                        },
                        "type": "histogram"
                      }
                    ],
                    "histogram2d": [
                      {
                        "colorbar": {
                          "outlinewidth": 0,
                          "ticks": ""
                        },
                        "colorscale": [
                          [
                            0,
                            "#0d0887"
                          ],
                          [
                            0.1111111111111111,
                            "#46039f"
                          ],
                          [
                            0.2222222222222222,
                            "#7201a8"
                          ],
                          [
                            0.3333333333333333,
                            "#9c179e"
                          ],
                          [
                            0.4444444444444444,
                            "#bd3786"
                          ],
                          [
                            0.5555555555555556,
                            "#d8576b"
                          ],
                          [
                            0.6666666666666666,
                            "#ed7953"
                          ],
                          [
                            0.7777777777777778,
                            "#fb9f3a"
                          ],
                          [
                            0.8888888888888888,
                            "#fdca26"
                          ],
                          [
                            1,
                            "#f0f921"
                          ]
                        ],
                        "type": "histogram2d"
                      }
                    ],
                    "histogram2dcontour": [
                      {
                        "colorbar": {
                          "outlinewidth": 0,
                          "ticks": ""
                        },
                        "colorscale": [
                          [
                            0,
                            "#0d0887"
                          ],
                          [
                            0.1111111111111111,
                            "#46039f"
                          ],
                          [
                            0.2222222222222222,
                            "#7201a8"
                          ],
                          [
                            0.3333333333333333,
                            "#9c179e"
                          ],
                          [
                            0.4444444444444444,
                            "#bd3786"
                          ],
                          [
                            0.5555555555555556,
                            "#d8576b"
                          ],
                          [
                            0.6666666666666666,
                            "#ed7953"
                          ],
                          [
                            0.7777777777777778,
                            "#fb9f3a"
                          ],
                          [
                            0.8888888888888888,
                            "#fdca26"
                          ],
                          [
                            1,
                            "#f0f921"
                          ]
                        ],
                        "type": "histogram2dcontour"
                      }
                    ],
                    "mesh3d": [
                      {
                        "colorbar": {
                          "outlinewidth": 0,
                          "ticks": ""
                        },
                        "type": "mesh3d"
                      }
                    ],
                    "parcoords": [
                      {
                        "line": {
                          "colorbar": {
                            "outlinewidth": 0,
                            "ticks": ""
                          }
                        },
                        "type": "parcoords"
                      }
                    ],
                    "pie": [
                      {
                        "automargin": true,
                        "type": "pie"
                      }
                    ],
                    "scatter": [
                      {
                        "fillpattern": {
                          "fillmode": "overlay",
                          "size": 10,
                          "solidity": 0.2
                        },
                        "type": "scatter"
                      }
                    ],
                    "scatter3d": [
                      {
                        "line": {
                          "colorbar": {
                            "outlinewidth": 0,
                            "ticks": ""
                          }
                        },
                        "marker": {
                          "colorbar": {
                            "outlinewidth": 0,
                            "ticks": ""
                          }
                        },
                        "type": "scatter3d"
                      }
                    ],
                    "scattercarpet": [
                      {
                        "marker": {
                          "colorbar": {
                            "outlinewidth": 0,
                            "ticks": ""
                          }
                        },
                        "type": "scattercarpet"
                      }
                    ],
                    "scattergeo": [
                      {
                        "marker": {
                          "colorbar": {
                            "outlinewidth": 0,
                            "ticks": ""
                          }
                        },
                        "type": "scattergeo"
                      }
                    ],
                    "scattergl": [
                      {
                        "marker": {
                          "colorbar": {
                            "outlinewidth": 0,
                            "ticks": ""
                          }
                        },
                        "type": "scattergl"
                      }
                    ],
                    "scattermapbox": [
                      {
                        "marker": {
                          "colorbar": {
                            "outlinewidth": 0,
                            "ticks": ""
                          }
                        },
                        "type": "scattermapbox"
                      }
                    ],
                    "scatterpolar": [
                      {
                        "marker": {
                          "colorbar": {
                            "outlinewidth": 0,
                            "ticks": ""
                          }
                        },
                        "type": "scatterpolar"
                      }
                    ],
                    "scatterpolargl": [
                      {
                        "marker": {
                          "colorbar": {
                            "outlinewidth": 0,
                            "ticks": ""
                          }
                        },
                        "type": "scatterpolargl"
                      }
                    ],
                    "scatterternary": [
                      {
                        "marker": {
                          "colorbar": {
                            "outlinewidth": 0,
                            "ticks": ""
                          }
                        },
                        "type": "scatterternary"
                      }
                    ],
                    "surface": [
                      {
                        "colorbar": {
                          "outlinewidth": 0,
                          "ticks": ""
                        },
                        "colorscale": [
                          [
                            0,
                            "#0d0887"
                          ],
                          [
                            0.1111111111111111,
                            "#46039f"
                          ],
                          [
                            0.2222222222222222,
                            "#7201a8"
                          ],
                          [
                            0.3333333333333333,
                            "#9c179e"
                          ],
                          [
                            0.4444444444444444,
                            "#bd3786"
                          ],
                          [
                            0.5555555555555556,
                            "#d8576b"
                          ],
                          [
                            0.6666666666666666,
                            "#ed7953"
                          ],
                          [
                            0.7777777777777778,
                            "#fb9f3a"
                          ],
                          [
                            0.8888888888888888,
                            "#fdca26"
                          ],
                          [
                            1,
                            "#f0f921"
                          ]
                        ],
                        "type": "surface"
                      }
                    ],
                    "table": [
                      {
                        "cells": {
                          "fill": {
                            "color": "#EBF0F8"
                          },
                          "line": {
                            "color": "white"
                          }
                        },
                        "header": {
                          "fill": {
                            "color": "#C8D4E3"
                          },
                          "line": {
                            "color": "white"
                          }
                        },
                        "type": "table"
                      }
                    ]
                  },
                  "layout": {
                    "annotationdefaults": {
                      "arrowcolor": "#2a3f5f",
                      "arrowhead": 0,
                      "arrowwidth": 1
                    },
                    "autotypenumbers": "strict",
                    "coloraxis": {
                      "colorbar": {
                        "outlinewidth": 0,
                        "ticks": ""
                      }
                    },
                    "colorscale": {
                      "diverging": [
                        [
                          0,
                          "#8e0152"
                        ],
                        [
                          0.1,
                          "#c51b7d"
                        ],
                        [
                          0.2,
                          "#de77ae"
                        ],
                        [
                          0.3,
                          "#f1b6da"
                        ],
                        [
                          0.4,
                          "#fde0ef"
                        ],
                        [
                          0.5,
                          "#f7f7f7"
                        ],
                        [
                          0.6,
                          "#e6f5d0"
                        ],
                        [
                          0.7,
                          "#b8e186"
                        ],
                        [
                          0.8,
                          "#7fbc41"
                        ],
                        [
                          0.9,
                          "#4d9221"
                        ],
                        [
                          1,
                          "#276419"
                        ]
                      ],
                      "sequential": [
                        [
                          0,
                          "#0d0887"
                        ],
                        [
                          0.1111111111111111,
                          "#46039f"
                        ],
                        [
                          0.2222222222222222,
                          "#7201a8"
                        ],
                        [
                          0.3333333333333333,
                          "#9c179e"
                        ],
                        [
                          0.4444444444444444,
                          "#bd3786"
                        ],
                        [
                          0.5555555555555556,
                          "#d8576b"
                        ],
                        [
                          0.6666666666666666,
                          "#ed7953"
                        ],
                        [
                          0.7777777777777778,
                          "#fb9f3a"
                        ],
                        [
                          0.8888888888888888,
                          "#fdca26"
                        ],
                        [
                          1,
                          "#f0f921"
                        ]
                      ],
                      "sequentialminus": [
                        [
                          0,
                          "#0d0887"
                        ],
                        [
                          0.1111111111111111,
                          "#46039f"
                        ],
                        [
                          0.2222222222222222,
                          "#7201a8"
                        ],
                        [
                          0.3333333333333333,
                          "#9c179e"
                        ],
                        [
                          0.4444444444444444,
                          "#bd3786"
                        ],
                        [
                          0.5555555555555556,
                          "#d8576b"
                        ],
                        [
                          0.6666666666666666,
                          "#ed7953"
                        ],
                        [
                          0.7777777777777778,
                          "#fb9f3a"
                        ],
                        [
                          0.8888888888888888,
                          "#fdca26"
                        ],
                        [
                          1,
                          "#f0f921"
                        ]
                      ]
                    },
                    "colorway": [
                      "#636efa",
                      "#EF553B",
                      "#00cc96",
                      "#ab63fa",
                      "#FFA15A",
                      "#19d3f3",
                      "#FF6692",
                      "#B6E880",
                      "#FF97FF",
                      "#FECB52"
                    ],
                    "font": {
                      "color": "#2a3f5f"
                    },
                    "geo": {
                      "bgcolor": "white",
                      "lakecolor": "white",
                      "landcolor": "#E5ECF6",
                      "showlakes": true,
                      "showland": true,
                      "subunitcolor": "white"
                    },
                    "hoverlabel": {
                      "align": "left"
                    },
                    "hovermode": "closest",
                    "mapbox": {
                      "style": "light"
                    },
                    "paper_bgcolor": "white",
                    "plot_bgcolor": "#E5ECF6",
                    "polar": {
                      "angularaxis": {
                        "gridcolor": "white",
                        "linecolor": "white",
                        "ticks": ""
                      },
                      "bgcolor": "#E5ECF6",
                      "radialaxis": {
                        "gridcolor": "white",
                        "linecolor": "white",
                        "ticks": ""
                      }
                    },
                    "scene": {
                      "xaxis": {
                        "backgroundcolor": "#E5ECF6",
                        "gridcolor": "white",
                        "gridwidth": 2,
                        "linecolor": "white",
                        "showbackground": true,
                        "ticks": "",
                        "zerolinecolor": "white"
                      },
                      "yaxis": {
                        "backgroundcolor": "#E5ECF6",
                        "gridcolor": "white",
                        "gridwidth": 2,
                        "linecolor": "white",
                        "showbackground": true,
                        "ticks": "",
                        "zerolinecolor": "white"
                      },
                      "zaxis": {
                        "backgroundcolor": "#E5ECF6",
                        "gridcolor": "white",
                        "gridwidth": 2,
                        "linecolor": "white",
                        "showbackground": true,
                        "ticks": "",
                        "zerolinecolor": "white"
                      }
                    },
                    "shapedefaults": {
                      "line": {
                        "color": "#2a3f5f"
                      }
                    },
                    "ternary": {
                      "aaxis": {
                        "gridcolor": "white",
                        "linecolor": "white",
                        "ticks": ""
                      },
                      "baxis": {
                        "gridcolor": "white",
                        "linecolor": "white",
                        "ticks": ""
                      },
                      "bgcolor": "#E5ECF6",
                      "caxis": {
                        "gridcolor": "white",
                        "linecolor": "white",
                        "ticks": ""
                      }
                    },
                    "title": {
                      "x": 0.05
                    },
                    "xaxis": {
                      "automargin": true,
                      "gridcolor": "white",
                      "linecolor": "white",
                      "ticks": "",
                      "title": {
                        "standoff": 15
                      },
                      "zerolinecolor": "white",
                      "zerolinewidth": 2
                    },
                    "yaxis": {
                      "automargin": true,
                      "gridcolor": "white",
                      "linecolor": "white",
                      "ticks": "",
                      "title": {
                        "standoff": 15
                      },
                      "zerolinecolor": "white",
                      "zerolinewidth": 2
                    }
                  }
                },
                "title": {
                  "text": "Top Streamed Spotify Songs"
                },
                "width": 950,
                "xaxis": {
                  "anchor": "y",
                  "domain": [
                    0,
                    0.45
                  ],
                  "title": {
                    "text": "Reproducciones"
                  }
                },
                "xaxis2": {
                  "anchor": "y2",
                  "domain": [
                    0.55,
                    1
                  ],
                  "title": {
                    "text": "Reproducciones"
                  }
                },
                "xaxis3": {
                  "anchor": "y3",
                  "domain": [
                    0,
                    0.45
                  ]
                },
                "xaxis4": {
                  "anchor": "y4",
                  "domain": [
                    0.55,
                    1
                  ],
                  "title": {
                    "text": "Coeficientes"
                  }
                },
                "yaxis": {
                  "anchor": "x",
                  "domain": [
                    0.625,
                    1
                  ],
                  "title": {
                    "text": "Frecuencia"
                  }
                },
                "yaxis2": {
                  "anchor": "x2",
                  "domain": [
                    0.625,
                    1
                  ]
                },
                "yaxis3": {
                  "anchor": "x3",
                  "domain": [
                    0,
                    0.375
                  ]
                },
                "yaxis4": {
                  "anchor": "x4",
                  "domain": [
                    0,
                    0.375
                  ]
                }
              }
            }
          },
          "metadata": {},
          "output_type": "display_data"
        }
      ],
      "source": [
        "# Creo el objeto que me permite hacer 4 gráficas al mismo tiempo\n",
        "fig = make_subplots(rows=2, cols=2, subplot_titles=(\"Distribución reproducciones\", \"Diferencia #artistas\", \"Correlaciones\", \"Coeficientes\"))\n",
        "\n",
        "# Primer gráfico\n",
        "fig.add_trace(\n",
        "    go.Histogram(\n",
        "        x=df['streams'],\n",
        "        histnorm='probability'\n",
        "    ),\n",
        "    row=1,\n",
        "    col=1\n",
        ")\n",
        "\n",
        "# Segundo gráfico\n",
        "fig.add_trace(\n",
        "    go.Box(\n",
        "        x=df[df['more_two_artists'] == True][\"streams\"],\n",
        "        marker_color=\"gold\",\n",
        "        name=\"Más de dos\",\n",
        "        boxpoints='all',\n",
        "        boxmean=True\n",
        "    ),\n",
        "    row=1,\n",
        "    col=2\n",
        ")\n",
        "\n",
        "fig.add_trace(\n",
        "    go.Box(\n",
        "        x=df[df['more_two_artists'] == False][\"streams\"],\n",
        "        marker_color=\"mediumseagreen\",\n",
        "        name=\"Un solo artista\",\n",
        "        boxpoints='all',\n",
        "        boxmean=True\n",
        "    ),\n",
        "    row=1,\n",
        "    col=2\n",
        ")\n",
        "\n",
        "# Tercer gráfico\n",
        "numeric_df = df.select_dtypes(include=['float64', 'int64'])\n",
        "numeric_df = numeric_df.dropna()  # Remove rows with missing values\n",
        "correlation_matrix = numeric_df.corr()\n",
        "\n",
        "fig.add_trace(\n",
        "    go.Heatmap(\n",
        "        z=correlation_matrix.to_numpy(),\n",
        "        x=correlation_matrix.columns,\n",
        "        y=correlation_matrix.columns\n",
        "    ),\n",
        "    row=2,\n",
        "    col=1\n",
        ")\n",
        "\n",
        "# Cuarto gráfico\n",
        "fig.add_trace(\n",
        "    go.Bar(\n",
        "        x=coefficients,\n",
        "        y=objects,\n",
        "        orientation='h'\n",
        "    ),\n",
        "    row=2,\n",
        "    col=2\n",
        ")\n",
        "\n",
        "# Modifico las dimensiones totales y el titulo global\n",
        "fig.update_layout(width=950, height=950, title=\"Top Streamed Spotify Songs\", bargap=0.1)\n",
        "\n",
        "fig.update_xaxes(title_text=\"Reproducciones\", row=1, col=1)\n",
        "fig.update_yaxes(title_text=\"Frecuencia\", row=1, col=1)\n",
        "fig.update_xaxes(title_text=\"Reproducciones\", row=1, col=2)\n",
        "fig.update_xaxes(title_text=\"Coeficientes\", row=2, col=2)\n",
        "\n",
        "fig.show()"
      ]
    }
  ],
  "metadata": {
    "colab": {
      "provenance": []
    },
    "kernelspec": {
      "display_name": "Python 3",
      "name": "python3"
    },
    "language_info": {
      "codemirror_mode": {
        "name": "ipython",
        "version": 3
      },
      "file_extension": ".py",
      "mimetype": "text/x-python",
      "name": "python",
      "nbconvert_exporter": "python",
      "pygments_lexer": "ipython3",
      "version": "3.11.5"
    }
  },
  "nbformat": 4,
  "nbformat_minor": 0
}
