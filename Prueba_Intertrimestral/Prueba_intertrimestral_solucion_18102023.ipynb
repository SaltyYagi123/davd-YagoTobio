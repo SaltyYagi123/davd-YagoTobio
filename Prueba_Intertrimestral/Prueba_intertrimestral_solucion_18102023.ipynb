{
  "cells": [
    {
      "cell_type": "markdown",
      "metadata": {
        "id": "z-TqRFiHp6tP"
      },
      "source": [
        "# Prueba Intertrimestral\n",
        "\n",
        "**Nombre:**\n",
        "\n",
        "**Apellidos:**\n",
        "\n",
        "**Tiempo de la prueba: 2 Horas**\n",
        "\n",
        "**Asignatura:** Desarrollo de Aplicaciones para la Visualización de Datos\n",
        "\n",
        "**Fecha:** 18 de octubre de 2023\n",
        "\n",
        "**Instrucciones:**\n",
        "\n",
        "- Escribe código limpio y autoexplicativo.\n",
        "\n",
        "- Se eliminará 0.5 puntos por usar Seaborn o Matplotlib.\n",
        "\n",
        "- Se pueden utilizar los materiales de clase.\n",
        "\n",
        "- Se puede utilizar internet para búsqueda de dudas y documentación.\n",
        "\n",
        "- No se puede utilizar ningún tipo de LLM.\n",
        "\n",
        "- No se puede utilizar mensajería instantánea.\n",
        "\n",
        "- Imprime una versión en PDF del notebook y envialo a dmartincorral@icai.comillas.edu\n",
        "\n",
        "\n",
        "## Librerías"
      ]
    },
    {
      "cell_type": "code",
      "execution_count": 1,
      "metadata": {
        "id": "QzMuL5s8p_Gz"
      },
      "outputs": [],
      "source": [
        "import pandas as pd\n",
        "import numpy as np\n",
        "import sklearn.datasets\n",
        "\n",
        "import matplotlib.pyplot as plt\n",
        "import plotly.express as px\n",
        "import plotly.graph_objects as go\n",
        "\n",
        "from sklearn.model_selection import train_test_split\n",
        "from sklearn.linear_model import LinearRegression\n",
        "from sklearn.ensemble import RandomForestRegressor\n",
        "from sklearn.metrics import (\n",
        "    r2_score,\n",
        "    mean_absolute_error,\n",
        "    mean_squared_error,\n",
        "    classification_report,\n",
        "    confusion_matrix\n",
        ")\n",
        "from sklearn.pipeline import Pipeline\n",
        "from sklearn.preprocessing import StandardScaler\n",
        "from sklearn.linear_model import SGDClassifier, LogisticRegression"
      ]
    },
    {
      "cell_type": "markdown",
      "metadata": {
        "id": "9S08KFXap_lQ"
      },
      "source": [
        "## Ejercicio 1 (2 puntos):\n",
        "\n",
        "a) Crea una función que calcule y devuelva el factorial de un número entero. **(0.6 puntos)**\n",
        "\n",
        "b) Crea una función que verifique si un número es primo o no. **(0.6 puntos)**\n",
        "\n",
        "c) Muestra en un dataframe los 50 primeros números positivos, si es primo y su factorial utilizando las funciones anteriores. **(0.6 puntos)**\n",
        "\n",
        "d) ¿Cómo se podría programar en una clase las tres operaciones anteriores? **(0.2 puntos)**"
      ]
    },
    {
      "cell_type": "markdown",
      "metadata": {
        "id": "Ois_rGQHqHOb"
      },
      "source": [
        "a) Crea una función que calcule y devuelva el factorial de un número entero. **(0.6 puntos)**"
      ]
    },
    {
      "cell_type": "code",
      "execution_count": 2,
      "metadata": {
        "colab": {
          "base_uri": "https://localhost:8080/"
        },
        "id": "aYF0eJtkqKUd",
        "outputId": "340563bf-da2b-4909-fa78-8b3774dcb9ef"
      },
      "outputs": [
        {
          "name": "stdout",
          "output_type": "stream",
          "text": [
            "None\n",
            "None\n",
            "1\n",
            "6\n"
          ]
        }
      ],
      "source": [
        "def fact(n):\n",
        "  fac = None\n",
        "  if isinstance(n, int) and n >= 0:\n",
        "    fac = 1\n",
        "    if n > 0:\n",
        "      for i in range(1, n + 1):\n",
        "        fac = fac*i\n",
        "  return fac\n",
        "\n",
        "print(fact(-1))\n",
        "print(fact(1.2))\n",
        "print(fact(0))\n",
        "print(fact(3))"
      ]
    },
    {
      "cell_type": "markdown",
      "metadata": {
        "id": "B1xB6Luxr7M3"
      },
      "source": [
        "b) Crea una función que verifique si un número es primo o no. **(0.6 puntos)**\n"
      ]
    },
    {
      "cell_type": "code",
      "execution_count": 3,
      "metadata": {
        "colab": {
          "base_uri": "https://localhost:8080/"
        },
        "id": "Wj3CRLg1r9X3",
        "outputId": "1c144f2d-d013-47cd-a885-ae3bd5c1065c"
      },
      "outputs": [
        {
          "name": "stdout",
          "output_type": "stream",
          "text": [
            "True\n",
            "False\n"
          ]
        }
      ],
      "source": [
        "def even(n):\n",
        "  return True if (n % 2) == 0 else False\n",
        "\n",
        "print(even(10))\n",
        "print(even(3))"
      ]
    },
    {
      "cell_type": "markdown",
      "metadata": {
        "id": "G_UKqniasaic"
      },
      "source": [
        "c) Muestra en un dataframe los 50 primeros números positivos, si es primo y su factorial utilizando las funciones anteriores. **(0.6 puntos)**"
      ]
    },
    {
      "cell_type": "code",
      "execution_count": 4,
      "metadata": {
        "colab": {
          "base_uri": "https://localhost:8080/",
          "height": 224
        },
        "id": "e91kJEpisZSy",
        "outputId": "6beb0279-b4f4-44f4-a122-b0ce20e5787a"
      },
      "outputs": [
        {
          "name": "stdout",
          "output_type": "stream",
          "text": [
            "(50, 3)\n"
          ]
        },
        {
          "data": {
            "text/html": [
              "<div>\n",
              "<style scoped>\n",
              "    .dataframe tbody tr th:only-of-type {\n",
              "        vertical-align: middle;\n",
              "    }\n",
              "\n",
              "    .dataframe tbody tr th {\n",
              "        vertical-align: top;\n",
              "    }\n",
              "\n",
              "    .dataframe thead th {\n",
              "        text-align: right;\n",
              "    }\n",
              "</style>\n",
              "<table border=\"1\" class=\"dataframe\">\n",
              "  <thead>\n",
              "    <tr style=\"text-align: right;\">\n",
              "      <th></th>\n",
              "      <th>n</th>\n",
              "      <th>even</th>\n",
              "      <th>fact</th>\n",
              "    </tr>\n",
              "  </thead>\n",
              "  <tbody>\n",
              "    <tr>\n",
              "      <th>1</th>\n",
              "      <td>1</td>\n",
              "      <td>False</td>\n",
              "      <td>1</td>\n",
              "    </tr>\n",
              "    <tr>\n",
              "      <th>2</th>\n",
              "      <td>2</td>\n",
              "      <td>True</td>\n",
              "      <td>2</td>\n",
              "    </tr>\n",
              "    <tr>\n",
              "      <th>3</th>\n",
              "      <td>3</td>\n",
              "      <td>False</td>\n",
              "      <td>6</td>\n",
              "    </tr>\n",
              "    <tr>\n",
              "      <th>4</th>\n",
              "      <td>4</td>\n",
              "      <td>True</td>\n",
              "      <td>24</td>\n",
              "    </tr>\n",
              "    <tr>\n",
              "      <th>5</th>\n",
              "      <td>5</td>\n",
              "      <td>False</td>\n",
              "      <td>120</td>\n",
              "    </tr>\n",
              "  </tbody>\n",
              "</table>\n",
              "</div>"
            ],
            "text/plain": [
              "   n   even fact\n",
              "1  1  False    1\n",
              "2  2   True    2\n",
              "3  3  False    6\n",
              "4  4   True   24\n",
              "5  5  False  120"
            ]
          },
          "execution_count": 4,
          "metadata": {},
          "output_type": "execute_result"
        }
      ],
      "source": [
        "df = pd.DataFrame(columns=['n', 'even', 'fact'])\n",
        "\n",
        "for i in range(1, 51):\n",
        "  df.loc[i] = [i, even(i), fact(i)]\n",
        "\n",
        "print(df.shape)\n",
        "df.head()"
      ]
    },
    {
      "cell_type": "markdown",
      "metadata": {
        "id": "MBO9N7Tmt9OC"
      },
      "source": [
        "d) ¿Cómo se podría programar en una clase las tres operaciones anteriores? **(0.2 puntos)**"
      ]
    },
    {
      "cell_type": "code",
      "execution_count": 5,
      "metadata": {
        "colab": {
          "base_uri": "https://localhost:8080/",
          "height": 380
        },
        "id": "DT-qfbIZt_jC",
        "outputId": "4299fe5c-cbca-437f-911d-8283968d52b7"
      },
      "outputs": [
        {
          "name": "stdout",
          "output_type": "stream",
          "text": [
            "(10, 3)\n"
          ]
        },
        {
          "data": {
            "text/html": [
              "<div>\n",
              "<style scoped>\n",
              "    .dataframe tbody tr th:only-of-type {\n",
              "        vertical-align: middle;\n",
              "    }\n",
              "\n",
              "    .dataframe tbody tr th {\n",
              "        vertical-align: top;\n",
              "    }\n",
              "\n",
              "    .dataframe thead th {\n",
              "        text-align: right;\n",
              "    }\n",
              "</style>\n",
              "<table border=\"1\" class=\"dataframe\">\n",
              "  <thead>\n",
              "    <tr style=\"text-align: right;\">\n",
              "      <th></th>\n",
              "      <th>n</th>\n",
              "      <th>even</th>\n",
              "      <th>fact</th>\n",
              "    </tr>\n",
              "  </thead>\n",
              "  <tbody>\n",
              "    <tr>\n",
              "      <th>-5</th>\n",
              "      <td>-5</td>\n",
              "      <td>False</td>\n",
              "      <td>None</td>\n",
              "    </tr>\n",
              "    <tr>\n",
              "      <th>-4</th>\n",
              "      <td>-4</td>\n",
              "      <td>True</td>\n",
              "      <td>None</td>\n",
              "    </tr>\n",
              "    <tr>\n",
              "      <th>-3</th>\n",
              "      <td>-3</td>\n",
              "      <td>False</td>\n",
              "      <td>None</td>\n",
              "    </tr>\n",
              "    <tr>\n",
              "      <th>-2</th>\n",
              "      <td>-2</td>\n",
              "      <td>True</td>\n",
              "      <td>None</td>\n",
              "    </tr>\n",
              "    <tr>\n",
              "      <th>-1</th>\n",
              "      <td>-1</td>\n",
              "      <td>False</td>\n",
              "      <td>None</td>\n",
              "    </tr>\n",
              "    <tr>\n",
              "      <th>0</th>\n",
              "      <td>0</td>\n",
              "      <td>True</td>\n",
              "      <td>1</td>\n",
              "    </tr>\n",
              "    <tr>\n",
              "      <th>1</th>\n",
              "      <td>1</td>\n",
              "      <td>False</td>\n",
              "      <td>1</td>\n",
              "    </tr>\n",
              "    <tr>\n",
              "      <th>2</th>\n",
              "      <td>2</td>\n",
              "      <td>True</td>\n",
              "      <td>2</td>\n",
              "    </tr>\n",
              "    <tr>\n",
              "      <th>3</th>\n",
              "      <td>3</td>\n",
              "      <td>False</td>\n",
              "      <td>6</td>\n",
              "    </tr>\n",
              "    <tr>\n",
              "      <th>4</th>\n",
              "      <td>4</td>\n",
              "      <td>True</td>\n",
              "      <td>24</td>\n",
              "    </tr>\n",
              "  </tbody>\n",
              "</table>\n",
              "</div>"
            ],
            "text/plain": [
              "    n   even  fact\n",
              "-5 -5  False  None\n",
              "-4 -4   True  None\n",
              "-3 -3  False  None\n",
              "-2 -2   True  None\n",
              "-1 -1  False  None\n",
              " 0  0   True     1\n",
              " 1  1  False     1\n",
              " 2  2   True     2\n",
              " 3  3  False     6\n",
              " 4  4   True    24"
            ]
          },
          "execution_count": 5,
          "metadata": {},
          "output_type": "execute_result"
        }
      ],
      "source": [
        "class data():\n",
        "\n",
        "  def __init__(self):\n",
        "    df = pd.DataFrame(columns=['n', 'even', 'fact'])\n",
        "    self.df = df\n",
        "    self.fac = None\n",
        "\n",
        "  def fact(self, n):\n",
        "    fac = self.fac\n",
        "    if isinstance(n, int) and n >= 0:\n",
        "      fac = 1\n",
        "      if n > 0:\n",
        "        for i in range(1, n + 1):\n",
        "          fac = fac*i\n",
        "    return fac\n",
        "\n",
        "  def even(self, n):\n",
        "    return True if (n % 2) == 0 else False\n",
        "\n",
        "  def run(self, start, end):\n",
        "    for i in range(start, end):\n",
        "      self.df.loc[i] = [i, self.even(i), self.fact(i)]\n",
        "    return self.df\n",
        "\n",
        "\n",
        "d = data()\n",
        "df = d.run(-5, 5)\n",
        "print(df.shape)\n",
        "df.head(10)"
      ]
    },
    {
      "cell_type": "markdown",
      "metadata": {
        "id": "MQnmK9rVvl34"
      },
      "source": [
        "## Ejercicio 2 (4 puntos):\n",
        "\n",
        "a) Extrae de sklearn el conjunto de datos __California Housing dataset__\n",
        " y transfórmalo a dataframe de pandas **(0.25 puntos)**\n",
        "\n",
        "b) Construye una función que muestra la estructura del dataset, el número de NAs, tipos de variables y estadísticas básicas de cada una de las variables. **(0.5 puntos)**\n",
        "\n",
        "c) Construye una __Regresión lineal__ y un __Random forest__ que predigan el __Median house value__ según los datos disponibles. **(0.75 puntos)**\n",
        "\n",
        "d) Visualiza cuales son las variables (coeficientes) más importantes en cada uno de los modelos. **(1.25 puntos)**\n",
        "\n",
        "e) Decide a través de las métricas que consideres oportunas, cuál de los dos modelos es mejor, por qué y explica el proceso que has realizado para responder en los puntos anteriores. **(1.25 puntos)**"
      ]
    },
    {
      "cell_type": "markdown",
      "metadata": {
        "id": "vRocs8oMvmw-"
      },
      "source": [
        "a) Extrae de sklearn el conjunto de datos __California Housing dataset__\n",
        " y transfórmalo a dataframe de pandas **(0.25 puntos)**"
      ]
    },
    {
      "cell_type": "code",
      "execution_count": 6,
      "metadata": {
        "colab": {
          "base_uri": "https://localhost:8080/"
        },
        "id": "MAoe2-y5vptr",
        "outputId": "57628564-61e6-42d9-da53-df54e4779287"
      },
      "outputs": [
        {
          "name": "stdout",
          "output_type": "stream",
          "text": [
            "   Unnamed: 0.3  Unnamed: 0.2  Unnamed: 0.1  Unnamed: 0  MedInc  HouseAge  \\\n",
            "0             0             0             0           0  8.3252      41.0   \n",
            "1             1             1             1           1  8.3014      21.0   \n",
            "2             2             2             2           2  7.2574      52.0   \n",
            "3             3             3             3           3  5.6431      52.0   \n",
            "4             4             4             4           4  3.8462      52.0   \n",
            "\n",
            "   AveRooms  AveBedrms  Population  AveOccup  Latitude  Longitude  target  \n",
            "0  6.984127   1.023810       322.0  2.555556     37.88    -122.23   4.526  \n",
            "1  6.238137   0.971880      2401.0  2.109842     37.86    -122.22   3.585  \n",
            "2  8.288136   1.073446       496.0  2.802260     37.85    -122.24   3.521  \n",
            "3  5.817352   1.073059       558.0  2.547945     37.85    -122.25   3.413  \n",
            "4  6.281853   1.081081       565.0  2.181467     37.85    -122.25   3.422  \n"
          ]
        }
      ],
      "source": [
        "\n",
        "df = pd.read_csv(\"fetch_california_housing.csv\")\n",
        "\n",
        "df.to_csv(\"fetch_california_housing.csv\")\n",
        "\n",
        "print(df.head())"
      ]
    },
    {
      "cell_type": "markdown",
      "metadata": {
        "id": "nuRY28EWwKR-"
      },
      "source": [
        "b) Construye una función que muestra la estructura del dataset, el número de NAs, tipos de variables y estadísticas básicas de cada una de las variables. **(0.5 puntos)**\n"
      ]
    },
    {
      "cell_type": "code",
      "execution_count": 7,
      "metadata": {
        "colab": {
          "base_uri": "https://localhost:8080/"
        },
        "id": "3w1ITzNwwSDW",
        "outputId": "5117d628-4f04-474a-b930-d1995c52f0fa"
      },
      "outputs": [
        {
          "name": "stdout",
          "output_type": "stream",
          "text": [
            "(20640, 13)\n",
            "Unnamed: 0.3    0\n",
            "Unnamed: 0.2    0\n",
            "Unnamed: 0.1    0\n",
            "Unnamed: 0      0\n",
            "MedInc          0\n",
            "HouseAge        0\n",
            "AveRooms        0\n",
            "AveBedrms       0\n",
            "Population      0\n",
            "AveOccup        0\n",
            "Latitude        0\n",
            "Longitude       0\n",
            "target          0\n",
            "dtype: int64\n",
            "Unnamed: 0.3      int64\n",
            "Unnamed: 0.2      int64\n",
            "Unnamed: 0.1      int64\n",
            "Unnamed: 0        int64\n",
            "MedInc          float64\n",
            "HouseAge        float64\n",
            "AveRooms        float64\n",
            "AveBedrms       float64\n",
            "Population      float64\n",
            "AveOccup        float64\n",
            "Latitude        float64\n",
            "Longitude       float64\n",
            "target          float64\n",
            "dtype: object\n",
            "       Unnamed: 0.3  Unnamed: 0.2  Unnamed: 0.1    Unnamed: 0        MedInc  \\\n",
            "count  20640.000000  20640.000000  20640.000000  20640.000000  20640.000000   \n",
            "mean   10319.500000  10319.500000  10319.500000  10319.500000      3.870671   \n",
            "std     5958.399114   5958.399114   5958.399114   5958.399114      1.899822   \n",
            "min        0.000000      0.000000      0.000000      0.000000      0.499900   \n",
            "25%     5159.750000   5159.750000   5159.750000   5159.750000      2.563400   \n",
            "50%    10319.500000  10319.500000  10319.500000  10319.500000      3.534800   \n",
            "75%    15479.250000  15479.250000  15479.250000  15479.250000      4.743250   \n",
            "max    20639.000000  20639.000000  20639.000000  20639.000000     15.000100   \n",
            "\n",
            "           HouseAge      AveRooms     AveBedrms    Population      AveOccup  \\\n",
            "count  20640.000000  20640.000000  20640.000000  20640.000000  20640.000000   \n",
            "mean      28.639486      5.429000      1.096675   1425.476744      3.070655   \n",
            "std       12.585558      2.474173      0.473911   1132.462122     10.386050   \n",
            "min        1.000000      0.846154      0.333333      3.000000      0.692308   \n",
            "25%       18.000000      4.440716      1.006079    787.000000      2.429741   \n",
            "50%       29.000000      5.229129      1.048780   1166.000000      2.818116   \n",
            "75%       37.000000      6.052381      1.099526   1725.000000      3.282261   \n",
            "max       52.000000    141.909091     34.066667  35682.000000   1243.333333   \n",
            "\n",
            "           Latitude     Longitude        target  \n",
            "count  20640.000000  20640.000000  20640.000000  \n",
            "mean      35.631861   -119.569704      2.068558  \n",
            "std        2.135952      2.003532      1.153956  \n",
            "min       32.540000   -124.350000      0.149990  \n",
            "25%       33.930000   -121.800000      1.196000  \n",
            "50%       34.260000   -118.490000      1.797000  \n",
            "75%       37.710000   -118.010000      2.647250  \n",
            "max       41.950000   -114.310000      5.000010  \n"
          ]
        }
      ],
      "source": [
        "def basicStats(df):\n",
        "  print(df.shape)\n",
        "  print(df.isna().sum())\n",
        "  print(df.dtypes)\n",
        "  print(df.describe(include='all'))\n",
        "\n",
        "basicStats(df)"
      ]
    },
    {
      "cell_type": "markdown",
      "metadata": {
        "id": "tBcrvETMwMxl"
      },
      "source": [
        "\n",
        "c) Construye una __Regresión lineal__ y un __Random forest__ que predigan el __Median house value__ según los datos disponibles. **(0.75 puntos)**\n"
      ]
    },
    {
      "cell_type": "code",
      "execution_count": 8,
      "metadata": {
        "colab": {
          "base_uri": "https://localhost:8080/"
        },
        "id": "wfldBBlKxPCx",
        "outputId": "a4b33e44-fd18-403b-f6f4-3ffaa3f2361f"
      },
      "outputs": [
        {
          "name": "stdout",
          "output_type": "stream",
          "text": [
            "Variance explanation R^2 = 0.61\n"
          ]
        },
        {
          "name": "stdout",
          "output_type": "stream",
          "text": [
            "Variance explanation R^2 = 0.94\n"
          ]
        }
      ],
      "source": [
        "X = df.loc[:, df.columns!= 'target']\n",
        "y = df['target']\n",
        "\n",
        "X_train, X_test, y_train, y_test = train_test_split(X, y, test_size = 0.2, random_state = 123)\n",
        "\n",
        "lm = Pipeline(steps=[\n",
        "  ('scaler', StandardScaler()),\n",
        "  (\"lm\", LinearRegression()),\n",
        "])\n",
        "\n",
        "lm = lm.fit(X_train, y_train)\n",
        "\n",
        "print(\"Variance explanation R^2 = {}\".format(round(lm.score(X, y),2)))\n",
        "\n",
        "rf = RandomForestRegressor().fit(X_train, y_train)\n",
        "\n",
        "rf = Pipeline(steps=[\n",
        "  ('scaler', StandardScaler()),\n",
        "  (\"rf\", RandomForestRegressor()),\n",
        "])\n",
        "\n",
        "rf = rf.fit(X_train, y_train)\n",
        "\n",
        "print(\"Variance explanation R^2 = {}\".format(round(rf.score(X, y),2)))\n"
      ]
    },
    {
      "cell_type": "markdown",
      "metadata": {
        "id": "vC1mW0qryaps"
      },
      "source": [
        "d) Visualiza cuales son las variables (coeficientes) más importantes en cada uno de los modelos. **(1.25 puntos)**\n"
      ]
    },
    {
      "cell_type": "code",
      "execution_count": 9,
      "metadata": {
        "colab": {
          "base_uri": "https://localhost:8080/",
          "height": 1000
        },
        "id": "bxncZWCYyj5M",
        "outputId": "a088340e-228d-4665-8474-3d47ae9159ca"
      },
      "outputs": [
        {
          "name": "stdout",
          "output_type": "stream",
          "text": [
            "[-3.23402245e+12  1.16979345e+12  1.19241272e+12  8.71816275e+11\n",
            "  8.38834438e-01  1.23623443e-01 -2.89493840e-01  3.24965375e-01\n",
            " -5.94009641e-03 -4.23692816e-02 -8.76499379e-01 -8.38558672e-01]\n"
          ]
        },
        {
          "data": {
            "application/vnd.plotly.v1+json": {
              "config": {
                "plotlyServerURL": "https://plot.ly"
              },
              "data": [
                {
                  "name": "Coeficientes",
                  "orientation": "h",
                  "type": "bar",
                  "x": [
                    -3234022447241.062,
                    1169793452098.476,
                    1192412720185.054,
                    871816274957.5745,
                    0.8388344375090321,
                    0.12362344305748785,
                    -0.28949384038711135,
                    0.32496537458054053,
                    -0.005940096408172419,
                    -0.04236928160065554,
                    -0.8764993790430687,
                    -0.8385586724089709
                  ],
                  "y": [
                    "Unnamed: 0.3",
                    "Unnamed: 0.2",
                    "Unnamed: 0.1",
                    "Unnamed: 0",
                    "MedInc",
                    "HouseAge",
                    "AveRooms",
                    "AveBedrms",
                    "Population",
                    "AveOccup",
                    "Latitude",
                    "Longitude"
                  ]
                }
              ],
              "layout": {
                "template": {
                  "data": {
                    "bar": [
                      {
                        "error_x": {
                          "color": "#2a3f5f"
                        },
                        "error_y": {
                          "color": "#2a3f5f"
                        },
                        "marker": {
                          "line": {
                            "color": "#E5ECF6",
                            "width": 0.5
                          },
                          "pattern": {
                            "fillmode": "overlay",
                            "size": 10,
                            "solidity": 0.2
                          }
                        },
                        "type": "bar"
                      }
                    ],
                    "barpolar": [
                      {
                        "marker": {
                          "line": {
                            "color": "#E5ECF6",
                            "width": 0.5
                          },
                          "pattern": {
                            "fillmode": "overlay",
                            "size": 10,
                            "solidity": 0.2
                          }
                        },
                        "type": "barpolar"
                      }
                    ],
                    "carpet": [
                      {
                        "aaxis": {
                          "endlinecolor": "#2a3f5f",
                          "gridcolor": "white",
                          "linecolor": "white",
                          "minorgridcolor": "white",
                          "startlinecolor": "#2a3f5f"
                        },
                        "baxis": {
                          "endlinecolor": "#2a3f5f",
                          "gridcolor": "white",
                          "linecolor": "white",
                          "minorgridcolor": "white",
                          "startlinecolor": "#2a3f5f"
                        },
                        "type": "carpet"
                      }
                    ],
                    "choropleth": [
                      {
                        "colorbar": {
                          "outlinewidth": 0,
                          "ticks": ""
                        },
                        "type": "choropleth"
                      }
                    ],
                    "contour": [
                      {
                        "colorbar": {
                          "outlinewidth": 0,
                          "ticks": ""
                        },
                        "colorscale": [
                          [
                            0,
                            "#0d0887"
                          ],
                          [
                            0.1111111111111111,
                            "#46039f"
                          ],
                          [
                            0.2222222222222222,
                            "#7201a8"
                          ],
                          [
                            0.3333333333333333,
                            "#9c179e"
                          ],
                          [
                            0.4444444444444444,
                            "#bd3786"
                          ],
                          [
                            0.5555555555555556,
                            "#d8576b"
                          ],
                          [
                            0.6666666666666666,
                            "#ed7953"
                          ],
                          [
                            0.7777777777777778,
                            "#fb9f3a"
                          ],
                          [
                            0.8888888888888888,
                            "#fdca26"
                          ],
                          [
                            1,
                            "#f0f921"
                          ]
                        ],
                        "type": "contour"
                      }
                    ],
                    "contourcarpet": [
                      {
                        "colorbar": {
                          "outlinewidth": 0,
                          "ticks": ""
                        },
                        "type": "contourcarpet"
                      }
                    ],
                    "heatmap": [
                      {
                        "colorbar": {
                          "outlinewidth": 0,
                          "ticks": ""
                        },
                        "colorscale": [
                          [
                            0,
                            "#0d0887"
                          ],
                          [
                            0.1111111111111111,
                            "#46039f"
                          ],
                          [
                            0.2222222222222222,
                            "#7201a8"
                          ],
                          [
                            0.3333333333333333,
                            "#9c179e"
                          ],
                          [
                            0.4444444444444444,
                            "#bd3786"
                          ],
                          [
                            0.5555555555555556,
                            "#d8576b"
                          ],
                          [
                            0.6666666666666666,
                            "#ed7953"
                          ],
                          [
                            0.7777777777777778,
                            "#fb9f3a"
                          ],
                          [
                            0.8888888888888888,
                            "#fdca26"
                          ],
                          [
                            1,
                            "#f0f921"
                          ]
                        ],
                        "type": "heatmap"
                      }
                    ],
                    "heatmapgl": [
                      {
                        "colorbar": {
                          "outlinewidth": 0,
                          "ticks": ""
                        },
                        "colorscale": [
                          [
                            0,
                            "#0d0887"
                          ],
                          [
                            0.1111111111111111,
                            "#46039f"
                          ],
                          [
                            0.2222222222222222,
                            "#7201a8"
                          ],
                          [
                            0.3333333333333333,
                            "#9c179e"
                          ],
                          [
                            0.4444444444444444,
                            "#bd3786"
                          ],
                          [
                            0.5555555555555556,
                            "#d8576b"
                          ],
                          [
                            0.6666666666666666,
                            "#ed7953"
                          ],
                          [
                            0.7777777777777778,
                            "#fb9f3a"
                          ],
                          [
                            0.8888888888888888,
                            "#fdca26"
                          ],
                          [
                            1,
                            "#f0f921"
                          ]
                        ],
                        "type": "heatmapgl"
                      }
                    ],
                    "histogram": [
                      {
                        "marker": {
                          "pattern": {
                            "fillmode": "overlay",
                            "size": 10,
                            "solidity": 0.2
                          }
                        },
                        "type": "histogram"
                      }
                    ],
                    "histogram2d": [
                      {
                        "colorbar": {
                          "outlinewidth": 0,
                          "ticks": ""
                        },
                        "colorscale": [
                          [
                            0,
                            "#0d0887"
                          ],
                          [
                            0.1111111111111111,
                            "#46039f"
                          ],
                          [
                            0.2222222222222222,
                            "#7201a8"
                          ],
                          [
                            0.3333333333333333,
                            "#9c179e"
                          ],
                          [
                            0.4444444444444444,
                            "#bd3786"
                          ],
                          [
                            0.5555555555555556,
                            "#d8576b"
                          ],
                          [
                            0.6666666666666666,
                            "#ed7953"
                          ],
                          [
                            0.7777777777777778,
                            "#fb9f3a"
                          ],
                          [
                            0.8888888888888888,
                            "#fdca26"
                          ],
                          [
                            1,
                            "#f0f921"
                          ]
                        ],
                        "type": "histogram2d"
                      }
                    ],
                    "histogram2dcontour": [
                      {
                        "colorbar": {
                          "outlinewidth": 0,
                          "ticks": ""
                        },
                        "colorscale": [
                          [
                            0,
                            "#0d0887"
                          ],
                          [
                            0.1111111111111111,
                            "#46039f"
                          ],
                          [
                            0.2222222222222222,
                            "#7201a8"
                          ],
                          [
                            0.3333333333333333,
                            "#9c179e"
                          ],
                          [
                            0.4444444444444444,
                            "#bd3786"
                          ],
                          [
                            0.5555555555555556,
                            "#d8576b"
                          ],
                          [
                            0.6666666666666666,
                            "#ed7953"
                          ],
                          [
                            0.7777777777777778,
                            "#fb9f3a"
                          ],
                          [
                            0.8888888888888888,
                            "#fdca26"
                          ],
                          [
                            1,
                            "#f0f921"
                          ]
                        ],
                        "type": "histogram2dcontour"
                      }
                    ],
                    "mesh3d": [
                      {
                        "colorbar": {
                          "outlinewidth": 0,
                          "ticks": ""
                        },
                        "type": "mesh3d"
                      }
                    ],
                    "parcoords": [
                      {
                        "line": {
                          "colorbar": {
                            "outlinewidth": 0,
                            "ticks": ""
                          }
                        },
                        "type": "parcoords"
                      }
                    ],
                    "pie": [
                      {
                        "automargin": true,
                        "type": "pie"
                      }
                    ],
                    "scatter": [
                      {
                        "fillpattern": {
                          "fillmode": "overlay",
                          "size": 10,
                          "solidity": 0.2
                        },
                        "type": "scatter"
                      }
                    ],
                    "scatter3d": [
                      {
                        "line": {
                          "colorbar": {
                            "outlinewidth": 0,
                            "ticks": ""
                          }
                        },
                        "marker": {
                          "colorbar": {
                            "outlinewidth": 0,
                            "ticks": ""
                          }
                        },
                        "type": "scatter3d"
                      }
                    ],
                    "scattercarpet": [
                      {
                        "marker": {
                          "colorbar": {
                            "outlinewidth": 0,
                            "ticks": ""
                          }
                        },
                        "type": "scattercarpet"
                      }
                    ],
                    "scattergeo": [
                      {
                        "marker": {
                          "colorbar": {
                            "outlinewidth": 0,
                            "ticks": ""
                          }
                        },
                        "type": "scattergeo"
                      }
                    ],
                    "scattergl": [
                      {
                        "marker": {
                          "colorbar": {
                            "outlinewidth": 0,
                            "ticks": ""
                          }
                        },
                        "type": "scattergl"
                      }
                    ],
                    "scattermapbox": [
                      {
                        "marker": {
                          "colorbar": {
                            "outlinewidth": 0,
                            "ticks": ""
                          }
                        },
                        "type": "scattermapbox"
                      }
                    ],
                    "scatterpolar": [
                      {
                        "marker": {
                          "colorbar": {
                            "outlinewidth": 0,
                            "ticks": ""
                          }
                        },
                        "type": "scatterpolar"
                      }
                    ],
                    "scatterpolargl": [
                      {
                        "marker": {
                          "colorbar": {
                            "outlinewidth": 0,
                            "ticks": ""
                          }
                        },
                        "type": "scatterpolargl"
                      }
                    ],
                    "scatterternary": [
                      {
                        "marker": {
                          "colorbar": {
                            "outlinewidth": 0,
                            "ticks": ""
                          }
                        },
                        "type": "scatterternary"
                      }
                    ],
                    "surface": [
                      {
                        "colorbar": {
                          "outlinewidth": 0,
                          "ticks": ""
                        },
                        "colorscale": [
                          [
                            0,
                            "#0d0887"
                          ],
                          [
                            0.1111111111111111,
                            "#46039f"
                          ],
                          [
                            0.2222222222222222,
                            "#7201a8"
                          ],
                          [
                            0.3333333333333333,
                            "#9c179e"
                          ],
                          [
                            0.4444444444444444,
                            "#bd3786"
                          ],
                          [
                            0.5555555555555556,
                            "#d8576b"
                          ],
                          [
                            0.6666666666666666,
                            "#ed7953"
                          ],
                          [
                            0.7777777777777778,
                            "#fb9f3a"
                          ],
                          [
                            0.8888888888888888,
                            "#fdca26"
                          ],
                          [
                            1,
                            "#f0f921"
                          ]
                        ],
                        "type": "surface"
                      }
                    ],
                    "table": [
                      {
                        "cells": {
                          "fill": {
                            "color": "#EBF0F8"
                          },
                          "line": {
                            "color": "white"
                          }
                        },
                        "header": {
                          "fill": {
                            "color": "#C8D4E3"
                          },
                          "line": {
                            "color": "white"
                          }
                        },
                        "type": "table"
                      }
                    ]
                  },
                  "layout": {
                    "annotationdefaults": {
                      "arrowcolor": "#2a3f5f",
                      "arrowhead": 0,
                      "arrowwidth": 1
                    },
                    "autotypenumbers": "strict",
                    "coloraxis": {
                      "colorbar": {
                        "outlinewidth": 0,
                        "ticks": ""
                      }
                    },
                    "colorscale": {
                      "diverging": [
                        [
                          0,
                          "#8e0152"
                        ],
                        [
                          0.1,
                          "#c51b7d"
                        ],
                        [
                          0.2,
                          "#de77ae"
                        ],
                        [
                          0.3,
                          "#f1b6da"
                        ],
                        [
                          0.4,
                          "#fde0ef"
                        ],
                        [
                          0.5,
                          "#f7f7f7"
                        ],
                        [
                          0.6,
                          "#e6f5d0"
                        ],
                        [
                          0.7,
                          "#b8e186"
                        ],
                        [
                          0.8,
                          "#7fbc41"
                        ],
                        [
                          0.9,
                          "#4d9221"
                        ],
                        [
                          1,
                          "#276419"
                        ]
                      ],
                      "sequential": [
                        [
                          0,
                          "#0d0887"
                        ],
                        [
                          0.1111111111111111,
                          "#46039f"
                        ],
                        [
                          0.2222222222222222,
                          "#7201a8"
                        ],
                        [
                          0.3333333333333333,
                          "#9c179e"
                        ],
                        [
                          0.4444444444444444,
                          "#bd3786"
                        ],
                        [
                          0.5555555555555556,
                          "#d8576b"
                        ],
                        [
                          0.6666666666666666,
                          "#ed7953"
                        ],
                        [
                          0.7777777777777778,
                          "#fb9f3a"
                        ],
                        [
                          0.8888888888888888,
                          "#fdca26"
                        ],
                        [
                          1,
                          "#f0f921"
                        ]
                      ],
                      "sequentialminus": [
                        [
                          0,
                          "#0d0887"
                        ],
                        [
                          0.1111111111111111,
                          "#46039f"
                        ],
                        [
                          0.2222222222222222,
                          "#7201a8"
                        ],
                        [
                          0.3333333333333333,
                          "#9c179e"
                        ],
                        [
                          0.4444444444444444,
                          "#bd3786"
                        ],
                        [
                          0.5555555555555556,
                          "#d8576b"
                        ],
                        [
                          0.6666666666666666,
                          "#ed7953"
                        ],
                        [
                          0.7777777777777778,
                          "#fb9f3a"
                        ],
                        [
                          0.8888888888888888,
                          "#fdca26"
                        ],
                        [
                          1,
                          "#f0f921"
                        ]
                      ]
                    },
                    "colorway": [
                      "#636efa",
                      "#EF553B",
                      "#00cc96",
                      "#ab63fa",
                      "#FFA15A",
                      "#19d3f3",
                      "#FF6692",
                      "#B6E880",
                      "#FF97FF",
                      "#FECB52"
                    ],
                    "font": {
                      "color": "#2a3f5f"
                    },
                    "geo": {
                      "bgcolor": "white",
                      "lakecolor": "white",
                      "landcolor": "#E5ECF6",
                      "showlakes": true,
                      "showland": true,
                      "subunitcolor": "white"
                    },
                    "hoverlabel": {
                      "align": "left"
                    },
                    "hovermode": "closest",
                    "mapbox": {
                      "style": "light"
                    },
                    "paper_bgcolor": "white",
                    "plot_bgcolor": "#E5ECF6",
                    "polar": {
                      "angularaxis": {
                        "gridcolor": "white",
                        "linecolor": "white",
                        "ticks": ""
                      },
                      "bgcolor": "#E5ECF6",
                      "radialaxis": {
                        "gridcolor": "white",
                        "linecolor": "white",
                        "ticks": ""
                      }
                    },
                    "scene": {
                      "xaxis": {
                        "backgroundcolor": "#E5ECF6",
                        "gridcolor": "white",
                        "gridwidth": 2,
                        "linecolor": "white",
                        "showbackground": true,
                        "ticks": "",
                        "zerolinecolor": "white"
                      },
                      "yaxis": {
                        "backgroundcolor": "#E5ECF6",
                        "gridcolor": "white",
                        "gridwidth": 2,
                        "linecolor": "white",
                        "showbackground": true,
                        "ticks": "",
                        "zerolinecolor": "white"
                      },
                      "zaxis": {
                        "backgroundcolor": "#E5ECF6",
                        "gridcolor": "white",
                        "gridwidth": 2,
                        "linecolor": "white",
                        "showbackground": true,
                        "ticks": "",
                        "zerolinecolor": "white"
                      }
                    },
                    "shapedefaults": {
                      "line": {
                        "color": "#2a3f5f"
                      }
                    },
                    "ternary": {
                      "aaxis": {
                        "gridcolor": "white",
                        "linecolor": "white",
                        "ticks": ""
                      },
                      "baxis": {
                        "gridcolor": "white",
                        "linecolor": "white",
                        "ticks": ""
                      },
                      "bgcolor": "#E5ECF6",
                      "caxis": {
                        "gridcolor": "white",
                        "linecolor": "white",
                        "ticks": ""
                      }
                    },
                    "title": {
                      "x": 0.05
                    },
                    "xaxis": {
                      "automargin": true,
                      "gridcolor": "white",
                      "linecolor": "white",
                      "ticks": "",
                      "title": {
                        "standoff": 15
                      },
                      "zerolinecolor": "white",
                      "zerolinewidth": 2
                    },
                    "yaxis": {
                      "automargin": true,
                      "gridcolor": "white",
                      "linecolor": "white",
                      "ticks": "",
                      "title": {
                        "standoff": 15
                      },
                      "zerolinecolor": "white",
                      "zerolinewidth": 2
                    }
                  }
                },
                "title": {
                  "text": "LM coefficients importance"
                },
                "xaxis": {
                  "title": {
                    "text": "Coeficientes"
                  }
                },
                "yaxis": {
                  "title": {
                    "text": "Variables"
                  }
                }
              }
            }
          },
          "metadata": {},
          "output_type": "display_data"
        },
        {
          "name": "stdout",
          "output_type": "stream",
          "text": [
            "[0.01465326 0.01424476 0.01485577 0.01486679 0.51776757 0.04830347\n",
            " 0.04465853 0.0258533  0.02843805 0.12832974 0.07508797 0.07294078]\n"
          ]
        },
        {
          "data": {
            "application/vnd.plotly.v1+json": {
              "config": {
                "plotlyServerURL": "https://plot.ly"
              },
              "data": [
                {
                  "name": "Coeficientes",
                  "orientation": "h",
                  "type": "bar",
                  "x": [
                    0.014653262924002068,
                    0.01424476351491628,
                    0.014855773437263485,
                    0.014866788035932598,
                    0.5177675681904177,
                    0.048303468866195236,
                    0.04465852663400185,
                    0.0258533025388804,
                    0.02843805292690992,
                    0.12832973890468274,
                    0.07508797272144256,
                    0.07294078130535506
                  ],
                  "y": [
                    "Unnamed: 0.3",
                    "Unnamed: 0.2",
                    "Unnamed: 0.1",
                    "Unnamed: 0",
                    "MedInc",
                    "HouseAge",
                    "AveRooms",
                    "AveBedrms",
                    "Population",
                    "AveOccup",
                    "Latitude",
                    "Longitude"
                  ]
                }
              ],
              "layout": {
                "template": {
                  "data": {
                    "bar": [
                      {
                        "error_x": {
                          "color": "#2a3f5f"
                        },
                        "error_y": {
                          "color": "#2a3f5f"
                        },
                        "marker": {
                          "line": {
                            "color": "#E5ECF6",
                            "width": 0.5
                          },
                          "pattern": {
                            "fillmode": "overlay",
                            "size": 10,
                            "solidity": 0.2
                          }
                        },
                        "type": "bar"
                      }
                    ],
                    "barpolar": [
                      {
                        "marker": {
                          "line": {
                            "color": "#E5ECF6",
                            "width": 0.5
                          },
                          "pattern": {
                            "fillmode": "overlay",
                            "size": 10,
                            "solidity": 0.2
                          }
                        },
                        "type": "barpolar"
                      }
                    ],
                    "carpet": [
                      {
                        "aaxis": {
                          "endlinecolor": "#2a3f5f",
                          "gridcolor": "white",
                          "linecolor": "white",
                          "minorgridcolor": "white",
                          "startlinecolor": "#2a3f5f"
                        },
                        "baxis": {
                          "endlinecolor": "#2a3f5f",
                          "gridcolor": "white",
                          "linecolor": "white",
                          "minorgridcolor": "white",
                          "startlinecolor": "#2a3f5f"
                        },
                        "type": "carpet"
                      }
                    ],
                    "choropleth": [
                      {
                        "colorbar": {
                          "outlinewidth": 0,
                          "ticks": ""
                        },
                        "type": "choropleth"
                      }
                    ],
                    "contour": [
                      {
                        "colorbar": {
                          "outlinewidth": 0,
                          "ticks": ""
                        },
                        "colorscale": [
                          [
                            0,
                            "#0d0887"
                          ],
                          [
                            0.1111111111111111,
                            "#46039f"
                          ],
                          [
                            0.2222222222222222,
                            "#7201a8"
                          ],
                          [
                            0.3333333333333333,
                            "#9c179e"
                          ],
                          [
                            0.4444444444444444,
                            "#bd3786"
                          ],
                          [
                            0.5555555555555556,
                            "#d8576b"
                          ],
                          [
                            0.6666666666666666,
                            "#ed7953"
                          ],
                          [
                            0.7777777777777778,
                            "#fb9f3a"
                          ],
                          [
                            0.8888888888888888,
                            "#fdca26"
                          ],
                          [
                            1,
                            "#f0f921"
                          ]
                        ],
                        "type": "contour"
                      }
                    ],
                    "contourcarpet": [
                      {
                        "colorbar": {
                          "outlinewidth": 0,
                          "ticks": ""
                        },
                        "type": "contourcarpet"
                      }
                    ],
                    "heatmap": [
                      {
                        "colorbar": {
                          "outlinewidth": 0,
                          "ticks": ""
                        },
                        "colorscale": [
                          [
                            0,
                            "#0d0887"
                          ],
                          [
                            0.1111111111111111,
                            "#46039f"
                          ],
                          [
                            0.2222222222222222,
                            "#7201a8"
                          ],
                          [
                            0.3333333333333333,
                            "#9c179e"
                          ],
                          [
                            0.4444444444444444,
                            "#bd3786"
                          ],
                          [
                            0.5555555555555556,
                            "#d8576b"
                          ],
                          [
                            0.6666666666666666,
                            "#ed7953"
                          ],
                          [
                            0.7777777777777778,
                            "#fb9f3a"
                          ],
                          [
                            0.8888888888888888,
                            "#fdca26"
                          ],
                          [
                            1,
                            "#f0f921"
                          ]
                        ],
                        "type": "heatmap"
                      }
                    ],
                    "heatmapgl": [
                      {
                        "colorbar": {
                          "outlinewidth": 0,
                          "ticks": ""
                        },
                        "colorscale": [
                          [
                            0,
                            "#0d0887"
                          ],
                          [
                            0.1111111111111111,
                            "#46039f"
                          ],
                          [
                            0.2222222222222222,
                            "#7201a8"
                          ],
                          [
                            0.3333333333333333,
                            "#9c179e"
                          ],
                          [
                            0.4444444444444444,
                            "#bd3786"
                          ],
                          [
                            0.5555555555555556,
                            "#d8576b"
                          ],
                          [
                            0.6666666666666666,
                            "#ed7953"
                          ],
                          [
                            0.7777777777777778,
                            "#fb9f3a"
                          ],
                          [
                            0.8888888888888888,
                            "#fdca26"
                          ],
                          [
                            1,
                            "#f0f921"
                          ]
                        ],
                        "type": "heatmapgl"
                      }
                    ],
                    "histogram": [
                      {
                        "marker": {
                          "pattern": {
                            "fillmode": "overlay",
                            "size": 10,
                            "solidity": 0.2
                          }
                        },
                        "type": "histogram"
                      }
                    ],
                    "histogram2d": [
                      {
                        "colorbar": {
                          "outlinewidth": 0,
                          "ticks": ""
                        },
                        "colorscale": [
                          [
                            0,
                            "#0d0887"
                          ],
                          [
                            0.1111111111111111,
                            "#46039f"
                          ],
                          [
                            0.2222222222222222,
                            "#7201a8"
                          ],
                          [
                            0.3333333333333333,
                            "#9c179e"
                          ],
                          [
                            0.4444444444444444,
                            "#bd3786"
                          ],
                          [
                            0.5555555555555556,
                            "#d8576b"
                          ],
                          [
                            0.6666666666666666,
                            "#ed7953"
                          ],
                          [
                            0.7777777777777778,
                            "#fb9f3a"
                          ],
                          [
                            0.8888888888888888,
                            "#fdca26"
                          ],
                          [
                            1,
                            "#f0f921"
                          ]
                        ],
                        "type": "histogram2d"
                      }
                    ],
                    "histogram2dcontour": [
                      {
                        "colorbar": {
                          "outlinewidth": 0,
                          "ticks": ""
                        },
                        "colorscale": [
                          [
                            0,
                            "#0d0887"
                          ],
                          [
                            0.1111111111111111,
                            "#46039f"
                          ],
                          [
                            0.2222222222222222,
                            "#7201a8"
                          ],
                          [
                            0.3333333333333333,
                            "#9c179e"
                          ],
                          [
                            0.4444444444444444,
                            "#bd3786"
                          ],
                          [
                            0.5555555555555556,
                            "#d8576b"
                          ],
                          [
                            0.6666666666666666,
                            "#ed7953"
                          ],
                          [
                            0.7777777777777778,
                            "#fb9f3a"
                          ],
                          [
                            0.8888888888888888,
                            "#fdca26"
                          ],
                          [
                            1,
                            "#f0f921"
                          ]
                        ],
                        "type": "histogram2dcontour"
                      }
                    ],
                    "mesh3d": [
                      {
                        "colorbar": {
                          "outlinewidth": 0,
                          "ticks": ""
                        },
                        "type": "mesh3d"
                      }
                    ],
                    "parcoords": [
                      {
                        "line": {
                          "colorbar": {
                            "outlinewidth": 0,
                            "ticks": ""
                          }
                        },
                        "type": "parcoords"
                      }
                    ],
                    "pie": [
                      {
                        "automargin": true,
                        "type": "pie"
                      }
                    ],
                    "scatter": [
                      {
                        "fillpattern": {
                          "fillmode": "overlay",
                          "size": 10,
                          "solidity": 0.2
                        },
                        "type": "scatter"
                      }
                    ],
                    "scatter3d": [
                      {
                        "line": {
                          "colorbar": {
                            "outlinewidth": 0,
                            "ticks": ""
                          }
                        },
                        "marker": {
                          "colorbar": {
                            "outlinewidth": 0,
                            "ticks": ""
                          }
                        },
                        "type": "scatter3d"
                      }
                    ],
                    "scattercarpet": [
                      {
                        "marker": {
                          "colorbar": {
                            "outlinewidth": 0,
                            "ticks": ""
                          }
                        },
                        "type": "scattercarpet"
                      }
                    ],
                    "scattergeo": [
                      {
                        "marker": {
                          "colorbar": {
                            "outlinewidth": 0,
                            "ticks": ""
                          }
                        },
                        "type": "scattergeo"
                      }
                    ],
                    "scattergl": [
                      {
                        "marker": {
                          "colorbar": {
                            "outlinewidth": 0,
                            "ticks": ""
                          }
                        },
                        "type": "scattergl"
                      }
                    ],
                    "scattermapbox": [
                      {
                        "marker": {
                          "colorbar": {
                            "outlinewidth": 0,
                            "ticks": ""
                          }
                        },
                        "type": "scattermapbox"
                      }
                    ],
                    "scatterpolar": [
                      {
                        "marker": {
                          "colorbar": {
                            "outlinewidth": 0,
                            "ticks": ""
                          }
                        },
                        "type": "scatterpolar"
                      }
                    ],
                    "scatterpolargl": [
                      {
                        "marker": {
                          "colorbar": {
                            "outlinewidth": 0,
                            "ticks": ""
                          }
                        },
                        "type": "scatterpolargl"
                      }
                    ],
                    "scatterternary": [
                      {
                        "marker": {
                          "colorbar": {
                            "outlinewidth": 0,
                            "ticks": ""
                          }
                        },
                        "type": "scatterternary"
                      }
                    ],
                    "surface": [
                      {
                        "colorbar": {
                          "outlinewidth": 0,
                          "ticks": ""
                        },
                        "colorscale": [
                          [
                            0,
                            "#0d0887"
                          ],
                          [
                            0.1111111111111111,
                            "#46039f"
                          ],
                          [
                            0.2222222222222222,
                            "#7201a8"
                          ],
                          [
                            0.3333333333333333,
                            "#9c179e"
                          ],
                          [
                            0.4444444444444444,
                            "#bd3786"
                          ],
                          [
                            0.5555555555555556,
                            "#d8576b"
                          ],
                          [
                            0.6666666666666666,
                            "#ed7953"
                          ],
                          [
                            0.7777777777777778,
                            "#fb9f3a"
                          ],
                          [
                            0.8888888888888888,
                            "#fdca26"
                          ],
                          [
                            1,
                            "#f0f921"
                          ]
                        ],
                        "type": "surface"
                      }
                    ],
                    "table": [
                      {
                        "cells": {
                          "fill": {
                            "color": "#EBF0F8"
                          },
                          "line": {
                            "color": "white"
                          }
                        },
                        "header": {
                          "fill": {
                            "color": "#C8D4E3"
                          },
                          "line": {
                            "color": "white"
                          }
                        },
                        "type": "table"
                      }
                    ]
                  },
                  "layout": {
                    "annotationdefaults": {
                      "arrowcolor": "#2a3f5f",
                      "arrowhead": 0,
                      "arrowwidth": 1
                    },
                    "autotypenumbers": "strict",
                    "coloraxis": {
                      "colorbar": {
                        "outlinewidth": 0,
                        "ticks": ""
                      }
                    },
                    "colorscale": {
                      "diverging": [
                        [
                          0,
                          "#8e0152"
                        ],
                        [
                          0.1,
                          "#c51b7d"
                        ],
                        [
                          0.2,
                          "#de77ae"
                        ],
                        [
                          0.3,
                          "#f1b6da"
                        ],
                        [
                          0.4,
                          "#fde0ef"
                        ],
                        [
                          0.5,
                          "#f7f7f7"
                        ],
                        [
                          0.6,
                          "#e6f5d0"
                        ],
                        [
                          0.7,
                          "#b8e186"
                        ],
                        [
                          0.8,
                          "#7fbc41"
                        ],
                        [
                          0.9,
                          "#4d9221"
                        ],
                        [
                          1,
                          "#276419"
                        ]
                      ],
                      "sequential": [
                        [
                          0,
                          "#0d0887"
                        ],
                        [
                          0.1111111111111111,
                          "#46039f"
                        ],
                        [
                          0.2222222222222222,
                          "#7201a8"
                        ],
                        [
                          0.3333333333333333,
                          "#9c179e"
                        ],
                        [
                          0.4444444444444444,
                          "#bd3786"
                        ],
                        [
                          0.5555555555555556,
                          "#d8576b"
                        ],
                        [
                          0.6666666666666666,
                          "#ed7953"
                        ],
                        [
                          0.7777777777777778,
                          "#fb9f3a"
                        ],
                        [
                          0.8888888888888888,
                          "#fdca26"
                        ],
                        [
                          1,
                          "#f0f921"
                        ]
                      ],
                      "sequentialminus": [
                        [
                          0,
                          "#0d0887"
                        ],
                        [
                          0.1111111111111111,
                          "#46039f"
                        ],
                        [
                          0.2222222222222222,
                          "#7201a8"
                        ],
                        [
                          0.3333333333333333,
                          "#9c179e"
                        ],
                        [
                          0.4444444444444444,
                          "#bd3786"
                        ],
                        [
                          0.5555555555555556,
                          "#d8576b"
                        ],
                        [
                          0.6666666666666666,
                          "#ed7953"
                        ],
                        [
                          0.7777777777777778,
                          "#fb9f3a"
                        ],
                        [
                          0.8888888888888888,
                          "#fdca26"
                        ],
                        [
                          1,
                          "#f0f921"
                        ]
                      ]
                    },
                    "colorway": [
                      "#636efa",
                      "#EF553B",
                      "#00cc96",
                      "#ab63fa",
                      "#FFA15A",
                      "#19d3f3",
                      "#FF6692",
                      "#B6E880",
                      "#FF97FF",
                      "#FECB52"
                    ],
                    "font": {
                      "color": "#2a3f5f"
                    },
                    "geo": {
                      "bgcolor": "white",
                      "lakecolor": "white",
                      "landcolor": "#E5ECF6",
                      "showlakes": true,
                      "showland": true,
                      "subunitcolor": "white"
                    },
                    "hoverlabel": {
                      "align": "left"
                    },
                    "hovermode": "closest",
                    "mapbox": {
                      "style": "light"
                    },
                    "paper_bgcolor": "white",
                    "plot_bgcolor": "#E5ECF6",
                    "polar": {
                      "angularaxis": {
                        "gridcolor": "white",
                        "linecolor": "white",
                        "ticks": ""
                      },
                      "bgcolor": "#E5ECF6",
                      "radialaxis": {
                        "gridcolor": "white",
                        "linecolor": "white",
                        "ticks": ""
                      }
                    },
                    "scene": {
                      "xaxis": {
                        "backgroundcolor": "#E5ECF6",
                        "gridcolor": "white",
                        "gridwidth": 2,
                        "linecolor": "white",
                        "showbackground": true,
                        "ticks": "",
                        "zerolinecolor": "white"
                      },
                      "yaxis": {
                        "backgroundcolor": "#E5ECF6",
                        "gridcolor": "white",
                        "gridwidth": 2,
                        "linecolor": "white",
                        "showbackground": true,
                        "ticks": "",
                        "zerolinecolor": "white"
                      },
                      "zaxis": {
                        "backgroundcolor": "#E5ECF6",
                        "gridcolor": "white",
                        "gridwidth": 2,
                        "linecolor": "white",
                        "showbackground": true,
                        "ticks": "",
                        "zerolinecolor": "white"
                      }
                    },
                    "shapedefaults": {
                      "line": {
                        "color": "#2a3f5f"
                      }
                    },
                    "ternary": {
                      "aaxis": {
                        "gridcolor": "white",
                        "linecolor": "white",
                        "ticks": ""
                      },
                      "baxis": {
                        "gridcolor": "white",
                        "linecolor": "white",
                        "ticks": ""
                      },
                      "bgcolor": "#E5ECF6",
                      "caxis": {
                        "gridcolor": "white",
                        "linecolor": "white",
                        "ticks": ""
                      }
                    },
                    "title": {
                      "x": 0.05
                    },
                    "xaxis": {
                      "automargin": true,
                      "gridcolor": "white",
                      "linecolor": "white",
                      "ticks": "",
                      "title": {
                        "standoff": 15
                      },
                      "zerolinecolor": "white",
                      "zerolinewidth": 2
                    },
                    "yaxis": {
                      "automargin": true,
                      "gridcolor": "white",
                      "linecolor": "white",
                      "ticks": "",
                      "title": {
                        "standoff": 15
                      },
                      "zerolinecolor": "white",
                      "zerolinewidth": 2
                    }
                  }
                },
                "title": {
                  "text": "RF coefficients importance"
                },
                "xaxis": {
                  "title": {
                    "text": "Coeficientes"
                  }
                },
                "yaxis": {
                  "title": {
                    "text": "Variables"
                  }
                }
              }
            }
          },
          "metadata": {},
          "output_type": "display_data"
        }
      ],
      "source": [
        "lmc = lm.named_steps['lm'].coef_\n",
        "rfc = rf.named_steps['rf'].feature_importances_\n",
        "\n",
        "print(lmc)\n",
        "\n",
        "# Plot for LM\n",
        "objects = X.columns\n",
        "y_pos = np.arange(len(objects))\n",
        "coefficients = lmc\n",
        "\n",
        "fig = go.Figure()\n",
        "\n",
        "# Agrego las trazas necesarias\n",
        "fig.add_trace(\n",
        "    go.Bar(\n",
        "        x = coefficients,\n",
        "        y = objects,\n",
        "        name = \"Coeficientes\",\n",
        "        orientation='h'\n",
        "    )\n",
        ")\n",
        "\n",
        "# Actualizo el diseño\n",
        "fig.update_layout(title = \"LM coefficients importance\", xaxis_title = \"Coeficientes\", yaxis_title = \"Variables\")\n",
        "\n",
        "# Muestro la figura\n",
        "fig.show()\n",
        "\n",
        "\n",
        "print(rfc)\n",
        "\n",
        "# Plot for RF\n",
        "objects = X.columns\n",
        "y_pos = np.arange(len(objects))\n",
        "coefficients = rfc\n",
        "\n",
        "fig = go.Figure()\n",
        "\n",
        "# Agrego las trazas necesarias\n",
        "fig.add_trace(\n",
        "    go.Bar(\n",
        "        x = coefficients,\n",
        "        y = objects,\n",
        "        name = \"Coeficientes\",\n",
        "        orientation='h'\n",
        "    )\n",
        ")\n",
        "\n",
        "# Actualizo el diseño\n",
        "fig.update_layout(title = \"RF coefficients importance\", xaxis_title = \"Coeficientes\", yaxis_title = \"Variables\")\n",
        "\n",
        "# Muestro la figura\n",
        "fig.show()\n"
      ]
    },
    {
      "cell_type": "markdown",
      "metadata": {
        "id": "2X8yWO3J3XpN"
      },
      "source": [
        "e) Decide a través de las métricas que consideres oportunas, cuál de los dos modelos es mejor, por qué y explica el proceso que has realizado para responder en los puntos anteriores. **(1.25 puntos)**"
      ]
    },
    {
      "cell_type": "code",
      "execution_count": 10,
      "metadata": {
        "colab": {
          "base_uri": "https://localhost:8080/"
        },
        "id": "KP61JNDL3ni0",
        "outputId": "1fb1b38d-5992-4869-f5fc-4ee586473e48"
      },
      "outputs": [
        {
          "name": "stdout",
          "output_type": "stream",
          "text": [
            "Mean squared error: 0.52"
          ]
        },
        {
          "name": "stdout",
          "output_type": "stream",
          "text": [
            "\n",
            "Mean absolute error: 0.53\n",
            "Coefficient of determination: 0.61\n",
            "Mean squared error: 0.24\n",
            "Mean absolute error: 0.31\n",
            "Coefficient of determination: 0.82\n"
          ]
        }
      ],
      "source": [
        "y_pred = lm.predict(X_test)\n",
        "\n",
        "print(\"Mean squared error: %.2f\" % mean_squared_error(y_test, y_pred))\n",
        "print(\"Mean absolute error: %.2f\" % mean_absolute_error(y_test, y_pred))\n",
        "print(\"Coefficient of determination: %.2f\" % r2_score(y_test, y_pred))\n",
        "\n",
        "y_pred = rf.predict(X_test)\n",
        "\n",
        "print(\"Mean squared error: %.2f\" % mean_squared_error(y_test, y_pred))\n",
        "print(\"Mean absolute error: %.2f\" % mean_absolute_error(y_test, y_pred))\n",
        "print(\"Coefficient of determination: %.2f\" % r2_score(y_test, y_pred))"
      ]
    },
    {
      "cell_type": "markdown",
      "metadata": {
        "id": "jpk2TdDS4Tl6"
      },
      "source": [
        "*Consideremos* el dataset que contiene __The Most Streamed Spotify Songs 2023__ que se encuentra en el respositorio.\n",
        "\n",
        "Información de las variables:\n",
        "\n",
        "- track_name: Name of the song\n",
        "- artist(s)_name: Name of the artist(s) of the song\n",
        "- vartist_count: Number of artists contributing to the song\n",
        "- released_year: Year when the song was released\n",
        "- released_month: Month when the song was released\n",
        "- release_day: Day of the month when the song was released\n",
        "- in_spotify_playlists: Number of Spotify playlists the song is included in\n",
        "- in_spotify_charts: Presence and rank of the song on Spotify charts\n",
        "- streams: Total number of streams on Spotify\n",
        "- in_apple_playlists: Number of Apple Music playlists the song is included in\n",
        "- in_apple_charts: Presence and rank of the song on Apple Music charts\n",
        "- in_deezer_playlists: Number of Deezer playlists the song is included in\n",
        "- in_deezer_charts: Presence and rank of the song on Deezer charts\n",
        "- in_shazam_charts: Presence and rank of the song on Shazam charts\n",
        "- bpm: Beats per minute, a measure of song tempo\n",
        "- key: Key of the song\n",
        "- mode: Mode of the song (major or minor)\n",
        "- danceability_%: Percentage indicating how suitable the song is for dancing\n",
        "- valence_%: Positivity of the song's musical content\n",
        "- energy_%: Perceived energy level of the song\n",
        "- acousticness_%: Amount of acoustic sound in the song\n",
        "- instrumentalness_%: Amount of instrumental content in the song\n",
        "- liveness_%: Presence of live performance elements\n",
        "- speechiness_%: Amount of spoken words in the song\n",
        "\n",
        "Para las respuestas b, c, d, e, f y g es imperativo acompañarlas respuestas con una visualización.\n",
        "\n",
        "a) Lee el fichero en formato dataframe, aplica la función del ejercicio 2.b, elimina NAs y convierte a integer si fuera necesario. **(0.25 puntos)**\n",
        "\n",
        "b) ¿Cuántos artistas únicos hay? **(0.25 puntos)**\n",
        "\n",
        "c) ¿Cuál es la distribución de reproducciones? **(0.5 puntos)**\n",
        "\n",
        "d) ¿Existe una diferencia signitificativa en las reproducciones entre las canciones de un solo artista y las de más de uno? **(0.5 puntos)**\n",
        "\n",
        "e) ¿Cuáles son las propiedades de una canción que mejor correlan con el número de reproducciones de una canción? **(0.5 puntos)**\n",
        "\n",
        "f) ¿Cuáles son las variables que mejor predicen un hit? **(1 puntos)**\n",
        "\n",
        "*Nota: Crea una variable binaria (Hit/No Hit) en base a 3.c, crea una regresión logística y visualiza sus coeficientes.*\n",
        "\n",
        "e) Agrupa los 4 gráficos realizados en uno solo y haz una recomendación a un sello discográfico para producir un nuevo hit. **(1 puntos)**\n"
      ]
    },
    {
      "cell_type": "markdown",
      "metadata": {
        "id": "BzSxH3UU5wM8"
      },
      "source": [
        "a) Lee el fichero en formato dataframe, aplica la función del ejercicio 2.b, elimina NAs y convierte a integer si fuera necesario. **(0.25 puntos)**\n"
      ]
    },
    {
      "cell_type": "code",
      "execution_count": 11,
      "metadata": {
        "colab": {
          "base_uri": "https://localhost:8080/"
        },
        "id": "Uu-efIds50aV",
        "outputId": "b778fa32-719d-480a-f808-22622178c029"
      },
      "outputs": [
        {
          "name": "stdout",
          "output_type": "stream",
          "text": [
            "                            track_name    artist(s)_name  artist_count  \\\n",
            "0  Seven (feat. Latto) (Explicit Ver.)  Latto, Jung Kook             2   \n",
            "1                                 LALA       Myke Towers             1   \n",
            "2                              vampire    Olivia Rodrigo             1   \n",
            "3                         Cruel Summer      Taylor Swift             1   \n",
            "4                       WHERE SHE GOES         Bad Bunny             1   \n",
            "\n",
            "   released_year  released_month  released_day  in_spotify_playlists  \\\n",
            "0           2023               7            14                   553   \n",
            "1           2023               3            23                  1474   \n",
            "2           2023               6            30                  1397   \n",
            "3           2019               8            23                  7858   \n",
            "4           2023               5            18                  3133   \n",
            "\n",
            "   in_spotify_charts    streams  in_apple_playlists  ...  bpm key   mode  \\\n",
            "0                147  141381703                  43  ...  125   B  Major   \n",
            "1                 48  133716286                  48  ...   92  C#  Major   \n",
            "2                113  140003974                  94  ...  138   F  Major   \n",
            "3                100  800840817                 116  ...  170   A  Major   \n",
            "4                 50  303236322                  84  ...  144   A  Minor   \n",
            "\n",
            "  danceability_%  valence_% energy_% acousticness_%  instrumentalness_%  \\\n",
            "0             80         89       83             31                   0   \n",
            "1             71         61       74              7                   0   \n",
            "2             51         32       53             17                   0   \n",
            "3             55         58       72             11                   0   \n",
            "4             65         23       80             14                  63   \n",
            "\n",
            "   liveness_%  speechiness_%  \n",
            "0           8              4  \n",
            "1          10              4  \n",
            "2          31              6  \n",
            "3          11             15  \n",
            "4          11              6  \n",
            "\n",
            "[5 rows x 24 columns]\n",
            "(953, 24)\n",
            "track_name               0\n",
            "artist(s)_name           0\n",
            "artist_count             0\n",
            "released_year            0\n",
            "released_month           0\n",
            "released_day             0\n",
            "in_spotify_playlists     0\n",
            "in_spotify_charts        0\n",
            "streams                  0\n",
            "in_apple_playlists       0\n",
            "in_apple_charts          0\n",
            "in_deezer_playlists      0\n",
            "in_deezer_charts         0\n",
            "in_shazam_charts        50\n",
            "bpm                      0\n",
            "key                     95\n",
            "mode                     0\n",
            "danceability_%           0\n",
            "valence_%                0\n",
            "energy_%                 0\n",
            "acousticness_%           0\n",
            "instrumentalness_%       0\n",
            "liveness_%               0\n",
            "speechiness_%            0\n",
            "dtype: int64\n",
            "track_name              object\n",
            "artist(s)_name          object\n",
            "artist_count             int64\n",
            "released_year            int64\n",
            "released_month           int64\n",
            "released_day             int64\n",
            "in_spotify_playlists     int64\n",
            "in_spotify_charts        int64\n",
            "streams                 object\n",
            "in_apple_playlists       int64\n",
            "in_apple_charts          int64\n",
            "in_deezer_playlists     object\n",
            "in_deezer_charts         int64\n",
            "in_shazam_charts        object\n",
            "bpm                      int64\n",
            "key                     object\n",
            "mode                    object\n",
            "danceability_%           int64\n",
            "valence_%                int64\n",
            "energy_%                 int64\n",
            "acousticness_%           int64\n",
            "instrumentalness_%       int64\n",
            "liveness_%               int64\n",
            "speechiness_%            int64\n",
            "dtype: object\n",
            "       track_name artist(s)_name  artist_count  released_year  released_month  \\\n",
            "count         953            953    953.000000     953.000000      953.000000   \n",
            "unique        943            645           NaN            NaN             NaN   \n",
            "top      Daylight   Taylor Swift           NaN            NaN             NaN   \n",
            "freq            2             34           NaN            NaN             NaN   \n",
            "mean          NaN            NaN      1.556139    2018.238195        6.033578   \n",
            "std           NaN            NaN      0.893044      11.116218        3.566435   \n",
            "min           NaN            NaN      1.000000    1930.000000        1.000000   \n",
            "25%           NaN            NaN      1.000000    2020.000000        3.000000   \n",
            "50%           NaN            NaN      1.000000    2022.000000        6.000000   \n",
            "75%           NaN            NaN      2.000000    2022.000000        9.000000   \n",
            "max           NaN            NaN      8.000000    2023.000000       12.000000   \n",
            "\n",
            "        released_day  in_spotify_playlists  in_spotify_charts    streams  \\\n",
            "count     953.000000            953.000000         953.000000        953   \n",
            "unique           NaN                   NaN                NaN        949   \n",
            "top              NaN                   NaN                NaN  723894473   \n",
            "freq             NaN                   NaN                NaN          2   \n",
            "mean       13.930745           5200.124869          12.009444        NaN   \n",
            "std         9.201949           7897.608990          19.575992        NaN   \n",
            "min         1.000000             31.000000           0.000000        NaN   \n",
            "25%         6.000000            875.000000           0.000000        NaN   \n",
            "50%        13.000000           2224.000000           3.000000        NaN   \n",
            "75%        22.000000           5542.000000          16.000000        NaN   \n",
            "max        31.000000          52898.000000         147.000000        NaN   \n",
            "\n",
            "        in_apple_playlists  ...         bpm  key   mode danceability_%  \\\n",
            "count           953.000000  ...  953.000000  858    953      953.00000   \n",
            "unique                 NaN  ...         NaN   11      2            NaN   \n",
            "top                    NaN  ...         NaN   C#  Major            NaN   \n",
            "freq                   NaN  ...         NaN  120    550            NaN   \n",
            "mean             67.812172  ...  122.540399  NaN    NaN       66.96957   \n",
            "std              86.441493  ...   28.057802  NaN    NaN       14.63061   \n",
            "min               0.000000  ...   65.000000  NaN    NaN       23.00000   \n",
            "25%              13.000000  ...  100.000000  NaN    NaN       57.00000   \n",
            "50%              34.000000  ...  121.000000  NaN    NaN       69.00000   \n",
            "75%              88.000000  ...  140.000000  NaN    NaN       78.00000   \n",
            "max             672.000000  ...  206.000000  NaN    NaN       96.00000   \n",
            "\n",
            "         valence_%    energy_% acousticness_%  instrumentalness_%  liveness_%  \\\n",
            "count   953.000000  953.000000     953.000000          953.000000  953.000000   \n",
            "unique         NaN         NaN            NaN                 NaN         NaN   \n",
            "top            NaN         NaN            NaN                 NaN         NaN   \n",
            "freq           NaN         NaN            NaN                 NaN         NaN   \n",
            "mean     51.431270   64.279119      27.057712            1.581322   18.213012   \n",
            "std      23.480632   16.550526      25.996077            8.409800   13.711223   \n",
            "min       4.000000    9.000000       0.000000            0.000000    3.000000   \n",
            "25%      32.000000   53.000000       6.000000            0.000000   10.000000   \n",
            "50%      51.000000   66.000000      18.000000            0.000000   12.000000   \n",
            "75%      70.000000   77.000000      43.000000            0.000000   24.000000   \n",
            "max      97.000000   97.000000      97.000000           91.000000   97.000000   \n",
            "\n",
            "        speechiness_%  \n",
            "count      953.000000  \n",
            "unique            NaN  \n",
            "top               NaN  \n",
            "freq              NaN  \n",
            "mean        10.131165  \n",
            "std          9.912888  \n",
            "min          2.000000  \n",
            "25%          4.000000  \n",
            "50%          6.000000  \n",
            "75%         11.000000  \n",
            "max         64.000000  \n",
            "\n",
            "[11 rows x 24 columns]\n"
          ]
        }
      ],
      "source": [
        "df = pd.read_csv(\"spotify-2023.csv\", encoding='ISO-8859-1')\n",
        "print(df.head())\n",
        "basicStats(df)"
      ]
    },
    {
      "cell_type": "code",
      "execution_count": 12,
      "metadata": {
        "colab": {
          "base_uri": "https://localhost:8080/"
        },
        "id": "wmdYiCEO6hqE",
        "outputId": "d02d9c60-c0b3-4c73-d92b-2a4c370b8d53"
      },
      "outputs": [
        {
          "name": "stdout",
          "output_type": "stream",
          "text": [
            "(817, 24)\n",
            "track_name              0\n",
            "artist(s)_name          0\n",
            "artist_count            0\n",
            "released_year           0\n",
            "released_month          0\n",
            "released_day            0\n",
            "in_spotify_playlists    0\n",
            "in_spotify_charts       0\n",
            "streams                 1\n",
            "in_apple_playlists      0\n",
            "in_apple_charts         0\n",
            "in_deezer_playlists     0\n",
            "in_deezer_charts        0\n",
            "in_shazam_charts        0\n",
            "bpm                     0\n",
            "key                     0\n",
            "mode                    0\n",
            "danceability_%          0\n",
            "valence_%               0\n",
            "energy_%                0\n",
            "acousticness_%          0\n",
            "instrumentalness_%      0\n",
            "liveness_%              0\n",
            "speechiness_%           0\n",
            "dtype: int64\n",
            "track_name               object\n",
            "artist(s)_name           object\n",
            "artist_count              int64\n",
            "released_year             int64\n",
            "released_month            int64\n",
            "released_day              int64\n",
            "in_spotify_playlists      int64\n",
            "in_spotify_charts         int64\n",
            "streams                 float64\n",
            "in_apple_playlists        int64\n",
            "in_apple_charts           int64\n",
            "in_deezer_playlists      object\n",
            "in_deezer_charts          int64\n",
            "in_shazam_charts         object\n",
            "bpm                       int64\n",
            "key                      object\n",
            "mode                     object\n",
            "danceability_%            int64\n",
            "valence_%                 int64\n",
            "energy_%                  int64\n",
            "acousticness_%            int64\n",
            "instrumentalness_%        int64\n",
            "liveness_%                int64\n",
            "speechiness_%             int64\n",
            "dtype: object\n",
            "       track_name artist(s)_name  artist_count  released_year  released_month  \\\n",
            "count         817            817    817.000000     817.000000      817.000000   \n",
            "unique        811            571           NaN            NaN             NaN   \n",
            "top      Miss You   Taylor Swift           NaN            NaN             NaN   \n",
            "freq            2             29           NaN            NaN             NaN   \n",
            "mean          NaN            NaN      1.567931    2018.457772        6.018360   \n",
            "std           NaN            NaN      0.876211      10.829267        3.572554   \n",
            "min           NaN            NaN      1.000000    1930.000000        1.000000   \n",
            "25%           NaN            NaN      1.000000    2021.000000        3.000000   \n",
            "50%           NaN            NaN      1.000000    2022.000000        5.000000   \n",
            "75%           NaN            NaN      2.000000    2022.000000        9.000000   \n",
            "max           NaN            NaN      8.000000    2023.000000       12.000000   \n",
            "\n",
            "        released_day  in_spotify_playlists  in_spotify_charts       streams  \\\n",
            "count     817.000000            817.000000         817.000000  8.160000e+02   \n",
            "unique           NaN                   NaN                NaN           NaN   \n",
            "top              NaN                   NaN                NaN           NaN   \n",
            "freq             NaN                   NaN                NaN           NaN   \n",
            "mean       13.696450           4849.898409          11.722154  4.689858e+08   \n",
            "std         9.299663           7741.126455          18.617668  5.231267e+08   \n",
            "min         1.000000             31.000000           0.000000  2.762000e+03   \n",
            "25%         5.000000            829.000000           0.000000  1.342848e+08   \n",
            "50%        13.000000           2040.000000           3.000000  2.638368e+08   \n",
            "75%        22.000000           4890.000000          16.000000  6.011986e+08   \n",
            "max        31.000000          52898.000000         147.000000  3.562544e+09   \n",
            "\n",
            "        in_apple_playlists  ...         bpm  key   mode danceability_%  \\\n",
            "count           817.000000  ...  817.000000  817    817     817.000000   \n",
            "unique                 NaN  ...         NaN   11      2            NaN   \n",
            "top                    NaN  ...         NaN   C#  Major            NaN   \n",
            "freq                   NaN  ...         NaN  115    452            NaN   \n",
            "mean             60.161567  ...  122.565483  NaN    NaN      67.391677   \n",
            "std              74.923594  ...   28.174803  NaN    NaN      14.688458   \n",
            "min               0.000000  ...   65.000000  NaN    NaN      23.000000   \n",
            "25%              12.000000  ...   99.000000  NaN    NaN      57.000000   \n",
            "50%              32.000000  ...  120.000000  NaN    NaN      70.000000   \n",
            "75%              78.000000  ...  141.000000  NaN    NaN      79.000000   \n",
            "max             532.000000  ...  206.000000  NaN    NaN      96.000000   \n",
            "\n",
            "         valence_%    energy_% acousticness_%  instrumentalness_%  liveness_%  \\\n",
            "count   817.000000  817.000000     817.000000          817.000000  817.000000   \n",
            "unique         NaN         NaN            NaN                 NaN         NaN   \n",
            "top            NaN         NaN            NaN                 NaN         NaN   \n",
            "freq           NaN         NaN            NaN                 NaN         NaN   \n",
            "mean     51.201958   64.362301      26.309670            1.676867   18.168911   \n",
            "std      23.620978   16.107587      25.470972            8.767328   13.541996   \n",
            "min       4.000000   14.000000       0.000000            0.000000    3.000000   \n",
            "25%      32.000000   53.000000       5.000000            0.000000   10.000000   \n",
            "50%      51.000000   66.000000      17.000000            0.000000   12.000000   \n",
            "75%      70.000000   76.000000      41.000000            0.000000   24.000000   \n",
            "max      97.000000   97.000000      97.000000           91.000000   97.000000   \n",
            "\n",
            "        speechiness_%  \n",
            "count      817.000000  \n",
            "unique            NaN  \n",
            "top               NaN  \n",
            "freq              NaN  \n",
            "mean        10.526316  \n",
            "std         10.219987  \n",
            "min          2.000000  \n",
            "25%          4.000000  \n",
            "50%          6.000000  \n",
            "75%         12.000000  \n",
            "max         64.000000  \n",
            "\n",
            "[11 rows x 24 columns]\n"
          ]
        }
      ],
      "source": [
        "df = df.dropna()\n",
        "df['streams'] = pd.to_numeric(df['streams'], errors='coerce')\n",
        "basicStats(df)"
      ]
    },
    {
      "cell_type": "markdown",
      "metadata": {
        "id": "kQ-qdJuF7Fre"
      },
      "source": [
        "b) ¿Cuántos artistas únicos hay? **(0.25 puntos)**\n"
      ]
    },
    {
      "cell_type": "code",
      "execution_count": 13,
      "metadata": {
        "colab": {
          "base_uri": "https://localhost:8080/"
        },
        "id": "LuCVV59z7GUl",
        "outputId": "d10d5364-ed45-45da-8352-7d74621b3d62"
      },
      "outputs": [
        {
          "name": "stdout",
          "output_type": "stream",
          "text": [
            "{'grupo frontera', 'anderson .paak', '', 'nickoog clk', 'amitabha bhattacharya', 'carin leon', 'eric church', 'niki', 'gesaffelstein', 'troye sivan', 'pedro sampaio', \"finneas o'connell\", 'toian', 'twisted', 'mora', 'fireboy dml', 'psy', 'prezioso', 'dazy', 'bigbang', 'james arthur', 'matuï¿½ï¿½', 'michael bublï¿', 'wisin & yandel', 'miley cyrus', 'bellakath', 'gurinder gill', 'kodak black', 'jvke', 'halsey', 'chefin', 'wizkid', 'dove cameron', 'migrantes', 'onerepublic', 'jay rock', 'saweetie', 'dimelo flow', 'khalid', 'muni long', 'intense', 'yandel', 'ariana grande', '4*town (from disney and pixarï¿½ï¿½ï¿½s turning red)', 'willow', 'pailita', 'blxst', 'cardi b', 'maroon 5', 'dj 900', 'steve lacy', 'colin hay', 'lady gaga', 'fujii kaze', 'the anxiety', 'kumaar', 'fuerza regida', 'zion & lennox', 'sped up nightcore', 'ana castela', 'sza', 'sukriti kakar', 'nightcrawlers', 'blackbear', 'tyga', 'the chainsmokers', 'the ronettes', 'darlene love', 'cartel de santa', 'rihanna', 'gabry ponte', 'becky g', 'a$ap rocky', 'fmk', 'kordhell', 'shekhar ravjiani', 'semicenk', 'ayparia', 'the walters', 'john lennon', 'selena gomez', 'angela aguilar', 'sidhu moose wala', 'dr. dre', 'nicky youre', 'supernova ent', 'fred again..', 'shawn mendes', 'yung gravy', 'david kushner', 'pablito pesadilla', 'lf system', 'dennis', 'don toliver', 'lizzo', 'grayson vill', 'moliy', 'yuridia', 'yng lvcas', 'yeat', 'jin', 'styrx', 'ice spice', 'adele', 'eladio carrion', 'newjeans', 'mabel matiz', 'dj lk da escï¿½ï¿½cia', 'hozier', 'c. tangana', 'rosalï¿½', 'charli xcx', 'paloma faith', 'james hype', 'enhypen', 'mert demir', 'the goo goo dolls', 'fran c', 'demi lovato', 'taylour paige', 'bianca', 'mahalini', 'j balvin', 'dj khaled', 'polo g', 'dj gabriel do borel', 'mac demarco', 'roisee', 'kate bush', 'riar saab', 'duki', 'ray dalton', 'southstar', 'fifty fifty', 'ali sethi', 'conan gray', 'dj biel do furduncinho', 'pinkpantheress', 'dj win', 'bï¿½ï¿½jo', 'junior h', 'dua lipa', 'pr1isvx', 'mainstreet', 'nicki minaj', 'gustah', 'the harlem community choir', 'peso pluma', 'blessd', 'altamash faridi', 'dean lewis', 'chris rea', 'loreen', 'iu', 'tchakabum', 'nmixx', 'madonna', 'tomorrow x together', 'justin quiles', 'girl in red', 'cherish', 'panic! at the disco', 'plan b', 'dababy', 'blackpink', 'rich music', 'de la ghetto', 'nate dogg', 'kalush', \"shakin' stevens\", 'luï¿½ï¿½sa sonza', 'alejo', 'vishal dadlani', 'chase atlantic', 'maldy', 'lum!x', 'joel corry', 'tulus', 'anitta', 'bad bunny', 'mc menor hr', 'teto', 'jason derulo', 'arcane', 'mc xenon', 'the kid laroi', 'dalex', 'eminem', 'ke personajes', 'abhijay sharma', 'doechii', 'doja cat', 'coldplay', 'post malone', 'tems', 'mari fernandez', 'zendaya', 'la kelly', 'lenny tavï¿½ï¿½rez', 'pnau', 'luke combs', 'simone mendes', 'rauw alejandro', 'tainy', 'alicia keys', 'tyler', 'stephanie beatriz', 'jhayco', 'offset', \"guns n' roses\", 'zach bryan', 'black eyed peas', 'vundabar', 'oxlade', 'marï¿½ï¿½lia mendonï¿½ï¿½a', 'mc menor sg', 'aventura', 'gabito ballesteros', 'matuï¿', 'dido', 'lil cake', 'jisoo', 'lil uzi vert', 'arijit singh', 'colde', 'king', 'juice wrld', '50 cent', 'edison lighthouse', 'bebe rexha', 'milo j', 'thxsomch', 'lewis capaldi', 'blanco', 'feid', 'aitana', 'miguel', 'nayeon', 'ozuna', 'bruno mars', 'mï¿½ï¿½ne', 'labrinth', 'seventeen', 'hotel ugly', 'becky hill', 'rï¿½ï¿½ma', '070 shake', 'ed sheeran', 'meghan trainor', 'sim', 'nio garcia', 'amitabh bhattacharya', 'perry como', 'morgan wallen', 'lit killah', 'lord huron', 'freddie dredd', 'jessica darrow', 'sabrina carpenter', 'sleepy hallow', 'the killers', 'stray kids', 'the creator', 'kanye west', 'yoasobi', 'interworld', 'kaliii', 'suga', 'zzoilo', 'yung lean', 'cruz cafunï¿½ï¿½', 'rex orange county', 'robin schulz', 'emmy meli', 'stars music chile', 'mnek', 'lil nas x', 'leah kate', 'm', 'daddy yankee', 'george henrique &', 'marï¿½ï¿½lia mendo', 'la adictiva', 'veigh', 'young thug', 'sped up 8282', 'mc paiva zs', 'raim laode', 'maria becerra', 'bad b', 'beam', 'kelly clarkson', 'jonas brothers', 'playboi carti', 'mc livinho', 'shadab faridi', 'varun jain', 'jhay cortez', 'silk sonic', 'nessa barrett', 'juseph', 'taeyang', 'godzz__-', 'brray', 'israel & rodolffo', 'ghostface killah', 'bl', 'dopamine', 'oliver tree', 'jimin', 'standly', 'lil durk', 'jack black', 'cris mj', 'utku inc', 'aerosmith', 'seafret', 'tears for fears', 'kenia os', 'ryan castro', 'l7nnon', 'stephen sanchez', 'swae lee', 'buscabulla', 'the rare occasions', 'caralisa monteiro', 'the marï¿½ï', 'jung kook', 'anne-marie', 'eden muï¿½ï', 'mae stephens', 'the neighbourhood', 'marshmello', 'shakira', 'radiohead', 'metro boomin', 'agust d', 'lost frequencies', 'residente', 'manuel turizo', 'jordan fisher', 'zakaria', 'new west', 'foudeqush', 'victor cibrian', 'shae gill', 'ap dhillon', 'tini', 'trueno', 'beach weather', 'central cee', 'the plastic ono band', 'lil tjay', 'summer walker', 'benson boone', 'sofia carson', 'baby keem', 'anggi marito', 'prod malax', 'chris brown', 'chanel', 'lauren spencer smith', 'kendrick lamar', '2pac', '347aidan', 'raye', 'tiago pzk', 'maiara &', 'tiï¿½ï¿½sto', 'sachin-jigar', 'john legend', 'pharrell williams', 'giant rooks', 'kaifi khalil', 'frank sinatra', 'fivio foreign', 'elley duhï¿', 'vishal-shekhar', 'anuel aa', 'ava', 'paul mccartney', 'charlie puth', 'rich the kid', 'david guetta', 'jasiel nuï¿½ï¿½ez', 'la pantera', 'boywithuke', 'lizzy mcalpine', 'beth gibbons', 'rels b', 'topher ngo', 'league of legends', 'xxxtentacion', '(g)i-dle', 'kanii', 'ha sung woon', 'danny ocean', 'mambo kingz', 'arcangel', 'leo santana', 'josï¿½ï¿½ felic', 'treyce', 'wiu', 'dean martin', 'luis r conriquez', 'jax jones', 'musical youth', 'arizonatears', 'el chachito', 'dj luian', 'mitchell ayres & his orchestra', 'blake shelton', 'avicii', 'mufasa & hypeman', 'lasso', 'grupo marca registrada', 'jessi', 'mc kevin o chris', 'l-gante', 'saiko', 'shilpa rao', 'ryan lewis', 'quevedo', 'taylor swift', 'arctic monkeys', 'peggy gou', 'yoko ono', 'davi k', 'sech', 'kar', 'nengo flow', 'jain', 'em beihold', 'mc ryan sp', 'xamï¿½ï¿½', 'billie eilish', 'dj r', 'le sserafim', 'phoebe bridgers', 'vance joy', 'selena g', 'alvaro diaz', 'amanda reifer', 'masked wolf', 'megan thee stallion', 'gunna', 'ugly dray', 'nat king cole', 'mc frog', 'libianca', 'chino pacas', 'gwen stefani', 'justin bieber', 'neo b', 'linkin park', 'love funk', 'chris molitor', 'a-ha', 'julieta venegas', 'beyoncï¿', 'olga merediz', 'j. cole', 'young miko', 'doï¿½ï¿½u ', 'flowdan', 'john scott trotter & his orchestra', 'tyler cole', 'zï¿½ï¿½ neto & crist', 'kali uchis', 'metallica', 'aitch', 'mc caverinha', 'dina rae', 'la joaqui', 'drake', 'daft punk', 'pnb rock', 'riton', 'lil wayne', 'nico valdi', 'sebastian yatra', 'chuck berry', 'kayblack', 'the weeknd', 'tate m', 'coi leray', 'dj escobar', 'lil baby', 'jaymes young', 'lil yachty', 'armani white', 'jack harlow', 'polima westcoast', 'kevin kaarl', 'abhir hathi', 'dj matt d', 'tony dize', 'josh levi', 'peso p', 'sam smith', 'bï¿½', 'bts', 'kenshi yonezu', 'stromae', 'nicky jam', 'alec benjamin', 'yahritza y su esencia', 'annenmaykantereit', 'lisa', 'camila cabello', 'unxbected', 'b. swanson quartet', 'karol g', 'schï¿½ï¿½rze', 'sam ryder', 'byor', 'calvin harris', 'sales', 'lana del rey', 'jid', 'chencho corleone', 'eslabon armado', 'bvga beatz', 'the police', 'romeo santos', 'rvssian', 'macklemore', 'andy williams', 'bizarrap', 'niall horan', 'dave', 'dj chris no beat', 'steve aoki', 'paulo londra', 'tate mcrae', 'kyla', 'zï¿½ï¿½ fe', 'taiu', 'harry styles', 'elton john', 'bomba estï¿½ï¿½reo', 'ruth b.', 'keane', 'luciano', 'twice', 'nicki nicole', 'ella henderson', 'mc pedrinho', 'imagine dragons', 'mc vitin da igrejinha', 'burna boy', 'sam dew', 'luude', 'joji', 'calum scott', 'omar apollo', 'childish gambino', 'd4vd', 'james blake', 'mc tairon', 'thezth', 'j-hope', 'natanael cano', 'travis scott', 'melanie martinez', 'tv girl', 'ghost', 'surf curse', 'bradley cooper', 'cigarettes after sex', 'maluma', 'rm', 'nle choppa', 'tiï¿½ï¿', 'ovy on the drums', 'suki waterhouse', 'nile rodgers', 'diane guerrero', 'ive', 'os gemeos da putaria', 'roger', 'acraze', 'mr.kitty', 'jnr choi', 'snoop dogg', 'miggy dela rosa', 'robi', 'mc jhenny', 'myke towers', 'paloma mami', 'nirvana', 'melody', 'sampha', 'mahmood', 'p!nk', 'project pat', 'tanna leone', 'imanbek', 'future', 'bing crosby', 'shubh', 'tory lanez', 'agroplay', 'the fontane sisters', 'frank ocean', 'kim petras', '21 savage', 'justin timberlake', 'beï¿½ï', 'sean paul', 'sky rompiendo', 'encanto - cast', 'lyanno', 'ellie goulding', 'olivia rodrigo', 'christian nodal', 'baby tate', 'big one', 'skrillex', 'amaarae', 'tesla jnr', 'chris jedi', 'v', 'ludwig goransson', 'villano antillano', 'nf', 'latto', 'ken darby singers'}\n",
            "628\n"
          ]
        }
      ],
      "source": [
        "results = set()\n",
        "df['artist(s)_name'].str.lower().str.split(', ').apply(results.update)\n",
        "print(results)\n",
        "print(len(results))"
      ]
    },
    {
      "cell_type": "markdown",
      "metadata": {
        "id": "AOi3qas783C0"
      },
      "source": [
        "c) ¿Cuál es la distribución de reproducciones? **(0.5 puntos)**\n"
      ]
    },
    {
      "cell_type": "code",
      "execution_count": 14,
      "metadata": {
        "colab": {
          "base_uri": "https://localhost:8080/",
          "height": 698
        },
        "id": "bmd7dWUS89E3",
        "outputId": "d7323b11-e1ed-49f3-ee31-03ab55a6cbd5"
      },
      "outputs": [
        {
          "name": "stdout",
          "output_type": "stream",
          "text": [
            "count    8.160000e+02\n",
            "mean     4.689858e+08\n",
            "std      5.231267e+08\n",
            "min      2.762000e+03\n",
            "25%      1.342848e+08\n",
            "50%      2.638368e+08\n",
            "75%      6.011986e+08\n",
            "max      3.562544e+09\n",
            "Name: streams, dtype: float64\n"
          ]
        },
        {
          "data": {
            "application/vnd.plotly.v1+json": {
              "config": {
                "plotlyServerURL": "https://plot.ly"
              },
              "data": [
                {
                  "alignmentgroup": "True",
                  "bingroup": "x",
                  "histnorm": "probability density",
                  "hovertemplate": "Reproducciones=%{x}<br>probability density=%{y}<extra></extra>",
                  "legendgroup": "",
                  "marker": {
                    "color": "darkorange",
                    "opacity": 0.6,
                    "pattern": {
                      "shape": ""
                    }
                  },
                  "name": "",
                  "nbinsx": 100,
                  "offsetgroup": "",
                  "orientation": "v",
                  "showlegend": false,
                  "type": "histogram",
                  "x": [
                    141381703,
                    133716286,
                    140003974,
                    800840817,
                    303236322,
                    183706234,
                    725980112,
                    58149378,
                    95217315,
                    553634067,
                    505671438,
                    58255150,
                    387570742,
                    1163093654,
                    496795686,
                    335222234,
                    363369738,
                    86444842,
                    52135248,
                    200647221,
                    115364561,
                    78300654,
                    899183384,
                    61245289,
                    429829812,
                    127408954,
                    22581161,
                    52294266,
                    843957510,
                    999748277,
                    618990393,
                    188933502,
                    1355959075,
                    786181836,
                    176553476,
                    354495408,
                    2808096550,
                    1109433169,
                    1047101291,
                    570515054,
                    1647990401,
                    2565529693,
                    518745108,
                    107753850,
                    177740666,
                    153372011,
                    57876440,
                    256483385,
                    1214083358,
                    111947664,
                    156338624,
                    720434240,
                    357925728,
                    674072710,
                    1755214421,
                    404562836,
                    373199958,
                    14780425,
                    39578178,
                    54266102,
                    751134527,
                    1356565093,
                    1592909789,
                    635412045,
                    1230675890,
                    585695368,
                    43857627,
                    2009094673,
                    600976848,
                    39709092,
                    39228929,
                    2665343922,
                    223633238,
                    1440757818,
                    165484133,
                    58054811,
                    157058870,
                    95131998,
                    250305248,
                    685032533,
                    38411956,
                    144565150,
                    127567540,
                    399686758,
                    983637508,
                    118482347,
                    882831184,
                    286400165,
                    172825906,
                    1241559043,
                    29562220,
                    77309611,
                    1605224506,
                    1116995633,
                    838079900,
                    1163620694,
                    1093605526,
                    179659294,
                    39058561,
                    36912123,
                    1205951614,
                    1791000570,
                    201660859,
                    248088961,
                    90839753,
                    607123776,
                    55842345,
                    211050784,
                    342897938,
                    2762,
                    601863821,
                    1953533826,
                    2355719893,
                    66902503,
                    96273746,
                    430977451,
                    284819874,
                    721975598,
                    276259178,
                    54225632,
                    2559529074,
                    681583126,
                    2594040133,
                    81102253,
                    11956641,
                    1687664027,
                    611700552,
                    1133865788,
                    1089402494,
                    411747614,
                    255932395,
                    31873544,
                    233801632,
                    1481349984,
                    142095275,
                    2011464183,
                    436027885,
                    2713922350,
                    621660989,
                    950906471,
                    1593270737,
                    1410088830,
                    1235005533,
                    1374581173,
                    94186466,
                    1788326445,
                    1840364617,
                    143573775,
                    684675814,
                    1113838873,
                    1267333350,
                    3562543890,
                    1271293243,
                    265882712,
                    841749534,
                    47956378,
                    806397070,
                    1641426668,
                    2135158446,
                    367316268,
                    350381515,
                    1264310836,
                    30343206,
                    405136812,
                    540654286,
                    57312735,
                    397582059,
                    1479115056,
                    86773632,
                    133753727,
                    123124076,
                    463564958,
                    64533040,
                    65496046,
                    68616963,
                    161460990,
                    70106975,
                    113509496,
                    89933133,
                    71007139,
                    43522589,
                    232896922,
                    37126685,
                    195576623,
                    532336353,
                    538115192,
                    46142772,
                    401036314,
                    127026613,
                    345031710,
                    288101651,
                    60350538,
                    335074782,
                    76767396,
                    46065667,
                    459276435,
                    39666245,
                    138517666,
                    822633917,
                    595900742,
                    51985779,
                    57945987,
                    115010040,
                    175097833,
                    57089066,
                    488386797,
                    32761689,
                    1047480053,
                    153454328,
                    217672943,
                    457184829,
                    726434358,
                    573633020,
                    1406111294,
                    71573339,
                    24975653,
                    145458418,
                    1424589568,
                    231332117,
                    415932686,
                    988515741,
                    50847624,
                    39893489,
                    92035115,
                    118810253,
                    77233241,
                    117747907,
                    266624541,
                    293186992,
                    139681964,
                    123132751,
                    103762518,
                    162887075,
                    91221625,
                    190490915,
                    96180277,
                    185240616,
                    885093467,
                    104992946,
                    147290338,
                    158950978,
                    76910644,
                    137123880,
                    782369383,
                    502574952,
                    207033255,
                    381161027,
                    466231982,
                    357580552,
                    61105704,
                    198275403,
                    705469769,
                    34502215,
                    304118600,
                    1449799467,
                    173627354,
                    90025258,
                    652704649,
                    1829992958,
                    655466831,
                    146409671,
                    95816024,
                    117206995,
                    100409613,
                    80758350,
                    325592432,
                    58473276,
                    52722996,
                    191945597,
                    77377503,
                    743693613,
                    267789608,
                    449701773,
                    67070410,
                    116334601,
                    165584767,
                    367814306,
                    477033549,
                    156214700,
                    448843705,
                    294352144,
                    972164968,
                    920045682,
                    2420461338,
                    244658767,
                    68216992,
                    223582566,
                    471819764,
                    1361425037,
                    116599790,
                    148469433,
                    497225336,
                    88791109,
                    125917280,
                    105062254,
                    95623148,
                    144584800,
                    298063749,
                    166570053,
                    83021468,
                    139836056,
                    303216294,
                    221409663,
                    58890931,
                    81419389,
                    156777415,
                    284908316,
                    93438910,
                    363472647,
                    372476382,
                    56533272,
                    175399345,
                    203221468,
                    1624165576,
                    134294498,
                    70069745,
                    609293408,
                    671365962,
                    93587665,
                    1223481149,
                    1022258230,
                    263453310,
                    1435127549,
                    236857112,
                    147538971,
                    698086140,
                    723894473,
                    403097450,
                    309483971,
                    319566866,
                    909001996,
                    1061966512,
                    124988687,
                    134255790,
                    301051721,
                    156338624,
                    309653982,
                    297328960,
                    332506354,
                    480507035,
                    1065580332,
                    122763672,
                    1365184,
                    184308753,
                    606361689,
                    120972253,
                    338564981,
                    1606986953,
                    1301799902,
                    140187018,
                    107642809,
                    556585270,
                    2303033973,
                    646886885,
                    872137015,
                    571386359,
                    174006928,
                    284785823,
                    163284000,
                    246390068,
                    482257456,
                    168684524,
                    78489819,
                    195516622,
                    1260594497,
                    428685680,
                    1024858327,
                    838586769,
                    199386237,
                    972509632,
                    213438580,
                    210038833,
                    227918678,
                    826623384,
                    1802514301,
                    181831132,
                    462791599,
                    348647203,
                    90598517,
                    807561936,
                    663832097,
                    446390129,
                    485285717,
                    520034544,
                    476244795,
                    629173063,
                    404664135,
                    98709329,
                    110849052,
                    460492795,
                    94005786,
                    389771964,
                    403939487,
                    110073250,
                    351636786,
                    473248298,
                    73981293,
                    155653938,
                    395591396,
                    429504768,
                    242767149,
                    65362788,
                    67540165,
                    62019074,
                    295998468,
                    136689549,
                    135611421,
                    356709897,
                    110649992,
                    301869854,
                    127027715,
                    57144458,
                    56870689,
                    323437194,
                    317726339,
                    116144341,
                    328207708,
                    608228647,
                    180577478,
                    809306935,
                    49262961,
                    614555082,
                    245350949,
                    178660459,
                    51641685,
                    78139948,
                    322336177,
                    391251368,
                    349585590,
                    674772936,
                    119238316,
                    116903579,
                    888046992,
                    130655803,
                    88103848,
                    101114984,
                    1575467011,
                    91656026,
                    53933526,
                    267758538,
                    74601456,
                    920797189,
                    539595276,
                    1367810478,
                    578207856,
                    775542072,
                    656013912,
                    240684449,
                    63803529,
                    466214729,
                    236940480,
                    41924466,
                    225259194,
                    393230256,
                    287201015,
                    599770206,
                    342779426,
                    673801126,
                    1168642797,
                    383550148,
                    530511203,
                    510876816,
                    1763363713,
                    374191487,
                    108809090,
                    436695353,
                    354065229,
                    1143647827,
                    311395144,
                    672656250,
                    1256880657,
                    245095641,
                    686734357,
                    261414174,
                    610045621,
                    1115880852,
                    594482982,
                    566954746,
                    null,
                    184937148,
                    31959571,
                    824420218,
                    363467642,
                    1127468248,
                    60680939,
                    247737946,
                    154797871,
                    124407432,
                    850608354,
                    376333030,
                    516784627,
                    1608045237,
                    506778838,
                    1472799873,
                    513643924,
                    261286503,
                    783706581,
                    422691058,
                    1062345656,
                    851070493,
                    263894529,
                    345903614,
                    956865266,
                    427486004,
                    156658366,
                    624515457,
                    777765388,
                    1138474110,
                    355219175,
                    290228626,
                    1062956628,
                    1180094974,
                    1456081449,
                    432702334,
                    489945871,
                    465959382,
                    1223481149,
                    2288695111,
                    720825549,
                    2086124197,
                    1690192927,
                    593917618,
                    200972675,
                    71014967,
                    560222750,
                    1806617704,
                    77337771,
                    528544703,
                    865640097,
                    2159346687,
                    211372494,
                    651732901,
                    608334048,
                    863756573,
                    797402345,
                    1695712020,
                    1759567999,
                    223319934,
                    54937991,
                    258316038,
                    596152090,
                    177129919,
                    716591492,
                    1210599487,
                    246376690,
                    496311364,
                    843309044,
                    500340342,
                    107255472,
                    135079152,
                    822239726,
                    1202722675,
                    343197054,
                    240769997,
                    426204830,
                    421135627,
                    554875730,
                    327498031,
                    185408548,
                    245400167,
                    579395142,
                    675039469,
                    252871192,
                    231996128,
                    1929770265,
                    918915401,
                    1180896317,
                    498960285,
                    258714692,
                    143139338,
                    209768491,
                    64714573,
                    50746620,
                    154119539,
                    181328253,
                    370068639,
                    2280566092,
                    563902868,
                    317622165,
                    203680270,
                    81350745,
                    282883169,
                    64787943,
                    2484812918,
                    461437791,
                    1439191367,
                    759208783,
                    368646862,
                    299634472,
                    756907987,
                    682475162,
                    546191065,
                    229473310,
                    202677468,
                    208166039,
                    527033089,
                    94616487,
                    394030335,
                    193443895,
                    299648208,
                    319757142,
                    153240879,
                    346127840,
                    312622938,
                    1200808494,
                    797196073,
                    1970673297,
                    665765558,
                    263779030,
                    339473453,
                    2204080728,
                    2591224264,
                    135444283,
                    236872197,
                    694525298,
                    421365166,
                    349746291,
                    255120451,
                    190981339,
                    924193303,
                    305771063,
                    273005485,
                    89566512,
                    677389855,
                    75476209,
                    408843328,
                    187772591,
                    178512385,
                    101780047,
                    146363130,
                    126443991,
                    157990698,
                    176290831,
                    1023187129,
                    106933107,
                    139193812,
                    212234990,
                    1714490998,
                    197643795,
                    807015863,
                    933815613,
                    499710590,
                    120847157,
                    53909146,
                    2236667932,
                    2123309722,
                    301242089,
                    723894473,
                    237351106,
                    461558540,
                    156898322,
                    127309180,
                    173702135,
                    305650299,
                    123216717,
                    479655659,
                    126191104,
                    344055883,
                    338422004,
                    68895644,
                    86176890,
                    403231558,
                    319546754,
                    61739839,
                    283359161,
                    76831876,
                    283332261,
                    307752576,
                    279737940,
                    212351890,
                    1304313953,
                    150500965,
                    246127838,
                    582863434,
                    58687425,
                    212109195,
                    382199619,
                    41210087,
                    231657891,
                    53729194,
                    244741137,
                    42485571,
                    37778188,
                    254218729,
                    53603447,
                    160035717,
                    37091576,
                    284249832,
                    33381454,
                    184622518,
                    300983101,
                    121077868,
                    106919680,
                    136996305,
                    65719930,
                    229497852,
                    185550869,
                    54682594,
                    240580042,
                    1284942608,
                    71423324,
                    244891912,
                    132171975,
                    184706613,
                    184826429,
                    302006641,
                    330881149,
                    334733572,
                    366214458,
                    114546317,
                    448500832,
                    136676504,
                    190625045,
                    79095270,
                    273194684,
                    333146475,
                    194902696,
                    195918494,
                    248511839,
                    233671263,
                    199587884,
                    91781263,
                    383835984,
                    236060709,
                    189236868,
                    160845341,
                    588955257,
                    238350348,
                    187703102,
                    138334433,
                    445590495,
                    286739476,
                    1122364376,
                    157136970,
                    183273246,
                    164856284,
                    704171068,
                    354614964,
                    279717388,
                    195628667,
                    221752937,
                    263280370,
                    213505179,
                    130419412,
                    155795783,
                    1553497987,
                    293466523,
                    191448892,
                    85924992,
                    176103902,
                    121189256,
                    131746175,
                    244790012,
                    129314708,
                    331511413,
                    170732845,
                    179061440,
                    185236961,
                    171788484,
                    387080183,
                    264717480,
                    244928911,
                    97610446,
                    287278853,
                    887906111,
                    123473120,
                    323455692,
                    240918092,
                    191873381,
                    239411309,
                    703301727,
                    189476119,
                    277132266,
                    278920007,
                    222410722,
                    185392587,
                    202452860,
                    1608164312,
                    624101957,
                    148461629,
                    47093942,
                    380319238,
                    209106362,
                    53987404,
                    115331792,
                    225093344,
                    84697729,
                    159240673,
                    170709584,
                    154356956,
                    723043854,
                    247689123,
                    176474912,
                    235549288,
                    85559365,
                    146223492,
                    187701588,
                    154863153,
                    191333656,
                    253650850,
                    223064273,
                    170413877,
                    218320587,
                    141720999,
                    198365537,
                    177503916,
                    71095708,
                    112436403,
                    203436468,
                    93367537,
                    106249219,
                    181382590,
                    91473363,
                    121871870,
                    73513683,
                    133895612,
                    96007391
                  ],
                  "xaxis": "x",
                  "yaxis": "y"
                }
              ],
              "layout": {
                "barmode": "relative",
                "legend": {
                  "tracegroupgap": 0
                },
                "margin": {
                  "t": 60
                },
                "template": {
                  "data": {
                    "bar": [
                      {
                        "error_x": {
                          "color": "#2a3f5f"
                        },
                        "error_y": {
                          "color": "#2a3f5f"
                        },
                        "marker": {
                          "line": {
                            "color": "#E5ECF6",
                            "width": 0.5
                          },
                          "pattern": {
                            "fillmode": "overlay",
                            "size": 10,
                            "solidity": 0.2
                          }
                        },
                        "type": "bar"
                      }
                    ],
                    "barpolar": [
                      {
                        "marker": {
                          "line": {
                            "color": "#E5ECF6",
                            "width": 0.5
                          },
                          "pattern": {
                            "fillmode": "overlay",
                            "size": 10,
                            "solidity": 0.2
                          }
                        },
                        "type": "barpolar"
                      }
                    ],
                    "carpet": [
                      {
                        "aaxis": {
                          "endlinecolor": "#2a3f5f",
                          "gridcolor": "white",
                          "linecolor": "white",
                          "minorgridcolor": "white",
                          "startlinecolor": "#2a3f5f"
                        },
                        "baxis": {
                          "endlinecolor": "#2a3f5f",
                          "gridcolor": "white",
                          "linecolor": "white",
                          "minorgridcolor": "white",
                          "startlinecolor": "#2a3f5f"
                        },
                        "type": "carpet"
                      }
                    ],
                    "choropleth": [
                      {
                        "colorbar": {
                          "outlinewidth": 0,
                          "ticks": ""
                        },
                        "type": "choropleth"
                      }
                    ],
                    "contour": [
                      {
                        "colorbar": {
                          "outlinewidth": 0,
                          "ticks": ""
                        },
                        "colorscale": [
                          [
                            0,
                            "#0d0887"
                          ],
                          [
                            0.1111111111111111,
                            "#46039f"
                          ],
                          [
                            0.2222222222222222,
                            "#7201a8"
                          ],
                          [
                            0.3333333333333333,
                            "#9c179e"
                          ],
                          [
                            0.4444444444444444,
                            "#bd3786"
                          ],
                          [
                            0.5555555555555556,
                            "#d8576b"
                          ],
                          [
                            0.6666666666666666,
                            "#ed7953"
                          ],
                          [
                            0.7777777777777778,
                            "#fb9f3a"
                          ],
                          [
                            0.8888888888888888,
                            "#fdca26"
                          ],
                          [
                            1,
                            "#f0f921"
                          ]
                        ],
                        "type": "contour"
                      }
                    ],
                    "contourcarpet": [
                      {
                        "colorbar": {
                          "outlinewidth": 0,
                          "ticks": ""
                        },
                        "type": "contourcarpet"
                      }
                    ],
                    "heatmap": [
                      {
                        "colorbar": {
                          "outlinewidth": 0,
                          "ticks": ""
                        },
                        "colorscale": [
                          [
                            0,
                            "#0d0887"
                          ],
                          [
                            0.1111111111111111,
                            "#46039f"
                          ],
                          [
                            0.2222222222222222,
                            "#7201a8"
                          ],
                          [
                            0.3333333333333333,
                            "#9c179e"
                          ],
                          [
                            0.4444444444444444,
                            "#bd3786"
                          ],
                          [
                            0.5555555555555556,
                            "#d8576b"
                          ],
                          [
                            0.6666666666666666,
                            "#ed7953"
                          ],
                          [
                            0.7777777777777778,
                            "#fb9f3a"
                          ],
                          [
                            0.8888888888888888,
                            "#fdca26"
                          ],
                          [
                            1,
                            "#f0f921"
                          ]
                        ],
                        "type": "heatmap"
                      }
                    ],
                    "heatmapgl": [
                      {
                        "colorbar": {
                          "outlinewidth": 0,
                          "ticks": ""
                        },
                        "colorscale": [
                          [
                            0,
                            "#0d0887"
                          ],
                          [
                            0.1111111111111111,
                            "#46039f"
                          ],
                          [
                            0.2222222222222222,
                            "#7201a8"
                          ],
                          [
                            0.3333333333333333,
                            "#9c179e"
                          ],
                          [
                            0.4444444444444444,
                            "#bd3786"
                          ],
                          [
                            0.5555555555555556,
                            "#d8576b"
                          ],
                          [
                            0.6666666666666666,
                            "#ed7953"
                          ],
                          [
                            0.7777777777777778,
                            "#fb9f3a"
                          ],
                          [
                            0.8888888888888888,
                            "#fdca26"
                          ],
                          [
                            1,
                            "#f0f921"
                          ]
                        ],
                        "type": "heatmapgl"
                      }
                    ],
                    "histogram": [
                      {
                        "marker": {
                          "pattern": {
                            "fillmode": "overlay",
                            "size": 10,
                            "solidity": 0.2
                          }
                        },
                        "type": "histogram"
                      }
                    ],
                    "histogram2d": [
                      {
                        "colorbar": {
                          "outlinewidth": 0,
                          "ticks": ""
                        },
                        "colorscale": [
                          [
                            0,
                            "#0d0887"
                          ],
                          [
                            0.1111111111111111,
                            "#46039f"
                          ],
                          [
                            0.2222222222222222,
                            "#7201a8"
                          ],
                          [
                            0.3333333333333333,
                            "#9c179e"
                          ],
                          [
                            0.4444444444444444,
                            "#bd3786"
                          ],
                          [
                            0.5555555555555556,
                            "#d8576b"
                          ],
                          [
                            0.6666666666666666,
                            "#ed7953"
                          ],
                          [
                            0.7777777777777778,
                            "#fb9f3a"
                          ],
                          [
                            0.8888888888888888,
                            "#fdca26"
                          ],
                          [
                            1,
                            "#f0f921"
                          ]
                        ],
                        "type": "histogram2d"
                      }
                    ],
                    "histogram2dcontour": [
                      {
                        "colorbar": {
                          "outlinewidth": 0,
                          "ticks": ""
                        },
                        "colorscale": [
                          [
                            0,
                            "#0d0887"
                          ],
                          [
                            0.1111111111111111,
                            "#46039f"
                          ],
                          [
                            0.2222222222222222,
                            "#7201a8"
                          ],
                          [
                            0.3333333333333333,
                            "#9c179e"
                          ],
                          [
                            0.4444444444444444,
                            "#bd3786"
                          ],
                          [
                            0.5555555555555556,
                            "#d8576b"
                          ],
                          [
                            0.6666666666666666,
                            "#ed7953"
                          ],
                          [
                            0.7777777777777778,
                            "#fb9f3a"
                          ],
                          [
                            0.8888888888888888,
                            "#fdca26"
                          ],
                          [
                            1,
                            "#f0f921"
                          ]
                        ],
                        "type": "histogram2dcontour"
                      }
                    ],
                    "mesh3d": [
                      {
                        "colorbar": {
                          "outlinewidth": 0,
                          "ticks": ""
                        },
                        "type": "mesh3d"
                      }
                    ],
                    "parcoords": [
                      {
                        "line": {
                          "colorbar": {
                            "outlinewidth": 0,
                            "ticks": ""
                          }
                        },
                        "type": "parcoords"
                      }
                    ],
                    "pie": [
                      {
                        "automargin": true,
                        "type": "pie"
                      }
                    ],
                    "scatter": [
                      {
                        "fillpattern": {
                          "fillmode": "overlay",
                          "size": 10,
                          "solidity": 0.2
                        },
                        "type": "scatter"
                      }
                    ],
                    "scatter3d": [
                      {
                        "line": {
                          "colorbar": {
                            "outlinewidth": 0,
                            "ticks": ""
                          }
                        },
                        "marker": {
                          "colorbar": {
                            "outlinewidth": 0,
                            "ticks": ""
                          }
                        },
                        "type": "scatter3d"
                      }
                    ],
                    "scattercarpet": [
                      {
                        "marker": {
                          "colorbar": {
                            "outlinewidth": 0,
                            "ticks": ""
                          }
                        },
                        "type": "scattercarpet"
                      }
                    ],
                    "scattergeo": [
                      {
                        "marker": {
                          "colorbar": {
                            "outlinewidth": 0,
                            "ticks": ""
                          }
                        },
                        "type": "scattergeo"
                      }
                    ],
                    "scattergl": [
                      {
                        "marker": {
                          "colorbar": {
                            "outlinewidth": 0,
                            "ticks": ""
                          }
                        },
                        "type": "scattergl"
                      }
                    ],
                    "scattermapbox": [
                      {
                        "marker": {
                          "colorbar": {
                            "outlinewidth": 0,
                            "ticks": ""
                          }
                        },
                        "type": "scattermapbox"
                      }
                    ],
                    "scatterpolar": [
                      {
                        "marker": {
                          "colorbar": {
                            "outlinewidth": 0,
                            "ticks": ""
                          }
                        },
                        "type": "scatterpolar"
                      }
                    ],
                    "scatterpolargl": [
                      {
                        "marker": {
                          "colorbar": {
                            "outlinewidth": 0,
                            "ticks": ""
                          }
                        },
                        "type": "scatterpolargl"
                      }
                    ],
                    "scatterternary": [
                      {
                        "marker": {
                          "colorbar": {
                            "outlinewidth": 0,
                            "ticks": ""
                          }
                        },
                        "type": "scatterternary"
                      }
                    ],
                    "surface": [
                      {
                        "colorbar": {
                          "outlinewidth": 0,
                          "ticks": ""
                        },
                        "colorscale": [
                          [
                            0,
                            "#0d0887"
                          ],
                          [
                            0.1111111111111111,
                            "#46039f"
                          ],
                          [
                            0.2222222222222222,
                            "#7201a8"
                          ],
                          [
                            0.3333333333333333,
                            "#9c179e"
                          ],
                          [
                            0.4444444444444444,
                            "#bd3786"
                          ],
                          [
                            0.5555555555555556,
                            "#d8576b"
                          ],
                          [
                            0.6666666666666666,
                            "#ed7953"
                          ],
                          [
                            0.7777777777777778,
                            "#fb9f3a"
                          ],
                          [
                            0.8888888888888888,
                            "#fdca26"
                          ],
                          [
                            1,
                            "#f0f921"
                          ]
                        ],
                        "type": "surface"
                      }
                    ],
                    "table": [
                      {
                        "cells": {
                          "fill": {
                            "color": "#EBF0F8"
                          },
                          "line": {
                            "color": "white"
                          }
                        },
                        "header": {
                          "fill": {
                            "color": "#C8D4E3"
                          },
                          "line": {
                            "color": "white"
                          }
                        },
                        "type": "table"
                      }
                    ]
                  },
                  "layout": {
                    "annotationdefaults": {
                      "arrowcolor": "#2a3f5f",
                      "arrowhead": 0,
                      "arrowwidth": 1
                    },
                    "autotypenumbers": "strict",
                    "coloraxis": {
                      "colorbar": {
                        "outlinewidth": 0,
                        "ticks": ""
                      }
                    },
                    "colorscale": {
                      "diverging": [
                        [
                          0,
                          "#8e0152"
                        ],
                        [
                          0.1,
                          "#c51b7d"
                        ],
                        [
                          0.2,
                          "#de77ae"
                        ],
                        [
                          0.3,
                          "#f1b6da"
                        ],
                        [
                          0.4,
                          "#fde0ef"
                        ],
                        [
                          0.5,
                          "#f7f7f7"
                        ],
                        [
                          0.6,
                          "#e6f5d0"
                        ],
                        [
                          0.7,
                          "#b8e186"
                        ],
                        [
                          0.8,
                          "#7fbc41"
                        ],
                        [
                          0.9,
                          "#4d9221"
                        ],
                        [
                          1,
                          "#276419"
                        ]
                      ],
                      "sequential": [
                        [
                          0,
                          "#0d0887"
                        ],
                        [
                          0.1111111111111111,
                          "#46039f"
                        ],
                        [
                          0.2222222222222222,
                          "#7201a8"
                        ],
                        [
                          0.3333333333333333,
                          "#9c179e"
                        ],
                        [
                          0.4444444444444444,
                          "#bd3786"
                        ],
                        [
                          0.5555555555555556,
                          "#d8576b"
                        ],
                        [
                          0.6666666666666666,
                          "#ed7953"
                        ],
                        [
                          0.7777777777777778,
                          "#fb9f3a"
                        ],
                        [
                          0.8888888888888888,
                          "#fdca26"
                        ],
                        [
                          1,
                          "#f0f921"
                        ]
                      ],
                      "sequentialminus": [
                        [
                          0,
                          "#0d0887"
                        ],
                        [
                          0.1111111111111111,
                          "#46039f"
                        ],
                        [
                          0.2222222222222222,
                          "#7201a8"
                        ],
                        [
                          0.3333333333333333,
                          "#9c179e"
                        ],
                        [
                          0.4444444444444444,
                          "#bd3786"
                        ],
                        [
                          0.5555555555555556,
                          "#d8576b"
                        ],
                        [
                          0.6666666666666666,
                          "#ed7953"
                        ],
                        [
                          0.7777777777777778,
                          "#fb9f3a"
                        ],
                        [
                          0.8888888888888888,
                          "#fdca26"
                        ],
                        [
                          1,
                          "#f0f921"
                        ]
                      ]
                    },
                    "colorway": [
                      "#636efa",
                      "#EF553B",
                      "#00cc96",
                      "#ab63fa",
                      "#FFA15A",
                      "#19d3f3",
                      "#FF6692",
                      "#B6E880",
                      "#FF97FF",
                      "#FECB52"
                    ],
                    "font": {
                      "color": "#2a3f5f"
                    },
                    "geo": {
                      "bgcolor": "white",
                      "lakecolor": "white",
                      "landcolor": "#E5ECF6",
                      "showlakes": true,
                      "showland": true,
                      "subunitcolor": "white"
                    },
                    "hoverlabel": {
                      "align": "left"
                    },
                    "hovermode": "closest",
                    "mapbox": {
                      "style": "light"
                    },
                    "paper_bgcolor": "white",
                    "plot_bgcolor": "#E5ECF6",
                    "polar": {
                      "angularaxis": {
                        "gridcolor": "white",
                        "linecolor": "white",
                        "ticks": ""
                      },
                      "bgcolor": "#E5ECF6",
                      "radialaxis": {
                        "gridcolor": "white",
                        "linecolor": "white",
                        "ticks": ""
                      }
                    },
                    "scene": {
                      "xaxis": {
                        "backgroundcolor": "#E5ECF6",
                        "gridcolor": "white",
                        "gridwidth": 2,
                        "linecolor": "white",
                        "showbackground": true,
                        "ticks": "",
                        "zerolinecolor": "white"
                      },
                      "yaxis": {
                        "backgroundcolor": "#E5ECF6",
                        "gridcolor": "white",
                        "gridwidth": 2,
                        "linecolor": "white",
                        "showbackground": true,
                        "ticks": "",
                        "zerolinecolor": "white"
                      },
                      "zaxis": {
                        "backgroundcolor": "#E5ECF6",
                        "gridcolor": "white",
                        "gridwidth": 2,
                        "linecolor": "white",
                        "showbackground": true,
                        "ticks": "",
                        "zerolinecolor": "white"
                      }
                    },
                    "shapedefaults": {
                      "line": {
                        "color": "#2a3f5f"
                      }
                    },
                    "ternary": {
                      "aaxis": {
                        "gridcolor": "white",
                        "linecolor": "white",
                        "ticks": ""
                      },
                      "baxis": {
                        "gridcolor": "white",
                        "linecolor": "white",
                        "ticks": ""
                      },
                      "bgcolor": "#E5ECF6",
                      "caxis": {
                        "gridcolor": "white",
                        "linecolor": "white",
                        "ticks": ""
                      }
                    },
                    "title": {
                      "x": 0.05
                    },
                    "xaxis": {
                      "automargin": true,
                      "gridcolor": "white",
                      "linecolor": "white",
                      "ticks": "",
                      "title": {
                        "standoff": 15
                      },
                      "zerolinecolor": "white",
                      "zerolinewidth": 2
                    },
                    "yaxis": {
                      "automargin": true,
                      "gridcolor": "white",
                      "linecolor": "white",
                      "ticks": "",
                      "title": {
                        "standoff": 15
                      },
                      "zerolinecolor": "white",
                      "zerolinewidth": 2
                    }
                  }
                },
                "xaxis": {
                  "anchor": "y",
                  "domain": [
                    0,
                    1
                  ],
                  "title": {
                    "text": "Reproducciones"
                  }
                },
                "yaxis": {
                  "anchor": "x",
                  "domain": [
                    0,
                    1
                  ],
                  "title": {
                    "text": "probability density"
                  }
                }
              }
            }
          },
          "metadata": {},
          "output_type": "display_data"
        }
      ],
      "source": [
        "print(df.streams.describe())\n",
        "\n",
        "fig = px.histogram(df, x=\"streams\",\n",
        "                   labels = {\"streams\": \"Reproducciones\"},\n",
        "                   histnorm='probability density',\n",
        "                   nbins = 100,\n",
        "                   opacity=0.6)\n",
        "\n",
        "fig.update_traces(marker_color = \"darkorange\")\n",
        "fig.show()"
      ]
    },
    {
      "cell_type": "markdown",
      "metadata": {
        "id": "0hHockBe9gjR"
      },
      "source": [
        "d) ¿Existe una diferencia signitificativa en las reproducciones entre las canciones de un solo artista y las de más de uno? **(0.5 puntos)**"
      ]
    },
    {
      "cell_type": "code",
      "execution_count": 15,
      "metadata": {
        "colab": {
          "base_uri": "https://localhost:8080/",
          "height": 872
        },
        "id": "PO2_akFK9mNE",
        "outputId": "2ae22cfc-0d71-4021-ec43-27978106a5d7"
      },
      "outputs": [
        {
          "name": "stdout",
          "output_type": "stream",
          "text": [
            "count    3.230000e+02\n",
            "mean     4.118884e+08\n",
            "std      5.029107e+08\n",
            "min      2.762000e+03\n",
            "25%      1.103616e+08\n",
            "50%      2.233199e+08\n",
            "75%      5.352258e+08\n",
            "max      2.808097e+09\n",
            "Name: streams, dtype: float64\n",
            "count    4.930000e+02\n",
            "mean     5.063944e+08\n",
            "std      5.331516e+08\n",
            "min      1.478042e+07\n",
            "25%      1.562147e+08\n",
            "50%      2.996482e+08\n",
            "75%      6.815831e+08\n",
            "max      3.562544e+09\n",
            "Name: streams, dtype: float64\n"
          ]
        },
        {
          "data": {
            "application/vnd.plotly.v1+json": {
              "config": {
                "plotlyServerURL": "https://plot.ly"
              },
              "data": [
                {
                  "boxmean": true,
                  "boxpoints": "all",
                  "marker": {
                    "color": "gold"
                  },
                  "name": "Más de dos",
                  "type": "box",
                  "x": [
                    141381703,
                    183706234,
                    725980112,
                    553634067,
                    505671438,
                    335222234,
                    86444842,
                    200647221,
                    115364561,
                    899183384,
                    61245289,
                    52294266,
                    843957510,
                    618990393,
                    188933502,
                    354495408,
                    2808096550,
                    1109433169,
                    1047101291,
                    2565529693,
                    518745108,
                    107753850,
                    177740666,
                    111947664,
                    156338624,
                    720434240,
                    357925728,
                    674072710,
                    54266102,
                    1356565093,
                    1230675890,
                    585695368,
                    600976848,
                    39709092,
                    2665343922,
                    223633238,
                    1440757818,
                    58054811,
                    250305248,
                    144565150,
                    286400165,
                    1605224506,
                    1093605526,
                    39058561,
                    248088961,
                    90839753,
                    55842345,
                    211050784,
                    2762,
                    1953533826,
                    2355719893,
                    66902503,
                    721975598,
                    276259178,
                    54225632,
                    81102253,
                    11956641,
                    611700552,
                    1133865788,
                    233801632,
                    142095275,
                    436027885,
                    2713922350,
                    1235005533,
                    94186466,
                    367316268,
                    57312735,
                    86773632,
                    133753727,
                    463564958,
                    64533040,
                    161460990,
                    70106975,
                    113509496,
                    89933133,
                    71007139,
                    43522589,
                    37126685,
                    532336353,
                    538115192,
                    46142772,
                    401036314,
                    127026613,
                    288101651,
                    60350538,
                    46065667,
                    39666245,
                    138517666,
                    51985779,
                    57945987,
                    115010040,
                    57089066,
                    32761689,
                    573633020,
                    71573339,
                    24975653,
                    231332117,
                    50847624,
                    92035115,
                    77233241,
                    266624541,
                    162887075,
                    96180277,
                    104992946,
                    147290338,
                    158950978,
                    76910644,
                    207033255,
                    61105704,
                    198275403,
                    705469769,
                    34502215,
                    304118600,
                    90025258,
                    652704649,
                    655466831,
                    146409671,
                    95816024,
                    100409613,
                    80758350,
                    325592432,
                    58473276,
                    77377503,
                    116334601,
                    477033549,
                    294352144,
                    223582566,
                    471819764,
                    116599790,
                    497225336,
                    105062254,
                    139836056,
                    221409663,
                    58890931,
                    93438910,
                    609293408,
                    93587665,
                    1223481149,
                    263453310,
                    1435127549,
                    236857112,
                    309483971,
                    1061966512,
                    1065580332,
                    1365184,
                    184308753,
                    606361689,
                    120972253,
                    140187018,
                    556585270,
                    174006928,
                    78489819,
                    195516622,
                    972509632,
                    213438580,
                    1802514301,
                    462791599,
                    90598517,
                    460492795,
                    94005786,
                    110073250,
                    473248298,
                    155653938,
                    395591396,
                    295998468,
                    136689549,
                    110649992,
                    323437194,
                    116144341,
                    608228647,
                    180577478,
                    809306935,
                    614555082,
                    78139948,
                    322336177,
                    349585590,
                    674772936,
                    88103848,
                    1575467011,
                    91656026,
                    539595276,
                    578207856,
                    775542072,
                    656013912,
                    240684449,
                    236940480,
                    393230256,
                    673801126,
                    383550148,
                    530511203,
                    1763363713,
                    374191487,
                    436695353,
                    354065229,
                    311395144,
                    672656250,
                    686734357,
                    261414174,
                    610045621,
                    1115880852,
                    594482982,
                    566954746,
                    184937148,
                    60680939,
                    154797871,
                    261286503,
                    422691058,
                    263894529,
                    956865266,
                    427486004,
                    355219175,
                    489945871,
                    1223481149,
                    720825549,
                    593917618,
                    200972675,
                    560222750,
                    528544703,
                    2159346687,
                    651732901,
                    863756573,
                    1695712020,
                    223319934,
                    54937991,
                    258316038,
                    596152090,
                    177129919,
                    716591492,
                    1210599487,
                    843309044,
                    107255472,
                    135079152,
                    426204830,
                    327498031,
                    245400167,
                    579395142,
                    675039469,
                    252871192,
                    918915401,
                    1180896317,
                    143139338,
                    209768491,
                    64714573,
                    81350745,
                    64787943,
                    2484812918,
                    461437791,
                    759208783,
                    299634472,
                    756907987,
                    208166039,
                    94616487,
                    153240879,
                    2204080728,
                    2591224264,
                    236872197,
                    349746291,
                    273005485,
                    75476209,
                    187772591,
                    178512385,
                    176290831,
                    106933107,
                    197643795,
                    933815613,
                    120847157,
                    237351106,
                    127309180,
                    123216717,
                    479655659,
                    344055883,
                    68895644,
                    86176890,
                    319546754,
                    76831876,
                    307752576,
                    1304313953,
                    58687425,
                    212109195,
                    284249832,
                    33381454,
                    184622518,
                    300983101,
                    121077868,
                    106919680,
                    240580042,
                    136676504,
                    190625045,
                    333146475,
                    194902696,
                    248511839,
                    383835984,
                    160845341,
                    138334433,
                    286739476,
                    279717388,
                    130419412,
                    85924992,
                    176103902,
                    121189256,
                    129314708,
                    170732845,
                    287278853,
                    123473120,
                    323455692,
                    240918092,
                    191873381,
                    47093942,
                    209106362,
                    84697729,
                    159240673,
                    146223492,
                    187701588,
                    154863153,
                    191333656,
                    170413877,
                    141720999,
                    198365537,
                    71095708,
                    112436403,
                    106249219,
                    73513683,
                    133895612
                  ]
                },
                {
                  "boxmean": true,
                  "boxpoints": "all",
                  "marker": {
                    "color": "mediumseagreen"
                  },
                  "name": "Un solo artista",
                  "type": "box",
                  "x": [
                    133716286,
                    140003974,
                    800840817,
                    303236322,
                    58149378,
                    95217315,
                    58255150,
                    387570742,
                    1163093654,
                    496795686,
                    363369738,
                    52135248,
                    78300654,
                    429829812,
                    127408954,
                    22581161,
                    999748277,
                    1355959075,
                    786181836,
                    176553476,
                    570515054,
                    1647990401,
                    153372011,
                    57876440,
                    256483385,
                    1214083358,
                    1755214421,
                    404562836,
                    373199958,
                    14780425,
                    39578178,
                    751134527,
                    1592909789,
                    635412045,
                    43857627,
                    2009094673,
                    39228929,
                    165484133,
                    157058870,
                    95131998,
                    685032533,
                    38411956,
                    127567540,
                    399686758,
                    983637508,
                    118482347,
                    882831184,
                    172825906,
                    1241559043,
                    29562220,
                    77309611,
                    1116995633,
                    838079900,
                    1163620694,
                    179659294,
                    36912123,
                    1205951614,
                    1791000570,
                    201660859,
                    607123776,
                    342897938,
                    601863821,
                    96273746,
                    430977451,
                    284819874,
                    2559529074,
                    681583126,
                    2594040133,
                    1687664027,
                    1089402494,
                    411747614,
                    255932395,
                    31873544,
                    1481349984,
                    2011464183,
                    621660989,
                    950906471,
                    1593270737,
                    1410088830,
                    1374581173,
                    1788326445,
                    1840364617,
                    143573775,
                    684675814,
                    1113838873,
                    1267333350,
                    3562543890,
                    1271293243,
                    265882712,
                    841749534,
                    47956378,
                    806397070,
                    1641426668,
                    2135158446,
                    350381515,
                    1264310836,
                    30343206,
                    405136812,
                    540654286,
                    397582059,
                    1479115056,
                    123124076,
                    65496046,
                    68616963,
                    232896922,
                    195576623,
                    345031710,
                    335074782,
                    76767396,
                    459276435,
                    822633917,
                    595900742,
                    175097833,
                    488386797,
                    1047480053,
                    153454328,
                    217672943,
                    457184829,
                    726434358,
                    1406111294,
                    145458418,
                    1424589568,
                    415932686,
                    988515741,
                    39893489,
                    118810253,
                    117747907,
                    293186992,
                    139681964,
                    123132751,
                    103762518,
                    91221625,
                    190490915,
                    185240616,
                    885093467,
                    137123880,
                    782369383,
                    502574952,
                    381161027,
                    466231982,
                    357580552,
                    1449799467,
                    173627354,
                    1829992958,
                    117206995,
                    52722996,
                    191945597,
                    743693613,
                    267789608,
                    449701773,
                    67070410,
                    165584767,
                    367814306,
                    156214700,
                    448843705,
                    972164968,
                    920045682,
                    2420461338,
                    244658767,
                    68216992,
                    1361425037,
                    148469433,
                    88791109,
                    125917280,
                    95623148,
                    144584800,
                    298063749,
                    166570053,
                    83021468,
                    303216294,
                    81419389,
                    156777415,
                    284908316,
                    363472647,
                    372476382,
                    56533272,
                    175399345,
                    203221468,
                    1624165576,
                    134294498,
                    70069745,
                    671365962,
                    1022258230,
                    147538971,
                    698086140,
                    723894473,
                    403097450,
                    319566866,
                    909001996,
                    124988687,
                    134255790,
                    301051721,
                    156338624,
                    309653982,
                    297328960,
                    332506354,
                    480507035,
                    122763672,
                    338564981,
                    1606986953,
                    1301799902,
                    107642809,
                    2303033973,
                    646886885,
                    872137015,
                    571386359,
                    284785823,
                    163284000,
                    246390068,
                    482257456,
                    168684524,
                    1260594497,
                    428685680,
                    1024858327,
                    838586769,
                    199386237,
                    210038833,
                    227918678,
                    826623384,
                    181831132,
                    348647203,
                    807561936,
                    663832097,
                    446390129,
                    485285717,
                    520034544,
                    476244795,
                    629173063,
                    404664135,
                    98709329,
                    110849052,
                    389771964,
                    403939487,
                    351636786,
                    73981293,
                    429504768,
                    242767149,
                    65362788,
                    67540165,
                    62019074,
                    135611421,
                    356709897,
                    301869854,
                    127027715,
                    57144458,
                    56870689,
                    317726339,
                    328207708,
                    49262961,
                    245350949,
                    178660459,
                    51641685,
                    391251368,
                    119238316,
                    116903579,
                    888046992,
                    130655803,
                    101114984,
                    53933526,
                    267758538,
                    74601456,
                    920797189,
                    1367810478,
                    63803529,
                    466214729,
                    41924466,
                    225259194,
                    287201015,
                    599770206,
                    342779426,
                    1168642797,
                    510876816,
                    108809090,
                    1143647827,
                    1256880657,
                    245095641,
                    null,
                    31959571,
                    824420218,
                    363467642,
                    1127468248,
                    247737946,
                    124407432,
                    850608354,
                    376333030,
                    516784627,
                    1608045237,
                    506778838,
                    1472799873,
                    513643924,
                    783706581,
                    1062345656,
                    851070493,
                    345903614,
                    156658366,
                    624515457,
                    777765388,
                    1138474110,
                    290228626,
                    1062956628,
                    1180094974,
                    1456081449,
                    432702334,
                    465959382,
                    2288695111,
                    2086124197,
                    1690192927,
                    71014967,
                    1806617704,
                    77337771,
                    865640097,
                    211372494,
                    608334048,
                    797402345,
                    1759567999,
                    246376690,
                    496311364,
                    500340342,
                    822239726,
                    1202722675,
                    343197054,
                    240769997,
                    421135627,
                    554875730,
                    185408548,
                    231996128,
                    1929770265,
                    498960285,
                    258714692,
                    50746620,
                    154119539,
                    181328253,
                    370068639,
                    2280566092,
                    563902868,
                    317622165,
                    203680270,
                    282883169,
                    1439191367,
                    368646862,
                    682475162,
                    546191065,
                    229473310,
                    202677468,
                    527033089,
                    394030335,
                    193443895,
                    299648208,
                    319757142,
                    346127840,
                    312622938,
                    1200808494,
                    797196073,
                    1970673297,
                    665765558,
                    263779030,
                    339473453,
                    135444283,
                    694525298,
                    421365166,
                    255120451,
                    190981339,
                    924193303,
                    305771063,
                    89566512,
                    677389855,
                    408843328,
                    101780047,
                    146363130,
                    126443991,
                    157990698,
                    1023187129,
                    139193812,
                    212234990,
                    1714490998,
                    807015863,
                    499710590,
                    53909146,
                    2236667932,
                    2123309722,
                    301242089,
                    723894473,
                    461558540,
                    156898322,
                    173702135,
                    305650299,
                    126191104,
                    338422004,
                    403231558,
                    61739839,
                    283359161,
                    283332261,
                    279737940,
                    212351890,
                    150500965,
                    246127838,
                    582863434,
                    382199619,
                    41210087,
                    231657891,
                    53729194,
                    244741137,
                    42485571,
                    37778188,
                    254218729,
                    53603447,
                    160035717,
                    37091576,
                    136996305,
                    65719930,
                    229497852,
                    185550869,
                    54682594,
                    1284942608,
                    71423324,
                    244891912,
                    132171975,
                    184706613,
                    184826429,
                    302006641,
                    330881149,
                    334733572,
                    366214458,
                    114546317,
                    448500832,
                    79095270,
                    273194684,
                    195918494,
                    233671263,
                    199587884,
                    91781263,
                    236060709,
                    189236868,
                    588955257,
                    238350348,
                    187703102,
                    445590495,
                    1122364376,
                    157136970,
                    183273246,
                    164856284,
                    704171068,
                    354614964,
                    195628667,
                    221752937,
                    263280370,
                    213505179,
                    155795783,
                    1553497987,
                    293466523,
                    191448892,
                    131746175,
                    244790012,
                    331511413,
                    179061440,
                    185236961,
                    171788484,
                    387080183,
                    264717480,
                    244928911,
                    97610446,
                    887906111,
                    239411309,
                    703301727,
                    189476119,
                    277132266,
                    278920007,
                    222410722,
                    185392587,
                    202452860,
                    1608164312,
                    624101957,
                    148461629,
                    380319238,
                    53987404,
                    115331792,
                    225093344,
                    170709584,
                    154356956,
                    723043854,
                    247689123,
                    176474912,
                    235549288,
                    85559365,
                    253650850,
                    223064273,
                    218320587,
                    177503916,
                    203436468,
                    93367537,
                    181382590,
                    91473363,
                    121871870,
                    96007391
                  ]
                }
              ],
              "layout": {
                "template": {
                  "data": {
                    "bar": [
                      {
                        "error_x": {
                          "color": "#2a3f5f"
                        },
                        "error_y": {
                          "color": "#2a3f5f"
                        },
                        "marker": {
                          "line": {
                            "color": "#E5ECF6",
                            "width": 0.5
                          },
                          "pattern": {
                            "fillmode": "overlay",
                            "size": 10,
                            "solidity": 0.2
                          }
                        },
                        "type": "bar"
                      }
                    ],
                    "barpolar": [
                      {
                        "marker": {
                          "line": {
                            "color": "#E5ECF6",
                            "width": 0.5
                          },
                          "pattern": {
                            "fillmode": "overlay",
                            "size": 10,
                            "solidity": 0.2
                          }
                        },
                        "type": "barpolar"
                      }
                    ],
                    "carpet": [
                      {
                        "aaxis": {
                          "endlinecolor": "#2a3f5f",
                          "gridcolor": "white",
                          "linecolor": "white",
                          "minorgridcolor": "white",
                          "startlinecolor": "#2a3f5f"
                        },
                        "baxis": {
                          "endlinecolor": "#2a3f5f",
                          "gridcolor": "white",
                          "linecolor": "white",
                          "minorgridcolor": "white",
                          "startlinecolor": "#2a3f5f"
                        },
                        "type": "carpet"
                      }
                    ],
                    "choropleth": [
                      {
                        "colorbar": {
                          "outlinewidth": 0,
                          "ticks": ""
                        },
                        "type": "choropleth"
                      }
                    ],
                    "contour": [
                      {
                        "colorbar": {
                          "outlinewidth": 0,
                          "ticks": ""
                        },
                        "colorscale": [
                          [
                            0,
                            "#0d0887"
                          ],
                          [
                            0.1111111111111111,
                            "#46039f"
                          ],
                          [
                            0.2222222222222222,
                            "#7201a8"
                          ],
                          [
                            0.3333333333333333,
                            "#9c179e"
                          ],
                          [
                            0.4444444444444444,
                            "#bd3786"
                          ],
                          [
                            0.5555555555555556,
                            "#d8576b"
                          ],
                          [
                            0.6666666666666666,
                            "#ed7953"
                          ],
                          [
                            0.7777777777777778,
                            "#fb9f3a"
                          ],
                          [
                            0.8888888888888888,
                            "#fdca26"
                          ],
                          [
                            1,
                            "#f0f921"
                          ]
                        ],
                        "type": "contour"
                      }
                    ],
                    "contourcarpet": [
                      {
                        "colorbar": {
                          "outlinewidth": 0,
                          "ticks": ""
                        },
                        "type": "contourcarpet"
                      }
                    ],
                    "heatmap": [
                      {
                        "colorbar": {
                          "outlinewidth": 0,
                          "ticks": ""
                        },
                        "colorscale": [
                          [
                            0,
                            "#0d0887"
                          ],
                          [
                            0.1111111111111111,
                            "#46039f"
                          ],
                          [
                            0.2222222222222222,
                            "#7201a8"
                          ],
                          [
                            0.3333333333333333,
                            "#9c179e"
                          ],
                          [
                            0.4444444444444444,
                            "#bd3786"
                          ],
                          [
                            0.5555555555555556,
                            "#d8576b"
                          ],
                          [
                            0.6666666666666666,
                            "#ed7953"
                          ],
                          [
                            0.7777777777777778,
                            "#fb9f3a"
                          ],
                          [
                            0.8888888888888888,
                            "#fdca26"
                          ],
                          [
                            1,
                            "#f0f921"
                          ]
                        ],
                        "type": "heatmap"
                      }
                    ],
                    "heatmapgl": [
                      {
                        "colorbar": {
                          "outlinewidth": 0,
                          "ticks": ""
                        },
                        "colorscale": [
                          [
                            0,
                            "#0d0887"
                          ],
                          [
                            0.1111111111111111,
                            "#46039f"
                          ],
                          [
                            0.2222222222222222,
                            "#7201a8"
                          ],
                          [
                            0.3333333333333333,
                            "#9c179e"
                          ],
                          [
                            0.4444444444444444,
                            "#bd3786"
                          ],
                          [
                            0.5555555555555556,
                            "#d8576b"
                          ],
                          [
                            0.6666666666666666,
                            "#ed7953"
                          ],
                          [
                            0.7777777777777778,
                            "#fb9f3a"
                          ],
                          [
                            0.8888888888888888,
                            "#fdca26"
                          ],
                          [
                            1,
                            "#f0f921"
                          ]
                        ],
                        "type": "heatmapgl"
                      }
                    ],
                    "histogram": [
                      {
                        "marker": {
                          "pattern": {
                            "fillmode": "overlay",
                            "size": 10,
                            "solidity": 0.2
                          }
                        },
                        "type": "histogram"
                      }
                    ],
                    "histogram2d": [
                      {
                        "colorbar": {
                          "outlinewidth": 0,
                          "ticks": ""
                        },
                        "colorscale": [
                          [
                            0,
                            "#0d0887"
                          ],
                          [
                            0.1111111111111111,
                            "#46039f"
                          ],
                          [
                            0.2222222222222222,
                            "#7201a8"
                          ],
                          [
                            0.3333333333333333,
                            "#9c179e"
                          ],
                          [
                            0.4444444444444444,
                            "#bd3786"
                          ],
                          [
                            0.5555555555555556,
                            "#d8576b"
                          ],
                          [
                            0.6666666666666666,
                            "#ed7953"
                          ],
                          [
                            0.7777777777777778,
                            "#fb9f3a"
                          ],
                          [
                            0.8888888888888888,
                            "#fdca26"
                          ],
                          [
                            1,
                            "#f0f921"
                          ]
                        ],
                        "type": "histogram2d"
                      }
                    ],
                    "histogram2dcontour": [
                      {
                        "colorbar": {
                          "outlinewidth": 0,
                          "ticks": ""
                        },
                        "colorscale": [
                          [
                            0,
                            "#0d0887"
                          ],
                          [
                            0.1111111111111111,
                            "#46039f"
                          ],
                          [
                            0.2222222222222222,
                            "#7201a8"
                          ],
                          [
                            0.3333333333333333,
                            "#9c179e"
                          ],
                          [
                            0.4444444444444444,
                            "#bd3786"
                          ],
                          [
                            0.5555555555555556,
                            "#d8576b"
                          ],
                          [
                            0.6666666666666666,
                            "#ed7953"
                          ],
                          [
                            0.7777777777777778,
                            "#fb9f3a"
                          ],
                          [
                            0.8888888888888888,
                            "#fdca26"
                          ],
                          [
                            1,
                            "#f0f921"
                          ]
                        ],
                        "type": "histogram2dcontour"
                      }
                    ],
                    "mesh3d": [
                      {
                        "colorbar": {
                          "outlinewidth": 0,
                          "ticks": ""
                        },
                        "type": "mesh3d"
                      }
                    ],
                    "parcoords": [
                      {
                        "line": {
                          "colorbar": {
                            "outlinewidth": 0,
                            "ticks": ""
                          }
                        },
                        "type": "parcoords"
                      }
                    ],
                    "pie": [
                      {
                        "automargin": true,
                        "type": "pie"
                      }
                    ],
                    "scatter": [
                      {
                        "fillpattern": {
                          "fillmode": "overlay",
                          "size": 10,
                          "solidity": 0.2
                        },
                        "type": "scatter"
                      }
                    ],
                    "scatter3d": [
                      {
                        "line": {
                          "colorbar": {
                            "outlinewidth": 0,
                            "ticks": ""
                          }
                        },
                        "marker": {
                          "colorbar": {
                            "outlinewidth": 0,
                            "ticks": ""
                          }
                        },
                        "type": "scatter3d"
                      }
                    ],
                    "scattercarpet": [
                      {
                        "marker": {
                          "colorbar": {
                            "outlinewidth": 0,
                            "ticks": ""
                          }
                        },
                        "type": "scattercarpet"
                      }
                    ],
                    "scattergeo": [
                      {
                        "marker": {
                          "colorbar": {
                            "outlinewidth": 0,
                            "ticks": ""
                          }
                        },
                        "type": "scattergeo"
                      }
                    ],
                    "scattergl": [
                      {
                        "marker": {
                          "colorbar": {
                            "outlinewidth": 0,
                            "ticks": ""
                          }
                        },
                        "type": "scattergl"
                      }
                    ],
                    "scattermapbox": [
                      {
                        "marker": {
                          "colorbar": {
                            "outlinewidth": 0,
                            "ticks": ""
                          }
                        },
                        "type": "scattermapbox"
                      }
                    ],
                    "scatterpolar": [
                      {
                        "marker": {
                          "colorbar": {
                            "outlinewidth": 0,
                            "ticks": ""
                          }
                        },
                        "type": "scatterpolar"
                      }
                    ],
                    "scatterpolargl": [
                      {
                        "marker": {
                          "colorbar": {
                            "outlinewidth": 0,
                            "ticks": ""
                          }
                        },
                        "type": "scatterpolargl"
                      }
                    ],
                    "scatterternary": [
                      {
                        "marker": {
                          "colorbar": {
                            "outlinewidth": 0,
                            "ticks": ""
                          }
                        },
                        "type": "scatterternary"
                      }
                    ],
                    "surface": [
                      {
                        "colorbar": {
                          "outlinewidth": 0,
                          "ticks": ""
                        },
                        "colorscale": [
                          [
                            0,
                            "#0d0887"
                          ],
                          [
                            0.1111111111111111,
                            "#46039f"
                          ],
                          [
                            0.2222222222222222,
                            "#7201a8"
                          ],
                          [
                            0.3333333333333333,
                            "#9c179e"
                          ],
                          [
                            0.4444444444444444,
                            "#bd3786"
                          ],
                          [
                            0.5555555555555556,
                            "#d8576b"
                          ],
                          [
                            0.6666666666666666,
                            "#ed7953"
                          ],
                          [
                            0.7777777777777778,
                            "#fb9f3a"
                          ],
                          [
                            0.8888888888888888,
                            "#fdca26"
                          ],
                          [
                            1,
                            "#f0f921"
                          ]
                        ],
                        "type": "surface"
                      }
                    ],
                    "table": [
                      {
                        "cells": {
                          "fill": {
                            "color": "#EBF0F8"
                          },
                          "line": {
                            "color": "white"
                          }
                        },
                        "header": {
                          "fill": {
                            "color": "#C8D4E3"
                          },
                          "line": {
                            "color": "white"
                          }
                        },
                        "type": "table"
                      }
                    ]
                  },
                  "layout": {
                    "annotationdefaults": {
                      "arrowcolor": "#2a3f5f",
                      "arrowhead": 0,
                      "arrowwidth": 1
                    },
                    "autotypenumbers": "strict",
                    "coloraxis": {
                      "colorbar": {
                        "outlinewidth": 0,
                        "ticks": ""
                      }
                    },
                    "colorscale": {
                      "diverging": [
                        [
                          0,
                          "#8e0152"
                        ],
                        [
                          0.1,
                          "#c51b7d"
                        ],
                        [
                          0.2,
                          "#de77ae"
                        ],
                        [
                          0.3,
                          "#f1b6da"
                        ],
                        [
                          0.4,
                          "#fde0ef"
                        ],
                        [
                          0.5,
                          "#f7f7f7"
                        ],
                        [
                          0.6,
                          "#e6f5d0"
                        ],
                        [
                          0.7,
                          "#b8e186"
                        ],
                        [
                          0.8,
                          "#7fbc41"
                        ],
                        [
                          0.9,
                          "#4d9221"
                        ],
                        [
                          1,
                          "#276419"
                        ]
                      ],
                      "sequential": [
                        [
                          0,
                          "#0d0887"
                        ],
                        [
                          0.1111111111111111,
                          "#46039f"
                        ],
                        [
                          0.2222222222222222,
                          "#7201a8"
                        ],
                        [
                          0.3333333333333333,
                          "#9c179e"
                        ],
                        [
                          0.4444444444444444,
                          "#bd3786"
                        ],
                        [
                          0.5555555555555556,
                          "#d8576b"
                        ],
                        [
                          0.6666666666666666,
                          "#ed7953"
                        ],
                        [
                          0.7777777777777778,
                          "#fb9f3a"
                        ],
                        [
                          0.8888888888888888,
                          "#fdca26"
                        ],
                        [
                          1,
                          "#f0f921"
                        ]
                      ],
                      "sequentialminus": [
                        [
                          0,
                          "#0d0887"
                        ],
                        [
                          0.1111111111111111,
                          "#46039f"
                        ],
                        [
                          0.2222222222222222,
                          "#7201a8"
                        ],
                        [
                          0.3333333333333333,
                          "#9c179e"
                        ],
                        [
                          0.4444444444444444,
                          "#bd3786"
                        ],
                        [
                          0.5555555555555556,
                          "#d8576b"
                        ],
                        [
                          0.6666666666666666,
                          "#ed7953"
                        ],
                        [
                          0.7777777777777778,
                          "#fb9f3a"
                        ],
                        [
                          0.8888888888888888,
                          "#fdca26"
                        ],
                        [
                          1,
                          "#f0f921"
                        ]
                      ]
                    },
                    "colorway": [
                      "#636efa",
                      "#EF553B",
                      "#00cc96",
                      "#ab63fa",
                      "#FFA15A",
                      "#19d3f3",
                      "#FF6692",
                      "#B6E880",
                      "#FF97FF",
                      "#FECB52"
                    ],
                    "font": {
                      "color": "#2a3f5f"
                    },
                    "geo": {
                      "bgcolor": "white",
                      "lakecolor": "white",
                      "landcolor": "#E5ECF6",
                      "showlakes": true,
                      "showland": true,
                      "subunitcolor": "white"
                    },
                    "hoverlabel": {
                      "align": "left"
                    },
                    "hovermode": "closest",
                    "mapbox": {
                      "style": "light"
                    },
                    "paper_bgcolor": "white",
                    "plot_bgcolor": "#E5ECF6",
                    "polar": {
                      "angularaxis": {
                        "gridcolor": "white",
                        "linecolor": "white",
                        "ticks": ""
                      },
                      "bgcolor": "#E5ECF6",
                      "radialaxis": {
                        "gridcolor": "white",
                        "linecolor": "white",
                        "ticks": ""
                      }
                    },
                    "scene": {
                      "xaxis": {
                        "backgroundcolor": "#E5ECF6",
                        "gridcolor": "white",
                        "gridwidth": 2,
                        "linecolor": "white",
                        "showbackground": true,
                        "ticks": "",
                        "zerolinecolor": "white"
                      },
                      "yaxis": {
                        "backgroundcolor": "#E5ECF6",
                        "gridcolor": "white",
                        "gridwidth": 2,
                        "linecolor": "white",
                        "showbackground": true,
                        "ticks": "",
                        "zerolinecolor": "white"
                      },
                      "zaxis": {
                        "backgroundcolor": "#E5ECF6",
                        "gridcolor": "white",
                        "gridwidth": 2,
                        "linecolor": "white",
                        "showbackground": true,
                        "ticks": "",
                        "zerolinecolor": "white"
                      }
                    },
                    "shapedefaults": {
                      "line": {
                        "color": "#2a3f5f"
                      }
                    },
                    "ternary": {
                      "aaxis": {
                        "gridcolor": "white",
                        "linecolor": "white",
                        "ticks": ""
                      },
                      "baxis": {
                        "gridcolor": "white",
                        "linecolor": "white",
                        "ticks": ""
                      },
                      "bgcolor": "#E5ECF6",
                      "caxis": {
                        "gridcolor": "white",
                        "linecolor": "white",
                        "ticks": ""
                      }
                    },
                    "title": {
                      "x": 0.05
                    },
                    "xaxis": {
                      "automargin": true,
                      "gridcolor": "white",
                      "linecolor": "white",
                      "ticks": "",
                      "title": {
                        "standoff": 15
                      },
                      "zerolinecolor": "white",
                      "zerolinewidth": 2
                    },
                    "yaxis": {
                      "automargin": true,
                      "gridcolor": "white",
                      "linecolor": "white",
                      "ticks": "",
                      "title": {
                        "standoff": 15
                      },
                      "zerolinecolor": "white",
                      "zerolinewidth": 2
                    }
                  }
                },
                "title": {
                  "text": "Distribución de reproducciones"
                },
                "yaxis": {
                  "title": {
                    "text": ""
                  }
                }
              }
            }
          },
          "metadata": {},
          "output_type": "display_data"
        },
        {
          "data": {
            "text/plain": [
              "TtestResult(statistic=-2.824056811668969, pvalue=0.004935201415216841, df=490.0)"
            ]
          },
          "execution_count": 15,
          "metadata": {},
          "output_type": "execute_result"
        }
      ],
      "source": [
        "df['more_two_artists'] = df[\"artist_count\"] > 1\n",
        "df.head()\n",
        "\n",
        "# Distributions for each group\n",
        "print(df[df['more_two_artists'] == True]['streams'].describe())\n",
        "print(df[df['more_two_artists'] == False]['streams'].describe())\n",
        "\n",
        "# Boxplot\n",
        "fig = go.Figure()\n",
        "\n",
        "fig.add_trace(\n",
        "    go.Box(\n",
        "        x = df[df['more_two_artists'] == True][\"streams\"],\n",
        "        marker_color = \"gold\",\n",
        "        name = \"Más de dos\",\n",
        "        boxpoints='all',\n",
        "        boxmean=True\n",
        "    )\n",
        ")\n",
        "\n",
        "fig.add_trace(\n",
        "    go.Box(\n",
        "        x = df[df['more_two_artists'] == False][\"streams\"],\n",
        "        marker_color = \"mediumseagreen\",\n",
        "        name = \"Un solo artista\",\n",
        "        boxpoints='all',\n",
        "        boxmean=True\n",
        "    )\n",
        ")\n",
        "\n",
        "fig.update_layout(title = \"Distribución de reproducciones\", yaxis_title = \"\")\n",
        "\n",
        "fig.show()\n",
        "\n",
        "# T-test\n",
        "from scipy.stats import ttest_ind\n",
        "\n",
        "group1 = df[df['more_two_artists'] == True]['streams']\n",
        "group2 = df[df['more_two_artists'] == False]['streams']\n",
        "\n",
        "ttest_ind(group1.dropna(), group2.dropna(), trim=.2)\n"
      ]
    },
    {
      "cell_type": "markdown",
      "metadata": {
        "id": "7Gxx2up6-wI4"
      },
      "source": [
        "e) ¿Cuáles son las propiedades de una canción que mejor correlan con el número de reproducciones de una canción? **(0.5 puntos)**\n"
      ]
    },
    {
      "cell_type": "code",
      "execution_count": 16,
      "metadata": {
        "colab": {
          "base_uri": "https://localhost:8080/",
          "height": 1000
        },
        "id": "Myi69BEt-25C",
        "outputId": "4b81169c-c18c-46df-834a-b98e2017dc9d"
      },
      "outputs": [
        {
          "ename": "ValueError",
          "evalue": "could not convert string to float: 'Seven (feat. Latto) (Explicit Ver.)'",
          "output_type": "error",
          "traceback": [
            "\u001b[0;31m---------------------------------------------------------------------------\u001b[0m",
            "\u001b[0;31mValueError\u001b[0m                                Traceback (most recent call last)",
            "\u001b[1;32m/Users/ytobio/Desktop/My stuff/ICAI/Desarrollo de Aplicaciones Visuales/Temario + Ejercicios/davd-YagoTobio/Prueba_Intertrimestral/Prueba_intertrimestral_solucion_18102023.ipynb Cell 34\u001b[0m line \u001b[0;36m1\n\u001b[0;32m----> <a href='vscode-notebook-cell:/Users/ytobio/Desktop/My%20stuff/ICAI/Desarrollo%20de%20Aplicaciones%20Visuales/Temario%20%2B%20Ejercicios/davd-YagoTobio/Prueba_Intertrimestral/Prueba_intertrimestral_solucion_18102023.ipynb#X45sZmlsZQ%3D%3D?line=0'>1</a>\u001b[0m \u001b[39mprint\u001b[39m(df\u001b[39m.\u001b[39;49mcorr())\n\u001b[1;32m      <a href='vscode-notebook-cell:/Users/ytobio/Desktop/My%20stuff/ICAI/Desarrollo%20de%20Aplicaciones%20Visuales/Temario%20%2B%20Ejercicios/davd-YagoTobio/Prueba_Intertrimestral/Prueba_intertrimestral_solucion_18102023.ipynb#X45sZmlsZQ%3D%3D?line=1'>2</a>\u001b[0m px\u001b[39m.\u001b[39mimshow(df\u001b[39m.\u001b[39mcorr())\n",
            "File \u001b[0;32m/Library/Frameworks/Python.framework/Versions/3.11/lib/python3.11/site-packages/pandas/core/frame.py:10704\u001b[0m, in \u001b[0;36mDataFrame.corr\u001b[0;34m(self, method, min_periods, numeric_only)\u001b[0m\n\u001b[1;32m  10702\u001b[0m cols \u001b[39m=\u001b[39m data\u001b[39m.\u001b[39mcolumns\n\u001b[1;32m  10703\u001b[0m idx \u001b[39m=\u001b[39m cols\u001b[39m.\u001b[39mcopy()\n\u001b[0;32m> 10704\u001b[0m mat \u001b[39m=\u001b[39m data\u001b[39m.\u001b[39;49mto_numpy(dtype\u001b[39m=\u001b[39;49m\u001b[39mfloat\u001b[39;49m, na_value\u001b[39m=\u001b[39;49mnp\u001b[39m.\u001b[39;49mnan, copy\u001b[39m=\u001b[39;49m\u001b[39mFalse\u001b[39;49;00m)\n\u001b[1;32m  10706\u001b[0m \u001b[39mif\u001b[39;00m method \u001b[39m==\u001b[39m \u001b[39m\"\u001b[39m\u001b[39mpearson\u001b[39m\u001b[39m\"\u001b[39m:\n\u001b[1;32m  10707\u001b[0m     correl \u001b[39m=\u001b[39m libalgos\u001b[39m.\u001b[39mnancorr(mat, minp\u001b[39m=\u001b[39mmin_periods)\n",
            "File \u001b[0;32m/Library/Frameworks/Python.framework/Versions/3.11/lib/python3.11/site-packages/pandas/core/frame.py:1889\u001b[0m, in \u001b[0;36mDataFrame.to_numpy\u001b[0;34m(self, dtype, copy, na_value)\u001b[0m\n\u001b[1;32m   1887\u001b[0m \u001b[39mif\u001b[39;00m dtype \u001b[39mis\u001b[39;00m \u001b[39mnot\u001b[39;00m \u001b[39mNone\u001b[39;00m:\n\u001b[1;32m   1888\u001b[0m     dtype \u001b[39m=\u001b[39m np\u001b[39m.\u001b[39mdtype(dtype)\n\u001b[0;32m-> 1889\u001b[0m result \u001b[39m=\u001b[39m \u001b[39mself\u001b[39;49m\u001b[39m.\u001b[39;49m_mgr\u001b[39m.\u001b[39;49mas_array(dtype\u001b[39m=\u001b[39;49mdtype, copy\u001b[39m=\u001b[39;49mcopy, na_value\u001b[39m=\u001b[39;49mna_value)\n\u001b[1;32m   1890\u001b[0m \u001b[39mif\u001b[39;00m result\u001b[39m.\u001b[39mdtype \u001b[39mis\u001b[39;00m \u001b[39mnot\u001b[39;00m dtype:\n\u001b[1;32m   1891\u001b[0m     result \u001b[39m=\u001b[39m np\u001b[39m.\u001b[39marray(result, dtype\u001b[39m=\u001b[39mdtype, copy\u001b[39m=\u001b[39m\u001b[39mFalse\u001b[39;00m)\n",
            "File \u001b[0;32m/Library/Frameworks/Python.framework/Versions/3.11/lib/python3.11/site-packages/pandas/core/internals/managers.py:1656\u001b[0m, in \u001b[0;36mBlockManager.as_array\u001b[0;34m(self, dtype, copy, na_value)\u001b[0m\n\u001b[1;32m   1654\u001b[0m         arr\u001b[39m.\u001b[39mflags\u001b[39m.\u001b[39mwriteable \u001b[39m=\u001b[39m \u001b[39mFalse\u001b[39;00m\n\u001b[1;32m   1655\u001b[0m \u001b[39melse\u001b[39;00m:\n\u001b[0;32m-> 1656\u001b[0m     arr \u001b[39m=\u001b[39m \u001b[39mself\u001b[39;49m\u001b[39m.\u001b[39;49m_interleave(dtype\u001b[39m=\u001b[39;49mdtype, na_value\u001b[39m=\u001b[39;49mna_value)\n\u001b[1;32m   1657\u001b[0m     \u001b[39m# The underlying data was copied within _interleave, so no need\u001b[39;00m\n\u001b[1;32m   1658\u001b[0m     \u001b[39m# to further copy if copy=True or setting na_value\u001b[39;00m\n\u001b[1;32m   1660\u001b[0m \u001b[39mif\u001b[39;00m na_value \u001b[39mis\u001b[39;00m lib\u001b[39m.\u001b[39mno_default:\n",
            "File \u001b[0;32m/Library/Frameworks/Python.framework/Versions/3.11/lib/python3.11/site-packages/pandas/core/internals/managers.py:1715\u001b[0m, in \u001b[0;36mBlockManager._interleave\u001b[0;34m(self, dtype, na_value)\u001b[0m\n\u001b[1;32m   1713\u001b[0m     \u001b[39melse\u001b[39;00m:\n\u001b[1;32m   1714\u001b[0m         arr \u001b[39m=\u001b[39m blk\u001b[39m.\u001b[39mget_values(dtype)\n\u001b[0;32m-> 1715\u001b[0m     result[rl\u001b[39m.\u001b[39;49mindexer] \u001b[39m=\u001b[39m arr\n\u001b[1;32m   1716\u001b[0m     itemmask[rl\u001b[39m.\u001b[39mindexer] \u001b[39m=\u001b[39m \u001b[39m1\u001b[39m\n\u001b[1;32m   1718\u001b[0m \u001b[39mif\u001b[39;00m \u001b[39mnot\u001b[39;00m itemmask\u001b[39m.\u001b[39mall():\n",
            "\u001b[0;31mValueError\u001b[0m: could not convert string to float: 'Seven (feat. Latto) (Explicit Ver.)'"
          ]
        }
      ],
      "source": [
        "print(df.corr())\n",
        "px.imshow(df.corr())"
      ]
    },
    {
      "cell_type": "markdown",
      "metadata": {
        "id": "xCSqL29HAClc"
      },
      "source": [
        "f) ¿Cuáles son las variables que mejor predicen un hit? **(1 puntos)**"
      ]
    },
    {
      "cell_type": "code",
      "execution_count": null,
      "metadata": {
        "colab": {
          "base_uri": "https://localhost:8080/",
          "height": 1000
        },
        "id": "aqkwgxRpAFM0",
        "outputId": "ad0957df-463e-4256-e94b-ccca983bb6ef"
      },
      "outputs": [
        {
          "name": "stdout",
          "output_type": "stream",
          "text": [
            "count       817\n",
            "unique        2\n",
            "top       False\n",
            "freq        409\n",
            "Name: hit, dtype: object\n",
            "   bpm  danceability_%  valence_%  energy_%  acousticness_%  \\\n",
            "0  125              80         89        83              31   \n",
            "1   92              71         61        74               7   \n",
            "2  138              51         32        53              17   \n",
            "3  170              55         58        72              11   \n",
            "4  144              65         23        80              14   \n",
            "\n",
            "   instrumentalness_%  liveness_%  speechiness_%  more_two_artists  \\\n",
            "0                   0           8              4              True   \n",
            "1                   0          10              4             False   \n",
            "2                   0          31              6             False   \n",
            "3                   0          11             15             False   \n",
            "4                  63          11              6             False   \n",
            "\n",
            "   artist_count  \n",
            "0             2  \n",
            "1             1  \n",
            "2             1  \n",
            "3             1  \n",
            "4             1  \n",
            "Classification report\n",
            "              precision    recall  f1-score   support\n",
            "\n",
            "       False       0.56      0.46      0.50        85\n",
            "        True       0.51      0.61      0.55        79\n",
            "\n",
            "    accuracy                           0.53       164\n",
            "   macro avg       0.53      0.53      0.53       164\n",
            "weighted avg       0.53      0.53      0.53       164\n",
            "\n",
            "Confusion matrix\n",
            "[[39 46]\n",
            " [31 48]]\n"
          ]
        },
        {
          "data": {
            "text/html": [
              "<html>\n",
              "<head><meta charset=\"utf-8\" /></head>\n",
              "<body>\n",
              "    <div>            <script src=\"https://cdnjs.cloudflare.com/ajax/libs/mathjax/2.7.5/MathJax.js?config=TeX-AMS-MML_SVG\"></script><script type=\"text/javascript\">if (window.MathJax && window.MathJax.Hub && window.MathJax.Hub.Config) {window.MathJax.Hub.Config({SVG: {font: \"STIX-Web\"}});}</script>                <script type=\"text/javascript\">window.PlotlyConfig = {MathJaxConfig: 'local'};</script>\n",
              "        <script charset=\"utf-8\" src=\"https://cdn.plot.ly/plotly-2.24.1.min.js\"></script>                <div id=\"4e5527be-1f61-4479-a54e-c151c0337397\" class=\"plotly-graph-div\" style=\"height:525px; width:100%;\"></div>            <script type=\"text/javascript\">                                    window.PLOTLYENV=window.PLOTLYENV || {};                                    if (document.getElementById(\"4e5527be-1f61-4479-a54e-c151c0337397\")) {                    Plotly.newPlot(                        \"4e5527be-1f61-4479-a54e-c151c0337397\",                        [{\"name\":\"Coeficientes\",\"orientation\":\"h\",\"x\":[0.013904148510895269,-0.18509228412689324,-0.040399893983116046,-0.09707081346156671,-0.10060661363510985,-0.0354966206131804,-0.1867299778749886,-0.20045966225636971,0.09809419182712095,-0.25040300829872997],\"y\":[\"bpm\",\"danceability_%\",\"valence_%\",\"energy_%\",\"acousticness_%\",\"instrumentalness_%\",\"liveness_%\",\"speechiness_%\",\"more_two_artists\",\"artist_count\"],\"type\":\"bar\"}],                        {\"template\":{\"data\":{\"histogram2dcontour\":[{\"type\":\"histogram2dcontour\",\"colorbar\":{\"outlinewidth\":0,\"ticks\":\"\"},\"colorscale\":[[0.0,\"#0d0887\"],[0.1111111111111111,\"#46039f\"],[0.2222222222222222,\"#7201a8\"],[0.3333333333333333,\"#9c179e\"],[0.4444444444444444,\"#bd3786\"],[0.5555555555555556,\"#d8576b\"],[0.6666666666666666,\"#ed7953\"],[0.7777777777777778,\"#fb9f3a\"],[0.8888888888888888,\"#fdca26\"],[1.0,\"#f0f921\"]]}],\"choropleth\":[{\"type\":\"choropleth\",\"colorbar\":{\"outlinewidth\":0,\"ticks\":\"\"}}],\"histogram2d\":[{\"type\":\"histogram2d\",\"colorbar\":{\"outlinewidth\":0,\"ticks\":\"\"},\"colorscale\":[[0.0,\"#0d0887\"],[0.1111111111111111,\"#46039f\"],[0.2222222222222222,\"#7201a8\"],[0.3333333333333333,\"#9c179e\"],[0.4444444444444444,\"#bd3786\"],[0.5555555555555556,\"#d8576b\"],[0.6666666666666666,\"#ed7953\"],[0.7777777777777778,\"#fb9f3a\"],[0.8888888888888888,\"#fdca26\"],[1.0,\"#f0f921\"]]}],\"heatmap\":[{\"type\":\"heatmap\",\"colorbar\":{\"outlinewidth\":0,\"ticks\":\"\"},\"colorscale\":[[0.0,\"#0d0887\"],[0.1111111111111111,\"#46039f\"],[0.2222222222222222,\"#7201a8\"],[0.3333333333333333,\"#9c179e\"],[0.4444444444444444,\"#bd3786\"],[0.5555555555555556,\"#d8576b\"],[0.6666666666666666,\"#ed7953\"],[0.7777777777777778,\"#fb9f3a\"],[0.8888888888888888,\"#fdca26\"],[1.0,\"#f0f921\"]]}],\"heatmapgl\":[{\"type\":\"heatmapgl\",\"colorbar\":{\"outlinewidth\":0,\"ticks\":\"\"},\"colorscale\":[[0.0,\"#0d0887\"],[0.1111111111111111,\"#46039f\"],[0.2222222222222222,\"#7201a8\"],[0.3333333333333333,\"#9c179e\"],[0.4444444444444444,\"#bd3786\"],[0.5555555555555556,\"#d8576b\"],[0.6666666666666666,\"#ed7953\"],[0.7777777777777778,\"#fb9f3a\"],[0.8888888888888888,\"#fdca26\"],[1.0,\"#f0f921\"]]}],\"contourcarpet\":[{\"type\":\"contourcarpet\",\"colorbar\":{\"outlinewidth\":0,\"ticks\":\"\"}}],\"contour\":[{\"type\":\"contour\",\"colorbar\":{\"outlinewidth\":0,\"ticks\":\"\"},\"colorscale\":[[0.0,\"#0d0887\"],[0.1111111111111111,\"#46039f\"],[0.2222222222222222,\"#7201a8\"],[0.3333333333333333,\"#9c179e\"],[0.4444444444444444,\"#bd3786\"],[0.5555555555555556,\"#d8576b\"],[0.6666666666666666,\"#ed7953\"],[0.7777777777777778,\"#fb9f3a\"],[0.8888888888888888,\"#fdca26\"],[1.0,\"#f0f921\"]]}],\"surface\":[{\"type\":\"surface\",\"colorbar\":{\"outlinewidth\":0,\"ticks\":\"\"},\"colorscale\":[[0.0,\"#0d0887\"],[0.1111111111111111,\"#46039f\"],[0.2222222222222222,\"#7201a8\"],[0.3333333333333333,\"#9c179e\"],[0.4444444444444444,\"#bd3786\"],[0.5555555555555556,\"#d8576b\"],[0.6666666666666666,\"#ed7953\"],[0.7777777777777778,\"#fb9f3a\"],[0.8888888888888888,\"#fdca26\"],[1.0,\"#f0f921\"]]}],\"mesh3d\":[{\"type\":\"mesh3d\",\"colorbar\":{\"outlinewidth\":0,\"ticks\":\"\"}}],\"scatter\":[{\"fillpattern\":{\"fillmode\":\"overlay\",\"size\":10,\"solidity\":0.2},\"type\":\"scatter\"}],\"parcoords\":[{\"type\":\"parcoords\",\"line\":{\"colorbar\":{\"outlinewidth\":0,\"ticks\":\"\"}}}],\"scatterpolargl\":[{\"type\":\"scatterpolargl\",\"marker\":{\"colorbar\":{\"outlinewidth\":0,\"ticks\":\"\"}}}],\"bar\":[{\"error_x\":{\"color\":\"#2a3f5f\"},\"error_y\":{\"color\":\"#2a3f5f\"},\"marker\":{\"line\":{\"color\":\"#E5ECF6\",\"width\":0.5},\"pattern\":{\"fillmode\":\"overlay\",\"size\":10,\"solidity\":0.2}},\"type\":\"bar\"}],\"scattergeo\":[{\"type\":\"scattergeo\",\"marker\":{\"colorbar\":{\"outlinewidth\":0,\"ticks\":\"\"}}}],\"scatterpolar\":[{\"type\":\"scatterpolar\",\"marker\":{\"colorbar\":{\"outlinewidth\":0,\"ticks\":\"\"}}}],\"histogram\":[{\"marker\":{\"pattern\":{\"fillmode\":\"overlay\",\"size\":10,\"solidity\":0.2}},\"type\":\"histogram\"}],\"scattergl\":[{\"type\":\"scattergl\",\"marker\":{\"colorbar\":{\"outlinewidth\":0,\"ticks\":\"\"}}}],\"scatter3d\":[{\"type\":\"scatter3d\",\"line\":{\"colorbar\":{\"outlinewidth\":0,\"ticks\":\"\"}},\"marker\":{\"colorbar\":{\"outlinewidth\":0,\"ticks\":\"\"}}}],\"scattermapbox\":[{\"type\":\"scattermapbox\",\"marker\":{\"colorbar\":{\"outlinewidth\":0,\"ticks\":\"\"}}}],\"scatterternary\":[{\"type\":\"scatterternary\",\"marker\":{\"colorbar\":{\"outlinewidth\":0,\"ticks\":\"\"}}}],\"scattercarpet\":[{\"type\":\"scattercarpet\",\"marker\":{\"colorbar\":{\"outlinewidth\":0,\"ticks\":\"\"}}}],\"carpet\":[{\"aaxis\":{\"endlinecolor\":\"#2a3f5f\",\"gridcolor\":\"white\",\"linecolor\":\"white\",\"minorgridcolor\":\"white\",\"startlinecolor\":\"#2a3f5f\"},\"baxis\":{\"endlinecolor\":\"#2a3f5f\",\"gridcolor\":\"white\",\"linecolor\":\"white\",\"minorgridcolor\":\"white\",\"startlinecolor\":\"#2a3f5f\"},\"type\":\"carpet\"}],\"table\":[{\"cells\":{\"fill\":{\"color\":\"#EBF0F8\"},\"line\":{\"color\":\"white\"}},\"header\":{\"fill\":{\"color\":\"#C8D4E3\"},\"line\":{\"color\":\"white\"}},\"type\":\"table\"}],\"barpolar\":[{\"marker\":{\"line\":{\"color\":\"#E5ECF6\",\"width\":0.5},\"pattern\":{\"fillmode\":\"overlay\",\"size\":10,\"solidity\":0.2}},\"type\":\"barpolar\"}],\"pie\":[{\"automargin\":true,\"type\":\"pie\"}]},\"layout\":{\"autotypenumbers\":\"strict\",\"colorway\":[\"#636efa\",\"#EF553B\",\"#00cc96\",\"#ab63fa\",\"#FFA15A\",\"#19d3f3\",\"#FF6692\",\"#B6E880\",\"#FF97FF\",\"#FECB52\"],\"font\":{\"color\":\"#2a3f5f\"},\"hovermode\":\"closest\",\"hoverlabel\":{\"align\":\"left\"},\"paper_bgcolor\":\"white\",\"plot_bgcolor\":\"#E5ECF6\",\"polar\":{\"bgcolor\":\"#E5ECF6\",\"angularaxis\":{\"gridcolor\":\"white\",\"linecolor\":\"white\",\"ticks\":\"\"},\"radialaxis\":{\"gridcolor\":\"white\",\"linecolor\":\"white\",\"ticks\":\"\"}},\"ternary\":{\"bgcolor\":\"#E5ECF6\",\"aaxis\":{\"gridcolor\":\"white\",\"linecolor\":\"white\",\"ticks\":\"\"},\"baxis\":{\"gridcolor\":\"white\",\"linecolor\":\"white\",\"ticks\":\"\"},\"caxis\":{\"gridcolor\":\"white\",\"linecolor\":\"white\",\"ticks\":\"\"}},\"coloraxis\":{\"colorbar\":{\"outlinewidth\":0,\"ticks\":\"\"}},\"colorscale\":{\"sequential\":[[0.0,\"#0d0887\"],[0.1111111111111111,\"#46039f\"],[0.2222222222222222,\"#7201a8\"],[0.3333333333333333,\"#9c179e\"],[0.4444444444444444,\"#bd3786\"],[0.5555555555555556,\"#d8576b\"],[0.6666666666666666,\"#ed7953\"],[0.7777777777777778,\"#fb9f3a\"],[0.8888888888888888,\"#fdca26\"],[1.0,\"#f0f921\"]],\"sequentialminus\":[[0.0,\"#0d0887\"],[0.1111111111111111,\"#46039f\"],[0.2222222222222222,\"#7201a8\"],[0.3333333333333333,\"#9c179e\"],[0.4444444444444444,\"#bd3786\"],[0.5555555555555556,\"#d8576b\"],[0.6666666666666666,\"#ed7953\"],[0.7777777777777778,\"#fb9f3a\"],[0.8888888888888888,\"#fdca26\"],[1.0,\"#f0f921\"]],\"diverging\":[[0,\"#8e0152\"],[0.1,\"#c51b7d\"],[0.2,\"#de77ae\"],[0.3,\"#f1b6da\"],[0.4,\"#fde0ef\"],[0.5,\"#f7f7f7\"],[0.6,\"#e6f5d0\"],[0.7,\"#b8e186\"],[0.8,\"#7fbc41\"],[0.9,\"#4d9221\"],[1,\"#276419\"]]},\"xaxis\":{\"gridcolor\":\"white\",\"linecolor\":\"white\",\"ticks\":\"\",\"title\":{\"standoff\":15},\"zerolinecolor\":\"white\",\"automargin\":true,\"zerolinewidth\":2},\"yaxis\":{\"gridcolor\":\"white\",\"linecolor\":\"white\",\"ticks\":\"\",\"title\":{\"standoff\":15},\"zerolinecolor\":\"white\",\"automargin\":true,\"zerolinewidth\":2},\"scene\":{\"xaxis\":{\"backgroundcolor\":\"#E5ECF6\",\"gridcolor\":\"white\",\"linecolor\":\"white\",\"showbackground\":true,\"ticks\":\"\",\"zerolinecolor\":\"white\",\"gridwidth\":2},\"yaxis\":{\"backgroundcolor\":\"#E5ECF6\",\"gridcolor\":\"white\",\"linecolor\":\"white\",\"showbackground\":true,\"ticks\":\"\",\"zerolinecolor\":\"white\",\"gridwidth\":2},\"zaxis\":{\"backgroundcolor\":\"#E5ECF6\",\"gridcolor\":\"white\",\"linecolor\":\"white\",\"showbackground\":true,\"ticks\":\"\",\"zerolinecolor\":\"white\",\"gridwidth\":2}},\"shapedefaults\":{\"line\":{\"color\":\"#2a3f5f\"}},\"annotationdefaults\":{\"arrowcolor\":\"#2a3f5f\",\"arrowhead\":0,\"arrowwidth\":1},\"geo\":{\"bgcolor\":\"white\",\"landcolor\":\"#E5ECF6\",\"subunitcolor\":\"white\",\"showland\":true,\"showlakes\":true,\"lakecolor\":\"white\"},\"title\":{\"x\":0.05},\"mapbox\":{\"style\":\"light\"}}},\"title\":{\"text\":\"GLM coefficients importance\"},\"xaxis\":{\"title\":{\"text\":\"Coeficientes normalizados\"}},\"yaxis\":{\"title\":{\"text\":\"Variables\"}}},                        {\"responsive\": true}                    ).then(function(){\n",
              "                            \n",
              "var gd = document.getElementById('4e5527be-1f61-4479-a54e-c151c0337397');\n",
              "var x = new MutationObserver(function (mutations, observer) {{\n",
              "        var display = window.getComputedStyle(gd).display;\n",
              "        if (!display || display === 'none') {{\n",
              "            console.log([gd, 'removed!']);\n",
              "            Plotly.purge(gd);\n",
              "            observer.disconnect();\n",
              "        }}\n",
              "}});\n",
              "\n",
              "// Listen for the removal of the full notebook cells\n",
              "var notebookContainer = gd.closest('#notebook-container');\n",
              "if (notebookContainer) {{\n",
              "    x.observe(notebookContainer, {childList: true});\n",
              "}}\n",
              "\n",
              "// Listen for the clearing of the current output cell\n",
              "var outputEl = gd.closest('.output');\n",
              "if (outputEl) {{\n",
              "    x.observe(outputEl, {childList: true});\n",
              "}}\n",
              "\n",
              "                        })                };                            </script>        </div>\n",
              "</body>\n",
              "</html>"
            ]
          },
          "metadata": {},
          "output_type": "display_data"
        }
      ],
      "source": [
        "\n",
        "\n",
        "df['hit'] = df[\"streams\"] > df[\"streams\"].quantile(0.5)\n",
        "print(df.hit.describe())\n",
        "\n",
        "\n",
        "df['key'] = df['key'].astype('category')\n",
        "df['mode'] = df['mode'].astype('category')\n",
        "\n",
        "X = df[['bpm',\n",
        "        'danceability_%','valence_%','energy_%',\n",
        "        'acousticness_%','instrumentalness_%','liveness_%',\n",
        "        'speechiness_%', 'more_two_artists', 'artist_count']]\n",
        "\n",
        "y = df['hit']\n",
        "\n",
        "print(X.head())\n",
        "\n",
        "X_train, X_test, y_train, y_test = train_test_split(X, y, test_size = 0.2, random_state = 123)\n",
        "\n",
        "clf_log = Pipeline(steps=[\n",
        "    ('scaler', StandardScaler()),\n",
        "    (\"glm\", LogisticRegression(max_iter=10000, tol=0.1)),\n",
        "])\n",
        "\n",
        "\n",
        "# clf_log = LogisticRegression(max_iter=10000, tol=0.1)\n",
        "clf_log.fit(X_train, y_train)\n",
        "\n",
        "predictions = clf_log.predict(X_test)\n",
        "\n",
        "print(\"Classification report\")\n",
        "print(classification_report(y_test, predictions))\n",
        "\n",
        "print(\"Confusion matrix\")\n",
        "print(confusion_matrix(y_test, predictions))\n",
        "\n",
        "lmc = clf_log.named_steps['glm'].coef_\n",
        "\n",
        "# Plot for LM\n",
        "objects = X.columns\n",
        "y_pos = np.arange(len(objects))\n",
        "coefficients = lmc[0]\n",
        "\n",
        "\n",
        "fig = go.Figure()\n",
        "\n",
        "# Agrego las trazas necesarias\n",
        "fig.add_trace(\n",
        "    go.Bar(\n",
        "        x = coefficients,\n",
        "        y = objects,\n",
        "        name = \"Coeficientes\",\n",
        "        orientation='h'\n",
        "    )\n",
        ")\n",
        "\n",
        "# Actualizo el diseño\n",
        "fig.update_layout(title = \"GLM coefficients importance\", xaxis_title = \"Coeficientes normalizados\", yaxis_title = \"Variables\")\n",
        "\n",
        "# Muestro la figura\n",
        "fig.show()\n",
        "\n",
        "plt.show()"
      ]
    },
    {
      "cell_type": "markdown",
      "metadata": {
        "id": "trrbR54x_RzN"
      },
      "source": [
        "g) Agrupa los 4 gráficos realizados en uno solo y haz una recomendación a un sello discográfico para producir un nuevo hit. **(1 puntos)**"
      ]
    },
    {
      "cell_type": "code",
      "execution_count": null,
      "metadata": {
        "colab": {
          "base_uri": "https://localhost:8080/",
          "height": 1000
        },
        "id": "P-18pfLx_g2Z",
        "outputId": "c434a142-70bc-4408-b15b-286e5fdbbff7"
      },
      "outputs": [
        {
          "name": "stderr",
          "output_type": "stream",
          "text": [
            "<ipython-input-54-b7fb8d52c1cd>:51: FutureWarning:\n",
            "\n",
            "The default value of numeric_only in DataFrame.corr is deprecated. In a future version, it will default to False. Select only valid columns or specify the value of numeric_only to silence this warning.\n",
            "\n",
            "<ipython-input-54-b7fb8d52c1cd>:52: FutureWarning:\n",
            "\n",
            "The default value of numeric_only in DataFrame.corr is deprecated. In a future version, it will default to False. Select only valid columns or specify the value of numeric_only to silence this warning.\n",
            "\n",
            "<ipython-input-54-b7fb8d52c1cd>:53: FutureWarning:\n",
            "\n",
            "The default value of numeric_only in DataFrame.corr is deprecated. In a future version, it will default to False. Select only valid columns or specify the value of numeric_only to silence this warning.\n",
            "\n"
          ]
        },
        {
          "data": {
            "text/html": [
              "<html>\n",
              "<head><meta charset=\"utf-8\" /></head>\n",
              "<body>\n",
              "    <div>            <script src=\"https://cdnjs.cloudflare.com/ajax/libs/mathjax/2.7.5/MathJax.js?config=TeX-AMS-MML_SVG\"></script><script type=\"text/javascript\">if (window.MathJax && window.MathJax.Hub && window.MathJax.Hub.Config) {window.MathJax.Hub.Config({SVG: {font: \"STIX-Web\"}});}</script>                <script type=\"text/javascript\">window.PlotlyConfig = {MathJaxConfig: 'local'};</script>\n",
              "        <script charset=\"utf-8\" src=\"https://cdn.plot.ly/plotly-2.24.1.min.js\"></script>                <div id=\"2c331d95-02d3-43df-af0e-c5f3d56f954e\" class=\"plotly-graph-div\" style=\"height:950px; width:950px;\"></div>            <script type=\"text/javascript\">                                    window.PLOTLYENV=window.PLOTLYENV || {};                                    if (document.getElementById(\"2c331d95-02d3-43df-af0e-c5f3d56f954e\")) {                    Plotly.newPlot(                        \"2c331d95-02d3-43df-af0e-c5f3d56f954e\",                        [{\"histnorm\":\"probability\",\"x\":[141381703.0,133716286.0,140003974.0,800840817.0,303236322.0,183706234.0,725980112.0,58149378.0,95217315.0,553634067.0,505671438.0,58255150.0,387570742.0,1163093654.0,496795686.0,335222234.0,363369738.0,86444842.0,52135248.0,200647221.0,115364561.0,78300654.0,899183384.0,61245289.0,429829812.0,127408954.0,22581161.0,52294266.0,843957510.0,999748277.0,618990393.0,188933502.0,1355959075.0,786181836.0,176553476.0,354495408.0,2808096550.0,1109433169.0,1047101291.0,570515054.0,1647990401.0,2565529693.0,518745108.0,107753850.0,177740666.0,153372011.0,57876440.0,256483385.0,1214083358.0,111947664.0,156338624.0,720434240.0,357925728.0,674072710.0,1755214421.0,404562836.0,373199958.0,14780425.0,39578178.0,54266102.0,751134527.0,1356565093.0,1592909789.0,635412045.0,1230675890.0,585695368.0,43857627.0,2009094673.0,600976848.0,39709092.0,39228929.0,2665343922.0,223633238.0,1440757818.0,165484133.0,58054811.0,157058870.0,95131998.0,250305248.0,685032533.0,38411956.0,144565150.0,127567540.0,399686758.0,983637508.0,118482347.0,882831184.0,286400165.0,172825906.0,1241559043.0,29562220.0,77309611.0,1605224506.0,1116995633.0,838079900.0,1163620694.0,1093605526.0,179659294.0,39058561.0,36912123.0,1205951614.0,1791000570.0,201660859.0,248088961.0,90839753.0,607123776.0,55842345.0,211050784.0,342897938.0,2762.0,601863821.0,1953533826.0,2355719893.0,66902503.0,96273746.0,430977451.0,284819874.0,721975598.0,276259178.0,54225632.0,2559529074.0,681583126.0,2594040133.0,81102253.0,11956641.0,1687664027.0,611700552.0,1133865788.0,1089402494.0,411747614.0,255932395.0,31873544.0,233801632.0,1481349984.0,142095275.0,2011464183.0,436027885.0,2713922350.0,621660989.0,950906471.0,1593270737.0,1410088830.0,1235005533.0,1374581173.0,94186466.0,1788326445.0,1840364617.0,143573775.0,684675814.0,1113838873.0,1267333350.0,3562543890.0,1271293243.0,265882712.0,841749534.0,47956378.0,806397070.0,1641426668.0,2135158446.0,367316268.0,350381515.0,1264310836.0,30343206.0,405136812.0,540654286.0,57312735.0,397582059.0,1479115056.0,86773632.0,133753727.0,123124076.0,463564958.0,64533040.0,65496046.0,68616963.0,161460990.0,70106975.0,113509496.0,89933133.0,71007139.0,43522589.0,232896922.0,37126685.0,195576623.0,532336353.0,538115192.0,46142772.0,401036314.0,127026613.0,345031710.0,288101651.0,60350538.0,335074782.0,76767396.0,46065667.0,459276435.0,39666245.0,138517666.0,822633917.0,595900742.0,51985779.0,57945987.0,115010040.0,175097833.0,57089066.0,488386797.0,32761689.0,1047480053.0,153454328.0,217672943.0,457184829.0,726434358.0,573633020.0,1406111294.0,71573339.0,24975653.0,145458418.0,1424589568.0,231332117.0,415932686.0,988515741.0,50847624.0,39893489.0,92035115.0,118810253.0,77233241.0,117747907.0,266624541.0,293186992.0,139681964.0,123132751.0,103762518.0,162887075.0,91221625.0,190490915.0,96180277.0,185240616.0,885093467.0,104992946.0,147290338.0,158950978.0,76910644.0,137123880.0,782369383.0,502574952.0,207033255.0,381161027.0,466231982.0,357580552.0,61105704.0,198275403.0,705469769.0,34502215.0,304118600.0,1449799467.0,173627354.0,90025258.0,652704649.0,1829992958.0,655466831.0,146409671.0,95816024.0,117206995.0,100409613.0,80758350.0,325592432.0,58473276.0,52722996.0,191945597.0,77377503.0,743693613.0,267789608.0,449701773.0,67070410.0,116334601.0,165584767.0,367814306.0,477033549.0,156214700.0,448843705.0,294352144.0,972164968.0,920045682.0,2420461338.0,244658767.0,68216992.0,223582566.0,471819764.0,1361425037.0,116599790.0,148469433.0,497225336.0,88791109.0,125917280.0,105062254.0,95623148.0,144584800.0,298063749.0,166570053.0,83021468.0,139836056.0,303216294.0,221409663.0,58890931.0,81419389.0,156777415.0,284908316.0,93438910.0,363472647.0,372476382.0,56533272.0,175399345.0,203221468.0,1624165576.0,134294498.0,70069745.0,609293408.0,671365962.0,93587665.0,1223481149.0,1022258230.0,263453310.0,1435127549.0,236857112.0,147538971.0,698086140.0,723894473.0,403097450.0,309483971.0,319566866.0,909001996.0,1061966512.0,124988687.0,134255790.0,301051721.0,156338624.0,309653982.0,297328960.0,332506354.0,480507035.0,1065580332.0,122763672.0,1365184.0,184308753.0,606361689.0,120972253.0,338564981.0,1606986953.0,1301799902.0,140187018.0,107642809.0,556585270.0,2303033973.0,646886885.0,872137015.0,571386359.0,174006928.0,284785823.0,163284000.0,246390068.0,482257456.0,168684524.0,78489819.0,195516622.0,1260594497.0,428685680.0,1024858327.0,838586769.0,199386237.0,972509632.0,213438580.0,210038833.0,227918678.0,826623384.0,1802514301.0,181831132.0,462791599.0,348647203.0,90598517.0,807561936.0,663832097.0,446390129.0,485285717.0,520034544.0,476244795.0,629173063.0,404664135.0,98709329.0,110849052.0,460492795.0,94005786.0,389771964.0,403939487.0,110073250.0,351636786.0,473248298.0,73981293.0,155653938.0,395591396.0,429504768.0,242767149.0,65362788.0,67540165.0,62019074.0,295998468.0,136689549.0,135611421.0,356709897.0,110649992.0,301869854.0,127027715.0,57144458.0,56870689.0,323437194.0,317726339.0,116144341.0,328207708.0,608228647.0,180577478.0,809306935.0,49262961.0,614555082.0,245350949.0,178660459.0,51641685.0,78139948.0,322336177.0,391251368.0,349585590.0,674772936.0,119238316.0,116903579.0,888046992.0,130655803.0,88103848.0,101114984.0,1575467011.0,91656026.0,53933526.0,267758538.0,74601456.0,920797189.0,539595276.0,1367810478.0,578207856.0,775542072.0,656013912.0,240684449.0,63803529.0,466214729.0,236940480.0,41924466.0,225259194.0,393230256.0,287201015.0,599770206.0,342779426.0,673801126.0,1168642797.0,383550148.0,530511203.0,510876816.0,1763363713.0,374191487.0,108809090.0,436695353.0,354065229.0,1143647827.0,311395144.0,672656250.0,1256880657.0,245095641.0,686734357.0,261414174.0,610045621.0,1115880852.0,594482982.0,566954746.0,null,184937148.0,31959571.0,824420218.0,363467642.0,1127468248.0,60680939.0,247737946.0,154797871.0,124407432.0,850608354.0,376333030.0,516784627.0,1608045237.0,506778838.0,1472799873.0,513643924.0,261286503.0,783706581.0,422691058.0,1062345656.0,851070493.0,263894529.0,345903614.0,956865266.0,427486004.0,156658366.0,624515457.0,777765388.0,1138474110.0,355219175.0,290228626.0,1062956628.0,1180094974.0,1456081449.0,432702334.0,489945871.0,465959382.0,1223481149.0,2288695111.0,720825549.0,2086124197.0,1690192927.0,593917618.0,200972675.0,71014967.0,560222750.0,1806617704.0,77337771.0,528544703.0,865640097.0,2159346687.0,211372494.0,651732901.0,608334048.0,863756573.0,797402345.0,1695712020.0,1759567999.0,223319934.0,54937991.0,258316038.0,596152090.0,177129919.0,716591492.0,1210599487.0,246376690.0,496311364.0,843309044.0,500340342.0,107255472.0,135079152.0,822239726.0,1202722675.0,343197054.0,240769997.0,426204830.0,421135627.0,554875730.0,327498031.0,185408548.0,245400167.0,579395142.0,675039469.0,252871192.0,231996128.0,1929770265.0,918915401.0,1180896317.0,498960285.0,258714692.0,143139338.0,209768491.0,64714573.0,50746620.0,154119539.0,181328253.0,370068639.0,2280566092.0,563902868.0,317622165.0,203680270.0,81350745.0,282883169.0,64787943.0,2484812918.0,461437791.0,1439191367.0,759208783.0,368646862.0,299634472.0,756907987.0,682475162.0,546191065.0,229473310.0,202677468.0,208166039.0,527033089.0,94616487.0,394030335.0,193443895.0,299648208.0,319757142.0,153240879.0,346127840.0,312622938.0,1200808494.0,797196073.0,1970673297.0,665765558.0,263779030.0,339473453.0,2204080728.0,2591224264.0,135444283.0,236872197.0,694525298.0,421365166.0,349746291.0,255120451.0,190981339.0,924193303.0,305771063.0,273005485.0,89566512.0,677389855.0,75476209.0,408843328.0,187772591.0,178512385.0,101780047.0,146363130.0,126443991.0,157990698.0,176290831.0,1023187129.0,106933107.0,139193812.0,212234990.0,1714490998.0,197643795.0,807015863.0,933815613.0,499710590.0,120847157.0,53909146.0,2236667932.0,2123309722.0,301242089.0,723894473.0,237351106.0,461558540.0,156898322.0,127309180.0,173702135.0,305650299.0,123216717.0,479655659.0,126191104.0,344055883.0,338422004.0,68895644.0,86176890.0,403231558.0,319546754.0,61739839.0,283359161.0,76831876.0,283332261.0,307752576.0,279737940.0,212351890.0,1304313953.0,150500965.0,246127838.0,582863434.0,58687425.0,212109195.0,382199619.0,41210087.0,231657891.0,53729194.0,244741137.0,42485571.0,37778188.0,254218729.0,53603447.0,160035717.0,37091576.0,284249832.0,33381454.0,184622518.0,300983101.0,121077868.0,106919680.0,136996305.0,65719930.0,229497852.0,185550869.0,54682594.0,240580042.0,1284942608.0,71423324.0,244891912.0,132171975.0,184706613.0,184826429.0,302006641.0,330881149.0,334733572.0,366214458.0,114546317.0,448500832.0,136676504.0,190625045.0,79095270.0,273194684.0,333146475.0,194902696.0,195918494.0,248511839.0,233671263.0,199587884.0,91781263.0,383835984.0,236060709.0,189236868.0,160845341.0,588955257.0,238350348.0,187703102.0,138334433.0,445590495.0,286739476.0,1122364376.0,157136970.0,183273246.0,164856284.0,704171068.0,354614964.0,279717388.0,195628667.0,221752937.0,263280370.0,213505179.0,130419412.0,155795783.0,1553497987.0,293466523.0,191448892.0,85924992.0,176103902.0,121189256.0,131746175.0,244790012.0,129314708.0,331511413.0,170732845.0,179061440.0,185236961.0,171788484.0,387080183.0,264717480.0,244928911.0,97610446.0,287278853.0,887906111.0,123473120.0,323455692.0,240918092.0,191873381.0,239411309.0,703301727.0,189476119.0,277132266.0,278920007.0,222410722.0,185392587.0,202452860.0,1608164312.0,624101957.0,148461629.0,47093942.0,380319238.0,209106362.0,53987404.0,115331792.0,225093344.0,84697729.0,159240673.0,170709584.0,154356956.0,723043854.0,247689123.0,176474912.0,235549288.0,85559365.0,146223492.0,187701588.0,154863153.0,191333656.0,253650850.0,223064273.0,170413877.0,218320587.0,141720999.0,198365537.0,177503916.0,71095708.0,112436403.0,203436468.0,93367537.0,106249219.0,181382590.0,91473363.0,121871870.0,73513683.0,133895612.0,96007391.0],\"type\":\"histogram\",\"xaxis\":\"x\",\"yaxis\":\"y\"},{\"boxmean\":true,\"boxpoints\":\"all\",\"marker\":{\"color\":\"gold\"},\"name\":\"M\\u00e1s de dos\",\"x\":[141381703.0,183706234.0,725980112.0,553634067.0,505671438.0,335222234.0,86444842.0,200647221.0,115364561.0,899183384.0,61245289.0,52294266.0,843957510.0,618990393.0,188933502.0,354495408.0,2808096550.0,1109433169.0,1047101291.0,2565529693.0,518745108.0,107753850.0,177740666.0,111947664.0,156338624.0,720434240.0,357925728.0,674072710.0,54266102.0,1356565093.0,1230675890.0,585695368.0,600976848.0,39709092.0,2665343922.0,223633238.0,1440757818.0,58054811.0,250305248.0,144565150.0,286400165.0,1605224506.0,1093605526.0,39058561.0,248088961.0,90839753.0,55842345.0,211050784.0,2762.0,1953533826.0,2355719893.0,66902503.0,721975598.0,276259178.0,54225632.0,81102253.0,11956641.0,611700552.0,1133865788.0,233801632.0,142095275.0,436027885.0,2713922350.0,1235005533.0,94186466.0,367316268.0,57312735.0,86773632.0,133753727.0,463564958.0,64533040.0,161460990.0,70106975.0,113509496.0,89933133.0,71007139.0,43522589.0,37126685.0,532336353.0,538115192.0,46142772.0,401036314.0,127026613.0,288101651.0,60350538.0,46065667.0,39666245.0,138517666.0,51985779.0,57945987.0,115010040.0,57089066.0,32761689.0,573633020.0,71573339.0,24975653.0,231332117.0,50847624.0,92035115.0,77233241.0,266624541.0,162887075.0,96180277.0,104992946.0,147290338.0,158950978.0,76910644.0,207033255.0,61105704.0,198275403.0,705469769.0,34502215.0,304118600.0,90025258.0,652704649.0,655466831.0,146409671.0,95816024.0,100409613.0,80758350.0,325592432.0,58473276.0,77377503.0,116334601.0,477033549.0,294352144.0,223582566.0,471819764.0,116599790.0,497225336.0,105062254.0,139836056.0,221409663.0,58890931.0,93438910.0,609293408.0,93587665.0,1223481149.0,263453310.0,1435127549.0,236857112.0,309483971.0,1061966512.0,1065580332.0,1365184.0,184308753.0,606361689.0,120972253.0,140187018.0,556585270.0,174006928.0,78489819.0,195516622.0,972509632.0,213438580.0,1802514301.0,462791599.0,90598517.0,460492795.0,94005786.0,110073250.0,473248298.0,155653938.0,395591396.0,295998468.0,136689549.0,110649992.0,323437194.0,116144341.0,608228647.0,180577478.0,809306935.0,614555082.0,78139948.0,322336177.0,349585590.0,674772936.0,88103848.0,1575467011.0,91656026.0,539595276.0,578207856.0,775542072.0,656013912.0,240684449.0,236940480.0,393230256.0,673801126.0,383550148.0,530511203.0,1763363713.0,374191487.0,436695353.0,354065229.0,311395144.0,672656250.0,686734357.0,261414174.0,610045621.0,1115880852.0,594482982.0,566954746.0,184937148.0,60680939.0,154797871.0,261286503.0,422691058.0,263894529.0,956865266.0,427486004.0,355219175.0,489945871.0,1223481149.0,720825549.0,593917618.0,200972675.0,560222750.0,528544703.0,2159346687.0,651732901.0,863756573.0,1695712020.0,223319934.0,54937991.0,258316038.0,596152090.0,177129919.0,716591492.0,1210599487.0,843309044.0,107255472.0,135079152.0,426204830.0,327498031.0,245400167.0,579395142.0,675039469.0,252871192.0,918915401.0,1180896317.0,143139338.0,209768491.0,64714573.0,81350745.0,64787943.0,2484812918.0,461437791.0,759208783.0,299634472.0,756907987.0,208166039.0,94616487.0,153240879.0,2204080728.0,2591224264.0,236872197.0,349746291.0,273005485.0,75476209.0,187772591.0,178512385.0,176290831.0,106933107.0,197643795.0,933815613.0,120847157.0,237351106.0,127309180.0,123216717.0,479655659.0,344055883.0,68895644.0,86176890.0,319546754.0,76831876.0,307752576.0,1304313953.0,58687425.0,212109195.0,284249832.0,33381454.0,184622518.0,300983101.0,121077868.0,106919680.0,240580042.0,136676504.0,190625045.0,333146475.0,194902696.0,248511839.0,383835984.0,160845341.0,138334433.0,286739476.0,279717388.0,130419412.0,85924992.0,176103902.0,121189256.0,129314708.0,170732845.0,287278853.0,123473120.0,323455692.0,240918092.0,191873381.0,47093942.0,209106362.0,84697729.0,159240673.0,146223492.0,187701588.0,154863153.0,191333656.0,170413877.0,141720999.0,198365537.0,71095708.0,112436403.0,106249219.0,73513683.0,133895612.0],\"type\":\"box\",\"xaxis\":\"x2\",\"yaxis\":\"y2\"},{\"boxmean\":true,\"boxpoints\":\"all\",\"marker\":{\"color\":\"mediumseagreen\"},\"name\":\"Un solo artista\",\"x\":[133716286.0,140003974.0,800840817.0,303236322.0,58149378.0,95217315.0,58255150.0,387570742.0,1163093654.0,496795686.0,363369738.0,52135248.0,78300654.0,429829812.0,127408954.0,22581161.0,999748277.0,1355959075.0,786181836.0,176553476.0,570515054.0,1647990401.0,153372011.0,57876440.0,256483385.0,1214083358.0,1755214421.0,404562836.0,373199958.0,14780425.0,39578178.0,751134527.0,1592909789.0,635412045.0,43857627.0,2009094673.0,39228929.0,165484133.0,157058870.0,95131998.0,685032533.0,38411956.0,127567540.0,399686758.0,983637508.0,118482347.0,882831184.0,172825906.0,1241559043.0,29562220.0,77309611.0,1116995633.0,838079900.0,1163620694.0,179659294.0,36912123.0,1205951614.0,1791000570.0,201660859.0,607123776.0,342897938.0,601863821.0,96273746.0,430977451.0,284819874.0,2559529074.0,681583126.0,2594040133.0,1687664027.0,1089402494.0,411747614.0,255932395.0,31873544.0,1481349984.0,2011464183.0,621660989.0,950906471.0,1593270737.0,1410088830.0,1374581173.0,1788326445.0,1840364617.0,143573775.0,684675814.0,1113838873.0,1267333350.0,3562543890.0,1271293243.0,265882712.0,841749534.0,47956378.0,806397070.0,1641426668.0,2135158446.0,350381515.0,1264310836.0,30343206.0,405136812.0,540654286.0,397582059.0,1479115056.0,123124076.0,65496046.0,68616963.0,232896922.0,195576623.0,345031710.0,335074782.0,76767396.0,459276435.0,822633917.0,595900742.0,175097833.0,488386797.0,1047480053.0,153454328.0,217672943.0,457184829.0,726434358.0,1406111294.0,145458418.0,1424589568.0,415932686.0,988515741.0,39893489.0,118810253.0,117747907.0,293186992.0,139681964.0,123132751.0,103762518.0,91221625.0,190490915.0,185240616.0,885093467.0,137123880.0,782369383.0,502574952.0,381161027.0,466231982.0,357580552.0,1449799467.0,173627354.0,1829992958.0,117206995.0,52722996.0,191945597.0,743693613.0,267789608.0,449701773.0,67070410.0,165584767.0,367814306.0,156214700.0,448843705.0,972164968.0,920045682.0,2420461338.0,244658767.0,68216992.0,1361425037.0,148469433.0,88791109.0,125917280.0,95623148.0,144584800.0,298063749.0,166570053.0,83021468.0,303216294.0,81419389.0,156777415.0,284908316.0,363472647.0,372476382.0,56533272.0,175399345.0,203221468.0,1624165576.0,134294498.0,70069745.0,671365962.0,1022258230.0,147538971.0,698086140.0,723894473.0,403097450.0,319566866.0,909001996.0,124988687.0,134255790.0,301051721.0,156338624.0,309653982.0,297328960.0,332506354.0,480507035.0,122763672.0,338564981.0,1606986953.0,1301799902.0,107642809.0,2303033973.0,646886885.0,872137015.0,571386359.0,284785823.0,163284000.0,246390068.0,482257456.0,168684524.0,1260594497.0,428685680.0,1024858327.0,838586769.0,199386237.0,210038833.0,227918678.0,826623384.0,181831132.0,348647203.0,807561936.0,663832097.0,446390129.0,485285717.0,520034544.0,476244795.0,629173063.0,404664135.0,98709329.0,110849052.0,389771964.0,403939487.0,351636786.0,73981293.0,429504768.0,242767149.0,65362788.0,67540165.0,62019074.0,135611421.0,356709897.0,301869854.0,127027715.0,57144458.0,56870689.0,317726339.0,328207708.0,49262961.0,245350949.0,178660459.0,51641685.0,391251368.0,119238316.0,116903579.0,888046992.0,130655803.0,101114984.0,53933526.0,267758538.0,74601456.0,920797189.0,1367810478.0,63803529.0,466214729.0,41924466.0,225259194.0,287201015.0,599770206.0,342779426.0,1168642797.0,510876816.0,108809090.0,1143647827.0,1256880657.0,245095641.0,null,31959571.0,824420218.0,363467642.0,1127468248.0,247737946.0,124407432.0,850608354.0,376333030.0,516784627.0,1608045237.0,506778838.0,1472799873.0,513643924.0,783706581.0,1062345656.0,851070493.0,345903614.0,156658366.0,624515457.0,777765388.0,1138474110.0,290228626.0,1062956628.0,1180094974.0,1456081449.0,432702334.0,465959382.0,2288695111.0,2086124197.0,1690192927.0,71014967.0,1806617704.0,77337771.0,865640097.0,211372494.0,608334048.0,797402345.0,1759567999.0,246376690.0,496311364.0,500340342.0,822239726.0,1202722675.0,343197054.0,240769997.0,421135627.0,554875730.0,185408548.0,231996128.0,1929770265.0,498960285.0,258714692.0,50746620.0,154119539.0,181328253.0,370068639.0,2280566092.0,563902868.0,317622165.0,203680270.0,282883169.0,1439191367.0,368646862.0,682475162.0,546191065.0,229473310.0,202677468.0,527033089.0,394030335.0,193443895.0,299648208.0,319757142.0,346127840.0,312622938.0,1200808494.0,797196073.0,1970673297.0,665765558.0,263779030.0,339473453.0,135444283.0,694525298.0,421365166.0,255120451.0,190981339.0,924193303.0,305771063.0,89566512.0,677389855.0,408843328.0,101780047.0,146363130.0,126443991.0,157990698.0,1023187129.0,139193812.0,212234990.0,1714490998.0,807015863.0,499710590.0,53909146.0,2236667932.0,2123309722.0,301242089.0,723894473.0,461558540.0,156898322.0,173702135.0,305650299.0,126191104.0,338422004.0,403231558.0,61739839.0,283359161.0,283332261.0,279737940.0,212351890.0,150500965.0,246127838.0,582863434.0,382199619.0,41210087.0,231657891.0,53729194.0,244741137.0,42485571.0,37778188.0,254218729.0,53603447.0,160035717.0,37091576.0,136996305.0,65719930.0,229497852.0,185550869.0,54682594.0,1284942608.0,71423324.0,244891912.0,132171975.0,184706613.0,184826429.0,302006641.0,330881149.0,334733572.0,366214458.0,114546317.0,448500832.0,79095270.0,273194684.0,195918494.0,233671263.0,199587884.0,91781263.0,236060709.0,189236868.0,588955257.0,238350348.0,187703102.0,445590495.0,1122364376.0,157136970.0,183273246.0,164856284.0,704171068.0,354614964.0,195628667.0,221752937.0,263280370.0,213505179.0,155795783.0,1553497987.0,293466523.0,191448892.0,131746175.0,244790012.0,331511413.0,179061440.0,185236961.0,171788484.0,387080183.0,264717480.0,244928911.0,97610446.0,887906111.0,239411309.0,703301727.0,189476119.0,277132266.0,278920007.0,222410722.0,185392587.0,202452860.0,1608164312.0,624101957.0,148461629.0,380319238.0,53987404.0,115331792.0,225093344.0,170709584.0,154356956.0,723043854.0,247689123.0,176474912.0,235549288.0,85559365.0,253650850.0,223064273.0,218320587.0,177503916.0,203436468.0,93367537.0,181382590.0,91473363.0,121871870.0,96007391.0],\"type\":\"box\",\"xaxis\":\"x2\",\"yaxis\":\"y2\"},{\"x\":[\"artist_count\",\"released_year\",\"released_month\",\"released_day\",\"in_spotify_playlists\",\"in_spotify_charts\",\"streams\",\"in_apple_playlists\",\"in_apple_charts\",\"in_deezer_charts\",\"bpm\",\"danceability_%\",\"valence_%\",\"energy_%\",\"acousticness_%\",\"instrumentalness_%\",\"liveness_%\",\"speechiness_%\",\"more_two_artists\",\"hit\"],\"y\":[\"artist_count\",\"released_year\",\"released_month\",\"released_day\",\"in_spotify_playlists\",\"in_spotify_charts\",\"streams\",\"in_apple_playlists\",\"in_apple_charts\",\"in_deezer_charts\",\"bpm\",\"danceability_%\",\"valence_%\",\"energy_%\",\"acousticness_%\",\"instrumentalness_%\",\"liveness_%\",\"speechiness_%\",\"more_two_artists\",\"hit\"],\"z\":[[1.0,0.0735643557900106,0.033856605368275776,-0.014761747140203497,-0.08522637531717166,-0.008570061483346643,-0.1097599524043898,-0.017024010627522523,-0.07527140676231472,0.020584939685693523,-0.058843659371359144,0.2140780153629738,0.12365013527243766,0.13752971396573355,-0.09470350886704695,-0.06126890027505064,0.03435375353058178,0.13148592291378983,0.8020761968064459,-0.12220993493482209],[0.0735643557900106,1.0,0.07643869857239981,0.16637665154446765,-0.3907293115530166,0.06867872145994551,-0.24272579089008642,-0.20147449681379845,0.0034787869408798265,0.09574147745073561,-0.011569547380703062,0.21503163783892068,-0.047642798848288384,0.07888637478143104,-0.13322358852373312,-0.02395830692694295,0.008488833640366763,0.12988657481527743,0.10944385379390209,-0.2182224516047668],[0.033856605368275776,0.07643869857239981,1.0,0.0577841849237184,-0.12240731512240241,-0.05018640797434948,-0.04604125957096039,-0.03402850515527687,-0.017812891521966648,0.006942239331867263,-0.0493999786437421,-0.05480810569147382,-0.11035481332072888,-0.08689743360147519,0.05504626589857863,0.03548115743375766,0.0013290126741325953,0.042127027471914116,0.020382805246358108,0.04765819196533418],[-0.014761747140203497,0.16637665154446765,0.0577841849237184,1.0,-0.10761588105011606,0.01606797898531504,-0.025116479922823516,-0.011915957650662837,0.007726559219350334,0.05542631800561091,-0.03339376399725477,0.08424386875772844,0.0627513964277264,0.047318310687688075,0.000785350093012633,0.023039799533547588,-0.011094475833796878,-0.014602271061557152,0.012941835668055,-0.007415028061691094],[-0.08522637531717166,-0.3907293115530166,-0.12240731512240241,-0.10761588105011606,1.0,0.14134295883900183,0.7804038503763728,0.6883161979283439,0.21567604568348178,0.10128346186874354,-0.03448250366594356,-0.09698077610744844,-0.029822793802813517,0.035874838704220646,-0.06463303527122205,-0.0245697139461465,-0.051972862448203296,-0.07761034200340308,-0.08397689791319135,0.46806596588554655],[-0.008570061483346643,0.06867872145994551,-0.05018640797434948,0.01606797898531504,0.14134295883900183,1.0,0.21403395317007556,0.20820175691115383,0.5568043244366212,0.56616140561665,0.028830466136862198,0.05133788325737562,0.05003993254209327,0.10496336396034457,-0.0728525875661891,-0.005813736127305587,-0.026581690296990222,-0.09410226165435152,0.04369354857658013,0.1726641894511452],[-0.1097599524043898,-0.24272579089008642,-0.04604125957096039,-0.025116479922823516,0.7804038503763728,0.21403395317007556,1.0,0.7353207638877904,0.2691374652573007,0.18432853415873934,-0.02569384650556196,-0.09326818058629731,-0.051013689528639834,-0.036499273297597605,-0.0057509692186726155,-0.03303871464204409,-0.05666398078034252,-0.09996806352926553,-0.08840020521027003,0.6351483289339158],[-0.017024010627522523,-0.20147449681379845,-0.03402850515527687,-0.011915957650662837,0.6883161979283439,0.20820175691115383,0.7353207638877904,1.0,0.364760680543358,0.3268151634305646,0.005558273668496486,-0.012586276582145424,0.041253415530517104,0.03999184961088332,-0.07096542627558353,-0.05437237344712564,-0.06498564712323433,-0.09764713653906995,0.009455477034586912,0.4771252024507827],[-0.07527140676231472,0.0034787869408798265,-0.017812891521966648,0.007726559219350334,0.21567604568348178,0.5568043244366212,0.2691374652573007,0.364760680543358,1.0,0.3665812659988011,0.0270574150733873,-0.026137882226427704,0.04294056390652687,0.12935400827431776,-0.09678056639893745,-0.0003805257828577765,-0.007160653281334581,-0.14647234378250207,-0.015160012628285353,0.25728646300137936],[0.020584939685693523,0.09574147745073561,0.006942239331867263,0.05542631800561091,0.10128346186874354,0.56616140561665,0.18432853415873934,0.3268151634305646,0.3665812659988011,1.0,0.021730449294060643,0.0814139804585954,0.07316890973692117,0.10434996940571484,-0.035135484706235884,0.003502525292610185,0.0036498526119137704,-0.08152255134603538,0.08313462138222308,0.17597241518446724],[-0.058843659371359144,-0.011569547380703062,-0.0493999786437421,-0.03339376399725477,-0.03448250366594356,0.028830466136862198,-0.02569384650556196,0.005558273668496486,0.0270574150733873,0.021730449294060643,1.0,-0.1481740929493288,0.0291692537137389,0.013362948465509006,-0.010766961485287567,-0.003406877716782317,-0.005816925875816951,0.03824773302270688,-0.05144665589867613,0.0016764171875344313],[0.2140780153629738,0.21503163783892068,-0.05480810569147382,0.08424386875772844,-0.09698077610744844,0.05133788325737562,-0.09326818058629731,-0.012586276582145424,-0.026137882226427704,0.0814139804585954,-0.1481740929493288,1.0,0.38972864666412954,0.15797028420481965,-0.24045402642431363,-0.10214371529551293,-0.1005785809594551,0.20118919973086857,0.2468539474716645,-0.09819036258737761],[0.12365013527243766,-0.047642798848288384,-0.11035481332072888,0.0627513964277264,-0.029822793802813517,0.05003993254209327,-0.051013689528639834,0.041253415530517104,0.04294056390652687,0.07316890973692117,0.0291692537137389,0.38972864666412954,1.0,0.3497358908579402,-0.06407244111484466,-0.14703242621617882,0.00014224966137209592,0.035703597674781345,0.1180069960229341,-0.06443872065685367],[0.13752971396573355,0.07888637478143104,-0.08689743360147519,0.047318310687688075,0.035874838704220646,0.10496336396034457,-0.036499273297597605,0.03999184961088332,0.12935400827431776,0.10434996940571484,0.013362948465509006,0.15797028420481965,0.3497358908579402,1.0,-0.5526370327713029,-0.05166229370550225,0.11124024151372898,-0.026880117385077694,0.14617995856473937,-0.041639649661214896],[-0.09470350886704695,-0.13322358852373312,0.05504626589857863,0.000785350093012633,-0.06463303527122205,-0.0728525875661891,-0.0057509692186726155,-0.07096542627558353,-0.09678056639893745,-0.035135484706235884,-0.010766961485287567,-0.24045402642431363,-0.06407244111484466,-0.5526370327713029,1.0,0.04669969011482176,-0.04611200382927883,-0.017819600566405507,-0.08556310933051284,-0.022247905168636267],[-0.06126890027505064,-0.02395830692694295,0.03548115743375766,0.023039799533547588,-0.0245697139461465,-0.005813736127305587,-0.03303871464204409,-0.05437237344712564,-0.0003805257828577765,0.003502525292610185,-0.003406877716782317,-0.10214371529551293,-0.14703242621617882,-0.05166229370550225,0.04669969011482176,1.0,-0.04462580663391406,-0.0909940870331707,-0.09675127377998752,0.020070759064391538],[0.03435375353058178,0.008488833640366763,0.0013290126741325953,-0.011094475833796878,-0.051972862448203296,-0.026581690296990222,-0.05666398078034252,-0.06498564712323433,-0.007160653281334581,0.0036498526119137704,-0.005816925875816951,-0.1005785809594551,0.00014224966137209592,0.11124024151372898,-0.04611200382927883,-0.04462580663391406,1.0,-0.022806600112948622,0.050950503723390515,-0.05877085764241085],[0.13148592291378983,0.12988657481527743,0.042127027471914116,-0.014602271061557152,-0.07761034200340308,-0.09410226165435152,-0.09996806352926553,-0.09764713653906995,-0.14647234378250207,-0.08152255134603538,0.03824773302270688,0.20118919973086857,0.035703597674781345,-0.026880117385077694,-0.017819600566405507,-0.0909940870331707,-0.022806600112948622,1.0,0.16152370491109744,-0.1097083598038923],[0.8020761968064459,0.10944385379390209,0.020382805246358108,0.012941835668055,-0.08397689791319135,0.04369354857658013,-0.08840020521027003,0.009455477034586912,-0.015160012628285353,0.08313462138222308,-0.05144665589867613,0.2468539474716645,0.1180069960229341,0.14617995856473937,-0.08556310933051284,-0.09675127377998752,0.050950503723390515,0.16152370491109744,1.0,-0.10165093401379655],[-0.12220993493482209,-0.2182224516047668,0.04765819196533418,-0.007415028061691094,0.46806596588554655,0.1726641894511452,0.6351483289339158,0.4771252024507827,0.25728646300137936,0.17597241518446724,0.0016764171875344313,-0.09819036258737761,-0.06443872065685367,-0.041639649661214896,-0.022247905168636267,0.020070759064391538,-0.05877085764241085,-0.1097083598038923,-0.10165093401379655,1.0]],\"type\":\"heatmap\",\"xaxis\":\"x3\",\"yaxis\":\"y3\"},{\"orientation\":\"h\",\"x\":[0.013904148510895269,-0.18509228412689324,-0.040399893983116046,-0.09707081346156671,-0.10060661363510985,-0.0354966206131804,-0.1867299778749886,-0.20045966225636971,0.09809419182712095,-0.25040300829872997],\"y\":[\"bpm\",\"danceability_%\",\"valence_%\",\"energy_%\",\"acousticness_%\",\"instrumentalness_%\",\"liveness_%\",\"speechiness_%\",\"more_two_artists\",\"artist_count\"],\"type\":\"bar\",\"xaxis\":\"x4\",\"yaxis\":\"y4\"}],                        {\"template\":{\"data\":{\"histogram2dcontour\":[{\"type\":\"histogram2dcontour\",\"colorbar\":{\"outlinewidth\":0,\"ticks\":\"\"},\"colorscale\":[[0.0,\"#0d0887\"],[0.1111111111111111,\"#46039f\"],[0.2222222222222222,\"#7201a8\"],[0.3333333333333333,\"#9c179e\"],[0.4444444444444444,\"#bd3786\"],[0.5555555555555556,\"#d8576b\"],[0.6666666666666666,\"#ed7953\"],[0.7777777777777778,\"#fb9f3a\"],[0.8888888888888888,\"#fdca26\"],[1.0,\"#f0f921\"]]}],\"choropleth\":[{\"type\":\"choropleth\",\"colorbar\":{\"outlinewidth\":0,\"ticks\":\"\"}}],\"histogram2d\":[{\"type\":\"histogram2d\",\"colorbar\":{\"outlinewidth\":0,\"ticks\":\"\"},\"colorscale\":[[0.0,\"#0d0887\"],[0.1111111111111111,\"#46039f\"],[0.2222222222222222,\"#7201a8\"],[0.3333333333333333,\"#9c179e\"],[0.4444444444444444,\"#bd3786\"],[0.5555555555555556,\"#d8576b\"],[0.6666666666666666,\"#ed7953\"],[0.7777777777777778,\"#fb9f3a\"],[0.8888888888888888,\"#fdca26\"],[1.0,\"#f0f921\"]]}],\"heatmap\":[{\"type\":\"heatmap\",\"colorbar\":{\"outlinewidth\":0,\"ticks\":\"\"},\"colorscale\":[[0.0,\"#0d0887\"],[0.1111111111111111,\"#46039f\"],[0.2222222222222222,\"#7201a8\"],[0.3333333333333333,\"#9c179e\"],[0.4444444444444444,\"#bd3786\"],[0.5555555555555556,\"#d8576b\"],[0.6666666666666666,\"#ed7953\"],[0.7777777777777778,\"#fb9f3a\"],[0.8888888888888888,\"#fdca26\"],[1.0,\"#f0f921\"]]}],\"heatmapgl\":[{\"type\":\"heatmapgl\",\"colorbar\":{\"outlinewidth\":0,\"ticks\":\"\"},\"colorscale\":[[0.0,\"#0d0887\"],[0.1111111111111111,\"#46039f\"],[0.2222222222222222,\"#7201a8\"],[0.3333333333333333,\"#9c179e\"],[0.4444444444444444,\"#bd3786\"],[0.5555555555555556,\"#d8576b\"],[0.6666666666666666,\"#ed7953\"],[0.7777777777777778,\"#fb9f3a\"],[0.8888888888888888,\"#fdca26\"],[1.0,\"#f0f921\"]]}],\"contourcarpet\":[{\"type\":\"contourcarpet\",\"colorbar\":{\"outlinewidth\":0,\"ticks\":\"\"}}],\"contour\":[{\"type\":\"contour\",\"colorbar\":{\"outlinewidth\":0,\"ticks\":\"\"},\"colorscale\":[[0.0,\"#0d0887\"],[0.1111111111111111,\"#46039f\"],[0.2222222222222222,\"#7201a8\"],[0.3333333333333333,\"#9c179e\"],[0.4444444444444444,\"#bd3786\"],[0.5555555555555556,\"#d8576b\"],[0.6666666666666666,\"#ed7953\"],[0.7777777777777778,\"#fb9f3a\"],[0.8888888888888888,\"#fdca26\"],[1.0,\"#f0f921\"]]}],\"surface\":[{\"type\":\"surface\",\"colorbar\":{\"outlinewidth\":0,\"ticks\":\"\"},\"colorscale\":[[0.0,\"#0d0887\"],[0.1111111111111111,\"#46039f\"],[0.2222222222222222,\"#7201a8\"],[0.3333333333333333,\"#9c179e\"],[0.4444444444444444,\"#bd3786\"],[0.5555555555555556,\"#d8576b\"],[0.6666666666666666,\"#ed7953\"],[0.7777777777777778,\"#fb9f3a\"],[0.8888888888888888,\"#fdca26\"],[1.0,\"#f0f921\"]]}],\"mesh3d\":[{\"type\":\"mesh3d\",\"colorbar\":{\"outlinewidth\":0,\"ticks\":\"\"}}],\"scatter\":[{\"fillpattern\":{\"fillmode\":\"overlay\",\"size\":10,\"solidity\":0.2},\"type\":\"scatter\"}],\"parcoords\":[{\"type\":\"parcoords\",\"line\":{\"colorbar\":{\"outlinewidth\":0,\"ticks\":\"\"}}}],\"scatterpolargl\":[{\"type\":\"scatterpolargl\",\"marker\":{\"colorbar\":{\"outlinewidth\":0,\"ticks\":\"\"}}}],\"bar\":[{\"error_x\":{\"color\":\"#2a3f5f\"},\"error_y\":{\"color\":\"#2a3f5f\"},\"marker\":{\"line\":{\"color\":\"#E5ECF6\",\"width\":0.5},\"pattern\":{\"fillmode\":\"overlay\",\"size\":10,\"solidity\":0.2}},\"type\":\"bar\"}],\"scattergeo\":[{\"type\":\"scattergeo\",\"marker\":{\"colorbar\":{\"outlinewidth\":0,\"ticks\":\"\"}}}],\"scatterpolar\":[{\"type\":\"scatterpolar\",\"marker\":{\"colorbar\":{\"outlinewidth\":0,\"ticks\":\"\"}}}],\"histogram\":[{\"marker\":{\"pattern\":{\"fillmode\":\"overlay\",\"size\":10,\"solidity\":0.2}},\"type\":\"histogram\"}],\"scattergl\":[{\"type\":\"scattergl\",\"marker\":{\"colorbar\":{\"outlinewidth\":0,\"ticks\":\"\"}}}],\"scatter3d\":[{\"type\":\"scatter3d\",\"line\":{\"colorbar\":{\"outlinewidth\":0,\"ticks\":\"\"}},\"marker\":{\"colorbar\":{\"outlinewidth\":0,\"ticks\":\"\"}}}],\"scattermapbox\":[{\"type\":\"scattermapbox\",\"marker\":{\"colorbar\":{\"outlinewidth\":0,\"ticks\":\"\"}}}],\"scatterternary\":[{\"type\":\"scatterternary\",\"marker\":{\"colorbar\":{\"outlinewidth\":0,\"ticks\":\"\"}}}],\"scattercarpet\":[{\"type\":\"scattercarpet\",\"marker\":{\"colorbar\":{\"outlinewidth\":0,\"ticks\":\"\"}}}],\"carpet\":[{\"aaxis\":{\"endlinecolor\":\"#2a3f5f\",\"gridcolor\":\"white\",\"linecolor\":\"white\",\"minorgridcolor\":\"white\",\"startlinecolor\":\"#2a3f5f\"},\"baxis\":{\"endlinecolor\":\"#2a3f5f\",\"gridcolor\":\"white\",\"linecolor\":\"white\",\"minorgridcolor\":\"white\",\"startlinecolor\":\"#2a3f5f\"},\"type\":\"carpet\"}],\"table\":[{\"cells\":{\"fill\":{\"color\":\"#EBF0F8\"},\"line\":{\"color\":\"white\"}},\"header\":{\"fill\":{\"color\":\"#C8D4E3\"},\"line\":{\"color\":\"white\"}},\"type\":\"table\"}],\"barpolar\":[{\"marker\":{\"line\":{\"color\":\"#E5ECF6\",\"width\":0.5},\"pattern\":{\"fillmode\":\"overlay\",\"size\":10,\"solidity\":0.2}},\"type\":\"barpolar\"}],\"pie\":[{\"automargin\":true,\"type\":\"pie\"}]},\"layout\":{\"autotypenumbers\":\"strict\",\"colorway\":[\"#636efa\",\"#EF553B\",\"#00cc96\",\"#ab63fa\",\"#FFA15A\",\"#19d3f3\",\"#FF6692\",\"#B6E880\",\"#FF97FF\",\"#FECB52\"],\"font\":{\"color\":\"#2a3f5f\"},\"hovermode\":\"closest\",\"hoverlabel\":{\"align\":\"left\"},\"paper_bgcolor\":\"white\",\"plot_bgcolor\":\"#E5ECF6\",\"polar\":{\"bgcolor\":\"#E5ECF6\",\"angularaxis\":{\"gridcolor\":\"white\",\"linecolor\":\"white\",\"ticks\":\"\"},\"radialaxis\":{\"gridcolor\":\"white\",\"linecolor\":\"white\",\"ticks\":\"\"}},\"ternary\":{\"bgcolor\":\"#E5ECF6\",\"aaxis\":{\"gridcolor\":\"white\",\"linecolor\":\"white\",\"ticks\":\"\"},\"baxis\":{\"gridcolor\":\"white\",\"linecolor\":\"white\",\"ticks\":\"\"},\"caxis\":{\"gridcolor\":\"white\",\"linecolor\":\"white\",\"ticks\":\"\"}},\"coloraxis\":{\"colorbar\":{\"outlinewidth\":0,\"ticks\":\"\"}},\"colorscale\":{\"sequential\":[[0.0,\"#0d0887\"],[0.1111111111111111,\"#46039f\"],[0.2222222222222222,\"#7201a8\"],[0.3333333333333333,\"#9c179e\"],[0.4444444444444444,\"#bd3786\"],[0.5555555555555556,\"#d8576b\"],[0.6666666666666666,\"#ed7953\"],[0.7777777777777778,\"#fb9f3a\"],[0.8888888888888888,\"#fdca26\"],[1.0,\"#f0f921\"]],\"sequentialminus\":[[0.0,\"#0d0887\"],[0.1111111111111111,\"#46039f\"],[0.2222222222222222,\"#7201a8\"],[0.3333333333333333,\"#9c179e\"],[0.4444444444444444,\"#bd3786\"],[0.5555555555555556,\"#d8576b\"],[0.6666666666666666,\"#ed7953\"],[0.7777777777777778,\"#fb9f3a\"],[0.8888888888888888,\"#fdca26\"],[1.0,\"#f0f921\"]],\"diverging\":[[0,\"#8e0152\"],[0.1,\"#c51b7d\"],[0.2,\"#de77ae\"],[0.3,\"#f1b6da\"],[0.4,\"#fde0ef\"],[0.5,\"#f7f7f7\"],[0.6,\"#e6f5d0\"],[0.7,\"#b8e186\"],[0.8,\"#7fbc41\"],[0.9,\"#4d9221\"],[1,\"#276419\"]]},\"xaxis\":{\"gridcolor\":\"white\",\"linecolor\":\"white\",\"ticks\":\"\",\"title\":{\"standoff\":15},\"zerolinecolor\":\"white\",\"automargin\":true,\"zerolinewidth\":2},\"yaxis\":{\"gridcolor\":\"white\",\"linecolor\":\"white\",\"ticks\":\"\",\"title\":{\"standoff\":15},\"zerolinecolor\":\"white\",\"automargin\":true,\"zerolinewidth\":2},\"scene\":{\"xaxis\":{\"backgroundcolor\":\"#E5ECF6\",\"gridcolor\":\"white\",\"linecolor\":\"white\",\"showbackground\":true,\"ticks\":\"\",\"zerolinecolor\":\"white\",\"gridwidth\":2},\"yaxis\":{\"backgroundcolor\":\"#E5ECF6\",\"gridcolor\":\"white\",\"linecolor\":\"white\",\"showbackground\":true,\"ticks\":\"\",\"zerolinecolor\":\"white\",\"gridwidth\":2},\"zaxis\":{\"backgroundcolor\":\"#E5ECF6\",\"gridcolor\":\"white\",\"linecolor\":\"white\",\"showbackground\":true,\"ticks\":\"\",\"zerolinecolor\":\"white\",\"gridwidth\":2}},\"shapedefaults\":{\"line\":{\"color\":\"#2a3f5f\"}},\"annotationdefaults\":{\"arrowcolor\":\"#2a3f5f\",\"arrowhead\":0,\"arrowwidth\":1},\"geo\":{\"bgcolor\":\"white\",\"landcolor\":\"#E5ECF6\",\"subunitcolor\":\"white\",\"showland\":true,\"showlakes\":true,\"lakecolor\":\"white\"},\"title\":{\"x\":0.05},\"mapbox\":{\"style\":\"light\"}}},\"xaxis\":{\"anchor\":\"y\",\"domain\":[0.0,0.45],\"title\":{\"text\":\"Reproducciones\"}},\"yaxis\":{\"anchor\":\"x\",\"domain\":[0.625,1.0],\"title\":{\"text\":\"Frecuencia\"}},\"xaxis2\":{\"anchor\":\"y2\",\"domain\":[0.55,1.0],\"title\":{\"text\":\"Reproducciones\"}},\"yaxis2\":{\"anchor\":\"x2\",\"domain\":[0.625,1.0]},\"xaxis3\":{\"anchor\":\"y3\",\"domain\":[0.0,0.45]},\"yaxis3\":{\"anchor\":\"x3\",\"domain\":[0.0,0.375]},\"xaxis4\":{\"anchor\":\"y4\",\"domain\":[0.55,1.0],\"title\":{\"text\":\"Coeficientes\"}},\"yaxis4\":{\"anchor\":\"x4\",\"domain\":[0.0,0.375]},\"annotations\":[{\"font\":{\"size\":16},\"showarrow\":false,\"text\":\"Distribuci\\u00f3n reproducciones\",\"x\":0.225,\"xanchor\":\"center\",\"xref\":\"paper\",\"y\":1.0,\"yanchor\":\"bottom\",\"yref\":\"paper\"},{\"font\":{\"size\":16},\"showarrow\":false,\"text\":\"Diferencia #artistas\",\"x\":0.775,\"xanchor\":\"center\",\"xref\":\"paper\",\"y\":1.0,\"yanchor\":\"bottom\",\"yref\":\"paper\"},{\"font\":{\"size\":16},\"showarrow\":false,\"text\":\"Correlaciones\",\"x\":0.225,\"xanchor\":\"center\",\"xref\":\"paper\",\"y\":0.375,\"yanchor\":\"bottom\",\"yref\":\"paper\"},{\"font\":{\"size\":16},\"showarrow\":false,\"text\":\"Coeficientes\",\"x\":0.775,\"xanchor\":\"center\",\"xref\":\"paper\",\"y\":0.375,\"yanchor\":\"bottom\",\"yref\":\"paper\"}],\"width\":950,\"height\":950,\"title\":{\"text\":\"Top Streamed Spotify Songs\"},\"bargap\":0.1},                        {\"responsive\": true}                    ).then(function(){\n",
              "                            \n",
              "var gd = document.getElementById('2c331d95-02d3-43df-af0e-c5f3d56f954e');\n",
              "var x = new MutationObserver(function (mutations, observer) {{\n",
              "        var display = window.getComputedStyle(gd).display;\n",
              "        if (!display || display === 'none') {{\n",
              "            console.log([gd, 'removed!']);\n",
              "            Plotly.purge(gd);\n",
              "            observer.disconnect();\n",
              "        }}\n",
              "}});\n",
              "\n",
              "// Listen for the removal of the full notebook cells\n",
              "var notebookContainer = gd.closest('#notebook-container');\n",
              "if (notebookContainer) {{\n",
              "    x.observe(notebookContainer, {childList: true});\n",
              "}}\n",
              "\n",
              "// Listen for the clearing of the current output cell\n",
              "var outputEl = gd.closest('.output');\n",
              "if (outputEl) {{\n",
              "    x.observe(outputEl, {childList: true});\n",
              "}}\n",
              "\n",
              "                        })                };                            </script>        </div>\n",
              "</body>\n",
              "</html>"
            ]
          },
          "metadata": {},
          "output_type": "display_data"
        }
      ],
      "source": [
        "from plotly.subplots import make_subplots\n",
        "\n",
        "# Creo el objeto que me permite hacer 4 gráficas al mismo tiempo\n",
        "fig = make_subplots(rows = 2,\n",
        "                    cols = 2,\n",
        "                    subplot_titles=(\"Distribución reproducciones\", \"Diferencia #artistas\",\n",
        "                                    \"Correlaciones\",\n",
        "                                    \"Coeficientes\"))\n",
        "\n",
        "\n",
        "# Primer gráfico\n",
        "fig.add_trace(\n",
        "    go.Histogram(\n",
        "        x=df['streams'],\n",
        "        histnorm='probability'\n",
        "    ),\n",
        "    row = 1,\n",
        "    col = 1\n",
        ")\n",
        "\n",
        "# Segundo gráfico\n",
        "fig.add_trace(\n",
        "    go.Box(\n",
        "        x = df[df['more_two_artists'] == True][\"streams\"],\n",
        "        marker_color = \"gold\",\n",
        "        name = \"Más de dos\",\n",
        "        boxpoints='all',\n",
        "        boxmean=True\n",
        "    ),\n",
        "    row = 1,\n",
        "    col = 2\n",
        ")\n",
        "\n",
        "fig.add_trace(\n",
        "    go.Box(\n",
        "        x = df[df['more_two_artists'] == False][\"streams\"],\n",
        "        marker_color = \"mediumseagreen\",\n",
        "        name = \"Un solo artista\",\n",
        "        boxpoints='all',\n",
        "        boxmean=True\n",
        "    ),\n",
        "    row = 1,\n",
        "    col = 2\n",
        ")\n",
        "\n",
        "\n",
        "\n",
        "# Tercer gráfico\n",
        "fig.add_trace(\n",
        "    go.Heatmap(\n",
        "        z=df.corr().to_numpy(),\n",
        "        x=df.corr().columns,\n",
        "        y=df.corr().columns\n",
        "    ),\n",
        "    row = 2,\n",
        "    col = 1\n",
        ")\n",
        "\n",
        "# Cuarto gráfico\n",
        "fig.add_trace(\n",
        "    go.Bar(\n",
        "        x = coefficients,\n",
        "        y = objects,\n",
        "        orientation='h'\n",
        "    ),\n",
        "    row = 2,\n",
        "    col = 2\n",
        ")\n",
        "\n",
        "# Modifico las dimensiones totales y el titulo global\n",
        "fig.update_layout(width = 950, height = 950, title = \"Top Streamed Spotify Songs\", bargap = 0.1)\n",
        "\n",
        "fig.update_xaxes(title_text = \"Reproducciones\", row = 1, col = 1)\n",
        "\n",
        "fig.update_yaxes(title_text = \"Frecuencia\", row = 1, col = 1)\n",
        "fig.update_xaxes(title_text = \"Reproducciones\", row = 1, col = 2)\n",
        "\n",
        "fig.update_xaxes(title_text = \"Coeficientes\", row = 2, col = 2)\n",
        "\n",
        "fig.show()"
      ]
    }
  ],
  "metadata": {
    "colab": {
      "provenance": []
    },
    "kernelspec": {
      "display_name": "Python 3",
      "name": "python3"
    },
    "language_info": {
      "codemirror_mode": {
        "name": "ipython",
        "version": 3
      },
      "file_extension": ".py",
      "mimetype": "text/x-python",
      "name": "python",
      "nbconvert_exporter": "python",
      "pygments_lexer": "ipython3",
      "version": "3.11.5"
    }
  },
  "nbformat": 4,
  "nbformat_minor": 0
}
