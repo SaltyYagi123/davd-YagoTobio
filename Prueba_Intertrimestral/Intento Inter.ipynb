{
  "cells": [
    {
      "cell_type": "markdown",
      "metadata": {
        "id": "xoyr7F7GNiM6"
      },
      "source": [
        "# Prueba Intertrimestral\n",
        "\n",
        "**Nombre:** Yago \n",
        "\n",
        "**Apellidos:** Tobio Souto \n",
        "\n",
        "**Tiempo de la prueba: 2 Horas**\n",
        "\n",
        "**Asignatura:** Desarrollo de Aplicaciones para la Visualización de Datos\n",
        "\n",
        "**Fecha:** 18 de octubre de 2023\n",
        "\n",
        "**Instrucciones:**\n",
        "\n",
        "- Escribe código limpio y autoexplicativo.\n",
        "\n",
        "- Se eliminará 0.5 puntos por usar Seaborn o Matplotlib.\n",
        "\n",
        "- Se pueden utilizar los materiales de clase.\n",
        "\n",
        "- Se puede utilizar internet para búsqueda de dudas y documentación.\n",
        "\n",
        "- No se puede utilizar ningún tipo de LLM.\n",
        "\n",
        "- No se puede utilizar mensajería instantánea.\n",
        "\n",
        "- Sube tus resultados a tu repositorio de Github.\n",
        "\n",
        "- Imprime una versión en PDF en A3 y Portrait del notebook.\n",
        "\n",
        "- Envialo tus resultados a dmartincorral@icai.comillas.edu adjuntando el PDF y la url del notebook subido al repositorio de Github.\n"
      ]
    },
    {
      "cell_type": "markdown",
      "metadata": {
        "id": "_yd5v77lO4fW"
      },
      "source": [
        "## Inicialización de librerías\n",
        "\n",
        "Carga aquí todas las librerías que vayas a utilizar."
      ]
    },
    {
      "cell_type": "code",
      "execution_count": 115,
      "metadata": {
        "id": "xCJ9wLIePA99"
      },
      "outputs": [],
      "source": [
        "import pandas as pd                 # Para la manipulación de los datasets\n",
        "import numpy as np                  # Para operaciones matematicas\n",
        "import sklearn.datasets             # Para los datasets\n",
        "\n",
        "import plotly.express as px         # Plotly\n",
        "import plotly.graph_objects as go\n",
        "import plotly.figure_factory as ff\n",
        "import pickle                       # Esto sirve para el K-Means Clustering y poder guardar el modelo en el formator correcto. \n",
        "from plotly.subplots import make_subplots\n",
        "\n",
        "# * Librerias de Dash\n",
        "import dash\n",
        "import dash_bootstrap_components as dbc\n",
        "from dash import dcc, html\n",
        "from dash.dependencies import Input, Output, State\n",
        "\n",
        "# * Librerías Machine Learning\n",
        "# * Modelos Existentes (Regresión Lineal, Logistica, Random Forest, K-Means Clustering, SVM)\n",
        "\n",
        "from sklearn.model_selection import train_test_split \n",
        "# ? - Regresión Lineal + Logisticas\n",
        "from sklearn.linear_model import LinearRegression, SGDClassifier, LogisticRegression\n",
        "from sklearn.cluster import KMeans\n",
        "from sklearn.decomposition import PCA\n",
        "from sklearn.svm import SVC\n",
        "# T-test\n",
        "from scipy.stats import ttest_ind\n",
        "\n",
        "# ? - Random Forest (+ Escalamiento necesario)\n",
        "from sklearn.ensemble import RandomForestRegressor\n",
        "from sklearn.preprocessing import StandardScaler\n",
        "\n",
        "# ? - Metricas de Precisión\n",
        "from sklearn.metrics import (\n",
        "    r2_score,\n",
        "    mean_absolute_error,\n",
        "    mean_squared_error,\n",
        "    classification_report,\n",
        "    confusion_matrix,\n",
        "    silhouette_score\n",
        ")\n",
        "\n",
        "from sklearn.pipeline import Pipeline # ? - Para generar modelos de machine learning con escalamiento automatico"
      ]
    },
    {
      "cell_type": "markdown",
      "metadata": {
        "id": "-DcUj8fKPD19"
      },
      "source": [
        "## Ejercicio 1 (2 puntos):\n",
        "\n",
        "a) Crea una función que calcule y devuelva el factorial de un número entero. **(0.6 puntos)**\n",
        "\n",
        "b) Crea una función que verifique si un número es primo o no. **(0.6 puntos)**\n",
        "\n",
        "c) Muestra en un dataframe los 50 primeros números positivos, si es primo y su factorial utilizando las funciones anteriores. **(0.6 puntos)**\n",
        "\n",
        "d) ¿Cómo se podría programar en una clase las tres operaciones anteriores? **(0.2 puntos)**"
      ]
    },
    {
      "cell_type": "code",
      "execution_count": 116,
      "metadata": {
        "id": "IaPhSsDoSBL-"
      },
      "outputs": [
        {
          "data": {
            "text/html": [
              "<div>\n",
              "<style scoped>\n",
              "    .dataframe tbody tr th:only-of-type {\n",
              "        vertical-align: middle;\n",
              "    }\n",
              "\n",
              "    .dataframe tbody tr th {\n",
              "        vertical-align: top;\n",
              "    }\n",
              "\n",
              "    .dataframe thead th {\n",
              "        text-align: right;\n",
              "    }\n",
              "</style>\n",
              "<table border=\"1\" class=\"dataframe\">\n",
              "  <thead>\n",
              "    <tr style=\"text-align: right;\">\n",
              "      <th></th>\n",
              "      <th>Numero</th>\n",
              "      <th>Primo</th>\n",
              "      <th>Factorial</th>\n",
              "    </tr>\n",
              "  </thead>\n",
              "  <tbody>\n",
              "    <tr>\n",
              "      <th>0</th>\n",
              "      <td>1</td>\n",
              "      <td>False</td>\n",
              "      <td>1</td>\n",
              "    </tr>\n",
              "    <tr>\n",
              "      <th>1</th>\n",
              "      <td>2</td>\n",
              "      <td>True</td>\n",
              "      <td>2</td>\n",
              "    </tr>\n",
              "    <tr>\n",
              "      <th>2</th>\n",
              "      <td>3</td>\n",
              "      <td>True</td>\n",
              "      <td>6</td>\n",
              "    </tr>\n",
              "    <tr>\n",
              "      <th>3</th>\n",
              "      <td>4</td>\n",
              "      <td>False</td>\n",
              "      <td>24</td>\n",
              "    </tr>\n",
              "    <tr>\n",
              "      <th>4</th>\n",
              "      <td>5</td>\n",
              "      <td>True</td>\n",
              "      <td>120</td>\n",
              "    </tr>\n",
              "    <tr>\n",
              "      <th>5</th>\n",
              "      <td>6</td>\n",
              "      <td>False</td>\n",
              "      <td>720</td>\n",
              "    </tr>\n",
              "    <tr>\n",
              "      <th>6</th>\n",
              "      <td>7</td>\n",
              "      <td>True</td>\n",
              "      <td>5040</td>\n",
              "    </tr>\n",
              "    <tr>\n",
              "      <th>7</th>\n",
              "      <td>8</td>\n",
              "      <td>False</td>\n",
              "      <td>40320</td>\n",
              "    </tr>\n",
              "    <tr>\n",
              "      <th>8</th>\n",
              "      <td>9</td>\n",
              "      <td>False</td>\n",
              "      <td>362880</td>\n",
              "    </tr>\n",
              "    <tr>\n",
              "      <th>9</th>\n",
              "      <td>10</td>\n",
              "      <td>False</td>\n",
              "      <td>3628800</td>\n",
              "    </tr>\n",
              "    <tr>\n",
              "      <th>10</th>\n",
              "      <td>11</td>\n",
              "      <td>True</td>\n",
              "      <td>39916800</td>\n",
              "    </tr>\n",
              "    <tr>\n",
              "      <th>11</th>\n",
              "      <td>12</td>\n",
              "      <td>False</td>\n",
              "      <td>479001600</td>\n",
              "    </tr>\n",
              "    <tr>\n",
              "      <th>12</th>\n",
              "      <td>13</td>\n",
              "      <td>True</td>\n",
              "      <td>6227020800</td>\n",
              "    </tr>\n",
              "    <tr>\n",
              "      <th>13</th>\n",
              "      <td>14</td>\n",
              "      <td>False</td>\n",
              "      <td>87178291200</td>\n",
              "    </tr>\n",
              "    <tr>\n",
              "      <th>14</th>\n",
              "      <td>15</td>\n",
              "      <td>False</td>\n",
              "      <td>1307674368000</td>\n",
              "    </tr>\n",
              "    <tr>\n",
              "      <th>15</th>\n",
              "      <td>16</td>\n",
              "      <td>False</td>\n",
              "      <td>20922789888000</td>\n",
              "    </tr>\n",
              "    <tr>\n",
              "      <th>16</th>\n",
              "      <td>17</td>\n",
              "      <td>True</td>\n",
              "      <td>355687428096000</td>\n",
              "    </tr>\n",
              "    <tr>\n",
              "      <th>17</th>\n",
              "      <td>18</td>\n",
              "      <td>False</td>\n",
              "      <td>6402373705728000</td>\n",
              "    </tr>\n",
              "    <tr>\n",
              "      <th>18</th>\n",
              "      <td>19</td>\n",
              "      <td>True</td>\n",
              "      <td>121645100408832000</td>\n",
              "    </tr>\n",
              "    <tr>\n",
              "      <th>19</th>\n",
              "      <td>20</td>\n",
              "      <td>False</td>\n",
              "      <td>2432902008176640000</td>\n",
              "    </tr>\n",
              "    <tr>\n",
              "      <th>20</th>\n",
              "      <td>21</td>\n",
              "      <td>False</td>\n",
              "      <td>51090942171709440000</td>\n",
              "    </tr>\n",
              "    <tr>\n",
              "      <th>21</th>\n",
              "      <td>22</td>\n",
              "      <td>False</td>\n",
              "      <td>1124000727777607680000</td>\n",
              "    </tr>\n",
              "    <tr>\n",
              "      <th>22</th>\n",
              "      <td>23</td>\n",
              "      <td>True</td>\n",
              "      <td>25852016738884976640000</td>\n",
              "    </tr>\n",
              "    <tr>\n",
              "      <th>23</th>\n",
              "      <td>24</td>\n",
              "      <td>False</td>\n",
              "      <td>620448401733239439360000</td>\n",
              "    </tr>\n",
              "    <tr>\n",
              "      <th>24</th>\n",
              "      <td>25</td>\n",
              "      <td>False</td>\n",
              "      <td>15511210043330985984000000</td>\n",
              "    </tr>\n",
              "    <tr>\n",
              "      <th>25</th>\n",
              "      <td>26</td>\n",
              "      <td>False</td>\n",
              "      <td>403291461126605635584000000</td>\n",
              "    </tr>\n",
              "    <tr>\n",
              "      <th>26</th>\n",
              "      <td>27</td>\n",
              "      <td>False</td>\n",
              "      <td>10888869450418352160768000000</td>\n",
              "    </tr>\n",
              "    <tr>\n",
              "      <th>27</th>\n",
              "      <td>28</td>\n",
              "      <td>False</td>\n",
              "      <td>304888344611713860501504000000</td>\n",
              "    </tr>\n",
              "    <tr>\n",
              "      <th>28</th>\n",
              "      <td>29</td>\n",
              "      <td>True</td>\n",
              "      <td>8841761993739701954543616000000</td>\n",
              "    </tr>\n",
              "    <tr>\n",
              "      <th>29</th>\n",
              "      <td>30</td>\n",
              "      <td>False</td>\n",
              "      <td>265252859812191058636308480000000</td>\n",
              "    </tr>\n",
              "    <tr>\n",
              "      <th>30</th>\n",
              "      <td>31</td>\n",
              "      <td>True</td>\n",
              "      <td>8222838654177922817725562880000000</td>\n",
              "    </tr>\n",
              "    <tr>\n",
              "      <th>31</th>\n",
              "      <td>32</td>\n",
              "      <td>False</td>\n",
              "      <td>263130836933693530167218012160000000</td>\n",
              "    </tr>\n",
              "    <tr>\n",
              "      <th>32</th>\n",
              "      <td>33</td>\n",
              "      <td>False</td>\n",
              "      <td>8683317618811886495518194401280000000</td>\n",
              "    </tr>\n",
              "    <tr>\n",
              "      <th>33</th>\n",
              "      <td>34</td>\n",
              "      <td>False</td>\n",
              "      <td>295232799039604140847618609643520000000</td>\n",
              "    </tr>\n",
              "    <tr>\n",
              "      <th>34</th>\n",
              "      <td>35</td>\n",
              "      <td>False</td>\n",
              "      <td>10333147966386144929666651337523200000000</td>\n",
              "    </tr>\n",
              "    <tr>\n",
              "      <th>35</th>\n",
              "      <td>36</td>\n",
              "      <td>False</td>\n",
              "      <td>371993326789901217467999448150835200000000</td>\n",
              "    </tr>\n",
              "    <tr>\n",
              "      <th>36</th>\n",
              "      <td>37</td>\n",
              "      <td>True</td>\n",
              "      <td>13763753091226345046315979581580902400000000</td>\n",
              "    </tr>\n",
              "    <tr>\n",
              "      <th>37</th>\n",
              "      <td>38</td>\n",
              "      <td>False</td>\n",
              "      <td>523022617466601111760007224100074291200000000</td>\n",
              "    </tr>\n",
              "    <tr>\n",
              "      <th>38</th>\n",
              "      <td>39</td>\n",
              "      <td>False</td>\n",
              "      <td>20397882081197443358640281739902897356800000000</td>\n",
              "    </tr>\n",
              "    <tr>\n",
              "      <th>39</th>\n",
              "      <td>40</td>\n",
              "      <td>False</td>\n",
              "      <td>815915283247897734345611269596115894272000000000</td>\n",
              "    </tr>\n",
              "    <tr>\n",
              "      <th>40</th>\n",
              "      <td>41</td>\n",
              "      <td>True</td>\n",
              "      <td>3345252661316380710817006205344075166515200000...</td>\n",
              "    </tr>\n",
              "    <tr>\n",
              "      <th>41</th>\n",
              "      <td>42</td>\n",
              "      <td>False</td>\n",
              "      <td>1405006117752879898543142606244511569936384000...</td>\n",
              "    </tr>\n",
              "    <tr>\n",
              "      <th>42</th>\n",
              "      <td>43</td>\n",
              "      <td>True</td>\n",
              "      <td>6041526306337383563735513206851399750726451200...</td>\n",
              "    </tr>\n",
              "    <tr>\n",
              "      <th>43</th>\n",
              "      <td>44</td>\n",
              "      <td>False</td>\n",
              "      <td>2658271574788448768043625811014615890319638528...</td>\n",
              "    </tr>\n",
              "    <tr>\n",
              "      <th>44</th>\n",
              "      <td>45</td>\n",
              "      <td>False</td>\n",
              "      <td>1196222208654801945619631614956577150643837337...</td>\n",
              "    </tr>\n",
              "    <tr>\n",
              "      <th>45</th>\n",
              "      <td>46</td>\n",
              "      <td>False</td>\n",
              "      <td>5502622159812088949850305428800254892961651752...</td>\n",
              "    </tr>\n",
              "    <tr>\n",
              "      <th>46</th>\n",
              "      <td>47</td>\n",
              "      <td>True</td>\n",
              "      <td>2586232415111681806429643551536119799691976323...</td>\n",
              "    </tr>\n",
              "    <tr>\n",
              "      <th>47</th>\n",
              "      <td>48</td>\n",
              "      <td>False</td>\n",
              "      <td>1241391559253607267086228904737337503852148635...</td>\n",
              "    </tr>\n",
              "    <tr>\n",
              "      <th>48</th>\n",
              "      <td>49</td>\n",
              "      <td>False</td>\n",
              "      <td>6082818640342675608722521633212953768875528313...</td>\n",
              "    </tr>\n",
              "    <tr>\n",
              "      <th>49</th>\n",
              "      <td>50</td>\n",
              "      <td>False</td>\n",
              "      <td>3041409320171337804361260816606476884437764156...</td>\n",
              "    </tr>\n",
              "  </tbody>\n",
              "</table>\n",
              "</div>"
            ],
            "text/plain": [
              "    Numero  Primo                                          Factorial\n",
              "0        1  False                                                  1\n",
              "1        2   True                                                  2\n",
              "2        3   True                                                  6\n",
              "3        4  False                                                 24\n",
              "4        5   True                                                120\n",
              "5        6  False                                                720\n",
              "6        7   True                                               5040\n",
              "7        8  False                                              40320\n",
              "8        9  False                                             362880\n",
              "9       10  False                                            3628800\n",
              "10      11   True                                           39916800\n",
              "11      12  False                                          479001600\n",
              "12      13   True                                         6227020800\n",
              "13      14  False                                        87178291200\n",
              "14      15  False                                      1307674368000\n",
              "15      16  False                                     20922789888000\n",
              "16      17   True                                    355687428096000\n",
              "17      18  False                                   6402373705728000\n",
              "18      19   True                                 121645100408832000\n",
              "19      20  False                                2432902008176640000\n",
              "20      21  False                               51090942171709440000\n",
              "21      22  False                             1124000727777607680000\n",
              "22      23   True                            25852016738884976640000\n",
              "23      24  False                           620448401733239439360000\n",
              "24      25  False                         15511210043330985984000000\n",
              "25      26  False                        403291461126605635584000000\n",
              "26      27  False                      10888869450418352160768000000\n",
              "27      28  False                     304888344611713860501504000000\n",
              "28      29   True                    8841761993739701954543616000000\n",
              "29      30  False                  265252859812191058636308480000000\n",
              "30      31   True                 8222838654177922817725562880000000\n",
              "31      32  False               263130836933693530167218012160000000\n",
              "32      33  False              8683317618811886495518194401280000000\n",
              "33      34  False            295232799039604140847618609643520000000\n",
              "34      35  False          10333147966386144929666651337523200000000\n",
              "35      36  False         371993326789901217467999448150835200000000\n",
              "36      37   True       13763753091226345046315979581580902400000000\n",
              "37      38  False      523022617466601111760007224100074291200000000\n",
              "38      39  False    20397882081197443358640281739902897356800000000\n",
              "39      40  False   815915283247897734345611269596115894272000000000\n",
              "40      41   True  3345252661316380710817006205344075166515200000...\n",
              "41      42  False  1405006117752879898543142606244511569936384000...\n",
              "42      43   True  6041526306337383563735513206851399750726451200...\n",
              "43      44  False  2658271574788448768043625811014615890319638528...\n",
              "44      45  False  1196222208654801945619631614956577150643837337...\n",
              "45      46  False  5502622159812088949850305428800254892961651752...\n",
              "46      47   True  2586232415111681806429643551536119799691976323...\n",
              "47      48  False  1241391559253607267086228904737337503852148635...\n",
              "48      49  False  6082818640342675608722521633212953768875528313...\n",
              "49      50  False  3041409320171337804361260816606476884437764156..."
            ]
          },
          "execution_count": 116,
          "metadata": {},
          "output_type": "execute_result"
        }
      ],
      "source": [
        "import pandas as pd\n",
        "\n",
        "# Funcion que calcula y devuelve el factorial de un numero entero \n",
        "def factorial(num):\n",
        "    if num == 0:\n",
        "        return 1\n",
        "    else:\n",
        "        return num * factorial(num-1)\n",
        "    \n",
        "# Funcion que verifica si un numero es primo o no\n",
        "def is_prime(num):\n",
        "    if num < 2:\n",
        "        return False\n",
        "    for i in range(2, int(num**0.5) + 1):\n",
        "        if num % i == 0:\n",
        "            return False\n",
        "    return True\n",
        "\n",
        "# Muestra un dataframe los 50 primeros numeros positivos si son primos y su factorial usando las funciones de arriba \n",
        "def show_df():\n",
        "    df = pd.DataFrame(columns=['Numero', 'Primo', 'Factorial'])\n",
        "    for i in range(1, 51):\n",
        "        df.loc[i-1] = [i, is_prime(i), factorial(i)]\n",
        "    return df\n",
        "\n",
        "# Generamos una clase que tenga las tres operaciones anteriores\n",
        "class Operaciones:\n",
        "    def __init__(self, numero):\n",
        "        self.numero = numero\n",
        "        self.factorial = factorial(numero)\n",
        "        self.primo = is_prime(numero)\n",
        "\n",
        "    def table(self):\n",
        "        return show_df()\n",
        "\n",
        "clase = Operaciones(6)\n",
        "show_df()"
      ]
    },
    {
      "cell_type": "markdown",
      "metadata": {
        "id": "91Zj0Qo6SEDO"
      },
      "source": [
        "## Ejercicio 2 (4 puntos):\n",
        "\n",
        "a) Extrae de sklearn el conjunto de datos __California Housing dataset__\n",
        " y transfórmalo a dataframe de pandas **(0.25 puntos)**\n",
        "\n",
        "b) Construye una función que muestra la estructura del dataset, el número de NAs, tipos de variables y estadísticas básicas de cada una de las variables. **(0.5 puntos)**\n",
        "\n",
        "c) Construye una __Regresión lineal__ y un __Random forest__ que predigan el __Median house value__ según los datos disponibles. **(0.75 puntos)**\n",
        "\n",
        "d) Visualiza cuales son las variables (coeficientes) más importantes en cada uno de los modelos. **(1.25 puntos)**\n",
        "\n",
        "e) Decide a través de las métricas que consideres oportunas, cuál de los dos modelos es mejor, por qué y explica el proceso que has realizado para responder en los puntos anteriores. **(1.25 puntos)**"
      ]
    },
    {
      "cell_type": "code",
      "execution_count": 117,
      "metadata": {
        "id": "2Aiag2OvUDJF"
      },
      "outputs": [
        {
          "name": "stdout",
          "output_type": "stream",
          "text": [
            "   MedInc  HouseAge  AveRooms  AveBedrms  Population  AveOccup  Latitude  \\\n",
            "0  8.3252      41.0  6.984127   1.023810       322.0  2.555556     37.88   \n",
            "1  8.3014      21.0  6.238137   0.971880      2401.0  2.109842     37.86   \n",
            "2  7.2574      52.0  8.288136   1.073446       496.0  2.802260     37.85   \n",
            "3  5.6431      52.0  5.817352   1.073059       558.0  2.547945     37.85   \n",
            "4  3.8462      52.0  6.281853   1.081081       565.0  2.181467     37.85   \n",
            "\n",
            "   Longitude  target  \n",
            "0    -122.23   4.526  \n",
            "1    -122.22   3.585  \n",
            "2    -122.24   3.521  \n",
            "3    -122.25   3.413  \n",
            "4    -122.25   3.422  \n"
          ]
        }
      ],
      "source": [
        "dataset = pd.read_csv(\"fetch_california_housing.csv\")\n",
        "df = pd.DataFrame(dataset)\n",
        "\n",
        "df = df.drop(['Unnamed: 0.6', 'Unnamed: 0.5', 'Unnamed: 0.4', 'Unnamed: 0.3', 'Unnamed: 0.2', 'Unnamed: 0.1', 'Unnamed: 0'], axis=1)\n",
        "print(df.head())"
      ]
    },
    {
      "cell_type": "code",
      "execution_count": 118,
      "metadata": {},
      "outputs": [
        {
          "name": "stdout",
          "output_type": "stream",
          "text": [
            "\n",
            "Información del dataframe\n",
            "\n",
            "<class 'pandas.core.frame.DataFrame'>\n",
            "RangeIndex: 20640 entries, 0 to 20639\n",
            "Data columns (total 9 columns):\n",
            " #   Column      Non-Null Count  Dtype  \n",
            "---  ------      --------------  -----  \n",
            " 0   MedInc      20640 non-null  float64\n",
            " 1   HouseAge    20640 non-null  float64\n",
            " 2   AveRooms    20640 non-null  float64\n",
            " 3   AveBedrms   20640 non-null  float64\n",
            " 4   Population  20640 non-null  float64\n",
            " 5   AveOccup    20640 non-null  float64\n",
            " 6   Latitude    20640 non-null  float64\n",
            " 7   Longitude   20640 non-null  float64\n",
            " 8   target      20640 non-null  float64\n",
            "dtypes: float64(9)\n",
            "memory usage: 1.4 MB\n",
            "None\n",
            "\\Dimensiones del dataframe\n",
            "\n",
            "(20640, 9)\n",
            "\n",
            "Suma de Valores Nulos por columna del df:\n",
            "\n",
            "MedInc        0\n",
            "HouseAge      0\n",
            "AveRooms      0\n",
            "AveBedrms     0\n",
            "Population    0\n",
            "AveOccup      0\n",
            "Latitude      0\n",
            "Longitude     0\n",
            "target        0\n",
            "dtype: int64\n",
            "\n",
            "Tipos de datos de las columnas\n",
            "\n",
            "MedInc        float64\n",
            "HouseAge      float64\n",
            "AveRooms      float64\n",
            "AveBedrms     float64\n",
            "Population    float64\n",
            "AveOccup      float64\n",
            "Latitude      float64\n",
            "Longitude     float64\n",
            "target        float64\n",
            "dtype: object\n",
            "\n",
            "Estadisticas basicas del df\n",
            "\n",
            "             MedInc      HouseAge      AveRooms     AveBedrms    Population  \\\n",
            "count  20640.000000  20640.000000  20640.000000  20640.000000  20640.000000   \n",
            "mean       3.870671     28.639486      5.429000      1.096675   1425.476744   \n",
            "std        1.899822     12.585558      2.474173      0.473911   1132.462122   \n",
            "min        0.499900      1.000000      0.846154      0.333333      3.000000   \n",
            "25%        2.563400     18.000000      4.440716      1.006079    787.000000   \n",
            "50%        3.534800     29.000000      5.229129      1.048780   1166.000000   \n",
            "75%        4.743250     37.000000      6.052381      1.099526   1725.000000   \n",
            "max       15.000100     52.000000    141.909091     34.066667  35682.000000   \n",
            "\n",
            "           AveOccup      Latitude     Longitude        target  \n",
            "count  20640.000000  20640.000000  20640.000000  20640.000000  \n",
            "mean       3.070655     35.631861   -119.569704      2.068558  \n",
            "std       10.386050      2.135952      2.003532      1.153956  \n",
            "min        0.692308     32.540000   -124.350000      0.149990  \n",
            "25%        2.429741     33.930000   -121.800000      1.196000  \n",
            "50%        2.818116     34.260000   -118.490000      1.797000  \n",
            "75%        3.282261     37.710000   -118.010000      2.647250  \n",
            "max     1243.333333     41.950000   -114.310000      5.000010  \n"
          ]
        }
      ],
      "source": [
        "def describe_dataset(df):\n",
        "    print(\"\\nInformación del dataframe\\n\")\n",
        "    print(df.info())\n",
        "    print(\"\\Dimensiones del dataframe\\n\")\n",
        "    print(df.shape)\n",
        "    print(\"\\nSuma de Valores Nulos por columna del df:\\n\")\n",
        "    print(df.isna().sum())\n",
        "    print(\"\\nTipos de datos de las columnas\\n\")\n",
        "    print(df.dtypes)\n",
        "    print(\"\\nEstadisticas basicas del df\\n\")\n",
        "    print(df.describe())\n",
        "\n",
        "describe_dataset(df)"
      ]
    },
    {
      "cell_type": "markdown",
      "metadata": {},
      "source": [
        "## Regresión Lineal para predecir el target"
      ]
    },
    {
      "cell_type": "code",
      "execution_count": 119,
      "metadata": {},
      "outputs": [],
      "source": [
        "# Preparación de datos \n",
        "\n",
        "X = df.drop('target', axis = 1)\n",
        "y = df['target']\n",
        "\n",
        "X_train, X_test, y_train, y_test = train_test_split(X, y, test_size=0.2, random_state=123)"
      ]
    },
    {
      "cell_type": "code",
      "execution_count": 120,
      "metadata": {},
      "outputs": [
        {
          "name": "stdout",
          "output_type": "stream",
          "text": [
            "Variance Explanation R^2 = 0.61\n"
          ]
        }
      ],
      "source": [
        "lm = Pipeline(steps = [\n",
        "    ('scaler', StandardScaler()), \n",
        "    ('lm', LinearRegression())\n",
        "])\n",
        "\n",
        "lm = lm.fit(X_train, y_train)\n",
        "print(f\"Variance Explanation R^2 = {round(lm.score(X,y), 2)}\")"
      ]
    },
    {
      "cell_type": "markdown",
      "metadata": {},
      "source": [
        "## Random Forest"
      ]
    },
    {
      "cell_type": "code",
      "execution_count": 121,
      "metadata": {},
      "outputs": [],
      "source": [
        "rf = RandomForestRegressor().fit(X_train, y_train)\n",
        "\n",
        "rf = Pipeline(steps = [\n",
        "    ('scaler', StandardScaler()), \n",
        "    ('rf', RandomForestRegressor()), \n",
        "])\n",
        "\n",
        "rf = rf.fit(X_train, y_train)"
      ]
    },
    {
      "cell_type": "code",
      "execution_count": 122,
      "metadata": {},
      "outputs": [
        {
          "name": "stdout",
          "output_type": "stream",
          "text": [
            "Variance Explanation R^2 = 0.94\n"
          ]
        }
      ],
      "source": [
        "print(f\"Variance Explanation R^2 = {round(rf.score(X,y),2)}\")"
      ]
    },
    {
      "cell_type": "markdown",
      "metadata": {},
      "source": [
        "## Cuales son las variables mas importantes de cada modelo? \n",
        "### Regresion Lineal"
      ]
    },
    {
      "cell_type": "code",
      "execution_count": 123,
      "metadata": {},
      "outputs": [
        {
          "name": "stdout",
          "output_type": "stream",
          "text": [
            "[ 0.83601038  0.11522131 -0.28190146  0.31828994 -0.00740408 -0.04168267\n",
            " -0.89014951 -0.85554916]\n"
          ]
        },
        {
          "data": {
            "application/vnd.plotly.v1+json": {
              "config": {
                "plotlyServerURL": "https://plot.ly"
              },
              "data": [
                {
                  "name": "Coeficientes",
                  "orientation": "h",
                  "type": "bar",
                  "x": [
                    0.8360103808417589,
                    0.11522130803451994,
                    -0.2819014638962983,
                    0.31828993959581825,
                    -0.007404075998709607,
                    -0.041682668720357016,
                    -0.8901495097142259,
                    -0.8555491614570031
                  ],
                  "y": [
                    "MedInc",
                    "HouseAge",
                    "AveRooms",
                    "AveBedrms",
                    "Population",
                    "AveOccup",
                    "Latitude",
                    "Longitude"
                  ]
                }
              ],
              "layout": {
                "template": {
                  "data": {
                    "bar": [
                      {
                        "error_x": {
                          "color": "#2a3f5f"
                        },
                        "error_y": {
                          "color": "#2a3f5f"
                        },
                        "marker": {
                          "line": {
                            "color": "#E5ECF6",
                            "width": 0.5
                          },
                          "pattern": {
                            "fillmode": "overlay",
                            "size": 10,
                            "solidity": 0.2
                          }
                        },
                        "type": "bar"
                      }
                    ],
                    "barpolar": [
                      {
                        "marker": {
                          "line": {
                            "color": "#E5ECF6",
                            "width": 0.5
                          },
                          "pattern": {
                            "fillmode": "overlay",
                            "size": 10,
                            "solidity": 0.2
                          }
                        },
                        "type": "barpolar"
                      }
                    ],
                    "carpet": [
                      {
                        "aaxis": {
                          "endlinecolor": "#2a3f5f",
                          "gridcolor": "white",
                          "linecolor": "white",
                          "minorgridcolor": "white",
                          "startlinecolor": "#2a3f5f"
                        },
                        "baxis": {
                          "endlinecolor": "#2a3f5f",
                          "gridcolor": "white",
                          "linecolor": "white",
                          "minorgridcolor": "white",
                          "startlinecolor": "#2a3f5f"
                        },
                        "type": "carpet"
                      }
                    ],
                    "choropleth": [
                      {
                        "colorbar": {
                          "outlinewidth": 0,
                          "ticks": ""
                        },
                        "type": "choropleth"
                      }
                    ],
                    "contour": [
                      {
                        "colorbar": {
                          "outlinewidth": 0,
                          "ticks": ""
                        },
                        "colorscale": [
                          [
                            0,
                            "#0d0887"
                          ],
                          [
                            0.1111111111111111,
                            "#46039f"
                          ],
                          [
                            0.2222222222222222,
                            "#7201a8"
                          ],
                          [
                            0.3333333333333333,
                            "#9c179e"
                          ],
                          [
                            0.4444444444444444,
                            "#bd3786"
                          ],
                          [
                            0.5555555555555556,
                            "#d8576b"
                          ],
                          [
                            0.6666666666666666,
                            "#ed7953"
                          ],
                          [
                            0.7777777777777778,
                            "#fb9f3a"
                          ],
                          [
                            0.8888888888888888,
                            "#fdca26"
                          ],
                          [
                            1,
                            "#f0f921"
                          ]
                        ],
                        "type": "contour"
                      }
                    ],
                    "contourcarpet": [
                      {
                        "colorbar": {
                          "outlinewidth": 0,
                          "ticks": ""
                        },
                        "type": "contourcarpet"
                      }
                    ],
                    "heatmap": [
                      {
                        "colorbar": {
                          "outlinewidth": 0,
                          "ticks": ""
                        },
                        "colorscale": [
                          [
                            0,
                            "#0d0887"
                          ],
                          [
                            0.1111111111111111,
                            "#46039f"
                          ],
                          [
                            0.2222222222222222,
                            "#7201a8"
                          ],
                          [
                            0.3333333333333333,
                            "#9c179e"
                          ],
                          [
                            0.4444444444444444,
                            "#bd3786"
                          ],
                          [
                            0.5555555555555556,
                            "#d8576b"
                          ],
                          [
                            0.6666666666666666,
                            "#ed7953"
                          ],
                          [
                            0.7777777777777778,
                            "#fb9f3a"
                          ],
                          [
                            0.8888888888888888,
                            "#fdca26"
                          ],
                          [
                            1,
                            "#f0f921"
                          ]
                        ],
                        "type": "heatmap"
                      }
                    ],
                    "heatmapgl": [
                      {
                        "colorbar": {
                          "outlinewidth": 0,
                          "ticks": ""
                        },
                        "colorscale": [
                          [
                            0,
                            "#0d0887"
                          ],
                          [
                            0.1111111111111111,
                            "#46039f"
                          ],
                          [
                            0.2222222222222222,
                            "#7201a8"
                          ],
                          [
                            0.3333333333333333,
                            "#9c179e"
                          ],
                          [
                            0.4444444444444444,
                            "#bd3786"
                          ],
                          [
                            0.5555555555555556,
                            "#d8576b"
                          ],
                          [
                            0.6666666666666666,
                            "#ed7953"
                          ],
                          [
                            0.7777777777777778,
                            "#fb9f3a"
                          ],
                          [
                            0.8888888888888888,
                            "#fdca26"
                          ],
                          [
                            1,
                            "#f0f921"
                          ]
                        ],
                        "type": "heatmapgl"
                      }
                    ],
                    "histogram": [
                      {
                        "marker": {
                          "pattern": {
                            "fillmode": "overlay",
                            "size": 10,
                            "solidity": 0.2
                          }
                        },
                        "type": "histogram"
                      }
                    ],
                    "histogram2d": [
                      {
                        "colorbar": {
                          "outlinewidth": 0,
                          "ticks": ""
                        },
                        "colorscale": [
                          [
                            0,
                            "#0d0887"
                          ],
                          [
                            0.1111111111111111,
                            "#46039f"
                          ],
                          [
                            0.2222222222222222,
                            "#7201a8"
                          ],
                          [
                            0.3333333333333333,
                            "#9c179e"
                          ],
                          [
                            0.4444444444444444,
                            "#bd3786"
                          ],
                          [
                            0.5555555555555556,
                            "#d8576b"
                          ],
                          [
                            0.6666666666666666,
                            "#ed7953"
                          ],
                          [
                            0.7777777777777778,
                            "#fb9f3a"
                          ],
                          [
                            0.8888888888888888,
                            "#fdca26"
                          ],
                          [
                            1,
                            "#f0f921"
                          ]
                        ],
                        "type": "histogram2d"
                      }
                    ],
                    "histogram2dcontour": [
                      {
                        "colorbar": {
                          "outlinewidth": 0,
                          "ticks": ""
                        },
                        "colorscale": [
                          [
                            0,
                            "#0d0887"
                          ],
                          [
                            0.1111111111111111,
                            "#46039f"
                          ],
                          [
                            0.2222222222222222,
                            "#7201a8"
                          ],
                          [
                            0.3333333333333333,
                            "#9c179e"
                          ],
                          [
                            0.4444444444444444,
                            "#bd3786"
                          ],
                          [
                            0.5555555555555556,
                            "#d8576b"
                          ],
                          [
                            0.6666666666666666,
                            "#ed7953"
                          ],
                          [
                            0.7777777777777778,
                            "#fb9f3a"
                          ],
                          [
                            0.8888888888888888,
                            "#fdca26"
                          ],
                          [
                            1,
                            "#f0f921"
                          ]
                        ],
                        "type": "histogram2dcontour"
                      }
                    ],
                    "mesh3d": [
                      {
                        "colorbar": {
                          "outlinewidth": 0,
                          "ticks": ""
                        },
                        "type": "mesh3d"
                      }
                    ],
                    "parcoords": [
                      {
                        "line": {
                          "colorbar": {
                            "outlinewidth": 0,
                            "ticks": ""
                          }
                        },
                        "type": "parcoords"
                      }
                    ],
                    "pie": [
                      {
                        "automargin": true,
                        "type": "pie"
                      }
                    ],
                    "scatter": [
                      {
                        "fillpattern": {
                          "fillmode": "overlay",
                          "size": 10,
                          "solidity": 0.2
                        },
                        "type": "scatter"
                      }
                    ],
                    "scatter3d": [
                      {
                        "line": {
                          "colorbar": {
                            "outlinewidth": 0,
                            "ticks": ""
                          }
                        },
                        "marker": {
                          "colorbar": {
                            "outlinewidth": 0,
                            "ticks": ""
                          }
                        },
                        "type": "scatter3d"
                      }
                    ],
                    "scattercarpet": [
                      {
                        "marker": {
                          "colorbar": {
                            "outlinewidth": 0,
                            "ticks": ""
                          }
                        },
                        "type": "scattercarpet"
                      }
                    ],
                    "scattergeo": [
                      {
                        "marker": {
                          "colorbar": {
                            "outlinewidth": 0,
                            "ticks": ""
                          }
                        },
                        "type": "scattergeo"
                      }
                    ],
                    "scattergl": [
                      {
                        "marker": {
                          "colorbar": {
                            "outlinewidth": 0,
                            "ticks": ""
                          }
                        },
                        "type": "scattergl"
                      }
                    ],
                    "scattermapbox": [
                      {
                        "marker": {
                          "colorbar": {
                            "outlinewidth": 0,
                            "ticks": ""
                          }
                        },
                        "type": "scattermapbox"
                      }
                    ],
                    "scatterpolar": [
                      {
                        "marker": {
                          "colorbar": {
                            "outlinewidth": 0,
                            "ticks": ""
                          }
                        },
                        "type": "scatterpolar"
                      }
                    ],
                    "scatterpolargl": [
                      {
                        "marker": {
                          "colorbar": {
                            "outlinewidth": 0,
                            "ticks": ""
                          }
                        },
                        "type": "scatterpolargl"
                      }
                    ],
                    "scatterternary": [
                      {
                        "marker": {
                          "colorbar": {
                            "outlinewidth": 0,
                            "ticks": ""
                          }
                        },
                        "type": "scatterternary"
                      }
                    ],
                    "surface": [
                      {
                        "colorbar": {
                          "outlinewidth": 0,
                          "ticks": ""
                        },
                        "colorscale": [
                          [
                            0,
                            "#0d0887"
                          ],
                          [
                            0.1111111111111111,
                            "#46039f"
                          ],
                          [
                            0.2222222222222222,
                            "#7201a8"
                          ],
                          [
                            0.3333333333333333,
                            "#9c179e"
                          ],
                          [
                            0.4444444444444444,
                            "#bd3786"
                          ],
                          [
                            0.5555555555555556,
                            "#d8576b"
                          ],
                          [
                            0.6666666666666666,
                            "#ed7953"
                          ],
                          [
                            0.7777777777777778,
                            "#fb9f3a"
                          ],
                          [
                            0.8888888888888888,
                            "#fdca26"
                          ],
                          [
                            1,
                            "#f0f921"
                          ]
                        ],
                        "type": "surface"
                      }
                    ],
                    "table": [
                      {
                        "cells": {
                          "fill": {
                            "color": "#EBF0F8"
                          },
                          "line": {
                            "color": "white"
                          }
                        },
                        "header": {
                          "fill": {
                            "color": "#C8D4E3"
                          },
                          "line": {
                            "color": "white"
                          }
                        },
                        "type": "table"
                      }
                    ]
                  },
                  "layout": {
                    "annotationdefaults": {
                      "arrowcolor": "#2a3f5f",
                      "arrowhead": 0,
                      "arrowwidth": 1
                    },
                    "autotypenumbers": "strict",
                    "coloraxis": {
                      "colorbar": {
                        "outlinewidth": 0,
                        "ticks": ""
                      }
                    },
                    "colorscale": {
                      "diverging": [
                        [
                          0,
                          "#8e0152"
                        ],
                        [
                          0.1,
                          "#c51b7d"
                        ],
                        [
                          0.2,
                          "#de77ae"
                        ],
                        [
                          0.3,
                          "#f1b6da"
                        ],
                        [
                          0.4,
                          "#fde0ef"
                        ],
                        [
                          0.5,
                          "#f7f7f7"
                        ],
                        [
                          0.6,
                          "#e6f5d0"
                        ],
                        [
                          0.7,
                          "#b8e186"
                        ],
                        [
                          0.8,
                          "#7fbc41"
                        ],
                        [
                          0.9,
                          "#4d9221"
                        ],
                        [
                          1,
                          "#276419"
                        ]
                      ],
                      "sequential": [
                        [
                          0,
                          "#0d0887"
                        ],
                        [
                          0.1111111111111111,
                          "#46039f"
                        ],
                        [
                          0.2222222222222222,
                          "#7201a8"
                        ],
                        [
                          0.3333333333333333,
                          "#9c179e"
                        ],
                        [
                          0.4444444444444444,
                          "#bd3786"
                        ],
                        [
                          0.5555555555555556,
                          "#d8576b"
                        ],
                        [
                          0.6666666666666666,
                          "#ed7953"
                        ],
                        [
                          0.7777777777777778,
                          "#fb9f3a"
                        ],
                        [
                          0.8888888888888888,
                          "#fdca26"
                        ],
                        [
                          1,
                          "#f0f921"
                        ]
                      ],
                      "sequentialminus": [
                        [
                          0,
                          "#0d0887"
                        ],
                        [
                          0.1111111111111111,
                          "#46039f"
                        ],
                        [
                          0.2222222222222222,
                          "#7201a8"
                        ],
                        [
                          0.3333333333333333,
                          "#9c179e"
                        ],
                        [
                          0.4444444444444444,
                          "#bd3786"
                        ],
                        [
                          0.5555555555555556,
                          "#d8576b"
                        ],
                        [
                          0.6666666666666666,
                          "#ed7953"
                        ],
                        [
                          0.7777777777777778,
                          "#fb9f3a"
                        ],
                        [
                          0.8888888888888888,
                          "#fdca26"
                        ],
                        [
                          1,
                          "#f0f921"
                        ]
                      ]
                    },
                    "colorway": [
                      "#636efa",
                      "#EF553B",
                      "#00cc96",
                      "#ab63fa",
                      "#FFA15A",
                      "#19d3f3",
                      "#FF6692",
                      "#B6E880",
                      "#FF97FF",
                      "#FECB52"
                    ],
                    "font": {
                      "color": "#2a3f5f"
                    },
                    "geo": {
                      "bgcolor": "white",
                      "lakecolor": "white",
                      "landcolor": "#E5ECF6",
                      "showlakes": true,
                      "showland": true,
                      "subunitcolor": "white"
                    },
                    "hoverlabel": {
                      "align": "left"
                    },
                    "hovermode": "closest",
                    "mapbox": {
                      "style": "light"
                    },
                    "paper_bgcolor": "white",
                    "plot_bgcolor": "#E5ECF6",
                    "polar": {
                      "angularaxis": {
                        "gridcolor": "white",
                        "linecolor": "white",
                        "ticks": ""
                      },
                      "bgcolor": "#E5ECF6",
                      "radialaxis": {
                        "gridcolor": "white",
                        "linecolor": "white",
                        "ticks": ""
                      }
                    },
                    "scene": {
                      "xaxis": {
                        "backgroundcolor": "#E5ECF6",
                        "gridcolor": "white",
                        "gridwidth": 2,
                        "linecolor": "white",
                        "showbackground": true,
                        "ticks": "",
                        "zerolinecolor": "white"
                      },
                      "yaxis": {
                        "backgroundcolor": "#E5ECF6",
                        "gridcolor": "white",
                        "gridwidth": 2,
                        "linecolor": "white",
                        "showbackground": true,
                        "ticks": "",
                        "zerolinecolor": "white"
                      },
                      "zaxis": {
                        "backgroundcolor": "#E5ECF6",
                        "gridcolor": "white",
                        "gridwidth": 2,
                        "linecolor": "white",
                        "showbackground": true,
                        "ticks": "",
                        "zerolinecolor": "white"
                      }
                    },
                    "shapedefaults": {
                      "line": {
                        "color": "#2a3f5f"
                      }
                    },
                    "ternary": {
                      "aaxis": {
                        "gridcolor": "white",
                        "linecolor": "white",
                        "ticks": ""
                      },
                      "baxis": {
                        "gridcolor": "white",
                        "linecolor": "white",
                        "ticks": ""
                      },
                      "bgcolor": "#E5ECF6",
                      "caxis": {
                        "gridcolor": "white",
                        "linecolor": "white",
                        "ticks": ""
                      }
                    },
                    "title": {
                      "x": 0.05
                    },
                    "xaxis": {
                      "automargin": true,
                      "gridcolor": "white",
                      "linecolor": "white",
                      "ticks": "",
                      "title": {
                        "standoff": 15
                      },
                      "zerolinecolor": "white",
                      "zerolinewidth": 2
                    },
                    "yaxis": {
                      "automargin": true,
                      "gridcolor": "white",
                      "linecolor": "white",
                      "ticks": "",
                      "title": {
                        "standoff": 15
                      },
                      "zerolinecolor": "white",
                      "zerolinewidth": 2
                    }
                  }
                },
                "title": {
                  "text": "Most important LM coefficients"
                },
                "xaxis": {
                  "title": {
                    "text": "Coefficients"
                  }
                },
                "yaxis": {
                  "title": {
                    "text": "Variables"
                  }
                }
              }
            }
          },
          "metadata": {},
          "output_type": "display_data"
        }
      ],
      "source": [
        "lmc = lm.named_steps['lm'].coef_\n",
        "print(lmc)\n",
        "\n",
        "objects = X.columns\n",
        "y_pos = np.arange(len(objects))\n",
        "coefficients = lmc\n",
        "\n",
        "figure = go.Figure()\n",
        "\n",
        "figure.add_trace(\n",
        "    go.Bar(\n",
        "        x = coefficients, \n",
        "        y = objects, \n",
        "        name = \"Coeficientes\", \n",
        "        orientation='h'\n",
        "    )\n",
        ")\n",
        "\n",
        "figure.update_layout(title = \"Most important LM coefficients\", xaxis_title = \"Coefficients\", yaxis_title = \"Variables\")\n",
        "figure.show()"
      ]
    },
    {
      "cell_type": "markdown",
      "metadata": {},
      "source": [
        "### Most important random forest variables: "
      ]
    },
    {
      "cell_type": "code",
      "execution_count": 124,
      "metadata": {},
      "outputs": [
        {
          "name": "stdout",
          "output_type": "stream",
          "text": [
            "[0.52327021 0.05229086 0.04665457 0.02959082 0.03183574 0.13412189\n",
            " 0.09156166 0.09067426]\n"
          ]
        },
        {
          "data": {
            "application/vnd.plotly.v1+json": {
              "config": {
                "plotlyServerURL": "https://plot.ly"
              },
              "data": [
                {
                  "name": "Coeficientes",
                  "orientation": "h",
                  "type": "bar",
                  "x": [
                    0.5232702054098703,
                    0.052290859200497225,
                    0.04665456842448391,
                    0.029590816171068558,
                    0.03183573867623565,
                    0.1341218894146263,
                    0.0915616597160839,
                    0.09067426298713409
                  ],
                  "y": [
                    "MedInc",
                    "HouseAge",
                    "AveRooms",
                    "AveBedrms",
                    "Population",
                    "AveOccup",
                    "Latitude",
                    "Longitude"
                  ]
                }
              ],
              "layout": {
                "template": {
                  "data": {
                    "bar": [
                      {
                        "error_x": {
                          "color": "#2a3f5f"
                        },
                        "error_y": {
                          "color": "#2a3f5f"
                        },
                        "marker": {
                          "line": {
                            "color": "#E5ECF6",
                            "width": 0.5
                          },
                          "pattern": {
                            "fillmode": "overlay",
                            "size": 10,
                            "solidity": 0.2
                          }
                        },
                        "type": "bar"
                      }
                    ],
                    "barpolar": [
                      {
                        "marker": {
                          "line": {
                            "color": "#E5ECF6",
                            "width": 0.5
                          },
                          "pattern": {
                            "fillmode": "overlay",
                            "size": 10,
                            "solidity": 0.2
                          }
                        },
                        "type": "barpolar"
                      }
                    ],
                    "carpet": [
                      {
                        "aaxis": {
                          "endlinecolor": "#2a3f5f",
                          "gridcolor": "white",
                          "linecolor": "white",
                          "minorgridcolor": "white",
                          "startlinecolor": "#2a3f5f"
                        },
                        "baxis": {
                          "endlinecolor": "#2a3f5f",
                          "gridcolor": "white",
                          "linecolor": "white",
                          "minorgridcolor": "white",
                          "startlinecolor": "#2a3f5f"
                        },
                        "type": "carpet"
                      }
                    ],
                    "choropleth": [
                      {
                        "colorbar": {
                          "outlinewidth": 0,
                          "ticks": ""
                        },
                        "type": "choropleth"
                      }
                    ],
                    "contour": [
                      {
                        "colorbar": {
                          "outlinewidth": 0,
                          "ticks": ""
                        },
                        "colorscale": [
                          [
                            0,
                            "#0d0887"
                          ],
                          [
                            0.1111111111111111,
                            "#46039f"
                          ],
                          [
                            0.2222222222222222,
                            "#7201a8"
                          ],
                          [
                            0.3333333333333333,
                            "#9c179e"
                          ],
                          [
                            0.4444444444444444,
                            "#bd3786"
                          ],
                          [
                            0.5555555555555556,
                            "#d8576b"
                          ],
                          [
                            0.6666666666666666,
                            "#ed7953"
                          ],
                          [
                            0.7777777777777778,
                            "#fb9f3a"
                          ],
                          [
                            0.8888888888888888,
                            "#fdca26"
                          ],
                          [
                            1,
                            "#f0f921"
                          ]
                        ],
                        "type": "contour"
                      }
                    ],
                    "contourcarpet": [
                      {
                        "colorbar": {
                          "outlinewidth": 0,
                          "ticks": ""
                        },
                        "type": "contourcarpet"
                      }
                    ],
                    "heatmap": [
                      {
                        "colorbar": {
                          "outlinewidth": 0,
                          "ticks": ""
                        },
                        "colorscale": [
                          [
                            0,
                            "#0d0887"
                          ],
                          [
                            0.1111111111111111,
                            "#46039f"
                          ],
                          [
                            0.2222222222222222,
                            "#7201a8"
                          ],
                          [
                            0.3333333333333333,
                            "#9c179e"
                          ],
                          [
                            0.4444444444444444,
                            "#bd3786"
                          ],
                          [
                            0.5555555555555556,
                            "#d8576b"
                          ],
                          [
                            0.6666666666666666,
                            "#ed7953"
                          ],
                          [
                            0.7777777777777778,
                            "#fb9f3a"
                          ],
                          [
                            0.8888888888888888,
                            "#fdca26"
                          ],
                          [
                            1,
                            "#f0f921"
                          ]
                        ],
                        "type": "heatmap"
                      }
                    ],
                    "heatmapgl": [
                      {
                        "colorbar": {
                          "outlinewidth": 0,
                          "ticks": ""
                        },
                        "colorscale": [
                          [
                            0,
                            "#0d0887"
                          ],
                          [
                            0.1111111111111111,
                            "#46039f"
                          ],
                          [
                            0.2222222222222222,
                            "#7201a8"
                          ],
                          [
                            0.3333333333333333,
                            "#9c179e"
                          ],
                          [
                            0.4444444444444444,
                            "#bd3786"
                          ],
                          [
                            0.5555555555555556,
                            "#d8576b"
                          ],
                          [
                            0.6666666666666666,
                            "#ed7953"
                          ],
                          [
                            0.7777777777777778,
                            "#fb9f3a"
                          ],
                          [
                            0.8888888888888888,
                            "#fdca26"
                          ],
                          [
                            1,
                            "#f0f921"
                          ]
                        ],
                        "type": "heatmapgl"
                      }
                    ],
                    "histogram": [
                      {
                        "marker": {
                          "pattern": {
                            "fillmode": "overlay",
                            "size": 10,
                            "solidity": 0.2
                          }
                        },
                        "type": "histogram"
                      }
                    ],
                    "histogram2d": [
                      {
                        "colorbar": {
                          "outlinewidth": 0,
                          "ticks": ""
                        },
                        "colorscale": [
                          [
                            0,
                            "#0d0887"
                          ],
                          [
                            0.1111111111111111,
                            "#46039f"
                          ],
                          [
                            0.2222222222222222,
                            "#7201a8"
                          ],
                          [
                            0.3333333333333333,
                            "#9c179e"
                          ],
                          [
                            0.4444444444444444,
                            "#bd3786"
                          ],
                          [
                            0.5555555555555556,
                            "#d8576b"
                          ],
                          [
                            0.6666666666666666,
                            "#ed7953"
                          ],
                          [
                            0.7777777777777778,
                            "#fb9f3a"
                          ],
                          [
                            0.8888888888888888,
                            "#fdca26"
                          ],
                          [
                            1,
                            "#f0f921"
                          ]
                        ],
                        "type": "histogram2d"
                      }
                    ],
                    "histogram2dcontour": [
                      {
                        "colorbar": {
                          "outlinewidth": 0,
                          "ticks": ""
                        },
                        "colorscale": [
                          [
                            0,
                            "#0d0887"
                          ],
                          [
                            0.1111111111111111,
                            "#46039f"
                          ],
                          [
                            0.2222222222222222,
                            "#7201a8"
                          ],
                          [
                            0.3333333333333333,
                            "#9c179e"
                          ],
                          [
                            0.4444444444444444,
                            "#bd3786"
                          ],
                          [
                            0.5555555555555556,
                            "#d8576b"
                          ],
                          [
                            0.6666666666666666,
                            "#ed7953"
                          ],
                          [
                            0.7777777777777778,
                            "#fb9f3a"
                          ],
                          [
                            0.8888888888888888,
                            "#fdca26"
                          ],
                          [
                            1,
                            "#f0f921"
                          ]
                        ],
                        "type": "histogram2dcontour"
                      }
                    ],
                    "mesh3d": [
                      {
                        "colorbar": {
                          "outlinewidth": 0,
                          "ticks": ""
                        },
                        "type": "mesh3d"
                      }
                    ],
                    "parcoords": [
                      {
                        "line": {
                          "colorbar": {
                            "outlinewidth": 0,
                            "ticks": ""
                          }
                        },
                        "type": "parcoords"
                      }
                    ],
                    "pie": [
                      {
                        "automargin": true,
                        "type": "pie"
                      }
                    ],
                    "scatter": [
                      {
                        "fillpattern": {
                          "fillmode": "overlay",
                          "size": 10,
                          "solidity": 0.2
                        },
                        "type": "scatter"
                      }
                    ],
                    "scatter3d": [
                      {
                        "line": {
                          "colorbar": {
                            "outlinewidth": 0,
                            "ticks": ""
                          }
                        },
                        "marker": {
                          "colorbar": {
                            "outlinewidth": 0,
                            "ticks": ""
                          }
                        },
                        "type": "scatter3d"
                      }
                    ],
                    "scattercarpet": [
                      {
                        "marker": {
                          "colorbar": {
                            "outlinewidth": 0,
                            "ticks": ""
                          }
                        },
                        "type": "scattercarpet"
                      }
                    ],
                    "scattergeo": [
                      {
                        "marker": {
                          "colorbar": {
                            "outlinewidth": 0,
                            "ticks": ""
                          }
                        },
                        "type": "scattergeo"
                      }
                    ],
                    "scattergl": [
                      {
                        "marker": {
                          "colorbar": {
                            "outlinewidth": 0,
                            "ticks": ""
                          }
                        },
                        "type": "scattergl"
                      }
                    ],
                    "scattermapbox": [
                      {
                        "marker": {
                          "colorbar": {
                            "outlinewidth": 0,
                            "ticks": ""
                          }
                        },
                        "type": "scattermapbox"
                      }
                    ],
                    "scatterpolar": [
                      {
                        "marker": {
                          "colorbar": {
                            "outlinewidth": 0,
                            "ticks": ""
                          }
                        },
                        "type": "scatterpolar"
                      }
                    ],
                    "scatterpolargl": [
                      {
                        "marker": {
                          "colorbar": {
                            "outlinewidth": 0,
                            "ticks": ""
                          }
                        },
                        "type": "scatterpolargl"
                      }
                    ],
                    "scatterternary": [
                      {
                        "marker": {
                          "colorbar": {
                            "outlinewidth": 0,
                            "ticks": ""
                          }
                        },
                        "type": "scatterternary"
                      }
                    ],
                    "surface": [
                      {
                        "colorbar": {
                          "outlinewidth": 0,
                          "ticks": ""
                        },
                        "colorscale": [
                          [
                            0,
                            "#0d0887"
                          ],
                          [
                            0.1111111111111111,
                            "#46039f"
                          ],
                          [
                            0.2222222222222222,
                            "#7201a8"
                          ],
                          [
                            0.3333333333333333,
                            "#9c179e"
                          ],
                          [
                            0.4444444444444444,
                            "#bd3786"
                          ],
                          [
                            0.5555555555555556,
                            "#d8576b"
                          ],
                          [
                            0.6666666666666666,
                            "#ed7953"
                          ],
                          [
                            0.7777777777777778,
                            "#fb9f3a"
                          ],
                          [
                            0.8888888888888888,
                            "#fdca26"
                          ],
                          [
                            1,
                            "#f0f921"
                          ]
                        ],
                        "type": "surface"
                      }
                    ],
                    "table": [
                      {
                        "cells": {
                          "fill": {
                            "color": "#EBF0F8"
                          },
                          "line": {
                            "color": "white"
                          }
                        },
                        "header": {
                          "fill": {
                            "color": "#C8D4E3"
                          },
                          "line": {
                            "color": "white"
                          }
                        },
                        "type": "table"
                      }
                    ]
                  },
                  "layout": {
                    "annotationdefaults": {
                      "arrowcolor": "#2a3f5f",
                      "arrowhead": 0,
                      "arrowwidth": 1
                    },
                    "autotypenumbers": "strict",
                    "coloraxis": {
                      "colorbar": {
                        "outlinewidth": 0,
                        "ticks": ""
                      }
                    },
                    "colorscale": {
                      "diverging": [
                        [
                          0,
                          "#8e0152"
                        ],
                        [
                          0.1,
                          "#c51b7d"
                        ],
                        [
                          0.2,
                          "#de77ae"
                        ],
                        [
                          0.3,
                          "#f1b6da"
                        ],
                        [
                          0.4,
                          "#fde0ef"
                        ],
                        [
                          0.5,
                          "#f7f7f7"
                        ],
                        [
                          0.6,
                          "#e6f5d0"
                        ],
                        [
                          0.7,
                          "#b8e186"
                        ],
                        [
                          0.8,
                          "#7fbc41"
                        ],
                        [
                          0.9,
                          "#4d9221"
                        ],
                        [
                          1,
                          "#276419"
                        ]
                      ],
                      "sequential": [
                        [
                          0,
                          "#0d0887"
                        ],
                        [
                          0.1111111111111111,
                          "#46039f"
                        ],
                        [
                          0.2222222222222222,
                          "#7201a8"
                        ],
                        [
                          0.3333333333333333,
                          "#9c179e"
                        ],
                        [
                          0.4444444444444444,
                          "#bd3786"
                        ],
                        [
                          0.5555555555555556,
                          "#d8576b"
                        ],
                        [
                          0.6666666666666666,
                          "#ed7953"
                        ],
                        [
                          0.7777777777777778,
                          "#fb9f3a"
                        ],
                        [
                          0.8888888888888888,
                          "#fdca26"
                        ],
                        [
                          1,
                          "#f0f921"
                        ]
                      ],
                      "sequentialminus": [
                        [
                          0,
                          "#0d0887"
                        ],
                        [
                          0.1111111111111111,
                          "#46039f"
                        ],
                        [
                          0.2222222222222222,
                          "#7201a8"
                        ],
                        [
                          0.3333333333333333,
                          "#9c179e"
                        ],
                        [
                          0.4444444444444444,
                          "#bd3786"
                        ],
                        [
                          0.5555555555555556,
                          "#d8576b"
                        ],
                        [
                          0.6666666666666666,
                          "#ed7953"
                        ],
                        [
                          0.7777777777777778,
                          "#fb9f3a"
                        ],
                        [
                          0.8888888888888888,
                          "#fdca26"
                        ],
                        [
                          1,
                          "#f0f921"
                        ]
                      ]
                    },
                    "colorway": [
                      "#636efa",
                      "#EF553B",
                      "#00cc96",
                      "#ab63fa",
                      "#FFA15A",
                      "#19d3f3",
                      "#FF6692",
                      "#B6E880",
                      "#FF97FF",
                      "#FECB52"
                    ],
                    "font": {
                      "color": "#2a3f5f"
                    },
                    "geo": {
                      "bgcolor": "white",
                      "lakecolor": "white",
                      "landcolor": "#E5ECF6",
                      "showlakes": true,
                      "showland": true,
                      "subunitcolor": "white"
                    },
                    "hoverlabel": {
                      "align": "left"
                    },
                    "hovermode": "closest",
                    "mapbox": {
                      "style": "light"
                    },
                    "paper_bgcolor": "white",
                    "plot_bgcolor": "#E5ECF6",
                    "polar": {
                      "angularaxis": {
                        "gridcolor": "white",
                        "linecolor": "white",
                        "ticks": ""
                      },
                      "bgcolor": "#E5ECF6",
                      "radialaxis": {
                        "gridcolor": "white",
                        "linecolor": "white",
                        "ticks": ""
                      }
                    },
                    "scene": {
                      "xaxis": {
                        "backgroundcolor": "#E5ECF6",
                        "gridcolor": "white",
                        "gridwidth": 2,
                        "linecolor": "white",
                        "showbackground": true,
                        "ticks": "",
                        "zerolinecolor": "white"
                      },
                      "yaxis": {
                        "backgroundcolor": "#E5ECF6",
                        "gridcolor": "white",
                        "gridwidth": 2,
                        "linecolor": "white",
                        "showbackground": true,
                        "ticks": "",
                        "zerolinecolor": "white"
                      },
                      "zaxis": {
                        "backgroundcolor": "#E5ECF6",
                        "gridcolor": "white",
                        "gridwidth": 2,
                        "linecolor": "white",
                        "showbackground": true,
                        "ticks": "",
                        "zerolinecolor": "white"
                      }
                    },
                    "shapedefaults": {
                      "line": {
                        "color": "#2a3f5f"
                      }
                    },
                    "ternary": {
                      "aaxis": {
                        "gridcolor": "white",
                        "linecolor": "white",
                        "ticks": ""
                      },
                      "baxis": {
                        "gridcolor": "white",
                        "linecolor": "white",
                        "ticks": ""
                      },
                      "bgcolor": "#E5ECF6",
                      "caxis": {
                        "gridcolor": "white",
                        "linecolor": "white",
                        "ticks": ""
                      }
                    },
                    "title": {
                      "x": 0.05
                    },
                    "xaxis": {
                      "automargin": true,
                      "gridcolor": "white",
                      "linecolor": "white",
                      "ticks": "",
                      "title": {
                        "standoff": 15
                      },
                      "zerolinecolor": "white",
                      "zerolinewidth": 2
                    },
                    "yaxis": {
                      "automargin": true,
                      "gridcolor": "white",
                      "linecolor": "white",
                      "ticks": "",
                      "title": {
                        "standoff": 15
                      },
                      "zerolinecolor": "white",
                      "zerolinewidth": 2
                    }
                  }
                },
                "title": {
                  "text": "Random Forest Coefficient Importance"
                },
                "xaxis": {
                  "title": {
                    "text": "Coeficientes"
                  }
                },
                "yaxis": {
                  "title": {
                    "text": "Variables"
                  }
                }
              }
            }
          },
          "metadata": {},
          "output_type": "display_data"
        }
      ],
      "source": [
        "rfc = rf.named_steps['rf'].feature_importances_\n",
        "print(rfc)\n",
        "\n",
        "# Plot for the RF \n",
        "objects = X.columns\n",
        "y_pos = np.arange(len(objects))\n",
        "coefficients = rfc \n",
        "\n",
        "fig = go.Figure()\n",
        "\n",
        "fig.add_trace(\n",
        "    go.Bar(\n",
        "        x = coefficients, \n",
        "        y = objects, \n",
        "        name = \"Coeficientes\", \n",
        "        orientation = 'h'\n",
        "    )\n",
        ")\n",
        "\n",
        "fig.update_layout(title = \"Random Forest Coefficient Importance\", xaxis_title = \"Coeficientes\", yaxis_title = \"Variables\")\n",
        "fig.show()"
      ]
    },
    {
      "cell_type": "markdown",
      "metadata": {},
      "source": [
        "e) Decide a través de las métricas que consideres oportunas, cuál de los dos modelos es mejor, por qué y explica el proceso que has realizado para responder en los puntos anteriores. **(1.25 puntos)**"
      ]
    },
    {
      "cell_type": "code",
      "execution_count": 125,
      "metadata": {},
      "outputs": [
        {
          "name": "stdout",
          "output_type": "stream",
          "text": [
            "Mean Squared Error for Linear Regression: 0.5180228655178677\n",
            "Mean absolute error for Linear Regression: 0.5255457157103739\n",
            "Correlation for Linear Regression: 0.6104546894797874\n"
          ]
        }
      ],
      "source": [
        "# Pues vamos a hacer las predicciones del test dataset: \n",
        "# Regresion Lineal: \n",
        "y_pred_lm = lm.predict(X_test)\n",
        "\n",
        "print(f\"Mean Squared Error for Linear Regression: {mean_squared_error(y_test, y_pred_lm)}\")\n",
        "print(f\"Mean absolute error for Linear Regression: {mean_absolute_error(y_test, y_pred_lm)}\")\n",
        "print(f\"Correlation for Linear Regression: {r2_score(y_test, y_pred_lm)}\")"
      ]
    },
    {
      "cell_type": "code",
      "execution_count": 126,
      "metadata": {},
      "outputs": [
        {
          "name": "stdout",
          "output_type": "stream",
          "text": [
            "Mean Squared Error for Random Forest: 0.2470493044619708\n",
            "Mean absolute error for Random Forest: 0.32231638333333357\n",
            "Correlation ofr Random Forest: 0.8142226831546656\n"
          ]
        }
      ],
      "source": [
        "# Random Forest: \n",
        "y_pred_rf = rf.predict(X_test)\n",
        "\n",
        "print(f\"Mean Squared Error for Random Forest: {mean_squared_error(y_test, y_pred_rf)}\")\n",
        "print(f\"Mean absolute error for Random Forest: {mean_absolute_error(y_test, y_pred_rf)}\")\n",
        "print(f\"Correlation ofr Random Forest: {r2_score(y_test, y_pred_rf)}\")\n"
      ]
    },
    {
      "cell_type": "code",
      "execution_count": 127,
      "metadata": {},
      "outputs": [
        {
          "name": "stdout",
          "output_type": "stream",
          "text": [
            "        Characteristic  Linear Regression  Random Forest\n",
            "0   Mean Squared Error           0.518023       0.247049\n",
            "1  Mean Absolute Error           0.525546       0.322316\n",
            "2          Correlation           0.610455       0.814223\n"
          ]
        }
      ],
      "source": [
        "# Create a DataFrame with the desired structure\n",
        "data = {\n",
        "    \"Characteristic\": [\"Mean Squared Error\", \"Mean Absolute Error\", \"Correlation\"],\n",
        "    \"Linear Regression\": [\n",
        "        mean_squared_error(y_test, y_pred_lm),\n",
        "        mean_absolute_error(y_test, y_pred_lm),\n",
        "        r2_score(y_test, y_pred_lm)\n",
        "    ],\n",
        "    \"Random Forest\": [\n",
        "        mean_squared_error(y_test, y_pred_rf),\n",
        "        mean_absolute_error(y_test, y_pred_rf),\n",
        "        r2_score(y_test, y_pred_rf)\n",
        "    ]\n",
        "}\n",
        "\n",
        "df_info = pd.DataFrame(data)\n",
        "\n",
        "print(df_info)"
      ]
    },
    {
      "cell_type": "markdown",
      "metadata": {},
      "source": [
        "#### Observamos que generalmente Random Forest es mucho mejor a la hora de predecir el valor de la vivienda, tiene menor error y mayour correlación. "
      ]
    },
    {
      "cell_type": "markdown",
      "metadata": {
        "id": "YhuImkegUE5a"
      },
      "source": [
        "## Ejercicio 3 (4 puntos):\n"
      ]
    },
    {
      "cell_type": "markdown",
      "metadata": {
        "id": "kUZlJzRKU1p0"
      },
      "source": [
        "*Consideremos* el dataset que contiene __The Most Streamed Spotify Songs 2023__ que se encuentra en el respositorio.\n",
        "\n",
        "Información de las variables:\n",
        "\n",
        "- track_name: Name of the song\n",
        "- artist(s)_name: Name of the artist(s) of the song\n",
        "- vartist_count: Number of artists contributing to the song\n",
        "- released_year: Year when the song was released\n",
        "- released_month: Month when the song was released\n",
        "- release_day: Day of the month when the song was released\n",
        "- in_spotify_playlists: Number of Spotify playlists the song is included in\n",
        "- in_spotify_charts: Presence and rank of the song on Spotify charts\n",
        "- streams: Total number of streams on Spotify\n",
        "- in_apple_playlists: Number of Apple Music playlists the song is included in\n",
        "- in_apple_charts: Presence and rank of the song on Apple Music charts\n",
        "- in_deezer_playlists: Number of Deezer playlists the song is included in\n",
        "- in_deezer_charts: Presence and rank of the song on Deezer charts\n",
        "- in_shazam_charts: Presence and rank of the song on Shazam charts\n",
        "- bpm: Beats per minute, a measure of song tempo\n",
        "- key: Key of the song\n",
        "- mode: Mode of the song (major or minor)\n",
        "- danceability_%: Percentage indicating how suitable the song is for dancing\n",
        "- valence_%: Positivity of the song's musical content\n",
        "- energy_%: Perceived energy level of the song\n",
        "- acousticness_%: Amount of acoustic sound in the song\n",
        "- instrumentalness_%: Amount of instrumental content in the song\n",
        "- liveness_%: Presence of live performance elements\n",
        "- speechiness_%: Amount of spoken words in the song\n",
        "\n",
        "Para las respuestas b, c, d, e, f y g es imperativo acompañarlas respuestas con una visualización.\n",
        "\n",
        "a) Lee el fichero en formato dataframe, aplica la función del ejercicio 2.b, elimina NAs y convierte a integer si fuera necesario. **(0.25 puntos)**\n",
        "\n",
        "b) ¿Cuántos artistas únicos hay? **(0.25 puntos)**\n",
        "\n",
        "c) ¿Cuál es la distribución de reproducciones? **(0.5 puntos)**\n",
        "\n",
        "d) ¿Existe una diferencia signitificativa en las reproducciones entre las canciones de un solo artista y las de más de uno? **(0.5 puntos)**\n",
        "\n",
        "e) ¿Cuáles son las propiedades de una canción que mejor correlan con el número de reproducciones de una canción? **(0.5 puntos)**\n",
        "\n",
        "f) ¿Cuáles son las variables que mejor predicen las canciones que están por encima el percentil 50? **(1 puntos)**\n",
        "\n",
        "*Nota: Crea una variable binaria (Hit/No Hit) en base a 3.c, crea una regresión logística y visualiza sus coeficientes.*\n",
        "\n",
        "g) Agrupa los 4 gráficos realizados en uno solo y haz una recomendación a un sello discográfico para producir un nuevo hit. **(1 puntos)**\n"
      ]
    },
    {
      "cell_type": "markdown",
      "metadata": {},
      "source": [
        "a) Lee el fichero en formato dataframe, aplica la función del ejercicio 2.b, elimina NAs y convierte a integer si fuera necesario. **(0.25 puntos)**"
      ]
    },
    {
      "cell_type": "code",
      "execution_count": 128,
      "metadata": {
        "id": "nN73ExlTmNE_"
      },
      "outputs": [
        {
          "name": "stdout",
          "output_type": "stream",
          "text": [
            "\n",
            "Información del dataframe\n",
            "\n",
            "<class 'pandas.core.frame.DataFrame'>\n",
            "RangeIndex: 952 entries, 0 to 951\n",
            "Data columns (total 24 columns):\n",
            " #   Column                Non-Null Count  Dtype \n",
            "---  ------                --------------  ----- \n",
            " 0   track_name            952 non-null    object\n",
            " 1   artist(s)_name        952 non-null    object\n",
            " 2   artist_count          952 non-null    int64 \n",
            " 3   released_year         952 non-null    int64 \n",
            " 4   released_month        952 non-null    int64 \n",
            " 5   released_day          952 non-null    int64 \n",
            " 6   in_spotify_playlists  952 non-null    int64 \n",
            " 7   in_spotify_charts     952 non-null    int64 \n",
            " 8   streams               952 non-null    int64 \n",
            " 9   in_apple_playlists    952 non-null    int64 \n",
            " 10  in_apple_charts       952 non-null    int64 \n",
            " 11  in_deezer_playlists   952 non-null    object\n",
            " 12  in_deezer_charts      952 non-null    int64 \n",
            " 13  in_shazam_charts      902 non-null    object\n",
            " 14  bpm                   952 non-null    int64 \n",
            " 15  key                   857 non-null    object\n",
            " 16  mode                  952 non-null    object\n",
            " 17  danceability_%        952 non-null    int64 \n",
            " 18  valence_%             952 non-null    int64 \n",
            " 19  energy_%              952 non-null    int64 \n",
            " 20  acousticness_%        952 non-null    int64 \n",
            " 21  instrumentalness_%    952 non-null    int64 \n",
            " 22  liveness_%            952 non-null    int64 \n",
            " 23  speechiness_%         952 non-null    int64 \n",
            "dtypes: int64(18), object(6)\n",
            "memory usage: 178.6+ KB\n",
            "None\n",
            "\\Dimensiones del dataframe\n",
            "\n",
            "(952, 24)\n",
            "\n",
            "Suma de Valores Nulos por columna del df:\n",
            "\n",
            "track_name               0\n",
            "artist(s)_name           0\n",
            "artist_count             0\n",
            "released_year            0\n",
            "released_month           0\n",
            "released_day             0\n",
            "in_spotify_playlists     0\n",
            "in_spotify_charts        0\n",
            "streams                  0\n",
            "in_apple_playlists       0\n",
            "in_apple_charts          0\n",
            "in_deezer_playlists      0\n",
            "in_deezer_charts         0\n",
            "in_shazam_charts        50\n",
            "bpm                      0\n",
            "key                     95\n",
            "mode                     0\n",
            "danceability_%           0\n",
            "valence_%                0\n",
            "energy_%                 0\n",
            "acousticness_%           0\n",
            "instrumentalness_%       0\n",
            "liveness_%               0\n",
            "speechiness_%            0\n",
            "dtype: int64\n",
            "\n",
            "Tipos de datos de las columnas\n",
            "\n",
            "track_name              object\n",
            "artist(s)_name          object\n",
            "artist_count             int64\n",
            "released_year            int64\n",
            "released_month           int64\n",
            "released_day             int64\n",
            "in_spotify_playlists     int64\n",
            "in_spotify_charts        int64\n",
            "streams                  int64\n",
            "in_apple_playlists       int64\n",
            "in_apple_charts          int64\n",
            "in_deezer_playlists     object\n",
            "in_deezer_charts         int64\n",
            "in_shazam_charts        object\n",
            "bpm                      int64\n",
            "key                     object\n",
            "mode                    object\n",
            "danceability_%           int64\n",
            "valence_%                int64\n",
            "energy_%                 int64\n",
            "acousticness_%           int64\n",
            "instrumentalness_%       int64\n",
            "liveness_%               int64\n",
            "speechiness_%            int64\n",
            "dtype: object\n",
            "\n",
            "Estadisticas basicas del df\n",
            "\n",
            "       artist_count  released_year  released_month  released_day  \\\n",
            "count    952.000000     952.000000      952.000000    952.000000   \n",
            "mean       1.556723    2018.288866        6.038866     13.944328   \n",
            "std        0.893331      11.011397        3.564571      9.197223   \n",
            "min        1.000000    1930.000000        1.000000      1.000000   \n",
            "25%        1.000000    2020.000000        3.000000      6.000000   \n",
            "50%        1.000000    2022.000000        6.000000     13.000000   \n",
            "75%        2.000000    2022.000000        9.000000     22.000000   \n",
            "max        8.000000    2023.000000       12.000000     31.000000   \n",
            "\n",
            "       in_spotify_playlists  in_spotify_charts       streams  \\\n",
            "count            952.000000         952.000000  9.520000e+02   \n",
            "mean            5202.565126          12.022059  5.141374e+08   \n",
            "std             7901.400683          19.582405  5.668569e+08   \n",
            "min               31.000000           0.000000  2.762000e+03   \n",
            "25%              874.500000           0.000000  1.416362e+08   \n",
            "50%             2216.500000           3.000000  2.905309e+08   \n",
            "75%             5573.750000          16.000000  6.738690e+08   \n",
            "max            52898.000000         147.000000  3.703895e+09   \n",
            "\n",
            "       in_apple_playlists  in_apple_charts  in_deezer_charts         bpm  \\\n",
            "count          952.000000       952.000000        952.000000  952.000000   \n",
            "mean            67.866597        51.963235          2.669118  122.553571   \n",
            "std             86.470591        50.628850          6.038152   28.069601   \n",
            "min              0.000000         0.000000          0.000000   65.000000   \n",
            "25%             13.000000         7.000000          0.000000   99.750000   \n",
            "50%             34.000000        38.500000          0.000000  121.000000   \n",
            "75%             88.000000        87.000000          2.000000  140.250000   \n",
            "max            672.000000       275.000000         58.000000  206.000000   \n",
            "\n",
            "       danceability_%   valence_%    energy_%  acousticness_%  \\\n",
            "count      952.000000  952.000000  952.000000      952.000000   \n",
            "mean        66.984244   51.406513   64.274160       27.078782   \n",
            "std         14.631282   23.480526   16.558517       26.001599   \n",
            "min         23.000000    4.000000    9.000000        0.000000   \n",
            "25%         57.000000   32.000000   53.000000        6.000000   \n",
            "50%         69.000000   51.000000   66.000000       18.000000   \n",
            "75%         78.000000   70.000000   77.000000       43.000000   \n",
            "max         96.000000   97.000000   97.000000       97.000000   \n",
            "\n",
            "       instrumentalness_%  liveness_%  speechiness_%  \n",
            "count          952.000000  952.000000     952.000000  \n",
            "mean             1.582983   18.214286      10.138655  \n",
            "std              8.414064   13.718374       9.915399  \n",
            "min              0.000000    3.000000       2.000000  \n",
            "25%              0.000000   10.000000       4.000000  \n",
            "50%              0.000000   12.000000       6.000000  \n",
            "75%              0.000000   24.000000      11.000000  \n",
            "max             91.000000   97.000000      64.000000  \n",
            "<class 'pandas.core.frame.DataFrame'>\n",
            "Index: 816 entries, 0 to 951\n",
            "Data columns (total 24 columns):\n",
            " #   Column                Non-Null Count  Dtype \n",
            "---  ------                --------------  ----- \n",
            " 0   track_name            816 non-null    object\n",
            " 1   artist(s)_name        816 non-null    object\n",
            " 2   artist_count          816 non-null    int64 \n",
            " 3   released_year         816 non-null    int64 \n",
            " 4   released_month        816 non-null    int64 \n",
            " 5   released_day          816 non-null    int64 \n",
            " 6   in_spotify_playlists  816 non-null    int64 \n",
            " 7   in_spotify_charts     816 non-null    int64 \n",
            " 8   streams               816 non-null    int64 \n",
            " 9   in_apple_playlists    816 non-null    int64 \n",
            " 10  in_apple_charts       816 non-null    int64 \n",
            " 11  in_deezer_playlists   816 non-null    object\n",
            " 12  in_deezer_charts      816 non-null    int64 \n",
            " 13  in_shazam_charts      816 non-null    object\n",
            " 14  bpm                   816 non-null    int64 \n",
            " 15  key                   816 non-null    object\n",
            " 16  mode                  816 non-null    object\n",
            " 17  danceability_%        816 non-null    int64 \n",
            " 18  valence_%             816 non-null    int64 \n",
            " 19  energy_%              816 non-null    int64 \n",
            " 20  acousticness_%        816 non-null    int64 \n",
            " 21  instrumentalness_%    816 non-null    int64 \n",
            " 22  liveness_%            816 non-null    int64 \n",
            " 23  speechiness_%         816 non-null    int64 \n",
            "dtypes: int64(18), object(6)\n",
            "memory usage: 159.4+ KB\n"
          ]
        }
      ],
      "source": [
        "df_spotify = pd.read_csv(\"spotify-2023.csv\", encoding=\"ISO-8859-1\")\n",
        "\n",
        "# 2. Aplica la funcion del 2.b\n",
        "describe_dataset(df_spotify)\n",
        "\n",
        "# 3. Elimina los na's del set \n",
        "df_spotify.dropna(inplace=True)  # Add parentheses to call the dropna() function\n",
        "\n",
        "df_spotify.info()\n",
        "\n",
        "# 4. Convierte a integer si fuese necesario\n",
        "df_spotify[\"streams\"] = df_spotify[\"streams\"].astype(int)  # Convert to int\n",
        "df_spotify[\"in_deezer_playlists\"] = df_spotify[\"in_deezer_playlists\"].str.replace(\",\", \"\").astype(int)  # Remove commas and convert to int\n",
        "df_spotify[\"in_shazam_charts\"] = df_spotify[\"in_shazam_charts\"].str.replace(\",\", \"\").astype(int)  # Remove commas and convert to int"
      ]
    },
    {
      "cell_type": "code",
      "execution_count": 129,
      "metadata": {},
      "outputs": [
        {
          "data": {
            "text/html": [
              "<div>\n",
              "<style scoped>\n",
              "    .dataframe tbody tr th:only-of-type {\n",
              "        vertical-align: middle;\n",
              "    }\n",
              "\n",
              "    .dataframe tbody tr th {\n",
              "        vertical-align: top;\n",
              "    }\n",
              "\n",
              "    .dataframe thead th {\n",
              "        text-align: right;\n",
              "    }\n",
              "</style>\n",
              "<table border=\"1\" class=\"dataframe\">\n",
              "  <thead>\n",
              "    <tr style=\"text-align: right;\">\n",
              "      <th></th>\n",
              "      <th>track_name</th>\n",
              "      <th>artist(s)_name</th>\n",
              "      <th>artist_count</th>\n",
              "      <th>released_year</th>\n",
              "      <th>released_month</th>\n",
              "      <th>released_day</th>\n",
              "      <th>in_spotify_playlists</th>\n",
              "      <th>in_spotify_charts</th>\n",
              "      <th>streams</th>\n",
              "      <th>in_apple_playlists</th>\n",
              "      <th>...</th>\n",
              "      <th>bpm</th>\n",
              "      <th>key</th>\n",
              "      <th>mode</th>\n",
              "      <th>danceability_%</th>\n",
              "      <th>valence_%</th>\n",
              "      <th>energy_%</th>\n",
              "      <th>acousticness_%</th>\n",
              "      <th>instrumentalness_%</th>\n",
              "      <th>liveness_%</th>\n",
              "      <th>speechiness_%</th>\n",
              "    </tr>\n",
              "  </thead>\n",
              "  <tbody>\n",
              "    <tr>\n",
              "      <th>0</th>\n",
              "      <td>Seven (feat. Latto) (Explicit Ver.)</td>\n",
              "      <td>Latto, Jung Kook</td>\n",
              "      <td>2</td>\n",
              "      <td>2023</td>\n",
              "      <td>7</td>\n",
              "      <td>14</td>\n",
              "      <td>553</td>\n",
              "      <td>147</td>\n",
              "      <td>141381703</td>\n",
              "      <td>43</td>\n",
              "      <td>...</td>\n",
              "      <td>125</td>\n",
              "      <td>B</td>\n",
              "      <td>Major</td>\n",
              "      <td>80</td>\n",
              "      <td>89</td>\n",
              "      <td>83</td>\n",
              "      <td>31</td>\n",
              "      <td>0</td>\n",
              "      <td>8</td>\n",
              "      <td>4</td>\n",
              "    </tr>\n",
              "    <tr>\n",
              "      <th>1</th>\n",
              "      <td>LALA</td>\n",
              "      <td>Myke Towers</td>\n",
              "      <td>1</td>\n",
              "      <td>2023</td>\n",
              "      <td>3</td>\n",
              "      <td>23</td>\n",
              "      <td>1474</td>\n",
              "      <td>48</td>\n",
              "      <td>133716286</td>\n",
              "      <td>48</td>\n",
              "      <td>...</td>\n",
              "      <td>92</td>\n",
              "      <td>C#</td>\n",
              "      <td>Major</td>\n",
              "      <td>71</td>\n",
              "      <td>61</td>\n",
              "      <td>74</td>\n",
              "      <td>7</td>\n",
              "      <td>0</td>\n",
              "      <td>10</td>\n",
              "      <td>4</td>\n",
              "    </tr>\n",
              "    <tr>\n",
              "      <th>2</th>\n",
              "      <td>vampire</td>\n",
              "      <td>Olivia Rodrigo</td>\n",
              "      <td>1</td>\n",
              "      <td>2023</td>\n",
              "      <td>6</td>\n",
              "      <td>30</td>\n",
              "      <td>1397</td>\n",
              "      <td>113</td>\n",
              "      <td>140003974</td>\n",
              "      <td>94</td>\n",
              "      <td>...</td>\n",
              "      <td>138</td>\n",
              "      <td>F</td>\n",
              "      <td>Major</td>\n",
              "      <td>51</td>\n",
              "      <td>32</td>\n",
              "      <td>53</td>\n",
              "      <td>17</td>\n",
              "      <td>0</td>\n",
              "      <td>31</td>\n",
              "      <td>6</td>\n",
              "    </tr>\n",
              "    <tr>\n",
              "      <th>3</th>\n",
              "      <td>Cruel Summer</td>\n",
              "      <td>Taylor Swift</td>\n",
              "      <td>1</td>\n",
              "      <td>2019</td>\n",
              "      <td>8</td>\n",
              "      <td>23</td>\n",
              "      <td>7858</td>\n",
              "      <td>100</td>\n",
              "      <td>800840817</td>\n",
              "      <td>116</td>\n",
              "      <td>...</td>\n",
              "      <td>170</td>\n",
              "      <td>A</td>\n",
              "      <td>Major</td>\n",
              "      <td>55</td>\n",
              "      <td>58</td>\n",
              "      <td>72</td>\n",
              "      <td>11</td>\n",
              "      <td>0</td>\n",
              "      <td>11</td>\n",
              "      <td>15</td>\n",
              "    </tr>\n",
              "    <tr>\n",
              "      <th>4</th>\n",
              "      <td>WHERE SHE GOES</td>\n",
              "      <td>Bad Bunny</td>\n",
              "      <td>1</td>\n",
              "      <td>2023</td>\n",
              "      <td>5</td>\n",
              "      <td>18</td>\n",
              "      <td>3133</td>\n",
              "      <td>50</td>\n",
              "      <td>303236322</td>\n",
              "      <td>84</td>\n",
              "      <td>...</td>\n",
              "      <td>144</td>\n",
              "      <td>A</td>\n",
              "      <td>Minor</td>\n",
              "      <td>65</td>\n",
              "      <td>23</td>\n",
              "      <td>80</td>\n",
              "      <td>14</td>\n",
              "      <td>63</td>\n",
              "      <td>11</td>\n",
              "      <td>6</td>\n",
              "    </tr>\n",
              "  </tbody>\n",
              "</table>\n",
              "<p>5 rows × 24 columns</p>\n",
              "</div>"
            ],
            "text/plain": [
              "                            track_name    artist(s)_name  artist_count  \\\n",
              "0  Seven (feat. Latto) (Explicit Ver.)  Latto, Jung Kook             2   \n",
              "1                                 LALA       Myke Towers             1   \n",
              "2                              vampire    Olivia Rodrigo             1   \n",
              "3                         Cruel Summer      Taylor Swift             1   \n",
              "4                       WHERE SHE GOES         Bad Bunny             1   \n",
              "\n",
              "   released_year  released_month  released_day  in_spotify_playlists  \\\n",
              "0           2023               7            14                   553   \n",
              "1           2023               3            23                  1474   \n",
              "2           2023               6            30                  1397   \n",
              "3           2019               8            23                  7858   \n",
              "4           2023               5            18                  3133   \n",
              "\n",
              "   in_spotify_charts    streams  in_apple_playlists  ...  bpm  key   mode  \\\n",
              "0                147  141381703                  43  ...  125    B  Major   \n",
              "1                 48  133716286                  48  ...   92   C#  Major   \n",
              "2                113  140003974                  94  ...  138    F  Major   \n",
              "3                100  800840817                 116  ...  170    A  Major   \n",
              "4                 50  303236322                  84  ...  144    A  Minor   \n",
              "\n",
              "   danceability_%  valence_% energy_% acousticness_%  instrumentalness_%  \\\n",
              "0              80         89       83             31                   0   \n",
              "1              71         61       74              7                   0   \n",
              "2              51         32       53             17                   0   \n",
              "3              55         58       72             11                   0   \n",
              "4              65         23       80             14                  63   \n",
              "\n",
              "   liveness_%  speechiness_%  \n",
              "0           8              4  \n",
              "1          10              4  \n",
              "2          31              6  \n",
              "3          11             15  \n",
              "4          11              6  \n",
              "\n",
              "[5 rows x 24 columns]"
            ]
          },
          "execution_count": 129,
          "metadata": {},
          "output_type": "execute_result"
        }
      ],
      "source": [
        "df_spotify.head()"
      ]
    },
    {
      "cell_type": "markdown",
      "metadata": {},
      "source": [
        "b) ¿Cuántos artistas únicos hay? **(0.25 puntos)**"
      ]
    },
    {
      "cell_type": "code",
      "execution_count": 130,
      "metadata": {},
      "outputs": [
        {
          "data": {
            "text/plain": [
              "array(['Latto', 'Jung Kook', 'Myke Towers', 'Olivia Rodrigo',\n",
              "       'Taylor Swift', 'Bad Bunny', 'Dave', 'Central Cee',\n",
              "       'Eslabon Armado', 'Peso Pluma', 'Quevedo', 'Gunna', 'Yng Lvcas',\n",
              "       'Grupo Frontera', 'NewJeans', 'David Kushner', 'SZA',\n",
              "       'Fifty Fifty', 'Feid', 'Young Miko', 'Jimin', 'Gabito Ballesteros',\n",
              "       'Junior H', 'Bizarrap', 'The Weeknd', 'Madonna', 'Playboi Carti',\n",
              "       'Fuerza Regida', 'Rï¿½ï¿½ma', 'Selena G', 'Tainy', 'Morgan Wallen',\n",
              "       'Dua Lipa', 'Troye Sivan', '21 Savage', 'Metro Boomin', 'Karol G',\n",
              "       'Shakira', 'Yahritza Y Su Esencia', 'Post Malone', 'Swae Lee',\n",
              "       'Bebe Rexha', 'David Guetta', 'Tyler', 'The Creator', 'Kali Uchis',\n",
              "       'Miley Cyrus', 'Daft Punk', 'Ariana Grande', 'Sky Rompiendo',\n",
              "       'Anne-Marie', 'Coi Leray', 'Peggy Gou', 'Manuel Turizo', 'dennis',\n",
              "       'MC Kevin o Chris', 'PinkPantheress', 'Ice Spice', 'Charlie Puth',\n",
              "       'BTS', 'Rauw Alejandro', 'ROSALï¿½', 'Ozuna', 'Chris Molitor',\n",
              "       'Libianca', 'JVKE', 'Coldplay', 'd4vd', 'Sam Smith', 'Kim Petras',\n",
              "       'Yandel', 'Maria Becerra', 'Vance Joy', 'Em Beihold',\n",
              "       'Stephen Sanchez', 'Mc Livinho', 'DJ Matt D', 'Justin Bieber',\n",
              "       'The Kid Laroi', 'Marshmello', 'Chencho Corleone', 'Jain',\n",
              "       'Ayparia', 'unxbected', 'Luke Combs', 'Doechii', 'Eladio Carrion',\n",
              "       'J. Cole', 'Lil Durk', 'Lana Del Rey', 'Future', 'Don Toliver',\n",
              "       'Eminem', 'Carin Leon', 'Elton John', 'Pnau', 'Ruth B.',\n",
              "       'Imagine Dragons', 'Adele', 'Kendrick Lamar', 'Jay Rock',\n",
              "       'Anggi Marito', 'Jasiel Nuï¿½ï¿½ez', 'Peso P', 'Tears For Fears',\n",
              "       'Loreen', 'Taiu', 'Milo j', 'Sebastian Yatra', 'Beï¿½ï¿½',\n",
              "       'Calvin Harris', 'Ellie Goulding', 'Sabrina Carpenter',\n",
              "       'Ray Dalton', 'Ryan Lewis', 'Macklemore', 'Billie Eilish',\n",
              "       'Khalid', '(G)I-DLE', 'Travis Scott', 'Young Thug', 'Sachin-Jigar',\n",
              "       'Shadab Faridi', 'Altamash Faridi', 'Amitabh Bhattacharya',\n",
              "       'Varun Jain', 'Ed Sheeran', 'Veigh', 'Bvga Beatz', 'Supernova Ent',\n",
              "       'Prod Malax', 'Mc Pedrinho', 'DJ 900', 'Bomba Estï¿½ï¿½reo',\n",
              "       'Bad B', 'Keane', 'New West', 'Chino Pacas', 'Natanael Cano',\n",
              "       'Ana Castela', 'AgroPlay', 'Bruno Mars', 'Big One', 'FMK',\n",
              "       'Ke personajes', 'OneRepublic', 'Drake', 'WizKid', 'Kyla',\n",
              "       'Miguel', 'The Police', 'Lord Huron', 'Rihanna', 'Alec Benjamin',\n",
              "       'A$AP Rocky', 'Roisee', 'Arctic Monkeys', 'YOASOBI', 'Radiohead',\n",
              "       'James Arthur', 'Cigarettes After Sex', 'Shubh', 'Frank Ocean',\n",
              "       'Hozier', 'Hotel Ugly', 'Plan B', 'Mora', 'Saiko', 'a-ha',\n",
              "       'Lil Wayne', 'Offset', 'Kodak Black', 'NLE Choppa', 'Muni Long',\n",
              "       'Arijit Singh', 'Amitabha Bhattacharya', 'Stray Kids', 'Becky G',\n",
              "       'Kaliii', 'Eden Muï¿½ï¿½', 'Abhijay Sharma', 'Riar Saab',\n",
              "       'Semicenk', 'Doï¿½ï¿½u', 'JISOO', 'Lil Uzi Vert', 'RAYE',\n",
              "       '070 Shake', 'Arcangel', 'Chris Brown', 'BLESSD', 'ENHYPEN',\n",
              "       'James Blake', 'Israel & Rodolffo', 'Mari Fernandez', 'Steve Lacy',\n",
              "       'Beyoncï¿½', 'Halsey', 'Suga', 'Nicky Jam', 'Sean Paul', 'Toian',\n",
              "       'Beam', 'Simone Mendes', 'Tini', 'MC Caverinha', 'KayBlack', 'JID',\n",
              "       'Zï¿½ï¿½ Neto & Crist', 'Migrantes', 'LiL CaKe', 'Nico Valdi',\n",
              "       'Tory Lanez', 'Joji', 'Mambo Kingz', 'DJ Luian', 'Anuel Aa',\n",
              "       'Nile Rodgers', 'LE SSERAFIM', 'Agust D', 'Rich The Kid',\n",
              "       'Matuï¿½', 'Labrinth', 'Romeo Santos', 'Lizzy McAlpine', 'IVE',\n",
              "       'sped up 8282', 'Cartel De Santa', 'La Kelly', 'SEVENTEEN',\n",
              "       'Nicki Minaj', 'Grupo Marca Registrada', 'TAEYANG', 'Lisa',\n",
              "       'Raim Laode', 'Meghan Trainor', 'sped up nightcore',\n",
              "       'ARIZONATEARS', 'TV Girl', 'INTERWORLD', 'Jhayco', 'El Chachito',\n",
              "       'Gesaffelstein', 'RM', 'Colde', 'Nengo Flow', 'Nicky Youre',\n",
              "       'Dazy', 'Dina Rae', 'IU', 'Tiï¿½ï¿½sto', 'Tate M', 'NF', 'Kanii',\n",
              "       'PR1ISVX', 'Harry Styles', 'Marï¿½ï¿½lia Mendo', 'Zach Bryan',\n",
              "       'Melanie Martinez', 'Mae Stephens', 'Kenia OS', 'Kordhell',\n",
              "       'Ovy On The Drums', 'The Walters', 'Mac DeMarco', 'Jack Black',\n",
              "       'Duki', 'NICKI NICOLE', 'Cris Mj', 'Standly', 'Stars Music Chile',\n",
              "       'Brray', 'Lyanno', 'Linkin Park', 'j-hope', 'Robin Schulz',\n",
              "       'Oliver Tree', 'Niall Horan', 'Mahalini', 'ThxSoMch',\n",
              "       'Eric Church', 'Kaifi Khalil', 'Lady Gaga', 'Leo Santana',\n",
              "       'Treyce', 'Doja Cat', 'MC Xenon', 'Os Gemeos da Putaria',\n",
              "       'League of Legends', 'Arcane', 'XXXTENTACION', 'J Balvin',\n",
              "       'Yuridia', 'Angela Aguilar', 'Lizzo', 'Fujii Kaze',\n",
              "       'Wisin & Yandel', 'King', 'P!nk', 'Lil Nas X', 'Beach Weather',\n",
              "       'Baby Tate', 'Vishal Dadlani', 'Sukriti Kakar', 'Vishal-Shekhar',\n",
              "       'Shekhar Ravjiani', 'Kumaar', 'Steve Aoki', 'La Joaqui',\n",
              "       'Conan Gray', 'Shilpa Rao', 'Caralisa Monteiro',\n",
              "       'TOMORROW X TOGETHER', 'Tems', 'Mr.Kitty', 'Elley Duhï¿½',\n",
              "       'Seafret', 'DJ Escobar', 'MC MENOR SG', 'MC MENOR HR',\n",
              "       'Dean Lewis', 'Bellakath', 'Skrillex', 'Flowdan', 'Fred again..',\n",
              "       'Kate Bush', 'Aerosmith', 'Freddie Dredd', 'Lost Frequencies',\n",
              "       'Calum Scott', 'Twisted', 'Kenshi Yonezu', 'Omar Apollo', 'DaBaby',\n",
              "       'James Hype', 'Miggy Dela Rosa', 'Styrx', 'utku INC', 'Thezth',\n",
              "       'Michael Bublï¿½', 'Andy Williams', 'Dean Martin',\n",
              "       'Kelly Clarkson', 'Josï¿½ï¿½ Felic', 'The Ronettes', 'John Lennon',\n",
              "       'The Harlem Community Choir', 'The Plastic Ono Band', 'Yoko Ono',\n",
              "       'Nat King Cole', 'Paul McCartney', 'Phoebe Bridgers',\n",
              "       \"Shakin' Stevens\", 'Frank Sinatra', 'B. Swanson Quartet',\n",
              "       'Bing Crosby', 'John Scott Trotter & His Orchestra',\n",
              "       'Ken Darby Singers', 'Chris Rea', 'Darlene Love', 'Perry Como',\n",
              "       'The Fontane Sisters', 'Mitchell Ayres & His Orchestra',\n",
              "       'Mabel Matiz', 'Mert Demir', 'Dj LK da Escï¿½ï¿½cia', 'Tchakabum',\n",
              "       'mc jhenny', 'M', 'Jhay Cortez', 'Gwen Stefani', 'Blake Shelton',\n",
              "       'Chuck Berry', 'John Legend', 'Maldy', 'Lauren Spencer Smith',\n",
              "       'Cherish', 'ACRAZE', 'Jaymes Young', 'Jessica Darrow', 'Mï¿½ï¿½ne',\n",
              "       'Aitana', 'zzoilo', 'Julieta Venegas', 'Ava', 'Xamï¿½ï¿½',\n",
              "       'Gustah', 'Neo B', 'Lit Killah', 'Tiago pzk', 'Emmy Meli',\n",
              "       'Justin Quiles', 'Lenny Tavï¿½ï¿½rez', 'BL', 'Shawn Mendes',\n",
              "       'The Neighbourhood', 'Aventura', 'Anderson .Paak', 'Silk Sonic',\n",
              "       'THE ANXIETY', 'Willow', 'Tyler Cole', 'Stromae', 'Rvssian',\n",
              "       'Amaarae', 'Moliy', 'Jnr Choi', 'Trueno', 'Sech', 'Project Pat',\n",
              "       'Kar', 'Olga Merediz', 'Stephanie Beatriz', 'Encanto - Cast',\n",
              "       'Surf Curse', 'Jason Derulo', 'Diane Guerrero', 'Kanye West',\n",
              "       'Lewis Capaldi', 'Maluma', 'Fireboy DML', 'Prezioso',\n",
              "       'Gabry Ponte', 'LUM!X', 'Tiï¿½ï¿½', 'Marï¿½ï¿½lia Mendonï¿½ï¿½a',\n",
              "       'George Henrique &', 'TWICE', 'Charli XCX', 'Jax Jones',\n",
              "       'Joel Corry', 'Saweetie', 'SALES', 'Sleepy hallow', 'Masked Wolf',\n",
              "       'NIKI', 'Tate McRae', 'Avicii', 'Juice WRLD', 'Nirvana', 'L-Gante',\n",
              "       'SiM', 'Baby Keem', 'The Killers', 'Nio Garcia', 'Bradley Cooper',\n",
              "       'Jonas Brothers', 'Riton', 'Nightcrawlers', 'Mufasa & Hypeman',\n",
              "       'Dopamine', 'Polo G', 'Nate Dogg', 'Maroon 5', 'De La Ghetto',\n",
              "       'Dalex', 'Dimelo Flow', 'Rich Music', 'Lil Baby', 'Maiara &',\n",
              "       'Dr. Dre', 'Snoop Dogg', 'Dove Cameron', 'Alicia Keys',\n",
              "       'Fivio Foreign', 'Mahmood', 'Blanco', '50 Cent', 'Yung Lean',\n",
              "       'Zendaya', 'The Rare Occasions', 'Intense', 'AP Dhillon',\n",
              "       'Gurinder Gill', 'La Pantera', 'Juseph', 'Cruz Cafunï¿½ï¿½',\n",
              "       'Bï¿½ï¿½jo', 'Abhir Hathi', '2Pac', 'Roger', 'Luude', 'Colin Hay',\n",
              "       'Ryan Castro', 'Dido', 'GODZZ__-', 'Zakaria', 'Chase Atlantic',\n",
              "       'Mainstreet', 'Chefin', 'Alvaro Diaz', 'Zï¿½ï¿½ Fe', 'Vundabar',\n",
              "       'V', 'Camila Cabello', 'Daddy Yankee', 'Megan Thee Stallion',\n",
              "       'Anitta', 'Tulus', 'Pedro Sampaio', 'Zion & Lennox', 'Residente',\n",
              "       'Jack Harlow', 'Christian Nodal', 'Tyga', 'YEAT', 'C. Tangana',\n",
              "       'The Chainsmokers', 'NMIXX', 'AnnenMayKantereit', 'Giant Rooks',\n",
              "       'Danny Ocean', 'Lil Tjay', 'Alejo', 'Robi', 'Paulo Londra',\n",
              "       'Demi Lovato', 'Matuï¿½ï¿½', 'Wiu', '', 'Luï¿½ï¿½sa Sonza',\n",
              "       'MC Frog', 'Dj Gabriel do Borel', 'Davi K', 'teto', 'Blackbear',\n",
              "       'BoyWithUke', 'Pharrell Williams', 'Jordan Fisher', 'Josh Levi',\n",
              "       \"Finneas O'Connell\",\n",
              "       '4*TOWN (From Disney and Pixarï¿½ï¿½ï¿½s Turning Red)',\n",
              "       'Topher Ngo', 'Grayson Vill', 'BIGBANG', 'Blxst', 'Amanda Reifer',\n",
              "       'Sampha', 'Tony Dize', 'Buscabulla', 'Taylour Paige', 'Sam Dew',\n",
              "       'The Marï¿½ï¿½', 'Ghostface Killah', 'Summer Walker',\n",
              "       'Polima WestCoast', 'Pailita', 'Panic! At The Disco',\n",
              "       'Tanna Leone', 'PSY', 'Benson Boone', 'KALUSH', 'Luciano',\n",
              "       'Shae Gill', 'Ali Sethi', 'Beth Gibbons', 'MNEK', 'Ugly Dray',\n",
              "       'Tesla Jnr', 'Jessi', 'Chanel', 'Leah Kate', 'Sam Ryder',\n",
              "       'HA SUNG WOON', 'The Goo Goo Dolls', 'Kevin Kaarl',\n",
              "       'Suki Waterhouse', 'Chris Jedi', 'Musical Youth',\n",
              "       'Villano Antillano', 'BYOR', 'Imanbek', '347aidan', 'Paloma Faith',\n",
              "       'Childish Gambino', 'Ella Henderson', 'Becky Hill',\n",
              "       'Sidhu Moose Wala', 'Victor Cibrian', 'Metallica', 'Paloma Mami',\n",
              "       'Yung Gravy', 'Lasso', 'Nayeon', 'Schï¿½ï¿½rze', 'DJ R',\n",
              "       \"Guns N' Roses\", 'Burna Boy', 'Cardi B', 'L7nnon',\n",
              "       'DJ Biel do Furduncinho', 'Bianca', 'Nessa Barrett', 'LF System',\n",
              "       'Mc Vitin Da Igrejinha', 'MC Tairon', 'DJ Win', 'Rels B',\n",
              "       'DJ Khaled', 'Ghost', 'Rex Orange County', 'Sofia Carson',\n",
              "       'Justin Timberlake', 'Luis R Conriquez', 'La Adictiva',\n",
              "       'Black Eyed Peas', 'Melody', 'Dj Chris No Beat', 'Armani White',\n",
              "       'Oxlade', 'PnB Rock', 'Lil Yachty', 'Fran C', 'Nickoog Clk',\n",
              "       'Pablito Pesadilla', 'Southstar', 'girl in red', 'BLACKPINK',\n",
              "       'Aitch', 'Bï¿½', 'MC Ryan SP', 'Love Funk', 'Mc Paiva ZS',\n",
              "       'Ludwig Goransson', 'Foudeqush', 'Jin', 'Selena Gomez'],\n",
              "      dtype=object)"
            ]
          },
          "execution_count": 130,
          "metadata": {},
          "output_type": "execute_result"
        }
      ],
      "source": [
        "# Get an array with all values in the artist(s)_name column, split them with ',' then drop duplicates \n",
        "artists = df_spotify['artist(s)_name'].str.split(',', expand=True).stack().str.strip().unique()\n",
        "len(artists)\n",
        "artists"
      ]
    },
    {
      "cell_type": "markdown",
      "metadata": {},
      "source": [
        "c) ¿Cuál es la distribución de reproducciones? **(0.5 puntos)**"
      ]
    },
    {
      "cell_type": "code",
      "execution_count": 131,
      "metadata": {},
      "outputs": [
        {
          "data": {
            "application/vnd.plotly.v1+json": {
              "config": {
                "plotlyServerURL": "https://plot.ly"
              },
              "data": [
                {
                  "alignmentgroup": "True",
                  "bingroup": "x",
                  "histnorm": "probability density",
                  "hovertemplate": "Reproducciones=%{x}<br>probability density=%{y}<extra></extra>",
                  "legendgroup": "",
                  "marker": {
                    "color": "darkorange",
                    "opacity": 0.6,
                    "pattern": {
                      "shape": ""
                    }
                  },
                  "name": "",
                  "nbinsx": 100,
                  "offsetgroup": "",
                  "orientation": "v",
                  "showlegend": false,
                  "type": "histogram",
                  "x": [
                    141381703,
                    133716286,
                    140003974,
                    800840817,
                    303236322,
                    183706234,
                    725980112,
                    58149378,
                    95217315,
                    553634067,
                    505671438,
                    58255150,
                    387570742,
                    1163093654,
                    496795686,
                    335222234,
                    363369738,
                    86444842,
                    52135248,
                    200647221,
                    115364561,
                    78300654,
                    899183384,
                    61245289,
                    429829812,
                    127408954,
                    22581161,
                    52294266,
                    843957510,
                    999748277,
                    618990393,
                    188933502,
                    1355959075,
                    786181836,
                    176553476,
                    354495408,
                    2808096550,
                    1109433169,
                    1047101291,
                    570515054,
                    1647990401,
                    2565529693,
                    518745108,
                    107753850,
                    177740666,
                    153372011,
                    57876440,
                    256483385,
                    1214083358,
                    111947664,
                    156338624,
                    720434240,
                    357925728,
                    674072710,
                    1755214421,
                    404562836,
                    373199958,
                    14780425,
                    39578178,
                    54266102,
                    751134527,
                    1356565093,
                    1592909789,
                    635412045,
                    1230675890,
                    585695368,
                    43857627,
                    2009094673,
                    600976848,
                    39709092,
                    39228929,
                    2665343922,
                    223633238,
                    1440757818,
                    165484133,
                    58054811,
                    157058870,
                    95131998,
                    250305248,
                    685032533,
                    38411956,
                    144565150,
                    127567540,
                    399686758,
                    983637508,
                    118482347,
                    882831184,
                    286400165,
                    172825906,
                    1241559043,
                    29562220,
                    77309611,
                    1605224506,
                    1116995633,
                    838079900,
                    1163620694,
                    1093605526,
                    179659294,
                    39058561,
                    36912123,
                    1205951614,
                    1791000570,
                    201660859,
                    248088961,
                    90839753,
                    607123776,
                    55842345,
                    211050784,
                    342897938,
                    2762,
                    601863821,
                    1953533826,
                    2355719893,
                    66902503,
                    96273746,
                    430977451,
                    284819874,
                    721975598,
                    276259178,
                    54225632,
                    2559529074,
                    681583126,
                    2594040133,
                    81102253,
                    11956641,
                    1687664027,
                    611700552,
                    1133865788,
                    1089402494,
                    411747614,
                    255932395,
                    31873544,
                    233801632,
                    1481349984,
                    142095275,
                    2011464183,
                    436027885,
                    2713922350,
                    621660989,
                    950906471,
                    1593270737,
                    1410088830,
                    1235005533,
                    1374581173,
                    94186466,
                    1788326445,
                    1840364617,
                    143573775,
                    684675814,
                    1113838873,
                    1267333350,
                    3562543890,
                    1271293243,
                    265882712,
                    841749534,
                    47956378,
                    806397070,
                    1641426668,
                    2135158446,
                    367316268,
                    350381515,
                    1264310836,
                    30343206,
                    405136812,
                    540654286,
                    57312735,
                    397582059,
                    1479115056,
                    86773632,
                    133753727,
                    123124076,
                    463564958,
                    64533040,
                    65496046,
                    68616963,
                    161460990,
                    70106975,
                    113509496,
                    89933133,
                    71007139,
                    43522589,
                    232896922,
                    37126685,
                    195576623,
                    532336353,
                    538115192,
                    46142772,
                    401036314,
                    127026613,
                    345031710,
                    288101651,
                    60350538,
                    335074782,
                    76767396,
                    46065667,
                    459276435,
                    39666245,
                    138517666,
                    822633917,
                    595900742,
                    51985779,
                    57945987,
                    115010040,
                    175097833,
                    57089066,
                    488386797,
                    32761689,
                    1047480053,
                    153454328,
                    217672943,
                    457184829,
                    726434358,
                    573633020,
                    1406111294,
                    71573339,
                    24975653,
                    145458418,
                    1424589568,
                    231332117,
                    415932686,
                    988515741,
                    50847624,
                    39893489,
                    92035115,
                    118810253,
                    77233241,
                    117747907,
                    266624541,
                    293186992,
                    139681964,
                    123132751,
                    103762518,
                    162887075,
                    91221625,
                    190490915,
                    96180277,
                    185240616,
                    885093467,
                    104992946,
                    147290338,
                    158950978,
                    76910644,
                    137123880,
                    782369383,
                    502574952,
                    207033255,
                    381161027,
                    466231982,
                    357580552,
                    61105704,
                    198275403,
                    705469769,
                    34502215,
                    304118600,
                    1449799467,
                    173627354,
                    90025258,
                    652704649,
                    1829992958,
                    655466831,
                    146409671,
                    95816024,
                    117206995,
                    100409613,
                    80758350,
                    325592432,
                    58473276,
                    52722996,
                    191945597,
                    77377503,
                    743693613,
                    267789608,
                    449701773,
                    67070410,
                    116334601,
                    165584767,
                    367814306,
                    477033549,
                    156214700,
                    448843705,
                    294352144,
                    972164968,
                    920045682,
                    2420461338,
                    244658767,
                    68216992,
                    223582566,
                    471819764,
                    1361425037,
                    116599790,
                    148469433,
                    497225336,
                    88791109,
                    125917280,
                    105062254,
                    95623148,
                    144584800,
                    298063749,
                    166570053,
                    83021468,
                    139836056,
                    303216294,
                    221409663,
                    58890931,
                    81419389,
                    156777415,
                    284908316,
                    93438910,
                    363472647,
                    372476382,
                    56533272,
                    175399345,
                    203221468,
                    1624165576,
                    134294498,
                    70069745,
                    609293408,
                    671365962,
                    93587665,
                    1223481149,
                    1022258230,
                    263453310,
                    1435127549,
                    236857112,
                    147538971,
                    698086140,
                    723894473,
                    403097450,
                    309483971,
                    319566866,
                    909001996,
                    1061966512,
                    124988687,
                    134255790,
                    301051721,
                    156338624,
                    309653982,
                    297328960,
                    332506354,
                    480507035,
                    1065580332,
                    122763672,
                    1365184,
                    184308753,
                    606361689,
                    120972253,
                    338564981,
                    1606986953,
                    1301799902,
                    140187018,
                    107642809,
                    556585270,
                    2303033973,
                    646886885,
                    872137015,
                    571386359,
                    174006928,
                    284785823,
                    163284000,
                    246390068,
                    482257456,
                    168684524,
                    78489819,
                    195516622,
                    1260594497,
                    428685680,
                    1024858327,
                    838586769,
                    199386237,
                    972509632,
                    213438580,
                    210038833,
                    227918678,
                    826623384,
                    1802514301,
                    181831132,
                    462791599,
                    348647203,
                    90598517,
                    807561936,
                    663832097,
                    446390129,
                    485285717,
                    520034544,
                    476244795,
                    629173063,
                    404664135,
                    98709329,
                    110849052,
                    460492795,
                    94005786,
                    389771964,
                    403939487,
                    110073250,
                    351636786,
                    473248298,
                    73981293,
                    155653938,
                    395591396,
                    429504768,
                    242767149,
                    65362788,
                    67540165,
                    62019074,
                    295998468,
                    136689549,
                    135611421,
                    356709897,
                    110649992,
                    301869854,
                    127027715,
                    57144458,
                    56870689,
                    323437194,
                    317726339,
                    116144341,
                    328207708,
                    608228647,
                    180577478,
                    809306935,
                    49262961,
                    614555082,
                    245350949,
                    178660459,
                    51641685,
                    78139948,
                    322336177,
                    391251368,
                    349585590,
                    674772936,
                    119238316,
                    116903579,
                    888046992,
                    130655803,
                    88103848,
                    101114984,
                    1575467011,
                    91656026,
                    53933526,
                    267758538,
                    74601456,
                    920797189,
                    539595276,
                    1367810478,
                    578207856,
                    775542072,
                    656013912,
                    240684449,
                    63803529,
                    466214729,
                    236940480,
                    41924466,
                    225259194,
                    393230256,
                    287201015,
                    599770206,
                    342779426,
                    673801126,
                    1168642797,
                    383550148,
                    530511203,
                    510876816,
                    1763363713,
                    374191487,
                    108809090,
                    436695353,
                    354065229,
                    1143647827,
                    311395144,
                    672656250,
                    1256880657,
                    245095641,
                    686734357,
                    261414174,
                    610045621,
                    1115880852,
                    594482982,
                    566954746,
                    184937148,
                    31959571,
                    824420218,
                    363467642,
                    1127468248,
                    60680939,
                    247737946,
                    154797871,
                    124407432,
                    850608354,
                    376333030,
                    516784627,
                    1608045237,
                    506778838,
                    1472799873,
                    513643924,
                    261286503,
                    783706581,
                    422691058,
                    1062345656,
                    851070493,
                    263894529,
                    345903614,
                    956865266,
                    427486004,
                    156658366,
                    624515457,
                    777765388,
                    1138474110,
                    355219175,
                    290228626,
                    1062956628,
                    1180094974,
                    1456081449,
                    432702334,
                    489945871,
                    465959382,
                    1223481149,
                    2288695111,
                    720825549,
                    2086124197,
                    1690192927,
                    593917618,
                    200972675,
                    71014967,
                    560222750,
                    1806617704,
                    77337771,
                    528544703,
                    865640097,
                    2159346687,
                    211372494,
                    651732901,
                    608334048,
                    863756573,
                    797402345,
                    1695712020,
                    1759567999,
                    223319934,
                    54937991,
                    258316038,
                    596152090,
                    177129919,
                    716591492,
                    1210599487,
                    246376690,
                    496311364,
                    843309044,
                    500340342,
                    107255472,
                    135079152,
                    822239726,
                    1202722675,
                    343197054,
                    240769997,
                    426204830,
                    421135627,
                    554875730,
                    327498031,
                    185408548,
                    245400167,
                    579395142,
                    675039469,
                    252871192,
                    231996128,
                    1929770265,
                    918915401,
                    1180896317,
                    498960285,
                    258714692,
                    143139338,
                    209768491,
                    64714573,
                    50746620,
                    154119539,
                    181328253,
                    370068639,
                    2280566092,
                    563902868,
                    317622165,
                    203680270,
                    81350745,
                    282883169,
                    64787943,
                    2484812918,
                    461437791,
                    1439191367,
                    759208783,
                    368646862,
                    299634472,
                    756907987,
                    682475162,
                    546191065,
                    229473310,
                    202677468,
                    208166039,
                    527033089,
                    94616487,
                    394030335,
                    193443895,
                    299648208,
                    319757142,
                    153240879,
                    346127840,
                    312622938,
                    1200808494,
                    797196073,
                    1970673297,
                    665765558,
                    263779030,
                    339473453,
                    2204080728,
                    2591224264,
                    135444283,
                    236872197,
                    694525298,
                    421365166,
                    349746291,
                    255120451,
                    190981339,
                    924193303,
                    305771063,
                    273005485,
                    89566512,
                    677389855,
                    75476209,
                    408843328,
                    187772591,
                    178512385,
                    101780047,
                    146363130,
                    126443991,
                    157990698,
                    176290831,
                    1023187129,
                    106933107,
                    139193812,
                    212234990,
                    1714490998,
                    197643795,
                    807015863,
                    933815613,
                    499710590,
                    120847157,
                    53909146,
                    2236667932,
                    2123309722,
                    301242089,
                    723894473,
                    237351106,
                    461558540,
                    156898322,
                    127309180,
                    173702135,
                    305650299,
                    123216717,
                    479655659,
                    126191104,
                    344055883,
                    338422004,
                    68895644,
                    86176890,
                    403231558,
                    319546754,
                    61739839,
                    283359161,
                    76831876,
                    283332261,
                    307752576,
                    279737940,
                    212351890,
                    1304313953,
                    150500965,
                    246127838,
                    582863434,
                    58687425,
                    212109195,
                    382199619,
                    41210087,
                    231657891,
                    53729194,
                    244741137,
                    42485571,
                    37778188,
                    254218729,
                    53603447,
                    160035717,
                    37091576,
                    284249832,
                    33381454,
                    184622518,
                    300983101,
                    121077868,
                    106919680,
                    136996305,
                    65719930,
                    229497852,
                    185550869,
                    54682594,
                    240580042,
                    1284942608,
                    71423324,
                    244891912,
                    132171975,
                    184706613,
                    184826429,
                    302006641,
                    330881149,
                    334733572,
                    366214458,
                    114546317,
                    448500832,
                    136676504,
                    190625045,
                    79095270,
                    273194684,
                    333146475,
                    194902696,
                    195918494,
                    248511839,
                    233671263,
                    199587884,
                    91781263,
                    383835984,
                    236060709,
                    189236868,
                    160845341,
                    588955257,
                    238350348,
                    187703102,
                    138334433,
                    445590495,
                    286739476,
                    1122364376,
                    157136970,
                    183273246,
                    164856284,
                    704171068,
                    354614964,
                    279717388,
                    195628667,
                    221752937,
                    263280370,
                    213505179,
                    130419412,
                    155795783,
                    1553497987,
                    293466523,
                    191448892,
                    85924992,
                    176103902,
                    121189256,
                    131746175,
                    244790012,
                    129314708,
                    331511413,
                    170732845,
                    179061440,
                    185236961,
                    171788484,
                    387080183,
                    264717480,
                    244928911,
                    97610446,
                    287278853,
                    887906111,
                    123473120,
                    323455692,
                    240918092,
                    191873381,
                    239411309,
                    703301727,
                    189476119,
                    277132266,
                    278920007,
                    222410722,
                    185392587,
                    202452860,
                    1608164312,
                    624101957,
                    148461629,
                    47093942,
                    380319238,
                    209106362,
                    53987404,
                    115331792,
                    225093344,
                    84697729,
                    159240673,
                    170709584,
                    154356956,
                    723043854,
                    247689123,
                    176474912,
                    235549288,
                    85559365,
                    146223492,
                    187701588,
                    154863153,
                    191333656,
                    253650850,
                    223064273,
                    170413877,
                    218320587,
                    141720999,
                    198365537,
                    177503916,
                    71095708,
                    112436403,
                    203436468,
                    93367537,
                    106249219,
                    181382590,
                    91473363,
                    121871870,
                    73513683,
                    133895612,
                    96007391
                  ],
                  "xaxis": "x",
                  "yaxis": "y"
                }
              ],
              "layout": {
                "barmode": "relative",
                "legend": {
                  "tracegroupgap": 0
                },
                "margin": {
                  "t": 60
                },
                "template": {
                  "data": {
                    "bar": [
                      {
                        "error_x": {
                          "color": "#2a3f5f"
                        },
                        "error_y": {
                          "color": "#2a3f5f"
                        },
                        "marker": {
                          "line": {
                            "color": "#E5ECF6",
                            "width": 0.5
                          },
                          "pattern": {
                            "fillmode": "overlay",
                            "size": 10,
                            "solidity": 0.2
                          }
                        },
                        "type": "bar"
                      }
                    ],
                    "barpolar": [
                      {
                        "marker": {
                          "line": {
                            "color": "#E5ECF6",
                            "width": 0.5
                          },
                          "pattern": {
                            "fillmode": "overlay",
                            "size": 10,
                            "solidity": 0.2
                          }
                        },
                        "type": "barpolar"
                      }
                    ],
                    "carpet": [
                      {
                        "aaxis": {
                          "endlinecolor": "#2a3f5f",
                          "gridcolor": "white",
                          "linecolor": "white",
                          "minorgridcolor": "white",
                          "startlinecolor": "#2a3f5f"
                        },
                        "baxis": {
                          "endlinecolor": "#2a3f5f",
                          "gridcolor": "white",
                          "linecolor": "white",
                          "minorgridcolor": "white",
                          "startlinecolor": "#2a3f5f"
                        },
                        "type": "carpet"
                      }
                    ],
                    "choropleth": [
                      {
                        "colorbar": {
                          "outlinewidth": 0,
                          "ticks": ""
                        },
                        "type": "choropleth"
                      }
                    ],
                    "contour": [
                      {
                        "colorbar": {
                          "outlinewidth": 0,
                          "ticks": ""
                        },
                        "colorscale": [
                          [
                            0,
                            "#0d0887"
                          ],
                          [
                            0.1111111111111111,
                            "#46039f"
                          ],
                          [
                            0.2222222222222222,
                            "#7201a8"
                          ],
                          [
                            0.3333333333333333,
                            "#9c179e"
                          ],
                          [
                            0.4444444444444444,
                            "#bd3786"
                          ],
                          [
                            0.5555555555555556,
                            "#d8576b"
                          ],
                          [
                            0.6666666666666666,
                            "#ed7953"
                          ],
                          [
                            0.7777777777777778,
                            "#fb9f3a"
                          ],
                          [
                            0.8888888888888888,
                            "#fdca26"
                          ],
                          [
                            1,
                            "#f0f921"
                          ]
                        ],
                        "type": "contour"
                      }
                    ],
                    "contourcarpet": [
                      {
                        "colorbar": {
                          "outlinewidth": 0,
                          "ticks": ""
                        },
                        "type": "contourcarpet"
                      }
                    ],
                    "heatmap": [
                      {
                        "colorbar": {
                          "outlinewidth": 0,
                          "ticks": ""
                        },
                        "colorscale": [
                          [
                            0,
                            "#0d0887"
                          ],
                          [
                            0.1111111111111111,
                            "#46039f"
                          ],
                          [
                            0.2222222222222222,
                            "#7201a8"
                          ],
                          [
                            0.3333333333333333,
                            "#9c179e"
                          ],
                          [
                            0.4444444444444444,
                            "#bd3786"
                          ],
                          [
                            0.5555555555555556,
                            "#d8576b"
                          ],
                          [
                            0.6666666666666666,
                            "#ed7953"
                          ],
                          [
                            0.7777777777777778,
                            "#fb9f3a"
                          ],
                          [
                            0.8888888888888888,
                            "#fdca26"
                          ],
                          [
                            1,
                            "#f0f921"
                          ]
                        ],
                        "type": "heatmap"
                      }
                    ],
                    "heatmapgl": [
                      {
                        "colorbar": {
                          "outlinewidth": 0,
                          "ticks": ""
                        },
                        "colorscale": [
                          [
                            0,
                            "#0d0887"
                          ],
                          [
                            0.1111111111111111,
                            "#46039f"
                          ],
                          [
                            0.2222222222222222,
                            "#7201a8"
                          ],
                          [
                            0.3333333333333333,
                            "#9c179e"
                          ],
                          [
                            0.4444444444444444,
                            "#bd3786"
                          ],
                          [
                            0.5555555555555556,
                            "#d8576b"
                          ],
                          [
                            0.6666666666666666,
                            "#ed7953"
                          ],
                          [
                            0.7777777777777778,
                            "#fb9f3a"
                          ],
                          [
                            0.8888888888888888,
                            "#fdca26"
                          ],
                          [
                            1,
                            "#f0f921"
                          ]
                        ],
                        "type": "heatmapgl"
                      }
                    ],
                    "histogram": [
                      {
                        "marker": {
                          "pattern": {
                            "fillmode": "overlay",
                            "size": 10,
                            "solidity": 0.2
                          }
                        },
                        "type": "histogram"
                      }
                    ],
                    "histogram2d": [
                      {
                        "colorbar": {
                          "outlinewidth": 0,
                          "ticks": ""
                        },
                        "colorscale": [
                          [
                            0,
                            "#0d0887"
                          ],
                          [
                            0.1111111111111111,
                            "#46039f"
                          ],
                          [
                            0.2222222222222222,
                            "#7201a8"
                          ],
                          [
                            0.3333333333333333,
                            "#9c179e"
                          ],
                          [
                            0.4444444444444444,
                            "#bd3786"
                          ],
                          [
                            0.5555555555555556,
                            "#d8576b"
                          ],
                          [
                            0.6666666666666666,
                            "#ed7953"
                          ],
                          [
                            0.7777777777777778,
                            "#fb9f3a"
                          ],
                          [
                            0.8888888888888888,
                            "#fdca26"
                          ],
                          [
                            1,
                            "#f0f921"
                          ]
                        ],
                        "type": "histogram2d"
                      }
                    ],
                    "histogram2dcontour": [
                      {
                        "colorbar": {
                          "outlinewidth": 0,
                          "ticks": ""
                        },
                        "colorscale": [
                          [
                            0,
                            "#0d0887"
                          ],
                          [
                            0.1111111111111111,
                            "#46039f"
                          ],
                          [
                            0.2222222222222222,
                            "#7201a8"
                          ],
                          [
                            0.3333333333333333,
                            "#9c179e"
                          ],
                          [
                            0.4444444444444444,
                            "#bd3786"
                          ],
                          [
                            0.5555555555555556,
                            "#d8576b"
                          ],
                          [
                            0.6666666666666666,
                            "#ed7953"
                          ],
                          [
                            0.7777777777777778,
                            "#fb9f3a"
                          ],
                          [
                            0.8888888888888888,
                            "#fdca26"
                          ],
                          [
                            1,
                            "#f0f921"
                          ]
                        ],
                        "type": "histogram2dcontour"
                      }
                    ],
                    "mesh3d": [
                      {
                        "colorbar": {
                          "outlinewidth": 0,
                          "ticks": ""
                        },
                        "type": "mesh3d"
                      }
                    ],
                    "parcoords": [
                      {
                        "line": {
                          "colorbar": {
                            "outlinewidth": 0,
                            "ticks": ""
                          }
                        },
                        "type": "parcoords"
                      }
                    ],
                    "pie": [
                      {
                        "automargin": true,
                        "type": "pie"
                      }
                    ],
                    "scatter": [
                      {
                        "fillpattern": {
                          "fillmode": "overlay",
                          "size": 10,
                          "solidity": 0.2
                        },
                        "type": "scatter"
                      }
                    ],
                    "scatter3d": [
                      {
                        "line": {
                          "colorbar": {
                            "outlinewidth": 0,
                            "ticks": ""
                          }
                        },
                        "marker": {
                          "colorbar": {
                            "outlinewidth": 0,
                            "ticks": ""
                          }
                        },
                        "type": "scatter3d"
                      }
                    ],
                    "scattercarpet": [
                      {
                        "marker": {
                          "colorbar": {
                            "outlinewidth": 0,
                            "ticks": ""
                          }
                        },
                        "type": "scattercarpet"
                      }
                    ],
                    "scattergeo": [
                      {
                        "marker": {
                          "colorbar": {
                            "outlinewidth": 0,
                            "ticks": ""
                          }
                        },
                        "type": "scattergeo"
                      }
                    ],
                    "scattergl": [
                      {
                        "marker": {
                          "colorbar": {
                            "outlinewidth": 0,
                            "ticks": ""
                          }
                        },
                        "type": "scattergl"
                      }
                    ],
                    "scattermapbox": [
                      {
                        "marker": {
                          "colorbar": {
                            "outlinewidth": 0,
                            "ticks": ""
                          }
                        },
                        "type": "scattermapbox"
                      }
                    ],
                    "scatterpolar": [
                      {
                        "marker": {
                          "colorbar": {
                            "outlinewidth": 0,
                            "ticks": ""
                          }
                        },
                        "type": "scatterpolar"
                      }
                    ],
                    "scatterpolargl": [
                      {
                        "marker": {
                          "colorbar": {
                            "outlinewidth": 0,
                            "ticks": ""
                          }
                        },
                        "type": "scatterpolargl"
                      }
                    ],
                    "scatterternary": [
                      {
                        "marker": {
                          "colorbar": {
                            "outlinewidth": 0,
                            "ticks": ""
                          }
                        },
                        "type": "scatterternary"
                      }
                    ],
                    "surface": [
                      {
                        "colorbar": {
                          "outlinewidth": 0,
                          "ticks": ""
                        },
                        "colorscale": [
                          [
                            0,
                            "#0d0887"
                          ],
                          [
                            0.1111111111111111,
                            "#46039f"
                          ],
                          [
                            0.2222222222222222,
                            "#7201a8"
                          ],
                          [
                            0.3333333333333333,
                            "#9c179e"
                          ],
                          [
                            0.4444444444444444,
                            "#bd3786"
                          ],
                          [
                            0.5555555555555556,
                            "#d8576b"
                          ],
                          [
                            0.6666666666666666,
                            "#ed7953"
                          ],
                          [
                            0.7777777777777778,
                            "#fb9f3a"
                          ],
                          [
                            0.8888888888888888,
                            "#fdca26"
                          ],
                          [
                            1,
                            "#f0f921"
                          ]
                        ],
                        "type": "surface"
                      }
                    ],
                    "table": [
                      {
                        "cells": {
                          "fill": {
                            "color": "#EBF0F8"
                          },
                          "line": {
                            "color": "white"
                          }
                        },
                        "header": {
                          "fill": {
                            "color": "#C8D4E3"
                          },
                          "line": {
                            "color": "white"
                          }
                        },
                        "type": "table"
                      }
                    ]
                  },
                  "layout": {
                    "annotationdefaults": {
                      "arrowcolor": "#2a3f5f",
                      "arrowhead": 0,
                      "arrowwidth": 1
                    },
                    "autotypenumbers": "strict",
                    "coloraxis": {
                      "colorbar": {
                        "outlinewidth": 0,
                        "ticks": ""
                      }
                    },
                    "colorscale": {
                      "diverging": [
                        [
                          0,
                          "#8e0152"
                        ],
                        [
                          0.1,
                          "#c51b7d"
                        ],
                        [
                          0.2,
                          "#de77ae"
                        ],
                        [
                          0.3,
                          "#f1b6da"
                        ],
                        [
                          0.4,
                          "#fde0ef"
                        ],
                        [
                          0.5,
                          "#f7f7f7"
                        ],
                        [
                          0.6,
                          "#e6f5d0"
                        ],
                        [
                          0.7,
                          "#b8e186"
                        ],
                        [
                          0.8,
                          "#7fbc41"
                        ],
                        [
                          0.9,
                          "#4d9221"
                        ],
                        [
                          1,
                          "#276419"
                        ]
                      ],
                      "sequential": [
                        [
                          0,
                          "#0d0887"
                        ],
                        [
                          0.1111111111111111,
                          "#46039f"
                        ],
                        [
                          0.2222222222222222,
                          "#7201a8"
                        ],
                        [
                          0.3333333333333333,
                          "#9c179e"
                        ],
                        [
                          0.4444444444444444,
                          "#bd3786"
                        ],
                        [
                          0.5555555555555556,
                          "#d8576b"
                        ],
                        [
                          0.6666666666666666,
                          "#ed7953"
                        ],
                        [
                          0.7777777777777778,
                          "#fb9f3a"
                        ],
                        [
                          0.8888888888888888,
                          "#fdca26"
                        ],
                        [
                          1,
                          "#f0f921"
                        ]
                      ],
                      "sequentialminus": [
                        [
                          0,
                          "#0d0887"
                        ],
                        [
                          0.1111111111111111,
                          "#46039f"
                        ],
                        [
                          0.2222222222222222,
                          "#7201a8"
                        ],
                        [
                          0.3333333333333333,
                          "#9c179e"
                        ],
                        [
                          0.4444444444444444,
                          "#bd3786"
                        ],
                        [
                          0.5555555555555556,
                          "#d8576b"
                        ],
                        [
                          0.6666666666666666,
                          "#ed7953"
                        ],
                        [
                          0.7777777777777778,
                          "#fb9f3a"
                        ],
                        [
                          0.8888888888888888,
                          "#fdca26"
                        ],
                        [
                          1,
                          "#f0f921"
                        ]
                      ]
                    },
                    "colorway": [
                      "#636efa",
                      "#EF553B",
                      "#00cc96",
                      "#ab63fa",
                      "#FFA15A",
                      "#19d3f3",
                      "#FF6692",
                      "#B6E880",
                      "#FF97FF",
                      "#FECB52"
                    ],
                    "font": {
                      "color": "#2a3f5f"
                    },
                    "geo": {
                      "bgcolor": "white",
                      "lakecolor": "white",
                      "landcolor": "#E5ECF6",
                      "showlakes": true,
                      "showland": true,
                      "subunitcolor": "white"
                    },
                    "hoverlabel": {
                      "align": "left"
                    },
                    "hovermode": "closest",
                    "mapbox": {
                      "style": "light"
                    },
                    "paper_bgcolor": "white",
                    "plot_bgcolor": "#E5ECF6",
                    "polar": {
                      "angularaxis": {
                        "gridcolor": "white",
                        "linecolor": "white",
                        "ticks": ""
                      },
                      "bgcolor": "#E5ECF6",
                      "radialaxis": {
                        "gridcolor": "white",
                        "linecolor": "white",
                        "ticks": ""
                      }
                    },
                    "scene": {
                      "xaxis": {
                        "backgroundcolor": "#E5ECF6",
                        "gridcolor": "white",
                        "gridwidth": 2,
                        "linecolor": "white",
                        "showbackground": true,
                        "ticks": "",
                        "zerolinecolor": "white"
                      },
                      "yaxis": {
                        "backgroundcolor": "#E5ECF6",
                        "gridcolor": "white",
                        "gridwidth": 2,
                        "linecolor": "white",
                        "showbackground": true,
                        "ticks": "",
                        "zerolinecolor": "white"
                      },
                      "zaxis": {
                        "backgroundcolor": "#E5ECF6",
                        "gridcolor": "white",
                        "gridwidth": 2,
                        "linecolor": "white",
                        "showbackground": true,
                        "ticks": "",
                        "zerolinecolor": "white"
                      }
                    },
                    "shapedefaults": {
                      "line": {
                        "color": "#2a3f5f"
                      }
                    },
                    "ternary": {
                      "aaxis": {
                        "gridcolor": "white",
                        "linecolor": "white",
                        "ticks": ""
                      },
                      "baxis": {
                        "gridcolor": "white",
                        "linecolor": "white",
                        "ticks": ""
                      },
                      "bgcolor": "#E5ECF6",
                      "caxis": {
                        "gridcolor": "white",
                        "linecolor": "white",
                        "ticks": ""
                      }
                    },
                    "title": {
                      "x": 0.05
                    },
                    "xaxis": {
                      "automargin": true,
                      "gridcolor": "white",
                      "linecolor": "white",
                      "ticks": "",
                      "title": {
                        "standoff": 15
                      },
                      "zerolinecolor": "white",
                      "zerolinewidth": 2
                    },
                    "yaxis": {
                      "automargin": true,
                      "gridcolor": "white",
                      "linecolor": "white",
                      "ticks": "",
                      "title": {
                        "standoff": 15
                      },
                      "zerolinecolor": "white",
                      "zerolinewidth": 2
                    }
                  }
                },
                "xaxis": {
                  "anchor": "y",
                  "domain": [
                    0,
                    1
                  ],
                  "title": {
                    "text": "Reproducciones"
                  }
                },
                "yaxis": {
                  "anchor": "x",
                  "domain": [
                    0,
                    1
                  ],
                  "title": {
                    "text": "probability density"
                  }
                }
              }
            }
          },
          "metadata": {},
          "output_type": "display_data"
        }
      ],
      "source": [
        "# * Histograma - Para ver la distribución de una variable\n",
        "fig = px.histogram(df_spotify, x=\"streams\",\n",
        "                   labels = {\"streams\": \"Reproducciones\"},\n",
        "                   histnorm='probability density',\n",
        "                   nbins = 100,\n",
        "                   opacity=0.6)\n",
        "fig.update_traces(marker_color = \"darkorange\")\n",
        "fig.show()"
      ]
    },
    {
      "cell_type": "markdown",
      "metadata": {},
      "source": [
        "\n",
        "d) ¿Existe una diferencia signitificativa en las reproducciones entre las canciones de un solo artista y las de más de uno? **(0.5 puntos)**"
      ]
    },
    {
      "cell_type": "code",
      "execution_count": 132,
      "metadata": {},
      "outputs": [
        {
          "data": {
            "application/vnd.plotly.v1+json": {
              "config": {
                "plotlyServerURL": "https://plot.ly"
              },
              "data": [
                {
                  "name": "Canciones con un solo artista",
                  "type": "box",
                  "x": [
                    133716286,
                    140003974,
                    800840817,
                    303236322,
                    58149378,
                    95217315,
                    58255150,
                    387570742,
                    1163093654,
                    496795686,
                    363369738,
                    52135248,
                    78300654,
                    429829812,
                    127408954,
                    22581161,
                    999748277,
                    1355959075,
                    786181836,
                    176553476,
                    570515054,
                    1647990401,
                    153372011,
                    57876440,
                    256483385,
                    1214083358,
                    1755214421,
                    404562836,
                    373199958,
                    14780425,
                    39578178,
                    751134527,
                    1592909789,
                    635412045,
                    43857627,
                    2009094673,
                    39228929,
                    165484133,
                    157058870,
                    95131998,
                    685032533,
                    38411956,
                    127567540,
                    399686758,
                    983637508,
                    118482347,
                    882831184,
                    172825906,
                    1241559043,
                    29562220,
                    77309611,
                    1116995633,
                    838079900,
                    1163620694,
                    179659294,
                    36912123,
                    1205951614,
                    1791000570,
                    201660859,
                    607123776,
                    342897938,
                    601863821,
                    96273746,
                    430977451,
                    284819874,
                    2559529074,
                    681583126,
                    2594040133,
                    1687664027,
                    1089402494,
                    411747614,
                    255932395,
                    31873544,
                    1481349984,
                    2011464183,
                    621660989,
                    950906471,
                    1593270737,
                    1410088830,
                    1374581173,
                    1788326445,
                    1840364617,
                    143573775,
                    684675814,
                    1113838873,
                    1267333350,
                    3562543890,
                    1271293243,
                    265882712,
                    841749534,
                    47956378,
                    806397070,
                    1641426668,
                    2135158446,
                    350381515,
                    1264310836,
                    30343206,
                    405136812,
                    540654286,
                    397582059,
                    1479115056,
                    123124076,
                    65496046,
                    68616963,
                    232896922,
                    195576623,
                    345031710,
                    335074782,
                    76767396,
                    459276435,
                    822633917,
                    595900742,
                    175097833,
                    488386797,
                    1047480053,
                    153454328,
                    217672943,
                    457184829,
                    726434358,
                    1406111294,
                    145458418,
                    1424589568,
                    415932686,
                    988515741,
                    39893489,
                    118810253,
                    117747907,
                    293186992,
                    139681964,
                    123132751,
                    103762518,
                    91221625,
                    190490915,
                    185240616,
                    885093467,
                    137123880,
                    782369383,
                    502574952,
                    381161027,
                    466231982,
                    357580552,
                    1449799467,
                    173627354,
                    1829992958,
                    117206995,
                    52722996,
                    191945597,
                    743693613,
                    267789608,
                    449701773,
                    67070410,
                    165584767,
                    367814306,
                    156214700,
                    448843705,
                    972164968,
                    920045682,
                    2420461338,
                    244658767,
                    68216992,
                    1361425037,
                    148469433,
                    88791109,
                    125917280,
                    95623148,
                    144584800,
                    298063749,
                    166570053,
                    83021468,
                    303216294,
                    81419389,
                    156777415,
                    284908316,
                    363472647,
                    372476382,
                    56533272,
                    175399345,
                    203221468,
                    1624165576,
                    134294498,
                    70069745,
                    671365962,
                    1022258230,
                    147538971,
                    698086140,
                    723894473,
                    403097450,
                    319566866,
                    909001996,
                    124988687,
                    134255790,
                    301051721,
                    156338624,
                    309653982,
                    297328960,
                    332506354,
                    480507035,
                    122763672,
                    338564981,
                    1606986953,
                    1301799902,
                    107642809,
                    2303033973,
                    646886885,
                    872137015,
                    571386359,
                    284785823,
                    163284000,
                    246390068,
                    482257456,
                    168684524,
                    1260594497,
                    428685680,
                    1024858327,
                    838586769,
                    199386237,
                    210038833,
                    227918678,
                    826623384,
                    181831132,
                    348647203,
                    807561936,
                    663832097,
                    446390129,
                    485285717,
                    520034544,
                    476244795,
                    629173063,
                    404664135,
                    98709329,
                    110849052,
                    389771964,
                    403939487,
                    351636786,
                    73981293,
                    429504768,
                    242767149,
                    65362788,
                    67540165,
                    62019074,
                    135611421,
                    356709897,
                    301869854,
                    127027715,
                    57144458,
                    56870689,
                    317726339,
                    328207708,
                    49262961,
                    245350949,
                    178660459,
                    51641685,
                    391251368,
                    119238316,
                    116903579,
                    888046992,
                    130655803,
                    101114984,
                    53933526,
                    267758538,
                    74601456,
                    920797189,
                    1367810478,
                    63803529,
                    466214729,
                    41924466,
                    225259194,
                    287201015,
                    599770206,
                    342779426,
                    1168642797,
                    510876816,
                    108809090,
                    1143647827,
                    1256880657,
                    245095641,
                    31959571,
                    824420218,
                    363467642,
                    1127468248,
                    247737946,
                    124407432,
                    850608354,
                    376333030,
                    516784627,
                    1608045237,
                    506778838,
                    1472799873,
                    513643924,
                    783706581,
                    1062345656,
                    851070493,
                    345903614,
                    156658366,
                    624515457,
                    777765388,
                    1138474110,
                    290228626,
                    1062956628,
                    1180094974,
                    1456081449,
                    432702334,
                    465959382,
                    2288695111,
                    2086124197,
                    1690192927,
                    71014967,
                    1806617704,
                    77337771,
                    865640097,
                    211372494,
                    608334048,
                    797402345,
                    1759567999,
                    246376690,
                    496311364,
                    500340342,
                    822239726,
                    1202722675,
                    343197054,
                    240769997,
                    421135627,
                    554875730,
                    185408548,
                    231996128,
                    1929770265,
                    498960285,
                    258714692,
                    50746620,
                    154119539,
                    181328253,
                    370068639,
                    2280566092,
                    563902868,
                    317622165,
                    203680270,
                    282883169,
                    1439191367,
                    368646862,
                    682475162,
                    546191065,
                    229473310,
                    202677468,
                    527033089,
                    394030335,
                    193443895,
                    299648208,
                    319757142,
                    346127840,
                    312622938,
                    1200808494,
                    797196073,
                    1970673297,
                    665765558,
                    263779030,
                    339473453,
                    135444283,
                    694525298,
                    421365166,
                    255120451,
                    190981339,
                    924193303,
                    305771063,
                    89566512,
                    677389855,
                    408843328,
                    101780047,
                    146363130,
                    126443991,
                    157990698,
                    1023187129,
                    139193812,
                    212234990,
                    1714490998,
                    807015863,
                    499710590,
                    53909146,
                    2236667932,
                    2123309722,
                    301242089,
                    723894473,
                    461558540,
                    156898322,
                    173702135,
                    305650299,
                    126191104,
                    338422004,
                    403231558,
                    61739839,
                    283359161,
                    283332261,
                    279737940,
                    212351890,
                    150500965,
                    246127838,
                    582863434,
                    382199619,
                    41210087,
                    231657891,
                    53729194,
                    244741137,
                    42485571,
                    37778188,
                    254218729,
                    53603447,
                    160035717,
                    37091576,
                    136996305,
                    65719930,
                    229497852,
                    185550869,
                    54682594,
                    1284942608,
                    71423324,
                    244891912,
                    132171975,
                    184706613,
                    184826429,
                    302006641,
                    330881149,
                    334733572,
                    366214458,
                    114546317,
                    448500832,
                    79095270,
                    273194684,
                    195918494,
                    233671263,
                    199587884,
                    91781263,
                    236060709,
                    189236868,
                    588955257,
                    238350348,
                    187703102,
                    445590495,
                    1122364376,
                    157136970,
                    183273246,
                    164856284,
                    704171068,
                    354614964,
                    195628667,
                    221752937,
                    263280370,
                    213505179,
                    155795783,
                    1553497987,
                    293466523,
                    191448892,
                    131746175,
                    244790012,
                    331511413,
                    179061440,
                    185236961,
                    171788484,
                    387080183,
                    264717480,
                    244928911,
                    97610446,
                    887906111,
                    239411309,
                    703301727,
                    189476119,
                    277132266,
                    278920007,
                    222410722,
                    185392587,
                    202452860,
                    1608164312,
                    624101957,
                    148461629,
                    380319238,
                    53987404,
                    115331792,
                    225093344,
                    170709584,
                    154356956,
                    723043854,
                    247689123,
                    176474912,
                    235549288,
                    85559365,
                    253650850,
                    223064273,
                    218320587,
                    177503916,
                    203436468,
                    93367537,
                    181382590,
                    91473363,
                    121871870,
                    96007391
                  ],
                  "xaxis": "x",
                  "yaxis": "y"
                },
                {
                  "name": "Canciones con varios artistas",
                  "type": "box",
                  "x": [
                    141381703,
                    183706234,
                    725980112,
                    553634067,
                    505671438,
                    335222234,
                    86444842,
                    200647221,
                    115364561,
                    899183384,
                    61245289,
                    52294266,
                    843957510,
                    618990393,
                    188933502,
                    354495408,
                    2808096550,
                    1109433169,
                    1047101291,
                    2565529693,
                    518745108,
                    107753850,
                    177740666,
                    111947664,
                    156338624,
                    720434240,
                    357925728,
                    674072710,
                    54266102,
                    1356565093,
                    1230675890,
                    585695368,
                    600976848,
                    39709092,
                    2665343922,
                    223633238,
                    1440757818,
                    58054811,
                    250305248,
                    144565150,
                    286400165,
                    1605224506,
                    1093605526,
                    39058561,
                    248088961,
                    90839753,
                    55842345,
                    211050784,
                    2762,
                    1953533826,
                    2355719893,
                    66902503,
                    721975598,
                    276259178,
                    54225632,
                    81102253,
                    11956641,
                    611700552,
                    1133865788,
                    233801632,
                    142095275,
                    436027885,
                    2713922350,
                    1235005533,
                    94186466,
                    367316268,
                    57312735,
                    86773632,
                    133753727,
                    463564958,
                    64533040,
                    161460990,
                    70106975,
                    113509496,
                    89933133,
                    71007139,
                    43522589,
                    37126685,
                    532336353,
                    538115192,
                    46142772,
                    401036314,
                    127026613,
                    288101651,
                    60350538,
                    46065667,
                    39666245,
                    138517666,
                    51985779,
                    57945987,
                    115010040,
                    57089066,
                    32761689,
                    573633020,
                    71573339,
                    24975653,
                    231332117,
                    50847624,
                    92035115,
                    77233241,
                    266624541,
                    162887075,
                    96180277,
                    104992946,
                    147290338,
                    158950978,
                    76910644,
                    207033255,
                    61105704,
                    198275403,
                    705469769,
                    34502215,
                    304118600,
                    90025258,
                    652704649,
                    655466831,
                    146409671,
                    95816024,
                    100409613,
                    80758350,
                    325592432,
                    58473276,
                    77377503,
                    116334601,
                    477033549,
                    294352144,
                    223582566,
                    471819764,
                    116599790,
                    497225336,
                    105062254,
                    139836056,
                    221409663,
                    58890931,
                    93438910,
                    609293408,
                    93587665,
                    1223481149,
                    263453310,
                    1435127549,
                    236857112,
                    309483971,
                    1061966512,
                    1065580332,
                    1365184,
                    184308753,
                    606361689,
                    120972253,
                    140187018,
                    556585270,
                    174006928,
                    78489819,
                    195516622,
                    972509632,
                    213438580,
                    1802514301,
                    462791599,
                    90598517,
                    460492795,
                    94005786,
                    110073250,
                    473248298,
                    155653938,
                    395591396,
                    295998468,
                    136689549,
                    110649992,
                    323437194,
                    116144341,
                    608228647,
                    180577478,
                    809306935,
                    614555082,
                    78139948,
                    322336177,
                    349585590,
                    674772936,
                    88103848,
                    1575467011,
                    91656026,
                    539595276,
                    578207856,
                    775542072,
                    656013912,
                    240684449,
                    236940480,
                    393230256,
                    673801126,
                    383550148,
                    530511203,
                    1763363713,
                    374191487,
                    436695353,
                    354065229,
                    311395144,
                    672656250,
                    686734357,
                    261414174,
                    610045621,
                    1115880852,
                    594482982,
                    566954746,
                    184937148,
                    60680939,
                    154797871,
                    261286503,
                    422691058,
                    263894529,
                    956865266,
                    427486004,
                    355219175,
                    489945871,
                    1223481149,
                    720825549,
                    593917618,
                    200972675,
                    560222750,
                    528544703,
                    2159346687,
                    651732901,
                    863756573,
                    1695712020,
                    223319934,
                    54937991,
                    258316038,
                    596152090,
                    177129919,
                    716591492,
                    1210599487,
                    843309044,
                    107255472,
                    135079152,
                    426204830,
                    327498031,
                    245400167,
                    579395142,
                    675039469,
                    252871192,
                    918915401,
                    1180896317,
                    143139338,
                    209768491,
                    64714573,
                    81350745,
                    64787943,
                    2484812918,
                    461437791,
                    759208783,
                    299634472,
                    756907987,
                    208166039,
                    94616487,
                    153240879,
                    2204080728,
                    2591224264,
                    236872197,
                    349746291,
                    273005485,
                    75476209,
                    187772591,
                    178512385,
                    176290831,
                    106933107,
                    197643795,
                    933815613,
                    120847157,
                    237351106,
                    127309180,
                    123216717,
                    479655659,
                    344055883,
                    68895644,
                    86176890,
                    319546754,
                    76831876,
                    307752576,
                    1304313953,
                    58687425,
                    212109195,
                    284249832,
                    33381454,
                    184622518,
                    300983101,
                    121077868,
                    106919680,
                    240580042,
                    136676504,
                    190625045,
                    333146475,
                    194902696,
                    248511839,
                    383835984,
                    160845341,
                    138334433,
                    286739476,
                    279717388,
                    130419412,
                    85924992,
                    176103902,
                    121189256,
                    129314708,
                    170732845,
                    287278853,
                    123473120,
                    323455692,
                    240918092,
                    191873381,
                    47093942,
                    209106362,
                    84697729,
                    159240673,
                    146223492,
                    187701588,
                    154863153,
                    191333656,
                    170413877,
                    141720999,
                    198365537,
                    71095708,
                    112436403,
                    106249219,
                    73513683,
                    133895612
                  ],
                  "xaxis": "x2",
                  "yaxis": "y2"
                }
              ],
              "layout": {
                "annotations": [
                  {
                    "font": {
                      "size": 16
                    },
                    "showarrow": false,
                    "text": "B",
                    "x": 0.5,
                    "xanchor": "center",
                    "xref": "paper",
                    "y": 1,
                    "yanchor": "bottom",
                    "yref": "paper"
                  },
                  {
                    "font": {
                      "size": 16
                    },
                    "showarrow": false,
                    "text": "o",
                    "x": 0.5,
                    "xanchor": "center",
                    "xref": "paper",
                    "y": 0.375,
                    "yanchor": "bottom",
                    "yref": "paper"
                  }
                ],
                "template": {
                  "data": {
                    "bar": [
                      {
                        "error_x": {
                          "color": "#2a3f5f"
                        },
                        "error_y": {
                          "color": "#2a3f5f"
                        },
                        "marker": {
                          "line": {
                            "color": "#E5ECF6",
                            "width": 0.5
                          },
                          "pattern": {
                            "fillmode": "overlay",
                            "size": 10,
                            "solidity": 0.2
                          }
                        },
                        "type": "bar"
                      }
                    ],
                    "barpolar": [
                      {
                        "marker": {
                          "line": {
                            "color": "#E5ECF6",
                            "width": 0.5
                          },
                          "pattern": {
                            "fillmode": "overlay",
                            "size": 10,
                            "solidity": 0.2
                          }
                        },
                        "type": "barpolar"
                      }
                    ],
                    "carpet": [
                      {
                        "aaxis": {
                          "endlinecolor": "#2a3f5f",
                          "gridcolor": "white",
                          "linecolor": "white",
                          "minorgridcolor": "white",
                          "startlinecolor": "#2a3f5f"
                        },
                        "baxis": {
                          "endlinecolor": "#2a3f5f",
                          "gridcolor": "white",
                          "linecolor": "white",
                          "minorgridcolor": "white",
                          "startlinecolor": "#2a3f5f"
                        },
                        "type": "carpet"
                      }
                    ],
                    "choropleth": [
                      {
                        "colorbar": {
                          "outlinewidth": 0,
                          "ticks": ""
                        },
                        "type": "choropleth"
                      }
                    ],
                    "contour": [
                      {
                        "colorbar": {
                          "outlinewidth": 0,
                          "ticks": ""
                        },
                        "colorscale": [
                          [
                            0,
                            "#0d0887"
                          ],
                          [
                            0.1111111111111111,
                            "#46039f"
                          ],
                          [
                            0.2222222222222222,
                            "#7201a8"
                          ],
                          [
                            0.3333333333333333,
                            "#9c179e"
                          ],
                          [
                            0.4444444444444444,
                            "#bd3786"
                          ],
                          [
                            0.5555555555555556,
                            "#d8576b"
                          ],
                          [
                            0.6666666666666666,
                            "#ed7953"
                          ],
                          [
                            0.7777777777777778,
                            "#fb9f3a"
                          ],
                          [
                            0.8888888888888888,
                            "#fdca26"
                          ],
                          [
                            1,
                            "#f0f921"
                          ]
                        ],
                        "type": "contour"
                      }
                    ],
                    "contourcarpet": [
                      {
                        "colorbar": {
                          "outlinewidth": 0,
                          "ticks": ""
                        },
                        "type": "contourcarpet"
                      }
                    ],
                    "heatmap": [
                      {
                        "colorbar": {
                          "outlinewidth": 0,
                          "ticks": ""
                        },
                        "colorscale": [
                          [
                            0,
                            "#0d0887"
                          ],
                          [
                            0.1111111111111111,
                            "#46039f"
                          ],
                          [
                            0.2222222222222222,
                            "#7201a8"
                          ],
                          [
                            0.3333333333333333,
                            "#9c179e"
                          ],
                          [
                            0.4444444444444444,
                            "#bd3786"
                          ],
                          [
                            0.5555555555555556,
                            "#d8576b"
                          ],
                          [
                            0.6666666666666666,
                            "#ed7953"
                          ],
                          [
                            0.7777777777777778,
                            "#fb9f3a"
                          ],
                          [
                            0.8888888888888888,
                            "#fdca26"
                          ],
                          [
                            1,
                            "#f0f921"
                          ]
                        ],
                        "type": "heatmap"
                      }
                    ],
                    "heatmapgl": [
                      {
                        "colorbar": {
                          "outlinewidth": 0,
                          "ticks": ""
                        },
                        "colorscale": [
                          [
                            0,
                            "#0d0887"
                          ],
                          [
                            0.1111111111111111,
                            "#46039f"
                          ],
                          [
                            0.2222222222222222,
                            "#7201a8"
                          ],
                          [
                            0.3333333333333333,
                            "#9c179e"
                          ],
                          [
                            0.4444444444444444,
                            "#bd3786"
                          ],
                          [
                            0.5555555555555556,
                            "#d8576b"
                          ],
                          [
                            0.6666666666666666,
                            "#ed7953"
                          ],
                          [
                            0.7777777777777778,
                            "#fb9f3a"
                          ],
                          [
                            0.8888888888888888,
                            "#fdca26"
                          ],
                          [
                            1,
                            "#f0f921"
                          ]
                        ],
                        "type": "heatmapgl"
                      }
                    ],
                    "histogram": [
                      {
                        "marker": {
                          "pattern": {
                            "fillmode": "overlay",
                            "size": 10,
                            "solidity": 0.2
                          }
                        },
                        "type": "histogram"
                      }
                    ],
                    "histogram2d": [
                      {
                        "colorbar": {
                          "outlinewidth": 0,
                          "ticks": ""
                        },
                        "colorscale": [
                          [
                            0,
                            "#0d0887"
                          ],
                          [
                            0.1111111111111111,
                            "#46039f"
                          ],
                          [
                            0.2222222222222222,
                            "#7201a8"
                          ],
                          [
                            0.3333333333333333,
                            "#9c179e"
                          ],
                          [
                            0.4444444444444444,
                            "#bd3786"
                          ],
                          [
                            0.5555555555555556,
                            "#d8576b"
                          ],
                          [
                            0.6666666666666666,
                            "#ed7953"
                          ],
                          [
                            0.7777777777777778,
                            "#fb9f3a"
                          ],
                          [
                            0.8888888888888888,
                            "#fdca26"
                          ],
                          [
                            1,
                            "#f0f921"
                          ]
                        ],
                        "type": "histogram2d"
                      }
                    ],
                    "histogram2dcontour": [
                      {
                        "colorbar": {
                          "outlinewidth": 0,
                          "ticks": ""
                        },
                        "colorscale": [
                          [
                            0,
                            "#0d0887"
                          ],
                          [
                            0.1111111111111111,
                            "#46039f"
                          ],
                          [
                            0.2222222222222222,
                            "#7201a8"
                          ],
                          [
                            0.3333333333333333,
                            "#9c179e"
                          ],
                          [
                            0.4444444444444444,
                            "#bd3786"
                          ],
                          [
                            0.5555555555555556,
                            "#d8576b"
                          ],
                          [
                            0.6666666666666666,
                            "#ed7953"
                          ],
                          [
                            0.7777777777777778,
                            "#fb9f3a"
                          ],
                          [
                            0.8888888888888888,
                            "#fdca26"
                          ],
                          [
                            1,
                            "#f0f921"
                          ]
                        ],
                        "type": "histogram2dcontour"
                      }
                    ],
                    "mesh3d": [
                      {
                        "colorbar": {
                          "outlinewidth": 0,
                          "ticks": ""
                        },
                        "type": "mesh3d"
                      }
                    ],
                    "parcoords": [
                      {
                        "line": {
                          "colorbar": {
                            "outlinewidth": 0,
                            "ticks": ""
                          }
                        },
                        "type": "parcoords"
                      }
                    ],
                    "pie": [
                      {
                        "automargin": true,
                        "type": "pie"
                      }
                    ],
                    "scatter": [
                      {
                        "fillpattern": {
                          "fillmode": "overlay",
                          "size": 10,
                          "solidity": 0.2
                        },
                        "type": "scatter"
                      }
                    ],
                    "scatter3d": [
                      {
                        "line": {
                          "colorbar": {
                            "outlinewidth": 0,
                            "ticks": ""
                          }
                        },
                        "marker": {
                          "colorbar": {
                            "outlinewidth": 0,
                            "ticks": ""
                          }
                        },
                        "type": "scatter3d"
                      }
                    ],
                    "scattercarpet": [
                      {
                        "marker": {
                          "colorbar": {
                            "outlinewidth": 0,
                            "ticks": ""
                          }
                        },
                        "type": "scattercarpet"
                      }
                    ],
                    "scattergeo": [
                      {
                        "marker": {
                          "colorbar": {
                            "outlinewidth": 0,
                            "ticks": ""
                          }
                        },
                        "type": "scattergeo"
                      }
                    ],
                    "scattergl": [
                      {
                        "marker": {
                          "colorbar": {
                            "outlinewidth": 0,
                            "ticks": ""
                          }
                        },
                        "type": "scattergl"
                      }
                    ],
                    "scattermapbox": [
                      {
                        "marker": {
                          "colorbar": {
                            "outlinewidth": 0,
                            "ticks": ""
                          }
                        },
                        "type": "scattermapbox"
                      }
                    ],
                    "scatterpolar": [
                      {
                        "marker": {
                          "colorbar": {
                            "outlinewidth": 0,
                            "ticks": ""
                          }
                        },
                        "type": "scatterpolar"
                      }
                    ],
                    "scatterpolargl": [
                      {
                        "marker": {
                          "colorbar": {
                            "outlinewidth": 0,
                            "ticks": ""
                          }
                        },
                        "type": "scatterpolargl"
                      }
                    ],
                    "scatterternary": [
                      {
                        "marker": {
                          "colorbar": {
                            "outlinewidth": 0,
                            "ticks": ""
                          }
                        },
                        "type": "scatterternary"
                      }
                    ],
                    "surface": [
                      {
                        "colorbar": {
                          "outlinewidth": 0,
                          "ticks": ""
                        },
                        "colorscale": [
                          [
                            0,
                            "#0d0887"
                          ],
                          [
                            0.1111111111111111,
                            "#46039f"
                          ],
                          [
                            0.2222222222222222,
                            "#7201a8"
                          ],
                          [
                            0.3333333333333333,
                            "#9c179e"
                          ],
                          [
                            0.4444444444444444,
                            "#bd3786"
                          ],
                          [
                            0.5555555555555556,
                            "#d8576b"
                          ],
                          [
                            0.6666666666666666,
                            "#ed7953"
                          ],
                          [
                            0.7777777777777778,
                            "#fb9f3a"
                          ],
                          [
                            0.8888888888888888,
                            "#fdca26"
                          ],
                          [
                            1,
                            "#f0f921"
                          ]
                        ],
                        "type": "surface"
                      }
                    ],
                    "table": [
                      {
                        "cells": {
                          "fill": {
                            "color": "#EBF0F8"
                          },
                          "line": {
                            "color": "white"
                          }
                        },
                        "header": {
                          "fill": {
                            "color": "#C8D4E3"
                          },
                          "line": {
                            "color": "white"
                          }
                        },
                        "type": "table"
                      }
                    ]
                  },
                  "layout": {
                    "annotationdefaults": {
                      "arrowcolor": "#2a3f5f",
                      "arrowhead": 0,
                      "arrowwidth": 1
                    },
                    "autotypenumbers": "strict",
                    "coloraxis": {
                      "colorbar": {
                        "outlinewidth": 0,
                        "ticks": ""
                      }
                    },
                    "colorscale": {
                      "diverging": [
                        [
                          0,
                          "#8e0152"
                        ],
                        [
                          0.1,
                          "#c51b7d"
                        ],
                        [
                          0.2,
                          "#de77ae"
                        ],
                        [
                          0.3,
                          "#f1b6da"
                        ],
                        [
                          0.4,
                          "#fde0ef"
                        ],
                        [
                          0.5,
                          "#f7f7f7"
                        ],
                        [
                          0.6,
                          "#e6f5d0"
                        ],
                        [
                          0.7,
                          "#b8e186"
                        ],
                        [
                          0.8,
                          "#7fbc41"
                        ],
                        [
                          0.9,
                          "#4d9221"
                        ],
                        [
                          1,
                          "#276419"
                        ]
                      ],
                      "sequential": [
                        [
                          0,
                          "#0d0887"
                        ],
                        [
                          0.1111111111111111,
                          "#46039f"
                        ],
                        [
                          0.2222222222222222,
                          "#7201a8"
                        ],
                        [
                          0.3333333333333333,
                          "#9c179e"
                        ],
                        [
                          0.4444444444444444,
                          "#bd3786"
                        ],
                        [
                          0.5555555555555556,
                          "#d8576b"
                        ],
                        [
                          0.6666666666666666,
                          "#ed7953"
                        ],
                        [
                          0.7777777777777778,
                          "#fb9f3a"
                        ],
                        [
                          0.8888888888888888,
                          "#fdca26"
                        ],
                        [
                          1,
                          "#f0f921"
                        ]
                      ],
                      "sequentialminus": [
                        [
                          0,
                          "#0d0887"
                        ],
                        [
                          0.1111111111111111,
                          "#46039f"
                        ],
                        [
                          0.2222222222222222,
                          "#7201a8"
                        ],
                        [
                          0.3333333333333333,
                          "#9c179e"
                        ],
                        [
                          0.4444444444444444,
                          "#bd3786"
                        ],
                        [
                          0.5555555555555556,
                          "#d8576b"
                        ],
                        [
                          0.6666666666666666,
                          "#ed7953"
                        ],
                        [
                          0.7777777777777778,
                          "#fb9f3a"
                        ],
                        [
                          0.8888888888888888,
                          "#fdca26"
                        ],
                        [
                          1,
                          "#f0f921"
                        ]
                      ]
                    },
                    "colorway": [
                      "#636efa",
                      "#EF553B",
                      "#00cc96",
                      "#ab63fa",
                      "#FFA15A",
                      "#19d3f3",
                      "#FF6692",
                      "#B6E880",
                      "#FF97FF",
                      "#FECB52"
                    ],
                    "font": {
                      "color": "#2a3f5f"
                    },
                    "geo": {
                      "bgcolor": "white",
                      "lakecolor": "white",
                      "landcolor": "#E5ECF6",
                      "showlakes": true,
                      "showland": true,
                      "subunitcolor": "white"
                    },
                    "hoverlabel": {
                      "align": "left"
                    },
                    "hovermode": "closest",
                    "mapbox": {
                      "style": "light"
                    },
                    "paper_bgcolor": "white",
                    "plot_bgcolor": "#E5ECF6",
                    "polar": {
                      "angularaxis": {
                        "gridcolor": "white",
                        "linecolor": "white",
                        "ticks": ""
                      },
                      "bgcolor": "#E5ECF6",
                      "radialaxis": {
                        "gridcolor": "white",
                        "linecolor": "white",
                        "ticks": ""
                      }
                    },
                    "scene": {
                      "xaxis": {
                        "backgroundcolor": "#E5ECF6",
                        "gridcolor": "white",
                        "gridwidth": 2,
                        "linecolor": "white",
                        "showbackground": true,
                        "ticks": "",
                        "zerolinecolor": "white"
                      },
                      "yaxis": {
                        "backgroundcolor": "#E5ECF6",
                        "gridcolor": "white",
                        "gridwidth": 2,
                        "linecolor": "white",
                        "showbackground": true,
                        "ticks": "",
                        "zerolinecolor": "white"
                      },
                      "zaxis": {
                        "backgroundcolor": "#E5ECF6",
                        "gridcolor": "white",
                        "gridwidth": 2,
                        "linecolor": "white",
                        "showbackground": true,
                        "ticks": "",
                        "zerolinecolor": "white"
                      }
                    },
                    "shapedefaults": {
                      "line": {
                        "color": "#2a3f5f"
                      }
                    },
                    "ternary": {
                      "aaxis": {
                        "gridcolor": "white",
                        "linecolor": "white",
                        "ticks": ""
                      },
                      "baxis": {
                        "gridcolor": "white",
                        "linecolor": "white",
                        "ticks": ""
                      },
                      "bgcolor": "#E5ECF6",
                      "caxis": {
                        "gridcolor": "white",
                        "linecolor": "white",
                        "ticks": ""
                      }
                    },
                    "title": {
                      "x": 0.05
                    },
                    "xaxis": {
                      "automargin": true,
                      "gridcolor": "white",
                      "linecolor": "white",
                      "ticks": "",
                      "title": {
                        "standoff": 15
                      },
                      "zerolinecolor": "white",
                      "zerolinewidth": 2
                    },
                    "yaxis": {
                      "automargin": true,
                      "gridcolor": "white",
                      "linecolor": "white",
                      "ticks": "",
                      "title": {
                        "standoff": 15
                      },
                      "zerolinecolor": "white",
                      "zerolinewidth": 2
                    }
                  }
                },
                "xaxis": {
                  "anchor": "y",
                  "domain": [
                    0,
                    1
                  ]
                },
                "xaxis2": {
                  "anchor": "y2",
                  "domain": [
                    0,
                    1
                  ]
                },
                "yaxis": {
                  "anchor": "x",
                  "domain": [
                    0.625,
                    1
                  ]
                },
                "yaxis2": {
                  "anchor": "x2",
                  "domain": [
                    0,
                    0.375
                  ]
                }
              }
            }
          },
          "metadata": {},
          "output_type": "display_data"
        }
      ],
      "source": [
        "df_single = df_spotify[df_spotify['artist_count'] == 1]\n",
        "df_feature = df_spotify[df_spotify['artist_count'] > 1]\n",
        "\n",
        "# Box-Plot + T-Student, y queremos hacer varios \n",
        "fig = make_subplots(rows=2, cols=1, subplot_titles=\"Box-Plot para comparar las distribuciones entre canciones con un solo artista y varios.\")\n",
        "\n",
        "fig.add_trace(\n",
        "    go.Box(x=df_single['streams'], name=\"Canciones con un solo artista\"),\n",
        "    row=1, col=1\n",
        ")\n",
        "\n",
        "fig.add_trace(\n",
        "    go.Box(x=df_feature['streams'], name=\"Canciones con varios artistas\"),\n",
        "    row=2, col=1\n",
        ")\n",
        "\n",
        "fig.show()"
      ]
    },
    {
      "cell_type": "code",
      "execution_count": 133,
      "metadata": {},
      "outputs": [
        {
          "data": {
            "text/plain": [
              "TtestResult(statistic=2.824056811668969, pvalue=0.004935201415216841, df=490.0)"
            ]
          },
          "execution_count": 133,
          "metadata": {},
          "output_type": "execute_result"
        }
      ],
      "source": [
        "# T-Student para diferencia significativa: \n",
        "# ? - T-test -> Test de hipotesis para ver si dos grupos tienen una diferencia significativa\n",
        "group1 = df_single['streams']\n",
        "group2 = df_feature['streams']\n",
        "\n",
        "ttest_ind(group1.dropna(), group2.dropna(), trim=.2)"
      ]
    },
    {
      "cell_type": "markdown",
      "metadata": {},
      "source": [
        "Al observar que el p-valor es menor a 0.05, si que podemos indicar que hay una diferencia significativa. Se escuchan más las canciones de un solo artista antes que a varios. "
      ]
    },
    {
      "cell_type": "markdown",
      "metadata": {},
      "source": [
        "\n",
        "e) ¿Cuáles son las propiedades de una canción que mejor correlan con el número de reproducciones de una canción? **(0.5 puntos)**"
      ]
    },
    {
      "cell_type": "code",
      "execution_count": 134,
      "metadata": {},
      "outputs": [
        {
          "name": "stdout",
          "output_type": "stream",
          "text": [
            "<class 'pandas.core.frame.DataFrame'>\n",
            "Index: 816 entries, 0 to 951\n",
            "Data columns (total 24 columns):\n",
            " #   Column                Non-Null Count  Dtype \n",
            "---  ------                --------------  ----- \n",
            " 0   track_name            816 non-null    object\n",
            " 1   artist(s)_name        816 non-null    object\n",
            " 2   artist_count          816 non-null    int64 \n",
            " 3   released_year         816 non-null    int64 \n",
            " 4   released_month        816 non-null    int64 \n",
            " 5   released_day          816 non-null    int64 \n",
            " 6   in_spotify_playlists  816 non-null    int64 \n",
            " 7   in_spotify_charts     816 non-null    int64 \n",
            " 8   streams               816 non-null    int64 \n",
            " 9   in_apple_playlists    816 non-null    int64 \n",
            " 10  in_apple_charts       816 non-null    int64 \n",
            " 11  in_deezer_playlists   816 non-null    int64 \n",
            " 12  in_deezer_charts      816 non-null    int64 \n",
            " 13  in_shazam_charts      816 non-null    int64 \n",
            " 14  bpm                   816 non-null    int64 \n",
            " 15  key                   816 non-null    object\n",
            " 16  mode                  816 non-null    object\n",
            " 17  danceability_%        816 non-null    int64 \n",
            " 18  valence_%             816 non-null    int64 \n",
            " 19  energy_%              816 non-null    int64 \n",
            " 20  acousticness_%        816 non-null    int64 \n",
            " 21  instrumentalness_%    816 non-null    int64 \n",
            " 22  liveness_%            816 non-null    int64 \n",
            " 23  speechiness_%         816 non-null    int64 \n",
            "dtypes: int64(20), object(4)\n",
            "memory usage: 191.7+ KB\n"
          ]
        },
        {
          "data": {
            "application/vnd.plotly.v1+json": {
              "config": {
                "plotlyServerURL": "https://plot.ly"
              },
              "data": [
                {
                  "coloraxis": "coloraxis",
                  "hovertemplate": "x: %{x}<br>y: %{y}<br>color: %{z}<extra></extra>",
                  "name": "0",
                  "type": "heatmap",
                  "x": [
                    "artist_count",
                    "released_year",
                    "released_month",
                    "released_day",
                    "in_spotify_playlists",
                    "in_spotify_charts",
                    "streams",
                    "in_apple_playlists",
                    "in_apple_charts",
                    "in_deezer_playlists",
                    "in_deezer_charts",
                    "in_shazam_charts",
                    "bpm",
                    "key",
                    "mode",
                    "danceability_%",
                    "valence_%",
                    "energy_%",
                    "acousticness_%",
                    "instrumentalness_%",
                    "liveness_%",
                    "speechiness_%"
                  ],
                  "xaxis": "x",
                  "y": [
                    "artist_count",
                    "released_year",
                    "released_month",
                    "released_day",
                    "in_spotify_playlists",
                    "in_spotify_charts",
                    "streams",
                    "in_apple_playlists",
                    "in_apple_charts",
                    "in_deezer_playlists",
                    "in_deezer_charts",
                    "in_shazam_charts",
                    "bpm",
                    "key",
                    "mode",
                    "danceability_%",
                    "valence_%",
                    "energy_%",
                    "acousticness_%",
                    "instrumentalness_%",
                    "liveness_%",
                    "speechiness_%"
                  ],
                  "yaxis": "y",
                  "z": [
                    [
                      1,
                      0.07090004173380302,
                      0.03278760982894667,
                      -0.015869777267265423,
                      -0.0854544966813266,
                      -0.009075346706073415,
                      -0.1097599524043898,
                      -0.017501016450324366,
                      -0.07613130206748128,
                      -0.0678799843535461,
                      0.02023144405653201,
                      -0.033022809283060485,
                      -0.059220838914568544,
                      -0.03357263436024556,
                      0.11100092657824495,
                      0.21347955206059324,
                      0.12456107431158912,
                      0.13780122439820078,
                      -0.0953646318857772,
                      -0.06143822701775729,
                      0.03429410245503954,
                      0.13097757918193353
                    ],
                    [
                      0.07090004173380302,
                      1,
                      0.06967081338813279,
                      0.16105347721434085,
                      -0.3970519493265245,
                      0.06605413427449203,
                      -0.24272579089008642,
                      -0.2073168384289099,
                      -0.0020272025163861227,
                      -0.32162070059024483,
                      0.09442635121163458,
                      0.017201287827175015,
                      -0.014195355733057458,
                      -0.015203943347262258,
                      0.08762397627727636,
                      0.2124010948296214,
                      -0.04266481845972196,
                      0.0814783780645049,
                      -0.13915437984648737,
                      -0.025321974345794408,
                      0.008115258503517412,
                      0.127460610609959
                    ],
                    [
                      0.03278760982894667,
                      0.06967081338813279,
                      1,
                      0.055561883463581874,
                      -0.12300046106380708,
                      -0.051346269036809604,
                      -0.04604125957096039,
                      -0.035094384786825535,
                      -0.019568730831748378,
                      -0.10258600330577078,
                      0.006167548370916162,
                      -0.08803108079292787,
                      -0.05023562596498403,
                      0.028071559040288557,
                      -0.08354195591471297,
                      -0.05659869425543103,
                      -0.10881785085329791,
                      -0.08651036974250396,
                      0.05382378483373092,
                      0.03519492470509011,
                      0.001181676657181715,
                      0.04092091648074129
                    ],
                    [
                      -0.015869777267265423,
                      0.16105347721434085,
                      0.055561883463581874,
                      1,
                      -0.10817088327110297,
                      0.015034108763182105,
                      -0.025116479922823516,
                      -0.012920868793625825,
                      0.006065310406673482,
                      -0.09469115929031101,
                      0.05473490651499772,
                      0.02951884008871337,
                      -0.03418413713141129,
                      0.04831114936300366,
                      0.016216353837756003,
                      0.08274592095301941,
                      0.06455314106168629,
                      0.04785781232226975,
                      -0.00048532489500451617,
                      0.022745937897075817,
                      -0.011251997147247032,
                      -0.015859329769244257
                    ],
                    [
                      -0.0854544966813266,
                      -0.3970519493265245,
                      -0.12300046106380708,
                      -0.10817088327110297,
                      1,
                      0.14118603489360998,
                      0.7804038503763728,
                      0.6883060231524872,
                      0.21550426380479776,
                      0.8296286385454111,
                      0.10115824768310151,
                      0.08209392882881318,
                      -0.03462757258364471,
                      0.0025073787995607997,
                      -0.07261151188921244,
                      -0.09734839585137875,
                      -0.029527308453673785,
                      0.0359681368589882,
                      -0.06489557327799775,
                      -0.024631058213096548,
                      -0.05200216475889463,
                      -0.07786964657501229
                    ],
                    [
                      -0.009075346706073415,
                      0.06605413427449203,
                      -0.051346269036809604,
                      0.015034108763182105,
                      0.14118603489360998,
                      1,
                      0.21403395317007556,
                      0.20784124994907952,
                      0.5565087561030881,
                      0.07771495671230222,
                      0.5660197890003783,
                      0.5739561743840251,
                      0.028496332091187137,
                      -0.01424604247168891,
                      0.042925854215492824,
                      0.050623077046313636,
                      0.05086231589061236,
                      0.10521673774955306,
                      -0.07348203872475352,
                      -0.005963079767105264,
                      -0.02665497970894307,
                      -0.09472574316848516
                    ],
                    [
                      -0.1097599524043898,
                      -0.24272579089008642,
                      -0.04604125957096039,
                      -0.025116479922823516,
                      0.7804038503763728,
                      0.21403395317007556,
                      1,
                      0.7353207638877904,
                      0.2691374652573007,
                      0.610812465233166,
                      0.18432853415873934,
                      0.015714524559227103,
                      -0.02569384650556196,
                      -0.02367645467478504,
                      -0.06392017583020322,
                      -0.09326818058629731,
                      -0.051013689528639834,
                      -0.036499273297597605,
                      -0.0057509692186726155,
                      -0.03303871464204409,
                      -0.05666398078034252,
                      -0.09996806352926553
                    ],
                    [
                      -0.017501016450324366,
                      -0.2073168384289099,
                      -0.035094384786825535,
                      -0.012920868793625825,
                      0.6883060231524872,
                      0.20784124994907952,
                      0.7353207638877904,
                      1,
                      0.36433920975329354,
                      0.46857561136151005,
                      0.32659759363685664,
                      0.13875678639705377,
                      0.0052374873718523925,
                      0.008570930344843696,
                      -0.08665822451530254,
                      -0.013305552506022153,
                      0.04201717640723098,
                      0.040210693898185955,
                      -0.07155418038380304,
                      -0.0545235436184444,
                      -0.06506223936184263,
                      -0.09823335679331736
                    ],
                    [
                      -0.07613130206748128,
                      -0.0020272025163861227,
                      -0.019568730831748378,
                      0.006065310406673482,
                      0.21550426380479776,
                      0.5565087561030881,
                      0.2691374652573007,
                      0.36433920975329354,
                      1,
                      0.1369267471895198,
                      0.36629523939782727,
                      0.4194832074562264,
                      0.02653071933976471,
                      0.004664587822442141,
                      0.017063614790454665,
                      -0.027370582138256914,
                      0.044228911257292634,
                      0.12979253227198215,
                      -0.09780319476698723,
                      -0.0006151357963077564,
                      -0.007270835158137846,
                      -0.14751340672088045
                    ],
                    [
                      -0.0678799843535461,
                      -0.32162070059024483,
                      -0.10258600330577078,
                      -0.09469115929031101,
                      0.8296286385454111,
                      0.07771495671230222,
                      0.610812465233166,
                      0.46857561136151005,
                      0.1369267471895198,
                      1,
                      0.03910073796863023,
                      0.08467169452082597,
                      -0.03831954508219908,
                      0.009691534761342293,
                      -0.059916621937827715,
                      -0.0701131283755949,
                      -0.00829860731748178,
                      0.08193591419736641,
                      -0.07544288335137685,
                      -0.01212609844427566,
                      -0.024303851051110454,
                      -0.05716439647898409
                    ],
                    [
                      0.02023144405653201,
                      0.09442635121163458,
                      0.006167548370916162,
                      0.05473490651499772,
                      0.10115824768310151,
                      0.5660197890003783,
                      0.18432853415873934,
                      0.32659759363685664,
                      0.36629523939782727,
                      0.03910073796863023,
                      1,
                      0.38948167067755884,
                      0.021487212379386198,
                      0.014143395641710235,
                      0.026513678930294955,
                      0.08092578398315108,
                      0.07378575984439611,
                      0.10452899782815851,
                      -0.0355750802851018,
                      0.003396426522728017,
                      0.0036022140713566192,
                      -0.08197067046566238
                    ],
                    [
                      -0.033022809283060485,
                      0.017201287827175015,
                      -0.08803108079292787,
                      0.02951884008871337,
                      0.08209392882881318,
                      0.5739561743840251,
                      0.015714524559227103,
                      0.13875678639705377,
                      0.4194832074562264,
                      0.08467169452082597,
                      0.38948167067755884,
                      1,
                      0.05705208704119935,
                      -0.03364630935967304,
                      -0.024920135949239378,
                      -0.006668263872792039,
                      -0.017053589646766,
                      0.07828869333953102,
                      -0.021482191211862726,
                      0.054561063238491546,
                      -0.04511797191172538,
                      -0.07156649014274628
                    ],
                    [
                      -0.059220838914568544,
                      -0.014195355733057458,
                      -0.05023562596498403,
                      -0.03418413713141129,
                      -0.03462757258364471,
                      0.028496332091187137,
                      -0.02569384650556196,
                      0.0052374873718523925,
                      0.02653071933976471,
                      -0.03831954508219908,
                      0.021487212379386198,
                      0.05705208704119935,
                      1,
                      -0.020162362528977455,
                      -0.027036276948650274,
                      -0.1488160754249973,
                      0.029742727988723745,
                      0.013522841333081521,
                      -0.011187119716298884,
                      -0.0035120476562447833,
                      -0.00586490281983666,
                      0.037861963299208254
                    ],
                    [
                      -0.03357263436024556,
                      -0.015203943347262258,
                      0.028071559040288557,
                      0.04831114936300366,
                      0.0025073787995607997,
                      -0.01424604247168891,
                      -0.02367645467478504,
                      0.008570930344843696,
                      0.004664587822442141,
                      0.009691534761342293,
                      0.014143395641710235,
                      -0.03364630935967304,
                      -0.020162362528977455,
                      1,
                      -0.05335900323241553,
                      -0.005320455867552571,
                      0.052346660780936916,
                      0.017309755082871397,
                      0.014326472931315535,
                      0.010403211686830352,
                      0.01638042645753538,
                      -0.021514700245180034
                    ],
                    [
                      0.11100092657824495,
                      0.08762397627727636,
                      -0.08354195591471297,
                      0.016216353837756003,
                      -0.07261151188921244,
                      0.042925854215492824,
                      -0.06392017583020322,
                      -0.08665822451530254,
                      0.017063614790454665,
                      -0.059916621937827715,
                      0.026513678930294955,
                      -0.024920135949239378,
                      -0.027036276948650274,
                      -0.05335900323241553,
                      1,
                      0.14482872508939054,
                      0.07391429712637304,
                      0.07113040905758952,
                      -0.06579137052562752,
                      0.00820721550381816,
                      -0.009678189200971963,
                      0.0893883112814691
                    ],
                    [
                      0.21347955206059324,
                      0.2124010948296214,
                      -0.05659869425543103,
                      0.08274592095301941,
                      -0.09734839585137875,
                      0.050623077046313636,
                      -0.09326818058629731,
                      -0.013305552506022153,
                      -0.027370582138256914,
                      -0.0701131283755949,
                      0.08092578398315108,
                      -0.006668263872792039,
                      -0.1488160754249973,
                      -0.005320455867552571,
                      0.14482872508939054,
                      1,
                      0.39141412904737954,
                      0.1584178026180468,
                      -0.2415928980015893,
                      -0.10243629768299911,
                      -0.10074216215427026,
                      0.20048865345895828
                    ],
                    [
                      0.12456107431158912,
                      -0.04266481845972196,
                      -0.10881785085329791,
                      0.06455314106168629,
                      -0.029527308453673785,
                      0.05086231589061236,
                      -0.051013689528639834,
                      0.04201717640723098,
                      0.044228911257292634,
                      -0.00829860731748178,
                      0.07378575984439611,
                      -0.017053589646766,
                      0.029742727988723745,
                      0.052346660780936916,
                      0.07391429712637304,
                      0.39141412904737954,
                      1,
                      0.3496155201713675,
                      -0.06319691909281103,
                      -0.14689078484770193,
                      0.0002491107205881238,
                      0.036648983717236766
                    ],
                    [
                      0.13780122439820078,
                      0.0814783780645049,
                      -0.08651036974250396,
                      0.04785781232226975,
                      0.0359681368589882,
                      0.10521673774955306,
                      -0.036499273297597605,
                      0.040210693898185955,
                      0.12979253227198215,
                      0.08193591419736641,
                      0.10452899782815851,
                      0.07828869333953102,
                      0.013522841333081521,
                      0.017309755082871397,
                      0.07113040905758952,
                      0.1584178026180468,
                      0.3496155201713675,
                      1,
                      -0.5525921800320963,
                      -0.051598507291110006,
                      0.11127690341609411,
                      -0.02663016991224413
                    ],
                    [
                      -0.0953646318857772,
                      -0.13915437984648737,
                      0.05382378483373092,
                      -0.00048532489500451617,
                      -0.06489557327799775,
                      -0.07348203872475352,
                      -0.0057509692186726155,
                      -0.07155418038380304,
                      -0.09780319476698723,
                      -0.07544288335137685,
                      -0.0355750802851018,
                      -0.021482191211862726,
                      -0.011187119716298884,
                      0.014326472931315535,
                      -0.06579137052562752,
                      -0.2415928980015893,
                      -0.06319691909281103,
                      -0.5525921800320963,
                      1,
                      0.04653923560299526,
                      -0.04620880214916555,
                      -0.018517310455363756
                    ],
                    [
                      -0.06143822701775729,
                      -0.025321974345794408,
                      0.03519492470509011,
                      0.022745937897075817,
                      -0.024631058213096548,
                      -0.005963079767105264,
                      -0.03303871464204409,
                      -0.0545235436184444,
                      -0.0006151357963077564,
                      -0.01212609844427566,
                      0.003396426522728017,
                      0.054561063238491546,
                      -0.0035120476562447833,
                      0.010403211686830352,
                      0.00820721550381816,
                      -0.10243629768299911,
                      -0.14689078484770193,
                      -0.051598507291110006,
                      0.04653923560299526,
                      1,
                      -0.04464726956241134,
                      -0.09119930620190991
                    ],
                    [
                      0.03429410245503954,
                      0.008115258503517412,
                      0.001181676657181715,
                      -0.011251997147247032,
                      -0.05200216475889463,
                      -0.02665497970894307,
                      -0.05666398078034252,
                      -0.06506223936184263,
                      -0.007270835158137846,
                      -0.024303851051110454,
                      0.0036022140713566192,
                      -0.04511797191172538,
                      -0.00586490281983666,
                      0.01638042645753538,
                      -0.009678189200971963,
                      -0.10074216215427026,
                      0.0002491107205881238,
                      0.11127690341609411,
                      -0.04620880214916555,
                      -0.04464726956241134,
                      1,
                      -0.022892318688114338
                    ],
                    [
                      0.13097757918193353,
                      0.127460610609959,
                      0.04092091648074129,
                      -0.015859329769244257,
                      -0.07786964657501229,
                      -0.09472574316848516,
                      -0.09996806352926553,
                      -0.09823335679331736,
                      -0.14751340672088045,
                      -0.05716439647898409,
                      -0.08197067046566238,
                      -0.07156649014274628,
                      0.037861963299208254,
                      -0.021514700245180034,
                      0.0893883112814691,
                      0.20048865345895828,
                      0.036648983717236766,
                      -0.02663016991224413,
                      -0.018517310455363756,
                      -0.09119930620190991,
                      -0.022892318688114338,
                      1
                    ]
                  ]
                }
              ],
              "layout": {
                "coloraxis": {
                  "colorscale": [
                    [
                      0,
                      "#0d0887"
                    ],
                    [
                      0.1111111111111111,
                      "#46039f"
                    ],
                    [
                      0.2222222222222222,
                      "#7201a8"
                    ],
                    [
                      0.3333333333333333,
                      "#9c179e"
                    ],
                    [
                      0.4444444444444444,
                      "#bd3786"
                    ],
                    [
                      0.5555555555555556,
                      "#d8576b"
                    ],
                    [
                      0.6666666666666666,
                      "#ed7953"
                    ],
                    [
                      0.7777777777777778,
                      "#fb9f3a"
                    ],
                    [
                      0.8888888888888888,
                      "#fdca26"
                    ],
                    [
                      1,
                      "#f0f921"
                    ]
                  ]
                },
                "margin": {
                  "t": 60
                },
                "template": {
                  "data": {
                    "bar": [
                      {
                        "error_x": {
                          "color": "#2a3f5f"
                        },
                        "error_y": {
                          "color": "#2a3f5f"
                        },
                        "marker": {
                          "line": {
                            "color": "#E5ECF6",
                            "width": 0.5
                          },
                          "pattern": {
                            "fillmode": "overlay",
                            "size": 10,
                            "solidity": 0.2
                          }
                        },
                        "type": "bar"
                      }
                    ],
                    "barpolar": [
                      {
                        "marker": {
                          "line": {
                            "color": "#E5ECF6",
                            "width": 0.5
                          },
                          "pattern": {
                            "fillmode": "overlay",
                            "size": 10,
                            "solidity": 0.2
                          }
                        },
                        "type": "barpolar"
                      }
                    ],
                    "carpet": [
                      {
                        "aaxis": {
                          "endlinecolor": "#2a3f5f",
                          "gridcolor": "white",
                          "linecolor": "white",
                          "minorgridcolor": "white",
                          "startlinecolor": "#2a3f5f"
                        },
                        "baxis": {
                          "endlinecolor": "#2a3f5f",
                          "gridcolor": "white",
                          "linecolor": "white",
                          "minorgridcolor": "white",
                          "startlinecolor": "#2a3f5f"
                        },
                        "type": "carpet"
                      }
                    ],
                    "choropleth": [
                      {
                        "colorbar": {
                          "outlinewidth": 0,
                          "ticks": ""
                        },
                        "type": "choropleth"
                      }
                    ],
                    "contour": [
                      {
                        "colorbar": {
                          "outlinewidth": 0,
                          "ticks": ""
                        },
                        "colorscale": [
                          [
                            0,
                            "#0d0887"
                          ],
                          [
                            0.1111111111111111,
                            "#46039f"
                          ],
                          [
                            0.2222222222222222,
                            "#7201a8"
                          ],
                          [
                            0.3333333333333333,
                            "#9c179e"
                          ],
                          [
                            0.4444444444444444,
                            "#bd3786"
                          ],
                          [
                            0.5555555555555556,
                            "#d8576b"
                          ],
                          [
                            0.6666666666666666,
                            "#ed7953"
                          ],
                          [
                            0.7777777777777778,
                            "#fb9f3a"
                          ],
                          [
                            0.8888888888888888,
                            "#fdca26"
                          ],
                          [
                            1,
                            "#f0f921"
                          ]
                        ],
                        "type": "contour"
                      }
                    ],
                    "contourcarpet": [
                      {
                        "colorbar": {
                          "outlinewidth": 0,
                          "ticks": ""
                        },
                        "type": "contourcarpet"
                      }
                    ],
                    "heatmap": [
                      {
                        "colorbar": {
                          "outlinewidth": 0,
                          "ticks": ""
                        },
                        "colorscale": [
                          [
                            0,
                            "#0d0887"
                          ],
                          [
                            0.1111111111111111,
                            "#46039f"
                          ],
                          [
                            0.2222222222222222,
                            "#7201a8"
                          ],
                          [
                            0.3333333333333333,
                            "#9c179e"
                          ],
                          [
                            0.4444444444444444,
                            "#bd3786"
                          ],
                          [
                            0.5555555555555556,
                            "#d8576b"
                          ],
                          [
                            0.6666666666666666,
                            "#ed7953"
                          ],
                          [
                            0.7777777777777778,
                            "#fb9f3a"
                          ],
                          [
                            0.8888888888888888,
                            "#fdca26"
                          ],
                          [
                            1,
                            "#f0f921"
                          ]
                        ],
                        "type": "heatmap"
                      }
                    ],
                    "heatmapgl": [
                      {
                        "colorbar": {
                          "outlinewidth": 0,
                          "ticks": ""
                        },
                        "colorscale": [
                          [
                            0,
                            "#0d0887"
                          ],
                          [
                            0.1111111111111111,
                            "#46039f"
                          ],
                          [
                            0.2222222222222222,
                            "#7201a8"
                          ],
                          [
                            0.3333333333333333,
                            "#9c179e"
                          ],
                          [
                            0.4444444444444444,
                            "#bd3786"
                          ],
                          [
                            0.5555555555555556,
                            "#d8576b"
                          ],
                          [
                            0.6666666666666666,
                            "#ed7953"
                          ],
                          [
                            0.7777777777777778,
                            "#fb9f3a"
                          ],
                          [
                            0.8888888888888888,
                            "#fdca26"
                          ],
                          [
                            1,
                            "#f0f921"
                          ]
                        ],
                        "type": "heatmapgl"
                      }
                    ],
                    "histogram": [
                      {
                        "marker": {
                          "pattern": {
                            "fillmode": "overlay",
                            "size": 10,
                            "solidity": 0.2
                          }
                        },
                        "type": "histogram"
                      }
                    ],
                    "histogram2d": [
                      {
                        "colorbar": {
                          "outlinewidth": 0,
                          "ticks": ""
                        },
                        "colorscale": [
                          [
                            0,
                            "#0d0887"
                          ],
                          [
                            0.1111111111111111,
                            "#46039f"
                          ],
                          [
                            0.2222222222222222,
                            "#7201a8"
                          ],
                          [
                            0.3333333333333333,
                            "#9c179e"
                          ],
                          [
                            0.4444444444444444,
                            "#bd3786"
                          ],
                          [
                            0.5555555555555556,
                            "#d8576b"
                          ],
                          [
                            0.6666666666666666,
                            "#ed7953"
                          ],
                          [
                            0.7777777777777778,
                            "#fb9f3a"
                          ],
                          [
                            0.8888888888888888,
                            "#fdca26"
                          ],
                          [
                            1,
                            "#f0f921"
                          ]
                        ],
                        "type": "histogram2d"
                      }
                    ],
                    "histogram2dcontour": [
                      {
                        "colorbar": {
                          "outlinewidth": 0,
                          "ticks": ""
                        },
                        "colorscale": [
                          [
                            0,
                            "#0d0887"
                          ],
                          [
                            0.1111111111111111,
                            "#46039f"
                          ],
                          [
                            0.2222222222222222,
                            "#7201a8"
                          ],
                          [
                            0.3333333333333333,
                            "#9c179e"
                          ],
                          [
                            0.4444444444444444,
                            "#bd3786"
                          ],
                          [
                            0.5555555555555556,
                            "#d8576b"
                          ],
                          [
                            0.6666666666666666,
                            "#ed7953"
                          ],
                          [
                            0.7777777777777778,
                            "#fb9f3a"
                          ],
                          [
                            0.8888888888888888,
                            "#fdca26"
                          ],
                          [
                            1,
                            "#f0f921"
                          ]
                        ],
                        "type": "histogram2dcontour"
                      }
                    ],
                    "mesh3d": [
                      {
                        "colorbar": {
                          "outlinewidth": 0,
                          "ticks": ""
                        },
                        "type": "mesh3d"
                      }
                    ],
                    "parcoords": [
                      {
                        "line": {
                          "colorbar": {
                            "outlinewidth": 0,
                            "ticks": ""
                          }
                        },
                        "type": "parcoords"
                      }
                    ],
                    "pie": [
                      {
                        "automargin": true,
                        "type": "pie"
                      }
                    ],
                    "scatter": [
                      {
                        "fillpattern": {
                          "fillmode": "overlay",
                          "size": 10,
                          "solidity": 0.2
                        },
                        "type": "scatter"
                      }
                    ],
                    "scatter3d": [
                      {
                        "line": {
                          "colorbar": {
                            "outlinewidth": 0,
                            "ticks": ""
                          }
                        },
                        "marker": {
                          "colorbar": {
                            "outlinewidth": 0,
                            "ticks": ""
                          }
                        },
                        "type": "scatter3d"
                      }
                    ],
                    "scattercarpet": [
                      {
                        "marker": {
                          "colorbar": {
                            "outlinewidth": 0,
                            "ticks": ""
                          }
                        },
                        "type": "scattercarpet"
                      }
                    ],
                    "scattergeo": [
                      {
                        "marker": {
                          "colorbar": {
                            "outlinewidth": 0,
                            "ticks": ""
                          }
                        },
                        "type": "scattergeo"
                      }
                    ],
                    "scattergl": [
                      {
                        "marker": {
                          "colorbar": {
                            "outlinewidth": 0,
                            "ticks": ""
                          }
                        },
                        "type": "scattergl"
                      }
                    ],
                    "scattermapbox": [
                      {
                        "marker": {
                          "colorbar": {
                            "outlinewidth": 0,
                            "ticks": ""
                          }
                        },
                        "type": "scattermapbox"
                      }
                    ],
                    "scatterpolar": [
                      {
                        "marker": {
                          "colorbar": {
                            "outlinewidth": 0,
                            "ticks": ""
                          }
                        },
                        "type": "scatterpolar"
                      }
                    ],
                    "scatterpolargl": [
                      {
                        "marker": {
                          "colorbar": {
                            "outlinewidth": 0,
                            "ticks": ""
                          }
                        },
                        "type": "scatterpolargl"
                      }
                    ],
                    "scatterternary": [
                      {
                        "marker": {
                          "colorbar": {
                            "outlinewidth": 0,
                            "ticks": ""
                          }
                        },
                        "type": "scatterternary"
                      }
                    ],
                    "surface": [
                      {
                        "colorbar": {
                          "outlinewidth": 0,
                          "ticks": ""
                        },
                        "colorscale": [
                          [
                            0,
                            "#0d0887"
                          ],
                          [
                            0.1111111111111111,
                            "#46039f"
                          ],
                          [
                            0.2222222222222222,
                            "#7201a8"
                          ],
                          [
                            0.3333333333333333,
                            "#9c179e"
                          ],
                          [
                            0.4444444444444444,
                            "#bd3786"
                          ],
                          [
                            0.5555555555555556,
                            "#d8576b"
                          ],
                          [
                            0.6666666666666666,
                            "#ed7953"
                          ],
                          [
                            0.7777777777777778,
                            "#fb9f3a"
                          ],
                          [
                            0.8888888888888888,
                            "#fdca26"
                          ],
                          [
                            1,
                            "#f0f921"
                          ]
                        ],
                        "type": "surface"
                      }
                    ],
                    "table": [
                      {
                        "cells": {
                          "fill": {
                            "color": "#EBF0F8"
                          },
                          "line": {
                            "color": "white"
                          }
                        },
                        "header": {
                          "fill": {
                            "color": "#C8D4E3"
                          },
                          "line": {
                            "color": "white"
                          }
                        },
                        "type": "table"
                      }
                    ]
                  },
                  "layout": {
                    "annotationdefaults": {
                      "arrowcolor": "#2a3f5f",
                      "arrowhead": 0,
                      "arrowwidth": 1
                    },
                    "autotypenumbers": "strict",
                    "coloraxis": {
                      "colorbar": {
                        "outlinewidth": 0,
                        "ticks": ""
                      }
                    },
                    "colorscale": {
                      "diverging": [
                        [
                          0,
                          "#8e0152"
                        ],
                        [
                          0.1,
                          "#c51b7d"
                        ],
                        [
                          0.2,
                          "#de77ae"
                        ],
                        [
                          0.3,
                          "#f1b6da"
                        ],
                        [
                          0.4,
                          "#fde0ef"
                        ],
                        [
                          0.5,
                          "#f7f7f7"
                        ],
                        [
                          0.6,
                          "#e6f5d0"
                        ],
                        [
                          0.7,
                          "#b8e186"
                        ],
                        [
                          0.8,
                          "#7fbc41"
                        ],
                        [
                          0.9,
                          "#4d9221"
                        ],
                        [
                          1,
                          "#276419"
                        ]
                      ],
                      "sequential": [
                        [
                          0,
                          "#0d0887"
                        ],
                        [
                          0.1111111111111111,
                          "#46039f"
                        ],
                        [
                          0.2222222222222222,
                          "#7201a8"
                        ],
                        [
                          0.3333333333333333,
                          "#9c179e"
                        ],
                        [
                          0.4444444444444444,
                          "#bd3786"
                        ],
                        [
                          0.5555555555555556,
                          "#d8576b"
                        ],
                        [
                          0.6666666666666666,
                          "#ed7953"
                        ],
                        [
                          0.7777777777777778,
                          "#fb9f3a"
                        ],
                        [
                          0.8888888888888888,
                          "#fdca26"
                        ],
                        [
                          1,
                          "#f0f921"
                        ]
                      ],
                      "sequentialminus": [
                        [
                          0,
                          "#0d0887"
                        ],
                        [
                          0.1111111111111111,
                          "#46039f"
                        ],
                        [
                          0.2222222222222222,
                          "#7201a8"
                        ],
                        [
                          0.3333333333333333,
                          "#9c179e"
                        ],
                        [
                          0.4444444444444444,
                          "#bd3786"
                        ],
                        [
                          0.5555555555555556,
                          "#d8576b"
                        ],
                        [
                          0.6666666666666666,
                          "#ed7953"
                        ],
                        [
                          0.7777777777777778,
                          "#fb9f3a"
                        ],
                        [
                          0.8888888888888888,
                          "#fdca26"
                        ],
                        [
                          1,
                          "#f0f921"
                        ]
                      ]
                    },
                    "colorway": [
                      "#636efa",
                      "#EF553B",
                      "#00cc96",
                      "#ab63fa",
                      "#FFA15A",
                      "#19d3f3",
                      "#FF6692",
                      "#B6E880",
                      "#FF97FF",
                      "#FECB52"
                    ],
                    "font": {
                      "color": "#2a3f5f"
                    },
                    "geo": {
                      "bgcolor": "white",
                      "lakecolor": "white",
                      "landcolor": "#E5ECF6",
                      "showlakes": true,
                      "showland": true,
                      "subunitcolor": "white"
                    },
                    "hoverlabel": {
                      "align": "left"
                    },
                    "hovermode": "closest",
                    "mapbox": {
                      "style": "light"
                    },
                    "paper_bgcolor": "white",
                    "plot_bgcolor": "#E5ECF6",
                    "polar": {
                      "angularaxis": {
                        "gridcolor": "white",
                        "linecolor": "white",
                        "ticks": ""
                      },
                      "bgcolor": "#E5ECF6",
                      "radialaxis": {
                        "gridcolor": "white",
                        "linecolor": "white",
                        "ticks": ""
                      }
                    },
                    "scene": {
                      "xaxis": {
                        "backgroundcolor": "#E5ECF6",
                        "gridcolor": "white",
                        "gridwidth": 2,
                        "linecolor": "white",
                        "showbackground": true,
                        "ticks": "",
                        "zerolinecolor": "white"
                      },
                      "yaxis": {
                        "backgroundcolor": "#E5ECF6",
                        "gridcolor": "white",
                        "gridwidth": 2,
                        "linecolor": "white",
                        "showbackground": true,
                        "ticks": "",
                        "zerolinecolor": "white"
                      },
                      "zaxis": {
                        "backgroundcolor": "#E5ECF6",
                        "gridcolor": "white",
                        "gridwidth": 2,
                        "linecolor": "white",
                        "showbackground": true,
                        "ticks": "",
                        "zerolinecolor": "white"
                      }
                    },
                    "shapedefaults": {
                      "line": {
                        "color": "#2a3f5f"
                      }
                    },
                    "ternary": {
                      "aaxis": {
                        "gridcolor": "white",
                        "linecolor": "white",
                        "ticks": ""
                      },
                      "baxis": {
                        "gridcolor": "white",
                        "linecolor": "white",
                        "ticks": ""
                      },
                      "bgcolor": "#E5ECF6",
                      "caxis": {
                        "gridcolor": "white",
                        "linecolor": "white",
                        "ticks": ""
                      }
                    },
                    "title": {
                      "x": 0.05
                    },
                    "xaxis": {
                      "automargin": true,
                      "gridcolor": "white",
                      "linecolor": "white",
                      "ticks": "",
                      "title": {
                        "standoff": 15
                      },
                      "zerolinecolor": "white",
                      "zerolinewidth": 2
                    },
                    "yaxis": {
                      "automargin": true,
                      "gridcolor": "white",
                      "linecolor": "white",
                      "ticks": "",
                      "title": {
                        "standoff": 15
                      },
                      "zerolinecolor": "white",
                      "zerolinewidth": 2
                    }
                  }
                },
                "title": {
                  "text": "Correlation Matrix Heatmap"
                },
                "xaxis": {
                  "anchor": "y",
                  "constrain": "domain",
                  "domain": [
                    0,
                    1
                  ],
                  "scaleanchor": "y"
                },
                "yaxis": {
                  "anchor": "x",
                  "autorange": "reversed",
                  "constrain": "domain",
                  "domain": [
                    0,
                    1
                  ]
                }
              }
            }
          },
          "metadata": {},
          "output_type": "display_data"
        }
      ],
      "source": [
        "# Correlation matrix\n",
        "df_spotify.info()\n",
        "# Debemos de categorizar aquellas que no tengamos \n",
        "df_spotify['key'] = pd.Categorical(df_spotify[\"key\"]).codes\n",
        "df_spotify['mode'] = pd.Categorical(df_spotify[\"mode\"]).codes\n",
        "\n",
        "df_corr = df_spotify.copy()\n",
        "df_corr.drop(['track_name', 'artist(s)_name'], axis=1, inplace=True)  # Add inplace=True to modify the dataframe in place\n",
        "# Calculate the correlation matrix\n",
        "corr_matrix = df_corr.corr()\n",
        "\n",
        "# Create a heatmap using Plotly\n",
        "fig = px.imshow(corr_matrix)  # Use 'coolwarm_r' instead of 'coolwarm'\n",
        "fig.update_layout(title='Correlation Matrix Heatmap')\n",
        "fig.show()"
      ]
    },
    {
      "cell_type": "markdown",
      "metadata": {},
      "source": [
        "\n",
        "f) ¿Cuáles son las variables que mejor predicen las canciones que están por encima el percentil 50? **(1 puntos)**\n",
        "\n",
        "*Nota: Crea una variable binaria (Hit/No Hit) en base a 3.c, crea una regresión logística y visualiza sus coeficientes.*"
      ]
    },
    {
      "cell_type": "code",
      "execution_count": 135,
      "metadata": {},
      "outputs": [
        {
          "name": "stdout",
          "output_type": "stream",
          "text": [
            "Variance Explanation R^2:0.85\n",
            "Classification report\n",
            "              precision    recall  f1-score   support\n",
            "\n",
            "       False       0.77      0.90      0.83        82\n",
            "        True       0.88      0.73      0.80        82\n",
            "\n",
            "    accuracy                           0.82       164\n",
            "   macro avg       0.83      0.82      0.82       164\n",
            "weighted avg       0.83      0.82      0.82       164\n",
            "\n",
            "Confusion matrix\n",
            "[[74  8]\n",
            " [22 60]]\n"
          ]
        },
        {
          "data": {
            "application/vnd.plotly.v1+json": {
              "config": {
                "plotlyServerURL": "https://plot.ly"
              },
              "data": [
                {
                  "name": "Coeficientes",
                  "orientation": "h",
                  "type": "bar",
                  "x": [
                    -0.21667967403595986,
                    0.22334107679240003,
                    0.22463372751739882,
                    0.0035008391243651375,
                    4.959548799752468,
                    0.48470642125666114,
                    0.9859713836426708,
                    0.42982103562186436,
                    0.24218894208427302,
                    -0.028972306267620124,
                    -0.6459704056106311,
                    0.02245675981748576,
                    -0.055660970503177185,
                    -0.07536328124681563,
                    -0.06948283215174333,
                    -0.027333744883609665,
                    -0.1399727854629556,
                    0.05365541586691598,
                    0.0777477972445954,
                    -0.1538845852439737,
                    -0.0887290235946294
                  ],
                  "y": [
                    "artist_count",
                    "released_year",
                    "released_month",
                    "released_day",
                    "in_spotify_playlists",
                    "in_spotify_charts",
                    "in_apple_playlists",
                    "in_apple_charts",
                    "in_deezer_playlists",
                    "in_deezer_charts",
                    "in_shazam_charts",
                    "bpm",
                    "key",
                    "mode",
                    "danceability_%",
                    "valence_%",
                    "energy_%",
                    "acousticness_%",
                    "instrumentalness_%",
                    "liveness_%",
                    "speechiness_%"
                  ]
                }
              ],
              "layout": {
                "template": {
                  "data": {
                    "bar": [
                      {
                        "error_x": {
                          "color": "#2a3f5f"
                        },
                        "error_y": {
                          "color": "#2a3f5f"
                        },
                        "marker": {
                          "line": {
                            "color": "#E5ECF6",
                            "width": 0.5
                          },
                          "pattern": {
                            "fillmode": "overlay",
                            "size": 10,
                            "solidity": 0.2
                          }
                        },
                        "type": "bar"
                      }
                    ],
                    "barpolar": [
                      {
                        "marker": {
                          "line": {
                            "color": "#E5ECF6",
                            "width": 0.5
                          },
                          "pattern": {
                            "fillmode": "overlay",
                            "size": 10,
                            "solidity": 0.2
                          }
                        },
                        "type": "barpolar"
                      }
                    ],
                    "carpet": [
                      {
                        "aaxis": {
                          "endlinecolor": "#2a3f5f",
                          "gridcolor": "white",
                          "linecolor": "white",
                          "minorgridcolor": "white",
                          "startlinecolor": "#2a3f5f"
                        },
                        "baxis": {
                          "endlinecolor": "#2a3f5f",
                          "gridcolor": "white",
                          "linecolor": "white",
                          "minorgridcolor": "white",
                          "startlinecolor": "#2a3f5f"
                        },
                        "type": "carpet"
                      }
                    ],
                    "choropleth": [
                      {
                        "colorbar": {
                          "outlinewidth": 0,
                          "ticks": ""
                        },
                        "type": "choropleth"
                      }
                    ],
                    "contour": [
                      {
                        "colorbar": {
                          "outlinewidth": 0,
                          "ticks": ""
                        },
                        "colorscale": [
                          [
                            0,
                            "#0d0887"
                          ],
                          [
                            0.1111111111111111,
                            "#46039f"
                          ],
                          [
                            0.2222222222222222,
                            "#7201a8"
                          ],
                          [
                            0.3333333333333333,
                            "#9c179e"
                          ],
                          [
                            0.4444444444444444,
                            "#bd3786"
                          ],
                          [
                            0.5555555555555556,
                            "#d8576b"
                          ],
                          [
                            0.6666666666666666,
                            "#ed7953"
                          ],
                          [
                            0.7777777777777778,
                            "#fb9f3a"
                          ],
                          [
                            0.8888888888888888,
                            "#fdca26"
                          ],
                          [
                            1,
                            "#f0f921"
                          ]
                        ],
                        "type": "contour"
                      }
                    ],
                    "contourcarpet": [
                      {
                        "colorbar": {
                          "outlinewidth": 0,
                          "ticks": ""
                        },
                        "type": "contourcarpet"
                      }
                    ],
                    "heatmap": [
                      {
                        "colorbar": {
                          "outlinewidth": 0,
                          "ticks": ""
                        },
                        "colorscale": [
                          [
                            0,
                            "#0d0887"
                          ],
                          [
                            0.1111111111111111,
                            "#46039f"
                          ],
                          [
                            0.2222222222222222,
                            "#7201a8"
                          ],
                          [
                            0.3333333333333333,
                            "#9c179e"
                          ],
                          [
                            0.4444444444444444,
                            "#bd3786"
                          ],
                          [
                            0.5555555555555556,
                            "#d8576b"
                          ],
                          [
                            0.6666666666666666,
                            "#ed7953"
                          ],
                          [
                            0.7777777777777778,
                            "#fb9f3a"
                          ],
                          [
                            0.8888888888888888,
                            "#fdca26"
                          ],
                          [
                            1,
                            "#f0f921"
                          ]
                        ],
                        "type": "heatmap"
                      }
                    ],
                    "heatmapgl": [
                      {
                        "colorbar": {
                          "outlinewidth": 0,
                          "ticks": ""
                        },
                        "colorscale": [
                          [
                            0,
                            "#0d0887"
                          ],
                          [
                            0.1111111111111111,
                            "#46039f"
                          ],
                          [
                            0.2222222222222222,
                            "#7201a8"
                          ],
                          [
                            0.3333333333333333,
                            "#9c179e"
                          ],
                          [
                            0.4444444444444444,
                            "#bd3786"
                          ],
                          [
                            0.5555555555555556,
                            "#d8576b"
                          ],
                          [
                            0.6666666666666666,
                            "#ed7953"
                          ],
                          [
                            0.7777777777777778,
                            "#fb9f3a"
                          ],
                          [
                            0.8888888888888888,
                            "#fdca26"
                          ],
                          [
                            1,
                            "#f0f921"
                          ]
                        ],
                        "type": "heatmapgl"
                      }
                    ],
                    "histogram": [
                      {
                        "marker": {
                          "pattern": {
                            "fillmode": "overlay",
                            "size": 10,
                            "solidity": 0.2
                          }
                        },
                        "type": "histogram"
                      }
                    ],
                    "histogram2d": [
                      {
                        "colorbar": {
                          "outlinewidth": 0,
                          "ticks": ""
                        },
                        "colorscale": [
                          [
                            0,
                            "#0d0887"
                          ],
                          [
                            0.1111111111111111,
                            "#46039f"
                          ],
                          [
                            0.2222222222222222,
                            "#7201a8"
                          ],
                          [
                            0.3333333333333333,
                            "#9c179e"
                          ],
                          [
                            0.4444444444444444,
                            "#bd3786"
                          ],
                          [
                            0.5555555555555556,
                            "#d8576b"
                          ],
                          [
                            0.6666666666666666,
                            "#ed7953"
                          ],
                          [
                            0.7777777777777778,
                            "#fb9f3a"
                          ],
                          [
                            0.8888888888888888,
                            "#fdca26"
                          ],
                          [
                            1,
                            "#f0f921"
                          ]
                        ],
                        "type": "histogram2d"
                      }
                    ],
                    "histogram2dcontour": [
                      {
                        "colorbar": {
                          "outlinewidth": 0,
                          "ticks": ""
                        },
                        "colorscale": [
                          [
                            0,
                            "#0d0887"
                          ],
                          [
                            0.1111111111111111,
                            "#46039f"
                          ],
                          [
                            0.2222222222222222,
                            "#7201a8"
                          ],
                          [
                            0.3333333333333333,
                            "#9c179e"
                          ],
                          [
                            0.4444444444444444,
                            "#bd3786"
                          ],
                          [
                            0.5555555555555556,
                            "#d8576b"
                          ],
                          [
                            0.6666666666666666,
                            "#ed7953"
                          ],
                          [
                            0.7777777777777778,
                            "#fb9f3a"
                          ],
                          [
                            0.8888888888888888,
                            "#fdca26"
                          ],
                          [
                            1,
                            "#f0f921"
                          ]
                        ],
                        "type": "histogram2dcontour"
                      }
                    ],
                    "mesh3d": [
                      {
                        "colorbar": {
                          "outlinewidth": 0,
                          "ticks": ""
                        },
                        "type": "mesh3d"
                      }
                    ],
                    "parcoords": [
                      {
                        "line": {
                          "colorbar": {
                            "outlinewidth": 0,
                            "ticks": ""
                          }
                        },
                        "type": "parcoords"
                      }
                    ],
                    "pie": [
                      {
                        "automargin": true,
                        "type": "pie"
                      }
                    ],
                    "scatter": [
                      {
                        "fillpattern": {
                          "fillmode": "overlay",
                          "size": 10,
                          "solidity": 0.2
                        },
                        "type": "scatter"
                      }
                    ],
                    "scatter3d": [
                      {
                        "line": {
                          "colorbar": {
                            "outlinewidth": 0,
                            "ticks": ""
                          }
                        },
                        "marker": {
                          "colorbar": {
                            "outlinewidth": 0,
                            "ticks": ""
                          }
                        },
                        "type": "scatter3d"
                      }
                    ],
                    "scattercarpet": [
                      {
                        "marker": {
                          "colorbar": {
                            "outlinewidth": 0,
                            "ticks": ""
                          }
                        },
                        "type": "scattercarpet"
                      }
                    ],
                    "scattergeo": [
                      {
                        "marker": {
                          "colorbar": {
                            "outlinewidth": 0,
                            "ticks": ""
                          }
                        },
                        "type": "scattergeo"
                      }
                    ],
                    "scattergl": [
                      {
                        "marker": {
                          "colorbar": {
                            "outlinewidth": 0,
                            "ticks": ""
                          }
                        },
                        "type": "scattergl"
                      }
                    ],
                    "scattermapbox": [
                      {
                        "marker": {
                          "colorbar": {
                            "outlinewidth": 0,
                            "ticks": ""
                          }
                        },
                        "type": "scattermapbox"
                      }
                    ],
                    "scatterpolar": [
                      {
                        "marker": {
                          "colorbar": {
                            "outlinewidth": 0,
                            "ticks": ""
                          }
                        },
                        "type": "scatterpolar"
                      }
                    ],
                    "scatterpolargl": [
                      {
                        "marker": {
                          "colorbar": {
                            "outlinewidth": 0,
                            "ticks": ""
                          }
                        },
                        "type": "scatterpolargl"
                      }
                    ],
                    "scatterternary": [
                      {
                        "marker": {
                          "colorbar": {
                            "outlinewidth": 0,
                            "ticks": ""
                          }
                        },
                        "type": "scatterternary"
                      }
                    ],
                    "surface": [
                      {
                        "colorbar": {
                          "outlinewidth": 0,
                          "ticks": ""
                        },
                        "colorscale": [
                          [
                            0,
                            "#0d0887"
                          ],
                          [
                            0.1111111111111111,
                            "#46039f"
                          ],
                          [
                            0.2222222222222222,
                            "#7201a8"
                          ],
                          [
                            0.3333333333333333,
                            "#9c179e"
                          ],
                          [
                            0.4444444444444444,
                            "#bd3786"
                          ],
                          [
                            0.5555555555555556,
                            "#d8576b"
                          ],
                          [
                            0.6666666666666666,
                            "#ed7953"
                          ],
                          [
                            0.7777777777777778,
                            "#fb9f3a"
                          ],
                          [
                            0.8888888888888888,
                            "#fdca26"
                          ],
                          [
                            1,
                            "#f0f921"
                          ]
                        ],
                        "type": "surface"
                      }
                    ],
                    "table": [
                      {
                        "cells": {
                          "fill": {
                            "color": "#EBF0F8"
                          },
                          "line": {
                            "color": "white"
                          }
                        },
                        "header": {
                          "fill": {
                            "color": "#C8D4E3"
                          },
                          "line": {
                            "color": "white"
                          }
                        },
                        "type": "table"
                      }
                    ]
                  },
                  "layout": {
                    "annotationdefaults": {
                      "arrowcolor": "#2a3f5f",
                      "arrowhead": 0,
                      "arrowwidth": 1
                    },
                    "autotypenumbers": "strict",
                    "coloraxis": {
                      "colorbar": {
                        "outlinewidth": 0,
                        "ticks": ""
                      }
                    },
                    "colorscale": {
                      "diverging": [
                        [
                          0,
                          "#8e0152"
                        ],
                        [
                          0.1,
                          "#c51b7d"
                        ],
                        [
                          0.2,
                          "#de77ae"
                        ],
                        [
                          0.3,
                          "#f1b6da"
                        ],
                        [
                          0.4,
                          "#fde0ef"
                        ],
                        [
                          0.5,
                          "#f7f7f7"
                        ],
                        [
                          0.6,
                          "#e6f5d0"
                        ],
                        [
                          0.7,
                          "#b8e186"
                        ],
                        [
                          0.8,
                          "#7fbc41"
                        ],
                        [
                          0.9,
                          "#4d9221"
                        ],
                        [
                          1,
                          "#276419"
                        ]
                      ],
                      "sequential": [
                        [
                          0,
                          "#0d0887"
                        ],
                        [
                          0.1111111111111111,
                          "#46039f"
                        ],
                        [
                          0.2222222222222222,
                          "#7201a8"
                        ],
                        [
                          0.3333333333333333,
                          "#9c179e"
                        ],
                        [
                          0.4444444444444444,
                          "#bd3786"
                        ],
                        [
                          0.5555555555555556,
                          "#d8576b"
                        ],
                        [
                          0.6666666666666666,
                          "#ed7953"
                        ],
                        [
                          0.7777777777777778,
                          "#fb9f3a"
                        ],
                        [
                          0.8888888888888888,
                          "#fdca26"
                        ],
                        [
                          1,
                          "#f0f921"
                        ]
                      ],
                      "sequentialminus": [
                        [
                          0,
                          "#0d0887"
                        ],
                        [
                          0.1111111111111111,
                          "#46039f"
                        ],
                        [
                          0.2222222222222222,
                          "#7201a8"
                        ],
                        [
                          0.3333333333333333,
                          "#9c179e"
                        ],
                        [
                          0.4444444444444444,
                          "#bd3786"
                        ],
                        [
                          0.5555555555555556,
                          "#d8576b"
                        ],
                        [
                          0.6666666666666666,
                          "#ed7953"
                        ],
                        [
                          0.7777777777777778,
                          "#fb9f3a"
                        ],
                        [
                          0.8888888888888888,
                          "#fdca26"
                        ],
                        [
                          1,
                          "#f0f921"
                        ]
                      ]
                    },
                    "colorway": [
                      "#636efa",
                      "#EF553B",
                      "#00cc96",
                      "#ab63fa",
                      "#FFA15A",
                      "#19d3f3",
                      "#FF6692",
                      "#B6E880",
                      "#FF97FF",
                      "#FECB52"
                    ],
                    "font": {
                      "color": "#2a3f5f"
                    },
                    "geo": {
                      "bgcolor": "white",
                      "lakecolor": "white",
                      "landcolor": "#E5ECF6",
                      "showlakes": true,
                      "showland": true,
                      "subunitcolor": "white"
                    },
                    "hoverlabel": {
                      "align": "left"
                    },
                    "hovermode": "closest",
                    "mapbox": {
                      "style": "light"
                    },
                    "paper_bgcolor": "white",
                    "plot_bgcolor": "#E5ECF6",
                    "polar": {
                      "angularaxis": {
                        "gridcolor": "white",
                        "linecolor": "white",
                        "ticks": ""
                      },
                      "bgcolor": "#E5ECF6",
                      "radialaxis": {
                        "gridcolor": "white",
                        "linecolor": "white",
                        "ticks": ""
                      }
                    },
                    "scene": {
                      "xaxis": {
                        "backgroundcolor": "#E5ECF6",
                        "gridcolor": "white",
                        "gridwidth": 2,
                        "linecolor": "white",
                        "showbackground": true,
                        "ticks": "",
                        "zerolinecolor": "white"
                      },
                      "yaxis": {
                        "backgroundcolor": "#E5ECF6",
                        "gridcolor": "white",
                        "gridwidth": 2,
                        "linecolor": "white",
                        "showbackground": true,
                        "ticks": "",
                        "zerolinecolor": "white"
                      },
                      "zaxis": {
                        "backgroundcolor": "#E5ECF6",
                        "gridcolor": "white",
                        "gridwidth": 2,
                        "linecolor": "white",
                        "showbackground": true,
                        "ticks": "",
                        "zerolinecolor": "white"
                      }
                    },
                    "shapedefaults": {
                      "line": {
                        "color": "#2a3f5f"
                      }
                    },
                    "ternary": {
                      "aaxis": {
                        "gridcolor": "white",
                        "linecolor": "white",
                        "ticks": ""
                      },
                      "baxis": {
                        "gridcolor": "white",
                        "linecolor": "white",
                        "ticks": ""
                      },
                      "bgcolor": "#E5ECF6",
                      "caxis": {
                        "gridcolor": "white",
                        "linecolor": "white",
                        "ticks": ""
                      }
                    },
                    "title": {
                      "x": 0.05
                    },
                    "xaxis": {
                      "automargin": true,
                      "gridcolor": "white",
                      "linecolor": "white",
                      "ticks": "",
                      "title": {
                        "standoff": 15
                      },
                      "zerolinecolor": "white",
                      "zerolinewidth": 2
                    },
                    "yaxis": {
                      "automargin": true,
                      "gridcolor": "white",
                      "linecolor": "white",
                      "ticks": "",
                      "title": {
                        "standoff": 15
                      },
                      "zerolinecolor": "white",
                      "zerolinewidth": 2
                    }
                  }
                },
                "title": {
                  "text": "GLM coefficients importance"
                },
                "xaxis": {
                  "title": {
                    "text": "Coeficientes normalizados"
                  }
                },
                "yaxis": {
                  "title": {
                    "text": "Variables"
                  }
                }
              }
            }
          },
          "metadata": {},
          "output_type": "display_data"
        }
      ],
      "source": [
        "df_corr['hit'] = df_corr[\"streams\"] > df_corr[\"streams\"].quantile(0.5) #? - Crear una columna con una condición booleana y con quantiles \n",
        "df_corr.drop('streams', axis=1, inplace=True)\n",
        "X = df_corr.drop('hit', axis = 1)\n",
        "y = df_corr['hit']\n",
        "\n",
        "# ? - Separar los datos entre test y train\n",
        "X_train, X_test, y_train, y_test = train_test_split(X, y, test_size= 0.2, random_state= 123)\n",
        "\n",
        "# ? - Crear el modelo\n",
        "clf_log = Pipeline(steps=[\n",
        "    ('scaler', StandardScaler()),\n",
        "    (\"glm\", LogisticRegression(max_iter=10000, tol=0.1)),\n",
        "])\n",
        "\n",
        "# clf_log = LogisticRegression(max_iter=10000, tol=0.1)\n",
        "clf_log.fit(X_train, y_train)\n",
        "print(f\"Variance Explanation R^2:{round(clf_log.score(X,y),2)}\")\n",
        "\n",
        "\n",
        "predictions = clf_log.predict(X_test)\n",
        "\n",
        "print(\"Classification report\")\n",
        "print(classification_report(y_test, predictions))\n",
        "\n",
        "print(\"Confusion matrix\")\n",
        "print(confusion_matrix(y_test, predictions))\n",
        "\n",
        "lmc = clf_log.named_steps['glm'].coef_\n",
        "\n",
        "# Plot for LM\n",
        "objects = X.columns\n",
        "y_pos = np.arange(len(objects))\n",
        "coefficients = lmc[0]\n",
        "\n",
        "fig = go.Figure()\n",
        "\n",
        "# Agrego las trazas necesarias\n",
        "fig.add_trace(\n",
        "    go.Bar(\n",
        "        x = coefficients,\n",
        "        y = objects,\n",
        "        name = \"Coeficientes\",\n",
        "        orientation='h'\n",
        "    )\n",
        ")\n",
        "\n",
        "# Actualizo el diseño\n",
        "fig.update_layout(title = \"GLM coefficients importance\", xaxis_title = \"Coeficientes normalizados\", yaxis_title = \"Variables\")\n",
        "\n",
        "# Muestro la figura\n",
        "fig.show()"
      ]
    },
    {
      "cell_type": "markdown",
      "metadata": {},
      "source": [
        "g) Agrupa los 4 gráficos realizados en uno solo y haz una recomendación a un sello discográfico para producir un nuevo hit. **(1 puntos)**"
      ]
    },
    {
      "cell_type": "code",
      "execution_count": 138,
      "metadata": {},
      "outputs": [
        {
          "data": {
            "application/vnd.plotly.v1+json": {
              "config": {
                "plotlyServerURL": "https://plot.ly"
              },
              "data": [
                {
                  "histnorm": "probability density",
                  "nbinsx": 100,
                  "opacity": 0.6,
                  "type": "histogram",
                  "x": [
                    141381703,
                    133716286,
                    140003974,
                    800840817,
                    303236322,
                    183706234,
                    725980112,
                    58149378,
                    95217315,
                    553634067,
                    505671438,
                    58255150,
                    387570742,
                    1163093654,
                    496795686,
                    335222234,
                    363369738,
                    86444842,
                    52135248,
                    200647221,
                    115364561,
                    78300654,
                    899183384,
                    61245289,
                    429829812,
                    127408954,
                    22581161,
                    52294266,
                    843957510,
                    999748277,
                    618990393,
                    188933502,
                    1355959075,
                    786181836,
                    176553476,
                    354495408,
                    2808096550,
                    1109433169,
                    1047101291,
                    570515054,
                    1647990401,
                    2565529693,
                    518745108,
                    107753850,
                    177740666,
                    153372011,
                    57876440,
                    256483385,
                    1214083358,
                    111947664,
                    156338624,
                    720434240,
                    357925728,
                    674072710,
                    1755214421,
                    404562836,
                    373199958,
                    14780425,
                    39578178,
                    54266102,
                    751134527,
                    1356565093,
                    1592909789,
                    635412045,
                    1230675890,
                    585695368,
                    43857627,
                    2009094673,
                    600976848,
                    39709092,
                    39228929,
                    2665343922,
                    223633238,
                    1440757818,
                    165484133,
                    58054811,
                    157058870,
                    95131998,
                    250305248,
                    685032533,
                    38411956,
                    144565150,
                    127567540,
                    399686758,
                    983637508,
                    118482347,
                    882831184,
                    286400165,
                    172825906,
                    1241559043,
                    29562220,
                    77309611,
                    1605224506,
                    1116995633,
                    838079900,
                    1163620694,
                    1093605526,
                    179659294,
                    39058561,
                    36912123,
                    1205951614,
                    1791000570,
                    201660859,
                    248088961,
                    90839753,
                    607123776,
                    55842345,
                    211050784,
                    342897938,
                    2762,
                    601863821,
                    1953533826,
                    2355719893,
                    66902503,
                    96273746,
                    430977451,
                    284819874,
                    721975598,
                    276259178,
                    54225632,
                    2559529074,
                    681583126,
                    2594040133,
                    81102253,
                    11956641,
                    1687664027,
                    611700552,
                    1133865788,
                    1089402494,
                    411747614,
                    255932395,
                    31873544,
                    233801632,
                    1481349984,
                    142095275,
                    2011464183,
                    436027885,
                    2713922350,
                    621660989,
                    950906471,
                    1593270737,
                    1410088830,
                    1235005533,
                    1374581173,
                    94186466,
                    1788326445,
                    1840364617,
                    143573775,
                    684675814,
                    1113838873,
                    1267333350,
                    3562543890,
                    1271293243,
                    265882712,
                    841749534,
                    47956378,
                    806397070,
                    1641426668,
                    2135158446,
                    367316268,
                    350381515,
                    1264310836,
                    30343206,
                    405136812,
                    540654286,
                    57312735,
                    397582059,
                    1479115056,
                    86773632,
                    133753727,
                    123124076,
                    463564958,
                    64533040,
                    65496046,
                    68616963,
                    161460990,
                    70106975,
                    113509496,
                    89933133,
                    71007139,
                    43522589,
                    232896922,
                    37126685,
                    195576623,
                    532336353,
                    538115192,
                    46142772,
                    401036314,
                    127026613,
                    345031710,
                    288101651,
                    60350538,
                    335074782,
                    76767396,
                    46065667,
                    459276435,
                    39666245,
                    138517666,
                    822633917,
                    595900742,
                    51985779,
                    57945987,
                    115010040,
                    175097833,
                    57089066,
                    488386797,
                    32761689,
                    1047480053,
                    153454328,
                    217672943,
                    457184829,
                    726434358,
                    573633020,
                    1406111294,
                    71573339,
                    24975653,
                    145458418,
                    1424589568,
                    231332117,
                    415932686,
                    988515741,
                    50847624,
                    39893489,
                    92035115,
                    118810253,
                    77233241,
                    117747907,
                    266624541,
                    293186992,
                    139681964,
                    123132751,
                    103762518,
                    162887075,
                    91221625,
                    190490915,
                    96180277,
                    185240616,
                    885093467,
                    104992946,
                    147290338,
                    158950978,
                    76910644,
                    137123880,
                    782369383,
                    502574952,
                    207033255,
                    381161027,
                    466231982,
                    357580552,
                    61105704,
                    198275403,
                    705469769,
                    34502215,
                    304118600,
                    1449799467,
                    173627354,
                    90025258,
                    652704649,
                    1829992958,
                    655466831,
                    146409671,
                    95816024,
                    117206995,
                    100409613,
                    80758350,
                    325592432,
                    58473276,
                    52722996,
                    191945597,
                    77377503,
                    743693613,
                    267789608,
                    449701773,
                    67070410,
                    116334601,
                    165584767,
                    367814306,
                    477033549,
                    156214700,
                    448843705,
                    294352144,
                    972164968,
                    920045682,
                    2420461338,
                    244658767,
                    68216992,
                    223582566,
                    471819764,
                    1361425037,
                    116599790,
                    148469433,
                    497225336,
                    88791109,
                    125917280,
                    105062254,
                    95623148,
                    144584800,
                    298063749,
                    166570053,
                    83021468,
                    139836056,
                    303216294,
                    221409663,
                    58890931,
                    81419389,
                    156777415,
                    284908316,
                    93438910,
                    363472647,
                    372476382,
                    56533272,
                    175399345,
                    203221468,
                    1624165576,
                    134294498,
                    70069745,
                    609293408,
                    671365962,
                    93587665,
                    1223481149,
                    1022258230,
                    263453310,
                    1435127549,
                    236857112,
                    147538971,
                    698086140,
                    723894473,
                    403097450,
                    309483971,
                    319566866,
                    909001996,
                    1061966512,
                    124988687,
                    134255790,
                    301051721,
                    156338624,
                    309653982,
                    297328960,
                    332506354,
                    480507035,
                    1065580332,
                    122763672,
                    1365184,
                    184308753,
                    606361689,
                    120972253,
                    338564981,
                    1606986953,
                    1301799902,
                    140187018,
                    107642809,
                    556585270,
                    2303033973,
                    646886885,
                    872137015,
                    571386359,
                    174006928,
                    284785823,
                    163284000,
                    246390068,
                    482257456,
                    168684524,
                    78489819,
                    195516622,
                    1260594497,
                    428685680,
                    1024858327,
                    838586769,
                    199386237,
                    972509632,
                    213438580,
                    210038833,
                    227918678,
                    826623384,
                    1802514301,
                    181831132,
                    462791599,
                    348647203,
                    90598517,
                    807561936,
                    663832097,
                    446390129,
                    485285717,
                    520034544,
                    476244795,
                    629173063,
                    404664135,
                    98709329,
                    110849052,
                    460492795,
                    94005786,
                    389771964,
                    403939487,
                    110073250,
                    351636786,
                    473248298,
                    73981293,
                    155653938,
                    395591396,
                    429504768,
                    242767149,
                    65362788,
                    67540165,
                    62019074,
                    295998468,
                    136689549,
                    135611421,
                    356709897,
                    110649992,
                    301869854,
                    127027715,
                    57144458,
                    56870689,
                    323437194,
                    317726339,
                    116144341,
                    328207708,
                    608228647,
                    180577478,
                    809306935,
                    49262961,
                    614555082,
                    245350949,
                    178660459,
                    51641685,
                    78139948,
                    322336177,
                    391251368,
                    349585590,
                    674772936,
                    119238316,
                    116903579,
                    888046992,
                    130655803,
                    88103848,
                    101114984,
                    1575467011,
                    91656026,
                    53933526,
                    267758538,
                    74601456,
                    920797189,
                    539595276,
                    1367810478,
                    578207856,
                    775542072,
                    656013912,
                    240684449,
                    63803529,
                    466214729,
                    236940480,
                    41924466,
                    225259194,
                    393230256,
                    287201015,
                    599770206,
                    342779426,
                    673801126,
                    1168642797,
                    383550148,
                    530511203,
                    510876816,
                    1763363713,
                    374191487,
                    108809090,
                    436695353,
                    354065229,
                    1143647827,
                    311395144,
                    672656250,
                    1256880657,
                    245095641,
                    686734357,
                    261414174,
                    610045621,
                    1115880852,
                    594482982,
                    566954746,
                    184937148,
                    31959571,
                    824420218,
                    363467642,
                    1127468248,
                    60680939,
                    247737946,
                    154797871,
                    124407432,
                    850608354,
                    376333030,
                    516784627,
                    1608045237,
                    506778838,
                    1472799873,
                    513643924,
                    261286503,
                    783706581,
                    422691058,
                    1062345656,
                    851070493,
                    263894529,
                    345903614,
                    956865266,
                    427486004,
                    156658366,
                    624515457,
                    777765388,
                    1138474110,
                    355219175,
                    290228626,
                    1062956628,
                    1180094974,
                    1456081449,
                    432702334,
                    489945871,
                    465959382,
                    1223481149,
                    2288695111,
                    720825549,
                    2086124197,
                    1690192927,
                    593917618,
                    200972675,
                    71014967,
                    560222750,
                    1806617704,
                    77337771,
                    528544703,
                    865640097,
                    2159346687,
                    211372494,
                    651732901,
                    608334048,
                    863756573,
                    797402345,
                    1695712020,
                    1759567999,
                    223319934,
                    54937991,
                    258316038,
                    596152090,
                    177129919,
                    716591492,
                    1210599487,
                    246376690,
                    496311364,
                    843309044,
                    500340342,
                    107255472,
                    135079152,
                    822239726,
                    1202722675,
                    343197054,
                    240769997,
                    426204830,
                    421135627,
                    554875730,
                    327498031,
                    185408548,
                    245400167,
                    579395142,
                    675039469,
                    252871192,
                    231996128,
                    1929770265,
                    918915401,
                    1180896317,
                    498960285,
                    258714692,
                    143139338,
                    209768491,
                    64714573,
                    50746620,
                    154119539,
                    181328253,
                    370068639,
                    2280566092,
                    563902868,
                    317622165,
                    203680270,
                    81350745,
                    282883169,
                    64787943,
                    2484812918,
                    461437791,
                    1439191367,
                    759208783,
                    368646862,
                    299634472,
                    756907987,
                    682475162,
                    546191065,
                    229473310,
                    202677468,
                    208166039,
                    527033089,
                    94616487,
                    394030335,
                    193443895,
                    299648208,
                    319757142,
                    153240879,
                    346127840,
                    312622938,
                    1200808494,
                    797196073,
                    1970673297,
                    665765558,
                    263779030,
                    339473453,
                    2204080728,
                    2591224264,
                    135444283,
                    236872197,
                    694525298,
                    421365166,
                    349746291,
                    255120451,
                    190981339,
                    924193303,
                    305771063,
                    273005485,
                    89566512,
                    677389855,
                    75476209,
                    408843328,
                    187772591,
                    178512385,
                    101780047,
                    146363130,
                    126443991,
                    157990698,
                    176290831,
                    1023187129,
                    106933107,
                    139193812,
                    212234990,
                    1714490998,
                    197643795,
                    807015863,
                    933815613,
                    499710590,
                    120847157,
                    53909146,
                    2236667932,
                    2123309722,
                    301242089,
                    723894473,
                    237351106,
                    461558540,
                    156898322,
                    127309180,
                    173702135,
                    305650299,
                    123216717,
                    479655659,
                    126191104,
                    344055883,
                    338422004,
                    68895644,
                    86176890,
                    403231558,
                    319546754,
                    61739839,
                    283359161,
                    76831876,
                    283332261,
                    307752576,
                    279737940,
                    212351890,
                    1304313953,
                    150500965,
                    246127838,
                    582863434,
                    58687425,
                    212109195,
                    382199619,
                    41210087,
                    231657891,
                    53729194,
                    244741137,
                    42485571,
                    37778188,
                    254218729,
                    53603447,
                    160035717,
                    37091576,
                    284249832,
                    33381454,
                    184622518,
                    300983101,
                    121077868,
                    106919680,
                    136996305,
                    65719930,
                    229497852,
                    185550869,
                    54682594,
                    240580042,
                    1284942608,
                    71423324,
                    244891912,
                    132171975,
                    184706613,
                    184826429,
                    302006641,
                    330881149,
                    334733572,
                    366214458,
                    114546317,
                    448500832,
                    136676504,
                    190625045,
                    79095270,
                    273194684,
                    333146475,
                    194902696,
                    195918494,
                    248511839,
                    233671263,
                    199587884,
                    91781263,
                    383835984,
                    236060709,
                    189236868,
                    160845341,
                    588955257,
                    238350348,
                    187703102,
                    138334433,
                    445590495,
                    286739476,
                    1122364376,
                    157136970,
                    183273246,
                    164856284,
                    704171068,
                    354614964,
                    279717388,
                    195628667,
                    221752937,
                    263280370,
                    213505179,
                    130419412,
                    155795783,
                    1553497987,
                    293466523,
                    191448892,
                    85924992,
                    176103902,
                    121189256,
                    131746175,
                    244790012,
                    129314708,
                    331511413,
                    170732845,
                    179061440,
                    185236961,
                    171788484,
                    387080183,
                    264717480,
                    244928911,
                    97610446,
                    287278853,
                    887906111,
                    123473120,
                    323455692,
                    240918092,
                    191873381,
                    239411309,
                    703301727,
                    189476119,
                    277132266,
                    278920007,
                    222410722,
                    185392587,
                    202452860,
                    1608164312,
                    624101957,
                    148461629,
                    47093942,
                    380319238,
                    209106362,
                    53987404,
                    115331792,
                    225093344,
                    84697729,
                    159240673,
                    170709584,
                    154356956,
                    723043854,
                    247689123,
                    176474912,
                    235549288,
                    85559365,
                    146223492,
                    187701588,
                    154863153,
                    191333656,
                    253650850,
                    223064273,
                    170413877,
                    218320587,
                    141720999,
                    198365537,
                    177503916,
                    71095708,
                    112436403,
                    203436468,
                    93367537,
                    106249219,
                    181382590,
                    91473363,
                    121871870,
                    73513683,
                    133895612,
                    96007391
                  ],
                  "xaxis": "x2",
                  "yaxis": "y2"
                },
                {
                  "colorscale": [
                    [
                      0,
                      "#440154"
                    ],
                    [
                      0.1111111111111111,
                      "#482878"
                    ],
                    [
                      0.2222222222222222,
                      "#3e4989"
                    ],
                    [
                      0.3333333333333333,
                      "#31688e"
                    ],
                    [
                      0.4444444444444444,
                      "#26828e"
                    ],
                    [
                      0.5555555555555556,
                      "#1f9e89"
                    ],
                    [
                      0.6666666666666666,
                      "#35b779"
                    ],
                    [
                      0.7777777777777778,
                      "#6ece58"
                    ],
                    [
                      0.8888888888888888,
                      "#b5de2b"
                    ],
                    [
                      1,
                      "#fde725"
                    ]
                  ],
                  "type": "heatmap",
                  "x": [
                    "artist_count",
                    "released_year",
                    "released_month",
                    "released_day",
                    "in_spotify_playlists",
                    "in_spotify_charts",
                    "streams",
                    "in_apple_playlists",
                    "in_apple_charts",
                    "in_deezer_playlists",
                    "in_deezer_charts",
                    "in_shazam_charts",
                    "bpm",
                    "key",
                    "mode",
                    "danceability_%",
                    "valence_%",
                    "energy_%",
                    "acousticness_%",
                    "instrumentalness_%",
                    "liveness_%",
                    "speechiness_%"
                  ],
                  "xaxis": "x3",
                  "y": [
                    "artist_count",
                    "released_year",
                    "released_month",
                    "released_day",
                    "in_spotify_playlists",
                    "in_spotify_charts",
                    "streams",
                    "in_apple_playlists",
                    "in_apple_charts",
                    "in_deezer_playlists",
                    "in_deezer_charts",
                    "in_shazam_charts",
                    "bpm",
                    "key",
                    "mode",
                    "danceability_%",
                    "valence_%",
                    "energy_%",
                    "acousticness_%",
                    "instrumentalness_%",
                    "liveness_%",
                    "speechiness_%"
                  ],
                  "yaxis": "y3",
                  "z": [
                    [
                      1,
                      0.07090004173380302,
                      0.03278760982894667,
                      -0.015869777267265423,
                      -0.0854544966813266,
                      -0.009075346706073415,
                      -0.1097599524043898,
                      -0.017501016450324366,
                      -0.07613130206748128,
                      -0.0678799843535461,
                      0.02023144405653201,
                      -0.033022809283060485,
                      -0.059220838914568544,
                      -0.03357263436024556,
                      0.11100092657824495,
                      0.21347955206059324,
                      0.12456107431158912,
                      0.13780122439820078,
                      -0.0953646318857772,
                      -0.06143822701775729,
                      0.03429410245503954,
                      0.13097757918193353
                    ],
                    [
                      0.07090004173380302,
                      1,
                      0.06967081338813279,
                      0.16105347721434085,
                      -0.3970519493265245,
                      0.06605413427449203,
                      -0.24272579089008642,
                      -0.2073168384289099,
                      -0.0020272025163861227,
                      -0.32162070059024483,
                      0.09442635121163458,
                      0.017201287827175015,
                      -0.014195355733057458,
                      -0.015203943347262258,
                      0.08762397627727636,
                      0.2124010948296214,
                      -0.04266481845972196,
                      0.0814783780645049,
                      -0.13915437984648737,
                      -0.025321974345794408,
                      0.008115258503517412,
                      0.127460610609959
                    ],
                    [
                      0.03278760982894667,
                      0.06967081338813279,
                      1,
                      0.055561883463581874,
                      -0.12300046106380708,
                      -0.051346269036809604,
                      -0.04604125957096039,
                      -0.035094384786825535,
                      -0.019568730831748378,
                      -0.10258600330577078,
                      0.006167548370916162,
                      -0.08803108079292787,
                      -0.05023562596498403,
                      0.028071559040288557,
                      -0.08354195591471297,
                      -0.05659869425543103,
                      -0.10881785085329791,
                      -0.08651036974250396,
                      0.05382378483373092,
                      0.03519492470509011,
                      0.001181676657181715,
                      0.04092091648074129
                    ],
                    [
                      -0.015869777267265423,
                      0.16105347721434085,
                      0.055561883463581874,
                      1,
                      -0.10817088327110297,
                      0.015034108763182105,
                      -0.025116479922823516,
                      -0.012920868793625825,
                      0.006065310406673482,
                      -0.09469115929031101,
                      0.05473490651499772,
                      0.02951884008871337,
                      -0.03418413713141129,
                      0.04831114936300366,
                      0.016216353837756003,
                      0.08274592095301941,
                      0.06455314106168629,
                      0.04785781232226975,
                      -0.00048532489500451617,
                      0.022745937897075817,
                      -0.011251997147247032,
                      -0.015859329769244257
                    ],
                    [
                      -0.0854544966813266,
                      -0.3970519493265245,
                      -0.12300046106380708,
                      -0.10817088327110297,
                      1,
                      0.14118603489360998,
                      0.7804038503763728,
                      0.6883060231524872,
                      0.21550426380479776,
                      0.8296286385454111,
                      0.10115824768310151,
                      0.08209392882881318,
                      -0.03462757258364471,
                      0.0025073787995607997,
                      -0.07261151188921244,
                      -0.09734839585137875,
                      -0.029527308453673785,
                      0.0359681368589882,
                      -0.06489557327799775,
                      -0.024631058213096548,
                      -0.05200216475889463,
                      -0.07786964657501229
                    ],
                    [
                      -0.009075346706073415,
                      0.06605413427449203,
                      -0.051346269036809604,
                      0.015034108763182105,
                      0.14118603489360998,
                      1,
                      0.21403395317007556,
                      0.20784124994907952,
                      0.5565087561030881,
                      0.07771495671230222,
                      0.5660197890003783,
                      0.5739561743840251,
                      0.028496332091187137,
                      -0.01424604247168891,
                      0.042925854215492824,
                      0.050623077046313636,
                      0.05086231589061236,
                      0.10521673774955306,
                      -0.07348203872475352,
                      -0.005963079767105264,
                      -0.02665497970894307,
                      -0.09472574316848516
                    ],
                    [
                      -0.1097599524043898,
                      -0.24272579089008642,
                      -0.04604125957096039,
                      -0.025116479922823516,
                      0.7804038503763728,
                      0.21403395317007556,
                      1,
                      0.7353207638877904,
                      0.2691374652573007,
                      0.610812465233166,
                      0.18432853415873934,
                      0.015714524559227103,
                      -0.02569384650556196,
                      -0.02367645467478504,
                      -0.06392017583020322,
                      -0.09326818058629731,
                      -0.051013689528639834,
                      -0.036499273297597605,
                      -0.0057509692186726155,
                      -0.03303871464204409,
                      -0.05666398078034252,
                      -0.09996806352926553
                    ],
                    [
                      -0.017501016450324366,
                      -0.2073168384289099,
                      -0.035094384786825535,
                      -0.012920868793625825,
                      0.6883060231524872,
                      0.20784124994907952,
                      0.7353207638877904,
                      1,
                      0.36433920975329354,
                      0.46857561136151005,
                      0.32659759363685664,
                      0.13875678639705377,
                      0.0052374873718523925,
                      0.008570930344843696,
                      -0.08665822451530254,
                      -0.013305552506022153,
                      0.04201717640723098,
                      0.040210693898185955,
                      -0.07155418038380304,
                      -0.0545235436184444,
                      -0.06506223936184263,
                      -0.09823335679331736
                    ],
                    [
                      -0.07613130206748128,
                      -0.0020272025163861227,
                      -0.019568730831748378,
                      0.006065310406673482,
                      0.21550426380479776,
                      0.5565087561030881,
                      0.2691374652573007,
                      0.36433920975329354,
                      1,
                      0.1369267471895198,
                      0.36629523939782727,
                      0.4194832074562264,
                      0.02653071933976471,
                      0.004664587822442141,
                      0.017063614790454665,
                      -0.027370582138256914,
                      0.044228911257292634,
                      0.12979253227198215,
                      -0.09780319476698723,
                      -0.0006151357963077564,
                      -0.007270835158137846,
                      -0.14751340672088045
                    ],
                    [
                      -0.0678799843535461,
                      -0.32162070059024483,
                      -0.10258600330577078,
                      -0.09469115929031101,
                      0.8296286385454111,
                      0.07771495671230222,
                      0.610812465233166,
                      0.46857561136151005,
                      0.1369267471895198,
                      1,
                      0.03910073796863023,
                      0.08467169452082597,
                      -0.03831954508219908,
                      0.009691534761342293,
                      -0.059916621937827715,
                      -0.0701131283755949,
                      -0.00829860731748178,
                      0.08193591419736641,
                      -0.07544288335137685,
                      -0.01212609844427566,
                      -0.024303851051110454,
                      -0.05716439647898409
                    ],
                    [
                      0.02023144405653201,
                      0.09442635121163458,
                      0.006167548370916162,
                      0.05473490651499772,
                      0.10115824768310151,
                      0.5660197890003783,
                      0.18432853415873934,
                      0.32659759363685664,
                      0.36629523939782727,
                      0.03910073796863023,
                      1,
                      0.38948167067755884,
                      0.021487212379386198,
                      0.014143395641710235,
                      0.026513678930294955,
                      0.08092578398315108,
                      0.07378575984439611,
                      0.10452899782815851,
                      -0.0355750802851018,
                      0.003396426522728017,
                      0.0036022140713566192,
                      -0.08197067046566238
                    ],
                    [
                      -0.033022809283060485,
                      0.017201287827175015,
                      -0.08803108079292787,
                      0.02951884008871337,
                      0.08209392882881318,
                      0.5739561743840251,
                      0.015714524559227103,
                      0.13875678639705377,
                      0.4194832074562264,
                      0.08467169452082597,
                      0.38948167067755884,
                      1,
                      0.05705208704119935,
                      -0.03364630935967304,
                      -0.024920135949239378,
                      -0.006668263872792039,
                      -0.017053589646766,
                      0.07828869333953102,
                      -0.021482191211862726,
                      0.054561063238491546,
                      -0.04511797191172538,
                      -0.07156649014274628
                    ],
                    [
                      -0.059220838914568544,
                      -0.014195355733057458,
                      -0.05023562596498403,
                      -0.03418413713141129,
                      -0.03462757258364471,
                      0.028496332091187137,
                      -0.02569384650556196,
                      0.0052374873718523925,
                      0.02653071933976471,
                      -0.03831954508219908,
                      0.021487212379386198,
                      0.05705208704119935,
                      1,
                      -0.020162362528977455,
                      -0.027036276948650274,
                      -0.1488160754249973,
                      0.029742727988723745,
                      0.013522841333081521,
                      -0.011187119716298884,
                      -0.0035120476562447833,
                      -0.00586490281983666,
                      0.037861963299208254
                    ],
                    [
                      -0.03357263436024556,
                      -0.015203943347262258,
                      0.028071559040288557,
                      0.04831114936300366,
                      0.0025073787995607997,
                      -0.01424604247168891,
                      -0.02367645467478504,
                      0.008570930344843696,
                      0.004664587822442141,
                      0.009691534761342293,
                      0.014143395641710235,
                      -0.03364630935967304,
                      -0.020162362528977455,
                      1,
                      -0.05335900323241553,
                      -0.005320455867552571,
                      0.052346660780936916,
                      0.017309755082871397,
                      0.014326472931315535,
                      0.010403211686830352,
                      0.01638042645753538,
                      -0.021514700245180034
                    ],
                    [
                      0.11100092657824495,
                      0.08762397627727636,
                      -0.08354195591471297,
                      0.016216353837756003,
                      -0.07261151188921244,
                      0.042925854215492824,
                      -0.06392017583020322,
                      -0.08665822451530254,
                      0.017063614790454665,
                      -0.059916621937827715,
                      0.026513678930294955,
                      -0.024920135949239378,
                      -0.027036276948650274,
                      -0.05335900323241553,
                      1,
                      0.14482872508939054,
                      0.07391429712637304,
                      0.07113040905758952,
                      -0.06579137052562752,
                      0.00820721550381816,
                      -0.009678189200971963,
                      0.0893883112814691
                    ],
                    [
                      0.21347955206059324,
                      0.2124010948296214,
                      -0.05659869425543103,
                      0.08274592095301941,
                      -0.09734839585137875,
                      0.050623077046313636,
                      -0.09326818058629731,
                      -0.013305552506022153,
                      -0.027370582138256914,
                      -0.0701131283755949,
                      0.08092578398315108,
                      -0.006668263872792039,
                      -0.1488160754249973,
                      -0.005320455867552571,
                      0.14482872508939054,
                      1,
                      0.39141412904737954,
                      0.1584178026180468,
                      -0.2415928980015893,
                      -0.10243629768299911,
                      -0.10074216215427026,
                      0.20048865345895828
                    ],
                    [
                      0.12456107431158912,
                      -0.04266481845972196,
                      -0.10881785085329791,
                      0.06455314106168629,
                      -0.029527308453673785,
                      0.05086231589061236,
                      -0.051013689528639834,
                      0.04201717640723098,
                      0.044228911257292634,
                      -0.00829860731748178,
                      0.07378575984439611,
                      -0.017053589646766,
                      0.029742727988723745,
                      0.052346660780936916,
                      0.07391429712637304,
                      0.39141412904737954,
                      1,
                      0.3496155201713675,
                      -0.06319691909281103,
                      -0.14689078484770193,
                      0.0002491107205881238,
                      0.036648983717236766
                    ],
                    [
                      0.13780122439820078,
                      0.0814783780645049,
                      -0.08651036974250396,
                      0.04785781232226975,
                      0.0359681368589882,
                      0.10521673774955306,
                      -0.036499273297597605,
                      0.040210693898185955,
                      0.12979253227198215,
                      0.08193591419736641,
                      0.10452899782815851,
                      0.07828869333953102,
                      0.013522841333081521,
                      0.017309755082871397,
                      0.07113040905758952,
                      0.1584178026180468,
                      0.3496155201713675,
                      1,
                      -0.5525921800320963,
                      -0.051598507291110006,
                      0.11127690341609411,
                      -0.02663016991224413
                    ],
                    [
                      -0.0953646318857772,
                      -0.13915437984648737,
                      0.05382378483373092,
                      -0.00048532489500451617,
                      -0.06489557327799775,
                      -0.07348203872475352,
                      -0.0057509692186726155,
                      -0.07155418038380304,
                      -0.09780319476698723,
                      -0.07544288335137685,
                      -0.0355750802851018,
                      -0.021482191211862726,
                      -0.011187119716298884,
                      0.014326472931315535,
                      -0.06579137052562752,
                      -0.2415928980015893,
                      -0.06319691909281103,
                      -0.5525921800320963,
                      1,
                      0.04653923560299526,
                      -0.04620880214916555,
                      -0.018517310455363756
                    ],
                    [
                      -0.06143822701775729,
                      -0.025321974345794408,
                      0.03519492470509011,
                      0.022745937897075817,
                      -0.024631058213096548,
                      -0.005963079767105264,
                      -0.03303871464204409,
                      -0.0545235436184444,
                      -0.0006151357963077564,
                      -0.01212609844427566,
                      0.003396426522728017,
                      0.054561063238491546,
                      -0.0035120476562447833,
                      0.010403211686830352,
                      0.00820721550381816,
                      -0.10243629768299911,
                      -0.14689078484770193,
                      -0.051598507291110006,
                      0.04653923560299526,
                      1,
                      -0.04464726956241134,
                      -0.09119930620190991
                    ],
                    [
                      0.03429410245503954,
                      0.008115258503517412,
                      0.001181676657181715,
                      -0.011251997147247032,
                      -0.05200216475889463,
                      -0.02665497970894307,
                      -0.05666398078034252,
                      -0.06506223936184263,
                      -0.007270835158137846,
                      -0.024303851051110454,
                      0.0036022140713566192,
                      -0.04511797191172538,
                      -0.00586490281983666,
                      0.01638042645753538,
                      -0.009678189200971963,
                      -0.10074216215427026,
                      0.0002491107205881238,
                      0.11127690341609411,
                      -0.04620880214916555,
                      -0.04464726956241134,
                      1,
                      -0.022892318688114338
                    ],
                    [
                      0.13097757918193353,
                      0.127460610609959,
                      0.04092091648074129,
                      -0.015859329769244257,
                      -0.07786964657501229,
                      -0.09472574316848516,
                      -0.09996806352926553,
                      -0.09823335679331736,
                      -0.14751340672088045,
                      -0.05716439647898409,
                      -0.08197067046566238,
                      -0.07156649014274628,
                      0.037861963299208254,
                      -0.021514700245180034,
                      0.0893883112814691,
                      0.20048865345895828,
                      0.036648983717236766,
                      -0.02663016991224413,
                      -0.018517310455363756,
                      -0.09119930620190991,
                      -0.022892318688114338,
                      1
                    ]
                  ]
                },
                {
                  "name": "Coeficientes",
                  "orientation": "h",
                  "type": "bar",
                  "x": [
                    -0.21667967403595986,
                    0.22334107679240003,
                    0.22463372751739882,
                    0.0035008391243651375,
                    4.959548799752468,
                    0.48470642125666114,
                    0.9859713836426708,
                    0.42982103562186436,
                    0.24218894208427302,
                    -0.028972306267620124,
                    -0.6459704056106311,
                    0.02245675981748576,
                    -0.055660970503177185,
                    -0.07536328124681563,
                    -0.06948283215174333,
                    -0.027333744883609665,
                    -0.1399727854629556,
                    0.05365541586691598,
                    0.0777477972445954,
                    -0.1538845852439737,
                    -0.0887290235946294
                  ],
                  "xaxis": "x4",
                  "y": [
                    "artist_count",
                    "released_year",
                    "released_month",
                    "released_day",
                    "in_spotify_playlists",
                    "in_spotify_charts",
                    "in_apple_playlists",
                    "in_apple_charts",
                    "in_deezer_playlists",
                    "in_deezer_charts",
                    "in_shazam_charts",
                    "bpm",
                    "key",
                    "mode",
                    "danceability_%",
                    "valence_%",
                    "energy_%",
                    "acousticness_%",
                    "instrumentalness_%",
                    "liveness_%",
                    "speechiness_%"
                  ],
                  "yaxis": "y4"
                }
              ],
              "layout": {
                "template": {
                  "data": {
                    "bar": [
                      {
                        "error_x": {
                          "color": "#2a3f5f"
                        },
                        "error_y": {
                          "color": "#2a3f5f"
                        },
                        "marker": {
                          "line": {
                            "color": "#E5ECF6",
                            "width": 0.5
                          },
                          "pattern": {
                            "fillmode": "overlay",
                            "size": 10,
                            "solidity": 0.2
                          }
                        },
                        "type": "bar"
                      }
                    ],
                    "barpolar": [
                      {
                        "marker": {
                          "line": {
                            "color": "#E5ECF6",
                            "width": 0.5
                          },
                          "pattern": {
                            "fillmode": "overlay",
                            "size": 10,
                            "solidity": 0.2
                          }
                        },
                        "type": "barpolar"
                      }
                    ],
                    "carpet": [
                      {
                        "aaxis": {
                          "endlinecolor": "#2a3f5f",
                          "gridcolor": "white",
                          "linecolor": "white",
                          "minorgridcolor": "white",
                          "startlinecolor": "#2a3f5f"
                        },
                        "baxis": {
                          "endlinecolor": "#2a3f5f",
                          "gridcolor": "white",
                          "linecolor": "white",
                          "minorgridcolor": "white",
                          "startlinecolor": "#2a3f5f"
                        },
                        "type": "carpet"
                      }
                    ],
                    "choropleth": [
                      {
                        "colorbar": {
                          "outlinewidth": 0,
                          "ticks": ""
                        },
                        "type": "choropleth"
                      }
                    ],
                    "contour": [
                      {
                        "colorbar": {
                          "outlinewidth": 0,
                          "ticks": ""
                        },
                        "colorscale": [
                          [
                            0,
                            "#0d0887"
                          ],
                          [
                            0.1111111111111111,
                            "#46039f"
                          ],
                          [
                            0.2222222222222222,
                            "#7201a8"
                          ],
                          [
                            0.3333333333333333,
                            "#9c179e"
                          ],
                          [
                            0.4444444444444444,
                            "#bd3786"
                          ],
                          [
                            0.5555555555555556,
                            "#d8576b"
                          ],
                          [
                            0.6666666666666666,
                            "#ed7953"
                          ],
                          [
                            0.7777777777777778,
                            "#fb9f3a"
                          ],
                          [
                            0.8888888888888888,
                            "#fdca26"
                          ],
                          [
                            1,
                            "#f0f921"
                          ]
                        ],
                        "type": "contour"
                      }
                    ],
                    "contourcarpet": [
                      {
                        "colorbar": {
                          "outlinewidth": 0,
                          "ticks": ""
                        },
                        "type": "contourcarpet"
                      }
                    ],
                    "heatmap": [
                      {
                        "colorbar": {
                          "outlinewidth": 0,
                          "ticks": ""
                        },
                        "colorscale": [
                          [
                            0,
                            "#0d0887"
                          ],
                          [
                            0.1111111111111111,
                            "#46039f"
                          ],
                          [
                            0.2222222222222222,
                            "#7201a8"
                          ],
                          [
                            0.3333333333333333,
                            "#9c179e"
                          ],
                          [
                            0.4444444444444444,
                            "#bd3786"
                          ],
                          [
                            0.5555555555555556,
                            "#d8576b"
                          ],
                          [
                            0.6666666666666666,
                            "#ed7953"
                          ],
                          [
                            0.7777777777777778,
                            "#fb9f3a"
                          ],
                          [
                            0.8888888888888888,
                            "#fdca26"
                          ],
                          [
                            1,
                            "#f0f921"
                          ]
                        ],
                        "type": "heatmap"
                      }
                    ],
                    "heatmapgl": [
                      {
                        "colorbar": {
                          "outlinewidth": 0,
                          "ticks": ""
                        },
                        "colorscale": [
                          [
                            0,
                            "#0d0887"
                          ],
                          [
                            0.1111111111111111,
                            "#46039f"
                          ],
                          [
                            0.2222222222222222,
                            "#7201a8"
                          ],
                          [
                            0.3333333333333333,
                            "#9c179e"
                          ],
                          [
                            0.4444444444444444,
                            "#bd3786"
                          ],
                          [
                            0.5555555555555556,
                            "#d8576b"
                          ],
                          [
                            0.6666666666666666,
                            "#ed7953"
                          ],
                          [
                            0.7777777777777778,
                            "#fb9f3a"
                          ],
                          [
                            0.8888888888888888,
                            "#fdca26"
                          ],
                          [
                            1,
                            "#f0f921"
                          ]
                        ],
                        "type": "heatmapgl"
                      }
                    ],
                    "histogram": [
                      {
                        "marker": {
                          "pattern": {
                            "fillmode": "overlay",
                            "size": 10,
                            "solidity": 0.2
                          }
                        },
                        "type": "histogram"
                      }
                    ],
                    "histogram2d": [
                      {
                        "colorbar": {
                          "outlinewidth": 0,
                          "ticks": ""
                        },
                        "colorscale": [
                          [
                            0,
                            "#0d0887"
                          ],
                          [
                            0.1111111111111111,
                            "#46039f"
                          ],
                          [
                            0.2222222222222222,
                            "#7201a8"
                          ],
                          [
                            0.3333333333333333,
                            "#9c179e"
                          ],
                          [
                            0.4444444444444444,
                            "#bd3786"
                          ],
                          [
                            0.5555555555555556,
                            "#d8576b"
                          ],
                          [
                            0.6666666666666666,
                            "#ed7953"
                          ],
                          [
                            0.7777777777777778,
                            "#fb9f3a"
                          ],
                          [
                            0.8888888888888888,
                            "#fdca26"
                          ],
                          [
                            1,
                            "#f0f921"
                          ]
                        ],
                        "type": "histogram2d"
                      }
                    ],
                    "histogram2dcontour": [
                      {
                        "colorbar": {
                          "outlinewidth": 0,
                          "ticks": ""
                        },
                        "colorscale": [
                          [
                            0,
                            "#0d0887"
                          ],
                          [
                            0.1111111111111111,
                            "#46039f"
                          ],
                          [
                            0.2222222222222222,
                            "#7201a8"
                          ],
                          [
                            0.3333333333333333,
                            "#9c179e"
                          ],
                          [
                            0.4444444444444444,
                            "#bd3786"
                          ],
                          [
                            0.5555555555555556,
                            "#d8576b"
                          ],
                          [
                            0.6666666666666666,
                            "#ed7953"
                          ],
                          [
                            0.7777777777777778,
                            "#fb9f3a"
                          ],
                          [
                            0.8888888888888888,
                            "#fdca26"
                          ],
                          [
                            1,
                            "#f0f921"
                          ]
                        ],
                        "type": "histogram2dcontour"
                      }
                    ],
                    "mesh3d": [
                      {
                        "colorbar": {
                          "outlinewidth": 0,
                          "ticks": ""
                        },
                        "type": "mesh3d"
                      }
                    ],
                    "parcoords": [
                      {
                        "line": {
                          "colorbar": {
                            "outlinewidth": 0,
                            "ticks": ""
                          }
                        },
                        "type": "parcoords"
                      }
                    ],
                    "pie": [
                      {
                        "automargin": true,
                        "type": "pie"
                      }
                    ],
                    "scatter": [
                      {
                        "fillpattern": {
                          "fillmode": "overlay",
                          "size": 10,
                          "solidity": 0.2
                        },
                        "type": "scatter"
                      }
                    ],
                    "scatter3d": [
                      {
                        "line": {
                          "colorbar": {
                            "outlinewidth": 0,
                            "ticks": ""
                          }
                        },
                        "marker": {
                          "colorbar": {
                            "outlinewidth": 0,
                            "ticks": ""
                          }
                        },
                        "type": "scatter3d"
                      }
                    ],
                    "scattercarpet": [
                      {
                        "marker": {
                          "colorbar": {
                            "outlinewidth": 0,
                            "ticks": ""
                          }
                        },
                        "type": "scattercarpet"
                      }
                    ],
                    "scattergeo": [
                      {
                        "marker": {
                          "colorbar": {
                            "outlinewidth": 0,
                            "ticks": ""
                          }
                        },
                        "type": "scattergeo"
                      }
                    ],
                    "scattergl": [
                      {
                        "marker": {
                          "colorbar": {
                            "outlinewidth": 0,
                            "ticks": ""
                          }
                        },
                        "type": "scattergl"
                      }
                    ],
                    "scattermapbox": [
                      {
                        "marker": {
                          "colorbar": {
                            "outlinewidth": 0,
                            "ticks": ""
                          }
                        },
                        "type": "scattermapbox"
                      }
                    ],
                    "scatterpolar": [
                      {
                        "marker": {
                          "colorbar": {
                            "outlinewidth": 0,
                            "ticks": ""
                          }
                        },
                        "type": "scatterpolar"
                      }
                    ],
                    "scatterpolargl": [
                      {
                        "marker": {
                          "colorbar": {
                            "outlinewidth": 0,
                            "ticks": ""
                          }
                        },
                        "type": "scatterpolargl"
                      }
                    ],
                    "scatterternary": [
                      {
                        "marker": {
                          "colorbar": {
                            "outlinewidth": 0,
                            "ticks": ""
                          }
                        },
                        "type": "scatterternary"
                      }
                    ],
                    "surface": [
                      {
                        "colorbar": {
                          "outlinewidth": 0,
                          "ticks": ""
                        },
                        "colorscale": [
                          [
                            0,
                            "#0d0887"
                          ],
                          [
                            0.1111111111111111,
                            "#46039f"
                          ],
                          [
                            0.2222222222222222,
                            "#7201a8"
                          ],
                          [
                            0.3333333333333333,
                            "#9c179e"
                          ],
                          [
                            0.4444444444444444,
                            "#bd3786"
                          ],
                          [
                            0.5555555555555556,
                            "#d8576b"
                          ],
                          [
                            0.6666666666666666,
                            "#ed7953"
                          ],
                          [
                            0.7777777777777778,
                            "#fb9f3a"
                          ],
                          [
                            0.8888888888888888,
                            "#fdca26"
                          ],
                          [
                            1,
                            "#f0f921"
                          ]
                        ],
                        "type": "surface"
                      }
                    ],
                    "table": [
                      {
                        "cells": {
                          "fill": {
                            "color": "#EBF0F8"
                          },
                          "line": {
                            "color": "white"
                          }
                        },
                        "header": {
                          "fill": {
                            "color": "#C8D4E3"
                          },
                          "line": {
                            "color": "white"
                          }
                        },
                        "type": "table"
                      }
                    ]
                  },
                  "layout": {
                    "annotationdefaults": {
                      "arrowcolor": "#2a3f5f",
                      "arrowhead": 0,
                      "arrowwidth": 1
                    },
                    "autotypenumbers": "strict",
                    "coloraxis": {
                      "colorbar": {
                        "outlinewidth": 0,
                        "ticks": ""
                      }
                    },
                    "colorscale": {
                      "diverging": [
                        [
                          0,
                          "#8e0152"
                        ],
                        [
                          0.1,
                          "#c51b7d"
                        ],
                        [
                          0.2,
                          "#de77ae"
                        ],
                        [
                          0.3,
                          "#f1b6da"
                        ],
                        [
                          0.4,
                          "#fde0ef"
                        ],
                        [
                          0.5,
                          "#f7f7f7"
                        ],
                        [
                          0.6,
                          "#e6f5d0"
                        ],
                        [
                          0.7,
                          "#b8e186"
                        ],
                        [
                          0.8,
                          "#7fbc41"
                        ],
                        [
                          0.9,
                          "#4d9221"
                        ],
                        [
                          1,
                          "#276419"
                        ]
                      ],
                      "sequential": [
                        [
                          0,
                          "#0d0887"
                        ],
                        [
                          0.1111111111111111,
                          "#46039f"
                        ],
                        [
                          0.2222222222222222,
                          "#7201a8"
                        ],
                        [
                          0.3333333333333333,
                          "#9c179e"
                        ],
                        [
                          0.4444444444444444,
                          "#bd3786"
                        ],
                        [
                          0.5555555555555556,
                          "#d8576b"
                        ],
                        [
                          0.6666666666666666,
                          "#ed7953"
                        ],
                        [
                          0.7777777777777778,
                          "#fb9f3a"
                        ],
                        [
                          0.8888888888888888,
                          "#fdca26"
                        ],
                        [
                          1,
                          "#f0f921"
                        ]
                      ],
                      "sequentialminus": [
                        [
                          0,
                          "#0d0887"
                        ],
                        [
                          0.1111111111111111,
                          "#46039f"
                        ],
                        [
                          0.2222222222222222,
                          "#7201a8"
                        ],
                        [
                          0.3333333333333333,
                          "#9c179e"
                        ],
                        [
                          0.4444444444444444,
                          "#bd3786"
                        ],
                        [
                          0.5555555555555556,
                          "#d8576b"
                        ],
                        [
                          0.6666666666666666,
                          "#ed7953"
                        ],
                        [
                          0.7777777777777778,
                          "#fb9f3a"
                        ],
                        [
                          0.8888888888888888,
                          "#fdca26"
                        ],
                        [
                          1,
                          "#f0f921"
                        ]
                      ]
                    },
                    "colorway": [
                      "#636efa",
                      "#EF553B",
                      "#00cc96",
                      "#ab63fa",
                      "#FFA15A",
                      "#19d3f3",
                      "#FF6692",
                      "#B6E880",
                      "#FF97FF",
                      "#FECB52"
                    ],
                    "font": {
                      "color": "#2a3f5f"
                    },
                    "geo": {
                      "bgcolor": "white",
                      "lakecolor": "white",
                      "landcolor": "#E5ECF6",
                      "showlakes": true,
                      "showland": true,
                      "subunitcolor": "white"
                    },
                    "hoverlabel": {
                      "align": "left"
                    },
                    "hovermode": "closest",
                    "mapbox": {
                      "style": "light"
                    },
                    "paper_bgcolor": "white",
                    "plot_bgcolor": "#E5ECF6",
                    "polar": {
                      "angularaxis": {
                        "gridcolor": "white",
                        "linecolor": "white",
                        "ticks": ""
                      },
                      "bgcolor": "#E5ECF6",
                      "radialaxis": {
                        "gridcolor": "white",
                        "linecolor": "white",
                        "ticks": ""
                      }
                    },
                    "scene": {
                      "xaxis": {
                        "backgroundcolor": "#E5ECF6",
                        "gridcolor": "white",
                        "gridwidth": 2,
                        "linecolor": "white",
                        "showbackground": true,
                        "ticks": "",
                        "zerolinecolor": "white"
                      },
                      "yaxis": {
                        "backgroundcolor": "#E5ECF6",
                        "gridcolor": "white",
                        "gridwidth": 2,
                        "linecolor": "white",
                        "showbackground": true,
                        "ticks": "",
                        "zerolinecolor": "white"
                      },
                      "zaxis": {
                        "backgroundcolor": "#E5ECF6",
                        "gridcolor": "white",
                        "gridwidth": 2,
                        "linecolor": "white",
                        "showbackground": true,
                        "ticks": "",
                        "zerolinecolor": "white"
                      }
                    },
                    "shapedefaults": {
                      "line": {
                        "color": "#2a3f5f"
                      }
                    },
                    "ternary": {
                      "aaxis": {
                        "gridcolor": "white",
                        "linecolor": "white",
                        "ticks": ""
                      },
                      "baxis": {
                        "gridcolor": "white",
                        "linecolor": "white",
                        "ticks": ""
                      },
                      "bgcolor": "#E5ECF6",
                      "caxis": {
                        "gridcolor": "white",
                        "linecolor": "white",
                        "ticks": ""
                      }
                    },
                    "title": {
                      "x": 0.05
                    },
                    "xaxis": {
                      "automargin": true,
                      "gridcolor": "white",
                      "linecolor": "white",
                      "ticks": "",
                      "title": {
                        "standoff": 15
                      },
                      "zerolinecolor": "white",
                      "zerolinewidth": 2
                    },
                    "yaxis": {
                      "automargin": true,
                      "gridcolor": "white",
                      "linecolor": "white",
                      "ticks": "",
                      "title": {
                        "standoff": 15
                      },
                      "zerolinecolor": "white",
                      "zerolinewidth": 2
                    }
                  }
                },
                "title": {
                  "text": "What makes a hit?"
                },
                "xaxis": {
                  "anchor": "y",
                  "domain": [
                    0,
                    0.45
                  ]
                },
                "xaxis2": {
                  "anchor": "y2",
                  "domain": [
                    0.55,
                    1
                  ]
                },
                "xaxis3": {
                  "anchor": "y3",
                  "domain": [
                    0,
                    0.45
                  ]
                },
                "xaxis4": {
                  "anchor": "y4",
                  "domain": [
                    0.55,
                    1
                  ]
                },
                "yaxis": {
                  "anchor": "x",
                  "domain": [
                    0.575,
                    1
                  ]
                },
                "yaxis2": {
                  "anchor": "x2",
                  "domain": [
                    0.575,
                    1
                  ]
                },
                "yaxis3": {
                  "anchor": "x3",
                  "domain": [
                    0,
                    0.425
                  ]
                },
                "yaxis4": {
                  "anchor": "x4",
                  "domain": [
                    0,
                    0.425
                  ]
                }
              }
            }
          },
          "metadata": {},
          "output_type": "display_data"
        }
      ],
      "source": [
        "fig = make_subplots(rows=2, cols=2)\n",
        "\n",
        "fig.add_trace(\n",
        "    go.Histogram(\n",
        "        x=df_spotify['streams'],\n",
        "        histnorm='probability density',\n",
        "        nbinsx=100,\n",
        "        opacity=0.6\n",
        "    ), \n",
        "    row=1, col=2\n",
        ")\n",
        "\n",
        "fig.add_trace(\n",
        "    go.Heatmap(\n",
        "        z=corr_matrix.values.tolist(),\n",
        "        x=corr_matrix.columns.tolist(),\n",
        "        y=corr_matrix.index.tolist(),\n",
        "        colorscale='Viridis'\n",
        "    ),\n",
        "    row=2, col=1\n",
        ")\n",
        "\n",
        "fig.add_trace(\n",
        "    go.Bar(\n",
        "        x=coefficients,\n",
        "        y=objects,\n",
        "        name=\"Coeficientes\",\n",
        "        orientation='h'\n",
        "    ),\n",
        "    row=2, col=2\n",
        ")\n",
        "fig.update_layout(title_text = \"What makes a hit?\")\n",
        "fig.show()"
      ]
    }
  ],
  "metadata": {
    "colab": {
      "provenance": []
    },
    "kernelspec": {
      "display_name": "Python 3",
      "name": "python3"
    },
    "language_info": {
      "codemirror_mode": {
        "name": "ipython",
        "version": 3
      },
      "file_extension": ".py",
      "mimetype": "text/x-python",
      "name": "python",
      "nbconvert_exporter": "python",
      "pygments_lexer": "ipython3",
      "version": "3.11.5"
    }
  },
  "nbformat": 4,
  "nbformat_minor": 0
}
