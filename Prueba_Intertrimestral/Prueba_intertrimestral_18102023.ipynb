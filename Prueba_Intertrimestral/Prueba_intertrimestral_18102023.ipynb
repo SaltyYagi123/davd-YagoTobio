{
  "cells": [
    {
      "cell_type": "markdown",
      "metadata": {
        "id": "xoyr7F7GNiM6"
      },
      "source": [
        "# Prueba Intertrimestral\n",
        "\n",
        "**Nombre:** Yago \n",
        "\n",
        "**Apellidos:** Tobio Souto \n",
        "\n",
        "**Tiempo de la prueba: 2 Horas**\n",
        "\n",
        "**Asignatura:** Desarrollo de Aplicaciones para la Visualización de Datos\n",
        "\n",
        "**Fecha:** 18 de octubre de 2023\n",
        "\n",
        "**Instrucciones:**\n",
        "\n",
        "- Escribe código limpio y autoexplicativo.\n",
        "\n",
        "- Se eliminará 0.5 puntos por usar Seaborn o Matplotlib.\n",
        "\n",
        "- Se pueden utilizar los materiales de clase.\n",
        "\n",
        "- Se puede utilizar internet para búsqueda de dudas y documentación.\n",
        "\n",
        "- No se puede utilizar ningún tipo de LLM.\n",
        "\n",
        "- No se puede utilizar mensajería instantánea.\n",
        "\n",
        "- Sube tus resultados a tu repositorio de Github.\n",
        "\n",
        "- Imprime una versión en PDF en A3 y Portrait del notebook.\n",
        "\n",
        "- Envialo tus resultados a dmartincorral@icai.comillas.edu adjuntando el PDF y la url del notebook subido al repositorio de Github.\n"
      ]
    },
    {
      "cell_type": "markdown",
      "metadata": {
        "id": "_yd5v77lO4fW"
      },
      "source": [
        "## Inicialización de librerías\n",
        "\n",
        "Carga aquí todas las librerías que vayas a utilizar."
      ]
    },
    {
      "cell_type": "code",
      "execution_count": 155,
      "metadata": {
        "id": "xCJ9wLIePA99"
      },
      "outputs": [],
      "source": [
        "from sklearn.datasets import fetch_california_housing\n",
        "from sklearn.model_selection import train_test_split\n",
        "from sklearn.linear_model import LinearRegression\n",
        "from sklearn.linear_model import LogisticRegression\n",
        "from sklearn.ensemble import RandomForestRegressor\n",
        "from sklearn.metrics import mean_squared_error, r2_score, mean_absolute_error, classification_report, confusion_matrix\n",
        "\n",
        "import pandas as pd\n",
        "import numpy as np\n",
        "import plotly.express as px\n",
        "import plotly.graph_objects as go"
      ]
    },
    {
      "cell_type": "markdown",
      "metadata": {
        "id": "-DcUj8fKPD19"
      },
      "source": [
        "## Ejercicio 1 (2 puntos):\n",
        "\n",
        "a) Crea una función que calcule y devuelva el factorial de un número entero. **(0.6 puntos)**\n",
        "\n",
        "b) Crea una función que verifique si un número es primo o no. **(0.6 puntos)**\n",
        "\n",
        "c) Muestra en un dataframe los 50 primeros números positivos, si es primo y su factorial utilizando las funciones anteriores. **(0.6 puntos)**\n",
        "\n",
        "d) ¿Cómo se podría programar en una clase las tres operaciones anteriores? **(0.2 puntos)**"
      ]
    },
    {
      "cell_type": "code",
      "execution_count": 133,
      "metadata": {
        "id": "IaPhSsDoSBL-"
      },
      "outputs": [
        {
          "name": "stdout",
          "output_type": "stream",
          "text": [
            "    Number                                          Factorial  Prime?\n",
            "46      46  5502622159812088949850305428800254892961651752...   False\n",
            "47      47  2586232415111681806429643551536119799691976323...    True\n",
            "48      48  1241391559253607267086228904737337503852148635...   False\n",
            "49      49  6082818640342675608722521633212953768875528313...   False\n",
            "50      50  3041409320171337804361260816606476884437764156...   False\n",
            "Factorial of 10 is: 3628800\n",
            "15 is not prime.\n",
            "    Number                                          Factorial  Prime?\n",
            "0        0                                                  1   False\n",
            "1        1                                                  1   False\n",
            "2        2                                                  2    True\n",
            "3        3                                                  6    True\n",
            "4        4                                                 24   False\n",
            "5        5                                                120    True\n",
            "6        6                                                720   False\n",
            "7        7                                               5040    True\n",
            "8        8                                              40320   False\n",
            "9        9                                             362880   False\n",
            "10      10                                            3628800   False\n",
            "11      11                                           39916800    True\n",
            "12      12                                          479001600   False\n",
            "13      13                                         6227020800    True\n",
            "14      14                                        87178291200   False\n",
            "15      15                                      1307674368000   False\n",
            "16      16                                     20922789888000   False\n",
            "17      17                                    355687428096000    True\n",
            "18      18                                   6402373705728000   False\n",
            "19      19                                 121645100408832000    True\n",
            "20      20                                2432902008176640000   False\n",
            "21      21                               51090942171709440000   False\n",
            "22      22                             1124000727777607680000   False\n",
            "23      23                            25852016738884976640000    True\n",
            "24      24                           620448401733239439360000   False\n",
            "25      25                         15511210043330985984000000   False\n",
            "26      26                        403291461126605635584000000   False\n",
            "27      27                      10888869450418352160768000000   False\n",
            "28      28                     304888344611713860501504000000   False\n",
            "29      29                    8841761993739701954543616000000    True\n",
            "30      30                  265252859812191058636308480000000   False\n",
            "31      31                 8222838654177922817725562880000000    True\n",
            "32      32               263130836933693530167218012160000000   False\n",
            "33      33              8683317618811886495518194401280000000   False\n",
            "34      34            295232799039604140847618609643520000000   False\n",
            "35      35          10333147966386144929666651337523200000000   False\n",
            "36      36         371993326789901217467999448150835200000000   False\n",
            "37      37       13763753091226345046315979581580902400000000    True\n",
            "38      38      523022617466601111760007224100074291200000000   False\n",
            "39      39    20397882081197443358640281739902897356800000000   False\n",
            "40      40   815915283247897734345611269596115894272000000000   False\n",
            "41      41  3345252661316380710817006205344075166515200000...    True\n",
            "42      42  1405006117752879898543142606244511569936384000...   False\n",
            "43      43  6041526306337383563735513206851399750726451200...    True\n",
            "44      44  2658271574788448768043625811014615890319638528...   False\n",
            "45      45  1196222208654801945619631614956577150643837337...   False\n",
            "46      46  5502622159812088949850305428800254892961651752...   False\n",
            "47      47  2586232415111681806429643551536119799691976323...    True\n",
            "48      48  1241391559253607267086228904737337503852148635...   False\n",
            "49      49  6082818640342675608722521633212953768875528313...   False\n",
            "50      50  3041409320171337804361260816606476884437764156...   False\n"
          ]
        }
      ],
      "source": [
        "#1. a - Función que devuelve el factorial de un numero entero: \n",
        "# Python program to find the factorial of a number provided by the user.\n",
        "def factorial(num):\n",
        "    # check if the number is negative, positive or zero\n",
        "    factorial = 1\n",
        "    if num < 0:\n",
        "        factorial = -1\n",
        "        #print(\"Perdon, el factorial no existe para numeros negativos\")\n",
        "    elif num == 0:\n",
        "        #print(\"El factorial de 0 es 1\")\n",
        "        factorial = 1\n",
        "    else:\n",
        "        for i in range(1,num + 1):\n",
        "            factorial = factorial*i\n",
        "    #print(\"El factorial de \",num,\"es \",factorial)\n",
        "    return factorial\n",
        "\n",
        "#b - Funcion para verificar si un numero es primo o no \n",
        "def is_prime(n):\n",
        "  if n == 2 or n == 3: return True\n",
        "  if n < 2 or n%2 == 0: return False\n",
        "  if n < 9: return True\n",
        "  if n%3 == 0: return False\n",
        "  r = int(n**0.5)\n",
        "  # since all primes > 3 are of the form 6n ± 1\n",
        "  # start with f=5 (which is prime)\n",
        "  # and test f, f+2 for being prime\n",
        "  # then loop by 6. \n",
        "  f = 5\n",
        "  while f <= r:\n",
        "    #print('\\t',f)\n",
        "    if n % f == 0: return False\n",
        "    if n % (f+2) == 0: return False\n",
        "    f += 6\n",
        "  return True    \n",
        "\n",
        "#1. c - Muestra en un dataframe los 50 primeros números positivos, si es primo y su factorial utilizando las funciones anteriores.\n",
        "df = pd.DataFrame(\n",
        "    [i, factorial(i), is_prime(i)] for i in range(0,51)\n",
        ")\n",
        "df.columns = [\"Number\", \"Factorial\", \"Prime?\"]\n",
        "print(df.tail())\n",
        "\n",
        "#1. d - ¿Cómo se podría programar en una clase las tres operaciones anteriores? **(0.2 puntos)**\n",
        "class Operations:\n",
        "    def __init__(self, number):\n",
        "        self.num = number \n",
        "\n",
        "    def factorial_operation(number): \n",
        "        print(f\"Factorial of {number} is: {factorial(number)}\")\n",
        "\n",
        "    def is_prime_operation(number):\n",
        "        if is_prime(number) == 0: \n",
        "            print(f\"{number} is not prime.\")\n",
        "        else:\n",
        "            print(f\"{number} is prime.\")\n",
        "\n",
        "    def mostrar_table(self):\n",
        "        df = pd.DataFrame(\n",
        "            [i, factorial(i), is_prime(i)] for i in range(0,51)\n",
        "        )\n",
        "        df.columns = [\"Number\", \"Factorial\", \"Prime?\"]\n",
        "        return df\n",
        "\n",
        "Operations.factorial_operation(10)\n",
        "Operations.is_prime_operation(15)\n",
        "table = Operations.mostrar_table(_)\n",
        "print(table)\n",
        "\n"
      ]
    },
    {
      "cell_type": "markdown",
      "metadata": {
        "id": "91Zj0Qo6SEDO"
      },
      "source": [
        "## Ejercicio 2 (4 puntos):\n",
        "\n",
        "a) Extrae de sklearn el conjunto de datos __California Housing dataset__\n",
        " y transfórmalo a dataframe de pandas **(0.25 puntos)**\n",
        "\n",
        "b) Construye una función que muestra la estructura del dataset, el número de NAs, tipos de variables y estadísticas básicas de cada una de las variables. **(0.5 puntos)**\n",
        "\n",
        "c) Construye una __Regresión lineal__ y un __Random forest__ que predigan el __Median house value__ según los datos disponibles. **(0.75 puntos)**\n",
        "\n",
        "d) Visualiza cuales son las variables (coeficientes) más importantes en cada uno de los modelos. **(1.25 puntos)**\n",
        "\n",
        "e) Decide a través de las métricas que consideres oportunas, cuál de los dos modelos es mejor, por qué y explica el proceso que has realizado para responder en los puntos anteriores. **(1.25 puntos)**"
      ]
    },
    {
      "cell_type": "code",
      "execution_count": 134,
      "metadata": {
        "id": "2Aiag2OvUDJF"
      },
      "outputs": [
        {
          "name": "stdout",
          "output_type": "stream",
          "text": [
            "<class 'pandas.core.frame.DataFrame'>\n",
            "RangeIndex: 20640 entries, 0 to 20639\n",
            "Data columns (total 13 columns):\n",
            " #   Column        Non-Null Count  Dtype  \n",
            "---  ------        --------------  -----  \n",
            " 0   Unnamed: 0.3  20640 non-null  int64  \n",
            " 1   Unnamed: 0.2  20640 non-null  int64  \n",
            " 2   Unnamed: 0.1  20640 non-null  int64  \n",
            " 3   Unnamed: 0    20640 non-null  int64  \n",
            " 4   MedInc        20640 non-null  float64\n",
            " 5   HouseAge      20640 non-null  float64\n",
            " 6   AveRooms      20640 non-null  float64\n",
            " 7   AveBedrms     20640 non-null  float64\n",
            " 8   Population    20640 non-null  float64\n",
            " 9   AveOccup      20640 non-null  float64\n",
            " 10  Latitude      20640 non-null  float64\n",
            " 11  Longitude     20640 non-null  float64\n",
            " 12  target        20640 non-null  float64\n",
            "dtypes: float64(9), int64(4)\n",
            "memory usage: 2.0 MB\n",
            "1. Información del dataset: \n",
            " None \n",
            " 2. Numero de NA's: Unnamed: 0.3    False\n",
            "Unnamed: 0.2    False\n",
            "Unnamed: 0.1    False\n",
            "Unnamed: 0      False\n",
            "MedInc          False\n",
            "HouseAge        False\n",
            "AveRooms        False\n",
            "AveBedrms       False\n",
            "Population      False\n",
            "AveOccup        False\n",
            "Latitude        False\n",
            "Longitude       False\n",
            "target          False\n",
            "dtype: bool \n",
            " 3. Estadisticas del dataset:        Unnamed: 0.3  Unnamed: 0.2  Unnamed: 0.1    Unnamed: 0        MedInc  \\\n",
            "count  20640.000000  20640.000000  20640.000000  20640.000000  20640.000000   \n",
            "mean   10319.500000  10319.500000  10319.500000  10319.500000      3.870671   \n",
            "std     5958.399114   5958.399114   5958.399114   5958.399114      1.899822   \n",
            "min        0.000000      0.000000      0.000000      0.000000      0.499900   \n",
            "25%     5159.750000   5159.750000   5159.750000   5159.750000      2.563400   \n",
            "50%    10319.500000  10319.500000  10319.500000  10319.500000      3.534800   \n",
            "75%    15479.250000  15479.250000  15479.250000  15479.250000      4.743250   \n",
            "max    20639.000000  20639.000000  20639.000000  20639.000000     15.000100   \n",
            "\n",
            "           HouseAge      AveRooms     AveBedrms    Population      AveOccup  \\\n",
            "count  20640.000000  20640.000000  20640.000000  20640.000000  20640.000000   \n",
            "mean      28.639486      5.429000      1.096675   1425.476744      3.070655   \n",
            "std       12.585558      2.474173      0.473911   1132.462122     10.386050   \n",
            "min        1.000000      0.846154      0.333333      3.000000      0.692308   \n",
            "25%       18.000000      4.440716      1.006079    787.000000      2.429741   \n",
            "50%       29.000000      5.229129      1.048780   1166.000000      2.818116   \n",
            "75%       37.000000      6.052381      1.099526   1725.000000      3.282261   \n",
            "max       52.000000    141.909091     34.066667  35682.000000   1243.333333   \n",
            "\n",
            "           Latitude     Longitude        target  \n",
            "count  20640.000000  20640.000000  20640.000000  \n",
            "mean      35.631861   -119.569704      2.068558  \n",
            "std        2.135952      2.003532      1.153956  \n",
            "min       32.540000   -124.350000      0.149990  \n",
            "25%       33.930000   -121.800000      1.196000  \n",
            "50%       34.260000   -118.490000      1.797000  \n",
            "75%       37.710000   -118.010000      2.647250  \n",
            "max       41.950000   -114.310000      5.000010   \n"
          ]
        },
        {
          "data": {
            "application/vnd.plotly.v1+json": {
              "config": {
                "plotlyServerURL": "https://plot.ly"
              },
              "data": [
                {
                  "coloraxis": "coloraxis",
                  "hovertemplate": "x: %{x}<br>y: %{y}<br>color: %{z}<extra></extra>",
                  "name": "0",
                  "type": "heatmap",
                  "x": [
                    "Unnamed: 0.3",
                    "Unnamed: 0.2",
                    "Unnamed: 0.1",
                    "Unnamed: 0",
                    "MedInc",
                    "HouseAge",
                    "AveRooms",
                    "AveBedrms",
                    "Population",
                    "AveOccup",
                    "Latitude",
                    "Longitude",
                    "target"
                  ],
                  "xaxis": "x",
                  "y": [
                    "Unnamed: 0.3",
                    "Unnamed: 0.2",
                    "Unnamed: 0.1",
                    "Unnamed: 0",
                    "MedInc",
                    "HouseAge",
                    "AveRooms",
                    "AveBedrms",
                    "Population",
                    "AveOccup",
                    "Latitude",
                    "Longitude",
                    "target"
                  ],
                  "yaxis": "y",
                  "z": [
                    [
                      1,
                      1,
                      1,
                      1,
                      0.07167258721316222,
                      -0.18113159175969712,
                      0.042471388476999536,
                      -0.011168940792434795,
                      0.024880084917844946,
                      0.005545008335720795,
                      0.08106183784560038,
                      -0.11325386111032039,
                      0.07208613677496362
                    ],
                    [
                      1,
                      1,
                      1,
                      1,
                      0.07167258721316222,
                      -0.18113159175969712,
                      0.042471388476999536,
                      -0.011168940792434795,
                      0.024880084917844946,
                      0.005545008335720795,
                      0.08106183784560038,
                      -0.11325386111032039,
                      0.07208613677496362
                    ],
                    [
                      1,
                      1,
                      1,
                      1,
                      0.07167258721316222,
                      -0.18113159175969712,
                      0.042471388476999536,
                      -0.011168940792434795,
                      0.024880084917844946,
                      0.005545008335720795,
                      0.08106183784560038,
                      -0.11325386111032039,
                      0.07208613677496362
                    ],
                    [
                      1,
                      1,
                      1,
                      1,
                      0.07167258721316222,
                      -0.18113159175969712,
                      0.042471388476999536,
                      -0.011168940792434795,
                      0.024880084917844946,
                      0.005545008335720795,
                      0.08106183784560038,
                      -0.11325386111032039,
                      0.07208613677496362
                    ],
                    [
                      0.07167258721316222,
                      0.07167258721316222,
                      0.07167258721316222,
                      0.07167258721316222,
                      1,
                      -0.1190339899378567,
                      0.32689543164129786,
                      -0.06204013383609916,
                      0.004834345627653136,
                      0.018766247966968942,
                      -0.07980912745972177,
                      -0.015175865414177248,
                      0.6880752079585484
                    ],
                    [
                      -0.18113159175969712,
                      -0.18113159175969712,
                      -0.18113159175969712,
                      -0.18113159175969712,
                      -0.1190339899378567,
                      1,
                      -0.15327742256198928,
                      -0.07774728275376008,
                      -0.29624423977353637,
                      0.013191356636029718,
                      0.011172673530611242,
                      -0.10819681311244445,
                      0.10562341249321128
                    ],
                    [
                      0.042471388476999536,
                      0.042471388476999536,
                      0.042471388476999536,
                      0.042471388476999536,
                      0.32689543164129786,
                      -0.15327742256198928,
                      1,
                      0.8476213257130424,
                      -0.07221284865893272,
                      -0.004852294991781261,
                      0.10638896548625218,
                      -0.02754005387354733,
                      0.15194828974145738
                    ],
                    [
                      -0.011168940792434795,
                      -0.011168940792434795,
                      -0.011168940792434795,
                      -0.011168940792434795,
                      -0.06204013383609916,
                      -0.07774728275376008,
                      0.8476213257130424,
                      1,
                      -0.06619740232676077,
                      -0.006181201268673084,
                      0.0697211298887413,
                      0.013344389639997794,
                      -0.04670051296948669
                    ],
                    [
                      0.024880084917844946,
                      0.024880084917844946,
                      0.024880084917844946,
                      0.024880084917844946,
                      0.004834345627653136,
                      -0.29624423977353637,
                      -0.07221284865893272,
                      -0.06619740232676077,
                      1,
                      0.06986273036567692,
                      -0.10878474737766855,
                      0.09977322287464553,
                      -0.02464967888889485
                    ],
                    [
                      0.005545008335720795,
                      0.005545008335720795,
                      0.005545008335720795,
                      0.005545008335720795,
                      0.018766247966968942,
                      0.013191356636029718,
                      -0.004852294991781261,
                      -0.006181201268673084,
                      0.06986273036567692,
                      1,
                      0.0023661822637501178,
                      0.0024758163767058844,
                      -0.023737412956134348
                    ],
                    [
                      0.08106183784560038,
                      0.08106183784560038,
                      0.08106183784560038,
                      0.08106183784560038,
                      -0.07980912745972177,
                      0.011172673530611242,
                      0.10638896548625218,
                      0.0697211298887413,
                      -0.10878474737766855,
                      0.0023661822637501178,
                      1,
                      -0.9246644339150366,
                      -0.14416027687465632
                    ],
                    [
                      -0.11325386111032039,
                      -0.11325386111032039,
                      -0.11325386111032039,
                      -0.11325386111032039,
                      -0.015175865414177248,
                      -0.10819681311244445,
                      -0.02754005387354733,
                      0.013344389639997794,
                      0.09977322287464553,
                      0.0024758163767058844,
                      -0.9246644339150366,
                      1,
                      -0.04596661511798309
                    ],
                    [
                      0.07208613677496362,
                      0.07208613677496362,
                      0.07208613677496362,
                      0.07208613677496362,
                      0.6880752079585484,
                      0.10562341249321128,
                      0.15194828974145738,
                      -0.04670051296948669,
                      -0.02464967888889485,
                      -0.023737412956134348,
                      -0.14416027687465632,
                      -0.04596661511798309,
                      1
                    ]
                  ]
                }
              ],
              "layout": {
                "coloraxis": {
                  "colorscale": [
                    [
                      0,
                      "#0d0887"
                    ],
                    [
                      0.1111111111111111,
                      "#46039f"
                    ],
                    [
                      0.2222222222222222,
                      "#7201a8"
                    ],
                    [
                      0.3333333333333333,
                      "#9c179e"
                    ],
                    [
                      0.4444444444444444,
                      "#bd3786"
                    ],
                    [
                      0.5555555555555556,
                      "#d8576b"
                    ],
                    [
                      0.6666666666666666,
                      "#ed7953"
                    ],
                    [
                      0.7777777777777778,
                      "#fb9f3a"
                    ],
                    [
                      0.8888888888888888,
                      "#fdca26"
                    ],
                    [
                      1,
                      "#f0f921"
                    ]
                  ]
                },
                "margin": {
                  "t": 60
                },
                "template": {
                  "data": {
                    "bar": [
                      {
                        "error_x": {
                          "color": "#2a3f5f"
                        },
                        "error_y": {
                          "color": "#2a3f5f"
                        },
                        "marker": {
                          "line": {
                            "color": "#E5ECF6",
                            "width": 0.5
                          },
                          "pattern": {
                            "fillmode": "overlay",
                            "size": 10,
                            "solidity": 0.2
                          }
                        },
                        "type": "bar"
                      }
                    ],
                    "barpolar": [
                      {
                        "marker": {
                          "line": {
                            "color": "#E5ECF6",
                            "width": 0.5
                          },
                          "pattern": {
                            "fillmode": "overlay",
                            "size": 10,
                            "solidity": 0.2
                          }
                        },
                        "type": "barpolar"
                      }
                    ],
                    "carpet": [
                      {
                        "aaxis": {
                          "endlinecolor": "#2a3f5f",
                          "gridcolor": "white",
                          "linecolor": "white",
                          "minorgridcolor": "white",
                          "startlinecolor": "#2a3f5f"
                        },
                        "baxis": {
                          "endlinecolor": "#2a3f5f",
                          "gridcolor": "white",
                          "linecolor": "white",
                          "minorgridcolor": "white",
                          "startlinecolor": "#2a3f5f"
                        },
                        "type": "carpet"
                      }
                    ],
                    "choropleth": [
                      {
                        "colorbar": {
                          "outlinewidth": 0,
                          "ticks": ""
                        },
                        "type": "choropleth"
                      }
                    ],
                    "contour": [
                      {
                        "colorbar": {
                          "outlinewidth": 0,
                          "ticks": ""
                        },
                        "colorscale": [
                          [
                            0,
                            "#0d0887"
                          ],
                          [
                            0.1111111111111111,
                            "#46039f"
                          ],
                          [
                            0.2222222222222222,
                            "#7201a8"
                          ],
                          [
                            0.3333333333333333,
                            "#9c179e"
                          ],
                          [
                            0.4444444444444444,
                            "#bd3786"
                          ],
                          [
                            0.5555555555555556,
                            "#d8576b"
                          ],
                          [
                            0.6666666666666666,
                            "#ed7953"
                          ],
                          [
                            0.7777777777777778,
                            "#fb9f3a"
                          ],
                          [
                            0.8888888888888888,
                            "#fdca26"
                          ],
                          [
                            1,
                            "#f0f921"
                          ]
                        ],
                        "type": "contour"
                      }
                    ],
                    "contourcarpet": [
                      {
                        "colorbar": {
                          "outlinewidth": 0,
                          "ticks": ""
                        },
                        "type": "contourcarpet"
                      }
                    ],
                    "heatmap": [
                      {
                        "colorbar": {
                          "outlinewidth": 0,
                          "ticks": ""
                        },
                        "colorscale": [
                          [
                            0,
                            "#0d0887"
                          ],
                          [
                            0.1111111111111111,
                            "#46039f"
                          ],
                          [
                            0.2222222222222222,
                            "#7201a8"
                          ],
                          [
                            0.3333333333333333,
                            "#9c179e"
                          ],
                          [
                            0.4444444444444444,
                            "#bd3786"
                          ],
                          [
                            0.5555555555555556,
                            "#d8576b"
                          ],
                          [
                            0.6666666666666666,
                            "#ed7953"
                          ],
                          [
                            0.7777777777777778,
                            "#fb9f3a"
                          ],
                          [
                            0.8888888888888888,
                            "#fdca26"
                          ],
                          [
                            1,
                            "#f0f921"
                          ]
                        ],
                        "type": "heatmap"
                      }
                    ],
                    "heatmapgl": [
                      {
                        "colorbar": {
                          "outlinewidth": 0,
                          "ticks": ""
                        },
                        "colorscale": [
                          [
                            0,
                            "#0d0887"
                          ],
                          [
                            0.1111111111111111,
                            "#46039f"
                          ],
                          [
                            0.2222222222222222,
                            "#7201a8"
                          ],
                          [
                            0.3333333333333333,
                            "#9c179e"
                          ],
                          [
                            0.4444444444444444,
                            "#bd3786"
                          ],
                          [
                            0.5555555555555556,
                            "#d8576b"
                          ],
                          [
                            0.6666666666666666,
                            "#ed7953"
                          ],
                          [
                            0.7777777777777778,
                            "#fb9f3a"
                          ],
                          [
                            0.8888888888888888,
                            "#fdca26"
                          ],
                          [
                            1,
                            "#f0f921"
                          ]
                        ],
                        "type": "heatmapgl"
                      }
                    ],
                    "histogram": [
                      {
                        "marker": {
                          "pattern": {
                            "fillmode": "overlay",
                            "size": 10,
                            "solidity": 0.2
                          }
                        },
                        "type": "histogram"
                      }
                    ],
                    "histogram2d": [
                      {
                        "colorbar": {
                          "outlinewidth": 0,
                          "ticks": ""
                        },
                        "colorscale": [
                          [
                            0,
                            "#0d0887"
                          ],
                          [
                            0.1111111111111111,
                            "#46039f"
                          ],
                          [
                            0.2222222222222222,
                            "#7201a8"
                          ],
                          [
                            0.3333333333333333,
                            "#9c179e"
                          ],
                          [
                            0.4444444444444444,
                            "#bd3786"
                          ],
                          [
                            0.5555555555555556,
                            "#d8576b"
                          ],
                          [
                            0.6666666666666666,
                            "#ed7953"
                          ],
                          [
                            0.7777777777777778,
                            "#fb9f3a"
                          ],
                          [
                            0.8888888888888888,
                            "#fdca26"
                          ],
                          [
                            1,
                            "#f0f921"
                          ]
                        ],
                        "type": "histogram2d"
                      }
                    ],
                    "histogram2dcontour": [
                      {
                        "colorbar": {
                          "outlinewidth": 0,
                          "ticks": ""
                        },
                        "colorscale": [
                          [
                            0,
                            "#0d0887"
                          ],
                          [
                            0.1111111111111111,
                            "#46039f"
                          ],
                          [
                            0.2222222222222222,
                            "#7201a8"
                          ],
                          [
                            0.3333333333333333,
                            "#9c179e"
                          ],
                          [
                            0.4444444444444444,
                            "#bd3786"
                          ],
                          [
                            0.5555555555555556,
                            "#d8576b"
                          ],
                          [
                            0.6666666666666666,
                            "#ed7953"
                          ],
                          [
                            0.7777777777777778,
                            "#fb9f3a"
                          ],
                          [
                            0.8888888888888888,
                            "#fdca26"
                          ],
                          [
                            1,
                            "#f0f921"
                          ]
                        ],
                        "type": "histogram2dcontour"
                      }
                    ],
                    "mesh3d": [
                      {
                        "colorbar": {
                          "outlinewidth": 0,
                          "ticks": ""
                        },
                        "type": "mesh3d"
                      }
                    ],
                    "parcoords": [
                      {
                        "line": {
                          "colorbar": {
                            "outlinewidth": 0,
                            "ticks": ""
                          }
                        },
                        "type": "parcoords"
                      }
                    ],
                    "pie": [
                      {
                        "automargin": true,
                        "type": "pie"
                      }
                    ],
                    "scatter": [
                      {
                        "fillpattern": {
                          "fillmode": "overlay",
                          "size": 10,
                          "solidity": 0.2
                        },
                        "type": "scatter"
                      }
                    ],
                    "scatter3d": [
                      {
                        "line": {
                          "colorbar": {
                            "outlinewidth": 0,
                            "ticks": ""
                          }
                        },
                        "marker": {
                          "colorbar": {
                            "outlinewidth": 0,
                            "ticks": ""
                          }
                        },
                        "type": "scatter3d"
                      }
                    ],
                    "scattercarpet": [
                      {
                        "marker": {
                          "colorbar": {
                            "outlinewidth": 0,
                            "ticks": ""
                          }
                        },
                        "type": "scattercarpet"
                      }
                    ],
                    "scattergeo": [
                      {
                        "marker": {
                          "colorbar": {
                            "outlinewidth": 0,
                            "ticks": ""
                          }
                        },
                        "type": "scattergeo"
                      }
                    ],
                    "scattergl": [
                      {
                        "marker": {
                          "colorbar": {
                            "outlinewidth": 0,
                            "ticks": ""
                          }
                        },
                        "type": "scattergl"
                      }
                    ],
                    "scattermapbox": [
                      {
                        "marker": {
                          "colorbar": {
                            "outlinewidth": 0,
                            "ticks": ""
                          }
                        },
                        "type": "scattermapbox"
                      }
                    ],
                    "scatterpolar": [
                      {
                        "marker": {
                          "colorbar": {
                            "outlinewidth": 0,
                            "ticks": ""
                          }
                        },
                        "type": "scatterpolar"
                      }
                    ],
                    "scatterpolargl": [
                      {
                        "marker": {
                          "colorbar": {
                            "outlinewidth": 0,
                            "ticks": ""
                          }
                        },
                        "type": "scatterpolargl"
                      }
                    ],
                    "scatterternary": [
                      {
                        "marker": {
                          "colorbar": {
                            "outlinewidth": 0,
                            "ticks": ""
                          }
                        },
                        "type": "scatterternary"
                      }
                    ],
                    "surface": [
                      {
                        "colorbar": {
                          "outlinewidth": 0,
                          "ticks": ""
                        },
                        "colorscale": [
                          [
                            0,
                            "#0d0887"
                          ],
                          [
                            0.1111111111111111,
                            "#46039f"
                          ],
                          [
                            0.2222222222222222,
                            "#7201a8"
                          ],
                          [
                            0.3333333333333333,
                            "#9c179e"
                          ],
                          [
                            0.4444444444444444,
                            "#bd3786"
                          ],
                          [
                            0.5555555555555556,
                            "#d8576b"
                          ],
                          [
                            0.6666666666666666,
                            "#ed7953"
                          ],
                          [
                            0.7777777777777778,
                            "#fb9f3a"
                          ],
                          [
                            0.8888888888888888,
                            "#fdca26"
                          ],
                          [
                            1,
                            "#f0f921"
                          ]
                        ],
                        "type": "surface"
                      }
                    ],
                    "table": [
                      {
                        "cells": {
                          "fill": {
                            "color": "#EBF0F8"
                          },
                          "line": {
                            "color": "white"
                          }
                        },
                        "header": {
                          "fill": {
                            "color": "#C8D4E3"
                          },
                          "line": {
                            "color": "white"
                          }
                        },
                        "type": "table"
                      }
                    ]
                  },
                  "layout": {
                    "annotationdefaults": {
                      "arrowcolor": "#2a3f5f",
                      "arrowhead": 0,
                      "arrowwidth": 1
                    },
                    "autotypenumbers": "strict",
                    "coloraxis": {
                      "colorbar": {
                        "outlinewidth": 0,
                        "ticks": ""
                      }
                    },
                    "colorscale": {
                      "diverging": [
                        [
                          0,
                          "#8e0152"
                        ],
                        [
                          0.1,
                          "#c51b7d"
                        ],
                        [
                          0.2,
                          "#de77ae"
                        ],
                        [
                          0.3,
                          "#f1b6da"
                        ],
                        [
                          0.4,
                          "#fde0ef"
                        ],
                        [
                          0.5,
                          "#f7f7f7"
                        ],
                        [
                          0.6,
                          "#e6f5d0"
                        ],
                        [
                          0.7,
                          "#b8e186"
                        ],
                        [
                          0.8,
                          "#7fbc41"
                        ],
                        [
                          0.9,
                          "#4d9221"
                        ],
                        [
                          1,
                          "#276419"
                        ]
                      ],
                      "sequential": [
                        [
                          0,
                          "#0d0887"
                        ],
                        [
                          0.1111111111111111,
                          "#46039f"
                        ],
                        [
                          0.2222222222222222,
                          "#7201a8"
                        ],
                        [
                          0.3333333333333333,
                          "#9c179e"
                        ],
                        [
                          0.4444444444444444,
                          "#bd3786"
                        ],
                        [
                          0.5555555555555556,
                          "#d8576b"
                        ],
                        [
                          0.6666666666666666,
                          "#ed7953"
                        ],
                        [
                          0.7777777777777778,
                          "#fb9f3a"
                        ],
                        [
                          0.8888888888888888,
                          "#fdca26"
                        ],
                        [
                          1,
                          "#f0f921"
                        ]
                      ],
                      "sequentialminus": [
                        [
                          0,
                          "#0d0887"
                        ],
                        [
                          0.1111111111111111,
                          "#46039f"
                        ],
                        [
                          0.2222222222222222,
                          "#7201a8"
                        ],
                        [
                          0.3333333333333333,
                          "#9c179e"
                        ],
                        [
                          0.4444444444444444,
                          "#bd3786"
                        ],
                        [
                          0.5555555555555556,
                          "#d8576b"
                        ],
                        [
                          0.6666666666666666,
                          "#ed7953"
                        ],
                        [
                          0.7777777777777778,
                          "#fb9f3a"
                        ],
                        [
                          0.8888888888888888,
                          "#fdca26"
                        ],
                        [
                          1,
                          "#f0f921"
                        ]
                      ]
                    },
                    "colorway": [
                      "#636efa",
                      "#EF553B",
                      "#00cc96",
                      "#ab63fa",
                      "#FFA15A",
                      "#19d3f3",
                      "#FF6692",
                      "#B6E880",
                      "#FF97FF",
                      "#FECB52"
                    ],
                    "font": {
                      "color": "#2a3f5f"
                    },
                    "geo": {
                      "bgcolor": "white",
                      "lakecolor": "white",
                      "landcolor": "#E5ECF6",
                      "showlakes": true,
                      "showland": true,
                      "subunitcolor": "white"
                    },
                    "hoverlabel": {
                      "align": "left"
                    },
                    "hovermode": "closest",
                    "mapbox": {
                      "style": "light"
                    },
                    "paper_bgcolor": "white",
                    "plot_bgcolor": "#E5ECF6",
                    "polar": {
                      "angularaxis": {
                        "gridcolor": "white",
                        "linecolor": "white",
                        "ticks": ""
                      },
                      "bgcolor": "#E5ECF6",
                      "radialaxis": {
                        "gridcolor": "white",
                        "linecolor": "white",
                        "ticks": ""
                      }
                    },
                    "scene": {
                      "xaxis": {
                        "backgroundcolor": "#E5ECF6",
                        "gridcolor": "white",
                        "gridwidth": 2,
                        "linecolor": "white",
                        "showbackground": true,
                        "ticks": "",
                        "zerolinecolor": "white"
                      },
                      "yaxis": {
                        "backgroundcolor": "#E5ECF6",
                        "gridcolor": "white",
                        "gridwidth": 2,
                        "linecolor": "white",
                        "showbackground": true,
                        "ticks": "",
                        "zerolinecolor": "white"
                      },
                      "zaxis": {
                        "backgroundcolor": "#E5ECF6",
                        "gridcolor": "white",
                        "gridwidth": 2,
                        "linecolor": "white",
                        "showbackground": true,
                        "ticks": "",
                        "zerolinecolor": "white"
                      }
                    },
                    "shapedefaults": {
                      "line": {
                        "color": "#2a3f5f"
                      }
                    },
                    "ternary": {
                      "aaxis": {
                        "gridcolor": "white",
                        "linecolor": "white",
                        "ticks": ""
                      },
                      "baxis": {
                        "gridcolor": "white",
                        "linecolor": "white",
                        "ticks": ""
                      },
                      "bgcolor": "#E5ECF6",
                      "caxis": {
                        "gridcolor": "white",
                        "linecolor": "white",
                        "ticks": ""
                      }
                    },
                    "title": {
                      "x": 0.05
                    },
                    "xaxis": {
                      "automargin": true,
                      "gridcolor": "white",
                      "linecolor": "white",
                      "ticks": "",
                      "title": {
                        "standoff": 15
                      },
                      "zerolinecolor": "white",
                      "zerolinewidth": 2
                    },
                    "yaxis": {
                      "automargin": true,
                      "gridcolor": "white",
                      "linecolor": "white",
                      "ticks": "",
                      "title": {
                        "standoff": 15
                      },
                      "zerolinecolor": "white",
                      "zerolinewidth": 2
                    }
                  }
                },
                "title": {
                  "text": "Correlation Matrix"
                },
                "xaxis": {
                  "anchor": "y",
                  "constrain": "domain",
                  "domain": [
                    0,
                    1
                  ],
                  "nticks": 13,
                  "scaleanchor": "y"
                },
                "yaxis": {
                  "anchor": "x",
                  "autorange": "reversed",
                  "constrain": "domain",
                  "domain": [
                    0,
                    1
                  ],
                  "nticks": 13
                }
              }
            }
          },
          "metadata": {},
          "output_type": "display_data"
        }
      ],
      "source": [
        "# 1.a - Extrae de sklearn el conjunto de datos\n",
        "df = pd.read_csv(\"fetch_california_housing.csv\") # SSL certificate unmatched. \n",
        "\n",
        "# 1.b - Funcion que describe \n",
        "def dataset_info(df):\n",
        "    #df.info te da el tipo de variables y su estructura\n",
        "    print(f\"1. Información del dataset: \\n {df.info()} \\n 2. Numero de NA's: {df.isna().any()} \\n 3. Estadisticas del dataset: {df.describe()} \")\n",
        "    #Estructura del dataset\n",
        "    #Numero de NA's \n",
        "    #Tipo de variables y estadisticas\n",
        "\n",
        "dataset_info(df)\n",
        "corr_matrix = df.corr() #For a linear regression\n",
        "fig = px.imshow(corr_matrix)\n",
        "fig.update_layout(title=\"Correlation Matrix\", xaxis_nticks=len(df.columns), yaxis_nticks=len(df.columns))\n",
        "fig.show()"
      ]
    },
    {
      "cell_type": "code",
      "execution_count": 135,
      "metadata": {},
      "outputs": [
        {
          "name": "stdout",
          "output_type": "stream",
          "text": [
            "Linear Regression - RMSE: 0.7188029505696525\n",
            "Linear Regression - R^2 value: 0.6114662472011959\n",
            "Random Forest - RMSE: 0.48587497376338246\n",
            "Random Forest - R^2: 0.8224755764950855\n"
          ]
        }
      ],
      "source": [
        "# 1.c - Haz una regresión lineal y un Random Forest que predigan el Median house value segun los datos disponibles. \n",
        "# 1 - linear Regression \n",
        "# I need to plot a heat plot diagram with plotly to identify correlated variables. \n",
        "# Correlation Matrix \n",
        "# Debemos de hacer un split de los datos: \n",
        "X = df.loc[:, df.columns!= 'target']\n",
        "y = df['target']\n",
        "\n",
        "X_train, X_test, y_train, y_test = train_test_split(X, y, test_size = 0.2, random_state = 123)\n",
        "\n",
        "# a. Modelo de regresion linear\n",
        "linear_model = LinearRegression()\n",
        "linear_model.fit(X_train, y_train)\n",
        "\n",
        "y_pred_linear = linear_model.predict(X_test)\n",
        "print(\"Linear Regression - RMSE:\", np.sqrt(mean_squared_error(y_test, y_pred_linear)))\n",
        "print(\"Linear Regression - R^2 value:\", r2_score(y_test, y_pred_linear))\n",
        "\n",
        "# b. Creacion del Random Forest \n",
        "rf_model = RandomForestRegressor(random_state=123)\n",
        "rf_model.fit(X_train, y_train)\n",
        "\n",
        "y_pred_rf = rf_model.predict(X_test)\n",
        "print(\"Random Forest - RMSE:\", np.sqrt(mean_squared_error(y_test, y_pred_rf)))\n",
        "print(\"Random Forest - R^2:\", r2_score(y_test, y_pred_rf))"
      ]
    },
    {
      "cell_type": "code",
      "execution_count": 136,
      "metadata": {},
      "outputs": [
        {
          "data": {
            "application/vnd.plotly.v1+json": {
              "config": {
                "plotlyServerURL": "https://plot.ly"
              },
              "data": [
                {
                  "alignmentgroup": "True",
                  "hovertemplate": "abs_coefficient=%{x}<br>Feature=%{y}<extra></extra>",
                  "legendgroup": "",
                  "marker": {
                    "color": "#636efa",
                    "pattern": {
                      "shape": ""
                    }
                  },
                  "name": "",
                  "offsetgroup": "",
                  "orientation": "h",
                  "showlegend": false,
                  "textposition": "auto",
                  "type": "bar",
                  "x": [
                    0.6611444351545931,
                    0.4413923610471418,
                    0.4191227809026276,
                    0.410713720900902,
                    0.11482416807036402,
                    0.00983910445835066,
                    0.003990448436499234,
                    0.0000053219020892575455,
                    0.0000015469297654424109,
                    0.0000015469297397957323,
                    0.0000015469297396781845,
                    0.0000015469297396553328
                  ],
                  "xaxis": "x",
                  "y": [
                    "AveBedrms",
                    "MedInc",
                    "Longitude",
                    "Latitude",
                    "AveRooms",
                    "HouseAge",
                    "AveOccup",
                    "Population",
                    "Unnamed: 0.3",
                    "Unnamed: 0.1",
                    "Unnamed: 0.2",
                    "Unnamed: 0"
                  ],
                  "yaxis": "y"
                }
              ],
              "layout": {
                "barmode": "relative",
                "legend": {
                  "tracegroupgap": 0
                },
                "template": {
                  "data": {
                    "bar": [
                      {
                        "error_x": {
                          "color": "#2a3f5f"
                        },
                        "error_y": {
                          "color": "#2a3f5f"
                        },
                        "marker": {
                          "line": {
                            "color": "#E5ECF6",
                            "width": 0.5
                          },
                          "pattern": {
                            "fillmode": "overlay",
                            "size": 10,
                            "solidity": 0.2
                          }
                        },
                        "type": "bar"
                      }
                    ],
                    "barpolar": [
                      {
                        "marker": {
                          "line": {
                            "color": "#E5ECF6",
                            "width": 0.5
                          },
                          "pattern": {
                            "fillmode": "overlay",
                            "size": 10,
                            "solidity": 0.2
                          }
                        },
                        "type": "barpolar"
                      }
                    ],
                    "carpet": [
                      {
                        "aaxis": {
                          "endlinecolor": "#2a3f5f",
                          "gridcolor": "white",
                          "linecolor": "white",
                          "minorgridcolor": "white",
                          "startlinecolor": "#2a3f5f"
                        },
                        "baxis": {
                          "endlinecolor": "#2a3f5f",
                          "gridcolor": "white",
                          "linecolor": "white",
                          "minorgridcolor": "white",
                          "startlinecolor": "#2a3f5f"
                        },
                        "type": "carpet"
                      }
                    ],
                    "choropleth": [
                      {
                        "colorbar": {
                          "outlinewidth": 0,
                          "ticks": ""
                        },
                        "type": "choropleth"
                      }
                    ],
                    "contour": [
                      {
                        "colorbar": {
                          "outlinewidth": 0,
                          "ticks": ""
                        },
                        "colorscale": [
                          [
                            0,
                            "#0d0887"
                          ],
                          [
                            0.1111111111111111,
                            "#46039f"
                          ],
                          [
                            0.2222222222222222,
                            "#7201a8"
                          ],
                          [
                            0.3333333333333333,
                            "#9c179e"
                          ],
                          [
                            0.4444444444444444,
                            "#bd3786"
                          ],
                          [
                            0.5555555555555556,
                            "#d8576b"
                          ],
                          [
                            0.6666666666666666,
                            "#ed7953"
                          ],
                          [
                            0.7777777777777778,
                            "#fb9f3a"
                          ],
                          [
                            0.8888888888888888,
                            "#fdca26"
                          ],
                          [
                            1,
                            "#f0f921"
                          ]
                        ],
                        "type": "contour"
                      }
                    ],
                    "contourcarpet": [
                      {
                        "colorbar": {
                          "outlinewidth": 0,
                          "ticks": ""
                        },
                        "type": "contourcarpet"
                      }
                    ],
                    "heatmap": [
                      {
                        "colorbar": {
                          "outlinewidth": 0,
                          "ticks": ""
                        },
                        "colorscale": [
                          [
                            0,
                            "#0d0887"
                          ],
                          [
                            0.1111111111111111,
                            "#46039f"
                          ],
                          [
                            0.2222222222222222,
                            "#7201a8"
                          ],
                          [
                            0.3333333333333333,
                            "#9c179e"
                          ],
                          [
                            0.4444444444444444,
                            "#bd3786"
                          ],
                          [
                            0.5555555555555556,
                            "#d8576b"
                          ],
                          [
                            0.6666666666666666,
                            "#ed7953"
                          ],
                          [
                            0.7777777777777778,
                            "#fb9f3a"
                          ],
                          [
                            0.8888888888888888,
                            "#fdca26"
                          ],
                          [
                            1,
                            "#f0f921"
                          ]
                        ],
                        "type": "heatmap"
                      }
                    ],
                    "heatmapgl": [
                      {
                        "colorbar": {
                          "outlinewidth": 0,
                          "ticks": ""
                        },
                        "colorscale": [
                          [
                            0,
                            "#0d0887"
                          ],
                          [
                            0.1111111111111111,
                            "#46039f"
                          ],
                          [
                            0.2222222222222222,
                            "#7201a8"
                          ],
                          [
                            0.3333333333333333,
                            "#9c179e"
                          ],
                          [
                            0.4444444444444444,
                            "#bd3786"
                          ],
                          [
                            0.5555555555555556,
                            "#d8576b"
                          ],
                          [
                            0.6666666666666666,
                            "#ed7953"
                          ],
                          [
                            0.7777777777777778,
                            "#fb9f3a"
                          ],
                          [
                            0.8888888888888888,
                            "#fdca26"
                          ],
                          [
                            1,
                            "#f0f921"
                          ]
                        ],
                        "type": "heatmapgl"
                      }
                    ],
                    "histogram": [
                      {
                        "marker": {
                          "pattern": {
                            "fillmode": "overlay",
                            "size": 10,
                            "solidity": 0.2
                          }
                        },
                        "type": "histogram"
                      }
                    ],
                    "histogram2d": [
                      {
                        "colorbar": {
                          "outlinewidth": 0,
                          "ticks": ""
                        },
                        "colorscale": [
                          [
                            0,
                            "#0d0887"
                          ],
                          [
                            0.1111111111111111,
                            "#46039f"
                          ],
                          [
                            0.2222222222222222,
                            "#7201a8"
                          ],
                          [
                            0.3333333333333333,
                            "#9c179e"
                          ],
                          [
                            0.4444444444444444,
                            "#bd3786"
                          ],
                          [
                            0.5555555555555556,
                            "#d8576b"
                          ],
                          [
                            0.6666666666666666,
                            "#ed7953"
                          ],
                          [
                            0.7777777777777778,
                            "#fb9f3a"
                          ],
                          [
                            0.8888888888888888,
                            "#fdca26"
                          ],
                          [
                            1,
                            "#f0f921"
                          ]
                        ],
                        "type": "histogram2d"
                      }
                    ],
                    "histogram2dcontour": [
                      {
                        "colorbar": {
                          "outlinewidth": 0,
                          "ticks": ""
                        },
                        "colorscale": [
                          [
                            0,
                            "#0d0887"
                          ],
                          [
                            0.1111111111111111,
                            "#46039f"
                          ],
                          [
                            0.2222222222222222,
                            "#7201a8"
                          ],
                          [
                            0.3333333333333333,
                            "#9c179e"
                          ],
                          [
                            0.4444444444444444,
                            "#bd3786"
                          ],
                          [
                            0.5555555555555556,
                            "#d8576b"
                          ],
                          [
                            0.6666666666666666,
                            "#ed7953"
                          ],
                          [
                            0.7777777777777778,
                            "#fb9f3a"
                          ],
                          [
                            0.8888888888888888,
                            "#fdca26"
                          ],
                          [
                            1,
                            "#f0f921"
                          ]
                        ],
                        "type": "histogram2dcontour"
                      }
                    ],
                    "mesh3d": [
                      {
                        "colorbar": {
                          "outlinewidth": 0,
                          "ticks": ""
                        },
                        "type": "mesh3d"
                      }
                    ],
                    "parcoords": [
                      {
                        "line": {
                          "colorbar": {
                            "outlinewidth": 0,
                            "ticks": ""
                          }
                        },
                        "type": "parcoords"
                      }
                    ],
                    "pie": [
                      {
                        "automargin": true,
                        "type": "pie"
                      }
                    ],
                    "scatter": [
                      {
                        "fillpattern": {
                          "fillmode": "overlay",
                          "size": 10,
                          "solidity": 0.2
                        },
                        "type": "scatter"
                      }
                    ],
                    "scatter3d": [
                      {
                        "line": {
                          "colorbar": {
                            "outlinewidth": 0,
                            "ticks": ""
                          }
                        },
                        "marker": {
                          "colorbar": {
                            "outlinewidth": 0,
                            "ticks": ""
                          }
                        },
                        "type": "scatter3d"
                      }
                    ],
                    "scattercarpet": [
                      {
                        "marker": {
                          "colorbar": {
                            "outlinewidth": 0,
                            "ticks": ""
                          }
                        },
                        "type": "scattercarpet"
                      }
                    ],
                    "scattergeo": [
                      {
                        "marker": {
                          "colorbar": {
                            "outlinewidth": 0,
                            "ticks": ""
                          }
                        },
                        "type": "scattergeo"
                      }
                    ],
                    "scattergl": [
                      {
                        "marker": {
                          "colorbar": {
                            "outlinewidth": 0,
                            "ticks": ""
                          }
                        },
                        "type": "scattergl"
                      }
                    ],
                    "scattermapbox": [
                      {
                        "marker": {
                          "colorbar": {
                            "outlinewidth": 0,
                            "ticks": ""
                          }
                        },
                        "type": "scattermapbox"
                      }
                    ],
                    "scatterpolar": [
                      {
                        "marker": {
                          "colorbar": {
                            "outlinewidth": 0,
                            "ticks": ""
                          }
                        },
                        "type": "scatterpolar"
                      }
                    ],
                    "scatterpolargl": [
                      {
                        "marker": {
                          "colorbar": {
                            "outlinewidth": 0,
                            "ticks": ""
                          }
                        },
                        "type": "scatterpolargl"
                      }
                    ],
                    "scatterternary": [
                      {
                        "marker": {
                          "colorbar": {
                            "outlinewidth": 0,
                            "ticks": ""
                          }
                        },
                        "type": "scatterternary"
                      }
                    ],
                    "surface": [
                      {
                        "colorbar": {
                          "outlinewidth": 0,
                          "ticks": ""
                        },
                        "colorscale": [
                          [
                            0,
                            "#0d0887"
                          ],
                          [
                            0.1111111111111111,
                            "#46039f"
                          ],
                          [
                            0.2222222222222222,
                            "#7201a8"
                          ],
                          [
                            0.3333333333333333,
                            "#9c179e"
                          ],
                          [
                            0.4444444444444444,
                            "#bd3786"
                          ],
                          [
                            0.5555555555555556,
                            "#d8576b"
                          ],
                          [
                            0.6666666666666666,
                            "#ed7953"
                          ],
                          [
                            0.7777777777777778,
                            "#fb9f3a"
                          ],
                          [
                            0.8888888888888888,
                            "#fdca26"
                          ],
                          [
                            1,
                            "#f0f921"
                          ]
                        ],
                        "type": "surface"
                      }
                    ],
                    "table": [
                      {
                        "cells": {
                          "fill": {
                            "color": "#EBF0F8"
                          },
                          "line": {
                            "color": "white"
                          }
                        },
                        "header": {
                          "fill": {
                            "color": "#C8D4E3"
                          },
                          "line": {
                            "color": "white"
                          }
                        },
                        "type": "table"
                      }
                    ]
                  },
                  "layout": {
                    "annotationdefaults": {
                      "arrowcolor": "#2a3f5f",
                      "arrowhead": 0,
                      "arrowwidth": 1
                    },
                    "autotypenumbers": "strict",
                    "coloraxis": {
                      "colorbar": {
                        "outlinewidth": 0,
                        "ticks": ""
                      }
                    },
                    "colorscale": {
                      "diverging": [
                        [
                          0,
                          "#8e0152"
                        ],
                        [
                          0.1,
                          "#c51b7d"
                        ],
                        [
                          0.2,
                          "#de77ae"
                        ],
                        [
                          0.3,
                          "#f1b6da"
                        ],
                        [
                          0.4,
                          "#fde0ef"
                        ],
                        [
                          0.5,
                          "#f7f7f7"
                        ],
                        [
                          0.6,
                          "#e6f5d0"
                        ],
                        [
                          0.7,
                          "#b8e186"
                        ],
                        [
                          0.8,
                          "#7fbc41"
                        ],
                        [
                          0.9,
                          "#4d9221"
                        ],
                        [
                          1,
                          "#276419"
                        ]
                      ],
                      "sequential": [
                        [
                          0,
                          "#0d0887"
                        ],
                        [
                          0.1111111111111111,
                          "#46039f"
                        ],
                        [
                          0.2222222222222222,
                          "#7201a8"
                        ],
                        [
                          0.3333333333333333,
                          "#9c179e"
                        ],
                        [
                          0.4444444444444444,
                          "#bd3786"
                        ],
                        [
                          0.5555555555555556,
                          "#d8576b"
                        ],
                        [
                          0.6666666666666666,
                          "#ed7953"
                        ],
                        [
                          0.7777777777777778,
                          "#fb9f3a"
                        ],
                        [
                          0.8888888888888888,
                          "#fdca26"
                        ],
                        [
                          1,
                          "#f0f921"
                        ]
                      ],
                      "sequentialminus": [
                        [
                          0,
                          "#0d0887"
                        ],
                        [
                          0.1111111111111111,
                          "#46039f"
                        ],
                        [
                          0.2222222222222222,
                          "#7201a8"
                        ],
                        [
                          0.3333333333333333,
                          "#9c179e"
                        ],
                        [
                          0.4444444444444444,
                          "#bd3786"
                        ],
                        [
                          0.5555555555555556,
                          "#d8576b"
                        ],
                        [
                          0.6666666666666666,
                          "#ed7953"
                        ],
                        [
                          0.7777777777777778,
                          "#fb9f3a"
                        ],
                        [
                          0.8888888888888888,
                          "#fdca26"
                        ],
                        [
                          1,
                          "#f0f921"
                        ]
                      ]
                    },
                    "colorway": [
                      "#636efa",
                      "#EF553B",
                      "#00cc96",
                      "#ab63fa",
                      "#FFA15A",
                      "#19d3f3",
                      "#FF6692",
                      "#B6E880",
                      "#FF97FF",
                      "#FECB52"
                    ],
                    "font": {
                      "color": "#2a3f5f"
                    },
                    "geo": {
                      "bgcolor": "white",
                      "lakecolor": "white",
                      "landcolor": "#E5ECF6",
                      "showlakes": true,
                      "showland": true,
                      "subunitcolor": "white"
                    },
                    "hoverlabel": {
                      "align": "left"
                    },
                    "hovermode": "closest",
                    "mapbox": {
                      "style": "light"
                    },
                    "paper_bgcolor": "white",
                    "plot_bgcolor": "#E5ECF6",
                    "polar": {
                      "angularaxis": {
                        "gridcolor": "white",
                        "linecolor": "white",
                        "ticks": ""
                      },
                      "bgcolor": "#E5ECF6",
                      "radialaxis": {
                        "gridcolor": "white",
                        "linecolor": "white",
                        "ticks": ""
                      }
                    },
                    "scene": {
                      "xaxis": {
                        "backgroundcolor": "#E5ECF6",
                        "gridcolor": "white",
                        "gridwidth": 2,
                        "linecolor": "white",
                        "showbackground": true,
                        "ticks": "",
                        "zerolinecolor": "white"
                      },
                      "yaxis": {
                        "backgroundcolor": "#E5ECF6",
                        "gridcolor": "white",
                        "gridwidth": 2,
                        "linecolor": "white",
                        "showbackground": true,
                        "ticks": "",
                        "zerolinecolor": "white"
                      },
                      "zaxis": {
                        "backgroundcolor": "#E5ECF6",
                        "gridcolor": "white",
                        "gridwidth": 2,
                        "linecolor": "white",
                        "showbackground": true,
                        "ticks": "",
                        "zerolinecolor": "white"
                      }
                    },
                    "shapedefaults": {
                      "line": {
                        "color": "#2a3f5f"
                      }
                    },
                    "ternary": {
                      "aaxis": {
                        "gridcolor": "white",
                        "linecolor": "white",
                        "ticks": ""
                      },
                      "baxis": {
                        "gridcolor": "white",
                        "linecolor": "white",
                        "ticks": ""
                      },
                      "bgcolor": "#E5ECF6",
                      "caxis": {
                        "gridcolor": "white",
                        "linecolor": "white",
                        "ticks": ""
                      }
                    },
                    "title": {
                      "x": 0.05
                    },
                    "xaxis": {
                      "automargin": true,
                      "gridcolor": "white",
                      "linecolor": "white",
                      "ticks": "",
                      "title": {
                        "standoff": 15
                      },
                      "zerolinecolor": "white",
                      "zerolinewidth": 2
                    },
                    "yaxis": {
                      "automargin": true,
                      "gridcolor": "white",
                      "linecolor": "white",
                      "ticks": "",
                      "title": {
                        "standoff": 15
                      },
                      "zerolinecolor": "white",
                      "zerolinewidth": 2
                    }
                  }
                },
                "title": {
                  "text": "Feature Importance in Linear Regression (Coefficient Magnitude)"
                },
                "xaxis": {
                  "anchor": "y",
                  "domain": [
                    0,
                    1
                  ],
                  "title": {
                    "text": "abs_coefficient"
                  }
                },
                "yaxis": {
                  "anchor": "x",
                  "domain": [
                    0,
                    1
                  ],
                  "title": {
                    "text": "Feature"
                  }
                }
              }
            }
          },
          "metadata": {},
          "output_type": "display_data"
        }
      ],
      "source": [
        "#1.d - Visualize coefficients in Linear Regression with Plotly\n",
        "coefficients = linear_model.coef_\n",
        "feature_importance_lr = pd.DataFrame({'Feature': X_train.columns, 'Coefficient': coefficients})\n",
        "\n",
        "# Sort by the absolute value of coefficients for better vis. \n",
        "feature_importance_lr['abs_coefficient'] = feature_importance_lr['Coefficient'].abs()\n",
        "feature_importance_lr = feature_importance_lr.sort_values(by='abs_coefficient', ascending=False)\n",
        "\n",
        "fig = px.bar(feature_importance_lr, x = 'abs_coefficient', y = 'Feature', orientation='h', \n",
        "             title=\"Feature Importance in Linear Regression (Coefficient Magnitude)\")\n",
        "fig.show()"
      ]
    },
    {
      "cell_type": "code",
      "execution_count": 137,
      "metadata": {},
      "outputs": [
        {
          "data": {
            "application/vnd.plotly.v1+json": {
              "config": {
                "plotlyServerURL": "https://plot.ly"
              },
              "data": [
                {
                  "alignmentgroup": "True",
                  "hovertemplate": "Importance=%{x}<br>Feature=%{y}<extra></extra>",
                  "legendgroup": "",
                  "marker": {
                    "color": "#636efa",
                    "pattern": {
                      "shape": ""
                    }
                  },
                  "name": "",
                  "offsetgroup": "",
                  "orientation": "h",
                  "showlegend": false,
                  "textposition": "auto",
                  "type": "bar",
                  "x": [
                    0.517665990989885,
                    0.12929464510526756,
                    0.0761721521184794,
                    0.07433387431647127,
                    0.04843127588323206,
                    0.042497641162874154,
                    0.02758381465471762,
                    0.024746010355254828,
                    0.015078513920630855,
                    0.015056537023098964,
                    0.014684804910668724,
                    0.014454739559419758
                  ],
                  "xaxis": "x",
                  "y": [
                    "MedInc",
                    "AveOccup",
                    "Latitude",
                    "Longitude",
                    "HouseAge",
                    "AveRooms",
                    "Population",
                    "AveBedrms",
                    "Unnamed: 0.2",
                    "Unnamed: 0",
                    "Unnamed: 0.3",
                    "Unnamed: 0.1"
                  ],
                  "yaxis": "y"
                }
              ],
              "layout": {
                "barmode": "relative",
                "legend": {
                  "tracegroupgap": 0
                },
                "template": {
                  "data": {
                    "bar": [
                      {
                        "error_x": {
                          "color": "#2a3f5f"
                        },
                        "error_y": {
                          "color": "#2a3f5f"
                        },
                        "marker": {
                          "line": {
                            "color": "#E5ECF6",
                            "width": 0.5
                          },
                          "pattern": {
                            "fillmode": "overlay",
                            "size": 10,
                            "solidity": 0.2
                          }
                        },
                        "type": "bar"
                      }
                    ],
                    "barpolar": [
                      {
                        "marker": {
                          "line": {
                            "color": "#E5ECF6",
                            "width": 0.5
                          },
                          "pattern": {
                            "fillmode": "overlay",
                            "size": 10,
                            "solidity": 0.2
                          }
                        },
                        "type": "barpolar"
                      }
                    ],
                    "carpet": [
                      {
                        "aaxis": {
                          "endlinecolor": "#2a3f5f",
                          "gridcolor": "white",
                          "linecolor": "white",
                          "minorgridcolor": "white",
                          "startlinecolor": "#2a3f5f"
                        },
                        "baxis": {
                          "endlinecolor": "#2a3f5f",
                          "gridcolor": "white",
                          "linecolor": "white",
                          "minorgridcolor": "white",
                          "startlinecolor": "#2a3f5f"
                        },
                        "type": "carpet"
                      }
                    ],
                    "choropleth": [
                      {
                        "colorbar": {
                          "outlinewidth": 0,
                          "ticks": ""
                        },
                        "type": "choropleth"
                      }
                    ],
                    "contour": [
                      {
                        "colorbar": {
                          "outlinewidth": 0,
                          "ticks": ""
                        },
                        "colorscale": [
                          [
                            0,
                            "#0d0887"
                          ],
                          [
                            0.1111111111111111,
                            "#46039f"
                          ],
                          [
                            0.2222222222222222,
                            "#7201a8"
                          ],
                          [
                            0.3333333333333333,
                            "#9c179e"
                          ],
                          [
                            0.4444444444444444,
                            "#bd3786"
                          ],
                          [
                            0.5555555555555556,
                            "#d8576b"
                          ],
                          [
                            0.6666666666666666,
                            "#ed7953"
                          ],
                          [
                            0.7777777777777778,
                            "#fb9f3a"
                          ],
                          [
                            0.8888888888888888,
                            "#fdca26"
                          ],
                          [
                            1,
                            "#f0f921"
                          ]
                        ],
                        "type": "contour"
                      }
                    ],
                    "contourcarpet": [
                      {
                        "colorbar": {
                          "outlinewidth": 0,
                          "ticks": ""
                        },
                        "type": "contourcarpet"
                      }
                    ],
                    "heatmap": [
                      {
                        "colorbar": {
                          "outlinewidth": 0,
                          "ticks": ""
                        },
                        "colorscale": [
                          [
                            0,
                            "#0d0887"
                          ],
                          [
                            0.1111111111111111,
                            "#46039f"
                          ],
                          [
                            0.2222222222222222,
                            "#7201a8"
                          ],
                          [
                            0.3333333333333333,
                            "#9c179e"
                          ],
                          [
                            0.4444444444444444,
                            "#bd3786"
                          ],
                          [
                            0.5555555555555556,
                            "#d8576b"
                          ],
                          [
                            0.6666666666666666,
                            "#ed7953"
                          ],
                          [
                            0.7777777777777778,
                            "#fb9f3a"
                          ],
                          [
                            0.8888888888888888,
                            "#fdca26"
                          ],
                          [
                            1,
                            "#f0f921"
                          ]
                        ],
                        "type": "heatmap"
                      }
                    ],
                    "heatmapgl": [
                      {
                        "colorbar": {
                          "outlinewidth": 0,
                          "ticks": ""
                        },
                        "colorscale": [
                          [
                            0,
                            "#0d0887"
                          ],
                          [
                            0.1111111111111111,
                            "#46039f"
                          ],
                          [
                            0.2222222222222222,
                            "#7201a8"
                          ],
                          [
                            0.3333333333333333,
                            "#9c179e"
                          ],
                          [
                            0.4444444444444444,
                            "#bd3786"
                          ],
                          [
                            0.5555555555555556,
                            "#d8576b"
                          ],
                          [
                            0.6666666666666666,
                            "#ed7953"
                          ],
                          [
                            0.7777777777777778,
                            "#fb9f3a"
                          ],
                          [
                            0.8888888888888888,
                            "#fdca26"
                          ],
                          [
                            1,
                            "#f0f921"
                          ]
                        ],
                        "type": "heatmapgl"
                      }
                    ],
                    "histogram": [
                      {
                        "marker": {
                          "pattern": {
                            "fillmode": "overlay",
                            "size": 10,
                            "solidity": 0.2
                          }
                        },
                        "type": "histogram"
                      }
                    ],
                    "histogram2d": [
                      {
                        "colorbar": {
                          "outlinewidth": 0,
                          "ticks": ""
                        },
                        "colorscale": [
                          [
                            0,
                            "#0d0887"
                          ],
                          [
                            0.1111111111111111,
                            "#46039f"
                          ],
                          [
                            0.2222222222222222,
                            "#7201a8"
                          ],
                          [
                            0.3333333333333333,
                            "#9c179e"
                          ],
                          [
                            0.4444444444444444,
                            "#bd3786"
                          ],
                          [
                            0.5555555555555556,
                            "#d8576b"
                          ],
                          [
                            0.6666666666666666,
                            "#ed7953"
                          ],
                          [
                            0.7777777777777778,
                            "#fb9f3a"
                          ],
                          [
                            0.8888888888888888,
                            "#fdca26"
                          ],
                          [
                            1,
                            "#f0f921"
                          ]
                        ],
                        "type": "histogram2d"
                      }
                    ],
                    "histogram2dcontour": [
                      {
                        "colorbar": {
                          "outlinewidth": 0,
                          "ticks": ""
                        },
                        "colorscale": [
                          [
                            0,
                            "#0d0887"
                          ],
                          [
                            0.1111111111111111,
                            "#46039f"
                          ],
                          [
                            0.2222222222222222,
                            "#7201a8"
                          ],
                          [
                            0.3333333333333333,
                            "#9c179e"
                          ],
                          [
                            0.4444444444444444,
                            "#bd3786"
                          ],
                          [
                            0.5555555555555556,
                            "#d8576b"
                          ],
                          [
                            0.6666666666666666,
                            "#ed7953"
                          ],
                          [
                            0.7777777777777778,
                            "#fb9f3a"
                          ],
                          [
                            0.8888888888888888,
                            "#fdca26"
                          ],
                          [
                            1,
                            "#f0f921"
                          ]
                        ],
                        "type": "histogram2dcontour"
                      }
                    ],
                    "mesh3d": [
                      {
                        "colorbar": {
                          "outlinewidth": 0,
                          "ticks": ""
                        },
                        "type": "mesh3d"
                      }
                    ],
                    "parcoords": [
                      {
                        "line": {
                          "colorbar": {
                            "outlinewidth": 0,
                            "ticks": ""
                          }
                        },
                        "type": "parcoords"
                      }
                    ],
                    "pie": [
                      {
                        "automargin": true,
                        "type": "pie"
                      }
                    ],
                    "scatter": [
                      {
                        "fillpattern": {
                          "fillmode": "overlay",
                          "size": 10,
                          "solidity": 0.2
                        },
                        "type": "scatter"
                      }
                    ],
                    "scatter3d": [
                      {
                        "line": {
                          "colorbar": {
                            "outlinewidth": 0,
                            "ticks": ""
                          }
                        },
                        "marker": {
                          "colorbar": {
                            "outlinewidth": 0,
                            "ticks": ""
                          }
                        },
                        "type": "scatter3d"
                      }
                    ],
                    "scattercarpet": [
                      {
                        "marker": {
                          "colorbar": {
                            "outlinewidth": 0,
                            "ticks": ""
                          }
                        },
                        "type": "scattercarpet"
                      }
                    ],
                    "scattergeo": [
                      {
                        "marker": {
                          "colorbar": {
                            "outlinewidth": 0,
                            "ticks": ""
                          }
                        },
                        "type": "scattergeo"
                      }
                    ],
                    "scattergl": [
                      {
                        "marker": {
                          "colorbar": {
                            "outlinewidth": 0,
                            "ticks": ""
                          }
                        },
                        "type": "scattergl"
                      }
                    ],
                    "scattermapbox": [
                      {
                        "marker": {
                          "colorbar": {
                            "outlinewidth": 0,
                            "ticks": ""
                          }
                        },
                        "type": "scattermapbox"
                      }
                    ],
                    "scatterpolar": [
                      {
                        "marker": {
                          "colorbar": {
                            "outlinewidth": 0,
                            "ticks": ""
                          }
                        },
                        "type": "scatterpolar"
                      }
                    ],
                    "scatterpolargl": [
                      {
                        "marker": {
                          "colorbar": {
                            "outlinewidth": 0,
                            "ticks": ""
                          }
                        },
                        "type": "scatterpolargl"
                      }
                    ],
                    "scatterternary": [
                      {
                        "marker": {
                          "colorbar": {
                            "outlinewidth": 0,
                            "ticks": ""
                          }
                        },
                        "type": "scatterternary"
                      }
                    ],
                    "surface": [
                      {
                        "colorbar": {
                          "outlinewidth": 0,
                          "ticks": ""
                        },
                        "colorscale": [
                          [
                            0,
                            "#0d0887"
                          ],
                          [
                            0.1111111111111111,
                            "#46039f"
                          ],
                          [
                            0.2222222222222222,
                            "#7201a8"
                          ],
                          [
                            0.3333333333333333,
                            "#9c179e"
                          ],
                          [
                            0.4444444444444444,
                            "#bd3786"
                          ],
                          [
                            0.5555555555555556,
                            "#d8576b"
                          ],
                          [
                            0.6666666666666666,
                            "#ed7953"
                          ],
                          [
                            0.7777777777777778,
                            "#fb9f3a"
                          ],
                          [
                            0.8888888888888888,
                            "#fdca26"
                          ],
                          [
                            1,
                            "#f0f921"
                          ]
                        ],
                        "type": "surface"
                      }
                    ],
                    "table": [
                      {
                        "cells": {
                          "fill": {
                            "color": "#EBF0F8"
                          },
                          "line": {
                            "color": "white"
                          }
                        },
                        "header": {
                          "fill": {
                            "color": "#C8D4E3"
                          },
                          "line": {
                            "color": "white"
                          }
                        },
                        "type": "table"
                      }
                    ]
                  },
                  "layout": {
                    "annotationdefaults": {
                      "arrowcolor": "#2a3f5f",
                      "arrowhead": 0,
                      "arrowwidth": 1
                    },
                    "autotypenumbers": "strict",
                    "coloraxis": {
                      "colorbar": {
                        "outlinewidth": 0,
                        "ticks": ""
                      }
                    },
                    "colorscale": {
                      "diverging": [
                        [
                          0,
                          "#8e0152"
                        ],
                        [
                          0.1,
                          "#c51b7d"
                        ],
                        [
                          0.2,
                          "#de77ae"
                        ],
                        [
                          0.3,
                          "#f1b6da"
                        ],
                        [
                          0.4,
                          "#fde0ef"
                        ],
                        [
                          0.5,
                          "#f7f7f7"
                        ],
                        [
                          0.6,
                          "#e6f5d0"
                        ],
                        [
                          0.7,
                          "#b8e186"
                        ],
                        [
                          0.8,
                          "#7fbc41"
                        ],
                        [
                          0.9,
                          "#4d9221"
                        ],
                        [
                          1,
                          "#276419"
                        ]
                      ],
                      "sequential": [
                        [
                          0,
                          "#0d0887"
                        ],
                        [
                          0.1111111111111111,
                          "#46039f"
                        ],
                        [
                          0.2222222222222222,
                          "#7201a8"
                        ],
                        [
                          0.3333333333333333,
                          "#9c179e"
                        ],
                        [
                          0.4444444444444444,
                          "#bd3786"
                        ],
                        [
                          0.5555555555555556,
                          "#d8576b"
                        ],
                        [
                          0.6666666666666666,
                          "#ed7953"
                        ],
                        [
                          0.7777777777777778,
                          "#fb9f3a"
                        ],
                        [
                          0.8888888888888888,
                          "#fdca26"
                        ],
                        [
                          1,
                          "#f0f921"
                        ]
                      ],
                      "sequentialminus": [
                        [
                          0,
                          "#0d0887"
                        ],
                        [
                          0.1111111111111111,
                          "#46039f"
                        ],
                        [
                          0.2222222222222222,
                          "#7201a8"
                        ],
                        [
                          0.3333333333333333,
                          "#9c179e"
                        ],
                        [
                          0.4444444444444444,
                          "#bd3786"
                        ],
                        [
                          0.5555555555555556,
                          "#d8576b"
                        ],
                        [
                          0.6666666666666666,
                          "#ed7953"
                        ],
                        [
                          0.7777777777777778,
                          "#fb9f3a"
                        ],
                        [
                          0.8888888888888888,
                          "#fdca26"
                        ],
                        [
                          1,
                          "#f0f921"
                        ]
                      ]
                    },
                    "colorway": [
                      "#636efa",
                      "#EF553B",
                      "#00cc96",
                      "#ab63fa",
                      "#FFA15A",
                      "#19d3f3",
                      "#FF6692",
                      "#B6E880",
                      "#FF97FF",
                      "#FECB52"
                    ],
                    "font": {
                      "color": "#2a3f5f"
                    },
                    "geo": {
                      "bgcolor": "white",
                      "lakecolor": "white",
                      "landcolor": "#E5ECF6",
                      "showlakes": true,
                      "showland": true,
                      "subunitcolor": "white"
                    },
                    "hoverlabel": {
                      "align": "left"
                    },
                    "hovermode": "closest",
                    "mapbox": {
                      "style": "light"
                    },
                    "paper_bgcolor": "white",
                    "plot_bgcolor": "#E5ECF6",
                    "polar": {
                      "angularaxis": {
                        "gridcolor": "white",
                        "linecolor": "white",
                        "ticks": ""
                      },
                      "bgcolor": "#E5ECF6",
                      "radialaxis": {
                        "gridcolor": "white",
                        "linecolor": "white",
                        "ticks": ""
                      }
                    },
                    "scene": {
                      "xaxis": {
                        "backgroundcolor": "#E5ECF6",
                        "gridcolor": "white",
                        "gridwidth": 2,
                        "linecolor": "white",
                        "showbackground": true,
                        "ticks": "",
                        "zerolinecolor": "white"
                      },
                      "yaxis": {
                        "backgroundcolor": "#E5ECF6",
                        "gridcolor": "white",
                        "gridwidth": 2,
                        "linecolor": "white",
                        "showbackground": true,
                        "ticks": "",
                        "zerolinecolor": "white"
                      },
                      "zaxis": {
                        "backgroundcolor": "#E5ECF6",
                        "gridcolor": "white",
                        "gridwidth": 2,
                        "linecolor": "white",
                        "showbackground": true,
                        "ticks": "",
                        "zerolinecolor": "white"
                      }
                    },
                    "shapedefaults": {
                      "line": {
                        "color": "#2a3f5f"
                      }
                    },
                    "ternary": {
                      "aaxis": {
                        "gridcolor": "white",
                        "linecolor": "white",
                        "ticks": ""
                      },
                      "baxis": {
                        "gridcolor": "white",
                        "linecolor": "white",
                        "ticks": ""
                      },
                      "bgcolor": "#E5ECF6",
                      "caxis": {
                        "gridcolor": "white",
                        "linecolor": "white",
                        "ticks": ""
                      }
                    },
                    "title": {
                      "x": 0.05
                    },
                    "xaxis": {
                      "automargin": true,
                      "gridcolor": "white",
                      "linecolor": "white",
                      "ticks": "",
                      "title": {
                        "standoff": 15
                      },
                      "zerolinecolor": "white",
                      "zerolinewidth": 2
                    },
                    "yaxis": {
                      "automargin": true,
                      "gridcolor": "white",
                      "linecolor": "white",
                      "ticks": "",
                      "title": {
                        "standoff": 15
                      },
                      "zerolinecolor": "white",
                      "zerolinewidth": 2
                    }
                  }
                },
                "title": {
                  "text": "Feature Importance in a Random Forest"
                },
                "xaxis": {
                  "anchor": "y",
                  "domain": [
                    0,
                    1
                  ],
                  "title": {
                    "text": "Importance"
                  }
                },
                "yaxis": {
                  "anchor": "x",
                  "domain": [
                    0,
                    1
                  ],
                  "title": {
                    "text": "Feature"
                  }
                }
              }
            }
          },
          "metadata": {},
          "output_type": "display_data"
        }
      ],
      "source": [
        "importances = rf_model.feature_importances_\n",
        "feature_importance_rf = pd.DataFrame({'Feature': X_train.columns, 'Importance': importances})\n",
        "\n",
        "#sort the features by importance\n",
        "feature_importance_rf = feature_importance_rf.sort_values(by='Importance', ascending=False)\n",
        "\n",
        "# Plotting with Plotly \n",
        "fig = px.bar(feature_importance_rf, x='Importance', y='Feature', orientation='h', title=\"Feature Importance in a Random Forest\")\n",
        "fig.show()"
      ]
    },
    {
      "cell_type": "code",
      "execution_count": 138,
      "metadata": {},
      "outputs": [
        {
          "name": "stdout",
          "output_type": "stream",
          "text": [
            "Error Analysis on Linear Regression\n",
            "\n",
            "Mean squared error: 0.52\n",
            "Mean absolute error: 0.53\n",
            "Coefficient of determination: 0.61\n",
            "\n",
            "Error Analysis on Random Forest\n",
            "\n",
            "Mean squared error: 0.24\n",
            "Mean absolute error: 0.31\n",
            "Coefficient of determination: 0.82\n",
            "\n",
            "Podemos observar que el Random Forest es mucho más preciso que el linear regression. Lo cual tiene sentido\n"
          ]
        }
      ],
      "source": [
        "print(\"Error Analysis on Linear Regression\\n\")\n",
        "print(\"Mean squared error: %.2f\" % mean_squared_error(y_test, y_pred_linear))\n",
        "print(\"Mean absolute error: %.2f\" % mean_absolute_error(y_test, y_pred_linear))\n",
        "print(\"Coefficient of determination: %.2f\" % r2_score(y_test, y_pred_linear))\n",
        "\n",
        "print(\"\\nError Analysis on Random Forest\\n\")\n",
        "print(\"Mean squared error: %.2f\" % mean_squared_error(y_test, y_pred_rf))\n",
        "print(\"Mean absolute error: %.2f\" % mean_absolute_error(y_test, y_pred_rf))\n",
        "print(\"Coefficient of determination: %.2f\" % r2_score(y_test, y_pred_rf))\n",
        "\n",
        "print(\"\\nPodemos observar que el Random Forest es mucho más preciso que el linear regression. Lo cual tiene sentido\")"
      ]
    },
    {
      "cell_type": "markdown",
      "metadata": {
        "id": "YhuImkegUE5a"
      },
      "source": [
        "## Ejercicio 3 (4 puntos):\n"
      ]
    },
    {
      "cell_type": "markdown",
      "metadata": {
        "id": "kUZlJzRKU1p0"
      },
      "source": [
        "*Consideremos* el dataset que contiene __The Most Streamed Spotify Songs 2023__ que se encuentra en el respositorio.\n",
        "\n",
        "Información de las variables:\n",
        "\n",
        "- track_name: Name of the song\n",
        "- artist(s)_name: Name of the artist(s) of the song\n",
        "- vartist_count: Number of artists contributing to the song\n",
        "- released_year: Year when the song was released\n",
        "- released_month: Month when the song was released\n",
        "- release_day: Day of the month when the song was released\n",
        "- in_spotify_playlists: Number of Spotify playlists the song is included in\n",
        "- in_spotify_charts: Presence and rank of the song on Spotify charts\n",
        "- streams: Total number of streams on Spotify\n",
        "- in_apple_playlists: Number of Apple Music playlists the song is included in\n",
        "- in_apple_charts: Presence and rank of the song on Apple Music charts\n",
        "- in_deezer_playlists: Number of Deezer playlists the song is included in\n",
        "- in_deezer_charts: Presence and rank of the song on Deezer charts\n",
        "- in_shazam_charts: Presence and rank of the song on Shazam charts\n",
        "- bpm: Beats per minute, a measure of song tempo\n",
        "- key: Key of the song\n",
        "- mode: Mode of the song (major or minor)\n",
        "- danceability_%: Percentage indicating how suitable the song is for dancing\n",
        "- valence_%: Positivity of the song's musical content\n",
        "- energy_%: Perceived energy level of the song\n",
        "- acousticness_%: Amount of acoustic sound in the song\n",
        "- instrumentalness_%: Amount of instrumental content in the song\n",
        "- liveness_%: Presence of live performance elements\n",
        "- speechiness_%: Amount of spoken words in the song\n",
        "\n",
        "Para las respuestas b, c, d, e, f y g es imperativo acompañarlas respuestas con una visualización.\n",
        "\n",
        "a) Lee el fichero en formato dataframe, aplica la función del ejercicio 2.b, elimina NAs y convierte a integer si fuera necesario. **(0.25 puntos)**\n",
        "\n",
        "b) ¿Cuántos artistas únicos hay? **(0.25 puntos)**\n",
        "\n",
        "c) ¿Cuál es la distribución de reproducciones? **(0.5 puntos)**\n",
        "\n",
        "d) ¿Existe una diferencia signitificativa en las reproducciones entre las canciones de un solo artista y las de más de uno? **(0.5 puntos)**\n",
        "\n",
        "e) ¿Cuáles son las propiedades de una canción que mejor correlan con el número de reproducciones de una canción? **(0.5 puntos)**\n",
        "\n",
        "f) ¿Cuáles son las variables que mejor predicen las canciones que están por encima el percentil 50? **(1 puntos)**\n",
        "\n",
        "*Nota: Crea una variable binaria (Hit/No Hit) en base a 3.c, crea una regresión logística y visualiza sus coeficientes.*\n",
        "\n",
        "g) Agrupa los 4 gráficos realizados en uno solo y haz una recomendación a un sello discográfico para producir un nuevo hit. **(1 puntos)**\n"
      ]
    },
    {
      "cell_type": "code",
      "execution_count": 139,
      "metadata": {
        "id": "nN73ExlTmNE_"
      },
      "outputs": [
        {
          "name": "stdout",
          "output_type": "stream",
          "text": [
            "                            track_name    artist(s)_name  artist_count  \\\n",
            "0  Seven (feat. Latto) (Explicit Ver.)  Latto, Jung Kook             2   \n",
            "1                                 LALA       Myke Towers             1   \n",
            "2                              vampire    Olivia Rodrigo             1   \n",
            "3                         Cruel Summer      Taylor Swift             1   \n",
            "4                       WHERE SHE GOES         Bad Bunny             1   \n",
            "\n",
            "   released_year  released_month  released_day  in_spotify_playlists  \\\n",
            "0           2023               7            14                   553   \n",
            "1           2023               3            23                  1474   \n",
            "2           2023               6            30                  1397   \n",
            "3           2019               8            23                  7858   \n",
            "4           2023               5            18                  3133   \n",
            "\n",
            "   in_spotify_charts    streams  in_apple_playlists  ...  bpm key   mode  \\\n",
            "0                147  141381703                  43  ...  125   B  Major   \n",
            "1                 48  133716286                  48  ...   92  C#  Major   \n",
            "2                113  140003974                  94  ...  138   F  Major   \n",
            "3                100  800840817                 116  ...  170   A  Major   \n",
            "4                 50  303236322                  84  ...  144   A  Minor   \n",
            "\n",
            "  danceability_%  valence_% energy_% acousticness_%  instrumentalness_%  \\\n",
            "0             80         89       83             31                   0   \n",
            "1             71         61       74              7                   0   \n",
            "2             51         32       53             17                   0   \n",
            "3             55         58       72             11                   0   \n",
            "4             65         23       80             14                  63   \n",
            "\n",
            "   liveness_%  speechiness_%  \n",
            "0           8              4  \n",
            "1          10              4  \n",
            "2          31              6  \n",
            "3          11             15  \n",
            "4          11              6  \n",
            "\n",
            "[5 rows x 24 columns]\n",
            "<class 'pandas.core.frame.DataFrame'>\n",
            "RangeIndex: 953 entries, 0 to 952\n",
            "Data columns (total 24 columns):\n",
            " #   Column                Non-Null Count  Dtype \n",
            "---  ------                --------------  ----- \n",
            " 0   track_name            953 non-null    object\n",
            " 1   artist(s)_name        953 non-null    object\n",
            " 2   artist_count          953 non-null    int64 \n",
            " 3   released_year         953 non-null    int64 \n",
            " 4   released_month        953 non-null    int64 \n",
            " 5   released_day          953 non-null    int64 \n",
            " 6   in_spotify_playlists  953 non-null    int64 \n",
            " 7   in_spotify_charts     953 non-null    int64 \n",
            " 8   streams               953 non-null    object\n",
            " 9   in_apple_playlists    953 non-null    int64 \n",
            " 10  in_apple_charts       953 non-null    int64 \n",
            " 11  in_deezer_playlists   953 non-null    object\n",
            " 12  in_deezer_charts      953 non-null    int64 \n",
            " 13  in_shazam_charts      903 non-null    object\n",
            " 14  bpm                   953 non-null    int64 \n",
            " 15  key                   858 non-null    object\n",
            " 16  mode                  953 non-null    object\n",
            " 17  danceability_%        953 non-null    int64 \n",
            " 18  valence_%             953 non-null    int64 \n",
            " 19  energy_%              953 non-null    int64 \n",
            " 20  acousticness_%        953 non-null    int64 \n",
            " 21  instrumentalness_%    953 non-null    int64 \n",
            " 22  liveness_%            953 non-null    int64 \n",
            " 23  speechiness_%         953 non-null    int64 \n",
            "dtypes: int64(17), object(7)\n",
            "memory usage: 178.8+ KB\n",
            "1. Información del dataset: \n",
            " None \n",
            " 2. Numero de NA's: track_name              False\n",
            "artist(s)_name          False\n",
            "artist_count            False\n",
            "released_year           False\n",
            "released_month          False\n",
            "released_day            False\n",
            "in_spotify_playlists    False\n",
            "in_spotify_charts       False\n",
            "streams                 False\n",
            "in_apple_playlists      False\n",
            "in_apple_charts         False\n",
            "in_deezer_playlists     False\n",
            "in_deezer_charts        False\n",
            "in_shazam_charts         True\n",
            "bpm                     False\n",
            "key                      True\n",
            "mode                    False\n",
            "danceability_%          False\n",
            "valence_%               False\n",
            "energy_%                False\n",
            "acousticness_%          False\n",
            "instrumentalness_%      False\n",
            "liveness_%              False\n",
            "speechiness_%           False\n",
            "dtype: bool \n",
            " 3. Estadisticas del dataset:        artist_count  released_year  released_month  released_day  \\\n",
            "count    953.000000     953.000000      953.000000    953.000000   \n",
            "mean       1.556139    2018.238195        6.033578     13.930745   \n",
            "std        0.893044      11.116218        3.566435      9.201949   \n",
            "min        1.000000    1930.000000        1.000000      1.000000   \n",
            "25%        1.000000    2020.000000        3.000000      6.000000   \n",
            "50%        1.000000    2022.000000        6.000000     13.000000   \n",
            "75%        2.000000    2022.000000        9.000000     22.000000   \n",
            "max        8.000000    2023.000000       12.000000     31.000000   \n",
            "\n",
            "       in_spotify_playlists  in_spotify_charts  in_apple_playlists  \\\n",
            "count            953.000000         953.000000          953.000000   \n",
            "mean            5200.124869          12.009444           67.812172   \n",
            "std             7897.608990          19.575992           86.441493   \n",
            "min               31.000000           0.000000            0.000000   \n",
            "25%              875.000000           0.000000           13.000000   \n",
            "50%             2224.000000           3.000000           34.000000   \n",
            "75%             5542.000000          16.000000           88.000000   \n",
            "max            52898.000000         147.000000          672.000000   \n",
            "\n",
            "       in_apple_charts  in_deezer_charts         bpm  danceability_%  \\\n",
            "count       953.000000        953.000000  953.000000       953.00000   \n",
            "mean         51.908709          2.666317  122.540399        66.96957   \n",
            "std          50.630241          6.035599   28.057802        14.63061   \n",
            "min           0.000000          0.000000   65.000000        23.00000   \n",
            "25%           7.000000          0.000000  100.000000        57.00000   \n",
            "50%          38.000000          0.000000  121.000000        69.00000   \n",
            "75%          87.000000          2.000000  140.000000        78.00000   \n",
            "max         275.000000         58.000000  206.000000        96.00000   \n",
            "\n",
            "        valence_%    energy_%  acousticness_%  instrumentalness_%  liveness_%  \\\n",
            "count  953.000000  953.000000      953.000000          953.000000  953.000000   \n",
            "mean    51.431270   64.279119       27.057712            1.581322   18.213012   \n",
            "std     23.480632   16.550526       25.996077            8.409800   13.711223   \n",
            "min      4.000000    9.000000        0.000000            0.000000    3.000000   \n",
            "25%     32.000000   53.000000        6.000000            0.000000   10.000000   \n",
            "50%     51.000000   66.000000       18.000000            0.000000   12.000000   \n",
            "75%     70.000000   77.000000       43.000000            0.000000   24.000000   \n",
            "max     97.000000   97.000000       97.000000           91.000000   97.000000   \n",
            "\n",
            "       speechiness_%  \n",
            "count     953.000000  \n",
            "mean       10.131165  \n",
            "std         9.912888  \n",
            "min         2.000000  \n",
            "25%         4.000000  \n",
            "50%         6.000000  \n",
            "75%        11.000000  \n",
            "max        64.000000   \n"
          ]
        }
      ],
      "source": [
        "df = pd.read_csv(\"spotify-2023.csv\", encoding='ISO-8859-1')\n",
        "print(df.head())\n",
        "dataset_info(df)"
      ]
    },
    {
      "cell_type": "code",
      "execution_count": 140,
      "metadata": {},
      "outputs": [
        {
          "name": "stdout",
          "output_type": "stream",
          "text": [
            "{'', 'lil tjay', 'nickoog clk', 'paloma mami', 'israel & rodolffo', 'mc xenon', 'grupo frontera', 'd4vd', 'la joaqui', 'em beihold', 'marï¿½ï¿½lia mendonï¿½ï¿½a', 'bing crosby', 'peso pluma', 'rihanna', 'lizzy mcalpine', 'olga merediz', 'the chainsmokers', 'lil uzi vert', 'dj gabriel do borel', 'aitch', 'mc caverinha', 'aventura', 'dazy', 'blxst', 'justin timberlake', 'surf curse', 'kelly clarkson', 'mc pedrinho', 'mnek', 'kenia os', 'jain', 'lit killah', 'tory lanez', 'stephanie beatriz', \"finneas o'connell\", 'david guetta', 'tainy', 'cris mj', 'saiko', 'bl', 'mora', 'gabry ponte', 'jason derulo', 'le sserafim', 'mert demir', 'sped up 8282', 'dababy', 'mc menor hr', 'bebe rexha', 'semicenk', 'vance joy', 'lana del rey', 'shae gill', 'os gemeos da putaria', 'dean lewis', 'stromae', 'grayson vill', 'seafret', 'luude', 'imanbek', 'jid', 'sean paul', 'dj lk da escï¿½ï¿½cia', 'flowdan', 'tiï¿½ï¿', 'dj chris no beat', 'the marï¿½ï', 'bï¿½ï¿½jo', 'a$ap rocky', 'c. tangana', 'yeat', 'thxsomch', 'mc livinho', 'benson boone', 'doja cat', 'alejo', 'ava', 'abhijay sharma', 'radiohead', 'kyla', 'chris rea', 'treyce', 'josï¿½ï¿½ felic', 'emmy meli', 'lum!x', 'bad b', 'lyanno', 'cruz cafunï¿½ï¿½', 'kendrick lamar', 'rvssian', 'jack harlow', 'tulus', 'dido', 'freddie dredd', 'gurinder gill', 'abhir hathi', 'skrillex', 'swae lee', 'eric church', 'gustah', 'tv girl', 'arctic monkeys', 'cartel de santa', 'billie eilish', 'demi lovato', 'raye', 'libianca', 'polima westcoast', 'panic! at the disco', 'seventeen', 'taylour paige', 'yng lvcas', 'tems', 'jay rock', 'zï¿½ï¿½ fe', 'ha sung woon', 'nicki nicole', 'l7nnon', 'la adictiva', 'drake', 'annenmaykantereit', 'jordan fisher', 'sofia carson', 'bizarrap', 'ke personajes', 'stars music chile', 'daddy yankee', 'baby tate', 'maldy', 'alicia keys', 'nio garcia', 'mainstreet', 'tesla jnr', 'hozier', 'nf', 'maiara &', 'boywithuke', 'colin hay', 'mc ryan sp', 'metallica', 'jisoo', 'nessa barrett', 'metro boomin', 'supernova ent', 'fivio foreign', 'plan b', 'altamash faridi', 'rex orange county', 'mambo kingz', 'john lennon', 'coi leray', 'kar', 'robi', 'pinkpantheress', 'ana castela', 'tchakabum', 'yung lean', \"guns n' roses\", 'amitabh bhattacharya', 'zï¿½ï¿½ neto & crist', 'encanto - cast', 'willow', 'junior h', 'matuï¿½ï¿½', 'musical youth', 'jimin', 'pedro sampaio', 'taylor swift', 'ive', 'utku inc', 'tate m', 'villano antillano', 'mr.kitty', 'iu', 'residente', 'kate bush', 'bts', 'b. swanson quartet', 'michael bublï¿', 'xxxtentacion', 'nate dogg', 'dr. dre', 'cigarettes after sex', 'teto', 'bad bunny', 'dimelo flow', 'rï¿½ï¿½ma', 'tiï¿½ï¿½sto', 'rels b', 'tony dize', 'prod malax', 'blackbear', 'stray kids', 'dove cameron', '21 savage', 'madonna', 'amaarae', 'yoasobi', 'imagine dragons', 'eden muï¿½ï', 'unxbected', 'anderson .paak', 'diane guerrero', 'mc frog', 'lost frequencies', 'trueno', 'simone mendes', 'leah kate', 'childish gambino', 'godzz__-', 'kayblack', 'natanael cano', 'shekhar ravjiani', 'sidhu moose wala', 'riton', 'rich the kid', 'eladio carrion', 'toian', 'colde', 'vundabar', 'megan thee stallion', 'blanco', 'david kushner', 'amitabha bhattacharya', 'feid', 'fred again..', 'lil wayne', 'wisin & yandel', 'justin bieber', 'sped up nightcore', 'the kid laroi', 'paulo londra', 'bianca', 'ugly dray', 'shadab faridi', 'lenny tavï¿½ï¿½rez', 'baby keem', 'arijit singh', 'niall horan', 'victor cibrian', 'dj luian', 'the fontane sisters', 'niki', 'tyga', 'king', 'justin quiles', 'pnau', 'selena g', 'christian nodal', 'sky rompiendo', 'mc kevin o chris', 'jasiel nuï¿½ï¿½ez', 'ghost', 'milo j', 'anne-marie', 'the neighbourhood', 'summer walker', 'ellie goulding', 'kevin kaarl', 'lauren spencer smith', '4*town (from disney and pixarï¿½ï¿½ï¿½s turning red)', 'tyler', 'moliy', 'lil yachty', 'masked wolf', 'the killers', 'becky hill', 'jhay cortez', 'zach bryan', 'ryan lewis', 'tomorrow x together', 'yahritza y su esencia', 'intense', 'arcane', 'yandel', 'yoko ono', 'fuerza regida', 'harry styles', 'mufasa & hypeman', 'league of legends', 'post malone', 'calvin harris', 'sampha', 'tanna leone', 'kanye west', 'josh levi', 'juseph', 'dj khaled', 'the plastic ono band', 'luke combs', 'onerepublic', 'dave', 'karol g', 'anggi marito', 'morgan wallen', 'ap dhillon', 'eminem', 'maria becerra', 'miggy dela rosa', 'perry como', 'rich music', 'nengo flow', 'ken darby singers', 'mitchell ayres & his orchestra', 'paul mccartney', 'stephen sanchez', 'enhypen', 'the ronettes', 'young miko', 'charli xcx', 'marï¿½ï¿½lia mendo', '(g)i-dle', 'oliver tree', 'robin schulz', 'ray dalton', 'varun jain', 'a-ha', 'the police', 'kodak black', 'taiu', 'j-hope', 'sleepy hallow', 'lord huron', 'carin leon', 'gabito ballesteros', 'kenshi yonezu', 'big one', 'the anxiety', 'nicki minaj', 'dean martin', 'sam ryder', 'foudeqush', 'girl in red', 'steve aoki', 'oxlade', 'caralisa monteiro', 'zakaria', 'frank ocean', 'conan gray', 'kordhell', 'zion & lennox', 'marshmello', 'polo g', 'xamï¿½ï¿½', '347aidan', 'danny ocean', 'darlene love', 'anitta', 'psy', 'ice spice', 'grupo marca registrada', 'snoop dogg', 'dennis', 'mabel matiz', 'avicii', 'chase atlantic', 'beam', 'matuï¿', 'pailita', 'dj r', 'troye sivan', 'fran c', 'rm', 'p!nk', 'ayparia', 'roisee', 'travis scott', 'phoebe bridgers', 'silk sonic', 'agroplay', 'steve lacy', 'lil cake', 'la kelly', 'jnr choi', 'lil baby', 'kalush', 'nayeon', 'cardi b', 'luis r conriquez', 'frank sinatra', 'luï¿½ï¿½sa sonza', 'sza', 'lil durk', 'keane', 'doechii', 'quevedo', 'linkin park', 'de la ghetto', 'chefin', 'anuel aa', 'coldplay', 'nirvana', 'andy williams', 'manuel turizo', 'j. cole', 'beth gibbons', 'tini', 'ed sheeran', 'joji', 'james hype', 'roger', 'wizkid', 'southstar', 'lil nas x', 'yung gravy', 'schï¿½ï¿½rze', 'pablito pesadilla', 'rauw alejandro', 'topher ngo', 'duki', 'chris molitor', 'dalex', 'camila cabello', 'macklemore', 'adele', 'giant rooks', 'jin', 'fujii kaze', 'twice', 'lewis capaldi', 'ella henderson', 'fireboy dml', 'playboi carti', 'peso p', 'vishal-shekhar', 'chanel', 'blessd', 'latto', 'interworld', 'suga', 'ludwig goransson', 'leo santana', 'chris brown', 'angela aguilar', 'standly', 'arizonatears', 'cherish', 'prezioso', 'love funk', 'james arthur', 'new west', 'alvaro diaz', 'la pantera', 'ghostface killah', 'ariana grande', 'the rare occasions', 'dj win', 'nightcrawlers', 'meghan trainor', 'daft punk', 'jung kook', 'mc paiva zs', 'alec benjamin', 'mc tairon', 'omar apollo', 'pharrell williams', 'the walters', 'sech', 'zzoilo', 'jvke', 'mahalini', 'zendaya', 'maroon 5', 'nmixx', 'mc vitin da igrejinha', 'melody', 'the harlem community choir', 'jack black', 'bellakath', 'calum scott', 'juice wrld', 'young thug', 'doï¿½ï¿½u', 'raim laode', 'aitana', '2pac', 'mac demarco', 'bï¿½', 'ali sethi', 'joel corry', \"shakin' stevens\", 'peggy gou', 'elton john', 'tate mcrae', 'sachin-jigar', 'shubh', 'dj matt d', 'lady gaga', 'lisa', 'kaifi khalil', 'future', 'ovy on the drums', 'tears for fears', 'kaliii', 'john scott trotter & his orchestra', 'ryan castro', 'chuck berry', 'aerosmith', 'beyoncï¿', 'george henrique &', 'ruth b.', 'charlie puth', 'eslabon armado', 'sam smith', 'el chachito', 'beach weather', 'james blake', 'edison lighthouse', 'm', 'pr1isvx', 'mc jhenny', 'blake shelton', 'bomba estï¿½ï¿½reo', 'byor', 'ozuna', 'the creator', 'armani white', 'gunna', 'sim', 'don toliver', 'shakira', 'melanie martinez', 'halsey', 'l-gante', 'amanda reifer', 'pnb rock', 'tyler cole', 'dina rae', 'chris jedi', 'riar saab', 'agust d', 'jax jones', 'rosalï¿½', 'thezth', 'suki waterhouse', 'nile rodgers', 'beï¿½ï', 'lasso', 'j balvin', 'jhayco', 'lizzo', 'sukriti kakar', 'acraze', 'mahmood', 'julieta venegas', 'bvga beatz', 'paloma faith', 'bradley cooper', 'project pat', 'jonas brothers', 'offset', 'shawn mendes', 'yuridia', 'taeyang', 'neo b', 'miley cyrus', 'sebastian yatra', 'bruno mars', 'dopamine', 'dj biel do furduncinho', 'olivia rodrigo', 'jessica darrow', 'davi k', 'mari fernandez', 'nle choppa', 'kumaar', 'sam dew', 'tiago pzk', 'fmk', 'veigh', 'newjeans', 'nico valdi', 'sales', 'labrinth', 'bigbang', 'gesaffelstein', 'jessi', 'the goo goo dolls', 'sabrina carpenter', 'saweetie', 'hotel ugly', 'mae stephens', 'john legend', 'styrx', 'loreen', 'kali uchis', 'lf system', 'kim petras', 'becky g', 'wiu', 'maluma', '50 cent', '070 shake', 'selena gomez', 'nicky youre', 'nicky jam', 'miguel', 'fifty fifty', 'myke towers', 'dua lipa', 'buscabulla', 'luciano', 'gwen stefani', 'khalid', 'nat king cole', 'mc menor sg', 'muni long', 'chencho corleone', 'blackpink', 'elley duhï¿', 'vishal dadlani', 'shilpa rao', 'v', 'romeo santos', 'kanii', 'chino pacas', 'migrantes', 'dj escobar', 'arcangel', 'brray', 'burna boy', 'central cee', 'jaymes young', 'dj 900', 'black eyed peas', 'twisted', 'the weeknd', 'mï¿½ï¿½ne'}\n"
          ]
        }
      ],
      "source": [
        "# Cuantos artistas unicos hay? \n",
        "df = df.dropna()\n",
        "unique_artists = df[\"artist(s)_name\"].unique()\n",
        "\n",
        "# I need to loop through the array of artists and then split at the , \n",
        "unique_artists = [artist.strip().lower() for sublist in unique_artists for artist in sublist.split(',')]\n",
        "unique_artists_cleaned = set(unique_artists) # Make it a set\n",
        "print(unique_artists_cleaned)"
      ]
    },
    {
      "cell_type": "code",
      "execution_count": 141,
      "metadata": {},
      "outputs": [
        {
          "data": {
            "application/vnd.plotly.v1+json": {
              "config": {
                "plotlyServerURL": "https://plot.ly"
              },
              "data": [
                {
                  "alignmentgroup": "True",
                  "bingroup": "x",
                  "hovertemplate": "streams=%{x}<br>count=%{y}<extra></extra>",
                  "legendgroup": "",
                  "marker": {
                    "color": "#636efa",
                    "pattern": {
                      "shape": ""
                    }
                  },
                  "name": "",
                  "offsetgroup": "",
                  "orientation": "v",
                  "showlegend": false,
                  "type": "histogram",
                  "x": [
                    141381703,
                    133716286,
                    140003974,
                    800840817,
                    303236322,
                    183706234,
                    725980112,
                    58149378,
                    95217315,
                    553634067,
                    505671438,
                    58255150,
                    387570742,
                    1163093654,
                    496795686,
                    335222234,
                    363369738,
                    86444842,
                    52135248,
                    200647221,
                    115364561,
                    78300654,
                    899183384,
                    61245289,
                    429829812,
                    127408954,
                    22581161,
                    52294266,
                    843957510,
                    999748277,
                    618990393,
                    188933502,
                    1355959075,
                    786181836,
                    176553476,
                    354495408,
                    2808096550,
                    1109433169,
                    1047101291,
                    570515054,
                    1647990401,
                    2565529693,
                    518745108,
                    107753850,
                    177740666,
                    153372011,
                    57876440,
                    256483385,
                    1214083358,
                    111947664,
                    156338624,
                    720434240,
                    357925728,
                    674072710,
                    1755214421,
                    404562836,
                    373199958,
                    14780425,
                    39578178,
                    54266102,
                    751134527,
                    1356565093,
                    1592909789,
                    635412045,
                    1230675890,
                    585695368,
                    43857627,
                    2009094673,
                    600976848,
                    39709092,
                    39228929,
                    2665343922,
                    223633238,
                    1440757818,
                    165484133,
                    58054811,
                    157058870,
                    95131998,
                    250305248,
                    685032533,
                    38411956,
                    144565150,
                    127567540,
                    399686758,
                    983637508,
                    118482347,
                    882831184,
                    286400165,
                    172825906,
                    1241559043,
                    29562220,
                    77309611,
                    1605224506,
                    1116995633,
                    838079900,
                    1163620694,
                    1093605526,
                    179659294,
                    39058561,
                    36912123,
                    1205951614,
                    1791000570,
                    201660859,
                    248088961,
                    90839753,
                    607123776,
                    55842345,
                    211050784,
                    342897938,
                    2762,
                    601863821,
                    1953533826,
                    2355719893,
                    66902503,
                    96273746,
                    430977451,
                    284819874,
                    721975598,
                    276259178,
                    54225632,
                    2559529074,
                    681583126,
                    2594040133,
                    81102253,
                    11956641,
                    1687664027,
                    611700552,
                    1133865788,
                    1089402494,
                    411747614,
                    255932395,
                    31873544,
                    233801632,
                    1481349984,
                    142095275,
                    2011464183,
                    436027885,
                    2713922350,
                    621660989,
                    950906471,
                    1593270737,
                    1410088830,
                    1235005533,
                    1374581173,
                    94186466,
                    1788326445,
                    1840364617,
                    143573775,
                    684675814,
                    1113838873,
                    1267333350,
                    3562543890,
                    1271293243,
                    265882712,
                    841749534,
                    47956378,
                    806397070,
                    1641426668,
                    2135158446,
                    367316268,
                    350381515,
                    1264310836,
                    30343206,
                    405136812,
                    540654286,
                    57312735,
                    397582059,
                    1479115056,
                    86773632,
                    133753727,
                    123124076,
                    463564958,
                    64533040,
                    65496046,
                    68616963,
                    161460990,
                    70106975,
                    113509496,
                    89933133,
                    71007139,
                    43522589,
                    232896922,
                    37126685,
                    195576623,
                    532336353,
                    538115192,
                    46142772,
                    401036314,
                    127026613,
                    345031710,
                    288101651,
                    60350538,
                    335074782,
                    76767396,
                    46065667,
                    459276435,
                    39666245,
                    138517666,
                    822633917,
                    595900742,
                    51985779,
                    57945987,
                    115010040,
                    175097833,
                    57089066,
                    488386797,
                    32761689,
                    1047480053,
                    153454328,
                    217672943,
                    457184829,
                    726434358,
                    573633020,
                    1406111294,
                    71573339,
                    24975653,
                    145458418,
                    1424589568,
                    231332117,
                    415932686,
                    988515741,
                    50847624,
                    39893489,
                    92035115,
                    118810253,
                    77233241,
                    117747907,
                    266624541,
                    293186992,
                    139681964,
                    123132751,
                    103762518,
                    162887075,
                    91221625,
                    190490915,
                    96180277,
                    185240616,
                    885093467,
                    104992946,
                    147290338,
                    158950978,
                    76910644,
                    137123880,
                    782369383,
                    502574952,
                    207033255,
                    381161027,
                    466231982,
                    357580552,
                    61105704,
                    198275403,
                    705469769,
                    34502215,
                    304118600,
                    1449799467,
                    173627354,
                    90025258,
                    652704649,
                    1829992958,
                    655466831,
                    146409671,
                    95816024,
                    117206995,
                    100409613,
                    80758350,
                    325592432,
                    58473276,
                    52722996,
                    191945597,
                    77377503,
                    743693613,
                    267789608,
                    449701773,
                    67070410,
                    116334601,
                    165584767,
                    367814306,
                    477033549,
                    156214700,
                    448843705,
                    294352144,
                    972164968,
                    920045682,
                    2420461338,
                    244658767,
                    68216992,
                    223582566,
                    471819764,
                    1361425037,
                    116599790,
                    148469433,
                    497225336,
                    88791109,
                    125917280,
                    105062254,
                    95623148,
                    144584800,
                    298063749,
                    166570053,
                    83021468,
                    139836056,
                    303216294,
                    221409663,
                    58890931,
                    81419389,
                    156777415,
                    284908316,
                    93438910,
                    363472647,
                    372476382,
                    56533272,
                    175399345,
                    203221468,
                    1624165576,
                    134294498,
                    70069745,
                    609293408,
                    671365962,
                    93587665,
                    1223481149,
                    1022258230,
                    263453310,
                    1435127549,
                    236857112,
                    147538971,
                    698086140,
                    723894473,
                    403097450,
                    309483971,
                    319566866,
                    909001996,
                    1061966512,
                    124988687,
                    134255790,
                    301051721,
                    156338624,
                    309653982,
                    297328960,
                    332506354,
                    480507035,
                    1065580332,
                    122763672,
                    1365184,
                    184308753,
                    606361689,
                    120972253,
                    338564981,
                    1606986953,
                    1301799902,
                    140187018,
                    107642809,
                    556585270,
                    2303033973,
                    646886885,
                    872137015,
                    571386359,
                    174006928,
                    284785823,
                    163284000,
                    246390068,
                    482257456,
                    168684524,
                    78489819,
                    195516622,
                    1260594497,
                    428685680,
                    1024858327,
                    838586769,
                    199386237,
                    972509632,
                    213438580,
                    210038833,
                    227918678,
                    826623384,
                    1802514301,
                    181831132,
                    462791599,
                    348647203,
                    90598517,
                    807561936,
                    663832097,
                    446390129,
                    485285717,
                    520034544,
                    476244795,
                    629173063,
                    404664135,
                    98709329,
                    110849052,
                    460492795,
                    94005786,
                    389771964,
                    403939487,
                    110073250,
                    351636786,
                    473248298,
                    73981293,
                    155653938,
                    395591396,
                    429504768,
                    242767149,
                    65362788,
                    67540165,
                    62019074,
                    295998468,
                    136689549,
                    135611421,
                    356709897,
                    110649992,
                    301869854,
                    127027715,
                    57144458,
                    56870689,
                    323437194,
                    317726339,
                    116144341,
                    328207708,
                    608228647,
                    180577478,
                    809306935,
                    49262961,
                    614555082,
                    245350949,
                    178660459,
                    51641685,
                    78139948,
                    322336177,
                    391251368,
                    349585590,
                    674772936,
                    119238316,
                    116903579,
                    888046992,
                    130655803,
                    88103848,
                    101114984,
                    1575467011,
                    91656026,
                    53933526,
                    267758538,
                    74601456,
                    920797189,
                    539595276,
                    1367810478,
                    578207856,
                    775542072,
                    656013912,
                    240684449,
                    63803529,
                    466214729,
                    236940480,
                    41924466,
                    225259194,
                    393230256,
                    287201015,
                    599770206,
                    342779426,
                    673801126,
                    1168642797,
                    383550148,
                    530511203,
                    510876816,
                    1763363713,
                    374191487,
                    108809090,
                    436695353,
                    354065229,
                    1143647827,
                    311395144,
                    672656250,
                    1256880657,
                    245095641,
                    686734357,
                    261414174,
                    610045621,
                    1115880852,
                    594482982,
                    566954746,
                    null,
                    184937148,
                    31959571,
                    824420218,
                    363467642,
                    1127468248,
                    60680939,
                    247737946,
                    154797871,
                    124407432,
                    850608354,
                    376333030,
                    516784627,
                    1608045237,
                    506778838,
                    1472799873,
                    513643924,
                    261286503,
                    783706581,
                    422691058,
                    1062345656,
                    851070493,
                    263894529,
                    345903614,
                    956865266,
                    427486004,
                    156658366,
                    624515457,
                    777765388,
                    1138474110,
                    355219175,
                    290228626,
                    1062956628,
                    1180094974,
                    1456081449,
                    432702334,
                    489945871,
                    465959382,
                    1223481149,
                    2288695111,
                    720825549,
                    2086124197,
                    1690192927,
                    593917618,
                    200972675,
                    71014967,
                    560222750,
                    1806617704,
                    77337771,
                    528544703,
                    865640097,
                    2159346687,
                    211372494,
                    651732901,
                    608334048,
                    863756573,
                    797402345,
                    1695712020,
                    1759567999,
                    223319934,
                    54937991,
                    258316038,
                    596152090,
                    177129919,
                    716591492,
                    1210599487,
                    246376690,
                    496311364,
                    843309044,
                    500340342,
                    107255472,
                    135079152,
                    822239726,
                    1202722675,
                    343197054,
                    240769997,
                    426204830,
                    421135627,
                    554875730,
                    327498031,
                    185408548,
                    245400167,
                    579395142,
                    675039469,
                    252871192,
                    231996128,
                    1929770265,
                    918915401,
                    1180896317,
                    498960285,
                    258714692,
                    143139338,
                    209768491,
                    64714573,
                    50746620,
                    154119539,
                    181328253,
                    370068639,
                    2280566092,
                    563902868,
                    317622165,
                    203680270,
                    81350745,
                    282883169,
                    64787943,
                    2484812918,
                    461437791,
                    1439191367,
                    759208783,
                    368646862,
                    299634472,
                    756907987,
                    682475162,
                    546191065,
                    229473310,
                    202677468,
                    208166039,
                    527033089,
                    94616487,
                    394030335,
                    193443895,
                    299648208,
                    319757142,
                    153240879,
                    346127840,
                    312622938,
                    1200808494,
                    797196073,
                    1970673297,
                    665765558,
                    263779030,
                    339473453,
                    2204080728,
                    2591224264,
                    135444283,
                    236872197,
                    694525298,
                    421365166,
                    349746291,
                    255120451,
                    190981339,
                    924193303,
                    305771063,
                    273005485,
                    89566512,
                    677389855,
                    75476209,
                    408843328,
                    187772591,
                    178512385,
                    101780047,
                    146363130,
                    126443991,
                    157990698,
                    176290831,
                    1023187129,
                    106933107,
                    139193812,
                    212234990,
                    1714490998,
                    197643795,
                    807015863,
                    933815613,
                    499710590,
                    120847157,
                    53909146,
                    2236667932,
                    2123309722,
                    301242089,
                    723894473,
                    237351106,
                    461558540,
                    156898322,
                    127309180,
                    173702135,
                    305650299,
                    123216717,
                    479655659,
                    126191104,
                    344055883,
                    338422004,
                    68895644,
                    86176890,
                    403231558,
                    319546754,
                    61739839,
                    283359161,
                    76831876,
                    283332261,
                    307752576,
                    279737940,
                    212351890,
                    1304313953,
                    150500965,
                    246127838,
                    582863434,
                    58687425,
                    212109195,
                    382199619,
                    41210087,
                    231657891,
                    53729194,
                    244741137,
                    42485571,
                    37778188,
                    254218729,
                    53603447,
                    160035717,
                    37091576,
                    284249832,
                    33381454,
                    184622518,
                    300983101,
                    121077868,
                    106919680,
                    136996305,
                    65719930,
                    229497852,
                    185550869,
                    54682594,
                    240580042,
                    1284942608,
                    71423324,
                    244891912,
                    132171975,
                    184706613,
                    184826429,
                    302006641,
                    330881149,
                    334733572,
                    366214458,
                    114546317,
                    448500832,
                    136676504,
                    190625045,
                    79095270,
                    273194684,
                    333146475,
                    194902696,
                    195918494,
                    248511839,
                    233671263,
                    199587884,
                    91781263,
                    383835984,
                    236060709,
                    189236868,
                    160845341,
                    588955257,
                    238350348,
                    187703102,
                    138334433,
                    445590495,
                    286739476,
                    1122364376,
                    157136970,
                    183273246,
                    164856284,
                    704171068,
                    354614964,
                    279717388,
                    195628667,
                    221752937,
                    263280370,
                    213505179,
                    130419412,
                    155795783,
                    1553497987,
                    293466523,
                    191448892,
                    85924992,
                    176103902,
                    121189256,
                    131746175,
                    244790012,
                    129314708,
                    331511413,
                    170732845,
                    179061440,
                    185236961,
                    171788484,
                    387080183,
                    264717480,
                    244928911,
                    97610446,
                    287278853,
                    887906111,
                    123473120,
                    323455692,
                    240918092,
                    191873381,
                    239411309,
                    703301727,
                    189476119,
                    277132266,
                    278920007,
                    222410722,
                    185392587,
                    202452860,
                    1608164312,
                    624101957,
                    148461629,
                    47093942,
                    380319238,
                    209106362,
                    53987404,
                    115331792,
                    225093344,
                    84697729,
                    159240673,
                    170709584,
                    154356956,
                    723043854,
                    247689123,
                    176474912,
                    235549288,
                    85559365,
                    146223492,
                    187701588,
                    154863153,
                    191333656,
                    253650850,
                    223064273,
                    170413877,
                    218320587,
                    141720999,
                    198365537,
                    177503916,
                    71095708,
                    112436403,
                    203436468,
                    93367537,
                    106249219,
                    181382590,
                    91473363,
                    121871870,
                    73513683,
                    133895612,
                    96007391
                  ],
                  "xaxis": "x",
                  "yaxis": "y"
                }
              ],
              "layout": {
                "barmode": "relative",
                "legend": {
                  "tracegroupgap": 0
                },
                "margin": {
                  "t": 60
                },
                "template": {
                  "data": {
                    "bar": [
                      {
                        "error_x": {
                          "color": "#2a3f5f"
                        },
                        "error_y": {
                          "color": "#2a3f5f"
                        },
                        "marker": {
                          "line": {
                            "color": "#E5ECF6",
                            "width": 0.5
                          },
                          "pattern": {
                            "fillmode": "overlay",
                            "size": 10,
                            "solidity": 0.2
                          }
                        },
                        "type": "bar"
                      }
                    ],
                    "barpolar": [
                      {
                        "marker": {
                          "line": {
                            "color": "#E5ECF6",
                            "width": 0.5
                          },
                          "pattern": {
                            "fillmode": "overlay",
                            "size": 10,
                            "solidity": 0.2
                          }
                        },
                        "type": "barpolar"
                      }
                    ],
                    "carpet": [
                      {
                        "aaxis": {
                          "endlinecolor": "#2a3f5f",
                          "gridcolor": "white",
                          "linecolor": "white",
                          "minorgridcolor": "white",
                          "startlinecolor": "#2a3f5f"
                        },
                        "baxis": {
                          "endlinecolor": "#2a3f5f",
                          "gridcolor": "white",
                          "linecolor": "white",
                          "minorgridcolor": "white",
                          "startlinecolor": "#2a3f5f"
                        },
                        "type": "carpet"
                      }
                    ],
                    "choropleth": [
                      {
                        "colorbar": {
                          "outlinewidth": 0,
                          "ticks": ""
                        },
                        "type": "choropleth"
                      }
                    ],
                    "contour": [
                      {
                        "colorbar": {
                          "outlinewidth": 0,
                          "ticks": ""
                        },
                        "colorscale": [
                          [
                            0,
                            "#0d0887"
                          ],
                          [
                            0.1111111111111111,
                            "#46039f"
                          ],
                          [
                            0.2222222222222222,
                            "#7201a8"
                          ],
                          [
                            0.3333333333333333,
                            "#9c179e"
                          ],
                          [
                            0.4444444444444444,
                            "#bd3786"
                          ],
                          [
                            0.5555555555555556,
                            "#d8576b"
                          ],
                          [
                            0.6666666666666666,
                            "#ed7953"
                          ],
                          [
                            0.7777777777777778,
                            "#fb9f3a"
                          ],
                          [
                            0.8888888888888888,
                            "#fdca26"
                          ],
                          [
                            1,
                            "#f0f921"
                          ]
                        ],
                        "type": "contour"
                      }
                    ],
                    "contourcarpet": [
                      {
                        "colorbar": {
                          "outlinewidth": 0,
                          "ticks": ""
                        },
                        "type": "contourcarpet"
                      }
                    ],
                    "heatmap": [
                      {
                        "colorbar": {
                          "outlinewidth": 0,
                          "ticks": ""
                        },
                        "colorscale": [
                          [
                            0,
                            "#0d0887"
                          ],
                          [
                            0.1111111111111111,
                            "#46039f"
                          ],
                          [
                            0.2222222222222222,
                            "#7201a8"
                          ],
                          [
                            0.3333333333333333,
                            "#9c179e"
                          ],
                          [
                            0.4444444444444444,
                            "#bd3786"
                          ],
                          [
                            0.5555555555555556,
                            "#d8576b"
                          ],
                          [
                            0.6666666666666666,
                            "#ed7953"
                          ],
                          [
                            0.7777777777777778,
                            "#fb9f3a"
                          ],
                          [
                            0.8888888888888888,
                            "#fdca26"
                          ],
                          [
                            1,
                            "#f0f921"
                          ]
                        ],
                        "type": "heatmap"
                      }
                    ],
                    "heatmapgl": [
                      {
                        "colorbar": {
                          "outlinewidth": 0,
                          "ticks": ""
                        },
                        "colorscale": [
                          [
                            0,
                            "#0d0887"
                          ],
                          [
                            0.1111111111111111,
                            "#46039f"
                          ],
                          [
                            0.2222222222222222,
                            "#7201a8"
                          ],
                          [
                            0.3333333333333333,
                            "#9c179e"
                          ],
                          [
                            0.4444444444444444,
                            "#bd3786"
                          ],
                          [
                            0.5555555555555556,
                            "#d8576b"
                          ],
                          [
                            0.6666666666666666,
                            "#ed7953"
                          ],
                          [
                            0.7777777777777778,
                            "#fb9f3a"
                          ],
                          [
                            0.8888888888888888,
                            "#fdca26"
                          ],
                          [
                            1,
                            "#f0f921"
                          ]
                        ],
                        "type": "heatmapgl"
                      }
                    ],
                    "histogram": [
                      {
                        "marker": {
                          "pattern": {
                            "fillmode": "overlay",
                            "size": 10,
                            "solidity": 0.2
                          }
                        },
                        "type": "histogram"
                      }
                    ],
                    "histogram2d": [
                      {
                        "colorbar": {
                          "outlinewidth": 0,
                          "ticks": ""
                        },
                        "colorscale": [
                          [
                            0,
                            "#0d0887"
                          ],
                          [
                            0.1111111111111111,
                            "#46039f"
                          ],
                          [
                            0.2222222222222222,
                            "#7201a8"
                          ],
                          [
                            0.3333333333333333,
                            "#9c179e"
                          ],
                          [
                            0.4444444444444444,
                            "#bd3786"
                          ],
                          [
                            0.5555555555555556,
                            "#d8576b"
                          ],
                          [
                            0.6666666666666666,
                            "#ed7953"
                          ],
                          [
                            0.7777777777777778,
                            "#fb9f3a"
                          ],
                          [
                            0.8888888888888888,
                            "#fdca26"
                          ],
                          [
                            1,
                            "#f0f921"
                          ]
                        ],
                        "type": "histogram2d"
                      }
                    ],
                    "histogram2dcontour": [
                      {
                        "colorbar": {
                          "outlinewidth": 0,
                          "ticks": ""
                        },
                        "colorscale": [
                          [
                            0,
                            "#0d0887"
                          ],
                          [
                            0.1111111111111111,
                            "#46039f"
                          ],
                          [
                            0.2222222222222222,
                            "#7201a8"
                          ],
                          [
                            0.3333333333333333,
                            "#9c179e"
                          ],
                          [
                            0.4444444444444444,
                            "#bd3786"
                          ],
                          [
                            0.5555555555555556,
                            "#d8576b"
                          ],
                          [
                            0.6666666666666666,
                            "#ed7953"
                          ],
                          [
                            0.7777777777777778,
                            "#fb9f3a"
                          ],
                          [
                            0.8888888888888888,
                            "#fdca26"
                          ],
                          [
                            1,
                            "#f0f921"
                          ]
                        ],
                        "type": "histogram2dcontour"
                      }
                    ],
                    "mesh3d": [
                      {
                        "colorbar": {
                          "outlinewidth": 0,
                          "ticks": ""
                        },
                        "type": "mesh3d"
                      }
                    ],
                    "parcoords": [
                      {
                        "line": {
                          "colorbar": {
                            "outlinewidth": 0,
                            "ticks": ""
                          }
                        },
                        "type": "parcoords"
                      }
                    ],
                    "pie": [
                      {
                        "automargin": true,
                        "type": "pie"
                      }
                    ],
                    "scatter": [
                      {
                        "fillpattern": {
                          "fillmode": "overlay",
                          "size": 10,
                          "solidity": 0.2
                        },
                        "type": "scatter"
                      }
                    ],
                    "scatter3d": [
                      {
                        "line": {
                          "colorbar": {
                            "outlinewidth": 0,
                            "ticks": ""
                          }
                        },
                        "marker": {
                          "colorbar": {
                            "outlinewidth": 0,
                            "ticks": ""
                          }
                        },
                        "type": "scatter3d"
                      }
                    ],
                    "scattercarpet": [
                      {
                        "marker": {
                          "colorbar": {
                            "outlinewidth": 0,
                            "ticks": ""
                          }
                        },
                        "type": "scattercarpet"
                      }
                    ],
                    "scattergeo": [
                      {
                        "marker": {
                          "colorbar": {
                            "outlinewidth": 0,
                            "ticks": ""
                          }
                        },
                        "type": "scattergeo"
                      }
                    ],
                    "scattergl": [
                      {
                        "marker": {
                          "colorbar": {
                            "outlinewidth": 0,
                            "ticks": ""
                          }
                        },
                        "type": "scattergl"
                      }
                    ],
                    "scattermapbox": [
                      {
                        "marker": {
                          "colorbar": {
                            "outlinewidth": 0,
                            "ticks": ""
                          }
                        },
                        "type": "scattermapbox"
                      }
                    ],
                    "scatterpolar": [
                      {
                        "marker": {
                          "colorbar": {
                            "outlinewidth": 0,
                            "ticks": ""
                          }
                        },
                        "type": "scatterpolar"
                      }
                    ],
                    "scatterpolargl": [
                      {
                        "marker": {
                          "colorbar": {
                            "outlinewidth": 0,
                            "ticks": ""
                          }
                        },
                        "type": "scatterpolargl"
                      }
                    ],
                    "scatterternary": [
                      {
                        "marker": {
                          "colorbar": {
                            "outlinewidth": 0,
                            "ticks": ""
                          }
                        },
                        "type": "scatterternary"
                      }
                    ],
                    "surface": [
                      {
                        "colorbar": {
                          "outlinewidth": 0,
                          "ticks": ""
                        },
                        "colorscale": [
                          [
                            0,
                            "#0d0887"
                          ],
                          [
                            0.1111111111111111,
                            "#46039f"
                          ],
                          [
                            0.2222222222222222,
                            "#7201a8"
                          ],
                          [
                            0.3333333333333333,
                            "#9c179e"
                          ],
                          [
                            0.4444444444444444,
                            "#bd3786"
                          ],
                          [
                            0.5555555555555556,
                            "#d8576b"
                          ],
                          [
                            0.6666666666666666,
                            "#ed7953"
                          ],
                          [
                            0.7777777777777778,
                            "#fb9f3a"
                          ],
                          [
                            0.8888888888888888,
                            "#fdca26"
                          ],
                          [
                            1,
                            "#f0f921"
                          ]
                        ],
                        "type": "surface"
                      }
                    ],
                    "table": [
                      {
                        "cells": {
                          "fill": {
                            "color": "#EBF0F8"
                          },
                          "line": {
                            "color": "white"
                          }
                        },
                        "header": {
                          "fill": {
                            "color": "#C8D4E3"
                          },
                          "line": {
                            "color": "white"
                          }
                        },
                        "type": "table"
                      }
                    ]
                  },
                  "layout": {
                    "annotationdefaults": {
                      "arrowcolor": "#2a3f5f",
                      "arrowhead": 0,
                      "arrowwidth": 1
                    },
                    "autotypenumbers": "strict",
                    "coloraxis": {
                      "colorbar": {
                        "outlinewidth": 0,
                        "ticks": ""
                      }
                    },
                    "colorscale": {
                      "diverging": [
                        [
                          0,
                          "#8e0152"
                        ],
                        [
                          0.1,
                          "#c51b7d"
                        ],
                        [
                          0.2,
                          "#de77ae"
                        ],
                        [
                          0.3,
                          "#f1b6da"
                        ],
                        [
                          0.4,
                          "#fde0ef"
                        ],
                        [
                          0.5,
                          "#f7f7f7"
                        ],
                        [
                          0.6,
                          "#e6f5d0"
                        ],
                        [
                          0.7,
                          "#b8e186"
                        ],
                        [
                          0.8,
                          "#7fbc41"
                        ],
                        [
                          0.9,
                          "#4d9221"
                        ],
                        [
                          1,
                          "#276419"
                        ]
                      ],
                      "sequential": [
                        [
                          0,
                          "#0d0887"
                        ],
                        [
                          0.1111111111111111,
                          "#46039f"
                        ],
                        [
                          0.2222222222222222,
                          "#7201a8"
                        ],
                        [
                          0.3333333333333333,
                          "#9c179e"
                        ],
                        [
                          0.4444444444444444,
                          "#bd3786"
                        ],
                        [
                          0.5555555555555556,
                          "#d8576b"
                        ],
                        [
                          0.6666666666666666,
                          "#ed7953"
                        ],
                        [
                          0.7777777777777778,
                          "#fb9f3a"
                        ],
                        [
                          0.8888888888888888,
                          "#fdca26"
                        ],
                        [
                          1,
                          "#f0f921"
                        ]
                      ],
                      "sequentialminus": [
                        [
                          0,
                          "#0d0887"
                        ],
                        [
                          0.1111111111111111,
                          "#46039f"
                        ],
                        [
                          0.2222222222222222,
                          "#7201a8"
                        ],
                        [
                          0.3333333333333333,
                          "#9c179e"
                        ],
                        [
                          0.4444444444444444,
                          "#bd3786"
                        ],
                        [
                          0.5555555555555556,
                          "#d8576b"
                        ],
                        [
                          0.6666666666666666,
                          "#ed7953"
                        ],
                        [
                          0.7777777777777778,
                          "#fb9f3a"
                        ],
                        [
                          0.8888888888888888,
                          "#fdca26"
                        ],
                        [
                          1,
                          "#f0f921"
                        ]
                      ]
                    },
                    "colorway": [
                      "#636efa",
                      "#EF553B",
                      "#00cc96",
                      "#ab63fa",
                      "#FFA15A",
                      "#19d3f3",
                      "#FF6692",
                      "#B6E880",
                      "#FF97FF",
                      "#FECB52"
                    ],
                    "font": {
                      "color": "#2a3f5f"
                    },
                    "geo": {
                      "bgcolor": "white",
                      "lakecolor": "white",
                      "landcolor": "#E5ECF6",
                      "showlakes": true,
                      "showland": true,
                      "subunitcolor": "white"
                    },
                    "hoverlabel": {
                      "align": "left"
                    },
                    "hovermode": "closest",
                    "mapbox": {
                      "style": "light"
                    },
                    "paper_bgcolor": "white",
                    "plot_bgcolor": "#E5ECF6",
                    "polar": {
                      "angularaxis": {
                        "gridcolor": "white",
                        "linecolor": "white",
                        "ticks": ""
                      },
                      "bgcolor": "#E5ECF6",
                      "radialaxis": {
                        "gridcolor": "white",
                        "linecolor": "white",
                        "ticks": ""
                      }
                    },
                    "scene": {
                      "xaxis": {
                        "backgroundcolor": "#E5ECF6",
                        "gridcolor": "white",
                        "gridwidth": 2,
                        "linecolor": "white",
                        "showbackground": true,
                        "ticks": "",
                        "zerolinecolor": "white"
                      },
                      "yaxis": {
                        "backgroundcolor": "#E5ECF6",
                        "gridcolor": "white",
                        "gridwidth": 2,
                        "linecolor": "white",
                        "showbackground": true,
                        "ticks": "",
                        "zerolinecolor": "white"
                      },
                      "zaxis": {
                        "backgroundcolor": "#E5ECF6",
                        "gridcolor": "white",
                        "gridwidth": 2,
                        "linecolor": "white",
                        "showbackground": true,
                        "ticks": "",
                        "zerolinecolor": "white"
                      }
                    },
                    "shapedefaults": {
                      "line": {
                        "color": "#2a3f5f"
                      }
                    },
                    "ternary": {
                      "aaxis": {
                        "gridcolor": "white",
                        "linecolor": "white",
                        "ticks": ""
                      },
                      "baxis": {
                        "gridcolor": "white",
                        "linecolor": "white",
                        "ticks": ""
                      },
                      "bgcolor": "#E5ECF6",
                      "caxis": {
                        "gridcolor": "white",
                        "linecolor": "white",
                        "ticks": ""
                      }
                    },
                    "title": {
                      "x": 0.05
                    },
                    "xaxis": {
                      "automargin": true,
                      "gridcolor": "white",
                      "linecolor": "white",
                      "ticks": "",
                      "title": {
                        "standoff": 15
                      },
                      "zerolinecolor": "white",
                      "zerolinewidth": 2
                    },
                    "yaxis": {
                      "automargin": true,
                      "gridcolor": "white",
                      "linecolor": "white",
                      "ticks": "",
                      "title": {
                        "standoff": 15
                      },
                      "zerolinecolor": "white",
                      "zerolinewidth": 2
                    }
                  }
                },
                "xaxis": {
                  "anchor": "y",
                  "domain": [
                    0,
                    1
                  ],
                  "title": {
                    "text": "streams"
                  }
                },
                "yaxis": {
                  "anchor": "x",
                  "domain": [
                    0,
                    1
                  ],
                  "title": {
                    "text": "count"
                  }
                }
              }
            }
          },
          "metadata": {},
          "output_type": "display_data"
        }
      ],
      "source": [
        "# 3.Cual es la distribución de reproducciones?\n",
        "df['streams'] = pd.to_numeric(df['streams'], errors='coerce')\n",
        "fig = px.histogram(df, x=\"streams\")\n",
        "fig.show()"
      ]
    },
    {
      "cell_type": "code",
      "execution_count": 142,
      "metadata": {},
      "outputs": [
        {
          "name": "stdout",
          "output_type": "stream",
          "text": [
            "count    3.230000e+02\n",
            "mean     4.118884e+08\n",
            "std      5.029107e+08\n",
            "min      2.762000e+03\n",
            "25%      1.103616e+08\n",
            "50%      2.233199e+08\n",
            "75%      5.352258e+08\n",
            "max      2.808097e+09\n",
            "Name: streams, dtype: float64\n",
            "count    4.930000e+02\n",
            "mean     5.063944e+08\n",
            "std      5.331516e+08\n",
            "min      1.478042e+07\n",
            "25%      1.562147e+08\n",
            "50%      2.996482e+08\n",
            "75%      6.815831e+08\n",
            "max      3.562544e+09\n",
            "Name: streams, dtype: float64\n"
          ]
        },
        {
          "data": {
            "application/vnd.plotly.v1+json": {
              "config": {
                "plotlyServerURL": "https://plot.ly"
              },
              "data": [
                {
                  "boxmean": true,
                  "boxpoints": "all",
                  "marker": {
                    "color": "red"
                  },
                  "name": "Features",
                  "type": "box",
                  "x": [
                    141381703,
                    183706234,
                    725980112,
                    553634067,
                    505671438,
                    335222234,
                    86444842,
                    200647221,
                    115364561,
                    899183384,
                    61245289,
                    52294266,
                    843957510,
                    618990393,
                    188933502,
                    354495408,
                    2808096550,
                    1109433169,
                    1047101291,
                    2565529693,
                    518745108,
                    107753850,
                    177740666,
                    111947664,
                    156338624,
                    720434240,
                    357925728,
                    674072710,
                    54266102,
                    1356565093,
                    1230675890,
                    585695368,
                    600976848,
                    39709092,
                    2665343922,
                    223633238,
                    1440757818,
                    58054811,
                    250305248,
                    144565150,
                    286400165,
                    1605224506,
                    1093605526,
                    39058561,
                    248088961,
                    90839753,
                    55842345,
                    211050784,
                    2762,
                    1953533826,
                    2355719893,
                    66902503,
                    721975598,
                    276259178,
                    54225632,
                    81102253,
                    11956641,
                    611700552,
                    1133865788,
                    233801632,
                    142095275,
                    436027885,
                    2713922350,
                    1235005533,
                    94186466,
                    367316268,
                    57312735,
                    86773632,
                    133753727,
                    463564958,
                    64533040,
                    161460990,
                    70106975,
                    113509496,
                    89933133,
                    71007139,
                    43522589,
                    37126685,
                    532336353,
                    538115192,
                    46142772,
                    401036314,
                    127026613,
                    288101651,
                    60350538,
                    46065667,
                    39666245,
                    138517666,
                    51985779,
                    57945987,
                    115010040,
                    57089066,
                    32761689,
                    573633020,
                    71573339,
                    24975653,
                    231332117,
                    50847624,
                    92035115,
                    77233241,
                    266624541,
                    162887075,
                    96180277,
                    104992946,
                    147290338,
                    158950978,
                    76910644,
                    207033255,
                    61105704,
                    198275403,
                    705469769,
                    34502215,
                    304118600,
                    90025258,
                    652704649,
                    655466831,
                    146409671,
                    95816024,
                    100409613,
                    80758350,
                    325592432,
                    58473276,
                    77377503,
                    116334601,
                    477033549,
                    294352144,
                    223582566,
                    471819764,
                    116599790,
                    497225336,
                    105062254,
                    139836056,
                    221409663,
                    58890931,
                    93438910,
                    609293408,
                    93587665,
                    1223481149,
                    263453310,
                    1435127549,
                    236857112,
                    309483971,
                    1061966512,
                    1065580332,
                    1365184,
                    184308753,
                    606361689,
                    120972253,
                    140187018,
                    556585270,
                    174006928,
                    78489819,
                    195516622,
                    972509632,
                    213438580,
                    1802514301,
                    462791599,
                    90598517,
                    460492795,
                    94005786,
                    110073250,
                    473248298,
                    155653938,
                    395591396,
                    295998468,
                    136689549,
                    110649992,
                    323437194,
                    116144341,
                    608228647,
                    180577478,
                    809306935,
                    614555082,
                    78139948,
                    322336177,
                    349585590,
                    674772936,
                    88103848,
                    1575467011,
                    91656026,
                    539595276,
                    578207856,
                    775542072,
                    656013912,
                    240684449,
                    236940480,
                    393230256,
                    673801126,
                    383550148,
                    530511203,
                    1763363713,
                    374191487,
                    436695353,
                    354065229,
                    311395144,
                    672656250,
                    686734357,
                    261414174,
                    610045621,
                    1115880852,
                    594482982,
                    566954746,
                    184937148,
                    60680939,
                    154797871,
                    261286503,
                    422691058,
                    263894529,
                    956865266,
                    427486004,
                    355219175,
                    489945871,
                    1223481149,
                    720825549,
                    593917618,
                    200972675,
                    560222750,
                    528544703,
                    2159346687,
                    651732901,
                    863756573,
                    1695712020,
                    223319934,
                    54937991,
                    258316038,
                    596152090,
                    177129919,
                    716591492,
                    1210599487,
                    843309044,
                    107255472,
                    135079152,
                    426204830,
                    327498031,
                    245400167,
                    579395142,
                    675039469,
                    252871192,
                    918915401,
                    1180896317,
                    143139338,
                    209768491,
                    64714573,
                    81350745,
                    64787943,
                    2484812918,
                    461437791,
                    759208783,
                    299634472,
                    756907987,
                    208166039,
                    94616487,
                    153240879,
                    2204080728,
                    2591224264,
                    236872197,
                    349746291,
                    273005485,
                    75476209,
                    187772591,
                    178512385,
                    176290831,
                    106933107,
                    197643795,
                    933815613,
                    120847157,
                    237351106,
                    127309180,
                    123216717,
                    479655659,
                    344055883,
                    68895644,
                    86176890,
                    319546754,
                    76831876,
                    307752576,
                    1304313953,
                    58687425,
                    212109195,
                    284249832,
                    33381454,
                    184622518,
                    300983101,
                    121077868,
                    106919680,
                    240580042,
                    136676504,
                    190625045,
                    333146475,
                    194902696,
                    248511839,
                    383835984,
                    160845341,
                    138334433,
                    286739476,
                    279717388,
                    130419412,
                    85924992,
                    176103902,
                    121189256,
                    129314708,
                    170732845,
                    287278853,
                    123473120,
                    323455692,
                    240918092,
                    191873381,
                    47093942,
                    209106362,
                    84697729,
                    159240673,
                    146223492,
                    187701588,
                    154863153,
                    191333656,
                    170413877,
                    141720999,
                    198365537,
                    71095708,
                    112436403,
                    106249219,
                    73513683,
                    133895612
                  ]
                },
                {
                  "boxmean": true,
                  "boxpoints": "all",
                  "marker": {
                    "color": "blue"
                  },
                  "name": "No features",
                  "type": "box",
                  "x": [
                    133716286,
                    140003974,
                    800840817,
                    303236322,
                    58149378,
                    95217315,
                    58255150,
                    387570742,
                    1163093654,
                    496795686,
                    363369738,
                    52135248,
                    78300654,
                    429829812,
                    127408954,
                    22581161,
                    999748277,
                    1355959075,
                    786181836,
                    176553476,
                    570515054,
                    1647990401,
                    153372011,
                    57876440,
                    256483385,
                    1214083358,
                    1755214421,
                    404562836,
                    373199958,
                    14780425,
                    39578178,
                    751134527,
                    1592909789,
                    635412045,
                    43857627,
                    2009094673,
                    39228929,
                    165484133,
                    157058870,
                    95131998,
                    685032533,
                    38411956,
                    127567540,
                    399686758,
                    983637508,
                    118482347,
                    882831184,
                    172825906,
                    1241559043,
                    29562220,
                    77309611,
                    1116995633,
                    838079900,
                    1163620694,
                    179659294,
                    36912123,
                    1205951614,
                    1791000570,
                    201660859,
                    607123776,
                    342897938,
                    601863821,
                    96273746,
                    430977451,
                    284819874,
                    2559529074,
                    681583126,
                    2594040133,
                    1687664027,
                    1089402494,
                    411747614,
                    255932395,
                    31873544,
                    1481349984,
                    2011464183,
                    621660989,
                    950906471,
                    1593270737,
                    1410088830,
                    1374581173,
                    1788326445,
                    1840364617,
                    143573775,
                    684675814,
                    1113838873,
                    1267333350,
                    3562543890,
                    1271293243,
                    265882712,
                    841749534,
                    47956378,
                    806397070,
                    1641426668,
                    2135158446,
                    350381515,
                    1264310836,
                    30343206,
                    405136812,
                    540654286,
                    397582059,
                    1479115056,
                    123124076,
                    65496046,
                    68616963,
                    232896922,
                    195576623,
                    345031710,
                    335074782,
                    76767396,
                    459276435,
                    822633917,
                    595900742,
                    175097833,
                    488386797,
                    1047480053,
                    153454328,
                    217672943,
                    457184829,
                    726434358,
                    1406111294,
                    145458418,
                    1424589568,
                    415932686,
                    988515741,
                    39893489,
                    118810253,
                    117747907,
                    293186992,
                    139681964,
                    123132751,
                    103762518,
                    91221625,
                    190490915,
                    185240616,
                    885093467,
                    137123880,
                    782369383,
                    502574952,
                    381161027,
                    466231982,
                    357580552,
                    1449799467,
                    173627354,
                    1829992958,
                    117206995,
                    52722996,
                    191945597,
                    743693613,
                    267789608,
                    449701773,
                    67070410,
                    165584767,
                    367814306,
                    156214700,
                    448843705,
                    972164968,
                    920045682,
                    2420461338,
                    244658767,
                    68216992,
                    1361425037,
                    148469433,
                    88791109,
                    125917280,
                    95623148,
                    144584800,
                    298063749,
                    166570053,
                    83021468,
                    303216294,
                    81419389,
                    156777415,
                    284908316,
                    363472647,
                    372476382,
                    56533272,
                    175399345,
                    203221468,
                    1624165576,
                    134294498,
                    70069745,
                    671365962,
                    1022258230,
                    147538971,
                    698086140,
                    723894473,
                    403097450,
                    319566866,
                    909001996,
                    124988687,
                    134255790,
                    301051721,
                    156338624,
                    309653982,
                    297328960,
                    332506354,
                    480507035,
                    122763672,
                    338564981,
                    1606986953,
                    1301799902,
                    107642809,
                    2303033973,
                    646886885,
                    872137015,
                    571386359,
                    284785823,
                    163284000,
                    246390068,
                    482257456,
                    168684524,
                    1260594497,
                    428685680,
                    1024858327,
                    838586769,
                    199386237,
                    210038833,
                    227918678,
                    826623384,
                    181831132,
                    348647203,
                    807561936,
                    663832097,
                    446390129,
                    485285717,
                    520034544,
                    476244795,
                    629173063,
                    404664135,
                    98709329,
                    110849052,
                    389771964,
                    403939487,
                    351636786,
                    73981293,
                    429504768,
                    242767149,
                    65362788,
                    67540165,
                    62019074,
                    135611421,
                    356709897,
                    301869854,
                    127027715,
                    57144458,
                    56870689,
                    317726339,
                    328207708,
                    49262961,
                    245350949,
                    178660459,
                    51641685,
                    391251368,
                    119238316,
                    116903579,
                    888046992,
                    130655803,
                    101114984,
                    53933526,
                    267758538,
                    74601456,
                    920797189,
                    1367810478,
                    63803529,
                    466214729,
                    41924466,
                    225259194,
                    287201015,
                    599770206,
                    342779426,
                    1168642797,
                    510876816,
                    108809090,
                    1143647827,
                    1256880657,
                    245095641,
                    null,
                    31959571,
                    824420218,
                    363467642,
                    1127468248,
                    247737946,
                    124407432,
                    850608354,
                    376333030,
                    516784627,
                    1608045237,
                    506778838,
                    1472799873,
                    513643924,
                    783706581,
                    1062345656,
                    851070493,
                    345903614,
                    156658366,
                    624515457,
                    777765388,
                    1138474110,
                    290228626,
                    1062956628,
                    1180094974,
                    1456081449,
                    432702334,
                    465959382,
                    2288695111,
                    2086124197,
                    1690192927,
                    71014967,
                    1806617704,
                    77337771,
                    865640097,
                    211372494,
                    608334048,
                    797402345,
                    1759567999,
                    246376690,
                    496311364,
                    500340342,
                    822239726,
                    1202722675,
                    343197054,
                    240769997,
                    421135627,
                    554875730,
                    185408548,
                    231996128,
                    1929770265,
                    498960285,
                    258714692,
                    50746620,
                    154119539,
                    181328253,
                    370068639,
                    2280566092,
                    563902868,
                    317622165,
                    203680270,
                    282883169,
                    1439191367,
                    368646862,
                    682475162,
                    546191065,
                    229473310,
                    202677468,
                    527033089,
                    394030335,
                    193443895,
                    299648208,
                    319757142,
                    346127840,
                    312622938,
                    1200808494,
                    797196073,
                    1970673297,
                    665765558,
                    263779030,
                    339473453,
                    135444283,
                    694525298,
                    421365166,
                    255120451,
                    190981339,
                    924193303,
                    305771063,
                    89566512,
                    677389855,
                    408843328,
                    101780047,
                    146363130,
                    126443991,
                    157990698,
                    1023187129,
                    139193812,
                    212234990,
                    1714490998,
                    807015863,
                    499710590,
                    53909146,
                    2236667932,
                    2123309722,
                    301242089,
                    723894473,
                    461558540,
                    156898322,
                    173702135,
                    305650299,
                    126191104,
                    338422004,
                    403231558,
                    61739839,
                    283359161,
                    283332261,
                    279737940,
                    212351890,
                    150500965,
                    246127838,
                    582863434,
                    382199619,
                    41210087,
                    231657891,
                    53729194,
                    244741137,
                    42485571,
                    37778188,
                    254218729,
                    53603447,
                    160035717,
                    37091576,
                    136996305,
                    65719930,
                    229497852,
                    185550869,
                    54682594,
                    1284942608,
                    71423324,
                    244891912,
                    132171975,
                    184706613,
                    184826429,
                    302006641,
                    330881149,
                    334733572,
                    366214458,
                    114546317,
                    448500832,
                    79095270,
                    273194684,
                    195918494,
                    233671263,
                    199587884,
                    91781263,
                    236060709,
                    189236868,
                    588955257,
                    238350348,
                    187703102,
                    445590495,
                    1122364376,
                    157136970,
                    183273246,
                    164856284,
                    704171068,
                    354614964,
                    195628667,
                    221752937,
                    263280370,
                    213505179,
                    155795783,
                    1553497987,
                    293466523,
                    191448892,
                    131746175,
                    244790012,
                    331511413,
                    179061440,
                    185236961,
                    171788484,
                    387080183,
                    264717480,
                    244928911,
                    97610446,
                    887906111,
                    239411309,
                    703301727,
                    189476119,
                    277132266,
                    278920007,
                    222410722,
                    185392587,
                    202452860,
                    1608164312,
                    624101957,
                    148461629,
                    380319238,
                    53987404,
                    115331792,
                    225093344,
                    170709584,
                    154356956,
                    723043854,
                    247689123,
                    176474912,
                    235549288,
                    85559365,
                    253650850,
                    223064273,
                    218320587,
                    177503916,
                    203436468,
                    93367537,
                    181382590,
                    91473363,
                    121871870,
                    96007391
                  ]
                }
              ],
              "layout": {
                "template": {
                  "data": {
                    "bar": [
                      {
                        "error_x": {
                          "color": "#2a3f5f"
                        },
                        "error_y": {
                          "color": "#2a3f5f"
                        },
                        "marker": {
                          "line": {
                            "color": "#E5ECF6",
                            "width": 0.5
                          },
                          "pattern": {
                            "fillmode": "overlay",
                            "size": 10,
                            "solidity": 0.2
                          }
                        },
                        "type": "bar"
                      }
                    ],
                    "barpolar": [
                      {
                        "marker": {
                          "line": {
                            "color": "#E5ECF6",
                            "width": 0.5
                          },
                          "pattern": {
                            "fillmode": "overlay",
                            "size": 10,
                            "solidity": 0.2
                          }
                        },
                        "type": "barpolar"
                      }
                    ],
                    "carpet": [
                      {
                        "aaxis": {
                          "endlinecolor": "#2a3f5f",
                          "gridcolor": "white",
                          "linecolor": "white",
                          "minorgridcolor": "white",
                          "startlinecolor": "#2a3f5f"
                        },
                        "baxis": {
                          "endlinecolor": "#2a3f5f",
                          "gridcolor": "white",
                          "linecolor": "white",
                          "minorgridcolor": "white",
                          "startlinecolor": "#2a3f5f"
                        },
                        "type": "carpet"
                      }
                    ],
                    "choropleth": [
                      {
                        "colorbar": {
                          "outlinewidth": 0,
                          "ticks": ""
                        },
                        "type": "choropleth"
                      }
                    ],
                    "contour": [
                      {
                        "colorbar": {
                          "outlinewidth": 0,
                          "ticks": ""
                        },
                        "colorscale": [
                          [
                            0,
                            "#0d0887"
                          ],
                          [
                            0.1111111111111111,
                            "#46039f"
                          ],
                          [
                            0.2222222222222222,
                            "#7201a8"
                          ],
                          [
                            0.3333333333333333,
                            "#9c179e"
                          ],
                          [
                            0.4444444444444444,
                            "#bd3786"
                          ],
                          [
                            0.5555555555555556,
                            "#d8576b"
                          ],
                          [
                            0.6666666666666666,
                            "#ed7953"
                          ],
                          [
                            0.7777777777777778,
                            "#fb9f3a"
                          ],
                          [
                            0.8888888888888888,
                            "#fdca26"
                          ],
                          [
                            1,
                            "#f0f921"
                          ]
                        ],
                        "type": "contour"
                      }
                    ],
                    "contourcarpet": [
                      {
                        "colorbar": {
                          "outlinewidth": 0,
                          "ticks": ""
                        },
                        "type": "contourcarpet"
                      }
                    ],
                    "heatmap": [
                      {
                        "colorbar": {
                          "outlinewidth": 0,
                          "ticks": ""
                        },
                        "colorscale": [
                          [
                            0,
                            "#0d0887"
                          ],
                          [
                            0.1111111111111111,
                            "#46039f"
                          ],
                          [
                            0.2222222222222222,
                            "#7201a8"
                          ],
                          [
                            0.3333333333333333,
                            "#9c179e"
                          ],
                          [
                            0.4444444444444444,
                            "#bd3786"
                          ],
                          [
                            0.5555555555555556,
                            "#d8576b"
                          ],
                          [
                            0.6666666666666666,
                            "#ed7953"
                          ],
                          [
                            0.7777777777777778,
                            "#fb9f3a"
                          ],
                          [
                            0.8888888888888888,
                            "#fdca26"
                          ],
                          [
                            1,
                            "#f0f921"
                          ]
                        ],
                        "type": "heatmap"
                      }
                    ],
                    "heatmapgl": [
                      {
                        "colorbar": {
                          "outlinewidth": 0,
                          "ticks": ""
                        },
                        "colorscale": [
                          [
                            0,
                            "#0d0887"
                          ],
                          [
                            0.1111111111111111,
                            "#46039f"
                          ],
                          [
                            0.2222222222222222,
                            "#7201a8"
                          ],
                          [
                            0.3333333333333333,
                            "#9c179e"
                          ],
                          [
                            0.4444444444444444,
                            "#bd3786"
                          ],
                          [
                            0.5555555555555556,
                            "#d8576b"
                          ],
                          [
                            0.6666666666666666,
                            "#ed7953"
                          ],
                          [
                            0.7777777777777778,
                            "#fb9f3a"
                          ],
                          [
                            0.8888888888888888,
                            "#fdca26"
                          ],
                          [
                            1,
                            "#f0f921"
                          ]
                        ],
                        "type": "heatmapgl"
                      }
                    ],
                    "histogram": [
                      {
                        "marker": {
                          "pattern": {
                            "fillmode": "overlay",
                            "size": 10,
                            "solidity": 0.2
                          }
                        },
                        "type": "histogram"
                      }
                    ],
                    "histogram2d": [
                      {
                        "colorbar": {
                          "outlinewidth": 0,
                          "ticks": ""
                        },
                        "colorscale": [
                          [
                            0,
                            "#0d0887"
                          ],
                          [
                            0.1111111111111111,
                            "#46039f"
                          ],
                          [
                            0.2222222222222222,
                            "#7201a8"
                          ],
                          [
                            0.3333333333333333,
                            "#9c179e"
                          ],
                          [
                            0.4444444444444444,
                            "#bd3786"
                          ],
                          [
                            0.5555555555555556,
                            "#d8576b"
                          ],
                          [
                            0.6666666666666666,
                            "#ed7953"
                          ],
                          [
                            0.7777777777777778,
                            "#fb9f3a"
                          ],
                          [
                            0.8888888888888888,
                            "#fdca26"
                          ],
                          [
                            1,
                            "#f0f921"
                          ]
                        ],
                        "type": "histogram2d"
                      }
                    ],
                    "histogram2dcontour": [
                      {
                        "colorbar": {
                          "outlinewidth": 0,
                          "ticks": ""
                        },
                        "colorscale": [
                          [
                            0,
                            "#0d0887"
                          ],
                          [
                            0.1111111111111111,
                            "#46039f"
                          ],
                          [
                            0.2222222222222222,
                            "#7201a8"
                          ],
                          [
                            0.3333333333333333,
                            "#9c179e"
                          ],
                          [
                            0.4444444444444444,
                            "#bd3786"
                          ],
                          [
                            0.5555555555555556,
                            "#d8576b"
                          ],
                          [
                            0.6666666666666666,
                            "#ed7953"
                          ],
                          [
                            0.7777777777777778,
                            "#fb9f3a"
                          ],
                          [
                            0.8888888888888888,
                            "#fdca26"
                          ],
                          [
                            1,
                            "#f0f921"
                          ]
                        ],
                        "type": "histogram2dcontour"
                      }
                    ],
                    "mesh3d": [
                      {
                        "colorbar": {
                          "outlinewidth": 0,
                          "ticks": ""
                        },
                        "type": "mesh3d"
                      }
                    ],
                    "parcoords": [
                      {
                        "line": {
                          "colorbar": {
                            "outlinewidth": 0,
                            "ticks": ""
                          }
                        },
                        "type": "parcoords"
                      }
                    ],
                    "pie": [
                      {
                        "automargin": true,
                        "type": "pie"
                      }
                    ],
                    "scatter": [
                      {
                        "fillpattern": {
                          "fillmode": "overlay",
                          "size": 10,
                          "solidity": 0.2
                        },
                        "type": "scatter"
                      }
                    ],
                    "scatter3d": [
                      {
                        "line": {
                          "colorbar": {
                            "outlinewidth": 0,
                            "ticks": ""
                          }
                        },
                        "marker": {
                          "colorbar": {
                            "outlinewidth": 0,
                            "ticks": ""
                          }
                        },
                        "type": "scatter3d"
                      }
                    ],
                    "scattercarpet": [
                      {
                        "marker": {
                          "colorbar": {
                            "outlinewidth": 0,
                            "ticks": ""
                          }
                        },
                        "type": "scattercarpet"
                      }
                    ],
                    "scattergeo": [
                      {
                        "marker": {
                          "colorbar": {
                            "outlinewidth": 0,
                            "ticks": ""
                          }
                        },
                        "type": "scattergeo"
                      }
                    ],
                    "scattergl": [
                      {
                        "marker": {
                          "colorbar": {
                            "outlinewidth": 0,
                            "ticks": ""
                          }
                        },
                        "type": "scattergl"
                      }
                    ],
                    "scattermapbox": [
                      {
                        "marker": {
                          "colorbar": {
                            "outlinewidth": 0,
                            "ticks": ""
                          }
                        },
                        "type": "scattermapbox"
                      }
                    ],
                    "scatterpolar": [
                      {
                        "marker": {
                          "colorbar": {
                            "outlinewidth": 0,
                            "ticks": ""
                          }
                        },
                        "type": "scatterpolar"
                      }
                    ],
                    "scatterpolargl": [
                      {
                        "marker": {
                          "colorbar": {
                            "outlinewidth": 0,
                            "ticks": ""
                          }
                        },
                        "type": "scatterpolargl"
                      }
                    ],
                    "scatterternary": [
                      {
                        "marker": {
                          "colorbar": {
                            "outlinewidth": 0,
                            "ticks": ""
                          }
                        },
                        "type": "scatterternary"
                      }
                    ],
                    "surface": [
                      {
                        "colorbar": {
                          "outlinewidth": 0,
                          "ticks": ""
                        },
                        "colorscale": [
                          [
                            0,
                            "#0d0887"
                          ],
                          [
                            0.1111111111111111,
                            "#46039f"
                          ],
                          [
                            0.2222222222222222,
                            "#7201a8"
                          ],
                          [
                            0.3333333333333333,
                            "#9c179e"
                          ],
                          [
                            0.4444444444444444,
                            "#bd3786"
                          ],
                          [
                            0.5555555555555556,
                            "#d8576b"
                          ],
                          [
                            0.6666666666666666,
                            "#ed7953"
                          ],
                          [
                            0.7777777777777778,
                            "#fb9f3a"
                          ],
                          [
                            0.8888888888888888,
                            "#fdca26"
                          ],
                          [
                            1,
                            "#f0f921"
                          ]
                        ],
                        "type": "surface"
                      }
                    ],
                    "table": [
                      {
                        "cells": {
                          "fill": {
                            "color": "#EBF0F8"
                          },
                          "line": {
                            "color": "white"
                          }
                        },
                        "header": {
                          "fill": {
                            "color": "#C8D4E3"
                          },
                          "line": {
                            "color": "white"
                          }
                        },
                        "type": "table"
                      }
                    ]
                  },
                  "layout": {
                    "annotationdefaults": {
                      "arrowcolor": "#2a3f5f",
                      "arrowhead": 0,
                      "arrowwidth": 1
                    },
                    "autotypenumbers": "strict",
                    "coloraxis": {
                      "colorbar": {
                        "outlinewidth": 0,
                        "ticks": ""
                      }
                    },
                    "colorscale": {
                      "diverging": [
                        [
                          0,
                          "#8e0152"
                        ],
                        [
                          0.1,
                          "#c51b7d"
                        ],
                        [
                          0.2,
                          "#de77ae"
                        ],
                        [
                          0.3,
                          "#f1b6da"
                        ],
                        [
                          0.4,
                          "#fde0ef"
                        ],
                        [
                          0.5,
                          "#f7f7f7"
                        ],
                        [
                          0.6,
                          "#e6f5d0"
                        ],
                        [
                          0.7,
                          "#b8e186"
                        ],
                        [
                          0.8,
                          "#7fbc41"
                        ],
                        [
                          0.9,
                          "#4d9221"
                        ],
                        [
                          1,
                          "#276419"
                        ]
                      ],
                      "sequential": [
                        [
                          0,
                          "#0d0887"
                        ],
                        [
                          0.1111111111111111,
                          "#46039f"
                        ],
                        [
                          0.2222222222222222,
                          "#7201a8"
                        ],
                        [
                          0.3333333333333333,
                          "#9c179e"
                        ],
                        [
                          0.4444444444444444,
                          "#bd3786"
                        ],
                        [
                          0.5555555555555556,
                          "#d8576b"
                        ],
                        [
                          0.6666666666666666,
                          "#ed7953"
                        ],
                        [
                          0.7777777777777778,
                          "#fb9f3a"
                        ],
                        [
                          0.8888888888888888,
                          "#fdca26"
                        ],
                        [
                          1,
                          "#f0f921"
                        ]
                      ],
                      "sequentialminus": [
                        [
                          0,
                          "#0d0887"
                        ],
                        [
                          0.1111111111111111,
                          "#46039f"
                        ],
                        [
                          0.2222222222222222,
                          "#7201a8"
                        ],
                        [
                          0.3333333333333333,
                          "#9c179e"
                        ],
                        [
                          0.4444444444444444,
                          "#bd3786"
                        ],
                        [
                          0.5555555555555556,
                          "#d8576b"
                        ],
                        [
                          0.6666666666666666,
                          "#ed7953"
                        ],
                        [
                          0.7777777777777778,
                          "#fb9f3a"
                        ],
                        [
                          0.8888888888888888,
                          "#fdca26"
                        ],
                        [
                          1,
                          "#f0f921"
                        ]
                      ]
                    },
                    "colorway": [
                      "#636efa",
                      "#EF553B",
                      "#00cc96",
                      "#ab63fa",
                      "#FFA15A",
                      "#19d3f3",
                      "#FF6692",
                      "#B6E880",
                      "#FF97FF",
                      "#FECB52"
                    ],
                    "font": {
                      "color": "#2a3f5f"
                    },
                    "geo": {
                      "bgcolor": "white",
                      "lakecolor": "white",
                      "landcolor": "#E5ECF6",
                      "showlakes": true,
                      "showland": true,
                      "subunitcolor": "white"
                    },
                    "hoverlabel": {
                      "align": "left"
                    },
                    "hovermode": "closest",
                    "mapbox": {
                      "style": "light"
                    },
                    "paper_bgcolor": "white",
                    "plot_bgcolor": "#E5ECF6",
                    "polar": {
                      "angularaxis": {
                        "gridcolor": "white",
                        "linecolor": "white",
                        "ticks": ""
                      },
                      "bgcolor": "#E5ECF6",
                      "radialaxis": {
                        "gridcolor": "white",
                        "linecolor": "white",
                        "ticks": ""
                      }
                    },
                    "scene": {
                      "xaxis": {
                        "backgroundcolor": "#E5ECF6",
                        "gridcolor": "white",
                        "gridwidth": 2,
                        "linecolor": "white",
                        "showbackground": true,
                        "ticks": "",
                        "zerolinecolor": "white"
                      },
                      "yaxis": {
                        "backgroundcolor": "#E5ECF6",
                        "gridcolor": "white",
                        "gridwidth": 2,
                        "linecolor": "white",
                        "showbackground": true,
                        "ticks": "",
                        "zerolinecolor": "white"
                      },
                      "zaxis": {
                        "backgroundcolor": "#E5ECF6",
                        "gridcolor": "white",
                        "gridwidth": 2,
                        "linecolor": "white",
                        "showbackground": true,
                        "ticks": "",
                        "zerolinecolor": "white"
                      }
                    },
                    "shapedefaults": {
                      "line": {
                        "color": "#2a3f5f"
                      }
                    },
                    "ternary": {
                      "aaxis": {
                        "gridcolor": "white",
                        "linecolor": "white",
                        "ticks": ""
                      },
                      "baxis": {
                        "gridcolor": "white",
                        "linecolor": "white",
                        "ticks": ""
                      },
                      "bgcolor": "#E5ECF6",
                      "caxis": {
                        "gridcolor": "white",
                        "linecolor": "white",
                        "ticks": ""
                      }
                    },
                    "title": {
                      "x": 0.05
                    },
                    "xaxis": {
                      "automargin": true,
                      "gridcolor": "white",
                      "linecolor": "white",
                      "ticks": "",
                      "title": {
                        "standoff": 15
                      },
                      "zerolinecolor": "white",
                      "zerolinewidth": 2
                    },
                    "yaxis": {
                      "automargin": true,
                      "gridcolor": "white",
                      "linecolor": "white",
                      "ticks": "",
                      "title": {
                        "standoff": 15
                      },
                      "zerolinecolor": "white",
                      "zerolinewidth": 2
                    }
                  }
                },
                "title": {
                  "text": "Streams distribution"
                },
                "yaxis": {
                  "title": {
                    "text": ""
                  }
                }
              }
            }
          },
          "metadata": {},
          "output_type": "display_data"
        }
      ],
      "source": [
        "#d) ¿Existe una diferencia signitificativa en las reproducciones entre las canciones de un solo artista y las de más de uno? **(0.5 puntos)**\n",
        "df['features'] = df['artist_count'] > 1\n",
        "df.head() \n",
        "\n",
        "# Distribuciones para cada grupo \n",
        "print(df[df['features'] == True]['streams'].describe())\n",
        "print(df[df['features'] == False]['streams'].describe())\n",
        "\n",
        "# Boxplot distribuciones \n",
        "fig = go.Figure()\n",
        "\n",
        "fig.add_trace(\n",
        "    go.Box(\n",
        "        x = df[df['features'] == True]['streams'], \n",
        "        marker_color = 'red', \n",
        "        name=\"Features\", \n",
        "        boxpoints='all', \n",
        "        boxmean=True\n",
        "    )\n",
        ")\n",
        "\n",
        "fig.add_trace(\n",
        "    go.Box(\n",
        "        x = df[df['features'] == False]['streams'], \n",
        "        marker_color= \"blue\", \n",
        "        name=\"No features\",\n",
        "        boxpoints= 'all', \n",
        "        boxmean=True\n",
        "    )\n",
        ")\n",
        "\n",
        "fig.update_layout(title = 'Streams distribution', yaxis_title = \"\")\n",
        "fig.show()"
      ]
    },
    {
      "cell_type": "code",
      "execution_count": 149,
      "metadata": {},
      "outputs": [
        {
          "data": {
            "application/vnd.plotly.v1+json": {
              "config": {
                "plotlyServerURL": "https://plot.ly"
              },
              "data": [
                {
                  "coloraxis": "coloraxis",
                  "hovertemplate": "x: %{x}<br>y: %{y}<br>color: %{z}<extra></extra>",
                  "name": "0",
                  "texttemplate": "%{z}",
                  "type": "heatmap",
                  "x": [
                    "artist_count",
                    "released_year",
                    "released_month",
                    "released_day",
                    "in_spotify_playlists",
                    "in_spotify_charts",
                    "streams",
                    "in_apple_playlists",
                    "in_apple_charts",
                    "in_deezer_playlists",
                    "in_deezer_charts",
                    "in_shazam_charts",
                    "bpm",
                    "danceability_%",
                    "valence_%",
                    "energy_%",
                    "acousticness_%",
                    "instrumentalness_%",
                    "liveness_%",
                    "speechiness_%",
                    "features",
                    "key_A",
                    "key_A#",
                    "key_B",
                    "key_C#",
                    "key_D",
                    "key_D#",
                    "key_E",
                    "key_F",
                    "key_F#",
                    "key_G",
                    "key_G#",
                    "mode_Major",
                    "mode_Minor"
                  ],
                  "xaxis": "x",
                  "y": [
                    "artist_count",
                    "released_year",
                    "released_month",
                    "released_day",
                    "in_spotify_playlists",
                    "in_spotify_charts",
                    "streams",
                    "in_apple_playlists",
                    "in_apple_charts",
                    "in_deezer_playlists",
                    "in_deezer_charts",
                    "in_shazam_charts",
                    "bpm",
                    "danceability_%",
                    "valence_%",
                    "energy_%",
                    "acousticness_%",
                    "instrumentalness_%",
                    "liveness_%",
                    "speechiness_%",
                    "features",
                    "key_A",
                    "key_A#",
                    "key_B",
                    "key_C#",
                    "key_D",
                    "key_D#",
                    "key_E",
                    "key_F",
                    "key_F#",
                    "key_G",
                    "key_G#",
                    "mode_Major",
                    "mode_Minor"
                  ],
                  "yaxis": "y",
                  "z": [
                    [
                      1,
                      0.0735643557900106,
                      0.033856605368275776,
                      -0.014761747140203497,
                      -0.08522637531717166,
                      -0.008570061483346643,
                      -0.1097599524043898,
                      -0.017024010627522523,
                      -0.07527140676231472,
                      -0.0681461764386944,
                      0.020584939685693523,
                      -0.04445421610508266,
                      -0.058843659371359144,
                      0.2140780153629738,
                      0.12365013527243766,
                      0.13752971396573355,
                      -0.09470350886704695,
                      -0.06126890027505064,
                      0.03435375353058178,
                      0.13148592291378983,
                      0.8020761968064459,
                      0.023206726487511133,
                      -0.04036556438547623,
                      0.05869691412510484,
                      0.04295677657034603,
                      -0.03471608339326654,
                      -0.0002820000169539866,
                      -0.04054325352667237,
                      -0.015452383921586621,
                      -0.005968041358034487,
                      0.02807142295672741,
                      -0.033302448165658534,
                      -0.11163162383884359,
                      0.11163162383884358
                    ],
                    [
                      0.0735643557900106,
                      1,
                      0.07643869857239981,
                      0.16637665154446765,
                      -0.3907293115530166,
                      0.06867872145994551,
                      -0.24272579089008642,
                      -0.20147449681379845,
                      0.0034787869408798265,
                      -0.23436363453966,
                      0.09574147745073561,
                      0.024319112280624892,
                      -0.011569547380703062,
                      0.21503163783892068,
                      -0.047642798848288384,
                      0.07888637478143104,
                      -0.13322358852373312,
                      -0.02395830692694295,
                      0.008488833640366763,
                      0.12988657481527743,
                      0.10944385379390209,
                      -0.018268260960252875,
                      0.034222069292180364,
                      0.04364435660285548,
                      -0.02037171646680423,
                      -0.03490876862175944,
                      -0.019082371251706396,
                      0.022716323541324215,
                      0.028662038694950962,
                      -0.03236903835157721,
                      -0.03366816301587345,
                      0.031519337715891264,
                      -0.09142887646641862,
                      0.09142887646641866
                    ],
                    [
                      0.033856605368275776,
                      0.07643869857239981,
                      1,
                      0.0577841849237184,
                      -0.12240731512240241,
                      -0.05018640797434948,
                      -0.04604125957096039,
                      -0.03402850515527687,
                      -0.017812891521966648,
                      -0.044671309822031505,
                      0.006942239331867263,
                      -0.09754717539686569,
                      -0.0493999786437421,
                      -0.05480810569147382,
                      -0.11035481332072888,
                      -0.08689743360147519,
                      0.05504626589857863,
                      0.03548115743375766,
                      0.0013290126741325953,
                      0.042127027471914116,
                      0.020382805246358108,
                      -0.03687924717144473,
                      -0.005485928452531994,
                      0.0030346132599265306,
                      -0.007010092243051606,
                      -0.0028372226820184915,
                      0.009932812528427952,
                      0.04094686162442555,
                      -0.009554952294997426,
                      -0.03854744871276678,
                      0.03413879372917809,
                      0.01509045773413044,
                      0.08185159156959589,
                      -0.08185159156959594
                    ],
                    [
                      -0.014761747140203497,
                      0.16637665154446765,
                      0.0577841849237184,
                      1,
                      -0.10761588105011606,
                      0.01606797898531504,
                      -0.025116479922823516,
                      -0.011915957650662837,
                      0.007726559219350334,
                      -0.027741474933928686,
                      0.05542631800561091,
                      0.029005749517199853,
                      -0.03339376399725477,
                      0.08424386875772844,
                      0.0627513964277264,
                      0.047318310687688075,
                      0.000785350093012633,
                      0.023039799533547588,
                      -0.011094475833796878,
                      -0.014602271061557152,
                      0.012941835668055,
                      -0.06940239543191089,
                      0.007197955243230694,
                      0.02766413711990997,
                      -0.03298059919304349,
                      0.002095965914105262,
                      0.017580722249893183,
                      0.004024232308833749,
                      -0.036543214684180106,
                      0.04970325526315506,
                      0.04086598272520069,
                      0.002502591912507471,
                      -0.017694199487852447,
                      0.017694199487852474
                    ],
                    [
                      -0.08522637531717166,
                      -0.3907293115530166,
                      -0.12240731512240241,
                      -0.10761588105011606,
                      1,
                      0.14134295883900183,
                      0.7804038503763728,
                      0.6883161979283439,
                      0.21567604568348178,
                      0.7884139797627004,
                      0.10128346186874354,
                      0.1077473114914116,
                      -0.03448250366594356,
                      -0.09698077610744844,
                      -0.029822793802813517,
                      0.035874838704220646,
                      -0.06463303527122205,
                      -0.0245697139461465,
                      -0.051972862448203296,
                      -0.07761034200340308,
                      -0.08397689791319135,
                      -0.07057359441918819,
                      -0.004638507529457011,
                      -0.02805101497194835,
                      0.08344533987081726,
                      0.027482316503356665,
                      0.03153852446485059,
                      -0.0033262907199668634,
                      -0.019690678009096792,
                      0.018837337444695696,
                      -0.015602534155405216,
                      -0.023530580745468505,
                      0.07229184584050878,
                      -0.07229184584050881
                    ],
                    [
                      -0.008570061483346643,
                      0.06867872145994551,
                      -0.05018640797434948,
                      0.01606797898531504,
                      0.14134295883900183,
                      1,
                      0.21403395317007556,
                      0.20820175691115383,
                      0.5568043244366212,
                      0.11888781679337666,
                      0.56616140561665,
                      0.5565154061930515,
                      0.028830466136862198,
                      0.05133788325737562,
                      0.05003993254209327,
                      0.10496336396034457,
                      -0.0728525875661891,
                      -0.005813736127305587,
                      -0.026581690296990222,
                      -0.09410226165435152,
                      0.04369354857658013,
                      -0.05681145362170351,
                      -0.02906711720746731,
                      0.029809051627393505,
                      0.06316952115398809,
                      0.029699581376099984,
                      -0.05130008161846249,
                      -0.01718194646968316,
                      0.06294998446827929,
                      -0.005164068922380548,
                      0.007168738099012975,
                      -0.07290953716867378,
                      -0.04358797442516466,
                      0.04358797442516442
                    ],
                    [
                      -0.1097599524043898,
                      -0.24272579089008642,
                      -0.04604125957096039,
                      -0.025116479922823516,
                      0.7804038503763728,
                      0.21403395317007556,
                      1,
                      0.7353207638877904,
                      0.2691374652573007,
                      0.7129525034675761,
                      0.18432853415873934,
                      0.043512262768445546,
                      -0.02569384650556196,
                      -0.09326818058629731,
                      -0.051013689528639834,
                      -0.036499273297597605,
                      -0.0057509692186726155,
                      -0.03303871464204409,
                      -0.05666398078034252,
                      -0.09996806352926553,
                      -0.08840020521027003,
                      -0.061382765459380415,
                      0.014547423483266817,
                      0.001899208467060847,
                      0.06327730026511416,
                      0.024713061296722266,
                      0.012393934295188825,
                      0.034701683563662024,
                      -0.008855639531686032,
                      -0.02683749338079711,
                      -0.036103224182715374,
                      -0.01981046598100204,
                      0.06392017583020325,
                      -0.06392017583020322
                    ],
                    [
                      -0.017024010627522523,
                      -0.20147449681379845,
                      -0.03402850515527687,
                      -0.011915957650662837,
                      0.6883161979283439,
                      0.20820175691115383,
                      0.7353207638877904,
                      1,
                      0.364760680543358,
                      0.6683784353742989,
                      0.3268151634305646,
                      0.1538330468732136,
                      0.005558273668496486,
                      -0.012586276582145424,
                      0.041253415530517104,
                      0.03999184961088332,
                      -0.07096542627558353,
                      -0.05437237344712564,
                      -0.06498564712323433,
                      -0.09764713653906995,
                      0.009455477034586912,
                      -0.0771485387080078,
                      -0.01643209123158596,
                      0.007808095285509879,
                      0.07682339454263784,
                      0.04051785536854057,
                      -0.007722219238910876,
                      0.008239280583404701,
                      -0.04912837526984783,
                      -0.019231643892876727,
                      0.0040682332543695455,
                      0.011418410624049993,
                      0.08594737228099818,
                      -0.08594737228099818
                    ],
                    [
                      -0.07527140676231472,
                      0.0034787869408798265,
                      -0.017812891521966648,
                      0.007726559219350334,
                      0.21567604568348178,
                      0.5568043244366212,
                      0.2691374652573007,
                      0.364760680543358,
                      1,
                      0.19430587094116625,
                      0.3665812659988011,
                      0.42697154828585987,
                      0.0270574150733873,
                      -0.026137882226427704,
                      0.04294056390652687,
                      0.12935400827431776,
                      -0.09678056639893745,
                      -0.0003805257828577765,
                      -0.007160653281334581,
                      -0.14647234378250207,
                      -0.015160012628285353,
                      -0.012246954515619511,
                      -0.043882926949796563,
                      -0.0008856890939665681,
                      0.0020266150025901116,
                      0.003956010551421817,
                      0.028610927431085727,
                      0.051644246937384085,
                      0.017364415876202535,
                      -0.0005050540455385381,
                      0.01962506694073671,
                      -0.05666818701976772,
                      -0.018144520172883854,
                      0.018144520172883694
                    ],
                    [
                      -0.0681461764386944,
                      -0.23436363453966,
                      -0.044671309822031505,
                      -0.027741474933928686,
                      0.7884139797627004,
                      0.11888781679337666,
                      0.7129525034675761,
                      0.6683784353742989,
                      0.19430587094116625,
                      1,
                      0.2256948066470102,
                      0.10553764401780673,
                      0.03335314636496087,
                      -0.10702181783760657,
                      -0.05355431511862762,
                      -0.04210471834953957,
                      0.042387814283447046,
                      0.02808278999088073,
                      0.014366412193127752,
                      -0.10930559042125752,
                      -0.06687339998744854,
                      -0.08266302202036531,
                      0.015489590957420333,
                      0.0252506129661378,
                      0.05512875549695163,
                      0.060516556330719354,
                      -0.008610665013912527,
                      0.021018728347749007,
                      -0.013102122298779684,
                      -0.035320813685516775,
                      -0.024427429612899274,
                      -0.021337912946019652,
                      0.027800986433296093,
                      -0.027800986433296083
                    ],
                    [
                      0.020584939685693523,
                      0.09574147745073561,
                      0.006942239331867263,
                      0.05542631800561091,
                      0.10128346186874354,
                      0.56616140561665,
                      0.18432853415873934,
                      0.3268151634305646,
                      0.3665812659988011,
                      0.2256948066470102,
                      1,
                      0.36176014957012237,
                      0.021730449294060643,
                      0.0814139804585954,
                      0.07316890973692117,
                      0.10434996940571484,
                      -0.035135484706235884,
                      0.003502525292610185,
                      0.0036498526119137704,
                      -0.08152255134603538,
                      0.08313462138222308,
                      -0.08544656441138235,
                      0.0182567854719123,
                      0.03279420146427987,
                      0.03919036197279416,
                      0.014495464042044796,
                      -0.01996872622990694,
                      -0.050539553451625814,
                      0.035096657203344046,
                      -0.039306007801275356,
                      0.04464888998497096,
                      -0.01664215162896115,
                      -0.02699776311447702,
                      0.02699776311447688
                    ],
                    [
                      -0.04445421610508266,
                      0.024319112280624892,
                      -0.09754717539686569,
                      0.029005749517199853,
                      0.1077473114914116,
                      0.5565154061930515,
                      0.043512262768445546,
                      0.1538330468732136,
                      0.42697154828585987,
                      0.10553764401780673,
                      0.36176014957012237,
                      1,
                      0.07436485425241222,
                      -0.01637539210087272,
                      -0.03334610598622137,
                      0.09386511428051038,
                      -0.06915541794005374,
                      -0.013616767564292115,
                      -0.05864080972515701,
                      -0.07747597866281333,
                      -0.00167985476468737,
                      0.021354294944344338,
                      -0.024818480414331424,
                      -0.035690836674231535,
                      -0.00013227601720431698,
                      0.027764180775186005,
                      0.07136148519624366,
                      -0.017531911398963856,
                      -0.0004063545961361607,
                      -0.006129678435601485,
                      0.026230392667484073,
                      -0.04145213370753821,
                      0.011854274757140378,
                      -0.011854274757140048
                    ],
                    [
                      -0.058843659371359144,
                      -0.011569547380703062,
                      -0.0493999786437421,
                      -0.03339376399725477,
                      -0.03448250366594356,
                      0.028830466136862198,
                      -0.02569384650556196,
                      0.005558273668496486,
                      0.0270574150733873,
                      0.03335314636496087,
                      0.021730449294060643,
                      0.07436485425241222,
                      1,
                      -0.1481740929493288,
                      0.0291692537137389,
                      0.013362948465509006,
                      -0.010766961485287567,
                      -0.003406877716782317,
                      -0.005816925875816951,
                      0.03824773302270688,
                      -0.05144665589867613,
                      0.06154840417835873,
                      -0.03211118831126363,
                      -0.0020148092863375286,
                      -0.00875337280196173,
                      0.007971905908650637,
                      -0.012935098002372263,
                      -0.004427391499023026,
                      -0.022998331862817228,
                      0.02360227413843357,
                      -0.006557444124378758,
                      -0.005989247434550328,
                      0.026528157359770297,
                      -0.026528157359770307
                    ],
                    [
                      0.2140780153629738,
                      0.21503163783892068,
                      -0.05480810569147382,
                      0.08424386875772844,
                      -0.09698077610744844,
                      0.05133788325737562,
                      -0.09326818058629731,
                      -0.012586276582145424,
                      -0.026137882226427704,
                      -0.10702181783760657,
                      0.0814139804585954,
                      -0.01637539210087272,
                      -0.1481740929493288,
                      1,
                      0.38972864666412954,
                      0.15797028420481965,
                      -0.24045402642431363,
                      -0.10214371529551293,
                      -0.1005785809594551,
                      0.20118919973086857,
                      0.2468539474716645,
                      -0.06861539085905198,
                      0.03143175257420861,
                      0.03648364840735673,
                      0.03978947851705082,
                      0.006085992262397807,
                      -0.019396475839522493,
                      -0.04287817859903079,
                      -0.012725275320970099,
                      0.019782863304900967,
                      0.012286263923217895,
                      -0.018104617042835617,
                      -0.14575142775187885,
                      0.14575142775187883
                    ],
                    [
                      0.12365013527243766,
                      -0.047642798848288384,
                      -0.11035481332072888,
                      0.0627513964277264,
                      -0.029822793802813517,
                      0.05003993254209327,
                      -0.051013689528639834,
                      0.041253415530517104,
                      0.04294056390652687,
                      -0.05355431511862762,
                      0.07316890973692117,
                      -0.03334610598622137,
                      0.0291692537137389,
                      0.38972864666412954,
                      1,
                      0.3497358908579402,
                      -0.06407244111484466,
                      -0.14703242621617882,
                      0.00014224966137209592,
                      0.035703597674781345,
                      0.1180069960229341,
                      -0.043869702347259946,
                      0.024808499726054856,
                      0.02066537943708393,
                      -0.013153560469911028,
                      -0.026775349058929025,
                      -0.03034203248347831,
                      -0.11776667544304446,
                      0.019570886858620927,
                      0.10722833814074097,
                      0.02976796927396862,
                      0.011519869041145424,
                      -0.07272150727375092,
                      0.07272150727375096
                    ],
                    [
                      0.13752971396573355,
                      0.07888637478143104,
                      -0.08689743360147519,
                      0.047318310687688075,
                      0.035874838704220646,
                      0.10496336396034457,
                      -0.036499273297597605,
                      0.03999184961088332,
                      0.12935400827431776,
                      -0.04210471834953957,
                      0.10434996940571484,
                      0.09386511428051038,
                      0.013362948465509006,
                      0.15797028420481965,
                      0.3497358908579402,
                      1,
                      -0.5526370327713029,
                      -0.05166229370550225,
                      0.11124024151372898,
                      -0.026880117385077694,
                      0.14617995856473937,
                      -0.08630009348231825,
                      -0.025770341091263294,
                      0.0692506266671691,
                      0.06478903044586558,
                      -0.018437779868964808,
                      -0.013692736962399858,
                      -0.03771011849694434,
                      -0.0045652017967222095,
                      0.042383346480077785,
                      -0.02271082493866128,
                      0.008269251067628105,
                      -0.07077432170464047,
                      0.07077432170464047
                    ],
                    [
                      -0.09470350886704695,
                      -0.13322358852373312,
                      0.05504626589857863,
                      0.000785350093012633,
                      -0.06463303527122205,
                      -0.0728525875661891,
                      -0.0057509692186726155,
                      -0.07096542627558353,
                      -0.09678056639893745,
                      0.042387814283447046,
                      -0.035135484706235884,
                      -0.06915541794005374,
                      -0.010766961485287567,
                      -0.24045402642431363,
                      -0.06407244111484466,
                      -0.5526370327713029,
                      1,
                      0.04669969011482176,
                      -0.04611200382927883,
                      -0.017819600566405507,
                      -0.08556310933051284,
                      0.033458598677752256,
                      -0.0032683063378081212,
                      -0.03173705225988238,
                      -0.09216713342399094,
                      0.011919424669687971,
                      0.025748069062929535,
                      0.05716483474679909,
                      0.02666518947749854,
                      0.04662488938639483,
                      0.01846590178171563,
                      -0.05706239889857545,
                      0.06490024189981669,
                      -0.06490024189981668
                    ],
                    [
                      -0.06126890027505064,
                      -0.02395830692694295,
                      0.03548115743375766,
                      0.023039799533547588,
                      -0.0245697139461465,
                      -0.005813736127305587,
                      -0.03303871464204409,
                      -0.05437237344712564,
                      -0.0003805257828577765,
                      0.02808278999088073,
                      0.003502525292610185,
                      -0.013616767564292115,
                      -0.003406877716782317,
                      -0.10214371529551293,
                      -0.14703242621617882,
                      -0.05166229370550225,
                      0.04669969011482176,
                      1,
                      -0.04462580663391406,
                      -0.0909940870331707,
                      -0.09675127377998752,
                      0.029725881699780708,
                      -0.04305392386729123,
                      -0.01535662513643132,
                      -0.01760955392932213,
                      -0.008459440502275295,
                      0.033939847598731025,
                      0.025400072090965592,
                      0.03854530780305284,
                      -0.038533653209822855,
                      -0.00026413374376813747,
                      0.0047888201544237915,
                      -0.008413727509693405,
                      0.008413727509693382
                    ],
                    [
                      0.03435375353058178,
                      0.008488833640366763,
                      0.0013290126741325953,
                      -0.011094475833796878,
                      -0.051972862448203296,
                      -0.026581690296990222,
                      -0.05666398078034252,
                      -0.06498564712323433,
                      -0.007160653281334581,
                      0.014366412193127752,
                      0.0036498526119137704,
                      -0.05864080972515701,
                      -0.005816925875816951,
                      -0.1005785809594551,
                      0.00014224966137209592,
                      0.11124024151372898,
                      -0.04611200382927883,
                      -0.04462580663391406,
                      1,
                      -0.022806600112948622,
                      0.050950503723390515,
                      0.0035340055181816727,
                      -0.048469483856010714,
                      -0.011145469712617656,
                      0.01237220505245121,
                      0.013795382792733256,
                      0.000929384348669924,
                      0.009795169246001751,
                      0.0012621545287598047,
                      0.015073439603386852,
                      -0.009018219832189475,
                      0.005226136302229957,
                      0.009578239403326142,
                      -0.009578239403326123
                    ],
                    [
                      0.13148592291378983,
                      0.12988657481527743,
                      0.042127027471914116,
                      -0.014602271061557152,
                      -0.07761034200340308,
                      -0.09410226165435152,
                      -0.09996806352926553,
                      -0.09764713653906995,
                      -0.14647234378250207,
                      -0.10930559042125752,
                      -0.08152255134603538,
                      -0.07747597866281333,
                      0.03824773302270688,
                      0.20118919973086857,
                      0.035703597674781345,
                      -0.026880117385077694,
                      -0.017819600566405507,
                      -0.0909940870331707,
                      -0.022806600112948622,
                      1,
                      0.16152370491109744,
                      -0.0333394243832704,
                      0.043067847519842856,
                      0.005936540828895039,
                      0.0670129835704697,
                      -0.034276572127855946,
                      0.023710101214477246,
                      -0.034284314981135884,
                      -0.023228398211145616,
                      -0.0035837997126515132,
                      -0.05900152586122155,
                      0.04838200644792892,
                      -0.09012583279695136,
                      0.09012583279695144
                    ],
                    [
                      0.8020761968064459,
                      0.10944385379390209,
                      0.020382805246358108,
                      0.012941835668055,
                      -0.08397689791319135,
                      0.04369354857658013,
                      -0.08840020521027003,
                      0.009455477034586912,
                      -0.015160012628285353,
                      -0.06687339998744854,
                      0.08313462138222308,
                      -0.00167985476468737,
                      -0.05144665589867613,
                      0.2468539474716645,
                      0.1180069960229341,
                      0.14617995856473937,
                      -0.08556310933051284,
                      -0.09675127377998752,
                      0.050950503723390515,
                      0.16152370491109744,
                      1,
                      0.017154117068715065,
                      -0.05738877944196785,
                      0.10760226239426629,
                      0.05423959015916967,
                      -0.01565115657155673,
                      -0.01145361539918946,
                      -0.05150670156726162,
                      -0.035672176907847915,
                      0.015493346750349577,
                      -0.007772292730436529,
                      -0.03775626731151243,
                      -0.08911644889885999,
                      0.08911644889885985
                    ],
                    [
                      0.023206726487511133,
                      -0.018268260960252875,
                      -0.03687924717144473,
                      -0.06940239543191089,
                      -0.07057359441918819,
                      -0.05681145362170351,
                      -0.061382765459380415,
                      -0.0771485387080078,
                      -0.012246954515619511,
                      -0.08266302202036531,
                      -0.08544656441138235,
                      0.021354294944344338,
                      0.06154840417835873,
                      -0.06861539085905198,
                      -0.043869702347259946,
                      -0.08630009348231825,
                      0.033458598677752256,
                      0.029725881699780708,
                      0.0035340055181816727,
                      -0.0333394243832704,
                      0.017154117068715065,
                      1,
                      -0.082882648361873,
                      -0.09951516406628291,
                      -0.12486482842157,
                      -0.10022702574241782,
                      -0.060232795758847026,
                      -0.08606987329396788,
                      -0.10650204742972984,
                      -0.09369868740973865,
                      -0.10922250843243965,
                      -0.1051268576143008,
                      0.015030107489762027,
                      -0.015030107489762043
                    ],
                    [
                      -0.04036556438547623,
                      0.034222069292180364,
                      -0.005485928452531994,
                      0.007197955243230694,
                      -0.004638507529457011,
                      -0.02906711720746731,
                      0.014547423483266817,
                      -0.01643209123158596,
                      -0.043882926949796563,
                      0.015489590957420333,
                      0.0182567854719123,
                      -0.024818480414331424,
                      -0.03211118831126363,
                      0.03143175257420861,
                      0.024808499726054856,
                      -0.025770341091263294,
                      -0.0032683063378081212,
                      -0.04305392386729123,
                      -0.048469483856010714,
                      0.043067847519842856,
                      -0.05738877944196785,
                      -0.082882648361873,
                      1,
                      -0.08666292874767521,
                      -0.10873872168247359,
                      -0.08728285454788788,
                      -0.05245381983840617,
                      -0.07495407726633913,
                      -0.09274746652416357,
                      -0.08159764139395238,
                      -0.09511658403756722,
                      -0.09154988042653446,
                      -0.05333584059190225,
                      0.05333584059190224
                    ],
                    [
                      0.05869691412510484,
                      0.04364435660285548,
                      0.0030346132599265306,
                      0.02766413711990997,
                      -0.02805101497194835,
                      0.029809051627393505,
                      0.001899208467060847,
                      0.007808095285509879,
                      -0.0008856890939665681,
                      0.0252506129661378,
                      0.03279420146427987,
                      -0.035690836674231535,
                      -0.0020148092863375286,
                      0.03648364840735673,
                      0.02066537943708393,
                      0.0692506266671691,
                      -0.03173705225988238,
                      -0.01535662513643132,
                      -0.011145469712617656,
                      0.005936540828895039,
                      0.10760226239426629,
                      -0.09951516406628291,
                      -0.08666292874767521,
                      1,
                      -0.13055991745513626,
                      -0.1047983837652348,
                      -0.06298001560388694,
                      -0.08999552311636604,
                      -0.1113596094032393,
                      -0.09797228770112841,
                      -0.11420415072399102,
                      -0.10992169713397024,
                      -0.08089195711125013,
                      0.08089195711125009
                    ],
                    [
                      0.04295677657034603,
                      -0.02037171646680423,
                      -0.007010092243051606,
                      -0.03298059919304349,
                      0.08344533987081726,
                      0.06316952115398809,
                      0.06327730026511416,
                      0.07682339454263784,
                      0.0020266150025901116,
                      0.05512875549695163,
                      0.03919036197279416,
                      -0.00013227601720431698,
                      -0.00875337280196173,
                      0.03978947851705082,
                      -0.013153560469911028,
                      0.06478903044586558,
                      -0.09216713342399094,
                      -0.01760955392932213,
                      0.01237220505245121,
                      0.0670129835704697,
                      0.05423959015916967,
                      -0.12486482842157,
                      -0.10873872168247359,
                      -0.13055991745513626,
                      1,
                      -0.13149385151983595,
                      -0.07902302042258894,
                      -0.11292023339427767,
                      -0.1397264291497032,
                      -0.12292893257676818,
                      -0.1432955652435465,
                      -0.13792223508066687,
                      0.03806519661757037,
                      -0.03806519661757037
                    ],
                    [
                      -0.03471608339326654,
                      -0.03490876862175944,
                      -0.0028372226820184915,
                      0.002095965914105262,
                      0.027482316503356665,
                      0.029699581376099984,
                      0.024713061296722266,
                      0.04051785536854057,
                      0.003956010551421817,
                      0.060516556330719354,
                      0.014495464042044796,
                      0.027764180775186005,
                      0.007971905908650637,
                      0.006085992262397807,
                      -0.026775349058929025,
                      -0.018437779868964808,
                      0.011919424669687971,
                      -0.008459440502275295,
                      0.013795382792733256,
                      -0.034276572127855946,
                      -0.01565115657155673,
                      -0.10022702574241782,
                      -0.08728285454788788,
                      -0.1047983837652348,
                      -0.13149385151983595,
                      1,
                      -0.06343053045648703,
                      -0.09063928795895422,
                      -0.11215619793270946,
                      -0.09867311272203926,
                      -0.11502108710668957,
                      -0.11070799984772832,
                      0.16627684782880067,
                      -0.16627684782880053
                    ],
                    [
                      -0.0002820000169539866,
                      -0.019082371251706396,
                      0.009932812528427952,
                      0.017580722249893183,
                      0.03153852446485059,
                      -0.05130008161846249,
                      0.012393934295188825,
                      -0.007722219238910876,
                      0.028610927431085727,
                      -0.008610665013912527,
                      -0.01996872622990694,
                      0.07136148519624366,
                      -0.012935098002372263,
                      -0.019396475839522493,
                      -0.03034203248347831,
                      -0.013692736962399858,
                      0.025748069062929535,
                      0.033939847598731025,
                      0.000929384348669924,
                      0.023710101214477246,
                      -0.01145361539918946,
                      -0.060232795758847026,
                      -0.05245381983840617,
                      -0.06298001560388694,
                      -0.07902302042258894,
                      -0.06343053045648703,
                      1,
                      -0.05447091419623425,
                      -0.06740179420799351,
                      -0.059298950571980806,
                      -0.06912348836393448,
                      -0.06653147985091373,
                      -0.07327191770037637,
                      0.07327191770037644
                    ],
                    [
                      -0.04054325352667237,
                      0.022716323541324215,
                      0.04094686162442555,
                      0.004024232308833749,
                      -0.0033262907199668634,
                      -0.01718194646968316,
                      0.034701683563662024,
                      0.008239280583404701,
                      0.051644246937384085,
                      0.021018728347749007,
                      -0.050539553451625814,
                      -0.017531911398963856,
                      -0.004427391499023026,
                      -0.04287817859903079,
                      -0.11776667544304446,
                      -0.03771011849694434,
                      0.05716483474679909,
                      0.025400072090965592,
                      0.009795169246001751,
                      -0.034284314981135884,
                      -0.05150670156726162,
                      -0.08606987329396788,
                      -0.07495407726633913,
                      -0.08999552311636604,
                      -0.11292023339427767,
                      -0.09063928795895422,
                      -0.05447091419623425,
                      1,
                      -0.09631403978813328,
                      -0.08473545180651852,
                      -0.0987742609348671,
                      -0.09507040091173644,
                      -0.16779465725767026,
                      0.16779465725767023
                    ],
                    [
                      -0.015452383921586621,
                      0.028662038694950962,
                      -0.009554952294997426,
                      -0.036543214684180106,
                      -0.019690678009096792,
                      0.06294998446827929,
                      -0.008855639531686032,
                      -0.04912837526984783,
                      0.017364415876202535,
                      -0.013102122298779684,
                      0.035096657203344046,
                      -0.0004063545961361607,
                      -0.022998331862817228,
                      -0.012725275320970099,
                      0.019570886858620927,
                      -0.0045652017967222095,
                      0.02666518947749854,
                      0.03854530780305284,
                      0.0012621545287598047,
                      -0.023228398211145616,
                      -0.035672176907847915,
                      -0.10650204742972984,
                      -0.09274746652416357,
                      -0.1113596094032393,
                      -0.1397264291497032,
                      -0.11215619793270946,
                      -0.06740179420799351,
                      -0.09631403978813328,
                      1,
                      -0.1048508468980156,
                      -0.12222233657754188,
                      -0.11763921520463998,
                      -0.03298114523259626,
                      0.03298114523259625
                    ],
                    [
                      -0.005968041358034487,
                      -0.03236903835157721,
                      -0.03854744871276678,
                      0.04970325526315506,
                      0.018837337444695696,
                      -0.005164068922380548,
                      -0.02683749338079711,
                      -0.019231643892876727,
                      -0.0005050540455385381,
                      -0.035320813685516775,
                      -0.039306007801275356,
                      -0.006129678435601485,
                      0.02360227413843357,
                      0.019782863304900967,
                      0.10722833814074097,
                      0.042383346480077785,
                      0.04662488938639483,
                      -0.038533653209822855,
                      0.015073439603386852,
                      -0.0035837997126515132,
                      0.015493346750349577,
                      -0.09369868740973865,
                      -0.08159764139395238,
                      -0.09797228770112841,
                      -0.12292893257676818,
                      -0.09867311272203926,
                      -0.059298950571980806,
                      -0.08473545180651852,
                      -0.1048508468980156,
                      1,
                      -0.10752913005755169,
                      -0.10349697793236598,
                      -0.07236947478491489,
                      0.07236947478491487
                    ],
                    [
                      0.02807142295672741,
                      -0.03366816301587345,
                      0.03413879372917809,
                      0.04086598272520069,
                      -0.015602534155405216,
                      0.007168738099012975,
                      -0.036103224182715374,
                      0.0040682332543695455,
                      0.01962506694073671,
                      -0.024427429612899274,
                      0.04464888998497096,
                      0.026230392667484073,
                      -0.006557444124378758,
                      0.012286263923217895,
                      0.02976796927396862,
                      -0.02271082493866128,
                      0.01846590178171563,
                      -0.00026413374376813747,
                      -0.009018219832189475,
                      -0.05900152586122155,
                      -0.007772292730436529,
                      -0.10922250843243965,
                      -0.09511658403756722,
                      -0.11420415072399102,
                      -0.1432955652435465,
                      -0.11502108710668957,
                      -0.06912348836393448,
                      -0.0987742609348671,
                      -0.12222233657754188,
                      -0.10752913005755169,
                      1,
                      -0.1206441611664985,
                      0.09120602343707011,
                      -0.09120602343707014
                    ],
                    [
                      -0.033302448165658534,
                      0.031519337715891264,
                      0.01509045773413044,
                      0.002502591912507471,
                      -0.023530580745468505,
                      -0.07290953716867378,
                      -0.01981046598100204,
                      0.011418410624049993,
                      -0.05666818701976772,
                      -0.021337912946019652,
                      -0.01664215162896115,
                      -0.04145213370753821,
                      -0.005989247434550328,
                      -0.018104617042835617,
                      0.011519869041145424,
                      0.008269251067628105,
                      -0.05706239889857545,
                      0.0047888201544237915,
                      0.005226136302229957,
                      0.04838200644792892,
                      -0.03775626731151243,
                      -0.1051268576143008,
                      -0.09154988042653446,
                      -0.10992169713397024,
                      -0.13792223508066687,
                      -0.11070799984772832,
                      -0.06653147985091373,
                      -0.09507040091173644,
                      -0.11763921520463998,
                      -0.10349697793236598,
                      -0.1206441611664985,
                      1,
                      0.09655869786986443,
                      -0.0965586978698643
                    ],
                    [
                      -0.11163162383884359,
                      -0.09142887646641862,
                      0.08185159156959589,
                      -0.017694199487852447,
                      0.07229184584050878,
                      -0.04358797442516466,
                      0.06392017583020325,
                      0.08594737228099818,
                      -0.018144520172883854,
                      0.027800986433296093,
                      -0.02699776311447702,
                      0.011854274757140378,
                      0.026528157359770297,
                      -0.14575142775187885,
                      -0.07272150727375092,
                      -0.07077432170464047,
                      0.06490024189981669,
                      -0.008413727509693405,
                      0.009578239403326142,
                      -0.09012583279695136,
                      -0.08911644889885999,
                      0.015030107489762027,
                      -0.05333584059190225,
                      -0.08089195711125013,
                      0.03806519661757037,
                      0.16627684782880067,
                      -0.07327191770037637,
                      -0.16779465725767026,
                      -0.03298114523259626,
                      -0.07236947478491489,
                      0.09120602343707011,
                      0.09655869786986443,
                      1,
                      -1.0000000000000002
                    ],
                    [
                      0.11163162383884358,
                      0.09142887646641866,
                      -0.08185159156959594,
                      0.017694199487852474,
                      -0.07229184584050881,
                      0.04358797442516442,
                      -0.06392017583020322,
                      -0.08594737228099818,
                      0.018144520172883694,
                      -0.027800986433296083,
                      0.02699776311447688,
                      -0.011854274757140048,
                      -0.026528157359770307,
                      0.14575142775187883,
                      0.07272150727375096,
                      0.07077432170464047,
                      -0.06490024189981668,
                      0.008413727509693382,
                      -0.009578239403326123,
                      0.09012583279695144,
                      0.08911644889885985,
                      -0.015030107489762043,
                      0.05333584059190224,
                      0.08089195711125009,
                      -0.03806519661757037,
                      -0.16627684782880053,
                      0.07327191770037644,
                      0.16779465725767023,
                      0.03298114523259625,
                      0.07236947478491487,
                      -0.09120602343707014,
                      -0.0965586978698643,
                      -1.0000000000000002,
                      1
                    ]
                  ]
                }
              ],
              "layout": {
                "coloraxis": {
                  "colorscale": [
                    [
                      0,
                      "rgb(247,251,255)"
                    ],
                    [
                      0.125,
                      "rgb(222,235,247)"
                    ],
                    [
                      0.25,
                      "rgb(198,219,239)"
                    ],
                    [
                      0.375,
                      "rgb(158,202,225)"
                    ],
                    [
                      0.5,
                      "rgb(107,174,214)"
                    ],
                    [
                      0.625,
                      "rgb(66,146,198)"
                    ],
                    [
                      0.75,
                      "rgb(33,113,181)"
                    ],
                    [
                      0.875,
                      "rgb(8,81,156)"
                    ],
                    [
                      1,
                      "rgb(8,48,107)"
                    ]
                  ]
                },
                "margin": {
                  "t": 60
                },
                "template": {
                  "data": {
                    "bar": [
                      {
                        "error_x": {
                          "color": "#2a3f5f"
                        },
                        "error_y": {
                          "color": "#2a3f5f"
                        },
                        "marker": {
                          "line": {
                            "color": "#E5ECF6",
                            "width": 0.5
                          },
                          "pattern": {
                            "fillmode": "overlay",
                            "size": 10,
                            "solidity": 0.2
                          }
                        },
                        "type": "bar"
                      }
                    ],
                    "barpolar": [
                      {
                        "marker": {
                          "line": {
                            "color": "#E5ECF6",
                            "width": 0.5
                          },
                          "pattern": {
                            "fillmode": "overlay",
                            "size": 10,
                            "solidity": 0.2
                          }
                        },
                        "type": "barpolar"
                      }
                    ],
                    "carpet": [
                      {
                        "aaxis": {
                          "endlinecolor": "#2a3f5f",
                          "gridcolor": "white",
                          "linecolor": "white",
                          "minorgridcolor": "white",
                          "startlinecolor": "#2a3f5f"
                        },
                        "baxis": {
                          "endlinecolor": "#2a3f5f",
                          "gridcolor": "white",
                          "linecolor": "white",
                          "minorgridcolor": "white",
                          "startlinecolor": "#2a3f5f"
                        },
                        "type": "carpet"
                      }
                    ],
                    "choropleth": [
                      {
                        "colorbar": {
                          "outlinewidth": 0,
                          "ticks": ""
                        },
                        "type": "choropleth"
                      }
                    ],
                    "contour": [
                      {
                        "colorbar": {
                          "outlinewidth": 0,
                          "ticks": ""
                        },
                        "colorscale": [
                          [
                            0,
                            "#0d0887"
                          ],
                          [
                            0.1111111111111111,
                            "#46039f"
                          ],
                          [
                            0.2222222222222222,
                            "#7201a8"
                          ],
                          [
                            0.3333333333333333,
                            "#9c179e"
                          ],
                          [
                            0.4444444444444444,
                            "#bd3786"
                          ],
                          [
                            0.5555555555555556,
                            "#d8576b"
                          ],
                          [
                            0.6666666666666666,
                            "#ed7953"
                          ],
                          [
                            0.7777777777777778,
                            "#fb9f3a"
                          ],
                          [
                            0.8888888888888888,
                            "#fdca26"
                          ],
                          [
                            1,
                            "#f0f921"
                          ]
                        ],
                        "type": "contour"
                      }
                    ],
                    "contourcarpet": [
                      {
                        "colorbar": {
                          "outlinewidth": 0,
                          "ticks": ""
                        },
                        "type": "contourcarpet"
                      }
                    ],
                    "heatmap": [
                      {
                        "colorbar": {
                          "outlinewidth": 0,
                          "ticks": ""
                        },
                        "colorscale": [
                          [
                            0,
                            "#0d0887"
                          ],
                          [
                            0.1111111111111111,
                            "#46039f"
                          ],
                          [
                            0.2222222222222222,
                            "#7201a8"
                          ],
                          [
                            0.3333333333333333,
                            "#9c179e"
                          ],
                          [
                            0.4444444444444444,
                            "#bd3786"
                          ],
                          [
                            0.5555555555555556,
                            "#d8576b"
                          ],
                          [
                            0.6666666666666666,
                            "#ed7953"
                          ],
                          [
                            0.7777777777777778,
                            "#fb9f3a"
                          ],
                          [
                            0.8888888888888888,
                            "#fdca26"
                          ],
                          [
                            1,
                            "#f0f921"
                          ]
                        ],
                        "type": "heatmap"
                      }
                    ],
                    "heatmapgl": [
                      {
                        "colorbar": {
                          "outlinewidth": 0,
                          "ticks": ""
                        },
                        "colorscale": [
                          [
                            0,
                            "#0d0887"
                          ],
                          [
                            0.1111111111111111,
                            "#46039f"
                          ],
                          [
                            0.2222222222222222,
                            "#7201a8"
                          ],
                          [
                            0.3333333333333333,
                            "#9c179e"
                          ],
                          [
                            0.4444444444444444,
                            "#bd3786"
                          ],
                          [
                            0.5555555555555556,
                            "#d8576b"
                          ],
                          [
                            0.6666666666666666,
                            "#ed7953"
                          ],
                          [
                            0.7777777777777778,
                            "#fb9f3a"
                          ],
                          [
                            0.8888888888888888,
                            "#fdca26"
                          ],
                          [
                            1,
                            "#f0f921"
                          ]
                        ],
                        "type": "heatmapgl"
                      }
                    ],
                    "histogram": [
                      {
                        "marker": {
                          "pattern": {
                            "fillmode": "overlay",
                            "size": 10,
                            "solidity": 0.2
                          }
                        },
                        "type": "histogram"
                      }
                    ],
                    "histogram2d": [
                      {
                        "colorbar": {
                          "outlinewidth": 0,
                          "ticks": ""
                        },
                        "colorscale": [
                          [
                            0,
                            "#0d0887"
                          ],
                          [
                            0.1111111111111111,
                            "#46039f"
                          ],
                          [
                            0.2222222222222222,
                            "#7201a8"
                          ],
                          [
                            0.3333333333333333,
                            "#9c179e"
                          ],
                          [
                            0.4444444444444444,
                            "#bd3786"
                          ],
                          [
                            0.5555555555555556,
                            "#d8576b"
                          ],
                          [
                            0.6666666666666666,
                            "#ed7953"
                          ],
                          [
                            0.7777777777777778,
                            "#fb9f3a"
                          ],
                          [
                            0.8888888888888888,
                            "#fdca26"
                          ],
                          [
                            1,
                            "#f0f921"
                          ]
                        ],
                        "type": "histogram2d"
                      }
                    ],
                    "histogram2dcontour": [
                      {
                        "colorbar": {
                          "outlinewidth": 0,
                          "ticks": ""
                        },
                        "colorscale": [
                          [
                            0,
                            "#0d0887"
                          ],
                          [
                            0.1111111111111111,
                            "#46039f"
                          ],
                          [
                            0.2222222222222222,
                            "#7201a8"
                          ],
                          [
                            0.3333333333333333,
                            "#9c179e"
                          ],
                          [
                            0.4444444444444444,
                            "#bd3786"
                          ],
                          [
                            0.5555555555555556,
                            "#d8576b"
                          ],
                          [
                            0.6666666666666666,
                            "#ed7953"
                          ],
                          [
                            0.7777777777777778,
                            "#fb9f3a"
                          ],
                          [
                            0.8888888888888888,
                            "#fdca26"
                          ],
                          [
                            1,
                            "#f0f921"
                          ]
                        ],
                        "type": "histogram2dcontour"
                      }
                    ],
                    "mesh3d": [
                      {
                        "colorbar": {
                          "outlinewidth": 0,
                          "ticks": ""
                        },
                        "type": "mesh3d"
                      }
                    ],
                    "parcoords": [
                      {
                        "line": {
                          "colorbar": {
                            "outlinewidth": 0,
                            "ticks": ""
                          }
                        },
                        "type": "parcoords"
                      }
                    ],
                    "pie": [
                      {
                        "automargin": true,
                        "type": "pie"
                      }
                    ],
                    "scatter": [
                      {
                        "fillpattern": {
                          "fillmode": "overlay",
                          "size": 10,
                          "solidity": 0.2
                        },
                        "type": "scatter"
                      }
                    ],
                    "scatter3d": [
                      {
                        "line": {
                          "colorbar": {
                            "outlinewidth": 0,
                            "ticks": ""
                          }
                        },
                        "marker": {
                          "colorbar": {
                            "outlinewidth": 0,
                            "ticks": ""
                          }
                        },
                        "type": "scatter3d"
                      }
                    ],
                    "scattercarpet": [
                      {
                        "marker": {
                          "colorbar": {
                            "outlinewidth": 0,
                            "ticks": ""
                          }
                        },
                        "type": "scattercarpet"
                      }
                    ],
                    "scattergeo": [
                      {
                        "marker": {
                          "colorbar": {
                            "outlinewidth": 0,
                            "ticks": ""
                          }
                        },
                        "type": "scattergeo"
                      }
                    ],
                    "scattergl": [
                      {
                        "marker": {
                          "colorbar": {
                            "outlinewidth": 0,
                            "ticks": ""
                          }
                        },
                        "type": "scattergl"
                      }
                    ],
                    "scattermapbox": [
                      {
                        "marker": {
                          "colorbar": {
                            "outlinewidth": 0,
                            "ticks": ""
                          }
                        },
                        "type": "scattermapbox"
                      }
                    ],
                    "scatterpolar": [
                      {
                        "marker": {
                          "colorbar": {
                            "outlinewidth": 0,
                            "ticks": ""
                          }
                        },
                        "type": "scatterpolar"
                      }
                    ],
                    "scatterpolargl": [
                      {
                        "marker": {
                          "colorbar": {
                            "outlinewidth": 0,
                            "ticks": ""
                          }
                        },
                        "type": "scatterpolargl"
                      }
                    ],
                    "scatterternary": [
                      {
                        "marker": {
                          "colorbar": {
                            "outlinewidth": 0,
                            "ticks": ""
                          }
                        },
                        "type": "scatterternary"
                      }
                    ],
                    "surface": [
                      {
                        "colorbar": {
                          "outlinewidth": 0,
                          "ticks": ""
                        },
                        "colorscale": [
                          [
                            0,
                            "#0d0887"
                          ],
                          [
                            0.1111111111111111,
                            "#46039f"
                          ],
                          [
                            0.2222222222222222,
                            "#7201a8"
                          ],
                          [
                            0.3333333333333333,
                            "#9c179e"
                          ],
                          [
                            0.4444444444444444,
                            "#bd3786"
                          ],
                          [
                            0.5555555555555556,
                            "#d8576b"
                          ],
                          [
                            0.6666666666666666,
                            "#ed7953"
                          ],
                          [
                            0.7777777777777778,
                            "#fb9f3a"
                          ],
                          [
                            0.8888888888888888,
                            "#fdca26"
                          ],
                          [
                            1,
                            "#f0f921"
                          ]
                        ],
                        "type": "surface"
                      }
                    ],
                    "table": [
                      {
                        "cells": {
                          "fill": {
                            "color": "#EBF0F8"
                          },
                          "line": {
                            "color": "white"
                          }
                        },
                        "header": {
                          "fill": {
                            "color": "#C8D4E3"
                          },
                          "line": {
                            "color": "white"
                          }
                        },
                        "type": "table"
                      }
                    ]
                  },
                  "layout": {
                    "annotationdefaults": {
                      "arrowcolor": "#2a3f5f",
                      "arrowhead": 0,
                      "arrowwidth": 1
                    },
                    "autotypenumbers": "strict",
                    "coloraxis": {
                      "colorbar": {
                        "outlinewidth": 0,
                        "ticks": ""
                      }
                    },
                    "colorscale": {
                      "diverging": [
                        [
                          0,
                          "#8e0152"
                        ],
                        [
                          0.1,
                          "#c51b7d"
                        ],
                        [
                          0.2,
                          "#de77ae"
                        ],
                        [
                          0.3,
                          "#f1b6da"
                        ],
                        [
                          0.4,
                          "#fde0ef"
                        ],
                        [
                          0.5,
                          "#f7f7f7"
                        ],
                        [
                          0.6,
                          "#e6f5d0"
                        ],
                        [
                          0.7,
                          "#b8e186"
                        ],
                        [
                          0.8,
                          "#7fbc41"
                        ],
                        [
                          0.9,
                          "#4d9221"
                        ],
                        [
                          1,
                          "#276419"
                        ]
                      ],
                      "sequential": [
                        [
                          0,
                          "#0d0887"
                        ],
                        [
                          0.1111111111111111,
                          "#46039f"
                        ],
                        [
                          0.2222222222222222,
                          "#7201a8"
                        ],
                        [
                          0.3333333333333333,
                          "#9c179e"
                        ],
                        [
                          0.4444444444444444,
                          "#bd3786"
                        ],
                        [
                          0.5555555555555556,
                          "#d8576b"
                        ],
                        [
                          0.6666666666666666,
                          "#ed7953"
                        ],
                        [
                          0.7777777777777778,
                          "#fb9f3a"
                        ],
                        [
                          0.8888888888888888,
                          "#fdca26"
                        ],
                        [
                          1,
                          "#f0f921"
                        ]
                      ],
                      "sequentialminus": [
                        [
                          0,
                          "#0d0887"
                        ],
                        [
                          0.1111111111111111,
                          "#46039f"
                        ],
                        [
                          0.2222222222222222,
                          "#7201a8"
                        ],
                        [
                          0.3333333333333333,
                          "#9c179e"
                        ],
                        [
                          0.4444444444444444,
                          "#bd3786"
                        ],
                        [
                          0.5555555555555556,
                          "#d8576b"
                        ],
                        [
                          0.6666666666666666,
                          "#ed7953"
                        ],
                        [
                          0.7777777777777778,
                          "#fb9f3a"
                        ],
                        [
                          0.8888888888888888,
                          "#fdca26"
                        ],
                        [
                          1,
                          "#f0f921"
                        ]
                      ]
                    },
                    "colorway": [
                      "#636efa",
                      "#EF553B",
                      "#00cc96",
                      "#ab63fa",
                      "#FFA15A",
                      "#19d3f3",
                      "#FF6692",
                      "#B6E880",
                      "#FF97FF",
                      "#FECB52"
                    ],
                    "font": {
                      "color": "#2a3f5f"
                    },
                    "geo": {
                      "bgcolor": "white",
                      "lakecolor": "white",
                      "landcolor": "#E5ECF6",
                      "showlakes": true,
                      "showland": true,
                      "subunitcolor": "white"
                    },
                    "hoverlabel": {
                      "align": "left"
                    },
                    "hovermode": "closest",
                    "mapbox": {
                      "style": "light"
                    },
                    "paper_bgcolor": "white",
                    "plot_bgcolor": "#E5ECF6",
                    "polar": {
                      "angularaxis": {
                        "gridcolor": "white",
                        "linecolor": "white",
                        "ticks": ""
                      },
                      "bgcolor": "#E5ECF6",
                      "radialaxis": {
                        "gridcolor": "white",
                        "linecolor": "white",
                        "ticks": ""
                      }
                    },
                    "scene": {
                      "xaxis": {
                        "backgroundcolor": "#E5ECF6",
                        "gridcolor": "white",
                        "gridwidth": 2,
                        "linecolor": "white",
                        "showbackground": true,
                        "ticks": "",
                        "zerolinecolor": "white"
                      },
                      "yaxis": {
                        "backgroundcolor": "#E5ECF6",
                        "gridcolor": "white",
                        "gridwidth": 2,
                        "linecolor": "white",
                        "showbackground": true,
                        "ticks": "",
                        "zerolinecolor": "white"
                      },
                      "zaxis": {
                        "backgroundcolor": "#E5ECF6",
                        "gridcolor": "white",
                        "gridwidth": 2,
                        "linecolor": "white",
                        "showbackground": true,
                        "ticks": "",
                        "zerolinecolor": "white"
                      }
                    },
                    "shapedefaults": {
                      "line": {
                        "color": "#2a3f5f"
                      }
                    },
                    "ternary": {
                      "aaxis": {
                        "gridcolor": "white",
                        "linecolor": "white",
                        "ticks": ""
                      },
                      "baxis": {
                        "gridcolor": "white",
                        "linecolor": "white",
                        "ticks": ""
                      },
                      "bgcolor": "#E5ECF6",
                      "caxis": {
                        "gridcolor": "white",
                        "linecolor": "white",
                        "ticks": ""
                      }
                    },
                    "title": {
                      "x": 0.05
                    },
                    "xaxis": {
                      "automargin": true,
                      "gridcolor": "white",
                      "linecolor": "white",
                      "ticks": "",
                      "title": {
                        "standoff": 15
                      },
                      "zerolinecolor": "white",
                      "zerolinewidth": 2
                    },
                    "yaxis": {
                      "automargin": true,
                      "gridcolor": "white",
                      "linecolor": "white",
                      "ticks": "",
                      "title": {
                        "standoff": 15
                      },
                      "zerolinecolor": "white",
                      "zerolinewidth": 2
                    }
                  }
                },
                "title": {
                  "text": "Correlation Matrix"
                },
                "xaxis": {
                  "anchor": "y",
                  "domain": [
                    0,
                    1
                  ],
                  "nticks": 34
                },
                "yaxis": {
                  "anchor": "x",
                  "autorange": "reversed",
                  "domain": [
                    0,
                    1
                  ],
                  "nticks": 34
                }
              }
            }
          },
          "metadata": {},
          "output_type": "display_data"
        },
        {
          "name": "stdout",
          "output_type": "stream",
          "text": [
            "streams                 1.000000\n",
            "in_spotify_playlists    0.780404\n",
            "in_apple_playlists      0.735321\n",
            "in_deezer_playlists     0.712953\n",
            "in_apple_charts         0.269137\n",
            "in_spotify_charts       0.214034\n",
            "in_deezer_charts        0.184329\n",
            "mode_Major              0.063920\n",
            "key_C#                  0.063277\n",
            "in_shazam_charts        0.043512\n",
            "key_E                   0.034702\n",
            "key_D                   0.024713\n",
            "key_A#                  0.014547\n",
            "key_D#                  0.012394\n",
            "key_B                   0.001899\n",
            "acousticness_%         -0.005751\n",
            "key_F                  -0.008856\n",
            "key_G#                 -0.019810\n",
            "released_day           -0.025116\n",
            "bpm                    -0.025694\n",
            "key_F#                 -0.026837\n",
            "instrumentalness_%     -0.033039\n",
            "key_G                  -0.036103\n",
            "energy_%               -0.036499\n",
            "released_month         -0.046041\n",
            "valence_%              -0.051014\n",
            "liveness_%             -0.056664\n",
            "key_A                  -0.061383\n",
            "mode_Minor             -0.063920\n",
            "features               -0.088400\n",
            "danceability_%         -0.093268\n",
            "speechiness_%          -0.099968\n",
            "artist_count           -0.109760\n",
            "released_year          -0.242726\n",
            "Name: streams, dtype: float64\n"
          ]
        }
      ],
      "source": [
        "#e) ¿Cuáles son las propiedades de una canción que mejor correlan con el número de reproducciones de una canción? **(0.5 puntos)**\n",
        "# Calcular la matriz de correlación haciendo las que son strings en este caso, vars. categoricas \n",
        "# Convert string columns to numeric where necessary\n",
        "# Dropping non-numeric columns (or convert them to numeric if applicable)\n",
        "# Assuming df is your DataFrame\n",
        "df_corr = df.drop(columns=['track_name', 'artist(s)_name'])\n",
        "df_corr = pd.get_dummies(df_corr, columns=['key', 'mode'])\n",
        "\n",
        "numeric_cols = ['streams', 'bpm', 'danceability_%', 'valence_%', 'energy_%', 'acousticness_%', 'instrumentalness_%', 'liveness_%', 'speechiness_%', 'in_deezer_playlists', 'in_shazam_charts']\n",
        "df_corr[numeric_cols] = df_corr[numeric_cols].apply(pd.to_numeric, errors='coerce')\n",
        "\n",
        "corr_matrix = df_corr.corr()\n",
        "\n",
        "# Visualize the correlation matrix\n",
        "fig = px.imshow(corr_matrix, text_auto=True, aspect=\"auto\", color_continuous_scale='Blues')\n",
        "fig.update_layout(title=\"Correlation Matrix\", xaxis_nticks=len(corr_matrix.columns), yaxis_nticks=len(corr_matrix.columns))\n",
        "fig.show()\n",
        "\n",
        "# Focus on correlations with 'streams'\n",
        "streams_corr = corr_matrix['streams'].sort_values(ascending=False)\n",
        "print(streams_corr)\n"
      ]
    },
    {
      "cell_type": "code",
      "execution_count": 157,
      "metadata": {},
      "outputs": [
        {
          "data": {
            "application/vnd.plotly.v1+json": {
              "config": {
                "plotlyServerURL": "https://plot.ly"
              },
              "data": [
                {
                  "boxmean": true,
                  "boxpoints": "all",
                  "marker": {
                    "color": "blue"
                  },
                  "name": "Streams",
                  "type": "box",
                  "x": [
                    141381703,
                    133716286,
                    140003974,
                    800840817,
                    303236322,
                    183706234,
                    725980112,
                    58149378,
                    95217315,
                    553634067,
                    505671438,
                    58255150,
                    387570742,
                    1163093654,
                    496795686,
                    335222234,
                    363369738,
                    86444842,
                    52135248,
                    200647221,
                    115364561,
                    78300654,
                    899183384,
                    61245289,
                    429829812,
                    127408954,
                    22581161,
                    52294266,
                    843957510,
                    999748277,
                    618990393,
                    188933502,
                    1355959075,
                    786181836,
                    176553476,
                    354495408,
                    2808096550,
                    1109433169,
                    1047101291,
                    570515054,
                    1647990401,
                    2565529693,
                    518745108,
                    107753850,
                    177740666,
                    153372011,
                    57876440,
                    256483385,
                    1214083358,
                    111947664,
                    156338624,
                    720434240,
                    357925728,
                    674072710,
                    1755214421,
                    404562836,
                    373199958,
                    14780425,
                    39578178,
                    54266102,
                    751134527,
                    1356565093,
                    1592909789,
                    635412045,
                    1230675890,
                    585695368,
                    43857627,
                    2009094673,
                    600976848,
                    39709092,
                    39228929,
                    2665343922,
                    223633238,
                    1440757818,
                    165484133,
                    58054811,
                    157058870,
                    95131998,
                    250305248,
                    685032533,
                    38411956,
                    144565150,
                    127567540,
                    399686758,
                    983637508,
                    118482347,
                    882831184,
                    286400165,
                    172825906,
                    1241559043,
                    29562220,
                    77309611,
                    1605224506,
                    1116995633,
                    838079900,
                    1163620694,
                    1093605526,
                    179659294,
                    39058561,
                    36912123,
                    1205951614,
                    1791000570,
                    201660859,
                    248088961,
                    90839753,
                    607123776,
                    55842345,
                    211050784,
                    342897938,
                    2762,
                    601863821,
                    1953533826,
                    2355719893,
                    66902503,
                    96273746,
                    430977451,
                    284819874,
                    721975598,
                    276259178,
                    54225632,
                    2559529074,
                    681583126,
                    2594040133,
                    81102253,
                    11956641,
                    1687664027,
                    611700552,
                    1133865788,
                    1089402494,
                    411747614,
                    255932395,
                    31873544,
                    233801632,
                    1481349984,
                    142095275,
                    2011464183,
                    436027885,
                    2713922350,
                    621660989,
                    950906471,
                    1593270737,
                    1410088830,
                    1235005533,
                    1374581173,
                    94186466,
                    1788326445,
                    1840364617,
                    143573775,
                    684675814,
                    1113838873,
                    1267333350,
                    3562543890,
                    1271293243,
                    265882712,
                    841749534,
                    47956378,
                    806397070,
                    1641426668,
                    2135158446,
                    367316268,
                    350381515,
                    1264310836,
                    30343206,
                    405136812,
                    540654286,
                    57312735,
                    397582059,
                    1479115056,
                    86773632,
                    133753727,
                    123124076,
                    463564958,
                    64533040,
                    65496046,
                    68616963,
                    161460990,
                    70106975,
                    113509496,
                    89933133,
                    71007139,
                    43522589,
                    232896922,
                    37126685,
                    195576623,
                    532336353,
                    538115192,
                    46142772,
                    401036314,
                    127026613,
                    345031710,
                    288101651,
                    60350538,
                    335074782,
                    76767396,
                    46065667,
                    459276435,
                    39666245,
                    138517666,
                    822633917,
                    595900742,
                    51985779,
                    57945987,
                    115010040,
                    175097833,
                    57089066,
                    488386797,
                    32761689,
                    1047480053,
                    153454328,
                    217672943,
                    457184829,
                    726434358,
                    573633020,
                    1406111294,
                    71573339,
                    24975653,
                    145458418,
                    1424589568,
                    231332117,
                    415932686,
                    988515741,
                    50847624,
                    39893489,
                    92035115,
                    118810253,
                    77233241,
                    117747907,
                    266624541,
                    293186992,
                    139681964,
                    123132751,
                    103762518,
                    162887075,
                    91221625,
                    190490915,
                    96180277,
                    185240616,
                    885093467,
                    104992946,
                    147290338,
                    158950978,
                    76910644,
                    137123880,
                    782369383,
                    502574952,
                    207033255,
                    381161027,
                    466231982,
                    357580552,
                    61105704,
                    198275403,
                    705469769,
                    34502215,
                    304118600,
                    1449799467,
                    173627354,
                    90025258,
                    652704649,
                    1829992958,
                    655466831,
                    146409671,
                    95816024,
                    117206995,
                    100409613,
                    80758350,
                    325592432,
                    58473276,
                    52722996,
                    191945597,
                    77377503,
                    743693613,
                    267789608,
                    449701773,
                    67070410,
                    116334601,
                    165584767,
                    367814306,
                    477033549,
                    156214700,
                    448843705,
                    294352144,
                    972164968,
                    920045682,
                    2420461338,
                    244658767,
                    68216992,
                    223582566,
                    471819764,
                    1361425037,
                    116599790,
                    148469433,
                    497225336,
                    88791109,
                    125917280,
                    105062254,
                    95623148,
                    144584800,
                    298063749,
                    166570053,
                    83021468,
                    139836056,
                    303216294,
                    221409663,
                    58890931,
                    81419389,
                    156777415,
                    284908316,
                    93438910,
                    363472647,
                    372476382,
                    56533272,
                    175399345,
                    203221468,
                    1624165576,
                    134294498,
                    70069745,
                    609293408,
                    671365962,
                    93587665,
                    1223481149,
                    1022258230,
                    263453310,
                    1435127549,
                    236857112,
                    147538971,
                    698086140,
                    723894473,
                    403097450,
                    309483971,
                    319566866,
                    909001996,
                    1061966512,
                    124988687,
                    134255790,
                    301051721,
                    156338624,
                    309653982,
                    297328960,
                    332506354,
                    480507035,
                    1065580332,
                    122763672,
                    1365184,
                    184308753,
                    606361689,
                    120972253,
                    338564981,
                    1606986953,
                    1301799902,
                    140187018,
                    107642809,
                    556585270,
                    2303033973,
                    646886885,
                    872137015,
                    571386359,
                    174006928,
                    284785823,
                    163284000,
                    246390068,
                    482257456,
                    168684524,
                    78489819,
                    195516622,
                    1260594497,
                    428685680,
                    1024858327,
                    838586769,
                    199386237,
                    972509632,
                    213438580,
                    210038833,
                    227918678,
                    826623384,
                    1802514301,
                    181831132,
                    462791599,
                    348647203,
                    90598517,
                    807561936,
                    663832097,
                    446390129,
                    485285717,
                    520034544,
                    476244795,
                    629173063,
                    404664135,
                    98709329,
                    110849052,
                    460492795,
                    94005786,
                    389771964,
                    403939487,
                    110073250,
                    351636786,
                    473248298,
                    73981293,
                    155653938,
                    395591396,
                    429504768,
                    242767149,
                    65362788,
                    67540165,
                    62019074,
                    295998468,
                    136689549,
                    135611421,
                    356709897,
                    110649992,
                    301869854,
                    127027715,
                    57144458,
                    56870689,
                    323437194,
                    317726339,
                    116144341,
                    328207708,
                    608228647,
                    180577478,
                    809306935,
                    49262961,
                    614555082,
                    245350949,
                    178660459,
                    51641685,
                    78139948,
                    322336177,
                    391251368,
                    349585590,
                    674772936,
                    119238316,
                    116903579,
                    888046992,
                    130655803,
                    88103848,
                    101114984,
                    1575467011,
                    91656026,
                    53933526,
                    267758538,
                    74601456,
                    920797189,
                    539595276,
                    1367810478,
                    578207856,
                    775542072,
                    656013912,
                    240684449,
                    63803529,
                    466214729,
                    236940480,
                    41924466,
                    225259194,
                    393230256,
                    287201015,
                    599770206,
                    342779426,
                    673801126,
                    1168642797,
                    383550148,
                    530511203,
                    510876816,
                    1763363713,
                    374191487,
                    108809090,
                    436695353,
                    354065229,
                    1143647827,
                    311395144,
                    672656250,
                    1256880657,
                    245095641,
                    686734357,
                    261414174,
                    610045621,
                    1115880852,
                    594482982,
                    566954746,
                    null,
                    184937148,
                    31959571,
                    824420218,
                    363467642,
                    1127468248,
                    60680939,
                    247737946,
                    154797871,
                    124407432,
                    850608354,
                    376333030,
                    516784627,
                    1608045237,
                    506778838,
                    1472799873,
                    513643924,
                    261286503,
                    783706581,
                    422691058,
                    1062345656,
                    851070493,
                    263894529,
                    345903614,
                    956865266,
                    427486004,
                    156658366,
                    624515457,
                    777765388,
                    1138474110,
                    355219175,
                    290228626,
                    1062956628,
                    1180094974,
                    1456081449,
                    432702334,
                    489945871,
                    465959382,
                    1223481149,
                    2288695111,
                    720825549,
                    2086124197,
                    1690192927,
                    593917618,
                    200972675,
                    71014967,
                    560222750,
                    1806617704,
                    77337771,
                    528544703,
                    865640097,
                    2159346687,
                    211372494,
                    651732901,
                    608334048,
                    863756573,
                    797402345,
                    1695712020,
                    1759567999,
                    223319934,
                    54937991,
                    258316038,
                    596152090,
                    177129919,
                    716591492,
                    1210599487,
                    246376690,
                    496311364,
                    843309044,
                    500340342,
                    107255472,
                    135079152,
                    822239726,
                    1202722675,
                    343197054,
                    240769997,
                    426204830,
                    421135627,
                    554875730,
                    327498031,
                    185408548,
                    245400167,
                    579395142,
                    675039469,
                    252871192,
                    231996128,
                    1929770265,
                    918915401,
                    1180896317,
                    498960285,
                    258714692,
                    143139338,
                    209768491,
                    64714573,
                    50746620,
                    154119539,
                    181328253,
                    370068639,
                    2280566092,
                    563902868,
                    317622165,
                    203680270,
                    81350745,
                    282883169,
                    64787943,
                    2484812918,
                    461437791,
                    1439191367,
                    759208783,
                    368646862,
                    299634472,
                    756907987,
                    682475162,
                    546191065,
                    229473310,
                    202677468,
                    208166039,
                    527033089,
                    94616487,
                    394030335,
                    193443895,
                    299648208,
                    319757142,
                    153240879,
                    346127840,
                    312622938,
                    1200808494,
                    797196073,
                    1970673297,
                    665765558,
                    263779030,
                    339473453,
                    2204080728,
                    2591224264,
                    135444283,
                    236872197,
                    694525298,
                    421365166,
                    349746291,
                    255120451,
                    190981339,
                    924193303,
                    305771063,
                    273005485,
                    89566512,
                    677389855,
                    75476209,
                    408843328,
                    187772591,
                    178512385,
                    101780047,
                    146363130,
                    126443991,
                    157990698,
                    176290831,
                    1023187129,
                    106933107,
                    139193812,
                    212234990,
                    1714490998,
                    197643795,
                    807015863,
                    933815613,
                    499710590,
                    120847157,
                    53909146,
                    2236667932,
                    2123309722,
                    301242089,
                    723894473,
                    237351106,
                    461558540,
                    156898322,
                    127309180,
                    173702135,
                    305650299,
                    123216717,
                    479655659,
                    126191104,
                    344055883,
                    338422004,
                    68895644,
                    86176890,
                    403231558,
                    319546754,
                    61739839,
                    283359161,
                    76831876,
                    283332261,
                    307752576,
                    279737940,
                    212351890,
                    1304313953,
                    150500965,
                    246127838,
                    582863434,
                    58687425,
                    212109195,
                    382199619,
                    41210087,
                    231657891,
                    53729194,
                    244741137,
                    42485571,
                    37778188,
                    254218729,
                    53603447,
                    160035717,
                    37091576,
                    284249832,
                    33381454,
                    184622518,
                    300983101,
                    121077868,
                    106919680,
                    136996305,
                    65719930,
                    229497852,
                    185550869,
                    54682594,
                    240580042,
                    1284942608,
                    71423324,
                    244891912,
                    132171975,
                    184706613,
                    184826429,
                    302006641,
                    330881149,
                    334733572,
                    366214458,
                    114546317,
                    448500832,
                    136676504,
                    190625045,
                    79095270,
                    273194684,
                    333146475,
                    194902696,
                    195918494,
                    248511839,
                    233671263,
                    199587884,
                    91781263,
                    383835984,
                    236060709,
                    189236868,
                    160845341,
                    588955257,
                    238350348,
                    187703102,
                    138334433,
                    445590495,
                    286739476,
                    1122364376,
                    157136970,
                    183273246,
                    164856284,
                    704171068,
                    354614964,
                    279717388,
                    195628667,
                    221752937,
                    263280370,
                    213505179,
                    130419412,
                    155795783,
                    1553497987,
                    293466523,
                    191448892,
                    85924992,
                    176103902,
                    121189256,
                    131746175,
                    244790012,
                    129314708,
                    331511413,
                    170732845,
                    179061440,
                    185236961,
                    171788484,
                    387080183,
                    264717480,
                    244928911,
                    97610446,
                    287278853,
                    887906111,
                    123473120,
                    323455692,
                    240918092,
                    191873381,
                    239411309,
                    703301727,
                    189476119,
                    277132266,
                    278920007,
                    222410722,
                    185392587,
                    202452860,
                    1608164312,
                    624101957,
                    148461629,
                    47093942,
                    380319238,
                    209106362,
                    53987404,
                    115331792,
                    225093344,
                    84697729,
                    159240673,
                    170709584,
                    154356956,
                    723043854,
                    247689123,
                    176474912,
                    235549288,
                    85559365,
                    146223492,
                    187701588,
                    154863153,
                    191333656,
                    253650850,
                    223064273,
                    170413877,
                    218320587,
                    141720999,
                    198365537,
                    177503916,
                    71095708,
                    112436403,
                    203436468,
                    93367537,
                    106249219,
                    181382590,
                    91473363,
                    121871870,
                    73513683,
                    133895612,
                    96007391
                  ]
                }
              ],
              "layout": {
                "template": {
                  "data": {
                    "bar": [
                      {
                        "error_x": {
                          "color": "#2a3f5f"
                        },
                        "error_y": {
                          "color": "#2a3f5f"
                        },
                        "marker": {
                          "line": {
                            "color": "#E5ECF6",
                            "width": 0.5
                          },
                          "pattern": {
                            "fillmode": "overlay",
                            "size": 10,
                            "solidity": 0.2
                          }
                        },
                        "type": "bar"
                      }
                    ],
                    "barpolar": [
                      {
                        "marker": {
                          "line": {
                            "color": "#E5ECF6",
                            "width": 0.5
                          },
                          "pattern": {
                            "fillmode": "overlay",
                            "size": 10,
                            "solidity": 0.2
                          }
                        },
                        "type": "barpolar"
                      }
                    ],
                    "carpet": [
                      {
                        "aaxis": {
                          "endlinecolor": "#2a3f5f",
                          "gridcolor": "white",
                          "linecolor": "white",
                          "minorgridcolor": "white",
                          "startlinecolor": "#2a3f5f"
                        },
                        "baxis": {
                          "endlinecolor": "#2a3f5f",
                          "gridcolor": "white",
                          "linecolor": "white",
                          "minorgridcolor": "white",
                          "startlinecolor": "#2a3f5f"
                        },
                        "type": "carpet"
                      }
                    ],
                    "choropleth": [
                      {
                        "colorbar": {
                          "outlinewidth": 0,
                          "ticks": ""
                        },
                        "type": "choropleth"
                      }
                    ],
                    "contour": [
                      {
                        "colorbar": {
                          "outlinewidth": 0,
                          "ticks": ""
                        },
                        "colorscale": [
                          [
                            0,
                            "#0d0887"
                          ],
                          [
                            0.1111111111111111,
                            "#46039f"
                          ],
                          [
                            0.2222222222222222,
                            "#7201a8"
                          ],
                          [
                            0.3333333333333333,
                            "#9c179e"
                          ],
                          [
                            0.4444444444444444,
                            "#bd3786"
                          ],
                          [
                            0.5555555555555556,
                            "#d8576b"
                          ],
                          [
                            0.6666666666666666,
                            "#ed7953"
                          ],
                          [
                            0.7777777777777778,
                            "#fb9f3a"
                          ],
                          [
                            0.8888888888888888,
                            "#fdca26"
                          ],
                          [
                            1,
                            "#f0f921"
                          ]
                        ],
                        "type": "contour"
                      }
                    ],
                    "contourcarpet": [
                      {
                        "colorbar": {
                          "outlinewidth": 0,
                          "ticks": ""
                        },
                        "type": "contourcarpet"
                      }
                    ],
                    "heatmap": [
                      {
                        "colorbar": {
                          "outlinewidth": 0,
                          "ticks": ""
                        },
                        "colorscale": [
                          [
                            0,
                            "#0d0887"
                          ],
                          [
                            0.1111111111111111,
                            "#46039f"
                          ],
                          [
                            0.2222222222222222,
                            "#7201a8"
                          ],
                          [
                            0.3333333333333333,
                            "#9c179e"
                          ],
                          [
                            0.4444444444444444,
                            "#bd3786"
                          ],
                          [
                            0.5555555555555556,
                            "#d8576b"
                          ],
                          [
                            0.6666666666666666,
                            "#ed7953"
                          ],
                          [
                            0.7777777777777778,
                            "#fb9f3a"
                          ],
                          [
                            0.8888888888888888,
                            "#fdca26"
                          ],
                          [
                            1,
                            "#f0f921"
                          ]
                        ],
                        "type": "heatmap"
                      }
                    ],
                    "heatmapgl": [
                      {
                        "colorbar": {
                          "outlinewidth": 0,
                          "ticks": ""
                        },
                        "colorscale": [
                          [
                            0,
                            "#0d0887"
                          ],
                          [
                            0.1111111111111111,
                            "#46039f"
                          ],
                          [
                            0.2222222222222222,
                            "#7201a8"
                          ],
                          [
                            0.3333333333333333,
                            "#9c179e"
                          ],
                          [
                            0.4444444444444444,
                            "#bd3786"
                          ],
                          [
                            0.5555555555555556,
                            "#d8576b"
                          ],
                          [
                            0.6666666666666666,
                            "#ed7953"
                          ],
                          [
                            0.7777777777777778,
                            "#fb9f3a"
                          ],
                          [
                            0.8888888888888888,
                            "#fdca26"
                          ],
                          [
                            1,
                            "#f0f921"
                          ]
                        ],
                        "type": "heatmapgl"
                      }
                    ],
                    "histogram": [
                      {
                        "marker": {
                          "pattern": {
                            "fillmode": "overlay",
                            "size": 10,
                            "solidity": 0.2
                          }
                        },
                        "type": "histogram"
                      }
                    ],
                    "histogram2d": [
                      {
                        "colorbar": {
                          "outlinewidth": 0,
                          "ticks": ""
                        },
                        "colorscale": [
                          [
                            0,
                            "#0d0887"
                          ],
                          [
                            0.1111111111111111,
                            "#46039f"
                          ],
                          [
                            0.2222222222222222,
                            "#7201a8"
                          ],
                          [
                            0.3333333333333333,
                            "#9c179e"
                          ],
                          [
                            0.4444444444444444,
                            "#bd3786"
                          ],
                          [
                            0.5555555555555556,
                            "#d8576b"
                          ],
                          [
                            0.6666666666666666,
                            "#ed7953"
                          ],
                          [
                            0.7777777777777778,
                            "#fb9f3a"
                          ],
                          [
                            0.8888888888888888,
                            "#fdca26"
                          ],
                          [
                            1,
                            "#f0f921"
                          ]
                        ],
                        "type": "histogram2d"
                      }
                    ],
                    "histogram2dcontour": [
                      {
                        "colorbar": {
                          "outlinewidth": 0,
                          "ticks": ""
                        },
                        "colorscale": [
                          [
                            0,
                            "#0d0887"
                          ],
                          [
                            0.1111111111111111,
                            "#46039f"
                          ],
                          [
                            0.2222222222222222,
                            "#7201a8"
                          ],
                          [
                            0.3333333333333333,
                            "#9c179e"
                          ],
                          [
                            0.4444444444444444,
                            "#bd3786"
                          ],
                          [
                            0.5555555555555556,
                            "#d8576b"
                          ],
                          [
                            0.6666666666666666,
                            "#ed7953"
                          ],
                          [
                            0.7777777777777778,
                            "#fb9f3a"
                          ],
                          [
                            0.8888888888888888,
                            "#fdca26"
                          ],
                          [
                            1,
                            "#f0f921"
                          ]
                        ],
                        "type": "histogram2dcontour"
                      }
                    ],
                    "mesh3d": [
                      {
                        "colorbar": {
                          "outlinewidth": 0,
                          "ticks": ""
                        },
                        "type": "mesh3d"
                      }
                    ],
                    "parcoords": [
                      {
                        "line": {
                          "colorbar": {
                            "outlinewidth": 0,
                            "ticks": ""
                          }
                        },
                        "type": "parcoords"
                      }
                    ],
                    "pie": [
                      {
                        "automargin": true,
                        "type": "pie"
                      }
                    ],
                    "scatter": [
                      {
                        "fillpattern": {
                          "fillmode": "overlay",
                          "size": 10,
                          "solidity": 0.2
                        },
                        "type": "scatter"
                      }
                    ],
                    "scatter3d": [
                      {
                        "line": {
                          "colorbar": {
                            "outlinewidth": 0,
                            "ticks": ""
                          }
                        },
                        "marker": {
                          "colorbar": {
                            "outlinewidth": 0,
                            "ticks": ""
                          }
                        },
                        "type": "scatter3d"
                      }
                    ],
                    "scattercarpet": [
                      {
                        "marker": {
                          "colorbar": {
                            "outlinewidth": 0,
                            "ticks": ""
                          }
                        },
                        "type": "scattercarpet"
                      }
                    ],
                    "scattergeo": [
                      {
                        "marker": {
                          "colorbar": {
                            "outlinewidth": 0,
                            "ticks": ""
                          }
                        },
                        "type": "scattergeo"
                      }
                    ],
                    "scattergl": [
                      {
                        "marker": {
                          "colorbar": {
                            "outlinewidth": 0,
                            "ticks": ""
                          }
                        },
                        "type": "scattergl"
                      }
                    ],
                    "scattermapbox": [
                      {
                        "marker": {
                          "colorbar": {
                            "outlinewidth": 0,
                            "ticks": ""
                          }
                        },
                        "type": "scattermapbox"
                      }
                    ],
                    "scatterpolar": [
                      {
                        "marker": {
                          "colorbar": {
                            "outlinewidth": 0,
                            "ticks": ""
                          }
                        },
                        "type": "scatterpolar"
                      }
                    ],
                    "scatterpolargl": [
                      {
                        "marker": {
                          "colorbar": {
                            "outlinewidth": 0,
                            "ticks": ""
                          }
                        },
                        "type": "scatterpolargl"
                      }
                    ],
                    "scatterternary": [
                      {
                        "marker": {
                          "colorbar": {
                            "outlinewidth": 0,
                            "ticks": ""
                          }
                        },
                        "type": "scatterternary"
                      }
                    ],
                    "surface": [
                      {
                        "colorbar": {
                          "outlinewidth": 0,
                          "ticks": ""
                        },
                        "colorscale": [
                          [
                            0,
                            "#0d0887"
                          ],
                          [
                            0.1111111111111111,
                            "#46039f"
                          ],
                          [
                            0.2222222222222222,
                            "#7201a8"
                          ],
                          [
                            0.3333333333333333,
                            "#9c179e"
                          ],
                          [
                            0.4444444444444444,
                            "#bd3786"
                          ],
                          [
                            0.5555555555555556,
                            "#d8576b"
                          ],
                          [
                            0.6666666666666666,
                            "#ed7953"
                          ],
                          [
                            0.7777777777777778,
                            "#fb9f3a"
                          ],
                          [
                            0.8888888888888888,
                            "#fdca26"
                          ],
                          [
                            1,
                            "#f0f921"
                          ]
                        ],
                        "type": "surface"
                      }
                    ],
                    "table": [
                      {
                        "cells": {
                          "fill": {
                            "color": "#EBF0F8"
                          },
                          "line": {
                            "color": "white"
                          }
                        },
                        "header": {
                          "fill": {
                            "color": "#C8D4E3"
                          },
                          "line": {
                            "color": "white"
                          }
                        },
                        "type": "table"
                      }
                    ]
                  },
                  "layout": {
                    "annotationdefaults": {
                      "arrowcolor": "#2a3f5f",
                      "arrowhead": 0,
                      "arrowwidth": 1
                    },
                    "autotypenumbers": "strict",
                    "coloraxis": {
                      "colorbar": {
                        "outlinewidth": 0,
                        "ticks": ""
                      }
                    },
                    "colorscale": {
                      "diverging": [
                        [
                          0,
                          "#8e0152"
                        ],
                        [
                          0.1,
                          "#c51b7d"
                        ],
                        [
                          0.2,
                          "#de77ae"
                        ],
                        [
                          0.3,
                          "#f1b6da"
                        ],
                        [
                          0.4,
                          "#fde0ef"
                        ],
                        [
                          0.5,
                          "#f7f7f7"
                        ],
                        [
                          0.6,
                          "#e6f5d0"
                        ],
                        [
                          0.7,
                          "#b8e186"
                        ],
                        [
                          0.8,
                          "#7fbc41"
                        ],
                        [
                          0.9,
                          "#4d9221"
                        ],
                        [
                          1,
                          "#276419"
                        ]
                      ],
                      "sequential": [
                        [
                          0,
                          "#0d0887"
                        ],
                        [
                          0.1111111111111111,
                          "#46039f"
                        ],
                        [
                          0.2222222222222222,
                          "#7201a8"
                        ],
                        [
                          0.3333333333333333,
                          "#9c179e"
                        ],
                        [
                          0.4444444444444444,
                          "#bd3786"
                        ],
                        [
                          0.5555555555555556,
                          "#d8576b"
                        ],
                        [
                          0.6666666666666666,
                          "#ed7953"
                        ],
                        [
                          0.7777777777777778,
                          "#fb9f3a"
                        ],
                        [
                          0.8888888888888888,
                          "#fdca26"
                        ],
                        [
                          1,
                          "#f0f921"
                        ]
                      ],
                      "sequentialminus": [
                        [
                          0,
                          "#0d0887"
                        ],
                        [
                          0.1111111111111111,
                          "#46039f"
                        ],
                        [
                          0.2222222222222222,
                          "#7201a8"
                        ],
                        [
                          0.3333333333333333,
                          "#9c179e"
                        ],
                        [
                          0.4444444444444444,
                          "#bd3786"
                        ],
                        [
                          0.5555555555555556,
                          "#d8576b"
                        ],
                        [
                          0.6666666666666666,
                          "#ed7953"
                        ],
                        [
                          0.7777777777777778,
                          "#fb9f3a"
                        ],
                        [
                          0.8888888888888888,
                          "#fdca26"
                        ],
                        [
                          1,
                          "#f0f921"
                        ]
                      ]
                    },
                    "colorway": [
                      "#636efa",
                      "#EF553B",
                      "#00cc96",
                      "#ab63fa",
                      "#FFA15A",
                      "#19d3f3",
                      "#FF6692",
                      "#B6E880",
                      "#FF97FF",
                      "#FECB52"
                    ],
                    "font": {
                      "color": "#2a3f5f"
                    },
                    "geo": {
                      "bgcolor": "white",
                      "lakecolor": "white",
                      "landcolor": "#E5ECF6",
                      "showlakes": true,
                      "showland": true,
                      "subunitcolor": "white"
                    },
                    "hoverlabel": {
                      "align": "left"
                    },
                    "hovermode": "closest",
                    "mapbox": {
                      "style": "light"
                    },
                    "paper_bgcolor": "white",
                    "plot_bgcolor": "#E5ECF6",
                    "polar": {
                      "angularaxis": {
                        "gridcolor": "white",
                        "linecolor": "white",
                        "ticks": ""
                      },
                      "bgcolor": "#E5ECF6",
                      "radialaxis": {
                        "gridcolor": "white",
                        "linecolor": "white",
                        "ticks": ""
                      }
                    },
                    "scene": {
                      "xaxis": {
                        "backgroundcolor": "#E5ECF6",
                        "gridcolor": "white",
                        "gridwidth": 2,
                        "linecolor": "white",
                        "showbackground": true,
                        "ticks": "",
                        "zerolinecolor": "white"
                      },
                      "yaxis": {
                        "backgroundcolor": "#E5ECF6",
                        "gridcolor": "white",
                        "gridwidth": 2,
                        "linecolor": "white",
                        "showbackground": true,
                        "ticks": "",
                        "zerolinecolor": "white"
                      },
                      "zaxis": {
                        "backgroundcolor": "#E5ECF6",
                        "gridcolor": "white",
                        "gridwidth": 2,
                        "linecolor": "white",
                        "showbackground": true,
                        "ticks": "",
                        "zerolinecolor": "white"
                      }
                    },
                    "shapedefaults": {
                      "line": {
                        "color": "#2a3f5f"
                      }
                    },
                    "ternary": {
                      "aaxis": {
                        "gridcolor": "white",
                        "linecolor": "white",
                        "ticks": ""
                      },
                      "baxis": {
                        "gridcolor": "white",
                        "linecolor": "white",
                        "ticks": ""
                      },
                      "bgcolor": "#E5ECF6",
                      "caxis": {
                        "gridcolor": "white",
                        "linecolor": "white",
                        "ticks": ""
                      }
                    },
                    "title": {
                      "x": 0.05
                    },
                    "xaxis": {
                      "automargin": true,
                      "gridcolor": "white",
                      "linecolor": "white",
                      "ticks": "",
                      "title": {
                        "standoff": 15
                      },
                      "zerolinecolor": "white",
                      "zerolinewidth": 2
                    },
                    "yaxis": {
                      "automargin": true,
                      "gridcolor": "white",
                      "linecolor": "white",
                      "ticks": "",
                      "title": {
                        "standoff": 15
                      },
                      "zerolinecolor": "white",
                      "zerolinewidth": 2
                    }
                  }
                },
                "title": {
                  "text": "Streams distribution"
                },
                "yaxis": {
                  "title": {
                    "text": ""
                  }
                }
              }
            }
          },
          "metadata": {},
          "output_type": "display_data"
        },
        {
          "name": "stdout",
          "output_type": "stream",
          "text": [
            "count       817\n",
            "unique        2\n",
            "top       False\n",
            "freq        409\n",
            "Name: hit, dtype: object\n",
            "   bpm  danceability_%  valence_%  energy_%  acousticness_%  \\\n",
            "0  125              80         89        83              31   \n",
            "1   92              71         61        74               7   \n",
            "2  138              51         32        53              17   \n",
            "3  170              55         58        72              11   \n",
            "4  144              65         23        80              14   \n",
            "\n",
            "   instrumentalness_%  liveness_%  speechiness_%  features  artist_count  \n",
            "0                   0           8              4      True             2  \n",
            "1                   0          10              4     False             1  \n",
            "2                   0          31              6     False             1  \n",
            "3                   0          11             15     False             1  \n",
            "4                  63          11              6     False             1  \n",
            "Classification report\n",
            "              precision    recall  f1-score   support\n",
            "\n",
            "       False       0.57      0.46      0.51        85\n",
            "        True       0.52      0.62      0.56        79\n",
            "\n",
            "    accuracy                           0.54       164\n",
            "   macro avg       0.54      0.54      0.53       164\n",
            "weighted avg       0.54      0.54      0.53       164\n",
            "\n",
            "Confusion matrix\n",
            "[[39 46]\n",
            " [30 49]]\n"
          ]
        },
        {
          "data": {
            "application/vnd.plotly.v1+json": {
              "config": {
                "plotlyServerURL": "https://plot.ly"
              },
              "data": [
                {
                  "name": "Coeficientes",
                  "orientation": "h",
                  "type": "bar",
                  "x": [
                    0.0004954038967635496,
                    -0.012670269480950961,
                    -0.0016708532564815935,
                    -0.006001773082252885,
                    -0.003998713736353446,
                    -0.004138308277487709,
                    -0.013785829328108016,
                    -0.01970204477111676,
                    0.1904847170354805,
                    -0.26815898457475557
                  ],
                  "y": [
                    "bpm",
                    "danceability_%",
                    "valence_%",
                    "energy_%",
                    "acousticness_%",
                    "instrumentalness_%",
                    "liveness_%",
                    "speechiness_%",
                    "features",
                    "artist_count"
                  ]
                }
              ],
              "layout": {
                "template": {
                  "data": {
                    "bar": [
                      {
                        "error_x": {
                          "color": "#2a3f5f"
                        },
                        "error_y": {
                          "color": "#2a3f5f"
                        },
                        "marker": {
                          "line": {
                            "color": "#E5ECF6",
                            "width": 0.5
                          },
                          "pattern": {
                            "fillmode": "overlay",
                            "size": 10,
                            "solidity": 0.2
                          }
                        },
                        "type": "bar"
                      }
                    ],
                    "barpolar": [
                      {
                        "marker": {
                          "line": {
                            "color": "#E5ECF6",
                            "width": 0.5
                          },
                          "pattern": {
                            "fillmode": "overlay",
                            "size": 10,
                            "solidity": 0.2
                          }
                        },
                        "type": "barpolar"
                      }
                    ],
                    "carpet": [
                      {
                        "aaxis": {
                          "endlinecolor": "#2a3f5f",
                          "gridcolor": "white",
                          "linecolor": "white",
                          "minorgridcolor": "white",
                          "startlinecolor": "#2a3f5f"
                        },
                        "baxis": {
                          "endlinecolor": "#2a3f5f",
                          "gridcolor": "white",
                          "linecolor": "white",
                          "minorgridcolor": "white",
                          "startlinecolor": "#2a3f5f"
                        },
                        "type": "carpet"
                      }
                    ],
                    "choropleth": [
                      {
                        "colorbar": {
                          "outlinewidth": 0,
                          "ticks": ""
                        },
                        "type": "choropleth"
                      }
                    ],
                    "contour": [
                      {
                        "colorbar": {
                          "outlinewidth": 0,
                          "ticks": ""
                        },
                        "colorscale": [
                          [
                            0,
                            "#0d0887"
                          ],
                          [
                            0.1111111111111111,
                            "#46039f"
                          ],
                          [
                            0.2222222222222222,
                            "#7201a8"
                          ],
                          [
                            0.3333333333333333,
                            "#9c179e"
                          ],
                          [
                            0.4444444444444444,
                            "#bd3786"
                          ],
                          [
                            0.5555555555555556,
                            "#d8576b"
                          ],
                          [
                            0.6666666666666666,
                            "#ed7953"
                          ],
                          [
                            0.7777777777777778,
                            "#fb9f3a"
                          ],
                          [
                            0.8888888888888888,
                            "#fdca26"
                          ],
                          [
                            1,
                            "#f0f921"
                          ]
                        ],
                        "type": "contour"
                      }
                    ],
                    "contourcarpet": [
                      {
                        "colorbar": {
                          "outlinewidth": 0,
                          "ticks": ""
                        },
                        "type": "contourcarpet"
                      }
                    ],
                    "heatmap": [
                      {
                        "colorbar": {
                          "outlinewidth": 0,
                          "ticks": ""
                        },
                        "colorscale": [
                          [
                            0,
                            "#0d0887"
                          ],
                          [
                            0.1111111111111111,
                            "#46039f"
                          ],
                          [
                            0.2222222222222222,
                            "#7201a8"
                          ],
                          [
                            0.3333333333333333,
                            "#9c179e"
                          ],
                          [
                            0.4444444444444444,
                            "#bd3786"
                          ],
                          [
                            0.5555555555555556,
                            "#d8576b"
                          ],
                          [
                            0.6666666666666666,
                            "#ed7953"
                          ],
                          [
                            0.7777777777777778,
                            "#fb9f3a"
                          ],
                          [
                            0.8888888888888888,
                            "#fdca26"
                          ],
                          [
                            1,
                            "#f0f921"
                          ]
                        ],
                        "type": "heatmap"
                      }
                    ],
                    "heatmapgl": [
                      {
                        "colorbar": {
                          "outlinewidth": 0,
                          "ticks": ""
                        },
                        "colorscale": [
                          [
                            0,
                            "#0d0887"
                          ],
                          [
                            0.1111111111111111,
                            "#46039f"
                          ],
                          [
                            0.2222222222222222,
                            "#7201a8"
                          ],
                          [
                            0.3333333333333333,
                            "#9c179e"
                          ],
                          [
                            0.4444444444444444,
                            "#bd3786"
                          ],
                          [
                            0.5555555555555556,
                            "#d8576b"
                          ],
                          [
                            0.6666666666666666,
                            "#ed7953"
                          ],
                          [
                            0.7777777777777778,
                            "#fb9f3a"
                          ],
                          [
                            0.8888888888888888,
                            "#fdca26"
                          ],
                          [
                            1,
                            "#f0f921"
                          ]
                        ],
                        "type": "heatmapgl"
                      }
                    ],
                    "histogram": [
                      {
                        "marker": {
                          "pattern": {
                            "fillmode": "overlay",
                            "size": 10,
                            "solidity": 0.2
                          }
                        },
                        "type": "histogram"
                      }
                    ],
                    "histogram2d": [
                      {
                        "colorbar": {
                          "outlinewidth": 0,
                          "ticks": ""
                        },
                        "colorscale": [
                          [
                            0,
                            "#0d0887"
                          ],
                          [
                            0.1111111111111111,
                            "#46039f"
                          ],
                          [
                            0.2222222222222222,
                            "#7201a8"
                          ],
                          [
                            0.3333333333333333,
                            "#9c179e"
                          ],
                          [
                            0.4444444444444444,
                            "#bd3786"
                          ],
                          [
                            0.5555555555555556,
                            "#d8576b"
                          ],
                          [
                            0.6666666666666666,
                            "#ed7953"
                          ],
                          [
                            0.7777777777777778,
                            "#fb9f3a"
                          ],
                          [
                            0.8888888888888888,
                            "#fdca26"
                          ],
                          [
                            1,
                            "#f0f921"
                          ]
                        ],
                        "type": "histogram2d"
                      }
                    ],
                    "histogram2dcontour": [
                      {
                        "colorbar": {
                          "outlinewidth": 0,
                          "ticks": ""
                        },
                        "colorscale": [
                          [
                            0,
                            "#0d0887"
                          ],
                          [
                            0.1111111111111111,
                            "#46039f"
                          ],
                          [
                            0.2222222222222222,
                            "#7201a8"
                          ],
                          [
                            0.3333333333333333,
                            "#9c179e"
                          ],
                          [
                            0.4444444444444444,
                            "#bd3786"
                          ],
                          [
                            0.5555555555555556,
                            "#d8576b"
                          ],
                          [
                            0.6666666666666666,
                            "#ed7953"
                          ],
                          [
                            0.7777777777777778,
                            "#fb9f3a"
                          ],
                          [
                            0.8888888888888888,
                            "#fdca26"
                          ],
                          [
                            1,
                            "#f0f921"
                          ]
                        ],
                        "type": "histogram2dcontour"
                      }
                    ],
                    "mesh3d": [
                      {
                        "colorbar": {
                          "outlinewidth": 0,
                          "ticks": ""
                        },
                        "type": "mesh3d"
                      }
                    ],
                    "parcoords": [
                      {
                        "line": {
                          "colorbar": {
                            "outlinewidth": 0,
                            "ticks": ""
                          }
                        },
                        "type": "parcoords"
                      }
                    ],
                    "pie": [
                      {
                        "automargin": true,
                        "type": "pie"
                      }
                    ],
                    "scatter": [
                      {
                        "fillpattern": {
                          "fillmode": "overlay",
                          "size": 10,
                          "solidity": 0.2
                        },
                        "type": "scatter"
                      }
                    ],
                    "scatter3d": [
                      {
                        "line": {
                          "colorbar": {
                            "outlinewidth": 0,
                            "ticks": ""
                          }
                        },
                        "marker": {
                          "colorbar": {
                            "outlinewidth": 0,
                            "ticks": ""
                          }
                        },
                        "type": "scatter3d"
                      }
                    ],
                    "scattercarpet": [
                      {
                        "marker": {
                          "colorbar": {
                            "outlinewidth": 0,
                            "ticks": ""
                          }
                        },
                        "type": "scattercarpet"
                      }
                    ],
                    "scattergeo": [
                      {
                        "marker": {
                          "colorbar": {
                            "outlinewidth": 0,
                            "ticks": ""
                          }
                        },
                        "type": "scattergeo"
                      }
                    ],
                    "scattergl": [
                      {
                        "marker": {
                          "colorbar": {
                            "outlinewidth": 0,
                            "ticks": ""
                          }
                        },
                        "type": "scattergl"
                      }
                    ],
                    "scattermapbox": [
                      {
                        "marker": {
                          "colorbar": {
                            "outlinewidth": 0,
                            "ticks": ""
                          }
                        },
                        "type": "scattermapbox"
                      }
                    ],
                    "scatterpolar": [
                      {
                        "marker": {
                          "colorbar": {
                            "outlinewidth": 0,
                            "ticks": ""
                          }
                        },
                        "type": "scatterpolar"
                      }
                    ],
                    "scatterpolargl": [
                      {
                        "marker": {
                          "colorbar": {
                            "outlinewidth": 0,
                            "ticks": ""
                          }
                        },
                        "type": "scatterpolargl"
                      }
                    ],
                    "scatterternary": [
                      {
                        "marker": {
                          "colorbar": {
                            "outlinewidth": 0,
                            "ticks": ""
                          }
                        },
                        "type": "scatterternary"
                      }
                    ],
                    "surface": [
                      {
                        "colorbar": {
                          "outlinewidth": 0,
                          "ticks": ""
                        },
                        "colorscale": [
                          [
                            0,
                            "#0d0887"
                          ],
                          [
                            0.1111111111111111,
                            "#46039f"
                          ],
                          [
                            0.2222222222222222,
                            "#7201a8"
                          ],
                          [
                            0.3333333333333333,
                            "#9c179e"
                          ],
                          [
                            0.4444444444444444,
                            "#bd3786"
                          ],
                          [
                            0.5555555555555556,
                            "#d8576b"
                          ],
                          [
                            0.6666666666666666,
                            "#ed7953"
                          ],
                          [
                            0.7777777777777778,
                            "#fb9f3a"
                          ],
                          [
                            0.8888888888888888,
                            "#fdca26"
                          ],
                          [
                            1,
                            "#f0f921"
                          ]
                        ],
                        "type": "surface"
                      }
                    ],
                    "table": [
                      {
                        "cells": {
                          "fill": {
                            "color": "#EBF0F8"
                          },
                          "line": {
                            "color": "white"
                          }
                        },
                        "header": {
                          "fill": {
                            "color": "#C8D4E3"
                          },
                          "line": {
                            "color": "white"
                          }
                        },
                        "type": "table"
                      }
                    ]
                  },
                  "layout": {
                    "annotationdefaults": {
                      "arrowcolor": "#2a3f5f",
                      "arrowhead": 0,
                      "arrowwidth": 1
                    },
                    "autotypenumbers": "strict",
                    "coloraxis": {
                      "colorbar": {
                        "outlinewidth": 0,
                        "ticks": ""
                      }
                    },
                    "colorscale": {
                      "diverging": [
                        [
                          0,
                          "#8e0152"
                        ],
                        [
                          0.1,
                          "#c51b7d"
                        ],
                        [
                          0.2,
                          "#de77ae"
                        ],
                        [
                          0.3,
                          "#f1b6da"
                        ],
                        [
                          0.4,
                          "#fde0ef"
                        ],
                        [
                          0.5,
                          "#f7f7f7"
                        ],
                        [
                          0.6,
                          "#e6f5d0"
                        ],
                        [
                          0.7,
                          "#b8e186"
                        ],
                        [
                          0.8,
                          "#7fbc41"
                        ],
                        [
                          0.9,
                          "#4d9221"
                        ],
                        [
                          1,
                          "#276419"
                        ]
                      ],
                      "sequential": [
                        [
                          0,
                          "#0d0887"
                        ],
                        [
                          0.1111111111111111,
                          "#46039f"
                        ],
                        [
                          0.2222222222222222,
                          "#7201a8"
                        ],
                        [
                          0.3333333333333333,
                          "#9c179e"
                        ],
                        [
                          0.4444444444444444,
                          "#bd3786"
                        ],
                        [
                          0.5555555555555556,
                          "#d8576b"
                        ],
                        [
                          0.6666666666666666,
                          "#ed7953"
                        ],
                        [
                          0.7777777777777778,
                          "#fb9f3a"
                        ],
                        [
                          0.8888888888888888,
                          "#fdca26"
                        ],
                        [
                          1,
                          "#f0f921"
                        ]
                      ],
                      "sequentialminus": [
                        [
                          0,
                          "#0d0887"
                        ],
                        [
                          0.1111111111111111,
                          "#46039f"
                        ],
                        [
                          0.2222222222222222,
                          "#7201a8"
                        ],
                        [
                          0.3333333333333333,
                          "#9c179e"
                        ],
                        [
                          0.4444444444444444,
                          "#bd3786"
                        ],
                        [
                          0.5555555555555556,
                          "#d8576b"
                        ],
                        [
                          0.6666666666666666,
                          "#ed7953"
                        ],
                        [
                          0.7777777777777778,
                          "#fb9f3a"
                        ],
                        [
                          0.8888888888888888,
                          "#fdca26"
                        ],
                        [
                          1,
                          "#f0f921"
                        ]
                      ]
                    },
                    "colorway": [
                      "#636efa",
                      "#EF553B",
                      "#00cc96",
                      "#ab63fa",
                      "#FFA15A",
                      "#19d3f3",
                      "#FF6692",
                      "#B6E880",
                      "#FF97FF",
                      "#FECB52"
                    ],
                    "font": {
                      "color": "#2a3f5f"
                    },
                    "geo": {
                      "bgcolor": "white",
                      "lakecolor": "white",
                      "landcolor": "#E5ECF6",
                      "showlakes": true,
                      "showland": true,
                      "subunitcolor": "white"
                    },
                    "hoverlabel": {
                      "align": "left"
                    },
                    "hovermode": "closest",
                    "mapbox": {
                      "style": "light"
                    },
                    "paper_bgcolor": "white",
                    "plot_bgcolor": "#E5ECF6",
                    "polar": {
                      "angularaxis": {
                        "gridcolor": "white",
                        "linecolor": "white",
                        "ticks": ""
                      },
                      "bgcolor": "#E5ECF6",
                      "radialaxis": {
                        "gridcolor": "white",
                        "linecolor": "white",
                        "ticks": ""
                      }
                    },
                    "scene": {
                      "xaxis": {
                        "backgroundcolor": "#E5ECF6",
                        "gridcolor": "white",
                        "gridwidth": 2,
                        "linecolor": "white",
                        "showbackground": true,
                        "ticks": "",
                        "zerolinecolor": "white"
                      },
                      "yaxis": {
                        "backgroundcolor": "#E5ECF6",
                        "gridcolor": "white",
                        "gridwidth": 2,
                        "linecolor": "white",
                        "showbackground": true,
                        "ticks": "",
                        "zerolinecolor": "white"
                      },
                      "zaxis": {
                        "backgroundcolor": "#E5ECF6",
                        "gridcolor": "white",
                        "gridwidth": 2,
                        "linecolor": "white",
                        "showbackground": true,
                        "ticks": "",
                        "zerolinecolor": "white"
                      }
                    },
                    "shapedefaults": {
                      "line": {
                        "color": "#2a3f5f"
                      }
                    },
                    "ternary": {
                      "aaxis": {
                        "gridcolor": "white",
                        "linecolor": "white",
                        "ticks": ""
                      },
                      "baxis": {
                        "gridcolor": "white",
                        "linecolor": "white",
                        "ticks": ""
                      },
                      "bgcolor": "#E5ECF6",
                      "caxis": {
                        "gridcolor": "white",
                        "linecolor": "white",
                        "ticks": ""
                      }
                    },
                    "title": {
                      "x": 0.05
                    },
                    "xaxis": {
                      "automargin": true,
                      "gridcolor": "white",
                      "linecolor": "white",
                      "ticks": "",
                      "title": {
                        "standoff": 15
                      },
                      "zerolinecolor": "white",
                      "zerolinewidth": 2
                    },
                    "yaxis": {
                      "automargin": true,
                      "gridcolor": "white",
                      "linecolor": "white",
                      "ticks": "",
                      "title": {
                        "standoff": 15
                      },
                      "zerolinecolor": "white",
                      "zerolinewidth": 2
                    }
                  }
                },
                "title": {
                  "text": "GLM coefficients importance"
                },
                "xaxis": {
                  "title": {
                    "text": "Coeficientes normalizados"
                  }
                },
                "yaxis": {
                  "title": {
                    "text": "Variables"
                  }
                }
              }
            }
          },
          "metadata": {},
          "output_type": "display_data"
        }
      ],
      "source": [
        "#f) ¿Cuáles son las variables que mejor predicen las canciones que están por encima el percentil 50? **(1 puntos)**\n",
        "# ! Debemos de crear un box-plot para la variable streams\n",
        "# * Nota: Crea una variable binaria (Hit/No Hit) en base a 3.c, crea una regresión logística y visualiza sus coeficientes.*\n",
        "fig = go.Figure()\n",
        "\n",
        "fig.add_trace(\n",
        "    go.Box(\n",
        "        x = df['streams'], \n",
        "        marker_color= \"blue\", \n",
        "        name=\"Streams\",\n",
        "        boxpoints= 'all', \n",
        "        boxmean=True\n",
        "    )\n",
        ")\n",
        "\n",
        "fig.update_layout(title = 'Streams distribution', yaxis_title = \"\")\n",
        "fig.show()\n",
        "\n",
        "# The 50% (Median) lies at 263.8368 Million streams. Por lo tanto debemos de filtrar el dataset para observar que variables son lo que mas lo destacan \n",
        "df['hit'] = df[\"streams\"] > df[\"streams\"].quantile(0.5) # Ni siquiera sabía que existía esta función \n",
        "print(df.hit.describe())\n",
        "\n",
        "\n",
        "df['key'] = df['key'].astype('category')\n",
        "df['mode'] = df['mode'].astype('category')\n",
        "\n",
        "X = df[['bpm',\n",
        "        'danceability_%','valence_%','energy_%',\n",
        "        'acousticness_%','instrumentalness_%','liveness_%',\n",
        "        'speechiness_%', 'features', 'artist_count']]\n",
        "\n",
        "y = df['hit']\n",
        "\n",
        "print(X.head())\n",
        "X_train, X_test, y_train, y_test = train_test_split(X, y, test_size = 0.2, random_state = 123)\n",
        "\n",
        "clf_log = LogisticRegression(max_iter=10000, tol=0.1)\n",
        "clf_log.fit(X_train, y_train)\n",
        "\n",
        "predictions = clf_log.predict(X_test)\n",
        "\n",
        "# Test results \n",
        "\n",
        "print(\"Classification report\")\n",
        "print(classification_report(y_test, predictions))\n",
        "\n",
        "print(\"Confusion matrix\")\n",
        "print(confusion_matrix(y_test, predictions))\n",
        "\n",
        "# Y ahora los coeficientes: \n",
        "lmc = clf_log.coef_\n",
        "\n",
        "# Plot for LM\n",
        "objects = X.columns\n",
        "y_pos = np.arange(len(objects))\n",
        "coefficients = lmc[0]\n",
        "\n",
        "fig = go.Figure()\n",
        "\n",
        "# Agrego las trazas necesarias\n",
        "fig.add_trace(\n",
        "    go.Bar(\n",
        "        x = coefficients,\n",
        "        y = objects,\n",
        "        name = \"Coeficientes\",\n",
        "        orientation='h'\n",
        "    )\n",
        ")\n",
        "\n",
        "# Actualizo el diseño\n",
        "fig.update_layout(title = \"GLM coefficients importance\", xaxis_title = \"Coeficientes normalizados\", yaxis_title = \"Variables\")\n",
        "\n",
        "# Muestro la figura\n",
        "fig.show()"
      ]
    },
    {
      "cell_type": "code",
      "execution_count": 161,
      "metadata": {},
      "outputs": [
        {
          "data": {
            "application/vnd.plotly.v1+json": {
              "config": {
                "plotlyServerURL": "https://plot.ly"
              },
              "data": [
                {
                  "histnorm": "probability",
                  "type": "histogram",
                  "x": [
                    141381703,
                    133716286,
                    140003974,
                    800840817,
                    303236322,
                    183706234,
                    725980112,
                    58149378,
                    95217315,
                    553634067,
                    505671438,
                    58255150,
                    387570742,
                    1163093654,
                    496795686,
                    335222234,
                    363369738,
                    86444842,
                    52135248,
                    200647221,
                    115364561,
                    78300654,
                    899183384,
                    61245289,
                    429829812,
                    127408954,
                    22581161,
                    52294266,
                    843957510,
                    999748277,
                    618990393,
                    188933502,
                    1355959075,
                    786181836,
                    176553476,
                    354495408,
                    2808096550,
                    1109433169,
                    1047101291,
                    570515054,
                    1647990401,
                    2565529693,
                    518745108,
                    107753850,
                    177740666,
                    153372011,
                    57876440,
                    256483385,
                    1214083358,
                    111947664,
                    156338624,
                    720434240,
                    357925728,
                    674072710,
                    1755214421,
                    404562836,
                    373199958,
                    14780425,
                    39578178,
                    54266102,
                    751134527,
                    1356565093,
                    1592909789,
                    635412045,
                    1230675890,
                    585695368,
                    43857627,
                    2009094673,
                    600976848,
                    39709092,
                    39228929,
                    2665343922,
                    223633238,
                    1440757818,
                    165484133,
                    58054811,
                    157058870,
                    95131998,
                    250305248,
                    685032533,
                    38411956,
                    144565150,
                    127567540,
                    399686758,
                    983637508,
                    118482347,
                    882831184,
                    286400165,
                    172825906,
                    1241559043,
                    29562220,
                    77309611,
                    1605224506,
                    1116995633,
                    838079900,
                    1163620694,
                    1093605526,
                    179659294,
                    39058561,
                    36912123,
                    1205951614,
                    1791000570,
                    201660859,
                    248088961,
                    90839753,
                    607123776,
                    55842345,
                    211050784,
                    342897938,
                    2762,
                    601863821,
                    1953533826,
                    2355719893,
                    66902503,
                    96273746,
                    430977451,
                    284819874,
                    721975598,
                    276259178,
                    54225632,
                    2559529074,
                    681583126,
                    2594040133,
                    81102253,
                    11956641,
                    1687664027,
                    611700552,
                    1133865788,
                    1089402494,
                    411747614,
                    255932395,
                    31873544,
                    233801632,
                    1481349984,
                    142095275,
                    2011464183,
                    436027885,
                    2713922350,
                    621660989,
                    950906471,
                    1593270737,
                    1410088830,
                    1235005533,
                    1374581173,
                    94186466,
                    1788326445,
                    1840364617,
                    143573775,
                    684675814,
                    1113838873,
                    1267333350,
                    3562543890,
                    1271293243,
                    265882712,
                    841749534,
                    47956378,
                    806397070,
                    1641426668,
                    2135158446,
                    367316268,
                    350381515,
                    1264310836,
                    30343206,
                    405136812,
                    540654286,
                    57312735,
                    397582059,
                    1479115056,
                    86773632,
                    133753727,
                    123124076,
                    463564958,
                    64533040,
                    65496046,
                    68616963,
                    161460990,
                    70106975,
                    113509496,
                    89933133,
                    71007139,
                    43522589,
                    232896922,
                    37126685,
                    195576623,
                    532336353,
                    538115192,
                    46142772,
                    401036314,
                    127026613,
                    345031710,
                    288101651,
                    60350538,
                    335074782,
                    76767396,
                    46065667,
                    459276435,
                    39666245,
                    138517666,
                    822633917,
                    595900742,
                    51985779,
                    57945987,
                    115010040,
                    175097833,
                    57089066,
                    488386797,
                    32761689,
                    1047480053,
                    153454328,
                    217672943,
                    457184829,
                    726434358,
                    573633020,
                    1406111294,
                    71573339,
                    24975653,
                    145458418,
                    1424589568,
                    231332117,
                    415932686,
                    988515741,
                    50847624,
                    39893489,
                    92035115,
                    118810253,
                    77233241,
                    117747907,
                    266624541,
                    293186992,
                    139681964,
                    123132751,
                    103762518,
                    162887075,
                    91221625,
                    190490915,
                    96180277,
                    185240616,
                    885093467,
                    104992946,
                    147290338,
                    158950978,
                    76910644,
                    137123880,
                    782369383,
                    502574952,
                    207033255,
                    381161027,
                    466231982,
                    357580552,
                    61105704,
                    198275403,
                    705469769,
                    34502215,
                    304118600,
                    1449799467,
                    173627354,
                    90025258,
                    652704649,
                    1829992958,
                    655466831,
                    146409671,
                    95816024,
                    117206995,
                    100409613,
                    80758350,
                    325592432,
                    58473276,
                    52722996,
                    191945597,
                    77377503,
                    743693613,
                    267789608,
                    449701773,
                    67070410,
                    116334601,
                    165584767,
                    367814306,
                    477033549,
                    156214700,
                    448843705,
                    294352144,
                    972164968,
                    920045682,
                    2420461338,
                    244658767,
                    68216992,
                    223582566,
                    471819764,
                    1361425037,
                    116599790,
                    148469433,
                    497225336,
                    88791109,
                    125917280,
                    105062254,
                    95623148,
                    144584800,
                    298063749,
                    166570053,
                    83021468,
                    139836056,
                    303216294,
                    221409663,
                    58890931,
                    81419389,
                    156777415,
                    284908316,
                    93438910,
                    363472647,
                    372476382,
                    56533272,
                    175399345,
                    203221468,
                    1624165576,
                    134294498,
                    70069745,
                    609293408,
                    671365962,
                    93587665,
                    1223481149,
                    1022258230,
                    263453310,
                    1435127549,
                    236857112,
                    147538971,
                    698086140,
                    723894473,
                    403097450,
                    309483971,
                    319566866,
                    909001996,
                    1061966512,
                    124988687,
                    134255790,
                    301051721,
                    156338624,
                    309653982,
                    297328960,
                    332506354,
                    480507035,
                    1065580332,
                    122763672,
                    1365184,
                    184308753,
                    606361689,
                    120972253,
                    338564981,
                    1606986953,
                    1301799902,
                    140187018,
                    107642809,
                    556585270,
                    2303033973,
                    646886885,
                    872137015,
                    571386359,
                    174006928,
                    284785823,
                    163284000,
                    246390068,
                    482257456,
                    168684524,
                    78489819,
                    195516622,
                    1260594497,
                    428685680,
                    1024858327,
                    838586769,
                    199386237,
                    972509632,
                    213438580,
                    210038833,
                    227918678,
                    826623384,
                    1802514301,
                    181831132,
                    462791599,
                    348647203,
                    90598517,
                    807561936,
                    663832097,
                    446390129,
                    485285717,
                    520034544,
                    476244795,
                    629173063,
                    404664135,
                    98709329,
                    110849052,
                    460492795,
                    94005786,
                    389771964,
                    403939487,
                    110073250,
                    351636786,
                    473248298,
                    73981293,
                    155653938,
                    395591396,
                    429504768,
                    242767149,
                    65362788,
                    67540165,
                    62019074,
                    295998468,
                    136689549,
                    135611421,
                    356709897,
                    110649992,
                    301869854,
                    127027715,
                    57144458,
                    56870689,
                    323437194,
                    317726339,
                    116144341,
                    328207708,
                    608228647,
                    180577478,
                    809306935,
                    49262961,
                    614555082,
                    245350949,
                    178660459,
                    51641685,
                    78139948,
                    322336177,
                    391251368,
                    349585590,
                    674772936,
                    119238316,
                    116903579,
                    888046992,
                    130655803,
                    88103848,
                    101114984,
                    1575467011,
                    91656026,
                    53933526,
                    267758538,
                    74601456,
                    920797189,
                    539595276,
                    1367810478,
                    578207856,
                    775542072,
                    656013912,
                    240684449,
                    63803529,
                    466214729,
                    236940480,
                    41924466,
                    225259194,
                    393230256,
                    287201015,
                    599770206,
                    342779426,
                    673801126,
                    1168642797,
                    383550148,
                    530511203,
                    510876816,
                    1763363713,
                    374191487,
                    108809090,
                    436695353,
                    354065229,
                    1143647827,
                    311395144,
                    672656250,
                    1256880657,
                    245095641,
                    686734357,
                    261414174,
                    610045621,
                    1115880852,
                    594482982,
                    566954746,
                    null,
                    184937148,
                    31959571,
                    824420218,
                    363467642,
                    1127468248,
                    60680939,
                    247737946,
                    154797871,
                    124407432,
                    850608354,
                    376333030,
                    516784627,
                    1608045237,
                    506778838,
                    1472799873,
                    513643924,
                    261286503,
                    783706581,
                    422691058,
                    1062345656,
                    851070493,
                    263894529,
                    345903614,
                    956865266,
                    427486004,
                    156658366,
                    624515457,
                    777765388,
                    1138474110,
                    355219175,
                    290228626,
                    1062956628,
                    1180094974,
                    1456081449,
                    432702334,
                    489945871,
                    465959382,
                    1223481149,
                    2288695111,
                    720825549,
                    2086124197,
                    1690192927,
                    593917618,
                    200972675,
                    71014967,
                    560222750,
                    1806617704,
                    77337771,
                    528544703,
                    865640097,
                    2159346687,
                    211372494,
                    651732901,
                    608334048,
                    863756573,
                    797402345,
                    1695712020,
                    1759567999,
                    223319934,
                    54937991,
                    258316038,
                    596152090,
                    177129919,
                    716591492,
                    1210599487,
                    246376690,
                    496311364,
                    843309044,
                    500340342,
                    107255472,
                    135079152,
                    822239726,
                    1202722675,
                    343197054,
                    240769997,
                    426204830,
                    421135627,
                    554875730,
                    327498031,
                    185408548,
                    245400167,
                    579395142,
                    675039469,
                    252871192,
                    231996128,
                    1929770265,
                    918915401,
                    1180896317,
                    498960285,
                    258714692,
                    143139338,
                    209768491,
                    64714573,
                    50746620,
                    154119539,
                    181328253,
                    370068639,
                    2280566092,
                    563902868,
                    317622165,
                    203680270,
                    81350745,
                    282883169,
                    64787943,
                    2484812918,
                    461437791,
                    1439191367,
                    759208783,
                    368646862,
                    299634472,
                    756907987,
                    682475162,
                    546191065,
                    229473310,
                    202677468,
                    208166039,
                    527033089,
                    94616487,
                    394030335,
                    193443895,
                    299648208,
                    319757142,
                    153240879,
                    346127840,
                    312622938,
                    1200808494,
                    797196073,
                    1970673297,
                    665765558,
                    263779030,
                    339473453,
                    2204080728,
                    2591224264,
                    135444283,
                    236872197,
                    694525298,
                    421365166,
                    349746291,
                    255120451,
                    190981339,
                    924193303,
                    305771063,
                    273005485,
                    89566512,
                    677389855,
                    75476209,
                    408843328,
                    187772591,
                    178512385,
                    101780047,
                    146363130,
                    126443991,
                    157990698,
                    176290831,
                    1023187129,
                    106933107,
                    139193812,
                    212234990,
                    1714490998,
                    197643795,
                    807015863,
                    933815613,
                    499710590,
                    120847157,
                    53909146,
                    2236667932,
                    2123309722,
                    301242089,
                    723894473,
                    237351106,
                    461558540,
                    156898322,
                    127309180,
                    173702135,
                    305650299,
                    123216717,
                    479655659,
                    126191104,
                    344055883,
                    338422004,
                    68895644,
                    86176890,
                    403231558,
                    319546754,
                    61739839,
                    283359161,
                    76831876,
                    283332261,
                    307752576,
                    279737940,
                    212351890,
                    1304313953,
                    150500965,
                    246127838,
                    582863434,
                    58687425,
                    212109195,
                    382199619,
                    41210087,
                    231657891,
                    53729194,
                    244741137,
                    42485571,
                    37778188,
                    254218729,
                    53603447,
                    160035717,
                    37091576,
                    284249832,
                    33381454,
                    184622518,
                    300983101,
                    121077868,
                    106919680,
                    136996305,
                    65719930,
                    229497852,
                    185550869,
                    54682594,
                    240580042,
                    1284942608,
                    71423324,
                    244891912,
                    132171975,
                    184706613,
                    184826429,
                    302006641,
                    330881149,
                    334733572,
                    366214458,
                    114546317,
                    448500832,
                    136676504,
                    190625045,
                    79095270,
                    273194684,
                    333146475,
                    194902696,
                    195918494,
                    248511839,
                    233671263,
                    199587884,
                    91781263,
                    383835984,
                    236060709,
                    189236868,
                    160845341,
                    588955257,
                    238350348,
                    187703102,
                    138334433,
                    445590495,
                    286739476,
                    1122364376,
                    157136970,
                    183273246,
                    164856284,
                    704171068,
                    354614964,
                    279717388,
                    195628667,
                    221752937,
                    263280370,
                    213505179,
                    130419412,
                    155795783,
                    1553497987,
                    293466523,
                    191448892,
                    85924992,
                    176103902,
                    121189256,
                    131746175,
                    244790012,
                    129314708,
                    331511413,
                    170732845,
                    179061440,
                    185236961,
                    171788484,
                    387080183,
                    264717480,
                    244928911,
                    97610446,
                    287278853,
                    887906111,
                    123473120,
                    323455692,
                    240918092,
                    191873381,
                    239411309,
                    703301727,
                    189476119,
                    277132266,
                    278920007,
                    222410722,
                    185392587,
                    202452860,
                    1608164312,
                    624101957,
                    148461629,
                    47093942,
                    380319238,
                    209106362,
                    53987404,
                    115331792,
                    225093344,
                    84697729,
                    159240673,
                    170709584,
                    154356956,
                    723043854,
                    247689123,
                    176474912,
                    235549288,
                    85559365,
                    146223492,
                    187701588,
                    154863153,
                    191333656,
                    253650850,
                    223064273,
                    170413877,
                    218320587,
                    141720999,
                    198365537,
                    177503916,
                    71095708,
                    112436403,
                    203436468,
                    93367537,
                    106249219,
                    181382590,
                    91473363,
                    121871870,
                    73513683,
                    133895612,
                    96007391
                  ],
                  "xaxis": "x",
                  "yaxis": "y"
                },
                {
                  "boxmean": true,
                  "boxpoints": "all",
                  "marker": {
                    "color": "gold"
                  },
                  "name": "Más de dos",
                  "type": "box",
                  "x": [
                    141381703,
                    183706234,
                    725980112,
                    553634067,
                    505671438,
                    335222234,
                    86444842,
                    200647221,
                    115364561,
                    899183384,
                    61245289,
                    52294266,
                    843957510,
                    618990393,
                    188933502,
                    354495408,
                    2808096550,
                    1109433169,
                    1047101291,
                    2565529693,
                    518745108,
                    107753850,
                    177740666,
                    111947664,
                    156338624,
                    720434240,
                    357925728,
                    674072710,
                    54266102,
                    1356565093,
                    1230675890,
                    585695368,
                    600976848,
                    39709092,
                    2665343922,
                    223633238,
                    1440757818,
                    58054811,
                    250305248,
                    144565150,
                    286400165,
                    1605224506,
                    1093605526,
                    39058561,
                    248088961,
                    90839753,
                    55842345,
                    211050784,
                    2762,
                    1953533826,
                    2355719893,
                    66902503,
                    721975598,
                    276259178,
                    54225632,
                    81102253,
                    11956641,
                    611700552,
                    1133865788,
                    233801632,
                    142095275,
                    436027885,
                    2713922350,
                    1235005533,
                    94186466,
                    367316268,
                    57312735,
                    86773632,
                    133753727,
                    463564958,
                    64533040,
                    161460990,
                    70106975,
                    113509496,
                    89933133,
                    71007139,
                    43522589,
                    37126685,
                    532336353,
                    538115192,
                    46142772,
                    401036314,
                    127026613,
                    288101651,
                    60350538,
                    46065667,
                    39666245,
                    138517666,
                    51985779,
                    57945987,
                    115010040,
                    57089066,
                    32761689,
                    573633020,
                    71573339,
                    24975653,
                    231332117,
                    50847624,
                    92035115,
                    77233241,
                    266624541,
                    162887075,
                    96180277,
                    104992946,
                    147290338,
                    158950978,
                    76910644,
                    207033255,
                    61105704,
                    198275403,
                    705469769,
                    34502215,
                    304118600,
                    90025258,
                    652704649,
                    655466831,
                    146409671,
                    95816024,
                    100409613,
                    80758350,
                    325592432,
                    58473276,
                    77377503,
                    116334601,
                    477033549,
                    294352144,
                    223582566,
                    471819764,
                    116599790,
                    497225336,
                    105062254,
                    139836056,
                    221409663,
                    58890931,
                    93438910,
                    609293408,
                    93587665,
                    1223481149,
                    263453310,
                    1435127549,
                    236857112,
                    309483971,
                    1061966512,
                    1065580332,
                    1365184,
                    184308753,
                    606361689,
                    120972253,
                    140187018,
                    556585270,
                    174006928,
                    78489819,
                    195516622,
                    972509632,
                    213438580,
                    1802514301,
                    462791599,
                    90598517,
                    460492795,
                    94005786,
                    110073250,
                    473248298,
                    155653938,
                    395591396,
                    295998468,
                    136689549,
                    110649992,
                    323437194,
                    116144341,
                    608228647,
                    180577478,
                    809306935,
                    614555082,
                    78139948,
                    322336177,
                    349585590,
                    674772936,
                    88103848,
                    1575467011,
                    91656026,
                    539595276,
                    578207856,
                    775542072,
                    656013912,
                    240684449,
                    236940480,
                    393230256,
                    673801126,
                    383550148,
                    530511203,
                    1763363713,
                    374191487,
                    436695353,
                    354065229,
                    311395144,
                    672656250,
                    686734357,
                    261414174,
                    610045621,
                    1115880852,
                    594482982,
                    566954746,
                    184937148,
                    60680939,
                    154797871,
                    261286503,
                    422691058,
                    263894529,
                    956865266,
                    427486004,
                    355219175,
                    489945871,
                    1223481149,
                    720825549,
                    593917618,
                    200972675,
                    560222750,
                    528544703,
                    2159346687,
                    651732901,
                    863756573,
                    1695712020,
                    223319934,
                    54937991,
                    258316038,
                    596152090,
                    177129919,
                    716591492,
                    1210599487,
                    843309044,
                    107255472,
                    135079152,
                    426204830,
                    327498031,
                    245400167,
                    579395142,
                    675039469,
                    252871192,
                    918915401,
                    1180896317,
                    143139338,
                    209768491,
                    64714573,
                    81350745,
                    64787943,
                    2484812918,
                    461437791,
                    759208783,
                    299634472,
                    756907987,
                    208166039,
                    94616487,
                    153240879,
                    2204080728,
                    2591224264,
                    236872197,
                    349746291,
                    273005485,
                    75476209,
                    187772591,
                    178512385,
                    176290831,
                    106933107,
                    197643795,
                    933815613,
                    120847157,
                    237351106,
                    127309180,
                    123216717,
                    479655659,
                    344055883,
                    68895644,
                    86176890,
                    319546754,
                    76831876,
                    307752576,
                    1304313953,
                    58687425,
                    212109195,
                    284249832,
                    33381454,
                    184622518,
                    300983101,
                    121077868,
                    106919680,
                    240580042,
                    136676504,
                    190625045,
                    333146475,
                    194902696,
                    248511839,
                    383835984,
                    160845341,
                    138334433,
                    286739476,
                    279717388,
                    130419412,
                    85924992,
                    176103902,
                    121189256,
                    129314708,
                    170732845,
                    287278853,
                    123473120,
                    323455692,
                    240918092,
                    191873381,
                    47093942,
                    209106362,
                    84697729,
                    159240673,
                    146223492,
                    187701588,
                    154863153,
                    191333656,
                    170413877,
                    141720999,
                    198365537,
                    71095708,
                    112436403,
                    106249219,
                    73513683,
                    133895612
                  ],
                  "xaxis": "x2",
                  "yaxis": "y2"
                },
                {
                  "boxmean": true,
                  "boxpoints": "all",
                  "marker": {
                    "color": "mediumseagreen"
                  },
                  "name": "Un solo artista",
                  "type": "box",
                  "x": [
                    133716286,
                    140003974,
                    800840817,
                    303236322,
                    58149378,
                    95217315,
                    58255150,
                    387570742,
                    1163093654,
                    496795686,
                    363369738,
                    52135248,
                    78300654,
                    429829812,
                    127408954,
                    22581161,
                    999748277,
                    1355959075,
                    786181836,
                    176553476,
                    570515054,
                    1647990401,
                    153372011,
                    57876440,
                    256483385,
                    1214083358,
                    1755214421,
                    404562836,
                    373199958,
                    14780425,
                    39578178,
                    751134527,
                    1592909789,
                    635412045,
                    43857627,
                    2009094673,
                    39228929,
                    165484133,
                    157058870,
                    95131998,
                    685032533,
                    38411956,
                    127567540,
                    399686758,
                    983637508,
                    118482347,
                    882831184,
                    172825906,
                    1241559043,
                    29562220,
                    77309611,
                    1116995633,
                    838079900,
                    1163620694,
                    179659294,
                    36912123,
                    1205951614,
                    1791000570,
                    201660859,
                    607123776,
                    342897938,
                    601863821,
                    96273746,
                    430977451,
                    284819874,
                    2559529074,
                    681583126,
                    2594040133,
                    1687664027,
                    1089402494,
                    411747614,
                    255932395,
                    31873544,
                    1481349984,
                    2011464183,
                    621660989,
                    950906471,
                    1593270737,
                    1410088830,
                    1374581173,
                    1788326445,
                    1840364617,
                    143573775,
                    684675814,
                    1113838873,
                    1267333350,
                    3562543890,
                    1271293243,
                    265882712,
                    841749534,
                    47956378,
                    806397070,
                    1641426668,
                    2135158446,
                    350381515,
                    1264310836,
                    30343206,
                    405136812,
                    540654286,
                    397582059,
                    1479115056,
                    123124076,
                    65496046,
                    68616963,
                    232896922,
                    195576623,
                    345031710,
                    335074782,
                    76767396,
                    459276435,
                    822633917,
                    595900742,
                    175097833,
                    488386797,
                    1047480053,
                    153454328,
                    217672943,
                    457184829,
                    726434358,
                    1406111294,
                    145458418,
                    1424589568,
                    415932686,
                    988515741,
                    39893489,
                    118810253,
                    117747907,
                    293186992,
                    139681964,
                    123132751,
                    103762518,
                    91221625,
                    190490915,
                    185240616,
                    885093467,
                    137123880,
                    782369383,
                    502574952,
                    381161027,
                    466231982,
                    357580552,
                    1449799467,
                    173627354,
                    1829992958,
                    117206995,
                    52722996,
                    191945597,
                    743693613,
                    267789608,
                    449701773,
                    67070410,
                    165584767,
                    367814306,
                    156214700,
                    448843705,
                    972164968,
                    920045682,
                    2420461338,
                    244658767,
                    68216992,
                    1361425037,
                    148469433,
                    88791109,
                    125917280,
                    95623148,
                    144584800,
                    298063749,
                    166570053,
                    83021468,
                    303216294,
                    81419389,
                    156777415,
                    284908316,
                    363472647,
                    372476382,
                    56533272,
                    175399345,
                    203221468,
                    1624165576,
                    134294498,
                    70069745,
                    671365962,
                    1022258230,
                    147538971,
                    698086140,
                    723894473,
                    403097450,
                    319566866,
                    909001996,
                    124988687,
                    134255790,
                    301051721,
                    156338624,
                    309653982,
                    297328960,
                    332506354,
                    480507035,
                    122763672,
                    338564981,
                    1606986953,
                    1301799902,
                    107642809,
                    2303033973,
                    646886885,
                    872137015,
                    571386359,
                    284785823,
                    163284000,
                    246390068,
                    482257456,
                    168684524,
                    1260594497,
                    428685680,
                    1024858327,
                    838586769,
                    199386237,
                    210038833,
                    227918678,
                    826623384,
                    181831132,
                    348647203,
                    807561936,
                    663832097,
                    446390129,
                    485285717,
                    520034544,
                    476244795,
                    629173063,
                    404664135,
                    98709329,
                    110849052,
                    389771964,
                    403939487,
                    351636786,
                    73981293,
                    429504768,
                    242767149,
                    65362788,
                    67540165,
                    62019074,
                    135611421,
                    356709897,
                    301869854,
                    127027715,
                    57144458,
                    56870689,
                    317726339,
                    328207708,
                    49262961,
                    245350949,
                    178660459,
                    51641685,
                    391251368,
                    119238316,
                    116903579,
                    888046992,
                    130655803,
                    101114984,
                    53933526,
                    267758538,
                    74601456,
                    920797189,
                    1367810478,
                    63803529,
                    466214729,
                    41924466,
                    225259194,
                    287201015,
                    599770206,
                    342779426,
                    1168642797,
                    510876816,
                    108809090,
                    1143647827,
                    1256880657,
                    245095641,
                    null,
                    31959571,
                    824420218,
                    363467642,
                    1127468248,
                    247737946,
                    124407432,
                    850608354,
                    376333030,
                    516784627,
                    1608045237,
                    506778838,
                    1472799873,
                    513643924,
                    783706581,
                    1062345656,
                    851070493,
                    345903614,
                    156658366,
                    624515457,
                    777765388,
                    1138474110,
                    290228626,
                    1062956628,
                    1180094974,
                    1456081449,
                    432702334,
                    465959382,
                    2288695111,
                    2086124197,
                    1690192927,
                    71014967,
                    1806617704,
                    77337771,
                    865640097,
                    211372494,
                    608334048,
                    797402345,
                    1759567999,
                    246376690,
                    496311364,
                    500340342,
                    822239726,
                    1202722675,
                    343197054,
                    240769997,
                    421135627,
                    554875730,
                    185408548,
                    231996128,
                    1929770265,
                    498960285,
                    258714692,
                    50746620,
                    154119539,
                    181328253,
                    370068639,
                    2280566092,
                    563902868,
                    317622165,
                    203680270,
                    282883169,
                    1439191367,
                    368646862,
                    682475162,
                    546191065,
                    229473310,
                    202677468,
                    527033089,
                    394030335,
                    193443895,
                    299648208,
                    319757142,
                    346127840,
                    312622938,
                    1200808494,
                    797196073,
                    1970673297,
                    665765558,
                    263779030,
                    339473453,
                    135444283,
                    694525298,
                    421365166,
                    255120451,
                    190981339,
                    924193303,
                    305771063,
                    89566512,
                    677389855,
                    408843328,
                    101780047,
                    146363130,
                    126443991,
                    157990698,
                    1023187129,
                    139193812,
                    212234990,
                    1714490998,
                    807015863,
                    499710590,
                    53909146,
                    2236667932,
                    2123309722,
                    301242089,
                    723894473,
                    461558540,
                    156898322,
                    173702135,
                    305650299,
                    126191104,
                    338422004,
                    403231558,
                    61739839,
                    283359161,
                    283332261,
                    279737940,
                    212351890,
                    150500965,
                    246127838,
                    582863434,
                    382199619,
                    41210087,
                    231657891,
                    53729194,
                    244741137,
                    42485571,
                    37778188,
                    254218729,
                    53603447,
                    160035717,
                    37091576,
                    136996305,
                    65719930,
                    229497852,
                    185550869,
                    54682594,
                    1284942608,
                    71423324,
                    244891912,
                    132171975,
                    184706613,
                    184826429,
                    302006641,
                    330881149,
                    334733572,
                    366214458,
                    114546317,
                    448500832,
                    79095270,
                    273194684,
                    195918494,
                    233671263,
                    199587884,
                    91781263,
                    236060709,
                    189236868,
                    588955257,
                    238350348,
                    187703102,
                    445590495,
                    1122364376,
                    157136970,
                    183273246,
                    164856284,
                    704171068,
                    354614964,
                    195628667,
                    221752937,
                    263280370,
                    213505179,
                    155795783,
                    1553497987,
                    293466523,
                    191448892,
                    131746175,
                    244790012,
                    331511413,
                    179061440,
                    185236961,
                    171788484,
                    387080183,
                    264717480,
                    244928911,
                    97610446,
                    887906111,
                    239411309,
                    703301727,
                    189476119,
                    277132266,
                    278920007,
                    222410722,
                    185392587,
                    202452860,
                    1608164312,
                    624101957,
                    148461629,
                    380319238,
                    53987404,
                    115331792,
                    225093344,
                    170709584,
                    154356956,
                    723043854,
                    247689123,
                    176474912,
                    235549288,
                    85559365,
                    253650850,
                    223064273,
                    218320587,
                    177503916,
                    203436468,
                    93367537,
                    181382590,
                    91473363,
                    121871870,
                    96007391
                  ],
                  "xaxis": "x2",
                  "yaxis": "y2"
                },
                {
                  "type": "heatmap",
                  "x": [
                    "artist_count",
                    "released_year",
                    "released_month",
                    "released_day",
                    "in_spotify_playlists",
                    "in_spotify_charts",
                    "streams",
                    "in_apple_playlists",
                    "in_apple_charts",
                    "in_deezer_playlists",
                    "in_deezer_charts",
                    "in_shazam_charts",
                    "bpm",
                    "danceability_%",
                    "valence_%",
                    "energy_%",
                    "acousticness_%",
                    "instrumentalness_%",
                    "liveness_%",
                    "speechiness_%",
                    "features",
                    "key_A",
                    "key_A#",
                    "key_B",
                    "key_C#",
                    "key_D",
                    "key_D#",
                    "key_E",
                    "key_F",
                    "key_F#",
                    "key_G",
                    "key_G#",
                    "mode_Major",
                    "mode_Minor"
                  ],
                  "xaxis": "x3",
                  "y": [
                    "artist_count",
                    "released_year",
                    "released_month",
                    "released_day",
                    "in_spotify_playlists",
                    "in_spotify_charts",
                    "streams",
                    "in_apple_playlists",
                    "in_apple_charts",
                    "in_deezer_playlists",
                    "in_deezer_charts",
                    "in_shazam_charts",
                    "bpm",
                    "danceability_%",
                    "valence_%",
                    "energy_%",
                    "acousticness_%",
                    "instrumentalness_%",
                    "liveness_%",
                    "speechiness_%",
                    "features",
                    "key_A",
                    "key_A#",
                    "key_B",
                    "key_C#",
                    "key_D",
                    "key_D#",
                    "key_E",
                    "key_F",
                    "key_F#",
                    "key_G",
                    "key_G#",
                    "mode_Major",
                    "mode_Minor"
                  ],
                  "yaxis": "y3",
                  "z": [
                    [
                      1,
                      0.0735643557900106,
                      0.033856605368275776,
                      -0.014761747140203497,
                      -0.08522637531717166,
                      -0.008570061483346643,
                      -0.1097599524043898,
                      -0.017024010627522523,
                      -0.07527140676231472,
                      -0.0681461764386944,
                      0.020584939685693523,
                      -0.04445421610508266,
                      -0.058843659371359144,
                      0.2140780153629738,
                      0.12365013527243766,
                      0.13752971396573355,
                      -0.09470350886704695,
                      -0.06126890027505064,
                      0.03435375353058178,
                      0.13148592291378983,
                      0.8020761968064459,
                      0.023206726487511133,
                      -0.04036556438547623,
                      0.05869691412510484,
                      0.04295677657034603,
                      -0.03471608339326654,
                      -0.0002820000169539866,
                      -0.04054325352667237,
                      -0.015452383921586621,
                      -0.005968041358034487,
                      0.02807142295672741,
                      -0.033302448165658534,
                      -0.11163162383884359,
                      0.11163162383884358
                    ],
                    [
                      0.0735643557900106,
                      1,
                      0.07643869857239981,
                      0.16637665154446765,
                      -0.3907293115530166,
                      0.06867872145994551,
                      -0.24272579089008642,
                      -0.20147449681379845,
                      0.0034787869408798265,
                      -0.23436363453966,
                      0.09574147745073561,
                      0.024319112280624892,
                      -0.011569547380703062,
                      0.21503163783892068,
                      -0.047642798848288384,
                      0.07888637478143104,
                      -0.13322358852373312,
                      -0.02395830692694295,
                      0.008488833640366763,
                      0.12988657481527743,
                      0.10944385379390209,
                      -0.018268260960252875,
                      0.034222069292180364,
                      0.04364435660285548,
                      -0.02037171646680423,
                      -0.03490876862175944,
                      -0.019082371251706396,
                      0.022716323541324215,
                      0.028662038694950962,
                      -0.03236903835157721,
                      -0.03366816301587345,
                      0.031519337715891264,
                      -0.09142887646641862,
                      0.09142887646641866
                    ],
                    [
                      0.033856605368275776,
                      0.07643869857239981,
                      1,
                      0.0577841849237184,
                      -0.12240731512240241,
                      -0.05018640797434948,
                      -0.04604125957096039,
                      -0.03402850515527687,
                      -0.017812891521966648,
                      -0.044671309822031505,
                      0.006942239331867263,
                      -0.09754717539686569,
                      -0.0493999786437421,
                      -0.05480810569147382,
                      -0.11035481332072888,
                      -0.08689743360147519,
                      0.05504626589857863,
                      0.03548115743375766,
                      0.0013290126741325953,
                      0.042127027471914116,
                      0.020382805246358108,
                      -0.03687924717144473,
                      -0.005485928452531994,
                      0.0030346132599265306,
                      -0.007010092243051606,
                      -0.0028372226820184915,
                      0.009932812528427952,
                      0.04094686162442555,
                      -0.009554952294997426,
                      -0.03854744871276678,
                      0.03413879372917809,
                      0.01509045773413044,
                      0.08185159156959589,
                      -0.08185159156959594
                    ],
                    [
                      -0.014761747140203497,
                      0.16637665154446765,
                      0.0577841849237184,
                      1,
                      -0.10761588105011606,
                      0.01606797898531504,
                      -0.025116479922823516,
                      -0.011915957650662837,
                      0.007726559219350334,
                      -0.027741474933928686,
                      0.05542631800561091,
                      0.029005749517199853,
                      -0.03339376399725477,
                      0.08424386875772844,
                      0.0627513964277264,
                      0.047318310687688075,
                      0.000785350093012633,
                      0.023039799533547588,
                      -0.011094475833796878,
                      -0.014602271061557152,
                      0.012941835668055,
                      -0.06940239543191089,
                      0.007197955243230694,
                      0.02766413711990997,
                      -0.03298059919304349,
                      0.002095965914105262,
                      0.017580722249893183,
                      0.004024232308833749,
                      -0.036543214684180106,
                      0.04970325526315506,
                      0.04086598272520069,
                      0.002502591912507471,
                      -0.017694199487852447,
                      0.017694199487852474
                    ],
                    [
                      -0.08522637531717166,
                      -0.3907293115530166,
                      -0.12240731512240241,
                      -0.10761588105011606,
                      1,
                      0.14134295883900183,
                      0.7804038503763728,
                      0.6883161979283439,
                      0.21567604568348178,
                      0.7884139797627004,
                      0.10128346186874354,
                      0.1077473114914116,
                      -0.03448250366594356,
                      -0.09698077610744844,
                      -0.029822793802813517,
                      0.035874838704220646,
                      -0.06463303527122205,
                      -0.0245697139461465,
                      -0.051972862448203296,
                      -0.07761034200340308,
                      -0.08397689791319135,
                      -0.07057359441918819,
                      -0.004638507529457011,
                      -0.02805101497194835,
                      0.08344533987081726,
                      0.027482316503356665,
                      0.03153852446485059,
                      -0.0033262907199668634,
                      -0.019690678009096792,
                      0.018837337444695696,
                      -0.015602534155405216,
                      -0.023530580745468505,
                      0.07229184584050878,
                      -0.07229184584050881
                    ],
                    [
                      -0.008570061483346643,
                      0.06867872145994551,
                      -0.05018640797434948,
                      0.01606797898531504,
                      0.14134295883900183,
                      1,
                      0.21403395317007556,
                      0.20820175691115383,
                      0.5568043244366212,
                      0.11888781679337666,
                      0.56616140561665,
                      0.5565154061930515,
                      0.028830466136862198,
                      0.05133788325737562,
                      0.05003993254209327,
                      0.10496336396034457,
                      -0.0728525875661891,
                      -0.005813736127305587,
                      -0.026581690296990222,
                      -0.09410226165435152,
                      0.04369354857658013,
                      -0.05681145362170351,
                      -0.02906711720746731,
                      0.029809051627393505,
                      0.06316952115398809,
                      0.029699581376099984,
                      -0.05130008161846249,
                      -0.01718194646968316,
                      0.06294998446827929,
                      -0.005164068922380548,
                      0.007168738099012975,
                      -0.07290953716867378,
                      -0.04358797442516466,
                      0.04358797442516442
                    ],
                    [
                      -0.1097599524043898,
                      -0.24272579089008642,
                      -0.04604125957096039,
                      -0.025116479922823516,
                      0.7804038503763728,
                      0.21403395317007556,
                      1,
                      0.7353207638877904,
                      0.2691374652573007,
                      0.7129525034675761,
                      0.18432853415873934,
                      0.043512262768445546,
                      -0.02569384650556196,
                      -0.09326818058629731,
                      -0.051013689528639834,
                      -0.036499273297597605,
                      -0.0057509692186726155,
                      -0.03303871464204409,
                      -0.05666398078034252,
                      -0.09996806352926553,
                      -0.08840020521027003,
                      -0.061382765459380415,
                      0.014547423483266817,
                      0.001899208467060847,
                      0.06327730026511416,
                      0.024713061296722266,
                      0.012393934295188825,
                      0.034701683563662024,
                      -0.008855639531686032,
                      -0.02683749338079711,
                      -0.036103224182715374,
                      -0.01981046598100204,
                      0.06392017583020325,
                      -0.06392017583020322
                    ],
                    [
                      -0.017024010627522523,
                      -0.20147449681379845,
                      -0.03402850515527687,
                      -0.011915957650662837,
                      0.6883161979283439,
                      0.20820175691115383,
                      0.7353207638877904,
                      1,
                      0.364760680543358,
                      0.6683784353742989,
                      0.3268151634305646,
                      0.1538330468732136,
                      0.005558273668496486,
                      -0.012586276582145424,
                      0.041253415530517104,
                      0.03999184961088332,
                      -0.07096542627558353,
                      -0.05437237344712564,
                      -0.06498564712323433,
                      -0.09764713653906995,
                      0.009455477034586912,
                      -0.0771485387080078,
                      -0.01643209123158596,
                      0.007808095285509879,
                      0.07682339454263784,
                      0.04051785536854057,
                      -0.007722219238910876,
                      0.008239280583404701,
                      -0.04912837526984783,
                      -0.019231643892876727,
                      0.0040682332543695455,
                      0.011418410624049993,
                      0.08594737228099818,
                      -0.08594737228099818
                    ],
                    [
                      -0.07527140676231472,
                      0.0034787869408798265,
                      -0.017812891521966648,
                      0.007726559219350334,
                      0.21567604568348178,
                      0.5568043244366212,
                      0.2691374652573007,
                      0.364760680543358,
                      1,
                      0.19430587094116625,
                      0.3665812659988011,
                      0.42697154828585987,
                      0.0270574150733873,
                      -0.026137882226427704,
                      0.04294056390652687,
                      0.12935400827431776,
                      -0.09678056639893745,
                      -0.0003805257828577765,
                      -0.007160653281334581,
                      -0.14647234378250207,
                      -0.015160012628285353,
                      -0.012246954515619511,
                      -0.043882926949796563,
                      -0.0008856890939665681,
                      0.0020266150025901116,
                      0.003956010551421817,
                      0.028610927431085727,
                      0.051644246937384085,
                      0.017364415876202535,
                      -0.0005050540455385381,
                      0.01962506694073671,
                      -0.05666818701976772,
                      -0.018144520172883854,
                      0.018144520172883694
                    ],
                    [
                      -0.0681461764386944,
                      -0.23436363453966,
                      -0.044671309822031505,
                      -0.027741474933928686,
                      0.7884139797627004,
                      0.11888781679337666,
                      0.7129525034675761,
                      0.6683784353742989,
                      0.19430587094116625,
                      1,
                      0.2256948066470102,
                      0.10553764401780673,
                      0.03335314636496087,
                      -0.10702181783760657,
                      -0.05355431511862762,
                      -0.04210471834953957,
                      0.042387814283447046,
                      0.02808278999088073,
                      0.014366412193127752,
                      -0.10930559042125752,
                      -0.06687339998744854,
                      -0.08266302202036531,
                      0.015489590957420333,
                      0.0252506129661378,
                      0.05512875549695163,
                      0.060516556330719354,
                      -0.008610665013912527,
                      0.021018728347749007,
                      -0.013102122298779684,
                      -0.035320813685516775,
                      -0.024427429612899274,
                      -0.021337912946019652,
                      0.027800986433296093,
                      -0.027800986433296083
                    ],
                    [
                      0.020584939685693523,
                      0.09574147745073561,
                      0.006942239331867263,
                      0.05542631800561091,
                      0.10128346186874354,
                      0.56616140561665,
                      0.18432853415873934,
                      0.3268151634305646,
                      0.3665812659988011,
                      0.2256948066470102,
                      1,
                      0.36176014957012237,
                      0.021730449294060643,
                      0.0814139804585954,
                      0.07316890973692117,
                      0.10434996940571484,
                      -0.035135484706235884,
                      0.003502525292610185,
                      0.0036498526119137704,
                      -0.08152255134603538,
                      0.08313462138222308,
                      -0.08544656441138235,
                      0.0182567854719123,
                      0.03279420146427987,
                      0.03919036197279416,
                      0.014495464042044796,
                      -0.01996872622990694,
                      -0.050539553451625814,
                      0.035096657203344046,
                      -0.039306007801275356,
                      0.04464888998497096,
                      -0.01664215162896115,
                      -0.02699776311447702,
                      0.02699776311447688
                    ],
                    [
                      -0.04445421610508266,
                      0.024319112280624892,
                      -0.09754717539686569,
                      0.029005749517199853,
                      0.1077473114914116,
                      0.5565154061930515,
                      0.043512262768445546,
                      0.1538330468732136,
                      0.42697154828585987,
                      0.10553764401780673,
                      0.36176014957012237,
                      1,
                      0.07436485425241222,
                      -0.01637539210087272,
                      -0.03334610598622137,
                      0.09386511428051038,
                      -0.06915541794005374,
                      -0.013616767564292115,
                      -0.05864080972515701,
                      -0.07747597866281333,
                      -0.00167985476468737,
                      0.021354294944344338,
                      -0.024818480414331424,
                      -0.035690836674231535,
                      -0.00013227601720431698,
                      0.027764180775186005,
                      0.07136148519624366,
                      -0.017531911398963856,
                      -0.0004063545961361607,
                      -0.006129678435601485,
                      0.026230392667484073,
                      -0.04145213370753821,
                      0.011854274757140378,
                      -0.011854274757140048
                    ],
                    [
                      -0.058843659371359144,
                      -0.011569547380703062,
                      -0.0493999786437421,
                      -0.03339376399725477,
                      -0.03448250366594356,
                      0.028830466136862198,
                      -0.02569384650556196,
                      0.005558273668496486,
                      0.0270574150733873,
                      0.03335314636496087,
                      0.021730449294060643,
                      0.07436485425241222,
                      1,
                      -0.1481740929493288,
                      0.0291692537137389,
                      0.013362948465509006,
                      -0.010766961485287567,
                      -0.003406877716782317,
                      -0.005816925875816951,
                      0.03824773302270688,
                      -0.05144665589867613,
                      0.06154840417835873,
                      -0.03211118831126363,
                      -0.0020148092863375286,
                      -0.00875337280196173,
                      0.007971905908650637,
                      -0.012935098002372263,
                      -0.004427391499023026,
                      -0.022998331862817228,
                      0.02360227413843357,
                      -0.006557444124378758,
                      -0.005989247434550328,
                      0.026528157359770297,
                      -0.026528157359770307
                    ],
                    [
                      0.2140780153629738,
                      0.21503163783892068,
                      -0.05480810569147382,
                      0.08424386875772844,
                      -0.09698077610744844,
                      0.05133788325737562,
                      -0.09326818058629731,
                      -0.012586276582145424,
                      -0.026137882226427704,
                      -0.10702181783760657,
                      0.0814139804585954,
                      -0.01637539210087272,
                      -0.1481740929493288,
                      1,
                      0.38972864666412954,
                      0.15797028420481965,
                      -0.24045402642431363,
                      -0.10214371529551293,
                      -0.1005785809594551,
                      0.20118919973086857,
                      0.2468539474716645,
                      -0.06861539085905198,
                      0.03143175257420861,
                      0.03648364840735673,
                      0.03978947851705082,
                      0.006085992262397807,
                      -0.019396475839522493,
                      -0.04287817859903079,
                      -0.012725275320970099,
                      0.019782863304900967,
                      0.012286263923217895,
                      -0.018104617042835617,
                      -0.14575142775187885,
                      0.14575142775187883
                    ],
                    [
                      0.12365013527243766,
                      -0.047642798848288384,
                      -0.11035481332072888,
                      0.0627513964277264,
                      -0.029822793802813517,
                      0.05003993254209327,
                      -0.051013689528639834,
                      0.041253415530517104,
                      0.04294056390652687,
                      -0.05355431511862762,
                      0.07316890973692117,
                      -0.03334610598622137,
                      0.0291692537137389,
                      0.38972864666412954,
                      1,
                      0.3497358908579402,
                      -0.06407244111484466,
                      -0.14703242621617882,
                      0.00014224966137209592,
                      0.035703597674781345,
                      0.1180069960229341,
                      -0.043869702347259946,
                      0.024808499726054856,
                      0.02066537943708393,
                      -0.013153560469911028,
                      -0.026775349058929025,
                      -0.03034203248347831,
                      -0.11776667544304446,
                      0.019570886858620927,
                      0.10722833814074097,
                      0.02976796927396862,
                      0.011519869041145424,
                      -0.07272150727375092,
                      0.07272150727375096
                    ],
                    [
                      0.13752971396573355,
                      0.07888637478143104,
                      -0.08689743360147519,
                      0.047318310687688075,
                      0.035874838704220646,
                      0.10496336396034457,
                      -0.036499273297597605,
                      0.03999184961088332,
                      0.12935400827431776,
                      -0.04210471834953957,
                      0.10434996940571484,
                      0.09386511428051038,
                      0.013362948465509006,
                      0.15797028420481965,
                      0.3497358908579402,
                      1,
                      -0.5526370327713029,
                      -0.05166229370550225,
                      0.11124024151372898,
                      -0.026880117385077694,
                      0.14617995856473937,
                      -0.08630009348231825,
                      -0.025770341091263294,
                      0.0692506266671691,
                      0.06478903044586558,
                      -0.018437779868964808,
                      -0.013692736962399858,
                      -0.03771011849694434,
                      -0.0045652017967222095,
                      0.042383346480077785,
                      -0.02271082493866128,
                      0.008269251067628105,
                      -0.07077432170464047,
                      0.07077432170464047
                    ],
                    [
                      -0.09470350886704695,
                      -0.13322358852373312,
                      0.05504626589857863,
                      0.000785350093012633,
                      -0.06463303527122205,
                      -0.0728525875661891,
                      -0.0057509692186726155,
                      -0.07096542627558353,
                      -0.09678056639893745,
                      0.042387814283447046,
                      -0.035135484706235884,
                      -0.06915541794005374,
                      -0.010766961485287567,
                      -0.24045402642431363,
                      -0.06407244111484466,
                      -0.5526370327713029,
                      1,
                      0.04669969011482176,
                      -0.04611200382927883,
                      -0.017819600566405507,
                      -0.08556310933051284,
                      0.033458598677752256,
                      -0.0032683063378081212,
                      -0.03173705225988238,
                      -0.09216713342399094,
                      0.011919424669687971,
                      0.025748069062929535,
                      0.05716483474679909,
                      0.02666518947749854,
                      0.04662488938639483,
                      0.01846590178171563,
                      -0.05706239889857545,
                      0.06490024189981669,
                      -0.06490024189981668
                    ],
                    [
                      -0.06126890027505064,
                      -0.02395830692694295,
                      0.03548115743375766,
                      0.023039799533547588,
                      -0.0245697139461465,
                      -0.005813736127305587,
                      -0.03303871464204409,
                      -0.05437237344712564,
                      -0.0003805257828577765,
                      0.02808278999088073,
                      0.003502525292610185,
                      -0.013616767564292115,
                      -0.003406877716782317,
                      -0.10214371529551293,
                      -0.14703242621617882,
                      -0.05166229370550225,
                      0.04669969011482176,
                      1,
                      -0.04462580663391406,
                      -0.0909940870331707,
                      -0.09675127377998752,
                      0.029725881699780708,
                      -0.04305392386729123,
                      -0.01535662513643132,
                      -0.01760955392932213,
                      -0.008459440502275295,
                      0.033939847598731025,
                      0.025400072090965592,
                      0.03854530780305284,
                      -0.038533653209822855,
                      -0.00026413374376813747,
                      0.0047888201544237915,
                      -0.008413727509693405,
                      0.008413727509693382
                    ],
                    [
                      0.03435375353058178,
                      0.008488833640366763,
                      0.0013290126741325953,
                      -0.011094475833796878,
                      -0.051972862448203296,
                      -0.026581690296990222,
                      -0.05666398078034252,
                      -0.06498564712323433,
                      -0.007160653281334581,
                      0.014366412193127752,
                      0.0036498526119137704,
                      -0.05864080972515701,
                      -0.005816925875816951,
                      -0.1005785809594551,
                      0.00014224966137209592,
                      0.11124024151372898,
                      -0.04611200382927883,
                      -0.04462580663391406,
                      1,
                      -0.022806600112948622,
                      0.050950503723390515,
                      0.0035340055181816727,
                      -0.048469483856010714,
                      -0.011145469712617656,
                      0.01237220505245121,
                      0.013795382792733256,
                      0.000929384348669924,
                      0.009795169246001751,
                      0.0012621545287598047,
                      0.015073439603386852,
                      -0.009018219832189475,
                      0.005226136302229957,
                      0.009578239403326142,
                      -0.009578239403326123
                    ],
                    [
                      0.13148592291378983,
                      0.12988657481527743,
                      0.042127027471914116,
                      -0.014602271061557152,
                      -0.07761034200340308,
                      -0.09410226165435152,
                      -0.09996806352926553,
                      -0.09764713653906995,
                      -0.14647234378250207,
                      -0.10930559042125752,
                      -0.08152255134603538,
                      -0.07747597866281333,
                      0.03824773302270688,
                      0.20118919973086857,
                      0.035703597674781345,
                      -0.026880117385077694,
                      -0.017819600566405507,
                      -0.0909940870331707,
                      -0.022806600112948622,
                      1,
                      0.16152370491109744,
                      -0.0333394243832704,
                      0.043067847519842856,
                      0.005936540828895039,
                      0.0670129835704697,
                      -0.034276572127855946,
                      0.023710101214477246,
                      -0.034284314981135884,
                      -0.023228398211145616,
                      -0.0035837997126515132,
                      -0.05900152586122155,
                      0.04838200644792892,
                      -0.09012583279695136,
                      0.09012583279695144
                    ],
                    [
                      0.8020761968064459,
                      0.10944385379390209,
                      0.020382805246358108,
                      0.012941835668055,
                      -0.08397689791319135,
                      0.04369354857658013,
                      -0.08840020521027003,
                      0.009455477034586912,
                      -0.015160012628285353,
                      -0.06687339998744854,
                      0.08313462138222308,
                      -0.00167985476468737,
                      -0.05144665589867613,
                      0.2468539474716645,
                      0.1180069960229341,
                      0.14617995856473937,
                      -0.08556310933051284,
                      -0.09675127377998752,
                      0.050950503723390515,
                      0.16152370491109744,
                      1,
                      0.017154117068715065,
                      -0.05738877944196785,
                      0.10760226239426629,
                      0.05423959015916967,
                      -0.01565115657155673,
                      -0.01145361539918946,
                      -0.05150670156726162,
                      -0.035672176907847915,
                      0.015493346750349577,
                      -0.007772292730436529,
                      -0.03775626731151243,
                      -0.08911644889885999,
                      0.08911644889885985
                    ],
                    [
                      0.023206726487511133,
                      -0.018268260960252875,
                      -0.03687924717144473,
                      -0.06940239543191089,
                      -0.07057359441918819,
                      -0.05681145362170351,
                      -0.061382765459380415,
                      -0.0771485387080078,
                      -0.012246954515619511,
                      -0.08266302202036531,
                      -0.08544656441138235,
                      0.021354294944344338,
                      0.06154840417835873,
                      -0.06861539085905198,
                      -0.043869702347259946,
                      -0.08630009348231825,
                      0.033458598677752256,
                      0.029725881699780708,
                      0.0035340055181816727,
                      -0.0333394243832704,
                      0.017154117068715065,
                      1,
                      -0.082882648361873,
                      -0.09951516406628291,
                      -0.12486482842157,
                      -0.10022702574241782,
                      -0.060232795758847026,
                      -0.08606987329396788,
                      -0.10650204742972984,
                      -0.09369868740973865,
                      -0.10922250843243965,
                      -0.1051268576143008,
                      0.015030107489762027,
                      -0.015030107489762043
                    ],
                    [
                      -0.04036556438547623,
                      0.034222069292180364,
                      -0.005485928452531994,
                      0.007197955243230694,
                      -0.004638507529457011,
                      -0.02906711720746731,
                      0.014547423483266817,
                      -0.01643209123158596,
                      -0.043882926949796563,
                      0.015489590957420333,
                      0.0182567854719123,
                      -0.024818480414331424,
                      -0.03211118831126363,
                      0.03143175257420861,
                      0.024808499726054856,
                      -0.025770341091263294,
                      -0.0032683063378081212,
                      -0.04305392386729123,
                      -0.048469483856010714,
                      0.043067847519842856,
                      -0.05738877944196785,
                      -0.082882648361873,
                      1,
                      -0.08666292874767521,
                      -0.10873872168247359,
                      -0.08728285454788788,
                      -0.05245381983840617,
                      -0.07495407726633913,
                      -0.09274746652416357,
                      -0.08159764139395238,
                      -0.09511658403756722,
                      -0.09154988042653446,
                      -0.05333584059190225,
                      0.05333584059190224
                    ],
                    [
                      0.05869691412510484,
                      0.04364435660285548,
                      0.0030346132599265306,
                      0.02766413711990997,
                      -0.02805101497194835,
                      0.029809051627393505,
                      0.001899208467060847,
                      0.007808095285509879,
                      -0.0008856890939665681,
                      0.0252506129661378,
                      0.03279420146427987,
                      -0.035690836674231535,
                      -0.0020148092863375286,
                      0.03648364840735673,
                      0.02066537943708393,
                      0.0692506266671691,
                      -0.03173705225988238,
                      -0.01535662513643132,
                      -0.011145469712617656,
                      0.005936540828895039,
                      0.10760226239426629,
                      -0.09951516406628291,
                      -0.08666292874767521,
                      1,
                      -0.13055991745513626,
                      -0.1047983837652348,
                      -0.06298001560388694,
                      -0.08999552311636604,
                      -0.1113596094032393,
                      -0.09797228770112841,
                      -0.11420415072399102,
                      -0.10992169713397024,
                      -0.08089195711125013,
                      0.08089195711125009
                    ],
                    [
                      0.04295677657034603,
                      -0.02037171646680423,
                      -0.007010092243051606,
                      -0.03298059919304349,
                      0.08344533987081726,
                      0.06316952115398809,
                      0.06327730026511416,
                      0.07682339454263784,
                      0.0020266150025901116,
                      0.05512875549695163,
                      0.03919036197279416,
                      -0.00013227601720431698,
                      -0.00875337280196173,
                      0.03978947851705082,
                      -0.013153560469911028,
                      0.06478903044586558,
                      -0.09216713342399094,
                      -0.01760955392932213,
                      0.01237220505245121,
                      0.0670129835704697,
                      0.05423959015916967,
                      -0.12486482842157,
                      -0.10873872168247359,
                      -0.13055991745513626,
                      1,
                      -0.13149385151983595,
                      -0.07902302042258894,
                      -0.11292023339427767,
                      -0.1397264291497032,
                      -0.12292893257676818,
                      -0.1432955652435465,
                      -0.13792223508066687,
                      0.03806519661757037,
                      -0.03806519661757037
                    ],
                    [
                      -0.03471608339326654,
                      -0.03490876862175944,
                      -0.0028372226820184915,
                      0.002095965914105262,
                      0.027482316503356665,
                      0.029699581376099984,
                      0.024713061296722266,
                      0.04051785536854057,
                      0.003956010551421817,
                      0.060516556330719354,
                      0.014495464042044796,
                      0.027764180775186005,
                      0.007971905908650637,
                      0.006085992262397807,
                      -0.026775349058929025,
                      -0.018437779868964808,
                      0.011919424669687971,
                      -0.008459440502275295,
                      0.013795382792733256,
                      -0.034276572127855946,
                      -0.01565115657155673,
                      -0.10022702574241782,
                      -0.08728285454788788,
                      -0.1047983837652348,
                      -0.13149385151983595,
                      1,
                      -0.06343053045648703,
                      -0.09063928795895422,
                      -0.11215619793270946,
                      -0.09867311272203926,
                      -0.11502108710668957,
                      -0.11070799984772832,
                      0.16627684782880067,
                      -0.16627684782880053
                    ],
                    [
                      -0.0002820000169539866,
                      -0.019082371251706396,
                      0.009932812528427952,
                      0.017580722249893183,
                      0.03153852446485059,
                      -0.05130008161846249,
                      0.012393934295188825,
                      -0.007722219238910876,
                      0.028610927431085727,
                      -0.008610665013912527,
                      -0.01996872622990694,
                      0.07136148519624366,
                      -0.012935098002372263,
                      -0.019396475839522493,
                      -0.03034203248347831,
                      -0.013692736962399858,
                      0.025748069062929535,
                      0.033939847598731025,
                      0.000929384348669924,
                      0.023710101214477246,
                      -0.01145361539918946,
                      -0.060232795758847026,
                      -0.05245381983840617,
                      -0.06298001560388694,
                      -0.07902302042258894,
                      -0.06343053045648703,
                      1,
                      -0.05447091419623425,
                      -0.06740179420799351,
                      -0.059298950571980806,
                      -0.06912348836393448,
                      -0.06653147985091373,
                      -0.07327191770037637,
                      0.07327191770037644
                    ],
                    [
                      -0.04054325352667237,
                      0.022716323541324215,
                      0.04094686162442555,
                      0.004024232308833749,
                      -0.0033262907199668634,
                      -0.01718194646968316,
                      0.034701683563662024,
                      0.008239280583404701,
                      0.051644246937384085,
                      0.021018728347749007,
                      -0.050539553451625814,
                      -0.017531911398963856,
                      -0.004427391499023026,
                      -0.04287817859903079,
                      -0.11776667544304446,
                      -0.03771011849694434,
                      0.05716483474679909,
                      0.025400072090965592,
                      0.009795169246001751,
                      -0.034284314981135884,
                      -0.05150670156726162,
                      -0.08606987329396788,
                      -0.07495407726633913,
                      -0.08999552311636604,
                      -0.11292023339427767,
                      -0.09063928795895422,
                      -0.05447091419623425,
                      1,
                      -0.09631403978813328,
                      -0.08473545180651852,
                      -0.0987742609348671,
                      -0.09507040091173644,
                      -0.16779465725767026,
                      0.16779465725767023
                    ],
                    [
                      -0.015452383921586621,
                      0.028662038694950962,
                      -0.009554952294997426,
                      -0.036543214684180106,
                      -0.019690678009096792,
                      0.06294998446827929,
                      -0.008855639531686032,
                      -0.04912837526984783,
                      0.017364415876202535,
                      -0.013102122298779684,
                      0.035096657203344046,
                      -0.0004063545961361607,
                      -0.022998331862817228,
                      -0.012725275320970099,
                      0.019570886858620927,
                      -0.0045652017967222095,
                      0.02666518947749854,
                      0.03854530780305284,
                      0.0012621545287598047,
                      -0.023228398211145616,
                      -0.035672176907847915,
                      -0.10650204742972984,
                      -0.09274746652416357,
                      -0.1113596094032393,
                      -0.1397264291497032,
                      -0.11215619793270946,
                      -0.06740179420799351,
                      -0.09631403978813328,
                      1,
                      -0.1048508468980156,
                      -0.12222233657754188,
                      -0.11763921520463998,
                      -0.03298114523259626,
                      0.03298114523259625
                    ],
                    [
                      -0.005968041358034487,
                      -0.03236903835157721,
                      -0.03854744871276678,
                      0.04970325526315506,
                      0.018837337444695696,
                      -0.005164068922380548,
                      -0.02683749338079711,
                      -0.019231643892876727,
                      -0.0005050540455385381,
                      -0.035320813685516775,
                      -0.039306007801275356,
                      -0.006129678435601485,
                      0.02360227413843357,
                      0.019782863304900967,
                      0.10722833814074097,
                      0.042383346480077785,
                      0.04662488938639483,
                      -0.038533653209822855,
                      0.015073439603386852,
                      -0.0035837997126515132,
                      0.015493346750349577,
                      -0.09369868740973865,
                      -0.08159764139395238,
                      -0.09797228770112841,
                      -0.12292893257676818,
                      -0.09867311272203926,
                      -0.059298950571980806,
                      -0.08473545180651852,
                      -0.1048508468980156,
                      1,
                      -0.10752913005755169,
                      -0.10349697793236598,
                      -0.07236947478491489,
                      0.07236947478491487
                    ],
                    [
                      0.02807142295672741,
                      -0.03366816301587345,
                      0.03413879372917809,
                      0.04086598272520069,
                      -0.015602534155405216,
                      0.007168738099012975,
                      -0.036103224182715374,
                      0.0040682332543695455,
                      0.01962506694073671,
                      -0.024427429612899274,
                      0.04464888998497096,
                      0.026230392667484073,
                      -0.006557444124378758,
                      0.012286263923217895,
                      0.02976796927396862,
                      -0.02271082493866128,
                      0.01846590178171563,
                      -0.00026413374376813747,
                      -0.009018219832189475,
                      -0.05900152586122155,
                      -0.007772292730436529,
                      -0.10922250843243965,
                      -0.09511658403756722,
                      -0.11420415072399102,
                      -0.1432955652435465,
                      -0.11502108710668957,
                      -0.06912348836393448,
                      -0.0987742609348671,
                      -0.12222233657754188,
                      -0.10752913005755169,
                      1,
                      -0.1206441611664985,
                      0.09120602343707011,
                      -0.09120602343707014
                    ],
                    [
                      -0.033302448165658534,
                      0.031519337715891264,
                      0.01509045773413044,
                      0.002502591912507471,
                      -0.023530580745468505,
                      -0.07290953716867378,
                      -0.01981046598100204,
                      0.011418410624049993,
                      -0.05666818701976772,
                      -0.021337912946019652,
                      -0.01664215162896115,
                      -0.04145213370753821,
                      -0.005989247434550328,
                      -0.018104617042835617,
                      0.011519869041145424,
                      0.008269251067628105,
                      -0.05706239889857545,
                      0.0047888201544237915,
                      0.005226136302229957,
                      0.04838200644792892,
                      -0.03775626731151243,
                      -0.1051268576143008,
                      -0.09154988042653446,
                      -0.10992169713397024,
                      -0.13792223508066687,
                      -0.11070799984772832,
                      -0.06653147985091373,
                      -0.09507040091173644,
                      -0.11763921520463998,
                      -0.10349697793236598,
                      -0.1206441611664985,
                      1,
                      0.09655869786986443,
                      -0.0965586978698643
                    ],
                    [
                      -0.11163162383884359,
                      -0.09142887646641862,
                      0.08185159156959589,
                      -0.017694199487852447,
                      0.07229184584050878,
                      -0.04358797442516466,
                      0.06392017583020325,
                      0.08594737228099818,
                      -0.018144520172883854,
                      0.027800986433296093,
                      -0.02699776311447702,
                      0.011854274757140378,
                      0.026528157359770297,
                      -0.14575142775187885,
                      -0.07272150727375092,
                      -0.07077432170464047,
                      0.06490024189981669,
                      -0.008413727509693405,
                      0.009578239403326142,
                      -0.09012583279695136,
                      -0.08911644889885999,
                      0.015030107489762027,
                      -0.05333584059190225,
                      -0.08089195711125013,
                      0.03806519661757037,
                      0.16627684782880067,
                      -0.07327191770037637,
                      -0.16779465725767026,
                      -0.03298114523259626,
                      -0.07236947478491489,
                      0.09120602343707011,
                      0.09655869786986443,
                      1,
                      -1.0000000000000002
                    ],
                    [
                      0.11163162383884358,
                      0.09142887646641866,
                      -0.08185159156959594,
                      0.017694199487852474,
                      -0.07229184584050881,
                      0.04358797442516442,
                      -0.06392017583020322,
                      -0.08594737228099818,
                      0.018144520172883694,
                      -0.027800986433296083,
                      0.02699776311447688,
                      -0.011854274757140048,
                      -0.026528157359770307,
                      0.14575142775187883,
                      0.07272150727375096,
                      0.07077432170464047,
                      -0.06490024189981668,
                      0.008413727509693382,
                      -0.009578239403326123,
                      0.09012583279695144,
                      0.08911644889885985,
                      -0.015030107489762043,
                      0.05333584059190224,
                      0.08089195711125009,
                      -0.03806519661757037,
                      -0.16627684782880053,
                      0.07327191770037644,
                      0.16779465725767023,
                      0.03298114523259625,
                      0.07236947478491487,
                      -0.09120602343707014,
                      -0.0965586978698643,
                      -1.0000000000000002,
                      1
                    ]
                  ]
                },
                {
                  "orientation": "h",
                  "type": "bar",
                  "x": [
                    0.0004954038967635496,
                    -0.012670269480950961,
                    -0.0016708532564815935,
                    -0.006001773082252885,
                    -0.003998713736353446,
                    -0.004138308277487709,
                    -0.013785829328108016,
                    -0.01970204477111676,
                    0.1904847170354805,
                    -0.26815898457475557
                  ],
                  "xaxis": "x4",
                  "y": [
                    "bpm",
                    "danceability_%",
                    "valence_%",
                    "energy_%",
                    "acousticness_%",
                    "instrumentalness_%",
                    "liveness_%",
                    "speechiness_%",
                    "features",
                    "artist_count"
                  ],
                  "yaxis": "y4"
                }
              ],
              "layout": {
                "annotations": [
                  {
                    "font": {
                      "size": 16
                    },
                    "showarrow": false,
                    "text": "Distribución reproducciones",
                    "x": 0.225,
                    "xanchor": "center",
                    "xref": "paper",
                    "y": 1,
                    "yanchor": "bottom",
                    "yref": "paper"
                  },
                  {
                    "font": {
                      "size": 16
                    },
                    "showarrow": false,
                    "text": "Diferencia #artistas",
                    "x": 0.775,
                    "xanchor": "center",
                    "xref": "paper",
                    "y": 1,
                    "yanchor": "bottom",
                    "yref": "paper"
                  },
                  {
                    "font": {
                      "size": 16
                    },
                    "showarrow": false,
                    "text": "Correlaciones",
                    "x": 0.225,
                    "xanchor": "center",
                    "xref": "paper",
                    "y": 0.375,
                    "yanchor": "bottom",
                    "yref": "paper"
                  },
                  {
                    "font": {
                      "size": 16
                    },
                    "showarrow": false,
                    "text": "Coeficientes",
                    "x": 0.775,
                    "xanchor": "center",
                    "xref": "paper",
                    "y": 0.375,
                    "yanchor": "bottom",
                    "yref": "paper"
                  }
                ],
                "bargap": 0.1,
                "height": 950,
                "template": {
                  "data": {
                    "bar": [
                      {
                        "error_x": {
                          "color": "#2a3f5f"
                        },
                        "error_y": {
                          "color": "#2a3f5f"
                        },
                        "marker": {
                          "line": {
                            "color": "#E5ECF6",
                            "width": 0.5
                          },
                          "pattern": {
                            "fillmode": "overlay",
                            "size": 10,
                            "solidity": 0.2
                          }
                        },
                        "type": "bar"
                      }
                    ],
                    "barpolar": [
                      {
                        "marker": {
                          "line": {
                            "color": "#E5ECF6",
                            "width": 0.5
                          },
                          "pattern": {
                            "fillmode": "overlay",
                            "size": 10,
                            "solidity": 0.2
                          }
                        },
                        "type": "barpolar"
                      }
                    ],
                    "carpet": [
                      {
                        "aaxis": {
                          "endlinecolor": "#2a3f5f",
                          "gridcolor": "white",
                          "linecolor": "white",
                          "minorgridcolor": "white",
                          "startlinecolor": "#2a3f5f"
                        },
                        "baxis": {
                          "endlinecolor": "#2a3f5f",
                          "gridcolor": "white",
                          "linecolor": "white",
                          "minorgridcolor": "white",
                          "startlinecolor": "#2a3f5f"
                        },
                        "type": "carpet"
                      }
                    ],
                    "choropleth": [
                      {
                        "colorbar": {
                          "outlinewidth": 0,
                          "ticks": ""
                        },
                        "type": "choropleth"
                      }
                    ],
                    "contour": [
                      {
                        "colorbar": {
                          "outlinewidth": 0,
                          "ticks": ""
                        },
                        "colorscale": [
                          [
                            0,
                            "#0d0887"
                          ],
                          [
                            0.1111111111111111,
                            "#46039f"
                          ],
                          [
                            0.2222222222222222,
                            "#7201a8"
                          ],
                          [
                            0.3333333333333333,
                            "#9c179e"
                          ],
                          [
                            0.4444444444444444,
                            "#bd3786"
                          ],
                          [
                            0.5555555555555556,
                            "#d8576b"
                          ],
                          [
                            0.6666666666666666,
                            "#ed7953"
                          ],
                          [
                            0.7777777777777778,
                            "#fb9f3a"
                          ],
                          [
                            0.8888888888888888,
                            "#fdca26"
                          ],
                          [
                            1,
                            "#f0f921"
                          ]
                        ],
                        "type": "contour"
                      }
                    ],
                    "contourcarpet": [
                      {
                        "colorbar": {
                          "outlinewidth": 0,
                          "ticks": ""
                        },
                        "type": "contourcarpet"
                      }
                    ],
                    "heatmap": [
                      {
                        "colorbar": {
                          "outlinewidth": 0,
                          "ticks": ""
                        },
                        "colorscale": [
                          [
                            0,
                            "#0d0887"
                          ],
                          [
                            0.1111111111111111,
                            "#46039f"
                          ],
                          [
                            0.2222222222222222,
                            "#7201a8"
                          ],
                          [
                            0.3333333333333333,
                            "#9c179e"
                          ],
                          [
                            0.4444444444444444,
                            "#bd3786"
                          ],
                          [
                            0.5555555555555556,
                            "#d8576b"
                          ],
                          [
                            0.6666666666666666,
                            "#ed7953"
                          ],
                          [
                            0.7777777777777778,
                            "#fb9f3a"
                          ],
                          [
                            0.8888888888888888,
                            "#fdca26"
                          ],
                          [
                            1,
                            "#f0f921"
                          ]
                        ],
                        "type": "heatmap"
                      }
                    ],
                    "heatmapgl": [
                      {
                        "colorbar": {
                          "outlinewidth": 0,
                          "ticks": ""
                        },
                        "colorscale": [
                          [
                            0,
                            "#0d0887"
                          ],
                          [
                            0.1111111111111111,
                            "#46039f"
                          ],
                          [
                            0.2222222222222222,
                            "#7201a8"
                          ],
                          [
                            0.3333333333333333,
                            "#9c179e"
                          ],
                          [
                            0.4444444444444444,
                            "#bd3786"
                          ],
                          [
                            0.5555555555555556,
                            "#d8576b"
                          ],
                          [
                            0.6666666666666666,
                            "#ed7953"
                          ],
                          [
                            0.7777777777777778,
                            "#fb9f3a"
                          ],
                          [
                            0.8888888888888888,
                            "#fdca26"
                          ],
                          [
                            1,
                            "#f0f921"
                          ]
                        ],
                        "type": "heatmapgl"
                      }
                    ],
                    "histogram": [
                      {
                        "marker": {
                          "pattern": {
                            "fillmode": "overlay",
                            "size": 10,
                            "solidity": 0.2
                          }
                        },
                        "type": "histogram"
                      }
                    ],
                    "histogram2d": [
                      {
                        "colorbar": {
                          "outlinewidth": 0,
                          "ticks": ""
                        },
                        "colorscale": [
                          [
                            0,
                            "#0d0887"
                          ],
                          [
                            0.1111111111111111,
                            "#46039f"
                          ],
                          [
                            0.2222222222222222,
                            "#7201a8"
                          ],
                          [
                            0.3333333333333333,
                            "#9c179e"
                          ],
                          [
                            0.4444444444444444,
                            "#bd3786"
                          ],
                          [
                            0.5555555555555556,
                            "#d8576b"
                          ],
                          [
                            0.6666666666666666,
                            "#ed7953"
                          ],
                          [
                            0.7777777777777778,
                            "#fb9f3a"
                          ],
                          [
                            0.8888888888888888,
                            "#fdca26"
                          ],
                          [
                            1,
                            "#f0f921"
                          ]
                        ],
                        "type": "histogram2d"
                      }
                    ],
                    "histogram2dcontour": [
                      {
                        "colorbar": {
                          "outlinewidth": 0,
                          "ticks": ""
                        },
                        "colorscale": [
                          [
                            0,
                            "#0d0887"
                          ],
                          [
                            0.1111111111111111,
                            "#46039f"
                          ],
                          [
                            0.2222222222222222,
                            "#7201a8"
                          ],
                          [
                            0.3333333333333333,
                            "#9c179e"
                          ],
                          [
                            0.4444444444444444,
                            "#bd3786"
                          ],
                          [
                            0.5555555555555556,
                            "#d8576b"
                          ],
                          [
                            0.6666666666666666,
                            "#ed7953"
                          ],
                          [
                            0.7777777777777778,
                            "#fb9f3a"
                          ],
                          [
                            0.8888888888888888,
                            "#fdca26"
                          ],
                          [
                            1,
                            "#f0f921"
                          ]
                        ],
                        "type": "histogram2dcontour"
                      }
                    ],
                    "mesh3d": [
                      {
                        "colorbar": {
                          "outlinewidth": 0,
                          "ticks": ""
                        },
                        "type": "mesh3d"
                      }
                    ],
                    "parcoords": [
                      {
                        "line": {
                          "colorbar": {
                            "outlinewidth": 0,
                            "ticks": ""
                          }
                        },
                        "type": "parcoords"
                      }
                    ],
                    "pie": [
                      {
                        "automargin": true,
                        "type": "pie"
                      }
                    ],
                    "scatter": [
                      {
                        "fillpattern": {
                          "fillmode": "overlay",
                          "size": 10,
                          "solidity": 0.2
                        },
                        "type": "scatter"
                      }
                    ],
                    "scatter3d": [
                      {
                        "line": {
                          "colorbar": {
                            "outlinewidth": 0,
                            "ticks": ""
                          }
                        },
                        "marker": {
                          "colorbar": {
                            "outlinewidth": 0,
                            "ticks": ""
                          }
                        },
                        "type": "scatter3d"
                      }
                    ],
                    "scattercarpet": [
                      {
                        "marker": {
                          "colorbar": {
                            "outlinewidth": 0,
                            "ticks": ""
                          }
                        },
                        "type": "scattercarpet"
                      }
                    ],
                    "scattergeo": [
                      {
                        "marker": {
                          "colorbar": {
                            "outlinewidth": 0,
                            "ticks": ""
                          }
                        },
                        "type": "scattergeo"
                      }
                    ],
                    "scattergl": [
                      {
                        "marker": {
                          "colorbar": {
                            "outlinewidth": 0,
                            "ticks": ""
                          }
                        },
                        "type": "scattergl"
                      }
                    ],
                    "scattermapbox": [
                      {
                        "marker": {
                          "colorbar": {
                            "outlinewidth": 0,
                            "ticks": ""
                          }
                        },
                        "type": "scattermapbox"
                      }
                    ],
                    "scatterpolar": [
                      {
                        "marker": {
                          "colorbar": {
                            "outlinewidth": 0,
                            "ticks": ""
                          }
                        },
                        "type": "scatterpolar"
                      }
                    ],
                    "scatterpolargl": [
                      {
                        "marker": {
                          "colorbar": {
                            "outlinewidth": 0,
                            "ticks": ""
                          }
                        },
                        "type": "scatterpolargl"
                      }
                    ],
                    "scatterternary": [
                      {
                        "marker": {
                          "colorbar": {
                            "outlinewidth": 0,
                            "ticks": ""
                          }
                        },
                        "type": "scatterternary"
                      }
                    ],
                    "surface": [
                      {
                        "colorbar": {
                          "outlinewidth": 0,
                          "ticks": ""
                        },
                        "colorscale": [
                          [
                            0,
                            "#0d0887"
                          ],
                          [
                            0.1111111111111111,
                            "#46039f"
                          ],
                          [
                            0.2222222222222222,
                            "#7201a8"
                          ],
                          [
                            0.3333333333333333,
                            "#9c179e"
                          ],
                          [
                            0.4444444444444444,
                            "#bd3786"
                          ],
                          [
                            0.5555555555555556,
                            "#d8576b"
                          ],
                          [
                            0.6666666666666666,
                            "#ed7953"
                          ],
                          [
                            0.7777777777777778,
                            "#fb9f3a"
                          ],
                          [
                            0.8888888888888888,
                            "#fdca26"
                          ],
                          [
                            1,
                            "#f0f921"
                          ]
                        ],
                        "type": "surface"
                      }
                    ],
                    "table": [
                      {
                        "cells": {
                          "fill": {
                            "color": "#EBF0F8"
                          },
                          "line": {
                            "color": "white"
                          }
                        },
                        "header": {
                          "fill": {
                            "color": "#C8D4E3"
                          },
                          "line": {
                            "color": "white"
                          }
                        },
                        "type": "table"
                      }
                    ]
                  },
                  "layout": {
                    "annotationdefaults": {
                      "arrowcolor": "#2a3f5f",
                      "arrowhead": 0,
                      "arrowwidth": 1
                    },
                    "autotypenumbers": "strict",
                    "coloraxis": {
                      "colorbar": {
                        "outlinewidth": 0,
                        "ticks": ""
                      }
                    },
                    "colorscale": {
                      "diverging": [
                        [
                          0,
                          "#8e0152"
                        ],
                        [
                          0.1,
                          "#c51b7d"
                        ],
                        [
                          0.2,
                          "#de77ae"
                        ],
                        [
                          0.3,
                          "#f1b6da"
                        ],
                        [
                          0.4,
                          "#fde0ef"
                        ],
                        [
                          0.5,
                          "#f7f7f7"
                        ],
                        [
                          0.6,
                          "#e6f5d0"
                        ],
                        [
                          0.7,
                          "#b8e186"
                        ],
                        [
                          0.8,
                          "#7fbc41"
                        ],
                        [
                          0.9,
                          "#4d9221"
                        ],
                        [
                          1,
                          "#276419"
                        ]
                      ],
                      "sequential": [
                        [
                          0,
                          "#0d0887"
                        ],
                        [
                          0.1111111111111111,
                          "#46039f"
                        ],
                        [
                          0.2222222222222222,
                          "#7201a8"
                        ],
                        [
                          0.3333333333333333,
                          "#9c179e"
                        ],
                        [
                          0.4444444444444444,
                          "#bd3786"
                        ],
                        [
                          0.5555555555555556,
                          "#d8576b"
                        ],
                        [
                          0.6666666666666666,
                          "#ed7953"
                        ],
                        [
                          0.7777777777777778,
                          "#fb9f3a"
                        ],
                        [
                          0.8888888888888888,
                          "#fdca26"
                        ],
                        [
                          1,
                          "#f0f921"
                        ]
                      ],
                      "sequentialminus": [
                        [
                          0,
                          "#0d0887"
                        ],
                        [
                          0.1111111111111111,
                          "#46039f"
                        ],
                        [
                          0.2222222222222222,
                          "#7201a8"
                        ],
                        [
                          0.3333333333333333,
                          "#9c179e"
                        ],
                        [
                          0.4444444444444444,
                          "#bd3786"
                        ],
                        [
                          0.5555555555555556,
                          "#d8576b"
                        ],
                        [
                          0.6666666666666666,
                          "#ed7953"
                        ],
                        [
                          0.7777777777777778,
                          "#fb9f3a"
                        ],
                        [
                          0.8888888888888888,
                          "#fdca26"
                        ],
                        [
                          1,
                          "#f0f921"
                        ]
                      ]
                    },
                    "colorway": [
                      "#636efa",
                      "#EF553B",
                      "#00cc96",
                      "#ab63fa",
                      "#FFA15A",
                      "#19d3f3",
                      "#FF6692",
                      "#B6E880",
                      "#FF97FF",
                      "#FECB52"
                    ],
                    "font": {
                      "color": "#2a3f5f"
                    },
                    "geo": {
                      "bgcolor": "white",
                      "lakecolor": "white",
                      "landcolor": "#E5ECF6",
                      "showlakes": true,
                      "showland": true,
                      "subunitcolor": "white"
                    },
                    "hoverlabel": {
                      "align": "left"
                    },
                    "hovermode": "closest",
                    "mapbox": {
                      "style": "light"
                    },
                    "paper_bgcolor": "white",
                    "plot_bgcolor": "#E5ECF6",
                    "polar": {
                      "angularaxis": {
                        "gridcolor": "white",
                        "linecolor": "white",
                        "ticks": ""
                      },
                      "bgcolor": "#E5ECF6",
                      "radialaxis": {
                        "gridcolor": "white",
                        "linecolor": "white",
                        "ticks": ""
                      }
                    },
                    "scene": {
                      "xaxis": {
                        "backgroundcolor": "#E5ECF6",
                        "gridcolor": "white",
                        "gridwidth": 2,
                        "linecolor": "white",
                        "showbackground": true,
                        "ticks": "",
                        "zerolinecolor": "white"
                      },
                      "yaxis": {
                        "backgroundcolor": "#E5ECF6",
                        "gridcolor": "white",
                        "gridwidth": 2,
                        "linecolor": "white",
                        "showbackground": true,
                        "ticks": "",
                        "zerolinecolor": "white"
                      },
                      "zaxis": {
                        "backgroundcolor": "#E5ECF6",
                        "gridcolor": "white",
                        "gridwidth": 2,
                        "linecolor": "white",
                        "showbackground": true,
                        "ticks": "",
                        "zerolinecolor": "white"
                      }
                    },
                    "shapedefaults": {
                      "line": {
                        "color": "#2a3f5f"
                      }
                    },
                    "ternary": {
                      "aaxis": {
                        "gridcolor": "white",
                        "linecolor": "white",
                        "ticks": ""
                      },
                      "baxis": {
                        "gridcolor": "white",
                        "linecolor": "white",
                        "ticks": ""
                      },
                      "bgcolor": "#E5ECF6",
                      "caxis": {
                        "gridcolor": "white",
                        "linecolor": "white",
                        "ticks": ""
                      }
                    },
                    "title": {
                      "x": 0.05
                    },
                    "xaxis": {
                      "automargin": true,
                      "gridcolor": "white",
                      "linecolor": "white",
                      "ticks": "",
                      "title": {
                        "standoff": 15
                      },
                      "zerolinecolor": "white",
                      "zerolinewidth": 2
                    },
                    "yaxis": {
                      "automargin": true,
                      "gridcolor": "white",
                      "linecolor": "white",
                      "ticks": "",
                      "title": {
                        "standoff": 15
                      },
                      "zerolinecolor": "white",
                      "zerolinewidth": 2
                    }
                  }
                },
                "title": {
                  "text": "Top Streamed Spotify Songs"
                },
                "width": 950,
                "xaxis": {
                  "anchor": "y",
                  "domain": [
                    0,
                    0.45
                  ],
                  "title": {
                    "text": "Reproducciones"
                  }
                },
                "xaxis2": {
                  "anchor": "y2",
                  "domain": [
                    0.55,
                    1
                  ],
                  "title": {
                    "text": "Reproducciones"
                  }
                },
                "xaxis3": {
                  "anchor": "y3",
                  "domain": [
                    0,
                    0.45
                  ]
                },
                "xaxis4": {
                  "anchor": "y4",
                  "domain": [
                    0.55,
                    1
                  ],
                  "title": {
                    "text": "Coeficientes"
                  }
                },
                "yaxis": {
                  "anchor": "x",
                  "domain": [
                    0.625,
                    1
                  ],
                  "title": {
                    "text": "Frecuencia"
                  }
                },
                "yaxis2": {
                  "anchor": "x2",
                  "domain": [
                    0.625,
                    1
                  ]
                },
                "yaxis3": {
                  "anchor": "x3",
                  "domain": [
                    0,
                    0.375
                  ]
                },
                "yaxis4": {
                  "anchor": "x4",
                  "domain": [
                    0,
                    0.375
                  ]
                }
              }
            }
          },
          "metadata": {},
          "output_type": "display_data"
        }
      ],
      "source": [
        "\n",
        "#g) Agrupa los 4 gráficos realizados en uno solo y haz una recomendación a un sello discográfico para producir un nuevo hit. **(1 puntos)**\n",
        "from plotly.subplots import make_subplots\n",
        "\n",
        "# Creo el objeto que me permite hacer 4 gráficas al mismo tiempo\n",
        "fig = make_subplots(rows = 2,\n",
        "                    cols = 2,\n",
        "                    subplot_titles=(\"Distribución reproducciones\", \"Diferencia #artistas\",\n",
        "                                    \"Correlaciones\",\n",
        "                                    \"Coeficientes\"))\n",
        "\n",
        "# Primer gráfico\n",
        "fig.add_trace(\n",
        "    go.Histogram(\n",
        "        x=df['streams'],\n",
        "        histnorm='probability'\n",
        "    ),\n",
        "    row = 1,\n",
        "    col = 1\n",
        ")\n",
        "\n",
        "# Segundo gráfico\n",
        "fig.add_trace(\n",
        "    go.Box(\n",
        "        x = df[df['features'] == True][\"streams\"],\n",
        "        marker_color = \"gold\",\n",
        "        name = \"Más de dos\",\n",
        "        boxpoints='all',\n",
        "        boxmean=True\n",
        "    ),\n",
        "    row = 1,\n",
        "    col = 2\n",
        ")\n",
        "\n",
        "fig.add_trace(\n",
        "    go.Box(\n",
        "        x = df[df['features'] == False][\"streams\"],\n",
        "        marker_color = \"mediumseagreen\",\n",
        "        name = \"Un solo artista\",\n",
        "        boxpoints='all',\n",
        "        boxmean=True\n",
        "    ),\n",
        "    row = 1,\n",
        "    col = 2\n",
        ")\n",
        "\n",
        "# Tercer gráfico\n",
        "fig.add_trace(\n",
        "    go.Heatmap(\n",
        "        z=df_corr.corr().to_numpy(),\n",
        "        x=df_corr.corr().columns,\n",
        "        y=df_corr.corr().columns\n",
        "    ),\n",
        "    row = 2,\n",
        "    col = 1\n",
        ")\n",
        "\n",
        "# Cuarto gráfico\n",
        "fig.add_trace(\n",
        "    go.Bar(\n",
        "        x = coefficients,\n",
        "        y = objects,\n",
        "        orientation='h'\n",
        "    ),\n",
        "    row = 2,\n",
        "    col = 2\n",
        ")\n",
        "\n",
        "# Modifico las dimensiones totales y el titulo global\n",
        "fig.update_layout(width = 950, height = 950, title = \"Top Streamed Spotify Songs\", bargap = 0.1)\n",
        "fig.update_xaxes(title_text = \"Reproducciones\", row = 1, col = 1)\n",
        "fig.update_yaxes(title_text = \"Frecuencia\", row = 1, col = 1)\n",
        "fig.update_xaxes(title_text = \"Reproducciones\", row = 1, col = 2)\n",
        "fig.update_xaxes(title_text = \"Coeficientes\", row = 2, col = 2)\n",
        "\n",
        "fig.show()\n"
      ]
    }
  ],
  "metadata": {
    "colab": {
      "provenance": []
    },
    "kernelspec": {
      "display_name": "Python 3",
      "name": "python3"
    },
    "language_info": {
      "codemirror_mode": {
        "name": "ipython",
        "version": 3
      },
      "file_extension": ".py",
      "mimetype": "text/x-python",
      "name": "python",
      "nbconvert_exporter": "python",
      "pygments_lexer": "ipython3",
      "version": "3.11.5"
    }
  },
  "nbformat": 4,
  "nbformat_minor": 0
}
