{
  "nbformat": 4,
  "nbformat_minor": 0,
  "metadata": {
    "colab": {
      "provenance": [],
      "authorship_tag": "ABX9TyMLlXXXZYefu9X76c3j6CZH",
      "include_colab_link": true
    },
    "kernelspec": {
      "name": "python3",
      "display_name": "Python 3"
    },
    "language_info": {
      "name": "python"
    }
  },
  "cells": [
    {
      "cell_type": "markdown",
      "metadata": {
        "id": "view-in-github",
        "colab_type": "text"
      },
      "source": [
        "<a href=\"https://colab.research.google.com/github/SaltyYagi123/davd-YagoTobio/blob/main/Set_de_Ejercicios_1_DAVD.ipynb\" target=\"_parent\"><img src=\"https://colab.research.google.com/assets/colab-badge.svg\" alt=\"Open In Colab\"/></a>"
      ]
    },
    {
      "cell_type": "code",
      "execution_count": null,
      "metadata": {
        "colab": {
          "base_uri": "https://localhost:8080/"
        },
        "id": "kET0Ib20I21N",
        "outputId": "bf5b93c2-c819-4a96-faad-b07d4f098b1d"
      },
      "outputs": [
        {
          "output_type": "stream",
          "name": "stdout",
          "text": [
            "05-09-2023 17:00:00\n",
            "12-09-2023 17:00:00\n",
            "19-09-2023 17:00:00\n",
            "26-09-2023 17:00:00\n",
            "03-10-2023 17:00:00\n",
            "10-10-2023 17:00:00\n",
            "17-10-2023 17:00:00\n",
            "24-10-2023 17:00:00\n",
            "31-10-2023 17:00:00\n",
            "07-11-2023 17:00:00\n",
            "14-11-2023 17:00:00\n",
            "21-11-2023 17:00:00\n",
            "28-11-2023 17:00:00\n"
          ]
        }
      ],
      "source": [
        "from datetime import datetime, timedelta, time\n",
        "\n",
        "#Fechas de inicio y finalización de las clases\n",
        "fecha_inicio = datetime.combine(datetime(2023, 9, 5), time(17,0))\n",
        "fecha_final = datetime.combine(datetime(2023, 11, 29), time(17,0))\n",
        "\n",
        "# Lista para guardar las fechas y las horas de clase\n",
        "fechas_clases = []\n",
        "\n",
        "# Lista de festivos (MM-DD)\n",
        "festivos = ['10-12', '11-01', '11-09', '12-06', '25-12']\n",
        "\n",
        "fecha_actual = fecha_inicio\n",
        "while fecha_actual <= fecha_final:\n",
        "  str_fecha = fecha_actual.strftime('%m-%d')\n",
        "  if str_fecha not in festivos:\n",
        "    fechas_clases.append(fecha_actual)\n",
        "\n",
        "  fecha_actual += timedelta(days=7)\n",
        "  fecha_actual = datetime.combine(fecha_actual.date(), time(17,0))\n",
        "\n",
        "\n",
        "for fecha in fechas_clases:\n",
        "  print(fecha.strftime(\"%d-%m-%Y %H:%M:%S\"))"
      ]
    },
    {
      "cell_type": "markdown",
      "source": [
        "E2: Crear un función\n",
        "Crea una función para efectuar el producto real de dos matrices."
      ],
      "metadata": {
        "id": "7vAvXLRULQkw"
      }
    },
    {
      "cell_type": "code",
      "source": [
        "def matrix_multiply(A,B):\n",
        "  rows_A, cols_A = len(A), len(A[0])\n",
        "  rows_B, cols_B = len(B), len(B[0])\n",
        "\n",
        "  # Comprobamos si las matrices se pueden multiplicar:\n",
        "  if cols_A != rows_B:\n",
        "    return \"Esta matriz no se puede multiplicar\"\n",
        "\n",
        "  # Inicializamos la matriz resultado con ceros\n",
        "  # Esto es un nested for loop\n",
        "  C = [[0 for _ in range(cols_B)] for _ in range(rows_A)]\n",
        "\n",
        "  #Ahora calculamos el producto\n",
        "  for i in range(rows_A):\n",
        "    for j in range(cols_B):\n",
        "      for k in range(cols_A):\n",
        "        C[i][j] += A[i][k] * B[k][j]\n",
        "\n",
        "  return C\n",
        "\n",
        "  # Test the function\n",
        "A = [\n",
        "    [1, 2],\n",
        "    [3, 4]\n",
        "]\n",
        "B = [\n",
        "    [2, 0],\n",
        "    [1, 2]\n",
        "]\n",
        "\n",
        "result = matrix_multiply(A, B)\n",
        "print(\"The product of A and B is:\", result)"
      ],
      "metadata": {
        "id": "ycm3qqk-LawY",
        "colab": {
          "base_uri": "https://localhost:8080/"
        },
        "outputId": "3631f382-58c9-4679-f050-cfaa5a47f550"
      },
      "execution_count": 6,
      "outputs": [
        {
          "output_type": "stream",
          "name": "stdout",
          "text": [
            "The product of A and B is: [[4, 4], [10, 8]]\n"
          ]
        }
      ]
    },
    {
      "cell_type": "markdown",
      "source": [
        "E3: Define una clase de números complejos cuyos métodos sean, al menos, el modulo y el argumento.\n",
        "\n",
        "E4: A parte de los metodos que ya has añadido. Asegurate de añadir las funciones de dividir y subtraer. Para obtener las funciones completas."
      ],
      "metadata": {
        "id": "SL0WwqT_UCp0"
      }
    },
    {
      "cell_type": "code",
      "source": [
        "import math\n",
        "\n",
        "class Numero_Complejo:\n",
        "  def __init__(self, real, imaginary):\n",
        "    self.real = real\n",
        "    self.imaginary = imaginary\n",
        "\n",
        "  def __str__(self):\n",
        "    return f\"{self.real} + {self.imaginary}j\"\n",
        "\n",
        "  def modulus(self):\n",
        "    return math.sqrt(self.real**2 + self.imaginary**2)\n",
        "\n",
        "  def argument(self):\n",
        "    return math.atan2(self.imaginary, self.real)\n",
        "\n",
        "  def add(self, other):\n",
        "    return Numero_Complejo(self.real + other.real, self.imaginary + other.imaginary)\n",
        "\n",
        "  def subtract(self, other):\n",
        "    return Numero_Complejo(self.real - other.real, self.imaginary - other.imaginary)\n",
        "\n",
        "  def division(self, other):\n",
        "    real_num = (self.real * other.real) + (self.imaginary * other.imaginary)\n",
        "    imaginary_num = (self.imaginary  * other.real) - (self.real * other.imaginary)\n",
        "    denum = (other.real ** 2) + (other.imaginary ** 2)\n",
        "\n",
        "    if (denum) == 0:\n",
        "      return \"Numero complejo no puede dividrse entre 0\"\n",
        "\n",
        "  def multiply(self, other):\n",
        "    real_part = self.real * other.real - self.imaginary*other.imaginary\n",
        "    imaginary_part = self.real * other.imaginary + self.imaginary*other.real\n",
        "    return Numero_Complejo(real_part, imaginary_part)\n",
        "\n",
        "c1 = Numero_Complejo(3,4)\n",
        "c2 = Numero_Complejo(1,2)\n",
        "\n",
        "print(\"Numero complejo c1:\", c1)\n",
        "print(\"Numero complejo c2:\", c2)\n",
        "\n",
        "multip = c1.multiply(c2)\n",
        "print(f\"Modulo: {c1.modulus()}\")\n",
        "print(f\"Argumento: {c1.argument()}\")\n",
        "print(f\"Suma: {c1.add(c2)}\")\n",
        "print(f\"Numero complejo: {multip}\")\n",
        "print(f\"Resta: {c1.subtract(c2)}\")\n",
        "print(f\"Division: {c1.division(c2)}\")"
      ],
      "metadata": {
        "colab": {
          "base_uri": "https://localhost:8080/"
        },
        "id": "aUNbwkYSULkq",
        "outputId": "faa07bcb-fb60-4b3a-ecf2-50847788bf5a"
      },
      "execution_count": 3,
      "outputs": [
        {
          "output_type": "stream",
          "name": "stdout",
          "text": [
            "Numero complejo c1: 3 + 4j\n",
            "Numero complejo c2: 1 + 2j\n",
            "Modulo: 5.0\n",
            "Argumento: 0.9272952180016122\n",
            "Suma: 4 + 6j\n",
            "Numero complejo: -5 + 10j\n",
            "Resta: 2 + 2j\n",
            "Division: None\n"
          ]
        }
      ]
    },
    {
      "cell_type": "markdown",
      "source": [
        "E5: Blackjack\n",
        "Implementa un programa de Blackjack (http://en.wikipedia.org/wiki/Blackjack) basado en texto con Python.\n",
        "\n",
        "Hay un jugador y un crupier.\n",
        "\n",
        "El crupier pide hasta que el valor de su mano sea 17 o más.\n",
        "\n",
        "Implementa las acciones básicas de golpear y pararse.\n",
        "\n",
        "El jugador comienza con 100 fichas y debe apostar al menos 1 ficha en cada mano."
      ],
      "metadata": {
        "id": "aPMKtk8UbMJq"
      }
    },
    {
      "cell_type": "code",
      "source": [
        "import random\n",
        "\n",
        "INITIAL_CHIPS = 100\n",
        "CARD_VALUES = [2, 3, 4, 5, 6, 7, 8, 9, 10, 10, 10, 10, 11]\n",
        "\n",
        "def deal_card():\n",
        "    return random.choice(CARD_VALUES)\n",
        "\n",
        "def calculate_score(hand):\n",
        "    score = sum(hand)\n",
        "    if score == 21 and len(hand) == 2:\n",
        "        return 0  # Blackjack\n",
        "    if 11 in hand and score > 21:\n",
        "        hand.remove(11)\n",
        "        hand.append(1)\n",
        "    return sum(hand)\n",
        "\n",
        "def is_game_over(player_score, dealer_score):\n",
        "    return player_score == 0 or dealer_score == 0 or player_score > 21\n",
        "\n",
        "def handle_bet(chips):\n",
        "    bet = int(input(f\"You have {chips} chips. How many would you like to bet? (Minimum 1): \"))\n",
        "    return max(bet, 1)\n",
        "\n",
        "def main():\n",
        "    num_chips = INITIAL_CHIPS\n",
        "\n",
        "    while num_chips > 0:\n",
        "        player_hand = [deal_card() for _ in range(2)]\n",
        "        dealer_hand = [deal_card() for _ in range(2)]\n",
        "\n",
        "        bet = handle_bet(num_chips)\n",
        "\n",
        "        game_over = False\n",
        "\n",
        "        while not game_over:\n",
        "            player_score = calculate_score(player_hand)\n",
        "            dealer_score = calculate_score(dealer_hand)\n",
        "\n",
        "            print(f\"Your cards: {player_hand}, current score: {player_score}\")\n",
        "            print(f\"Dealer's first card: {dealer_hand[0]}\")\n",
        "\n",
        "            game_over = is_game_over(player_score, dealer_score)\n",
        "            if not game_over:\n",
        "                should_continue = input(\"Type 'y' to get another card, type 'n' to pass: \")\n",
        "                if should_continue == 'y':\n",
        "                    player_hand.append(deal_card())\n",
        "                    game_over = is_game_over(player_score, dealer_score)\n",
        "\n",
        "        # Dealer's turn\n",
        "        while dealer_score < 17 and dealer_score != 0:\n",
        "            dealer_hand.append(deal_card())\n",
        "            dealer_score = calculate_score(dealer_hand)\n",
        "\n",
        "        print(f\"Your final hand: {player_hand}, final score: {player_score}\")\n",
        "        print(f\"Dealer's final hand: {dealer_hand}, final score: {dealer_score}\")\n",
        "\n",
        "        if player_score > 21:\n",
        "            print(\"You went over. You lose.\")\n",
        "            num_chips -= bet\n",
        "        elif dealer_score > 21:\n",
        "            print(\"Dealer went over. You win!\")\n",
        "            num_chips += bet\n",
        "        elif player_score == 21:\n",
        "            print(\"You got 21. You win!\")\n",
        "            num_chips += bet\n",
        "        elif dealer_score == 21:\n",
        "            print(\"Dealer got 21. You lose.\")\n",
        "            num_chips -= bet\n",
        "        elif player_score == dealer_score:\n",
        "            print(\"It's a draw.\")\n",
        "        elif player_score == 0:\n",
        "            print(\"Blackjack! You win!\")\n",
        "            num_chips += int(1.5 * bet)\n",
        "        elif dealer_score == 0:\n",
        "            print(\"Dealer has Blackjack. You lose.\")\n",
        "            num_chips -= bet\n",
        "        elif player_score > dealer_score:\n",
        "            print(\"You win!\")\n",
        "            num_chips += bet\n",
        "        else:\n",
        "            print(\"You lose.\")\n",
        "            num_chips -= bet\n",
        "\n",
        "        if num_chips <= 0:\n",
        "            print(\"You've run out of chips. Game over.\")\n",
        "            break\n",
        "\n",
        "        play_again = input(\"Do you want to play another round? Type 'y' or 'n': \")\n",
        "        if play_again == 'n':\n",
        "            break\n",
        "\n",
        "    print(f\"You've ended the game with {num_chips} chips.\")\n",
        "\n",
        "if __name__ == \"__main__\":\n",
        "    main()\n"
      ],
      "metadata": {
        "colab": {
          "base_uri": "https://localhost:8080/",
          "height": 355
        },
        "id": "7T4hrheea7sf",
        "outputId": "eaf9f319-8545-4e60-e047-3714dcf93297"
      },
      "execution_count": 6,
      "outputs": [
        {
          "output_type": "error",
          "ename": "KeyboardInterrupt",
          "evalue": "ignored",
          "traceback": [
            "\u001b[0;31m---------------------------------------------------------------------------\u001b[0m",
            "\u001b[0;31mKeyboardInterrupt\u001b[0m                         Traceback (most recent call last)",
            "\u001b[0;32m<ipython-input-6-172de6b3bd3e>\u001b[0m in \u001b[0;36m<cell line: 95>\u001b[0;34m()\u001b[0m\n\u001b[1;32m     94\u001b[0m \u001b[0;34m\u001b[0m\u001b[0m\n\u001b[1;32m     95\u001b[0m \u001b[0;32mif\u001b[0m \u001b[0m__name__\u001b[0m \u001b[0;34m==\u001b[0m \u001b[0;34m\"__main__\"\u001b[0m\u001b[0;34m:\u001b[0m\u001b[0;34m\u001b[0m\u001b[0;34m\u001b[0m\u001b[0m\n\u001b[0;32m---> 96\u001b[0;31m     \u001b[0mmain\u001b[0m\u001b[0;34m(\u001b[0m\u001b[0;34m)\u001b[0m\u001b[0;34m\u001b[0m\u001b[0;34m\u001b[0m\u001b[0m\n\u001b[0m",
            "\u001b[0;32m<ipython-input-6-172de6b3bd3e>\u001b[0m in \u001b[0;36mmain\u001b[0;34m()\u001b[0m\n\u001b[1;32m     30\u001b[0m         \u001b[0mdealer_hand\u001b[0m \u001b[0;34m=\u001b[0m \u001b[0;34m[\u001b[0m\u001b[0mdeal_card\u001b[0m\u001b[0;34m(\u001b[0m\u001b[0;34m)\u001b[0m \u001b[0;32mfor\u001b[0m \u001b[0m_\u001b[0m \u001b[0;32min\u001b[0m \u001b[0mrange\u001b[0m\u001b[0;34m(\u001b[0m\u001b[0;36m2\u001b[0m\u001b[0;34m)\u001b[0m\u001b[0;34m]\u001b[0m\u001b[0;34m\u001b[0m\u001b[0;34m\u001b[0m\u001b[0m\n\u001b[1;32m     31\u001b[0m \u001b[0;34m\u001b[0m\u001b[0m\n\u001b[0;32m---> 32\u001b[0;31m         \u001b[0mbet\u001b[0m \u001b[0;34m=\u001b[0m \u001b[0mhandle_bet\u001b[0m\u001b[0;34m(\u001b[0m\u001b[0mnum_chips\u001b[0m\u001b[0;34m)\u001b[0m\u001b[0;34m\u001b[0m\u001b[0;34m\u001b[0m\u001b[0m\n\u001b[0m\u001b[1;32m     33\u001b[0m \u001b[0;34m\u001b[0m\u001b[0m\n\u001b[1;32m     34\u001b[0m         \u001b[0mgame_over\u001b[0m \u001b[0;34m=\u001b[0m \u001b[0;32mFalse\u001b[0m\u001b[0;34m\u001b[0m\u001b[0;34m\u001b[0m\u001b[0m\n",
            "\u001b[0;32m<ipython-input-6-172de6b3bd3e>\u001b[0m in \u001b[0;36mhandle_bet\u001b[0;34m(chips)\u001b[0m\n\u001b[1;32m     20\u001b[0m \u001b[0;34m\u001b[0m\u001b[0m\n\u001b[1;32m     21\u001b[0m \u001b[0;32mdef\u001b[0m \u001b[0mhandle_bet\u001b[0m\u001b[0;34m(\u001b[0m\u001b[0mchips\u001b[0m\u001b[0;34m)\u001b[0m\u001b[0;34m:\u001b[0m\u001b[0;34m\u001b[0m\u001b[0;34m\u001b[0m\u001b[0m\n\u001b[0;32m---> 22\u001b[0;31m     \u001b[0mbet\u001b[0m \u001b[0;34m=\u001b[0m \u001b[0mint\u001b[0m\u001b[0;34m(\u001b[0m\u001b[0minput\u001b[0m\u001b[0;34m(\u001b[0m\u001b[0;34mf\"You have {chips} chips. How many would you like to bet? (Minimum 1): \"\u001b[0m\u001b[0;34m)\u001b[0m\u001b[0;34m)\u001b[0m\u001b[0;34m\u001b[0m\u001b[0;34m\u001b[0m\u001b[0m\n\u001b[0m\u001b[1;32m     23\u001b[0m     \u001b[0;32mreturn\u001b[0m \u001b[0mmax\u001b[0m\u001b[0;34m(\u001b[0m\u001b[0mbet\u001b[0m\u001b[0;34m,\u001b[0m \u001b[0;36m1\u001b[0m\u001b[0;34m)\u001b[0m\u001b[0;34m\u001b[0m\u001b[0;34m\u001b[0m\u001b[0m\n\u001b[1;32m     24\u001b[0m \u001b[0;34m\u001b[0m\u001b[0m\n",
            "\u001b[0;32m/usr/local/lib/python3.10/dist-packages/ipykernel/kernelbase.py\u001b[0m in \u001b[0;36mraw_input\u001b[0;34m(self, prompt)\u001b[0m\n\u001b[1;32m    849\u001b[0m                 \u001b[0;34m\"raw_input was called, but this frontend does not support input requests.\"\u001b[0m\u001b[0;34m\u001b[0m\u001b[0;34m\u001b[0m\u001b[0m\n\u001b[1;32m    850\u001b[0m             )\n\u001b[0;32m--> 851\u001b[0;31m         return self._input_request(str(prompt),\n\u001b[0m\u001b[1;32m    852\u001b[0m             \u001b[0mself\u001b[0m\u001b[0;34m.\u001b[0m\u001b[0m_parent_ident\u001b[0m\u001b[0;34m,\u001b[0m\u001b[0;34m\u001b[0m\u001b[0;34m\u001b[0m\u001b[0m\n\u001b[1;32m    853\u001b[0m             \u001b[0mself\u001b[0m\u001b[0;34m.\u001b[0m\u001b[0m_parent_header\u001b[0m\u001b[0;34m,\u001b[0m\u001b[0;34m\u001b[0m\u001b[0;34m\u001b[0m\u001b[0m\n",
            "\u001b[0;32m/usr/local/lib/python3.10/dist-packages/ipykernel/kernelbase.py\u001b[0m in \u001b[0;36m_input_request\u001b[0;34m(self, prompt, ident, parent, password)\u001b[0m\n\u001b[1;32m    893\u001b[0m             \u001b[0;32mexcept\u001b[0m \u001b[0mKeyboardInterrupt\u001b[0m\u001b[0;34m:\u001b[0m\u001b[0;34m\u001b[0m\u001b[0;34m\u001b[0m\u001b[0m\n\u001b[1;32m    894\u001b[0m                 \u001b[0;31m# re-raise KeyboardInterrupt, to truncate traceback\u001b[0m\u001b[0;34m\u001b[0m\u001b[0;34m\u001b[0m\u001b[0m\n\u001b[0;32m--> 895\u001b[0;31m                 \u001b[0;32mraise\u001b[0m \u001b[0mKeyboardInterrupt\u001b[0m\u001b[0;34m(\u001b[0m\u001b[0;34m\"Interrupted by user\"\u001b[0m\u001b[0;34m)\u001b[0m \u001b[0;32mfrom\u001b[0m \u001b[0;32mNone\u001b[0m\u001b[0;34m\u001b[0m\u001b[0;34m\u001b[0m\u001b[0m\n\u001b[0m\u001b[1;32m    896\u001b[0m             \u001b[0;32mexcept\u001b[0m \u001b[0mException\u001b[0m \u001b[0;32mas\u001b[0m \u001b[0me\u001b[0m\u001b[0;34m:\u001b[0m\u001b[0;34m\u001b[0m\u001b[0;34m\u001b[0m\u001b[0m\n\u001b[1;32m    897\u001b[0m                 \u001b[0mself\u001b[0m\u001b[0;34m.\u001b[0m\u001b[0mlog\u001b[0m\u001b[0;34m.\u001b[0m\u001b[0mwarning\u001b[0m\u001b[0;34m(\u001b[0m\u001b[0;34m\"Invalid Message:\"\u001b[0m\u001b[0;34m,\u001b[0m \u001b[0mexc_info\u001b[0m\u001b[0;34m=\u001b[0m\u001b[0;32mTrue\u001b[0m\u001b[0;34m)\u001b[0m\u001b[0;34m\u001b[0m\u001b[0;34m\u001b[0m\u001b[0m\n",
            "\u001b[0;31mKeyboardInterrupt\u001b[0m: Interrupted by user"
          ]
        }
      ]
    }
  ]
}